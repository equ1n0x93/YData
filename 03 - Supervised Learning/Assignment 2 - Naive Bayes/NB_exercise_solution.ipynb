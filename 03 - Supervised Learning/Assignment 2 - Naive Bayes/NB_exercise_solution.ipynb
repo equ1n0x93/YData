{
  "cells": [
    {
      "cell_type": "markdown",
      "metadata": {
        "id": "Uq_3t_tluNmU"
      },
      "source": [
        "# Naive Bayes"
      ]
    },
    {
      "cell_type": "markdown",
      "metadata": {
        "id": "TQVMUZkQHlm2"
      },
      "source": [
        "## 1. Classifying Digits\n",
        "In this part we will test digits classification on the MNIST dataset, using Bernoulli Naive Bayes (a generative model).\n",
        "\n",
        "The MNIST dataset contains 28x28 grayscale images of handwritten digits between 0 and 9 (10 classes). For mathmatical analysis clarity, and for matching expected API, flatten each image to create a 1D array with 784 elements."
      ]
    },
    {
      "cell_type": "markdown",
      "metadata": {
        "id": "Cjwjk6pzLE-y"
      },
      "source": [
        "### Loading the MNIST dataset\n",
        "Load the MNIST data set. The digits dataset is one of datasets scikit-learn comes with that do not require the downloading of any file from some external website. Use \n",
        ">```\n",
        "mnist = sklearn.datasets.fetch_mldata('MNIST original')\n",
        "```\n",
        "\n",
        "to fetch the original data. You may set the `data_home` to where you wish to download your data for caching. Each image is already transformed into a 1D integer array $x\\in [0,255]^{784}$, and the corresponding label is an integer $y\\in [0,9]$.\n",
        "\n",
        "Plot a single sample of each digit as the original image, so you get a feeling how the data looks like.\n",
        "\n",
        "Finally, divide your data into train and test sets, using 1/7 of the data for testing.\n",
        "\n",
        "---\n",
        "**Note 1:** Using `digits = sklearn.datasets.load_digits()` will only fetch a very small sample of the original set, with images resized to 8x8. This preprocessing of the data reduces dimensionality and gives invariance to small distortions - however, we will use the original data in this exercise. Feel free to test the proformance of the algorithms below on the preprocessed data as well.\n",
        "\n",
        "**Note 2:**\n",
        "Since ML-Data is deprecated, you may wish to use something like this:\n",
        ">```\n",
        "from keras.datasets import mnist\n",
        "(x_train, y_train), (x_test, y_test) = mnist.load_data()\n",
        "x_train = x_train.reshape(x_train.shape[0], 784)\n",
        "x_test = x_test.reshape(x_test.shape[0], 784)\n",
        "  ```\n",
        "\n"
      ]
    },
    {
      "cell_type": "code",
      "execution_count": 1,
      "metadata": {
        "id": "05Om0QLxBvvT"
      },
      "outputs": [],
      "source": [
        "from keras.datasets import mnist\n",
        "import matplotlib.pyplot as plt\n",
        "import numpy as np\n",
        "import pandas as pd"
      ]
    },
    {
      "cell_type": "code",
      "execution_count": 2,
      "metadata": {},
      "outputs": [],
      "source": [
        "# (x_train, y_train), (x_test, y_test) = mnist.load_data()\n",
        "(x_train_orig, y_train_orig) , (x_test_orig, y_test_orig) = mnist.load_data()\n",
        "x_train_reshaped = x_train_orig.reshape(x_train_orig.shape[0], 784)\n",
        "x_test_reshaped = x_test_orig.reshape(x_test_orig.shape[0], 784)"
      ]
    },
    {
      "cell_type": "markdown",
      "metadata": {},
      "source": [
        "### Plotting a sample per digit from the dataset"
      ]
    },
    {
      "cell_type": "code",
      "execution_count": 3,
      "metadata": {},
      "outputs": [
        {
          "data": {
            "image/png": "[encoded data removed]",
            "text/plain": [
              "<Figure size 720x360 with 10 Axes>"
            ]
          },
          "metadata": {
            "needs_background": "light"
          },
          "output_type": "display_data"
        }
      ],
      "source": [
        "plt.figure(figsize=(10,5))\n",
        "\n",
        "for digit in range(10):\n",
        "    # Get relevant subplot\n",
        "    _ = plt.subplot(2, 5, digit+1)\n",
        "    \n",
        "    first_digit_idx = np.argmax(y_train_orig==digit)\n",
        "    plt.imshow(x_train_orig[first_digit_idx], cmap=plt.get_cmap('gray_r'))\n",
        "plt.show()"
      ]
    },
    {
      "cell_type": "markdown",
      "metadata": {},
      "source": [
        "### Divide the dataset using 1/7 split"
      ]
    },
    {
      "cell_type": "code",
      "execution_count": 4,
      "metadata": {},
      "outputs": [
        {
          "data": {
            "text/plain": [
              "((60000, 784), (10000, 784))"
            ]
          },
          "execution_count": 4,
          "metadata": {},
          "output_type": "execute_result"
        }
      ],
      "source": [
        "from sklearn.model_selection import train_test_split \n",
        "\n",
        "x_train_reshaped.shape, x_test_reshaped.shape"
      ]
    },
    {
      "cell_type": "markdown",
      "metadata": {},
      "source": [
        "Data is already split with test being 1/7 of the data, I did not re-split it."
      ]
    },
    {
      "cell_type": "code",
      "execution_count": 5,
      "metadata": {},
      "outputs": [],
      "source": [
        "x_train = x_train_reshaped\n",
        "x_test = x_test_reshaped\n",
        "y_train = y_train_orig\n",
        "y_test = y_test_orig"
      ]
    },
    {
      "cell_type": "markdown",
      "metadata": {
        "id": "WTGjjSKaFfE6"
      },
      "source": [
        "### Bernoulli Naive Bayes\n",
        "If we know how the digits are generated, then we know how to classify them (simply choose the digit class which will maximize the posterior probability) --- but which model should we use for describing the digits generation?\n",
        "\n",
        "In this part we will try a very simplified model of digits creation (which is obviously not the same as the \"real\" model), using a Naive Bayes over an underlying Bernoulli distribution --- that is, we will assume that given a digit class, the pixels of the images are the result of independent coin flips, each with its own \"head\" probability.\n",
        "\n",
        "Note that since we assume each pixl is either 0 (black) or 1 (white), we will need to adjust (preprocess) our data accrodingly (see below).\n",
        "\n",
        "So, the model is stated as follows:\n",
        "$$\n",
        "\\begin{align}\n",
        "\\text{Domain} && x \\in \\{0,1\\}^{784} \\\\\n",
        "\\text{Prior} && \\pi_j = \\Pr(y=j) \\\\\n",
        "\\text{Likelihood} && P_j(x) = \\Pr(x | y=j) \\\\\n",
        "\\end{align}\n",
        "$$\n",
        "\n",
        "Where for each $i\\in 0\\ldots 784$ it holds that\n",
        "$$\n",
        "P_{ji}(x_i) = \\Pr(x_i | y=j) =\n",
        "\\begin{cases}\n",
        "p_{ji} & \\text{if } x_i=1 \\\\\n",
        "1-p_{ji} & \\text{if } x_i=0 \\\\\n",
        "\\end{cases}\n",
        "$$\n"
      ]
    },
    {
      "cell_type": "markdown",
      "metadata": {
        "id": "WNjhD3IpL5bC"
      },
      "source": [
        "#### Question 1\n",
        "Write the classification rule based on this Naive Bayes model. \n",
        "How would you esitmate each of the parameters of the model based on the trainning data? \n",
        "\n",
        "\n",
        "**Bonus:** Think of edge cases which may effect your estimator in an undesired way."
      ]
    },
    {
      "cell_type": "markdown",
      "metadata": {
        "id": "0pN1prGcMqwZ"
      },
      "source": [
        "#### Answer 1\n",
        "\n",
        "**Prior**\n",
        "\n",
        "In our case, this is dicussing the probability of being a digit (overall), per digit j.\n",
        "In order to estimate it, I would sum the total labels of j and divide it by the total number of samples:\n",
        "\n",
        "$$\n",
        "\\begin{align}\n",
        "\\text{Prior} && \\pi_j = \\Pr(y=j) = \\dfrac{N_{class=j}}{N_{samples}} \\\\\n",
        "\\end{align}\n",
        "$$\n",
        "\n",
        "\n",
        "**Likelihood**\n",
        "\n",
        "The probability for specific data point (with set of features) given specific class.\n",
        "\n",
        "For example, in our case let's say we have a data point of picture with number 5, we can check what is the probability of been this data point if it's given that the class is 6.\n",
        "\n",
        "\n",
        "\n",
        "\n",
        "**Resulting posterior prob**\n",
        "\n",
        "The decision rule should be the class which maximzes the postrior $$P(y|x_{i}) = \\frac{P_{j}(x_{i})\\pi_j}{P(x_{i})} $$\n",
        "\n",
        "And Since the denominator is constant that does not depend on $y_{i} $, we can just maximze the numerator\n",
        "\n",
        "$$\\hat{y_{i}} = argmax_{j}\\;P_{j}(x_{i})\\pi_j $$\n",
        "\n",
        "\n",
        "Edge cases which may effect the classifier are images for digits which resemble other digits and thus similar liklihood (and higher compared to other 8 labels) nuder both labels. e.g 4/9, or 3/8."
      ]
    },
    {
      "cell_type": "markdown",
      "metadata": {
        "id": "nOnkgDIXTMCQ"
      },
      "source": [
        "#### Question 2\n",
        "Run a Naive Bayes classifier on the training data and apply predictions on the test data. Use the [sklearn.naive_bayes.BernoulliNB](http://scikit-learn.org/stable/modules/generated/sklearn.naive_bayes.BernoulliNB.html) implementation (see the [source code for sklearn.naive_bayes](https://github.com/scikit-learn/scikit-learn/blob/master/sklearn/naive_bayes.py) for details).\n",
        "\n",
        "Remember we need to preprocess the data in this case such that each pixel would become either black (0) or white (1). For this, use the `binarize` parameter of the implementation. Set this value to $0$ (this is the default), which in this case would mean every pixel with non-zero value will be set to 1.\n",
        "\n",
        "1. Plot the mean image of each class (estimated $\\hat{p}_{ji}$) and generate one sample of each class (remember, you can do this since this is a generative model). You will need to access the `feature_log_prob_` attribute of the trained model.\n",
        "\n",
        "2. Plot the confusion matrix of your classifier, as claculated on the test data (it is recommended to use [sklearn.metrics.confusion_matrix](http://scikit-learn.org/stable/modules/generated/sklearn.metrics.confusion_matrix.html)). Calculate the total accuracy (fraction of correctly classified images), and summarize the results in your own words.\n",
        "\n",
        "3. Think of a way you can find the optimal threshold of the binarization part. **There is no need to actually perform this task --- just describe what you would have done.**\n"
      ]
    },
    {
      "cell_type": "markdown",
      "metadata": {
        "id": "ZKdsdegDWaO_"
      },
      "source": [
        "#### Answer 2"
      ]
    },
    {
      "cell_type": "code",
      "execution_count": 6,
      "metadata": {},
      "outputs": [],
      "source": [
        "from sklearn.naive_bayes import BernoulliNB\n",
        "from sklearn.metrics import confusion_matrix"
      ]
    },
    {
      "cell_type": "code",
      "execution_count": 7,
      "metadata": {
        "id": "XalqjRWXWS-Y"
      },
      "outputs": [],
      "source": [
        "# Data preprocessing\n",
        "bnb = BernoulliNB(binarize=0.0)"
      ]
    },
    {
      "cell_type": "code",
      "execution_count": 8,
      "metadata": {},
      "outputs": [],
      "source": [
        "_ = bnb.fit(x_train, y_train)"
      ]
    },
    {
      "cell_type": "code",
      "execution_count": 9,
      "metadata": {},
      "outputs": [],
      "source": [
        "preds_train = bnb.predict(x_train)\n",
        "preds_test = bnb.predict(x_test)"
      ]
    },
    {
      "cell_type": "markdown",
      "metadata": {},
      "source": [
        "#### 1. Plot the mean image of each class and generate one sample per class"
      ]
    },
    {
      "cell_type": "code",
      "execution_count": 10,
      "metadata": {},
      "outputs": [
        {
          "data": {
            "text/plain": [
              "(10, 784)"
            ]
          },
          "execution_count": 10,
          "metadata": {},
          "output_type": "execute_result"
        }
      ],
      "source": [
        "bnb.feature_log_prob_.shape"
      ]
    },
    {
      "cell_type": "markdown",
      "metadata": {},
      "source": [
        "###### 1.1. Mean image per class"
      ]
    },
    {
      "cell_type": "code",
      "execution_count": 11,
      "metadata": {},
      "outputs": [
        {
          "data": {
            "image/png": "[encoded data removed]",
            "text/plain": [
              "<Figure size 720x360 with 10 Axes>"
            ]
          },
          "metadata": {
            "needs_background": "light"
          },
          "output_type": "display_data"
        }
      ],
      "source": [
        "plt.figure(figsize=(10,5))\n",
        "\n",
        "for digit in range(10):\n",
        "    # Get relevant subplot for the current digit\n",
        "    _ = plt.subplot(2, 5, digit+1) \n",
        "    \n",
        "    # Get the log of the probabillities per pixel for a given class\n",
        "    digit_pixel_log_probas = bnb.feature_log_prob_[digit]\n",
        "    # Evaluate the actual probability out of the log(probability)\n",
        "    digit_pixel_probas = np.exp(digit_pixel_log_probas)\n",
        "    # Get the color based on the raw probability value\n",
        "    mean_digit_pixels = (digit_pixel_probas).reshape((28, 28))\n",
        "    # Plotting the current digit\n",
        "    plt.imshow(mean_digit_pixels, cmap=plt.get_cmap('gray_r'))\n",
        "\n",
        "plt.show()"
      ]
    },
    {
      "cell_type": "markdown",
      "metadata": {},
      "source": [
        "###### 1.2. Generated sample per class"
      ]
    },
    {
      "cell_type": "code",
      "execution_count": 12,
      "metadata": {},
      "outputs": [
        {
          "data": {
            "image/png": "[encoded data removed]",
            "text/plain": [
              "<Figure size 720x360 with 10 Axes>"
            ]
          },
          "metadata": {
            "needs_background": "light"
          },
          "output_type": "display_data"
        }
      ],
      "source": [
        "# Function to generate images from predicted probabilities\n",
        "def generate_sample(feature_log_prob):\n",
        "    shape_n = feature_log_prob.shape[0]\n",
        "    # Sample uniform random number between 0-1 per pixel for the generated sample\n",
        "    random_nums = np.round(np.random.rand(784), 2)\n",
        "    pixels = np.zeros(shape_n)\n",
        "    \n",
        "    # Per random pixel value if the random value is smaller than the proba -> set pixel to black\n",
        "    for i in range(shape_n):\n",
        "        if random_nums[i] <= np.exp(feature_log_prob[i]):\n",
        "            pixels[i] = 1\n",
        "    return pixels\n",
        "\n",
        "\n",
        "# Generating and plotting the generated samples\n",
        "plt.figure(figsize=(10,5))\n",
        "\n",
        "for digit in range(10):\n",
        "    # Get relevant subplot for the current digit\n",
        "    _ = plt.subplot(2, 5, digit+1) \n",
        "    \n",
        "    # Get the log of the probabillities per pixel for a given class\n",
        "    digit_pixel_log_probas = bnb.feature_log_prob_[digit]\n",
        "    # Generate sample based on the log probabilities\n",
        "    generated_pixels = generate_sample(digit_pixel_log_probas).reshape((28,28))\n",
        "    # Plotting the current generated digit\n",
        "    plt.imshow(generated_pixels, cmap=plt.get_cmap('gray_r'))\n",
        "    \n",
        "plt.show()"
      ]
    },
    {
      "cell_type": "markdown",
      "metadata": {},
      "source": [
        "##### 2. Plotting the confusion matrix of the classifier & small analysis"
      ]
    },
    {
      "cell_type": "code",
      "execution_count": 13,
      "metadata": {},
      "outputs": [
        {
          "data": {
            "text/html": [
              "<div>\n",
              "<style scoped>\n",
              "    .dataframe tbody tr th:only-of-type {\n",
              "        vertical-align: middle;\n",
              "    }\n",
              "\n",
              "    .dataframe tbody tr th {\n",
              "        vertical-align: top;\n",
              "    }\n",
              "\n",
              "    .dataframe thead th {\n",
              "        text-align: right;\n",
              "    }\n",
              "</style>\n",
              "<table border=\"1\" class=\"dataframe\">\n",
              "  <thead>\n",
              "    <tr style=\"text-align: right;\">\n",
              "      <th></th>\n",
              "      <th>predicted_0</th>\n",
              "      <th>predicted_1</th>\n",
              "      <th>predicted_2</th>\n",
              "      <th>predicted_3</th>\n",
              "      <th>predicted_4</th>\n",
              "      <th>predicted_5</th>\n",
              "      <th>predicted_6</th>\n",
              "      <th>predicted_7</th>\n",
              "      <th>predicted_8</th>\n",
              "      <th>predicted_9</th>\n",
              "    </tr>\n",
              "  </thead>\n",
              "  <tbody>\n",
              "    <tr>\n",
              "      <th>0</th>\n",
              "      <td>887</td>\n",
              "      <td>0</td>\n",
              "      <td>4</td>\n",
              "      <td>7</td>\n",
              "      <td>2</td>\n",
              "      <td>41</td>\n",
              "      <td>16</td>\n",
              "      <td>1</td>\n",
              "      <td>22</td>\n",
              "      <td>0</td>\n",
              "    </tr>\n",
              "    <tr>\n",
              "      <th>1</th>\n",
              "      <td>0</td>\n",
              "      <td>1085</td>\n",
              "      <td>10</td>\n",
              "      <td>5</td>\n",
              "      <td>0</td>\n",
              "      <td>9</td>\n",
              "      <td>6</td>\n",
              "      <td>0</td>\n",
              "      <td>19</td>\n",
              "      <td>1</td>\n",
              "    </tr>\n",
              "    <tr>\n",
              "      <th>2</th>\n",
              "      <td>19</td>\n",
              "      <td>8</td>\n",
              "      <td>852</td>\n",
              "      <td>29</td>\n",
              "      <td>17</td>\n",
              "      <td>4</td>\n",
              "      <td>32</td>\n",
              "      <td>14</td>\n",
              "      <td>55</td>\n",
              "      <td>2</td>\n",
              "    </tr>\n",
              "    <tr>\n",
              "      <th>3</th>\n",
              "      <td>5</td>\n",
              "      <td>15</td>\n",
              "      <td>34</td>\n",
              "      <td>844</td>\n",
              "      <td>0</td>\n",
              "      <td>13</td>\n",
              "      <td>9</td>\n",
              "      <td>15</td>\n",
              "      <td>49</td>\n",
              "      <td>26</td>\n",
              "    </tr>\n",
              "    <tr>\n",
              "      <th>4</th>\n",
              "      <td>2</td>\n",
              "      <td>6</td>\n",
              "      <td>4</td>\n",
              "      <td>0</td>\n",
              "      <td>795</td>\n",
              "      <td>4</td>\n",
              "      <td>21</td>\n",
              "      <td>1</td>\n",
              "      <td>23</td>\n",
              "      <td>126</td>\n",
              "    </tr>\n",
              "    <tr>\n",
              "      <th>5</th>\n",
              "      <td>23</td>\n",
              "      <td>12</td>\n",
              "      <td>7</td>\n",
              "      <td>129</td>\n",
              "      <td>30</td>\n",
              "      <td>627</td>\n",
              "      <td>16</td>\n",
              "      <td>8</td>\n",
              "      <td>21</td>\n",
              "      <td>19</td>\n",
              "    </tr>\n",
              "    <tr>\n",
              "      <th>6</th>\n",
              "      <td>18</td>\n",
              "      <td>18</td>\n",
              "      <td>15</td>\n",
              "      <td>2</td>\n",
              "      <td>13</td>\n",
              "      <td>35</td>\n",
              "      <td>851</td>\n",
              "      <td>0</td>\n",
              "      <td>6</td>\n",
              "      <td>0</td>\n",
              "    </tr>\n",
              "    <tr>\n",
              "      <th>7</th>\n",
              "      <td>1</td>\n",
              "      <td>24</td>\n",
              "      <td>14</td>\n",
              "      <td>4</td>\n",
              "      <td>15</td>\n",
              "      <td>0</td>\n",
              "      <td>0</td>\n",
              "      <td>871</td>\n",
              "      <td>27</td>\n",
              "      <td>72</td>\n",
              "    </tr>\n",
              "    <tr>\n",
              "      <th>8</th>\n",
              "      <td>16</td>\n",
              "      <td>23</td>\n",
              "      <td>13</td>\n",
              "      <td>76</td>\n",
              "      <td>17</td>\n",
              "      <td>22</td>\n",
              "      <td>7</td>\n",
              "      <td>6</td>\n",
              "      <td>758</td>\n",
              "      <td>36</td>\n",
              "    </tr>\n",
              "    <tr>\n",
              "      <th>9</th>\n",
              "      <td>9</td>\n",
              "      <td>13</td>\n",
              "      <td>5</td>\n",
              "      <td>9</td>\n",
              "      <td>74</td>\n",
              "      <td>8</td>\n",
              "      <td>0</td>\n",
              "      <td>24</td>\n",
              "      <td>24</td>\n",
              "      <td>843</td>\n",
              "    </tr>\n",
              "  </tbody>\n",
              "</table>\n",
              "</div>"
            ],
            "text/plain": [
              "   predicted_0  predicted_1  predicted_2  predicted_3  predicted_4  \\\n",
              "0          887            0            4            7            2   \n",
              "1            0         1085           10            5            0   \n",
              "2           19            8          852           29           17   \n",
              "3            5           15           34          844            0   \n",
              "4            2            6            4            0          795   \n",
              "5           23           12            7          129           30   \n",
              "6           18           18           15            2           13   \n",
              "7            1           24           14            4           15   \n",
              "8           16           23           13           76           17   \n",
              "9            9           13            5            9           74   \n",
              "\n",
              "   predicted_5  predicted_6  predicted_7  predicted_8  predicted_9  \n",
              "0           41           16            1           22            0  \n",
              "1            9            6            0           19            1  \n",
              "2            4           32           14           55            2  \n",
              "3           13            9           15           49           26  \n",
              "4            4           21            1           23          126  \n",
              "5          627           16            8           21           19  \n",
              "6           35          851            0            6            0  \n",
              "7            0            0          871           27           72  \n",
              "8           22            7            6          758           36  \n",
              "9            8            0           24           24          843  "
            ]
          },
          "execution_count": 13,
          "metadata": {},
          "output_type": "execute_result"
        }
      ],
      "source": [
        "conf_matrix = confusion_matrix(y_true=y_test,\n",
        "                               y_pred=preds_test)\n",
        "conf_matrix_df = pd.DataFrame(conf_matrix, columns=[f'predicted_{i}' for i in range(0,10)])\n",
        "conf_matrix_df"
      ]
    },
    {
      "cell_type": "code",
      "execution_count": 14,
      "metadata": {},
      "outputs": [
        {
          "name": "stdout",
          "output_type": "stream",
          "text": [
            "Model Accuracy: 84.13%\n"
          ]
        }
      ],
      "source": [
        "true_preds_count = np.trace(conf_matrix)\n",
        "accuracy = true_preds_count / x_test.shape[0]\n",
        "print(f\"Model Accuracy: {round(accuracy * 100, 2)}%\")"
      ]
    },
    {
      "cell_type": "code",
      "execution_count": 15,
      "metadata": {},
      "outputs": [
        {
          "name": "stdout",
          "output_type": "stream",
          "text": [
            "High errors for digit 2:\n",
            "predicted_8    55\n",
            "Name: 2, dtype: int64\n",
            "\n",
            "High errors for digit 4:\n",
            "predicted_9    126\n",
            "Name: 4, dtype: int64\n",
            "\n",
            "High errors for digit 5:\n",
            "predicted_3    129\n",
            "Name: 5, dtype: int64\n",
            "\n",
            "High errors for digit 7:\n",
            "predicted_9    72\n",
            "Name: 7, dtype: int64\n",
            "\n",
            "High errors for digit 8:\n",
            "predicted_3    76\n",
            "Name: 8, dtype: int64\n",
            "\n",
            "High errors for digit 9:\n",
            "predicted_4    74\n",
            "Name: 9, dtype: int64\n",
            "\n"
          ]
        }
      ],
      "source": [
        "high_error_threshold = 50\n",
        "\n",
        "for digit in range(10):\n",
        "    \n",
        "    \n",
        "    # Get the row of current digit\n",
        "    digit_hits = conf_matrix_df.iloc[digit]\n",
        "    \n",
        "    # Filter predictions with high error rate based on thershold\n",
        "    high_preds_count = digit_hits[digit_hits > high_error_threshold]\n",
        "    # Drop the correctly predicted samples (as they have high hit rates of course)\n",
        "    high_preds_count.drop(labels=f'predicted_{digit}', inplace=True)\n",
        "    \n",
        "    # Print the mistakes that passed the threshold\n",
        "    if len(high_preds_count) > 0:\n",
        "        print(f\"High errors for digit {digit}:\\n{str(high_preds_count)}\\n\")\n"
      ]
    },
    {
      "cell_type": "markdown",
      "metadata": {},
      "source": [
        "##### Summarized results in my words:"
      ]
    },
    {
      "cell_type": "markdown",
      "metadata": {},
      "source": [
        "As we see above the model accuracy is 84.13% (not very bad for our naive assumption), in addition looking on high error rates we had (setting the threshold of at least 50 samples classified wrongly as we see in the boolean indexing above) we can see that we had we had some higher error rates in the next cases:\n",
        "\n",
        "1. Classifiying 2 as 8 (55 times) - This can be expected given the similar shapes of the digits.\n",
        "2. Classifiying 4 as 9 (126 times!) - This can be expected given the similar shapes of the digits.\n",
        "3. Classifiying 5 as 3 (129 times!) - This can be expected given the similar shapes of the digits in their lower part.\n",
        "4. Classifiying 7 as 9 (72 times) - This can be expected given the similar shapes of the digits in the right part.\n",
        "5. Classifiying 8 as 3 (76 times) - This can be expected given the similar shapes of the digits in the right part.\n",
        "6. Classifiying 9 as 4 (74 times) - This can be expected given the similar shapes.\n",
        "\n",
        "Looking on the above errors, I'd say that the biggest \"problems\" in the model are:\n",
        "- The miss-classification of 3-8 (125 mistakes)\n",
        "- The miss-classification of 4-9 (200 mistakes) \n",
        "- The miss-classification of 3-5 (142 times)\n",
        "\n",
        "If I had to do another iteration and improve the model, I would have looked on the specific samples with the higher error rates per problem, trying to understand if there is any similarity between them and a specific phenomena that is not represented in the train set / any phenomena that is causing a bias in the train set like missing samples of a specific digit drawing type.\n",
        "\n",
        "Additionally, I would have tried to give a name to such phenomena and try to handle it by providing additional labels / samples / features could have helped the model defrentiating the samples."
      ]
    },
    {
      "cell_type": "markdown",
      "metadata": {},
      "source": [
        "##### 3. Optimal threshold of the binarization part - ideas"
      ]
    },
    {
      "cell_type": "markdown",
      "metadata": {},
      "source": [
        "I think that what I would have done in order to optimize the binarization threshold is:\n",
        "1. Split the dataset to: train / validation / test sets (train - 70%, validation - 10%, test - 20%)\n",
        "2. Try to optimize the threshold of the binarization by using the train and validation set and evaluating the best X models I trained on the test set to evaluate the \"real\" production expected performance:\n",
        "- Training models with different thresholds starting from 1 to 256\n",
        "- Evaluating the performance on the train and validation sets for the different thresholds, plotting a graph that presents the error rate (based on accuracy / f1 / precision / recall - depends on the problem and what's more important to us to solve) and look for the top X thresholds where we have optimal performance on the train + validation.\n",
        "- Evaluating the performance of the top X models on the test set and trying to evaluate which model had the best performance and makes more sense.\n",
        "\n",
        "\n",
        "**Additional idea** - Use a similar idea to the above split but instead use stratified cross validation here with 10 folds, this will also help us understanding the stabillity of the different thresholds per model."
      ]
    },
    {
      "cell_type": "markdown",
      "metadata": {
        "id": "lKSgnectrTJ1"
      },
      "source": [
        "## 2. Classifing Text Documents using Multinomial Naive Bayes\n",
        "In this exercise you will classify the \"20 newsgroups\" data set using your own naive bayes classifier and compare to the scikit learn built in version.\n",
        "\n",
        "The 20 newsgroups dataset comprises around 18000 newsgroups posts on 20 topics split in two subsets: one for training (or development) and the other one for testing (or for performance evaluation). The split between the train and test set is based upon messages posted before and after a specific date.\n",
        "\n",
        "\n",
        "* Load the **train** data using `from sklearn.datasets import fetch_20newsgroups`. remove headers, footers and quotes (see documentation)\n",
        "* Use `sklearn.feature_extraction.text import CountVectorizer` to count words (stop_words='english')\n",
        "* Write a class `NaiveBayes(BaseEstimator, ClassifierMixin)` and implement its `fit`, `predict` and `predict_proba` methods.\n",
        "* use `sklearn.pipeline.make_pipeline` to chain the vectroizer and model.\n",
        "* note: limit the vocuabolary size if you suffer memory issues\n",
        "* compare the accuracy over the **test** data. You can use `accuracy_score, classification_report`\n",
        "* compare to the built in `sklearn.naive_bayes.MultinomialNB`. If there are differences try to think why\n",
        "* plot the learning curve - is the model in the bias or variance regime (you can use the built in model for doing the analysis)\n",
        "* optimize performance in respect to vectorizer hyper parameters (e.g. max_features, max_df etc.).\n",
        "\n",
        "### Optional: Model interpretability\n",
        "Find the most important features for a **specific** decision of a NB classifier.\n",
        "Because the model has learned the prior $p(x_i|c)$ during the training, the contribution of an individual feature value can be easily measured by the posterior, $p(c|x_i)=p(c)p(x_i|c)/p(x_i)$\n",
        "Implement a function which gets a scikit-learn NB model as input and returns $P(c|x_i)$:\n",
        "\n",
        "`def calc_p_c_given_xi(model)`\n",
        "\n",
        "Hint: Use the following model properties:\n",
        "\n",
        "* `model.class_log_prior_`\n",
        "* `model.feature_log_prob_`\n",
        "\n",
        "Note: remember these are logs and you need to use np.exp and normalize to get $P(c|x_i)$ \n",
        "Another hint: use numpy built-in broadcasting property.\n",
        "\n",
        "* Use the interpretation to examine errors of the classifier where $\\hat{c}\\ne c$. Which top words support the correct class and which support the wrong class? You can use the `print_txt` below to color words. \n",
        "\n",
        "Bonus: How can you correct the analyzed error? \n",
        "\n",
        "To read more about model interpretation, see the blogpost below and my tutorial:\n",
        "* https://lilianweng.github.io/lil-log/2017/08/01/how-to-explain-the-prediction-of-a-machine-learning-model.html\n",
        "* https://github.com/chanansh/right_but_why"
      ]
    },
    {
      "cell_type": "markdown",
      "metadata": {},
      "source": [
        "#### Loading the dataset"
      ]
    },
    {
      "cell_type": "code",
      "execution_count": 16,
      "metadata": {},
      "outputs": [],
      "source": [
        "from sklearn.datasets import fetch_20newsgroups\n",
        "\n",
        "ds_dict_train = fetch_20newsgroups(remove=('headers', 'footers', 'quotes'))"
      ]
    },
    {
      "cell_type": "code",
      "execution_count": 17,
      "metadata": {},
      "outputs": [
        {
          "data": {
            "text/plain": [
              "dict_keys(['data', 'filenames', 'target_names', 'target', 'DESCR'])"
            ]
          },
          "execution_count": 17,
          "metadata": {},
          "output_type": "execute_result"
        }
      ],
      "source": [
        "ds_dict_train.keys()"
      ]
    },
    {
      "cell_type": "code",
      "execution_count": 18,
      "metadata": {},
      "outputs": [],
      "source": [
        "data_train = ds_dict_train.get('data')\n",
        "labels_train = ds_dict_train.get('target')\n",
        "classes_train = ds_dict_train.get('target_names')"
      ]
    },
    {
      "cell_type": "markdown",
      "metadata": {},
      "source": [
        "#### Creating words vectorizer and apply on the datasets"
      ]
    },
    {
      "cell_type": "code",
      "execution_count": 19,
      "metadata": {},
      "outputs": [],
      "source": [
        "from sklearn.feature_extraction.text import CountVectorizer"
      ]
    },
    {
      "cell_type": "code",
      "execution_count": 20,
      "metadata": {},
      "outputs": [
        {
          "name": "stdout",
          "output_type": "stream",
          "text": [
            "101322\n"
          ]
        }
      ],
      "source": [
        "cvectorizer = CountVectorizer(stop_words='english').fit(data_train)\n",
        "print(len(cvectorizer.vocabulary_))"
      ]
    },
    {
      "cell_type": "code",
      "execution_count": 21,
      "metadata": {},
      "outputs": [
        {
          "name": "stdout",
          "output_type": "stream",
          "text": [
            "Sparse matrix shape: (11314, 101322)\n",
            "Number of non-zeros: 755809\n",
            "Sparsity: 0.07%\n"
          ]
        }
      ],
      "source": [
        "data_train_vectorized = cvectorizer.transform(data_train)\n",
        "\n",
        "print('Sparse matrix shape:', data_train_vectorized.shape)\n",
        "print('Number of non-zeros:', data_train_vectorized.nnz)\n",
        "print('Sparsity: %.2f%%' % (100.0 * data_train_vectorized.nnz / (data_train_vectorized.shape[0] * data_train_vectorized.shape[1])))"
      ]
    },
    {
      "cell_type": "code",
      "execution_count": 22,
      "metadata": {
        "scrolled": false
      },
      "outputs": [
        {
          "name": "stdout",
          "output_type": "stream",
          "text": [
            "Sample -\n",
            "I have win 3.0 and downloaded several icons and BMP's but I can't figure out\n",
            "how to change the \"wallpaper\" or use the icons.  Any help would be appreciated.\n",
            "\n",
            "\n",
            "Thanx,\n",
            "\n",
            "-Brando\n",
            "\n",
            "\n",
            "Vectorized sample -\n",
            "  (0, 19162)\t1\n",
            "  (0, 23319)\t1\n",
            "  (0, 23947)\t1\n",
            "  (0, 26651)\t1\n",
            "  (0, 34856)\t1\n",
            "  (0, 40177)\t1\n",
            "  (0, 46158)\t1\n",
            "  (0, 48451)\t2\n",
            "  (0, 88284)\t1\n",
            "  (0, 92600)\t1\n",
            "  (0, 95442)\t1\n",
            "  (0, 96428)\t1\n"
          ]
        }
      ],
      "source": [
        "# Print a sample from the data\n",
        "sample_idx=8\n",
        "print(f\"Sample -\\n{data_train[sample_idx]}\\n\\n\")\n",
        "print(f\"Vectorized sample -\\n{data_train_vectorized[sample_idx]}\")"
      ]
    },
    {
      "cell_type": "code",
      "execution_count": 24,
      "metadata": {},
      "outputs": [],
      "source": [
        "from sklearn.base import BaseEstimator, ClassifierMixin\n",
        "\n",
        "class NaiveBayes(BaseEstimator, ClassifierMixin):\n",
        "    def __init__(self, alpha=1.0):\n",
        "        self.alpha = alpha\n",
        "    \n",
        "    def fit(self, X, y):\n",
        "        \n",
        "        self.X = X\n",
        "        self.y = y\n",
        "        \n",
        "        # calculate priors and likelihoods\n",
        "        classes, counts = np.unique(self.y, return_counts=True)\n",
        "        prior = np.zeros(len(classes),)\n",
        "        features_probs = np.zeros((len(classes), self.X.shape[1]))\n",
        "        samples_count = len(self.y)\n",
        "\n",
        "        for c in classes:\n",
        "            # Evaluate the prior per class\n",
        "            prior[c] = counts[c] / samples_count\n",
        "            # Evaluate the smoothed feature conditional proba\n",
        "            features_probs[c] = (self.X[self.y==c].sum(axis=0) + self.alpha)/(self.X[self.y==c].sum() + self.alpha * self.X.shape[1])\n",
        "\n",
        "        self.prior = prior\n",
        "        self.likelihood = features_probs\n",
        "\n",
        "        return self\n",
        "\n",
        "    def predict_log_proba(self, x):\n",
        "        \n",
        "        self.X_test = x\n",
        "        \n",
        "        # posterior\n",
        "        self.log_probs = (self.X_test @ np.log(self.likelihood.T)) + np.log(self.prior.T)\n",
        "        \n",
        "        return self.log_probs\n",
        "\n",
        "    def predict(self, X):\n",
        "        \n",
        "        self.X = X\n",
        "        \n",
        "        # argmax for prediction\n",
        "        self.y_pred = np.argmax(self.predict_log_proba(self.X), axis=1)\n",
        "        \n",
        "        return self.y_pred"
      ]
    },
    {
      "cell_type": "markdown",
      "metadata": {},
      "source": [
        "##### Loading test data"
      ]
    },
    {
      "cell_type": "code",
      "execution_count": 28,
      "metadata": {},
      "outputs": [],
      "source": [
        "ds_dict_test = fetch_20newsgroups(subset='test', remove=('headers', 'footers', 'quotes'))\n",
        "data_test = ds_dict_train.get('data')\n",
        "labels_test = ds_dict_train.get('target')\n",
        "classes_test = ds_dict_train.get('target_names')"
      ]
    },
    {
      "cell_type": "code",
      "execution_count": 29,
      "metadata": {},
      "outputs": [
        {
          "name": "stdout",
          "output_type": "stream",
          "text": [
            "Sparse matrix shape: (11314, 101322)\n",
            "Number of non-zeros: 755809\n",
            "Sparsity: 0.07%\n"
          ]
        }
      ],
      "source": [
        "data_test_vectorized = cvectorizer.transform(data_test)\n",
        "\n",
        "print('Sparse matrix shape:', data_test_vectorized.shape)\n",
        "print('Number of non-zeros:', data_test_vectorized.nnz)\n",
        "print('Sparsity: %.2f%%' % (100.0 * data_test_vectorized.nnz / (data_test_vectorized.shape[0] * data_test_vectorized.shape[1])))"
      ]
    },
    {
      "cell_type": "markdown",
      "metadata": {},
      "source": [
        "##### Use make_pipeline for the CountVectorizer + NaiveBayes classifier"
      ]
    },
    {
      "cell_type": "code",
      "execution_count": 30,
      "metadata": {},
      "outputs": [],
      "source": [
        "from sklearn.pipeline import Pipeline\n",
        "\n",
        "pipe = Pipeline([('countVectorizer', CountVectorizer(stop_words='english')), ('nb', NaiveBayes())])"
      ]
    },
    {
      "cell_type": "code",
      "execution_count": 31,
      "metadata": {},
      "outputs": [
        {
          "data": {
            "text/plain": [
              "Pipeline(steps=[('countVectorizer', CountVectorizer(stop_words='english')),\n",
              "                ('nb', NaiveBayes())])"
            ]
          },
          "execution_count": 31,
          "metadata": {},
          "output_type": "execute_result"
        }
      ],
      "source": [
        "# Test the fit method\n",
        "pipe.fit(data_train, labels_train)"
      ]
    },
    {
      "cell_type": "code",
      "execution_count": 32,
      "metadata": {},
      "outputs": [
        {
          "data": {
            "text/plain": [
              "array([7, 4, 4, ..., 3, 1, 8])"
            ]
          },
          "execution_count": 32,
          "metadata": {},
          "output_type": "execute_result"
        }
      ],
      "source": [
        "# Test the predict method\n",
        "pipe.predict(data_test)"
      ]
    },
    {
      "cell_type": "markdown",
      "metadata": {},
      "source": [
        "##### Evaluate my implementation test set results"
      ]
    },
    {
      "cell_type": "code",
      "execution_count": 33,
      "metadata": {
        "scrolled": true
      },
      "outputs": [],
      "source": [
        "test_preds_mine = pipe.predict(data_test)"
      ]
    },
    {
      "cell_type": "code",
      "execution_count": 36,
      "metadata": {},
      "outputs": [
        {
          "name": "stdout",
          "output_type": "stream",
          "text": [
            "              precision    recall  f1-score   support\n",
            "\n",
            "           0       0.94      0.75      0.84       480\n",
            "           1       0.73      0.84      0.78       584\n",
            "           2       1.00      0.05      0.10       591\n",
            "           3       0.68      0.88      0.77       590\n",
            "           4       0.94      0.85      0.89       578\n",
            "           5       0.67      0.94      0.78       593\n",
            "           6       0.92      0.84      0.88       585\n",
            "           7       0.94      0.83      0.88       594\n",
            "           8       0.96      0.82      0.89       598\n",
            "           9       0.98      0.86      0.91       597\n",
            "          10       0.63      0.93      0.75       600\n",
            "          11       0.75      0.91      0.82       595\n",
            "          12       0.92      0.80      0.86       591\n",
            "          13       0.93      0.92      0.93       594\n",
            "          14       0.93      0.89      0.91       593\n",
            "          15       0.68      0.96      0.80       599\n",
            "          16       0.87      0.90      0.88       546\n",
            "          17       0.81      0.90      0.85       564\n",
            "          18       0.79      0.90      0.84       465\n",
            "          19       0.97      0.49      0.65       377\n",
            "\n",
            "    accuracy                           0.82     11314\n",
            "   macro avg       0.85      0.81      0.80     11314\n",
            "weighted avg       0.85      0.82      0.80     11314\n",
            "\n"
          ]
        }
      ],
      "source": [
        "from sklearn.metrics import classification_report, accuracy_score\n",
        "\n",
        "print(classification_report(y_pred=test_preds_mine, y_true=labels_test))"
      ]
    },
    {
      "cell_type": "markdown",
      "metadata": {},
      "source": [
        "##### Compare sklearn test set results"
      ]
    },
    {
      "cell_type": "code",
      "execution_count": 37,
      "metadata": {},
      "outputs": [],
      "source": [
        "from sklearn.naive_bayes import MultinomialNB\n",
        "\n",
        "mnb = MultinomialNB().fit(data_train_vectorized, labels_train)"
      ]
    },
    {
      "cell_type": "code",
      "execution_count": 38,
      "metadata": {},
      "outputs": [],
      "source": [
        "test_preds_mnb = mnb.predict(data_test_vectorized)"
      ]
    },
    {
      "cell_type": "code",
      "execution_count": 39,
      "metadata": {},
      "outputs": [
        {
          "name": "stdout",
          "output_type": "stream",
          "text": [
            "              precision    recall  f1-score   support\n",
            "\n",
            "           0       0.94      0.75      0.84       480\n",
            "           1       0.73      0.84      0.78       584\n",
            "           2       1.00      0.05      0.10       591\n",
            "           3       0.68      0.88      0.77       590\n",
            "           4       0.94      0.85      0.89       578\n",
            "           5       0.67      0.94      0.78       593\n",
            "           6       0.92      0.84      0.88       585\n",
            "           7       0.94      0.83      0.88       594\n",
            "           8       0.96      0.82      0.89       598\n",
            "           9       0.98      0.86      0.91       597\n",
            "          10       0.63      0.93      0.75       600\n",
            "          11       0.75      0.91      0.82       595\n",
            "          12       0.92      0.80      0.86       591\n",
            "          13       0.93      0.92      0.93       594\n",
            "          14       0.93      0.89      0.91       593\n",
            "          15       0.68      0.96      0.80       599\n",
            "          16       0.87      0.90      0.88       546\n",
            "          17       0.81      0.90      0.85       564\n",
            "          18       0.79      0.90      0.84       465\n",
            "          19       0.97      0.49      0.65       377\n",
            "\n",
            "    accuracy                           0.82     11314\n",
            "   macro avg       0.85      0.81      0.80     11314\n",
            "weighted avg       0.85      0.82      0.80     11314\n",
            "\n"
          ]
        }
      ],
      "source": [
        "print(classification_report(y_pred=test_preds_mnb, y_true=labels_test))"
      ]
    },
    {
      "cell_type": "code",
      "execution_count": 40,
      "metadata": {},
      "outputs": [
        {
          "name": "stdout",
          "output_type": "stream",
          "text": [
            "MultinomialNB (sklearn) accuracy: 81.77%\n",
            "MultinomialNB (my implementation) accuracy: 81.77%\n"
          ]
        }
      ],
      "source": [
        "accuracy = accuracy_score(y_pred=test_preds_mnb, y_true=labels_test)\n",
        "my_accuracy = accuracy_score(y_pred=test_preds_mine, y_true=labels_test)\n",
        "print(f\"MultinomialNB (sklearn) accuracy: {round(accuracy*100,2)}%\")\n",
        "print(f\"MultinomialNB (my implementation) accuracy: {round(my_accuracy*100,2)}%\")"
      ]
    },
    {
      "cell_type": "markdown",
      "metadata": {},
      "source": [
        "We got the same performance!"
      ]
    },
    {
      "cell_type": "markdown",
      "metadata": {},
      "source": [
        "##### Plot the learning curve"
      ]
    },
    {
      "cell_type": "code",
      "execution_count": 41,
      "metadata": {},
      "outputs": [],
      "source": [
        "from sklearn.model_selection import learning_curve\n",
        "\n",
        "estimator = MultinomialNB()\n",
        "\n",
        "train_sizes, train_scores, test_scores = learning_curve(estimator=estimator,\n",
        "                                                        X=data_train_vectorized,\n",
        "                                                        y=labels_train,\n",
        "                                                        train_sizes=[i*0.1 for i in range(1,11)])\n",
        "\n",
        "train_scores_mean = np.mean(train_scores, axis=1)\n",
        "train_scores_std = np.std(train_scores, axis=1)\n",
        "test_scores_mean = np.mean(test_scores, axis=1)\n",
        "test_scores_std = np.std(test_scores, axis=1)"
      ]
    },
    {
      "cell_type": "code",
      "execution_count": 42,
      "metadata": {},
      "outputs": [
        {
          "data": {
            "image/png": "[encoded data removed]",
            "text/plain": [
              "<Figure size 432x288 with 1 Axes>"
            ]
          },
          "metadata": {
            "needs_background": "light"
          },
          "output_type": "display_data"
        }
      ],
      "source": [
        "# Plot learning curve\n",
        "axes = plt.gca()\n",
        "axes.grid()\n",
        "axes.fill_between(\n",
        "    train_sizes,\n",
        "    train_scores_mean - train_scores_std,\n",
        "    train_scores_mean + train_scores_std,\n",
        "    alpha=0.1,\n",
        "    color=\"r\",\n",
        ")\n",
        "axes.fill_between(\n",
        "    train_sizes,\n",
        "    test_scores_mean - test_scores_std,\n",
        "    test_scores_mean + test_scores_std,\n",
        "    alpha=0.1,\n",
        "    color=\"g\",\n",
        ")\n",
        "axes.plot(\n",
        "    train_sizes, train_scores_mean, \"o-\", color=\"r\", label=\"Training score\"\n",
        ")\n",
        "axes.plot(\n",
        "    train_sizes, test_scores_mean, \"o-\", color=\"g\", label=\"Validation score\"\n",
        ")\n",
        "axes.legend(loc=\"best\");"
      ]
    },
    {
      "cell_type": "markdown",
      "metadata": {},
      "source": [
        "##### Optimize performance in respect to vectorizer hyper parameters (e.g. max_features, max_df etc.)"
      ]
    },
    {
      "cell_type": "code",
      "execution_count": 52,
      "metadata": {
        "scrolled": true
      },
      "outputs": [
        {
          "name": "stdout",
          "output_type": "stream",
          "text": [
            "Fitting on params - 500 0.3 0.3\n",
            "Exception - After pruning, no terms remain. Try a lower min_df or a higher max_df.\n",
            "Params -  500 0.3 0.3\n",
            "Fitting on params - 500 0.3 0.4\n",
            "Exception - After pruning, no terms remain. Try a lower min_df or a higher max_df.\n",
            "Params -  500 0.3 0.4\n",
            "Fitting on params - 500 0.3 0.5\n",
            "Exception - After pruning, no terms remain. Try a lower min_df or a higher max_df.\n",
            "Params -  500 0.3 0.5\n",
            "Fitting on params - 500 0.3 1.0\n",
            "Exception - After pruning, no terms remain. Try a lower min_df or a higher max_df.\n",
            "Params -  500 0.3 1.0\n",
            "Fitting on params - 500 0.3 2\n",
            "Exception - max_df corresponds to < documents than min_df\n",
            "Params -  500 0.3 2\n",
            "Fitting on params - 500 0.3 3\n",
            "Exception - max_df corresponds to < documents than min_df\n",
            "Params -  500 0.3 3\n",
            "Fitting on params - 500 0.3 4\n",
            "Exception - max_df corresponds to < documents than min_df\n",
            "Params -  500 0.3 4\n",
            "Fitting on params - 500 0.3 5\n",
            "Exception - max_df corresponds to < documents than min_df\n",
            "Params -  500 0.3 5\n",
            "Fitting on params - 500 0.3 10\n",
            "Exception - max_df corresponds to < documents than min_df\n",
            "Params -  500 0.3 10\n",
            "Fitting on params - 500 0.3 20\n",
            "Exception - max_df corresponds to < documents than min_df\n",
            "Params -  500 0.3 20\n",
            "Fitting on params - 500 0.3 50\n",
            "Exception - max_df corresponds to < documents than min_df\n",
            "Params -  500 0.3 50\n",
            "Fitting on params - 500 0.4 0.4\n",
            "Exception - After pruning, no terms remain. Try a lower min_df or a higher max_df.\n",
            "Params -  500 0.4 0.4\n",
            "Fitting on params - 500 0.4 0.5\n",
            "Exception - After pruning, no terms remain. Try a lower min_df or a higher max_df.\n",
            "Params -  500 0.4 0.5\n",
            "Fitting on params - 500 0.4 1.0\n",
            "Exception - After pruning, no terms remain. Try a lower min_df or a higher max_df.\n",
            "Params -  500 0.4 1.0\n",
            "Fitting on params - 500 0.4 2\n",
            "Exception - max_df corresponds to < documents than min_df\n",
            "Params -  500 0.4 2\n",
            "Fitting on params - 500 0.4 3\n",
            "Exception - max_df corresponds to < documents than min_df\n",
            "Params -  500 0.4 3\n",
            "Fitting on params - 500 0.4 4\n",
            "Exception - max_df corresponds to < documents than min_df\n",
            "Params -  500 0.4 4\n",
            "Fitting on params - 500 0.4 5\n",
            "Exception - max_df corresponds to < documents than min_df\n",
            "Params -  500 0.4 5\n",
            "Fitting on params - 500 0.4 10\n",
            "Exception - max_df corresponds to < documents than min_df\n",
            "Params -  500 0.4 10\n",
            "Fitting on params - 500 0.4 20\n",
            "Exception - max_df corresponds to < documents than min_df\n",
            "Params -  500 0.4 20\n",
            "Fitting on params - 500 0.4 50\n",
            "Exception - max_df corresponds to < documents than min_df\n",
            "Params -  500 0.4 50\n",
            "Fitting on params - 500 0.5 0.5\n",
            "Exception - After pruning, no terms remain. Try a lower min_df or a higher max_df.\n",
            "Params -  500 0.5 0.5\n",
            "Fitting on params - 500 0.5 1.0\n",
            "Exception - After pruning, no terms remain. Try a lower min_df or a higher max_df.\n",
            "Params -  500 0.5 1.0\n",
            "Fitting on params - 500 0.5 2\n",
            "Exception - max_df corresponds to < documents than min_df\n",
            "Params -  500 0.5 2\n",
            "Fitting on params - 500 0.5 3\n",
            "Exception - max_df corresponds to < documents than min_df\n",
            "Params -  500 0.5 3\n",
            "Fitting on params - 500 0.5 4\n",
            "Exception - max_df corresponds to < documents than min_df\n",
            "Params -  500 0.5 4\n",
            "Fitting on params - 500 0.5 5\n",
            "Exception - max_df corresponds to < documents than min_df\n",
            "Params -  500 0.5 5\n",
            "Fitting on params - 500 0.5 10\n",
            "Exception - max_df corresponds to < documents than min_df\n",
            "Params -  500 0.5 10\n",
            "Fitting on params - 500 0.5 20\n",
            "Exception - max_df corresponds to < documents than min_df\n",
            "Params -  500 0.5 20\n",
            "Fitting on params - 500 0.5 50\n",
            "Exception - max_df corresponds to < documents than min_df\n",
            "Params -  500 0.5 50\n",
            "Fitting on params - 500 1 1.0\n",
            "Fitting on params - 500 1 2\n",
            "Fitting on params - 500 1 3\n",
            "Fitting on params - 500 1 4\n",
            "Fitting on params - 500 1 5\n",
            "Fitting on params - 500 1 10\n",
            "Fitting on params - 500 1 20\n",
            "Fitting on params - 500 1 50\n",
            "Fitting on params - 500 2 2\n",
            "Fitting on params - 500 2 3\n",
            "Fitting on params - 500 2 4\n",
            "Fitting on params - 500 2 5\n",
            "Fitting on params - 500 2 10\n",
            "Fitting on params - 500 2 20\n",
            "Fitting on params - 500 2 50\n",
            "Fitting on params - 500 3 3\n",
            "Fitting on params - 500 3 4\n",
            "Fitting on params - 500 3 5\n",
            "Fitting on params - 500 3 10\n",
            "Fitting on params - 500 3 20\n",
            "Fitting on params - 500 3 50\n",
            "Fitting on params - 500 5 5\n",
            "Fitting on params - 500 5 10\n",
            "Fitting on params - 500 5 20\n",
            "Fitting on params - 500 5 50\n",
            "Fitting on params - 500 10 10\n",
            "Fitting on params - 500 10 20\n",
            "Fitting on params - 500 10 50\n",
            "Fitting on params - 2000 0.3 0.3\n",
            "Exception - After pruning, no terms remain. Try a lower min_df or a higher max_df.\n",
            "Params -  2000 0.3 0.3\n",
            "Fitting on params - 2000 0.3 0.4\n",
            "Exception - After pruning, no terms remain. Try a lower min_df or a higher max_df.\n",
            "Params -  2000 0.3 0.4\n",
            "Fitting on params - 2000 0.3 0.5\n",
            "Exception - After pruning, no terms remain. Try a lower min_df or a higher max_df.\n",
            "Params -  2000 0.3 0.5\n",
            "Fitting on params - 2000 0.3 1.0\n",
            "Exception - After pruning, no terms remain. Try a lower min_df or a higher max_df.\n",
            "Params -  2000 0.3 1.0\n",
            "Fitting on params - 2000 0.3 2\n",
            "Exception - max_df corresponds to < documents than min_df\n",
            "Params -  2000 0.3 2\n",
            "Fitting on params - 2000 0.3 3\n",
            "Exception - max_df corresponds to < documents than min_df\n",
            "Params -  2000 0.3 3\n",
            "Fitting on params - 2000 0.3 4\n",
            "Exception - max_df corresponds to < documents than min_df\n",
            "Params -  2000 0.3 4\n",
            "Fitting on params - 2000 0.3 5\n",
            "Exception - max_df corresponds to < documents than min_df\n",
            "Params -  2000 0.3 5\n",
            "Fitting on params - 2000 0.3 10\n",
            "Exception - max_df corresponds to < documents than min_df\n",
            "Params -  2000 0.3 10\n",
            "Fitting on params - 2000 0.3 20\n",
            "Exception - max_df corresponds to < documents than min_df\n",
            "Params -  2000 0.3 20\n",
            "Fitting on params - 2000 0.3 50\n",
            "Exception - max_df corresponds to < documents than min_df\n",
            "Params -  2000 0.3 50\n",
            "Fitting on params - 2000 0.4 0.4\n",
            "Exception - After pruning, no terms remain. Try a lower min_df or a higher max_df.\n",
            "Params -  2000 0.4 0.4\n",
            "Fitting on params - 2000 0.4 0.5\n",
            "Exception - After pruning, no terms remain. Try a lower min_df or a higher max_df.\n",
            "Params -  2000 0.4 0.5\n",
            "Fitting on params - 2000 0.4 1.0\n",
            "Exception - After pruning, no terms remain. Try a lower min_df or a higher max_df.\n",
            "Params -  2000 0.4 1.0\n",
            "Fitting on params - 2000 0.4 2\n",
            "Exception - max_df corresponds to < documents than min_df\n",
            "Params -  2000 0.4 2\n",
            "Fitting on params - 2000 0.4 3\n",
            "Exception - max_df corresponds to < documents than min_df\n",
            "Params -  2000 0.4 3\n",
            "Fitting on params - 2000 0.4 4\n",
            "Exception - max_df corresponds to < documents than min_df\n",
            "Params -  2000 0.4 4\n",
            "Fitting on params - 2000 0.4 5\n",
            "Exception - max_df corresponds to < documents than min_df\n",
            "Params -  2000 0.4 5\n",
            "Fitting on params - 2000 0.4 10\n",
            "Exception - max_df corresponds to < documents than min_df\n",
            "Params -  2000 0.4 10\n",
            "Fitting on params - 2000 0.4 20\n",
            "Exception - max_df corresponds to < documents than min_df\n",
            "Params -  2000 0.4 20\n",
            "Fitting on params - 2000 0.4 50\n",
            "Exception - max_df corresponds to < documents than min_df\n",
            "Params -  2000 0.4 50\n",
            "Fitting on params - 2000 0.5 0.5\n",
            "Exception - After pruning, no terms remain. Try a lower min_df or a higher max_df.\n",
            "Params -  2000 0.5 0.5\n",
            "Fitting on params - 2000 0.5 1.0\n",
            "Exception - After pruning, no terms remain. Try a lower min_df or a higher max_df.\n",
            "Params -  2000 0.5 1.0\n",
            "Fitting on params - 2000 0.5 2\n",
            "Exception - max_df corresponds to < documents than min_df\n",
            "Params -  2000 0.5 2\n",
            "Fitting on params - 2000 0.5 3\n",
            "Exception - max_df corresponds to < documents than min_df\n",
            "Params -  2000 0.5 3\n",
            "Fitting on params - 2000 0.5 4\n",
            "Exception - max_df corresponds to < documents than min_df\n",
            "Params -  2000 0.5 4\n",
            "Fitting on params - 2000 0.5 5\n",
            "Exception - max_df corresponds to < documents than min_df\n",
            "Params -  2000 0.5 5\n",
            "Fitting on params - 2000 0.5 10\n",
            "Exception - max_df corresponds to < documents than min_df\n",
            "Params -  2000 0.5 10\n",
            "Fitting on params - 2000 0.5 20\n",
            "Exception - max_df corresponds to < documents than min_df\n",
            "Params -  2000 0.5 20\n",
            "Fitting on params - 2000 0.5 50\n",
            "Exception - max_df corresponds to < documents than min_df\n",
            "Params -  2000 0.5 50\n",
            "Fitting on params - 2000 1 1.0\n",
            "Fitting on params - 2000 1 2\n",
            "Fitting on params - 2000 1 3\n",
            "Fitting on params - 2000 1 4\n",
            "Fitting on params - 2000 1 5\n",
            "Fitting on params - 2000 1 10\n",
            "Fitting on params - 2000 1 20\n",
            "Fitting on params - 2000 1 50\n",
            "Fitting on params - 2000 2 2\n",
            "Fitting on params - 2000 2 3\n"
          ]
        },
        {
          "name": "stdout",
          "output_type": "stream",
          "text": [
            "Fitting on params - 2000 2 4\n",
            "Fitting on params - 2000 2 5\n",
            "Fitting on params - 2000 2 10\n",
            "Fitting on params - 2000 2 20\n",
            "Fitting on params - 2000 2 50\n",
            "Fitting on params - 2000 3 3\n",
            "Fitting on params - 2000 3 4\n",
            "Fitting on params - 2000 3 5\n",
            "Fitting on params - 2000 3 10\n",
            "Fitting on params - 2000 3 20\n",
            "Fitting on params - 2000 3 50\n",
            "Fitting on params - 2000 5 5\n",
            "Fitting on params - 2000 5 10\n",
            "Fitting on params - 2000 5 20\n",
            "Fitting on params - 2000 5 50\n",
            "Fitting on params - 2000 10 10\n",
            "Fitting on params - 2000 10 20\n",
            "Fitting on params - 2000 10 50\n",
            "Fitting on params - 10000 0.3 0.3\n",
            "Exception - After pruning, no terms remain. Try a lower min_df or a higher max_df.\n",
            "Params -  10000 0.3 0.3\n",
            "Fitting on params - 10000 0.3 0.4\n",
            "Exception - After pruning, no terms remain. Try a lower min_df or a higher max_df.\n",
            "Params -  10000 0.3 0.4\n",
            "Fitting on params - 10000 0.3 0.5\n",
            "Exception - After pruning, no terms remain. Try a lower min_df or a higher max_df.\n",
            "Params -  10000 0.3 0.5\n",
            "Fitting on params - 10000 0.3 1.0\n",
            "Exception - After pruning, no terms remain. Try a lower min_df or a higher max_df.\n",
            "Params -  10000 0.3 1.0\n",
            "Fitting on params - 10000 0.3 2\n",
            "Exception - max_df corresponds to < documents than min_df\n",
            "Params -  10000 0.3 2\n",
            "Fitting on params - 10000 0.3 3\n",
            "Exception - max_df corresponds to < documents than min_df\n",
            "Params -  10000 0.3 3\n",
            "Fitting on params - 10000 0.3 4\n",
            "Exception - max_df corresponds to < documents than min_df\n",
            "Params -  10000 0.3 4\n",
            "Fitting on params - 10000 0.3 5\n",
            "Exception - max_df corresponds to < documents than min_df\n",
            "Params -  10000 0.3 5\n",
            "Fitting on params - 10000 0.3 10\n",
            "Exception - max_df corresponds to < documents than min_df\n",
            "Params -  10000 0.3 10\n",
            "Fitting on params - 10000 0.3 20\n",
            "Exception - max_df corresponds to < documents than min_df\n",
            "Params -  10000 0.3 20\n",
            "Fitting on params - 10000 0.3 50\n",
            "Exception - max_df corresponds to < documents than min_df\n",
            "Params -  10000 0.3 50\n",
            "Fitting on params - 10000 0.4 0.4\n",
            "Exception - After pruning, no terms remain. Try a lower min_df or a higher max_df.\n",
            "Params -  10000 0.4 0.4\n",
            "Fitting on params - 10000 0.4 0.5\n",
            "Exception - After pruning, no terms remain. Try a lower min_df or a higher max_df.\n",
            "Params -  10000 0.4 0.5\n",
            "Fitting on params - 10000 0.4 1.0\n",
            "Exception - After pruning, no terms remain. Try a lower min_df or a higher max_df.\n",
            "Params -  10000 0.4 1.0\n",
            "Fitting on params - 10000 0.4 2\n",
            "Exception - max_df corresponds to < documents than min_df\n",
            "Params -  10000 0.4 2\n",
            "Fitting on params - 10000 0.4 3\n",
            "Exception - max_df corresponds to < documents than min_df\n",
            "Params -  10000 0.4 3\n",
            "Fitting on params - 10000 0.4 4\n",
            "Exception - max_df corresponds to < documents than min_df\n",
            "Params -  10000 0.4 4\n",
            "Fitting on params - 10000 0.4 5\n",
            "Exception - max_df corresponds to < documents than min_df\n",
            "Params -  10000 0.4 5\n",
            "Fitting on params - 10000 0.4 10\n",
            "Exception - max_df corresponds to < documents than min_df\n",
            "Params -  10000 0.4 10\n",
            "Fitting on params - 10000 0.4 20\n",
            "Exception - max_df corresponds to < documents than min_df\n",
            "Params -  10000 0.4 20\n",
            "Fitting on params - 10000 0.4 50\n",
            "Exception - max_df corresponds to < documents than min_df\n",
            "Params -  10000 0.4 50\n",
            "Fitting on params - 10000 0.5 0.5\n",
            "Exception - After pruning, no terms remain. Try a lower min_df or a higher max_df.\n",
            "Params -  10000 0.5 0.5\n",
            "Fitting on params - 10000 0.5 1.0\n",
            "Exception - After pruning, no terms remain. Try a lower min_df or a higher max_df.\n",
            "Params -  10000 0.5 1.0\n",
            "Fitting on params - 10000 0.5 2\n",
            "Exception - max_df corresponds to < documents than min_df\n",
            "Params -  10000 0.5 2\n",
            "Fitting on params - 10000 0.5 3\n",
            "Exception - max_df corresponds to < documents than min_df\n",
            "Params -  10000 0.5 3\n",
            "Fitting on params - 10000 0.5 4\n",
            "Exception - max_df corresponds to < documents than min_df\n",
            "Params -  10000 0.5 4\n",
            "Fitting on params - 10000 0.5 5\n",
            "Exception - max_df corresponds to < documents than min_df\n",
            "Params -  10000 0.5 5\n",
            "Fitting on params - 10000 0.5 10\n",
            "Exception - max_df corresponds to < documents than min_df\n",
            "Params -  10000 0.5 10\n",
            "Fitting on params - 10000 0.5 20\n",
            "Exception - max_df corresponds to < documents than min_df\n",
            "Params -  10000 0.5 20\n",
            "Fitting on params - 10000 0.5 50\n",
            "Exception - max_df corresponds to < documents than min_df\n",
            "Params -  10000 0.5 50\n",
            "Fitting on params - 10000 1 1.0\n",
            "Fitting on params - 10000 1 2\n",
            "Fitting on params - 10000 1 3\n",
            "Fitting on params - 10000 1 4\n",
            "Fitting on params - 10000 1 5\n",
            "Fitting on params - 10000 1 10\n",
            "Fitting on params - 10000 1 20\n",
            "Fitting on params - 10000 1 50\n",
            "Fitting on params - 10000 2 2\n",
            "Fitting on params - 10000 2 3\n",
            "Fitting on params - 10000 2 4\n",
            "Fitting on params - 10000 2 5\n",
            "Fitting on params - 10000 2 10\n",
            "Fitting on params - 10000 2 20\n",
            "Fitting on params - 10000 2 50\n",
            "Fitting on params - 10000 3 3\n",
            "Fitting on params - 10000 3 4\n",
            "Fitting on params - 10000 3 5\n",
            "Fitting on params - 10000 3 10\n",
            "Fitting on params - 10000 3 20\n",
            "Fitting on params - 10000 3 50\n",
            "Fitting on params - 10000 5 5\n",
            "Fitting on params - 10000 5 10\n",
            "Fitting on params - 10000 5 20\n",
            "Fitting on params - 10000 5 50\n",
            "Fitting on params - 10000 10 10\n",
            "Fitting on params - 10000 10 20\n",
            "Fitting on params - 10000 10 50\n",
            "Fitting on params - None 0.3 0.3\n",
            "Exception - After pruning, no terms remain. Try a lower min_df or a higher max_df.\n",
            "Params -  None 0.3 0.3\n",
            "Fitting on params - None 0.3 0.4\n",
            "Exception - After pruning, no terms remain. Try a lower min_df or a higher max_df.\n",
            "Params -  None 0.3 0.4\n",
            "Fitting on params - None 0.3 0.5\n",
            "Exception - After pruning, no terms remain. Try a lower min_df or a higher max_df.\n",
            "Params -  None 0.3 0.5\n",
            "Fitting on params - None 0.3 1.0\n",
            "Exception - After pruning, no terms remain. Try a lower min_df or a higher max_df.\n",
            "Params -  None 0.3 1.0\n",
            "Fitting on params - None 0.3 2\n",
            "Exception - max_df corresponds to < documents than min_df\n",
            "Params -  None 0.3 2\n",
            "Fitting on params - None 0.3 3\n",
            "Exception - max_df corresponds to < documents than min_df\n",
            "Params -  None 0.3 3\n",
            "Fitting on params - None 0.3 4\n",
            "Exception - max_df corresponds to < documents than min_df\n",
            "Params -  None 0.3 4\n",
            "Fitting on params - None 0.3 5\n",
            "Exception - max_df corresponds to < documents than min_df\n",
            "Params -  None 0.3 5\n",
            "Fitting on params - None 0.3 10\n",
            "Exception - max_df corresponds to < documents than min_df\n",
            "Params -  None 0.3 10\n",
            "Fitting on params - None 0.3 20\n",
            "Exception - max_df corresponds to < documents than min_df\n",
            "Params -  None 0.3 20\n",
            "Fitting on params - None 0.3 50\n",
            "Exception - max_df corresponds to < documents than min_df\n",
            "Params -  None 0.3 50\n",
            "Fitting on params - None 0.4 0.4\n",
            "Exception - After pruning, no terms remain. Try a lower min_df or a higher max_df.\n",
            "Params -  None 0.4 0.4\n",
            "Fitting on params - None 0.4 0.5\n",
            "Exception - After pruning, no terms remain. Try a lower min_df or a higher max_df.\n",
            "Params -  None 0.4 0.5\n",
            "Fitting on params - None 0.4 1.0\n",
            "Exception - After pruning, no terms remain. Try a lower min_df or a higher max_df.\n",
            "Params -  None 0.4 1.0\n",
            "Fitting on params - None 0.4 2\n",
            "Exception - max_df corresponds to < documents than min_df\n",
            "Params -  None 0.4 2\n",
            "Fitting on params - None 0.4 3\n",
            "Exception - max_df corresponds to < documents than min_df\n",
            "Params -  None 0.4 3\n",
            "Fitting on params - None 0.4 4\n",
            "Exception - max_df corresponds to < documents than min_df\n",
            "Params -  None 0.4 4\n",
            "Fitting on params - None 0.4 5\n",
            "Exception - max_df corresponds to < documents than min_df\n",
            "Params -  None 0.4 5\n",
            "Fitting on params - None 0.4 10\n",
            "Exception - max_df corresponds to < documents than min_df\n",
            "Params -  None 0.4 10\n",
            "Fitting on params - None 0.4 20\n",
            "Exception - max_df corresponds to < documents than min_df\n",
            "Params -  None 0.4 20\n",
            "Fitting on params - None 0.4 50\n",
            "Exception - max_df corresponds to < documents than min_df\n",
            "Params -  None 0.4 50\n",
            "Fitting on params - None 0.5 0.5\n",
            "Exception - After pruning, no terms remain. Try a lower min_df or a higher max_df.\n",
            "Params -  None 0.5 0.5\n",
            "Fitting on params - None 0.5 1.0\n",
            "Exception - After pruning, no terms remain. Try a lower min_df or a higher max_df.\n",
            "Params -  None 0.5 1.0\n",
            "Fitting on params - None 0.5 2\n",
            "Exception - max_df corresponds to < documents than min_df\n",
            "Params -  None 0.5 2\n",
            "Fitting on params - None 0.5 3\n",
            "Exception - max_df corresponds to < documents than min_df\n",
            "Params -  None 0.5 3\n",
            "Fitting on params - None 0.5 4\n",
            "Exception - max_df corresponds to < documents than min_df\n",
            "Params -  None 0.5 4\n",
            "Fitting on params - None 0.5 5\n"
          ]
        },
        {
          "name": "stdout",
          "output_type": "stream",
          "text": [
            "Exception - max_df corresponds to < documents than min_df\n",
            "Params -  None 0.5 5\n",
            "Fitting on params - None 0.5 10\n",
            "Exception - max_df corresponds to < documents than min_df\n",
            "Params -  None 0.5 10\n",
            "Fitting on params - None 0.5 20\n",
            "Exception - max_df corresponds to < documents than min_df\n",
            "Params -  None 0.5 20\n",
            "Fitting on params - None 0.5 50\n",
            "Exception - max_df corresponds to < documents than min_df\n",
            "Params -  None 0.5 50\n",
            "Fitting on params - None 1 1.0\n",
            "Fitting on params - None 1 2\n",
            "Fitting on params - None 1 3\n",
            "Fitting on params - None 1 4\n",
            "Fitting on params - None 1 5\n",
            "Fitting on params - None 1 10\n",
            "Fitting on params - None 1 20\n",
            "Fitting on params - None 1 50\n",
            "Fitting on params - None 2 2\n",
            "Fitting on params - None 2 3\n",
            "Fitting on params - None 2 4\n",
            "Fitting on params - None 2 5\n",
            "Fitting on params - None 2 10\n",
            "Fitting on params - None 2 20\n",
            "Fitting on params - None 2 50\n",
            "Fitting on params - None 3 3\n",
            "Fitting on params - None 3 4\n",
            "Fitting on params - None 3 5\n",
            "Fitting on params - None 3 10\n",
            "Fitting on params - None 3 20\n",
            "Fitting on params - None 3 50\n",
            "Fitting on params - None 5 5\n",
            "Fitting on params - None 5 10\n",
            "Fitting on params - None 5 20\n",
            "Fitting on params - None 5 50\n",
            "Fitting on params - None 10 10\n",
            "Fitting on params - None 10 20\n",
            "Fitting on params - None 10 50\n"
          ]
        }
      ],
      "source": [
        "import itertools\n",
        "\n",
        "# Setting optional params we will try\n",
        "max_features = [\n",
        "                500, \n",
        "                2000, \n",
        "                10000, \n",
        "                None  # default\n",
        "                ]\n",
        "min_df = [\n",
        "          0.3,\n",
        "          0.4,\n",
        "          0.5,\n",
        "          1,  # default\n",
        "          2,\n",
        "          3,\n",
        "          5,\n",
        "          10\n",
        "         ]\n",
        "max_df = [0.3,\n",
        "          0.4,\n",
        "          0.5,\n",
        "          1.0, # default\n",
        "          2,\n",
        "          3,\n",
        "          5,\n",
        "          10,\n",
        "          20,\n",
        "          50,          \n",
        "         ] \n",
        "\n",
        "\n",
        "# Saving the performance and params results here\n",
        "results = []\n",
        "\n",
        "# Creating all the optional combinations of params\n",
        "params = list(itertools.product(max_features, min_df, max_df))\n",
        "params = [(mf, mind, maxd) for (mf, mind, maxd) in params if mind <= maxd]\n",
        "\n",
        "\n",
        "for mf, mind, maxd in params:\n",
        "    print(\"Fitting on params -\", mf, mind, maxd)\n",
        "    \n",
        "    cv = CountVectorizer(stop_words='english', max_features=mf, min_df=mind, max_df=maxd)\n",
        "\n",
        "    try:\n",
        "        optcvectorizer = cv.fit(data_train)\n",
        "        train_vectorized_ds = optcvectorizer.transform(data_train)\n",
        "        test_vectorized_ds = optcvectorizer.transform(data_test)\n",
        "        \n",
        "        mnb = MultinomialNB().fit(train_vectorized_ds, labels_train)\n",
        "        test_preds = mnb.predict(test_vectorized_ds)\n",
        "        accuracy = accuracy_score(y_pred=test_preds, y_true=labels_test)\n",
        "        results.append((mf, mind, maxd, accuracy))\n",
        "    except Exception as e:\n",
        "        # In case a parameters combination is invalid print it and continue\n",
        "        print(\"Exception - \" + str(e))\n",
        "        print(\"Params - \", mf, mind, maxd)\n"
      ]
    },
    {
      "cell_type": "code",
      "execution_count": 54,
      "metadata": {},
      "outputs": [
        {
          "data": {
            "text/html": [
              "<div>\n",
              "<style scoped>\n",
              "    .dataframe tbody tr th:only-of-type {\n",
              "        vertical-align: middle;\n",
              "    }\n",
              "\n",
              "    .dataframe tbody tr th {\n",
              "        vertical-align: top;\n",
              "    }\n",
              "\n",
              "    .dataframe thead th {\n",
              "        text-align: right;\n",
              "    }\n",
              "</style>\n",
              "<table border=\"1\" class=\"dataframe\">\n",
              "  <thead>\n",
              "    <tr style=\"text-align: right;\">\n",
              "      <th></th>\n",
              "      <th>max_features</th>\n",
              "      <th>min_df</th>\n",
              "      <th>max_df</th>\n",
              "      <th>accuracy</th>\n",
              "    </tr>\n",
              "  </thead>\n",
              "  <tbody>\n",
              "    <tr>\n",
              "      <th>91</th>\n",
              "      <td>NaN</td>\n",
              "      <td>1</td>\n",
              "      <td>50.0</td>\n",
              "      <td>0.862206</td>\n",
              "    </tr>\n",
              "    <tr>\n",
              "      <th>90</th>\n",
              "      <td>NaN</td>\n",
              "      <td>1</td>\n",
              "      <td>20.0</td>\n",
              "      <td>0.851335</td>\n",
              "    </tr>\n",
              "    <tr>\n",
              "      <th>89</th>\n",
              "      <td>NaN</td>\n",
              "      <td>1</td>\n",
              "      <td>10.0</td>\n",
              "      <td>0.845236</td>\n",
              "    </tr>\n",
              "    <tr>\n",
              "      <th>98</th>\n",
              "      <td>NaN</td>\n",
              "      <td>2</td>\n",
              "      <td>50.0</td>\n",
              "      <td>0.835867</td>\n",
              "    </tr>\n",
              "    <tr>\n",
              "      <th>104</th>\n",
              "      <td>NaN</td>\n",
              "      <td>3</td>\n",
              "      <td>50.0</td>\n",
              "      <td>0.818101</td>\n",
              "    </tr>\n",
              "    <tr>\n",
              "      <th>84</th>\n",
              "      <td>NaN</td>\n",
              "      <td>1</td>\n",
              "      <td>1.0</td>\n",
              "      <td>0.817748</td>\n",
              "    </tr>\n",
              "    <tr>\n",
              "      <th>88</th>\n",
              "      <td>NaN</td>\n",
              "      <td>1</td>\n",
              "      <td>5.0</td>\n",
              "      <td>0.810235</td>\n",
              "    </tr>\n",
              "    <tr>\n",
              "      <th>97</th>\n",
              "      <td>NaN</td>\n",
              "      <td>2</td>\n",
              "      <td>20.0</td>\n",
              "      <td>0.806435</td>\n",
              "    </tr>\n",
              "    <tr>\n",
              "      <th>87</th>\n",
              "      <td>NaN</td>\n",
              "      <td>1</td>\n",
              "      <td>4.0</td>\n",
              "      <td>0.794237</td>\n",
              "    </tr>\n",
              "    <tr>\n",
              "      <th>108</th>\n",
              "      <td>NaN</td>\n",
              "      <td>5</td>\n",
              "      <td>50.0</td>\n",
              "      <td>0.793000</td>\n",
              "    </tr>\n",
              "  </tbody>\n",
              "</table>\n",
              "</div>"
            ],
            "text/plain": [
              "     max_features  min_df  max_df  accuracy\n",
              "91            NaN       1    50.0  0.862206\n",
              "90            NaN       1    20.0  0.851335\n",
              "89            NaN       1    10.0  0.845236\n",
              "98            NaN       2    50.0  0.835867\n",
              "104           NaN       3    50.0  0.818101\n",
              "84            NaN       1     1.0  0.817748\n",
              "88            NaN       1     5.0  0.810235\n",
              "97            NaN       2    20.0  0.806435\n",
              "87            NaN       1     4.0  0.794237\n",
              "108           NaN       5    50.0  0.793000"
            ]
          },
          "execution_count": 54,
          "metadata": {},
          "output_type": "execute_result"
        }
      ],
      "source": [
        "res_df = pd.DataFrame(results, columns=['max_features', 'min_df', 'max_df', 'accuracy'])\n",
        "res_df.sort_values('accuracy', ascending=False).head(10)"
      ]
    },
    {
      "cell_type": "markdown",
      "metadata": {},
      "source": [
        "It seems that the main param that has impact here is the max_df for high values (seems like it's cleaning noise).\n",
        "\n",
        "Let's try to optimize it with some additional values:"
      ]
    },
    {
      "cell_type": "code",
      "execution_count": 60,
      "metadata": {},
      "outputs": [
        {
          "name": "stdout",
          "output_type": "stream",
          "text": [
            "Fitting with max_df: 0\n",
            "Exception - max_df corresponds to < documents than min_df\n",
            "Params -  0\n",
            "Fitting with max_df: 10\n",
            "Fitting with max_df: 20\n",
            "Fitting with max_df: 30\n",
            "Fitting with max_df: 40\n",
            "Fitting with max_df: 50\n",
            "Fitting with max_df: 60\n",
            "Fitting with max_df: 70\n",
            "Fitting with max_df: 80\n",
            "Fitting with max_df: 90\n",
            "Fitting with max_df: 100\n"
          ]
        }
      ],
      "source": [
        "results2 = []\n",
        "\n",
        "for maxdf in range(0,101, 10):\n",
        "    print(\"Fitting with max_df:\", maxdf)\n",
        "    \n",
        "    cv = CountVectorizer(stop_words='english', max_df=maxdf)\n",
        "\n",
        "    try:\n",
        "        optcvectorizer = cv.fit(data_train)\n",
        "        train_vectorized_ds = optcvectorizer.transform(data_train)\n",
        "        test_vectorized_ds = optcvectorizer.transform(data_test)\n",
        "        \n",
        "        mnb = MultinomialNB().fit(train_vectorized_ds, labels_train)\n",
        "        test_preds = mnb.predict(test_vectorized_ds)\n",
        "        accuracy = accuracy_score(y_pred=test_preds, y_true=labels_test)\n",
        "        results2.append((maxdf, accuracy))\n",
        "    except Exception as e:\n",
        "        # In case a parameters combination is invalid print it and continue\n",
        "        print(\"Exception - \" + str(e))\n",
        "        print(\"Params - \", maxdf)\n"
      ]
    },
    {
      "cell_type": "code",
      "execution_count": 61,
      "metadata": {},
      "outputs": [
        {
          "data": {
            "text/html": [
              "<div>\n",
              "<style scoped>\n",
              "    .dataframe tbody tr th:only-of-type {\n",
              "        vertical-align: middle;\n",
              "    }\n",
              "\n",
              "    .dataframe tbody tr th {\n",
              "        vertical-align: top;\n",
              "    }\n",
              "\n",
              "    .dataframe thead th {\n",
              "        text-align: right;\n",
              "    }\n",
              "</style>\n",
              "<table border=\"1\" class=\"dataframe\">\n",
              "  <thead>\n",
              "    <tr style=\"text-align: right;\">\n",
              "      <th></th>\n",
              "      <th>max_df</th>\n",
              "      <th>accuracy</th>\n",
              "    </tr>\n",
              "  </thead>\n",
              "  <tbody>\n",
              "    <tr>\n",
              "      <th>4</th>\n",
              "      <td>50</td>\n",
              "      <td>0.862206</td>\n",
              "    </tr>\n",
              "    <tr>\n",
              "      <th>3</th>\n",
              "      <td>40</td>\n",
              "      <td>0.860262</td>\n",
              "    </tr>\n",
              "    <tr>\n",
              "      <th>5</th>\n",
              "      <td>60</td>\n",
              "      <td>0.859024</td>\n",
              "    </tr>\n",
              "    <tr>\n",
              "      <th>6</th>\n",
              "      <td>70</td>\n",
              "      <td>0.857168</td>\n",
              "    </tr>\n",
              "    <tr>\n",
              "      <th>7</th>\n",
              "      <td>80</td>\n",
              "      <td>0.856373</td>\n",
              "    </tr>\n",
              "    <tr>\n",
              "      <th>9</th>\n",
              "      <td>100</td>\n",
              "      <td>0.856284</td>\n",
              "    </tr>\n",
              "    <tr>\n",
              "      <th>2</th>\n",
              "      <td>30</td>\n",
              "      <td>0.856196</td>\n",
              "    </tr>\n",
              "    <tr>\n",
              "      <th>8</th>\n",
              "      <td>90</td>\n",
              "      <td>0.856196</td>\n",
              "    </tr>\n",
              "    <tr>\n",
              "      <th>1</th>\n",
              "      <td>20</td>\n",
              "      <td>0.851335</td>\n",
              "    </tr>\n",
              "    <tr>\n",
              "      <th>0</th>\n",
              "      <td>10</td>\n",
              "      <td>0.845236</td>\n",
              "    </tr>\n",
              "  </tbody>\n",
              "</table>\n",
              "</div>"
            ],
            "text/plain": [
              "   max_df  accuracy\n",
              "4      50  0.862206\n",
              "3      40  0.860262\n",
              "5      60  0.859024\n",
              "6      70  0.857168\n",
              "7      80  0.856373\n",
              "9     100  0.856284\n",
              "2      30  0.856196\n",
              "8      90  0.856196\n",
              "1      20  0.851335\n",
              "0      10  0.845236"
            ]
          },
          "execution_count": 61,
          "metadata": {},
          "output_type": "execute_result"
        }
      ],
      "source": [
        "res_df2 = pd.DataFrame(results2, columns=['max_df', 'accuracy'])\n",
        "res_df2.sort_values('accuracy', ascending=False).head(10)"
      ]
    },
    {
      "cell_type": "markdown",
      "metadata": {},
      "source": [
        "Seems like the best value is somewhere between 40-60, I would stick with 50 in order to avoid overfitting to a specific value based on our set."
      ]
    },
    {
      "cell_type": "markdown",
      "metadata": {},
      "source": [
        "Previous accuracy was 81.77% with the default params, let's check the new test performance with the optimized params:\n",
        "\n",
        "- max_df = 50"
      ]
    },
    {
      "cell_type": "code",
      "execution_count": 62,
      "metadata": {},
      "outputs": [
        {
          "name": "stdout",
          "output_type": "stream",
          "text": [
            "              precision    recall  f1-score   support\n",
            "\n",
            "           0       0.96      0.83      0.89       480\n",
            "           1       0.84      0.87      0.86       584\n",
            "           2       0.97      0.31      0.47       591\n",
            "           3       0.78      0.87      0.82       590\n",
            "           4       0.92      0.88      0.90       578\n",
            "           5       0.82      0.93      0.87       593\n",
            "           6       0.90      0.88      0.89       585\n",
            "           7       0.94      0.87      0.90       594\n",
            "           8       0.94      0.90      0.92       598\n",
            "           9       0.96      0.89      0.92       597\n",
            "          10       0.54      0.95      0.69       600\n",
            "          11       0.89      0.91      0.90       595\n",
            "          12       0.92      0.88      0.90       591\n",
            "          13       0.90      0.94      0.92       594\n",
            "          14       0.90      0.91      0.91       593\n",
            "          15       0.85      0.95      0.90       599\n",
            "          16       0.92      0.90      0.91       546\n",
            "          17       0.87      0.92      0.90       564\n",
            "          18       0.93      0.90      0.91       465\n",
            "          19       0.95      0.69      0.80       377\n",
            "\n",
            "    accuracy                           0.86     11314\n",
            "   macro avg       0.89      0.86      0.86     11314\n",
            "weighted avg       0.88      0.86      0.86     11314\n",
            "\n",
            "\n",
            "Accuracy: 0.8622061163160686\n"
          ]
        }
      ],
      "source": [
        "cv2 = CountVectorizer(stop_words='english', max_df=50)\n",
        "cv2.fit(data_train)\n",
        "train_ds_opt = cv2.transform(data_train)\n",
        "test_ds_opt = cv2.transform(data_test)\n",
        "\n",
        "mnb2 = MultinomialNB().fit(train_ds_opt, labels_train)\n",
        "test_preds_opt = mnb2.predict(test_ds_opt)\n",
        "accuracy = accuracy_score(y_pred=test_preds_opt, y_true=labels_test)\n",
        "print(classification_report(y_pred=test_preds_opt, y_true=labels_test))\n",
        "print(\"\\nAccuracy:\", accuracy)"
      ]
    },
    {
      "cell_type": "markdown",
      "metadata": {},
      "source": [
        "We improved from 81.77% accuracy to 86.22% accuracy!"
      ]
    },
    {
      "cell_type": "markdown",
      "metadata": {},
      "source": [
        "##### Optional: Model interpretability"
      ]
    },
    {
      "cell_type": "code",
      "execution_count": null,
      "metadata": {
        "colab": {
          "base_uri": "https://localhost:8080/",
          "height": 35
        },
        "id": "WrTOhkHV9msW",
        "outputId": "c69cb41c-5ed6-4e43-ef3f-6ccaa4980c1d"
      },
      "outputs": [],
      "source": [
        "import string\n",
        "def print_txt(txt, hot, cold):\n",
        "  \"\"\"\n",
        "  print the text, coloring hot and cold words with colors\n",
        "  \"\"\"\n",
        "  cold_color='\\x1b[41;37m{}\\x1b[0m'\n",
        "  hot_color='\\x1b[42;37m{}\\x1b[0m'\n",
        "  def color(token):\n",
        "    lower = str(token).lower()\n",
        "    lower = lower.replace('\\t','').replace('\\n','')\n",
        "    lower = lower.translate(string.punctuation)\n",
        "    if (lower in hot) and (lower in cold):\n",
        "      return mid_color.format(token)\n",
        "    elif lower in hot:\n",
        "      return hot_color.format(token)\n",
        "    elif lower in cold:\n",
        "      return cold_color.format(token)\n",
        "    else:\n",
        "      return token\n",
        "  colored_txt = \" \".join([color(token) for token in txt.split(' ')])\n",
        "  print(colored_txt)\n",
        "print_txt('This word support the first class but this the other', ['word'],['other'])"
      ]
    },
    {
      "cell_type": "markdown",
      "metadata": {},
      "source": [
        "Did not have time to get to it"
      ]
    },
    {
      "cell_type": "markdown",
      "metadata": {},
      "source": [
        "### Thank you!"
      ]
    }
  ],
  "metadata": {
    "colab": {
      "collapsed_sections": [],
      "name": "NB exercise.ipynb",
      "provenance": []
    },
    "kernelspec": {
      "display_name": "Python 3 (ipykernel)",
      "language": "python",
      "name": "python3"
    },
    "language_info": {
      "codemirror_mode": {
        "name": "ipython",
        "version": 3
      },
      "file_extension": ".py",
      "mimetype": "text/x-python",
      "name": "python",
      "nbconvert_exporter": "python",
      "pygments_lexer": "ipython3",
      "version": "3.9.7"
    }
  },
  "nbformat": 4,
  "nbformat_minor": 1
}
