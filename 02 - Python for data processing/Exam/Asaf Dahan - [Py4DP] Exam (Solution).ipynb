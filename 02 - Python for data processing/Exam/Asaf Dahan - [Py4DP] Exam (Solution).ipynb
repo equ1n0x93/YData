{
  "cells": [
    {
      "cell_type": "markdown",
      "metadata": {},
      "source": [
        "# Notes\n",
        "\n",
        "Exam contains 6 problems, Most of them are of intermediate complexity and follow the material from class or graded assignments. Note, that no loops are allowed in this exam, and all the solutions containing loops will be graded as 0.\n",
        "\n",
        "For this exam you'll need [Titanic](https://www.kaggle.com/c/titanic) and [road accidents](https://www.kaggle.com/daveianhickey/2000-16-traffic-flow-england-scotland-wales) datasets."
      ]
    },
    {
      "cell_type": "code",
      "execution_count": 2,
      "metadata": {
        "ExecuteTime": {
          "end_time": "2019-12-10T04:28:34.603776Z",
          "start_time": "2019-12-10T04:28:34.062840Z"
        },
        "scrolled": true
      },
      "outputs": [
        {
          "name": "stdout",
          "output_type": "stream",
          "text": [
            "Populating the interactive namespace from numpy and matplotlib\n"
          ]
        }
      ],
      "source": [
        "%pylab inline\n",
        "plt.style.use(\"bmh\")"
      ]
    },
    {
      "cell_type": "code",
      "execution_count": 3,
      "metadata": {
        "ExecuteTime": {
          "end_time": "2019-12-10T04:28:34.729399Z",
          "start_time": "2019-12-10T04:28:34.722007Z"
        }
      },
      "outputs": [],
      "source": [
        "plt.rcParams[\"figure.figsize\"] = (6,6)"
      ]
    },
    {
      "cell_type": "code",
      "execution_count": 4,
      "metadata": {
        "ExecuteTime": {
          "end_time": "2019-12-10T22:01:27.110972Z",
          "start_time": "2019-12-10T22:01:25.282584Z"
        },
        "scrolled": true
      },
      "outputs": [],
      "source": [
        "import numpy as np\n",
        "import pandas as pd\n",
        "import torch"
      ]
    },
    {
      "cell_type": "code",
      "execution_count": 5,
      "metadata": {
        "ExecuteTime": {
          "end_time": "2019-12-10T04:28:36.261270Z",
          "start_time": "2019-12-10T04:28:36.254114Z"
        },
        "tags": [
          "parameters"
        ]
      },
      "outputs": [],
      "source": [
        "STUDENT = \"Asaf Dahan\"\n",
        "ASSIGNMENT = \"exam\"\n",
        "TEST = False"
      ]
    },
    {
      "cell_type": "code",
      "execution_count": 5,
      "metadata": {
        "ExecuteTime": {
          "end_time": "2019-12-10T04:28:37.343105Z",
          "start_time": "2019-12-10T04:28:37.339954Z"
        }
      },
      "outputs": [],
      "source": [
        "if TEST:\n",
        "    import solutions\n",
        "    total_grade = 0\n",
        "    MAX_POINTS = 10"
      ]
    },
    {
      "cell_type": "markdown",
      "metadata": {},
      "source": [
        "# NumPy"
      ]
    },
    {
      "cell_type": "markdown",
      "metadata": {},
      "source": [
        "### 1. Filtering array (2 points).\n",
        "\n",
        "Clip array values according to the following:\n",
        "\n",
        "- given a two-dimensional array `arr` and threshold value `max_val`,\n",
        "- find those rows, for which row values sum is `> max_val`,\n",
        "- and replace largest value for each of those rows with `v` $\\rightarrow$ `v - <row sum> + max_val`.\n",
        "\n",
        "For example, consider the following array and threshold `max_val=8`:"
      ]
    },
    {
      "cell_type": "code",
      "execution_count": 6,
      "metadata": {
        "ExecuteTime": {
          "end_time": "2019-12-10T04:28:38.747272Z",
          "start_time": "2019-12-10T04:28:38.739686Z"
        }
      },
      "outputs": [
        {
          "data": {
            "text/plain": [
              "array([[ 1,  5,  4],\n",
              "       [-3,  2,  8]])"
            ]
          },
          "execution_count": 6,
          "metadata": {},
          "output_type": "execute_result"
        }
      ],
      "source": [
        "a = np.array([[1, 5, 4], [-3, 2, 8]])\n",
        "a"
      ]
    },
    {
      "cell_type": "markdown",
      "metadata": {},
      "source": [
        "Row sums are:"
      ]
    },
    {
      "cell_type": "code",
      "execution_count": 7,
      "metadata": {
        "ExecuteTime": {
          "end_time": "2019-12-10T04:28:39.659598Z",
          "start_time": "2019-12-10T04:28:39.654998Z"
        }
      },
      "outputs": [
        {
          "data": {
            "text/plain": [
              "array([10,  7])"
            ]
          },
          "execution_count": 7,
          "metadata": {},
          "output_type": "execute_result"
        }
      ],
      "source": [
        "a.sum(axis=1)"
      ]
    },
    {
      "cell_type": "markdown",
      "metadata": {},
      "source": [
        "Since row sum for row `0` is `> max_val`, largest value in that row (`a[0, 1]`, which is `5`), must be replaced with: `5 - 10 + 8 = 3`, resulting in:"
      ]
    },
    {
      "cell_type": "code",
      "execution_count": 8,
      "metadata": {
        "ExecuteTime": {
          "end_time": "2019-12-10T04:28:41.424938Z",
          "start_time": "2019-12-10T04:28:41.419800Z"
        }
      },
      "outputs": [
        {
          "data": {
            "text/plain": [
              "array([[ 1,  3,  4],\n",
              "       [-3,  2,  8]])"
            ]
          },
          "execution_count": 8,
          "metadata": {},
          "output_type": "execute_result"
        }
      ],
      "source": [
        "a_clipped = np.array([[1, 3, 4], [-3, 2, 8]])\n",
        "a_clipped"
      ]
    },
    {
      "cell_type": "markdown",
      "metadata": {
        "ExecuteTime": {
          "end_time": "2019-12-10T01:08:49.435119Z",
          "start_time": "2019-12-10T01:08:49.429350Z"
        }
      },
      "source": [
        "#### Notes:\n",
        "\n",
        "- **do not change original array**,\n",
        "- in this problem you may need to use **boolean and fancy indexing**, as well as `arr.argmax(...)`,\n",
        "- you **cannot use loops**,\n",
        "- input array is of **any two-dimensional shape** (including `(N,1)` and `(1,N)`), filled with **random integers**,\n",
        "- there may be no rows, which satisfy threshold condition, and in that case resulting array must be identical to input array."
      ]
    },
    {
      "cell_type": "code",
      "execution_count": 9,
      "metadata": {
        "ExecuteTime": {
          "end_time": "2019-12-10T04:36:11.472242Z",
          "start_time": "2019-12-10T04:36:11.468521Z"
        }
      },
      "outputs": [],
      "source": [
        "def clip_array(arr, max_val):\n",
        "    \"\"\"Clip array based on `max_val`.\"\"\"\n",
        "    tmp = arr.copy()\n",
        "    maxes = np.max(tmp, axis=1)\n",
        "    replacers = maxes - np.sum(tmp, axis=1) + max_val\n",
        "    replacers[~(tmp.sum(axis=1) > max_val)] = maxes[~(tmp.sum(axis=1) > max_val)]\n",
        "    tmp[np.arange(tmp.shape[0]), tmp.argmax(axis=1)] = replacers\n",
        "    return tmp"
      ]
    },
    {
      "cell_type": "code",
      "execution_count": 10,
      "metadata": {},
      "outputs": [],
      "source": [
        "PROBLEM_ID = 1\n",
        "\n",
        "if TEST:\n",
        "    total_grade += solutions.check(STUDENT, PROBLEM_ID, clip_array)"
      ]
    },
    {
      "cell_type": "code",
      "execution_count": 30,
      "metadata": {},
      "outputs": [
        {
          "name": "stdout",
          "output_type": "stream",
          "text": [
            "[[ 1  5  4]\n",
            " [-3  2  8]] \n",
            "\n",
            "\n",
            "[[ 1  3  4]\n",
            " [-3  2  8]] \n",
            "\n",
            "\n",
            "[[ 1]\n",
            " [ 5]\n",
            " [ 4]\n",
            " [-3]\n",
            " [ 2]\n",
            " [ 8]] \n",
            "\n",
            "\n",
            "[[ 1]\n",
            " [ 5]\n",
            " [ 4]\n",
            " [-3]\n",
            " [ 2]\n",
            " [ 7]] \n",
            "\n",
            "\n",
            "[[ 1  5  4 -3  2  8]] \n",
            "\n",
            "\n",
            "[[ 1  5  4 -3  2 -2]]\n"
          ]
        }
      ],
      "source": [
        "# Personal test - please ignore\n",
        "if not TEST:\n",
        "    print(a, \"\\n\\n\")\n",
        "    print(clip_array(a, 8), \"\\n\\n\")\n",
        "    \n",
        "    print(a.reshape(6,1), \"\\n\\n\")\n",
        "    print(clip_array(a.reshape(6,1), 7), \"\\n\\n\")\n",
        "    \n",
        "    print(a.reshape(1,6), \"\\n\\n\")\n",
        "    print(clip_array(a.reshape(1,6), 7))"
      ]
    },
    {
      "cell_type": "markdown",
      "metadata": {},
      "source": [
        "### 2. Calculate area (1 point).\n",
        "\n",
        "In this problem you will construct a naive Monte-Carlo simulator. Provided with a 2D bounding box, you must calculate it's area:\n",
        "\n",
        "- a bounding box is specified by maximum and minimum `x` and `y`, i.e. a bounding box is a **rectangle** between `minx` and `maxx` over `x`-axis and between `miny` and `maxy` over `y`-axis,\n",
        "- all of `minx`, `maxx`, `miny`, `maxy` are `>=0` and `<=1`,\n",
        "- you can sample **at most** `n_samples` points on 2D place,\n",
        "- ratio of number of points inside a bounding box to total number of points is an **estimate of bounding box area**,\n",
        "- estimate is considered valid, if it's **no more than 10% off of actual area value**,\n",
        "- `n_samples` is chosen in such a way, that **10% error is achievable nearly always**, i.e. chances of getting more then 10% error with correct computation are negligibly small.\n",
        "\n",
        "For example, a bounding box is `minx=0.25`, `maxx=0.5`, `miny=0.1`, `maxy=0.6`. Actual area is `0.125`. Suppose, that we sample `10000` points in unit square $x \\in [0, 1],\\,y \\in [0, 1]$ and 1215 of them are inside the bounding box. Then, an estimate for the bounding box area is `0.1215` (with error of about 2.8%). Image below illustrates this example.\n",
        "\n",
        "![Monte-Carlo integration example](mc.png)"
      ]
    },
    {
      "cell_type": "code",
      "execution_count": 12,
      "metadata": {
        "ExecuteTime": {
          "end_time": "2019-12-10T02:37:16.154223Z",
          "start_time": "2019-12-10T02:37:16.144904Z"
        }
      },
      "outputs": [],
      "source": [
        "def calc_area(minx, maxx, miny, maxy, n_samples):\n",
        "    \"\"\"Calculate area of bounding box.\"\"\" \n",
        "    # Sample points between 0-1\n",
        "    sampled_points = np.random.random_sample(size=(n_samples, 2))\n",
        "    actual_area = (maxx - minx) * (maxy - miny)\n",
        "\n",
        "    # Calculate the estimation\n",
        "    samples_in_box = sampled_points[(sampled_points[:, 0] >= minx) & (sampled_points[:, 0] <= maxx) &\n",
        "                                    (sampled_points[:, 1] >= miny) & (sampled_points[:, 1] <= maxy)]\n",
        "    points_in_box = samples_in_box.shape[0]\n",
        "    return points_in_box / len(sampled_points)\n"
      ]
    },
    {
      "cell_type": "code",
      "execution_count": 13,
      "metadata": {
        "ExecuteTime": {
          "end_time": "2019-11-13T23:25:50.106449Z",
          "start_time": "2019-11-13T23:25:50.095086Z"
        }
      },
      "outputs": [],
      "source": [
        "PROBLEM_ID = 2\n",
        "\n",
        "if TEST:\n",
        "    total_grade += solutions.check(STUDENT, PROBLEM_ID, calc_area)"
      ]
    },
    {
      "cell_type": "code",
      "execution_count": 14,
      "metadata": {},
      "outputs": [
        {
          "name": "stdout",
          "output_type": "stream",
          "text": [
            "Expected: 0.125\n",
            "Estimate 1: 0.1274\n",
            "Estimate 2: 0.122\n",
            "Estimate 3: 0.1223\n"
          ]
        }
      ],
      "source": [
        "# Personal test - please ignore\n",
        "if not TEST:\n",
        "    print(f\"Expected: {0.25 * 0.5}\")\n",
        "    print(f\"Estimate 1: {calc_area(0.25, 0.5, 0.1, 0.6, 10000)}\")\n",
        "    print(f\"Estimate 2: {calc_area(0.25, 0.5, 0.1, 0.6, 10000)}\")\n",
        "    print(f\"Estimate 3: {calc_area(0.25, 0.5, 0.1, 0.6, 10000)}\")"
      ]
    },
    {
      "cell_type": "markdown",
      "metadata": {},
      "source": [
        "### 3. Find outliers (3 points).\n",
        "\n",
        "Given an array of shape `(N,2)`, filter all the rows, which are more than `thr` away from other rows. Distance metrics is Euclidean, i.e. distance between rows `i` and `j` is (in pseudocode):\n",
        "\n",
        "```\n",
        "distance(i, j) = sqrt(square(arr[i, 0] - arr[j, 0]) + square(arr[i, 1] - arr[j, 1]))\n",
        "```\n",
        "\n",
        "Distance of row `i` from other rows is:\n",
        "\n",
        "```\n",
        "distance(i) = mean(distance(i, j)), j!=i\n",
        "```\n",
        "\n",
        "Rows, which have `distance(i) > thr` must be filtered. In this problem you **cannot use loops**. Instead, use broadcasting (recall recurrence matrix problem in GA-2 and extend it to two-dimensional case).\n",
        "\n",
        "As an example, consider 1000 samples from standard normal distribution for `x` (axis 1) and `y` (axis 0) and threshold of 2:\n",
        "\n",
        "![Outliers filtering](outliers.png)"
      ]
    },
    {
      "cell_type": "code",
      "execution_count": 15,
      "metadata": {
        "ExecuteTime": {
          "end_time": "2019-12-09T15:31:55.071291Z",
          "start_time": "2019-12-09T15:31:55.066198Z"
        }
      },
      "outputs": [],
      "source": [
        "def find_outliers(arr, thr):\n",
        "    \"\"\"Find outliers.\"\"\"\n",
        "    \n",
        "    # Find the number of samples\n",
        "    points_count = arr.shape[0]\n",
        "    \n",
        "    # Create distance matrix (euclidean)\n",
        "    m1 = np.zeros((points_count, points_count, 2)) + arr[np.newaxis, :]\n",
        "    m2 = (np.zeros((points_count, points_count, 2)) + arr.reshape((points_count,1,2)))\n",
        "    subtractions = np.square(m1 - m2)\n",
        "    dist_matrix = np.sqrt(np.sum(subtractions, axis=2, keepdims=True))\n",
        "\n",
        "    # distance(i) = mean(distance(i, j)), j!=i \n",
        "    # -> Dividing distance sum by (points_count - 1) will evauate the mean where i!=j    \n",
        "    # Return the array without outliers\n",
        "    return arr[~np.greater(np.sum(dist_matrix, axis=1) / (points_count-1), thr).reshape(points_count), :]"
      ]
    },
    {
      "cell_type": "code",
      "execution_count": 16,
      "metadata": {
        "ExecuteTime": {
          "end_time": "2019-12-09T15:32:00.914340Z",
          "start_time": "2019-12-09T15:32:00.906396Z"
        }
      },
      "outputs": [],
      "source": [
        "PROBLEM_ID = 3\n",
        "\n",
        "if TEST:\n",
        "    total_grade += solutions.check(STUDENT, PROBLEM_ID, find_outliers)"
      ]
    },
    {
      "cell_type": "code",
      "execution_count": 17,
      "metadata": {},
      "outputs": [
        {
          "name": "stdout",
          "output_type": "stream",
          "text": [
            "Array:\n",
            "[[0.79337306 0.21029466]\n",
            " [0.06411658 0.76081864]\n",
            " [0.06063078 0.25195854]\n",
            " [0.75269828 0.76945336]\n",
            " [0.69995353 0.41157123]\n",
            " [0.73956342 0.99536732]\n",
            " [0.60139573 0.51776686]\n",
            " [0.84683245 0.62073325]\n",
            " [0.56215929 0.55135243]\n",
            " [0.01374006 0.45497757]]\n",
            "\n",
            "Current point - [0.79337306 0.21029466]\n",
            "Distances:\n",
            "Dist from [0.79337306 0.21029466] - 0.0\n",
            "Dist from [0.06411658 0.76081864] - 0.9137240570764532\n",
            "Dist from [0.06063078 0.25195854] - 0.7339258287127035\n",
            "Dist from [0.75269828 0.76945336] - 0.5606361405342877\n",
            "Dist from [0.69995353 0.41157123] - 0.2218996673040353\n",
            "Dist from [0.73956342 0.99536732] - 0.7869145817941781\n",
            "Dist from [0.60139573 0.51776686] - 0.3624837256570277\n",
            "Dist from [0.84683245 0.62073325] - 0.41390547543547807\n",
            "Dist from [0.56215929 0.55135243] - 0.41204393915225984\n",
            "Dist from [0.01374006 0.45497757] - 0.8171274885447677\n",
            "Avg distance - 0.5802956560234657\n",
            "[0.79337306 0.21029466] is an outlier.\n",
            "\n",
            "Current point - [0.06411658 0.76081864]\n",
            "Distances:\n",
            "Dist from [0.79337306 0.21029466] - 0.9137240570764532\n",
            "Dist from [0.06411658 0.76081864] - 0.0\n",
            "Dist from [0.06063078 0.25195854] - 0.5088720374477224\n",
            "Dist from [0.75269828 0.76945336] - 0.688635830068464\n",
            "Dist from [0.69995353 0.41157123] - 0.7254394408131788\n",
            "Dist from [0.73956342 0.99536732] - 0.7150115519582375\n",
            "Dist from [0.60139573 0.51776686] - 0.5896974149703108\n",
            "Dist from [0.84683245 0.62073325] - 0.7951528437121484\n",
            "Dist from [0.56215929 0.55135243] - 0.5402986500036809\n",
            "Dist from [0.01374006 0.45497757] - 0.30996217416487665\n",
            "Avg distance - 0.6429771111350081\n",
            "[0.06411658 0.76081864] is an outlier.\n",
            "\n",
            "Current point - [0.06063078 0.25195854]\n",
            "Distances:\n",
            "Dist from [0.79337306 0.21029466] - 0.7339258287127035\n",
            "Dist from [0.06411658 0.76081864] - 0.5088720374477224\n",
            "Dist from [0.06063078 0.25195854] - 0.0\n",
            "Dist from [0.75269828 0.76945336] - 0.8641517822928293\n",
            "Dist from [0.69995353 0.41157123] - 0.6589459700873831\n",
            "Dist from [0.73956342 0.99536732] - 1.0067800911889255\n",
            "Dist from [0.60139573 0.51776686] - 0.6025618571157821\n",
            "Dist from [0.84683245 0.62073325] - 0.868393835941457\n",
            "Dist from [0.56215929 0.55135243] - 0.5840954981532047\n",
            "Dist from [0.01374006 0.45497757] - 0.2083637880606097\n",
            "Avg distance - 0.6706767432222908\n",
            "[0.06063078 0.25195854] is an outlier.\n",
            "\n",
            "Current point - [0.75269828 0.76945336]\n",
            "Distances:\n",
            "Dist from [0.79337306 0.21029466] - 0.5606361405342877\n",
            "Dist from [0.06411658 0.76081864] - 0.688635830068464\n",
            "Dist from [0.06063078 0.25195854] - 0.8641517822928293\n",
            "Dist from [0.75269828 0.76945336] - 0.0\n",
            "Dist from [0.69995353 0.41157123] - 0.3617480156731558\n",
            "Dist from [0.73956342 0.99536732] - 0.22629548154863482\n",
            "Dist from [0.60139573 0.51776686] - 0.2936640107238802\n",
            "Dist from [0.84683245 0.62073325] - 0.1760082727098336\n",
            "Dist from [0.56215929 0.55135243] - 0.2896085582571445\n",
            "Dist from [0.01374006 0.45497757] - 0.8030904412010834\n",
            "Avg distance - 0.47375983700103474\n",
            "[0.75269828 0.76945336] is not an outlier.\n",
            "\n",
            "Current point - [0.69995353 0.41157123]\n",
            "Distances:\n",
            "Dist from [0.79337306 0.21029466] - 0.2218996673040353\n",
            "Dist from [0.06411658 0.76081864] - 0.7254394408131788\n",
            "Dist from [0.06063078 0.25195854] - 0.6589459700873831\n",
            "Dist from [0.75269828 0.76945336] - 0.3617480156731558\n",
            "Dist from [0.69995353 0.41157123] - 0.0\n",
            "Dist from [0.73956342 0.99536732] - 0.5851382969079234\n",
            "Dist from [0.60139573 0.51776686] - 0.14488324726131446\n",
            "Dist from [0.84683245 0.62073325] - 0.2555820212841638\n",
            "Dist from [0.56215929 0.55135243] - 0.19628051035521546\n",
            "Dist from [0.01374006 0.45497757] - 0.6875849311030717\n",
            "Avg distance - 0.42638912230993803\n",
            "[0.69995353 0.41157123] is not an outlier.\n",
            "\n",
            "Current point - [0.73956342 0.99536732]\n",
            "Distances:\n",
            "Dist from [0.79337306 0.21029466] - 0.7869145817941781\n",
            "Dist from [0.06411658 0.76081864] - 0.7150115519582375\n",
            "Dist from [0.06063078 0.25195854] - 1.0067800911889255\n",
            "Dist from [0.75269828 0.76945336] - 0.22629548154863482\n",
            "Dist from [0.69995353 0.41157123] - 0.5851382969079234\n",
            "Dist from [0.73956342 0.99536732] - 0.0\n",
            "Dist from [0.60139573 0.51776686] - 0.49718458312691294\n",
            "Dist from [0.84683245 0.62073325] - 0.3896887622244844\n",
            "Dist from [0.56215929 0.55135243] - 0.4781437528688152\n",
            "Dist from [0.01374006 0.45497757] - 0.9048981318661063\n",
            "Avg distance - 0.6211172481649131\n",
            "[0.73956342 0.99536732] is an outlier.\n",
            "\n",
            "Current point - [0.60139573 0.51776686]\n",
            "Distances:\n",
            "Dist from [0.79337306 0.21029466] - 0.3624837256570277\n",
            "Dist from [0.06411658 0.76081864] - 0.5896974149703108\n",
            "Dist from [0.06063078 0.25195854] - 0.6025618571157821\n",
            "Dist from [0.75269828 0.76945336] - 0.2936640107238802\n",
            "Dist from [0.69995353 0.41157123] - 0.14488324726131446\n",
            "Dist from [0.73956342 0.99536732] - 0.49718458312691294\n",
            "Dist from [0.60139573 0.51776686] - 0.0\n",
            "Dist from [0.84683245 0.62073325] - 0.2661602201343825\n",
            "Dist from [0.56215929 0.55135243] - 0.05164773035339323\n",
            "Dist from [0.01374006 0.45497757] - 0.5910005688134831\n",
            "Avg distance - 0.37769815090627634\n",
            "[0.60139573 0.51776686] is not an outlier.\n",
            "\n",
            "Current point - [0.84683245 0.62073325]\n",
            "Distances:\n",
            "Dist from [0.79337306 0.21029466] - 0.41390547543547807\n",
            "Dist from [0.06411658 0.76081864] - 0.7951528437121484\n",
            "Dist from [0.06063078 0.25195854] - 0.868393835941457\n",
            "Dist from [0.75269828 0.76945336] - 0.1760082727098336\n",
            "Dist from [0.69995353 0.41157123] - 0.2555820212841638\n",
            "Dist from [0.73956342 0.99536732] - 0.3896887622244844\n",
            "Dist from [0.60139573 0.51776686] - 0.2661602201343825\n",
            "Dist from [0.84683245 0.62073325] - 0.0\n",
            "Dist from [0.56215929 0.55135243] - 0.29300598166431047\n",
            "Dist from [0.01374006 0.45497757] - 0.8494220801231261\n",
            "Avg distance - 0.478591054803265\n",
            "[0.84683245 0.62073325] is not an outlier.\n",
            "\n",
            "Current point - [0.56215929 0.55135243]\n",
            "Distances:\n",
            "Dist from [0.79337306 0.21029466] - 0.41204393915225984\n",
            "Dist from [0.06411658 0.76081864] - 0.5402986500036809\n",
            "Dist from [0.06063078 0.25195854] - 0.5840954981532047\n",
            "Dist from [0.75269828 0.76945336] - 0.2896085582571445\n",
            "Dist from [0.69995353 0.41157123] - 0.19628051035521546\n",
            "Dist from [0.73956342 0.99536732] - 0.4781437528688152\n",
            "Dist from [0.60139573 0.51776686] - 0.05164773035339323\n",
            "Dist from [0.84683245 0.62073325] - 0.29300598166431047\n",
            "Dist from [0.56215929 0.55135243] - 0.0\n",
            "Dist from [0.01374006 0.45497757] - 0.5568229194505149\n",
            "Avg distance - 0.37799417113983774\n",
            "[0.56215929 0.55135243] is not an outlier.\n",
            "\n",
            "Current point - [0.01374006 0.45497757]\n",
            "Distances:\n",
            "Dist from [0.79337306 0.21029466] - 0.8171274885447677\n",
            "Dist from [0.06411658 0.76081864] - 0.30996217416487665\n",
            "Dist from [0.06063078 0.25195854] - 0.2083637880606097\n",
            "Dist from [0.75269828 0.76945336] - 0.8030904412010834\n",
            "Dist from [0.69995353 0.41157123] - 0.6875849311030717\n",
            "Dist from [0.73956342 0.99536732] - 0.9048981318661063\n",
            "Dist from [0.60139573 0.51776686] - 0.5910005688134831\n",
            "Dist from [0.84683245 0.62073325] - 0.8494220801231261\n",
            "Dist from [0.56215929 0.55135243] - 0.5568229194505149\n",
            "Dist from [0.01374006 0.45497757] - 0.0\n",
            "Avg distance - 0.6364747248141822\n",
            "[0.01374006 0.45497757] is an outlier.\n",
            "\n",
            "\n",
            "Result array:\n",
            "[[0.75269828 0.76945336]\n",
            " [0.69995353 0.41157123]\n",
            " [0.60139573 0.51776686]\n",
            " [0.84683245 0.62073325]\n",
            " [0.56215929 0.55135243]]\n",
            "\n"
          ]
        }
      ],
      "source": [
        "# Personal test - please ignore\n",
        "if not TEST:\n",
        "    n = 10\n",
        "    thr = 0.5\n",
        "    arr = np.random.random_sample((n, 2))\n",
        "    print(f\"Array:\\n{arr}\\n\")\n",
        "    \n",
        "    for r1 in arr:\n",
        "        dists = 0\n",
        "        print(f\"Current point - {r1}\")\n",
        "        print(f\"Distances:\")\n",
        "        for r2 in arr:\n",
        "            dist = np.sqrt((r1[0] - r2[0])**2 + (r1[1] - r2[1])**2)\n",
        "            print(f\"Dist from {r2} - {dist}\")            \n",
        "            dists += dist\n",
        "        print(f\"Avg distance - {dists / (n-1)}\")\n",
        "        if (dists / (n-1)) > thr:\n",
        "            print(f\"{r1} is an outlier.\\n\")\n",
        "        else:\n",
        "            print(f\"{r1} is not an outlier.\\n\")\n",
        "        \n",
        "    print(f\"\\nResult array:\\n{find_outliers(arr, thr)}\\n\")"
      ]
    },
    {
      "cell_type": "markdown",
      "metadata": {},
      "source": [
        "# PyTorch"
      ]
    },
    {
      "cell_type": "markdown",
      "metadata": {},
      "source": [
        "### 4. SImple derivative (1 point).\n",
        "\n",
        "Given some value of `x0`, calculate a derivative of sigmoid function at that point. Input is a single floating point value. Output must also be a single floating point value (not a tensor!) equal to derivative of $\\sigma(x)$ at `x0`.\n",
        "\n",
        "Do not use the exact formula for the derivative, but use PyTorch `.backward()`."
      ]
    },
    {
      "cell_type": "code",
      "execution_count": 18,
      "metadata": {
        "ExecuteTime": {
          "end_time": "2019-11-13T23:15:11.348224Z",
          "start_time": "2019-11-13T23:15:11.334569Z"
        }
      },
      "outputs": [],
      "source": [
        "def d_sigmoid(x0):\n",
        "    \"\"\"Derivative of sigmoid.\"\"\"\n",
        "    t = torch.tensor(float(x0), requires_grad=True)\n",
        "    sig = torch.sigmoid(t)\n",
        "    sig.backward()\n",
        "    return t.grad.item()"
      ]
    },
    {
      "cell_type": "code",
      "execution_count": 19,
      "metadata": {
        "ExecuteTime": {
          "end_time": "2019-11-13T23:25:50.106449Z",
          "start_time": "2019-11-13T23:25:50.095086Z"
        }
      },
      "outputs": [],
      "source": [
        "PROBLEM_ID = 4\n",
        "\n",
        "if TEST:\n",
        "    total_grade += solutions.check(STUDENT, PROBLEM_ID, d_sigmoid)"
      ]
    },
    {
      "cell_type": "code",
      "execution_count": 32,
      "metadata": {},
      "outputs": [
        {
          "name": "stdout",
          "output_type": "stream",
          "text": [
            "Expected value [0.24174272434710267] - Func value [0.24174273014068604]\n",
            "Expected value [0.2203676488485075] - Func value [0.2203676402568817]\n",
            "Expected value [0.21691770324671786] - Func value [0.21691769361495972]\n",
            "Expected value [0.24987886855075614] - Func value [0.2498788684606552]\n",
            "Expected value [0.20168431122313693] - Func value [0.20168432593345642]\n",
            "Expected value [0.24534878967613902] - Func value [0.24534879624843597]\n",
            "Expected value [0.19714916179863964] - Func value [0.19714917242527008]\n",
            "Expected value [0.19796580234424177] - Func value [0.1979658156633377]\n",
            "Expected value [0.2307064038808568] - Func value [0.23070639371871948]\n",
            "Expected value [0.22249340294103612] - Func value [0.22249341011047363]\n"
          ]
        }
      ],
      "source": [
        "# Personal test - please ignore\n",
        "if not TEST:\n",
        "    samples = np.random.random_sample(10)\n",
        "    \n",
        "    from scipy.special import expit as sigmoid\n",
        "    def sigmoid_grad(x):\n",
        "        fx = sigmoid(x)\n",
        "        return fx * (1 - fx)\n",
        "    \n",
        "    for i in samples:\n",
        "        print(f\"Expected value [{sigmoid_grad(i)}] - Func value [{d_sigmoid(i)}]\")"
      ]
    },
    {
      "cell_type": "markdown",
      "metadata": {},
      "source": [
        "# Pandas"
      ]
    },
    {
      "cell_type": "markdown",
      "metadata": {},
      "source": [
        "### 5. Ratio of males travelling alone per class (1 point).\n",
        "\n",
        "Given the Titanic dataset, calculate ratio of males travelling alove (`SipSp==0` and `Parch==0`) per class. In other words, calculate number of males travelling alone in each class, divided by number of passengers in that class.\n",
        "\n",
        "Input is indexed with `PassengerId` and is a concatenation of train and test sets. Output must be a series, indexed by class, containing the requested ratios."
      ]
    },
    {
      "cell_type": "code",
      "execution_count": 21,
      "metadata": {
        "ExecuteTime": {
          "end_time": "2019-11-25T08:26:56.688466Z",
          "start_time": "2019-11-25T08:26:56.684610Z"
        }
      },
      "outputs": [],
      "source": [
        "def lone_males(df):\n",
        "    \"\"\"Calculate ratio of males travelling alone per class.\"\"\"\n",
        "    # Count lone male and total passangers per class\n",
        "    lone_male = df[(df.SibSp==0) & (df.Parch==0) & (df.Sex==\"male\")].reset_index().\\\n",
        "                                groupby('Pclass').PassengerId.nunique().reset_index()\n",
        "    total_passengers = df.reset_index().groupby('Pclass').PassengerId.nunique().reset_index()\n",
        "    # Merge based on class and return the ratio\n",
        "    res_df = lone_male.merge(total_passengers, on=\"Pclass\", suffixes=['_lone', '_total'])\n",
        "    res_df.set_index('Pclass', inplace=True)\n",
        "    return (res_df.PassengerId_lone / res_df.PassengerId_total)"
      ]
    },
    {
      "cell_type": "code",
      "execution_count": 22,
      "metadata": {
        "ExecuteTime": {
          "end_time": "2019-11-25T08:27:11.838257Z",
          "start_time": "2019-11-25T08:27:11.720830Z"
        }
      },
      "outputs": [],
      "source": [
        "PROBLEM_ID = 5\n",
        "\n",
        "if TEST:\n",
        "    total_grade += solutions.check(STUDENT, PROBLEM_ID, lone_males)"
      ]
    },
    {
      "cell_type": "code",
      "execution_count": 23,
      "metadata": {},
      "outputs": [
        {
          "name": "stdout",
          "output_type": "stream",
          "text": [
            "Lone males per class:\n",
            "   Pclass  PassengerId\n",
            "0       1          108\n",
            "1       2          116\n",
            "2       3          372\n",
            "\n",
            "Total per class:\n",
            "   Pclass  PassengerId\n",
            "0       1          323\n",
            "1       2          277\n",
            "2       3          709\n",
            "\n",
            "Merged DF:\n",
            "        PassengerId_lone  PassengerId_total\n",
            "Pclass                                     \n",
            "1                    108                323\n",
            "2                    116                277\n",
            "3                    372                709\n",
            "\n",
            "Function result:\n",
            "Pclass\n",
            "1    0.334365\n",
            "2    0.418773\n",
            "3    0.524683\n",
            "dtype: float64\n"
          ]
        }
      ],
      "source": [
        "# Personal test - please ignore\n",
        "if not TEST:\n",
        "    df_train = pd.read_csv('./train.csv')\n",
        "    df_test = pd.read_csv('./test.csv')\n",
        "    df = pd.concat([df_train, df_test])\n",
        "    df.set_index('PassengerId', inplace=True)\n",
        "    lone_male = df[(df.SibSp==0) & (df.Parch==0) & (df.Sex==\"male\")].reset_index().\\\n",
        "                                groupby('Pclass').PassengerId.nunique().reset_index()\n",
        "    total_passengers = df.reset_index().groupby('Pclass').PassengerId.nunique().reset_index()\n",
        "    res_df = lone_male.merge(total_passengers, on=\"Pclass\", suffixes=['_lone', '_total'])\n",
        "    res_df.set_index('Pclass', inplace=True)\n",
        "    print(f\"Lone males per class:\\n{lone_male}\\n\")\n",
        "    print(f\"Total per class:\\n{total_passengers}\\n\")\n",
        "    print(f\"Merged DF:\\n{res_df}\\n\")\n",
        "    print(f\"Function result:\\n{lone_males(df)}\")"
      ]
    },
    {
      "cell_type": "markdown",
      "metadata": {},
      "source": [
        "### 6. Worst days on UK roads in 2005 (2 points).\n",
        "\n",
        "Calculate Top-5 days with the largest number of severe accidents (`Accident_Severity < 3`).\n",
        "\n",
        "Input is a **dataframe**, containing all the accidents in 2005 and the following columns: `date_time` (constructed in the same way, as in optional time series notebook) and `Accident_Severity`. Index is a default integer index. Result must be a list (or tuple) of dates (as a `pd.Timestamp`) with 5 elements."
      ]
    },
    {
      "cell_type": "code",
      "execution_count": 24,
      "metadata": {
        "ExecuteTime": {
          "end_time": "2019-12-10T03:08:04.058718Z",
          "start_time": "2019-12-10T03:08:04.055676Z"
        }
      },
      "outputs": [],
      "source": [
        "def worst_days(df):\n",
        "    \"\"\"Calculate Top 5 most severe days.\"\"\"\n",
        "    tmp = df.copy()\n",
        "    high_sev = tmp[tmp.Accident_Severity<3]\n",
        "    top5 = high_sev.date_time.dt.date.value_counts().head(5)\n",
        "    return top5.index.map(lambda x: pd.Timestamp(x)).tolist()"
      ]
    },
    {
      "cell_type": "code",
      "execution_count": 25,
      "metadata": {
        "ExecuteTime": {
          "end_time": "2019-11-25T08:27:11.838257Z",
          "start_time": "2019-11-25T08:27:11.720830Z"
        }
      },
      "outputs": [],
      "source": [
        "PROBLEM_ID = 6\n",
        "\n",
        "if TEST:\n",
        "    total_grade += solutions.check(STUDENT, PROBLEM_ID, worst_days)"
      ]
    },
    {
      "cell_type": "code",
      "execution_count": 26,
      "metadata": {},
      "outputs": [
        {
          "name": "stderr",
          "output_type": "stream",
          "text": [
            "/Users/adahan/opt/anaconda3/envs/py4dp/lib/python3.9/site-packages/IPython/core/interactiveshell.py:3444: DtypeWarning: Columns (31) have mixed types.Specify dtype option on import or set low_memory=False.\n",
            "  exec(code_obj, self.user_global_ns, self.user_ns)\n"
          ]
        }
      ],
      "source": [
        "# Personal test - please ignore\n",
        "if not TEST:\n",
        "    d = pd.read_csv('./accidents_2005_to_2007.csv')\n",
        "    d.loc[:, 'dt'] = d.Date.str.cat(d.Time, sep=' ', na_rep='00:00')\n",
        "    d.loc[:, 'date_time'] = pd.to_datetime(d.dt, dayfirst=True)"
      ]
    },
    {
      "cell_type": "code",
      "execution_count": 27,
      "metadata": {},
      "outputs": [
        {
          "name": "stdout",
          "output_type": "stream",
          "text": [
            "Dates value count -\n",
            "2006-06-10    142\n",
            "2006-09-09    118\n",
            "2005-05-14    117\n",
            "2005-06-18    115\n",
            "2005-09-16    114\n",
            "Name: date_time, dtype: int64\n",
            "\n",
            "Function result -\n",
            "[Timestamp('2006-06-10 00:00:00'), Timestamp('2006-09-09 00:00:00'), Timestamp('2005-05-14 00:00:00'), Timestamp('2005-06-18 00:00:00'), Timestamp('2005-09-16 00:00:00')]\n"
          ]
        }
      ],
      "source": [
        "# Personal test - please ignore\n",
        "if not TEST:\n",
        "    tmp = d.copy()\n",
        "    tmp.index = tmp.index.set_names(['acc_id'])\n",
        "    tmp.reset_index(inplace=True)\n",
        "    high_sev = tmp[tmp.Accident_Severity<3]\n",
        "    top5 = high_sev.date_time.dt.date.value_counts().head(5)\n",
        "    print(f\"Dates value count -\\n{top5}\\n\")\n",
        "    print(f\"Function result -\\n{worst_days(d)}\")"
      ]
    },
    {
      "cell_type": "code",
      "execution_count": 28,
      "metadata": {},
      "outputs": [],
      "source": [
        "if TEST:\n",
        "    print(f\"{STUDENT}: {int(100 * total_grade / MAX_POINTS)}\")"
      ]
    }
  ],
  "metadata": {
    "@webio": {
      "lastCommId": null,
      "lastKernelId": null
    },
    "celltoolbar": "Tags",
    "kernelspec": {
      "display_name": "Python 3 (ipykernel)",
      "language": "python",
      "name": "python3"
    },
    "language_info": {
      "codemirror_mode": {
        "name": "ipython",
        "version": 3
      },
      "file_extension": ".py",
      "mimetype": "text/x-python",
      "name": "python",
      "nbconvert_exporter": "python",
      "pygments_lexer": "ipython3",
      "version": "3.9.7"
    }
  },
  "nbformat": 4,
  "nbformat_minor": 2
}
