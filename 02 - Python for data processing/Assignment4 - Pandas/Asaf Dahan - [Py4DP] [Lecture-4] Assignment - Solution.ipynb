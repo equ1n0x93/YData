{
  "cells": [
    {
      "cell_type": "markdown",
      "metadata": {},
      "source": [
        "# Notes\n",
        "\n",
        "This assignment is devoted to `pandas`. It covers indexing and filtering, and some `groupby` and `join` operations. The assignment roughly corresponds to Week 4 and the beginning of Week 5 of the course.\n",
        "\n",
        "The main dataset you'll be using is [Titanic](https://www.kaggle.com/c/titanic). Please, note, that you must not rely on any specific location for the dataset, hence, any code like\n",
        "\n",
        "```python\n",
        "titanic_train = pd.read_csv(\"<location>/train.csv\")\n",
        "```\n",
        "\n",
        "will fail and your notebook won't be validated and graded. Inputs to the functions are described explicitly in each case, and that's the only thing you can rely on."
      ]
    },
    {
      "cell_type": "code",
      "execution_count": 1,
      "metadata": {
        "ExecuteTime": {
          "end_time": "2019-12-12T07:42:25.600794Z",
          "start_time": "2019-12-12T07:42:25.049149Z"
        },
        "scrolled": true
      },
      "outputs": [
        {
          "name": "stdout",
          "output_type": "stream",
          "text": [
            "Populating the interactive namespace from numpy and matplotlib\n"
          ]
        }
      ],
      "source": [
        "%pylab inline\n",
        "plt.style.use(\"bmh\")"
      ]
    },
    {
      "cell_type": "code",
      "execution_count": 2,
      "metadata": {
        "ExecuteTime": {
          "end_time": "2019-12-12T07:42:25.610011Z",
          "start_time": "2019-12-12T07:42:25.605263Z"
        }
      },
      "outputs": [],
      "source": [
        "plt.rcParams[\"figure.figsize\"] = (6,6)"
      ]
    },
    {
      "cell_type": "code",
      "execution_count": 3,
      "metadata": {
        "ExecuteTime": {
          "end_time": "2019-12-12T07:42:26.294404Z",
          "start_time": "2019-12-12T07:42:25.864539Z"
        },
        "scrolled": true
      },
      "outputs": [],
      "source": [
        "import numpy as np\n",
        "import pandas as pd"
      ]
    },
    {
      "cell_type": "code",
      "execution_count": 4,
      "metadata": {
        "ExecuteTime": {
          "end_time": "2019-12-12T07:42:27.329433Z",
          "start_time": "2019-12-12T07:42:27.323905Z"
        },
        "tags": [
          "parameters"
        ]
      },
      "outputs": [],
      "source": [
        "STUDENT = \"Asaf Dahan\"\n",
        "ASSIGNMENT = 4\n",
        "TEST = False"
      ]
    },
    {
      "cell_type": "code",
      "execution_count": 5,
      "metadata": {
        "ExecuteTime": {
          "end_time": "2019-12-12T07:42:27.767876Z",
          "start_time": "2019-12-12T07:42:27.757195Z"
        }
      },
      "outputs": [],
      "source": [
        "if TEST:\n",
        "    import solutions\n",
        "    total_grade = 0\n",
        "    MAX_POINTS = 16"
      ]
    },
    {
      "cell_type": "code",
      "execution_count": 6,
      "metadata": {},
      "outputs": [],
      "source": [
        "if not TEST:\n",
        "    df_train = pd.read_csv('./train.csv')\n",
        "    df_test = pd.read_csv('./test.csv')\n",
        "    df = pd.concat([df_train, df_test])\n",
        "    df.set_index('PassengerId', inplace=True)"
      ]
    },
    {
      "cell_type": "markdown",
      "metadata": {},
      "source": [
        "# Indexing and filtering"
      ]
    },
    {
      "cell_type": "markdown",
      "metadata": {},
      "source": [
        "### 1. Fixing age (1 point).\n",
        "\n",
        "There are several known mistakes in the Titanic dataset.\n",
        "\n",
        "Namely, [Julia Florence Siegel](https://www.encyclopedia-titanica.org/titanic-survivor/julia-florence-cavendish.html) (Mrs. Tyrell William Cavendish) is mistakenly marked as being 76 years old (the age she actually died, but many years after Titanic).\n",
        "\n",
        "You must **replace the corresponding age value in the dataframe with her actual age at the time** (25) and return the \n",
        "dataset. Input is **indexed** with `PassengerId` and is a **concatenation of train and test sets**. You must return a copy of the input dataframe, and not perform replacement in the original dataframe. Structure and indexing must be the same as in input."
      ]
    },
    {
      "cell_type": "code",
      "execution_count": 7,
      "metadata": {
        "ExecuteTime": {
          "end_time": "2019-12-12T07:45:36.685351Z",
          "start_time": "2019-12-12T07:45:36.675825Z"
        }
      },
      "outputs": [],
      "source": [
        "def fix_age(df):\n",
        "    \"\"\"Fix age for Julia Florence Siegel.\"\"\"\n",
        "    df.loc[df.Name.str.contains('Julia Florence Siegel'), ['Age']] = 26.\n",
        "    return df"
      ]
    },
    {
      "cell_type": "code",
      "execution_count": 8,
      "metadata": {},
      "outputs": [],
      "source": [
        "PROBLEM_ID = 1\n",
        "\n",
        "if TEST:\n",
        "    total_grade += solutions.check(STUDENT, PROBLEM_ID, fix_age)"
      ]
    },
    {
      "cell_type": "markdown",
      "metadata": {},
      "source": [
        "### 2. Embarkment port distribution (1 point).\n",
        "\n",
        "You must find the value counts for embarkment port (`Embarked` column) for the passengers, who travelled in 3-d class, were male and between 20 and 30 years old (both inclusive). No need to treat missing values separately.\n",
        "\n",
        "Input is **indexed** with `PassengerId` and is a **concatenation of train and test sets**. You must return **series**, indexed with values from `Embarked`, according to `.value_counts()` method semantics:\n",
        "\n",
        "```\n",
        "S    <number of passengers in 3-d class, embarked at S, 20<=Age<=30>\n",
        "C    <...>\n",
        "Q    <...>\n",
        "Name: Embarked, dtype: int64\n",
        "```"
      ]
    },
    {
      "cell_type": "code",
      "execution_count": 9,
      "metadata": {
        "ExecuteTime": {
          "end_time": "2019-12-12T08:09:19.622389Z",
          "start_time": "2019-12-12T08:09:19.617595Z"
        }
      },
      "outputs": [],
      "source": [
        "def embarked_stats(df):\n",
        "    \"\"\"Calculate embarkment port statistics.\"\"\"\n",
        "    return df[(df.Age >= 20.) & (df.Age <= 30.) & (df.Sex == 'male') & (df.Pclass == 3)][['Embarked']].value_counts()"
      ]
    },
    {
      "cell_type": "code",
      "execution_count": 10,
      "metadata": {
        "ExecuteTime": {
          "end_time": "2019-11-13T23:25:50.106449Z",
          "start_time": "2019-11-13T23:25:50.095086Z"
        }
      },
      "outputs": [],
      "source": [
        "PROBLEM_ID = 2\n",
        "\n",
        "if TEST:\n",
        "    total_grade += solutions.check(STUDENT, PROBLEM_ID, embarked_stats)"
      ]
    },
    {
      "cell_type": "markdown",
      "metadata": {},
      "source": [
        "### 3. Fill missing age values (1 point).\n",
        "\n",
        "Some age values are missing in the Titanic dataset. You need to calculate average age over all passengers, and fill missing age values in `Age` column.\n",
        "\n",
        "Input is **indexed** with `PassengerId` and is a **concatenation of train and test sets**. Output must be a **new** dataframe with the same structure, but without missing values in `Age` column."
      ]
    },
    {
      "cell_type": "code",
      "execution_count": 11,
      "metadata": {
        "ExecuteTime": {
          "end_time": "2019-11-25T08:26:56.688466Z",
          "start_time": "2019-11-25T08:26:56.684610Z"
        }
      },
      "outputs": [],
      "source": [
        "def fix_age(df):\n",
        "    \"\"\"Fix missing age values.\"\"\"\n",
        "    df2 = df.copy()\n",
        "    df2.loc[df2.Age.isnull(), ['Age']] = df2.Age.mean()\n",
        "    return df2"
      ]
    },
    {
      "cell_type": "code",
      "execution_count": 12,
      "metadata": {
        "ExecuteTime": {
          "end_time": "2019-11-25T10:03:45.213116Z",
          "start_time": "2019-11-25T10:03:45.199909Z"
        }
      },
      "outputs": [],
      "source": [
        "PROBLEM_ID = 3\n",
        "\n",
        "if TEST:\n",
        "    total_grade += solutions.check(STUDENT, PROBLEM_ID, fix_age)"
      ]
    },
    {
      "cell_type": "markdown",
      "metadata": {},
      "source": [
        "### 4. Child travelling alone (1 point).\n",
        "\n",
        "You must find a child (`Age<10`) on-board, who was travelling without siblings or parents and find a name of her nursemaid.\n",
        "\n",
        "Input is **indexed** with `PassengerId` and is a **concatenation of train and test sets**. Output must be a **tuple** of two strings, collected from `Name` column, with one being child's name and second being nursemaid's name. It's known, that there's **only one child** like this."
      ]
    },
    {
      "cell_type": "code",
      "execution_count": 13,
      "metadata": {
        "ExecuteTime": {
          "end_time": "2019-11-13T23:15:11.348224Z",
          "start_time": "2019-11-13T23:15:11.334569Z"
        }
      },
      "outputs": [],
      "source": [
        "def get_nursemaid(df):\n",
        "    filtered = df[(df.Age < 10) & (df.SibSp == 0) & (df.Parch == 0)]\n",
        "    # By looking on the dataset I found that the nursemaid had the same ticket number\n",
        "    merged = filtered.merge(df[['Name', 'Cabin', 'Ticket','SibSp', 'Age']], on='Ticket')\n",
        "    res = merged[merged['Name_x'] != merged['Name_y']]\n",
        "    return res.iloc[0].Name_x, res.iloc[0].Name_y "
      ]
    },
    {
      "cell_type": "code",
      "execution_count": 14,
      "metadata": {
        "ExecuteTime": {
          "end_time": "2019-11-13T23:25:50.106449Z",
          "start_time": "2019-11-13T23:25:50.095086Z"
        }
      },
      "outputs": [],
      "source": [
        "PROBLEM_ID = 4\n",
        "\n",
        "if TEST:\n",
        "    total_grade += solutions.check(STUDENT, PROBLEM_ID, get_nursemaid)"
      ]
    },
    {
      "cell_type": "markdown",
      "metadata": {},
      "source": [
        "### 5. Port with the most children embarked (1 point).\n",
        "\n",
        "You must find, which port had the largest percentage of children (`Age<10`) embarked, i.e. number of children divided by total number of passengers embarked.\n",
        "\n",
        "Input is **indexed** with `PassengerId` and is a **concatenation of train and test sets**. Output must be a **single string** with port letter."
      ]
    },
    {
      "cell_type": "code",
      "execution_count": 15,
      "metadata": {
        "ExecuteTime": {
          "end_time": "2019-11-25T08:26:56.688466Z",
          "start_time": "2019-11-25T08:26:56.684610Z"
        }
      },
      "outputs": [],
      "source": [
        "def get_port(df):\n",
        "    \"\"\"Get port with the most children embarked.\"\"\"\n",
        "    dfp = df.reset_index()\n",
        "    kids = dfp[dfp.Age < 10].groupby(['Embarked']).PassengerId.nunique()\n",
        "    adults = dfp[~(dfp.Age < 10)].groupby(['Embarked']).PassengerId.nunique()\n",
        "    return (kids/adults * 100.).sort_values(ascending=False).reset_index().iloc[0].Embarked"
      ]
    },
    {
      "cell_type": "code",
      "execution_count": 16,
      "metadata": {
        "ExecuteTime": {
          "end_time": "2019-11-25T08:27:11.838257Z",
          "start_time": "2019-11-25T08:27:11.720830Z"
        }
      },
      "outputs": [],
      "source": [
        "PROBLEM_ID = 5\n",
        "\n",
        "if TEST:\n",
        "    total_grade += solutions.check(STUDENT, PROBLEM_ID, get_port)"
      ]
    },
    {
      "cell_type": "markdown",
      "metadata": {},
      "source": [
        "### 6. Passengers per ticket (2 points).\n",
        "\n",
        "Calculate average and maximum number of passengers per ticket.\n",
        "\n",
        "Input is **indexed** with `PassengerId` and is a **concatenation of train and test sets**. Output must be a **tuple** of two values - average and maximum number of passengers per ticket."
      ]
    },
    {
      "cell_type": "code",
      "execution_count": 17,
      "metadata": {
        "ExecuteTime": {
          "end_time": "2019-11-25T08:26:56.688466Z",
          "start_time": "2019-11-25T08:26:56.684610Z"
        }
      },
      "outputs": [],
      "source": [
        "def get_ticket_stats(df):\n",
        "    \"\"\"Calculate passenger per ticket statistics.\"\"\"\n",
        "    res = df.reset_index().groupby(['Ticket']).agg({'PassengerId': 'nunique'}).reset_index()\n",
        "    return res.PassengerId.mean(), res.PassengerId.max()"
      ]
    },
    {
      "cell_type": "code",
      "execution_count": 18,
      "metadata": {
        "ExecuteTime": {
          "end_time": "2019-11-25T08:27:11.838257Z",
          "start_time": "2019-11-25T08:27:11.720830Z"
        }
      },
      "outputs": [],
      "source": [
        "PROBLEM_ID = 6\n",
        "\n",
        "if TEST:\n",
        "    total_grade += solutions.check(STUDENT, PROBLEM_ID, get_ticket_stats)"
      ]
    },
    {
      "cell_type": "markdown",
      "metadata": {},
      "source": [
        "### 7. Fare per passenger (3 points).\n",
        "\n",
        "For each individual ticket, you must calculate **fare per person for that ticket**, and then calculate averages for each class. Note, that you will need to apply `groupby` and you may consider using `.first()` of resulting `DataFrameGroupBy`. Also, caferully consider, in which order calculations are performed.\n",
        "\n",
        "Input is **indexed** with `PassengerId` and is a **concatenation of train and test sets**. Output must be `pd.Series` with three elements, indexed by class:\n",
        "\n",
        "```\n",
        "1    <average per person fare in class 1>\n",
        "2    <...>\n",
        "3    <...>\n",
        "Name: Pclass, dtype: float64\n",
        "```"
      ]
    },
    {
      "cell_type": "code",
      "execution_count": 19,
      "metadata": {
        "ExecuteTime": {
          "end_time": "2019-11-25T08:26:56.688466Z",
          "start_time": "2019-11-25T08:26:56.684610Z"
        }
      },
      "outputs": [],
      "source": [
        "def get_fare_per_pass(df):\n",
        "    \"\"\"Calculate fare per passenger for different classes.\"\"\"\n",
        "    pass_per_ticket = dfp.groupby(['Ticket', 'Pclass', 'Fare']).agg({'PassengerId': 'nunique'}).reset_index()\n",
        "    per_class = pass_per_ticket.groupby(['Pclass']).agg({'Fare': 'sum', 'PassengerId': 'sum'})\n",
        "    return pd.Series(per_class['Fare']/per_class['PassengerId'], name='Pclass')\n"
      ]
    },
    {
      "cell_type": "code",
      "execution_count": 20,
      "metadata": {
        "ExecuteTime": {
          "end_time": "2019-11-25T08:27:11.838257Z",
          "start_time": "2019-11-25T08:27:11.720830Z"
        }
      },
      "outputs": [],
      "source": [
        "PROBLEM_ID = 7\n",
        "\n",
        "if TEST:\n",
        "    total_grade += solutions.check(STUDENT, PROBLEM_ID, get_fare_per_pass)"
      ]
    },
    {
      "cell_type": "markdown",
      "metadata": {},
      "source": [
        "### 8. Fill missing age values (3 points).\n",
        "\n",
        "In problem 3 you filled missing age values with global average over all passengers. Now, you need to fill them **according to class and sex**. For example, for a female passenger from 2d class, missing age value must be filled with average age of females in 2d class.\n",
        "\n",
        "In this problem, you may need joins and `.apply()`, although there are several ways to get the same result.\n",
        "\n",
        "Input is **indexed** with `PassengerId` and is a **concatenation of train and test sets**. Output must be a **new** dataframe with the same structure as input, but without missing values in `Age` column."
      ]
    },
    {
      "cell_type": "code",
      "execution_count": 21,
      "metadata": {
        "ExecuteTime": {
          "end_time": "2019-11-25T08:26:56.688466Z",
          "start_time": "2019-11-25T08:26:56.684610Z"
        }
      },
      "outputs": [],
      "source": [
        "def fix_age_groupped(df):\n",
        "    \"\"\"Fill missing age values.\"\"\"\n",
        "    df2 = df.copy()\n",
        "    fixed_age = df2.groupby(['Pclass', 'Sex']).agg({'Age': 'mean'}).reset_index()\n",
        "    res_df = df2.merge(fixed_age, on=['Pclass', 'Sex']).rename({'Age_x': 'Age', 'Age_y': 'classSexAge'}, axis=1)\n",
        "    res_df.loc[res_df.Age.isnull(), ['Age']] = res_df.classSexAge\n",
        "    return res_df.drop(['classSexAge'], axis=1)"
      ]
    },
    {
      "cell_type": "code",
      "execution_count": 22,
      "metadata": {
        "ExecuteTime": {
          "end_time": "2019-11-25T08:27:11.838257Z",
          "start_time": "2019-11-25T08:27:11.720830Z"
        }
      },
      "outputs": [],
      "source": [
        "PROBLEM_ID = 8\n",
        "\n",
        "if TEST:\n",
        "    total_grade += solutions.check(STUDENT, PROBLEM_ID, fix_age_groupped)"
      ]
    },
    {
      "cell_type": "markdown",
      "metadata": {},
      "source": [
        "### 9. Finding couples (3 points).\n",
        "\n",
        "Based on the code from Lecture 5, build a dataframe of couples. Filter it by survival status: select those couples, in which only one of spouses survived or none of two. Built survival statistics by class, i.e. ratio of the number couples with partial survival or couples which died together, divided by total number of couples in class. If the survival status of one or both of spouses is not known, it must be considered as `0`.\n",
        "\n",
        "Input is **indexed** with `PassengerId` and is a **concatenation of train and test sets**. Output must be `Series` with three elements indexed by values from `Pclass` column (see P7 as a reference)."
      ]
    },
    {
      "cell_type": "code",
      "execution_count": 23,
      "metadata": {
        "ExecuteTime": {
          "end_time": "2019-11-25T08:26:56.688466Z",
          "start_time": "2019-11-25T08:26:56.684610Z"
        }
      },
      "outputs": [],
      "source": [
        "def find_couples(df):\n",
        "    \"\"\"Fill missing age values.\"\"\"\n",
        "    # Coupeling code from lecture 5\n",
        "    family_names = (df\n",
        "                    .replace(re.compile(r'\\s+\\(.*\\)'), '')\n",
        "                    .replace(re.compile(\"Mrs.\"), \"Mr.\"))[[\"Name\", \"Sex\"]]\n",
        "    family_names = family_names[(family_names.Sex==\"female\") & family_names.Name.str.contains(\"Mr.\")]\n",
        "    couples = (df.join(family_names\n",
        "                            .reset_index()\n",
        "                            .set_index(\"Name\")[\"PassengerId\"],\n",
        "                            on=\"Name\", how=\"inner\", rsuffix=\"_Spouse\"))\n",
        "    couples.rename({\"PassengerId\":\"PassengerId_Spouse\"},\n",
        "                   axis=1, inplace=True)\n",
        "    couples = couples.join(df[[\"Name\", \"Survived\"]],\n",
        "                           on=\"PassengerId_Spouse\", rsuffix=\"_Spouse\")\n",
        "    \n",
        "    # Fillna survived missing values with 0.\n",
        "    couples.Survived.fillna(0., inplace=True)\n",
        "    couples.Survived_Spouse.fillna(0., inplace=True)\n",
        "    # Create survived class (0 - Both dead | 1 - One surviver | 2 - Both survived)\n",
        "    couples['Survived_class'] = couples.Survived + couples.Survived_Spouse\n",
        "    return pd.Series(couples[couples.Survived_class.isin([0., 1.])].groupby('Pclass').size() / couples.groupby('Pclass').size(), name='Pclass')"
      ]
    },
    {
      "cell_type": "code",
      "execution_count": 24,
      "metadata": {
        "ExecuteTime": {
          "end_time": "2019-11-25T08:27:11.838257Z",
          "start_time": "2019-11-25T08:27:11.720830Z"
        }
      },
      "outputs": [],
      "source": [
        "PROBLEM_ID = 9\n",
        "\n",
        "if TEST:\n",
        "    total_grade += solutions.check(STUDENT, PROBLEM_ID, find_couples)"
      ]
    },
    {
      "cell_type": "code",
      "execution_count": 25,
      "metadata": {},
      "outputs": [],
      "source": [
        "if TEST:\n",
        "    print(f\"{STUDENT}: {int(100 * total_grade / MAX_POINTS)}\")"
      ]
    }
  ],
  "metadata": {
    "@webio": {
      "lastCommId": null,
      "lastKernelId": null
    },
    "celltoolbar": "Tags",
    "kernelspec": {
      "display_name": "Python 3 (ipykernel)",
      "language": "python",
      "name": "python3"
    },
    "language_info": {
      "codemirror_mode": {
        "name": "ipython",
        "version": 3
      },
      "file_extension": ".py",
      "mimetype": "text/x-python",
      "name": "python",
      "nbconvert_exporter": "python",
      "pygments_lexer": "ipython3",
      "version": "3.9.7"
    }
  },
  "nbformat": 4,
  "nbformat_minor": 2
}
