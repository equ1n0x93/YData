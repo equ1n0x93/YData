{
  "cells": [
    {
      "cell_type": "markdown",
      "metadata": {
        "tags": [
          "intro"
        ]
      },
      "source": [
        "# Notes\n",
        "\n",
        "Different problems in this assignment give different number of points: 2, 3, or 4, depending on how complex a problem is. Otherwise, guidlines are the same as in Assignment 1 and each problem contains specific validation details."
      ]
    },
    {
      "cell_type": "code",
      "execution_count": null,
      "metadata": {
        "ExecuteTime": {
          "end_time": "2019-11-07T07:36:51.948437Z",
          "start_time": "2019-11-07T07:36:51.931056Z"
        }
      },
      "outputs": [],
      "source": [
        "%pylab inline\n",
        "plt.style.use(\"bmh\")"
      ]
    },
    {
      "cell_type": "code",
      "execution_count": null,
      "metadata": {
        "ExecuteTime": {
          "end_time": "2019-11-07T07:45:52.980933Z",
          "start_time": "2019-11-07T07:45:52.970889Z"
        }
      },
      "outputs": [],
      "source": [
        "plt.rcParams[\"figure.figsize\"] = (6,6)"
      ]
    },
    {
      "cell_type": "code",
      "execution_count": null,
      "metadata": {
        "ExecuteTime": {
          "end_time": "2019-11-07T07:17:17.908376Z",
          "start_time": "2019-11-07T07:17:16.818066Z"
        }
      },
      "outputs": [],
      "source": [
        "import numpy as np"
      ]
    },
    {
      "cell_type": "code",
      "execution_count": null,
      "metadata": {
        "ExecuteTime": {
          "end_time": "2019-11-07T07:17:19.214308Z",
          "start_time": "2019-11-07T07:17:19.207887Z"
        },
        "tags": [
          "parameters"
        ]
      },
      "outputs": [],
      "source": [
        "STUDENT = \"Gleb Ivashkevich\"\n",
        "ASSIGNMENT = 2\n",
        "TEST = False"
      ]
    },
    {
      "cell_type": "code",
      "execution_count": null,
      "metadata": {
        "ExecuteTime": {
          "end_time": "2019-11-07T09:54:03.031427Z",
          "start_time": "2019-11-07T09:54:03.023635Z"
        },
        "tags": [
          "validation"
        ]
      },
      "outputs": [],
      "source": [
        "if TEST:\n",
        "    import solutions\n",
        "    total_grade = 0\n",
        "    MAX_POINTS = 12"
      ]
    },
    {
      "cell_type": "markdown",
      "metadata": {},
      "source": [
        "# NumPy broadcasting"
      ]
    },
    {
      "cell_type": "markdown",
      "metadata": {
        "tags": [
          "problem"
        ]
      },
      "source": [
        "### 1. Normalize matrix rows (2 points).\n",
        "\n",
        "For a 2-dimensional array `arr`, calculate an array, in which each row is a normalized version of the corresponding row from `arr`.\n",
        "\n",
        "For example, for `(3,4)` input array, the output is also `(3,4)` and `out_arr[0] = (arr[0] - np.mean(arr[0])) / np.std(arr[0])` and so on for other rows.\n",
        "\n",
        "Result must be **2-dimensional**, and **will be tested against three random combinations of input array dimensions ($10 \\leq n < 100 $)**. Array values are drawn from a normal distribution (`np.random.normal`) with random mean and standard deviation."
      ]
    },
    {
      "cell_type": "code",
      "execution_count": null,
      "metadata": {
        "ExecuteTime": {
          "end_time": "2019-10-30T22:26:07.100307Z",
          "start_time": "2019-10-30T22:26:07.092132Z"
        },
        "tags": [
          "solution"
        ]
      },
      "outputs": [],
      "source": [
        "def norm_rows(arr):\n",
        "    # your code goes here\n",
        "    pass"
      ]
    },
    {
      "cell_type": "code",
      "execution_count": null,
      "metadata": {
        "ExecuteTime": {
          "end_time": "2019-10-30T22:26:07.334174Z",
          "start_time": "2019-10-30T22:26:07.322103Z"
        },
        "tags": [
          "validation"
        ]
      },
      "outputs": [],
      "source": [
        "PROBLEM_ID = 1\n",
        "\n",
        "if TEST:\n",
        "    total_grade += solutions.check(STUDENT, PROBLEM_ID, norm_rows)"
      ]
    },
    {
      "cell_type": "markdown",
      "metadata": {
        "tags": [
          "problem"
        ]
      },
      "source": [
        "### 2. Normalize matrix columns (2 points).\n",
        "\n",
        "Similar to Problem 1, but normalization must be performed along columns.\n",
        "\n",
        "For example, for `(3,4)` input array, the output is also `(3,4)` and `out_arr[:, 0] = (arr[:, 0] - np.mean(arr[:, 0])) / np.std(arr[:, 0])` and so on for other columns.\n",
        "\n",
        "Result must be **2-dimensional**, and **will be tested against three random combinations of input array dimensions ($10 \\leq n < 100 $)**. Array values are drawn from a normal distribution (`np.random.normal`) with random mean and standard deviation."
      ]
    },
    {
      "cell_type": "code",
      "execution_count": null,
      "metadata": {
        "ExecuteTime": {
          "end_time": "2019-11-07T07:28:16.084791Z",
          "start_time": "2019-11-07T07:28:16.080157Z"
        },
        "tags": [
          "solution"
        ]
      },
      "outputs": [],
      "source": [
        "def norm_cols(arr):\n",
        "    # your code goes here\n",
        "    pass"
      ]
    },
    {
      "cell_type": "code",
      "execution_count": null,
      "metadata": {
        "ExecuteTime": {
          "end_time": "2019-10-30T22:26:08.554208Z",
          "start_time": "2019-10-30T22:26:08.542546Z"
        },
        "tags": [
          "validation"
        ]
      },
      "outputs": [],
      "source": [
        "PROBLEM_ID = 2\n",
        "\n",
        "if TEST:\n",
        "    total_grade += solutions.check(STUDENT, PROBLEM_ID, norm_cols)"
      ]
    },
    {
      "cell_type": "markdown",
      "metadata": {
        "tags": [
          "problem"
        ]
      },
      "source": [
        "### 3. Generic normalize routine (2 points).\n",
        "\n",
        "Similar to Problems 1 and 2, but normalization must be performed according to `axis` argument. `axis=0` means normalization along the columns, and `axis=1` means normalization along the rows."
      ]
    },
    {
      "cell_type": "code",
      "execution_count": null,
      "metadata": {
        "ExecuteTime": {
          "end_time": "2019-10-30T22:26:08.950073Z",
          "start_time": "2019-10-30T22:26:08.944541Z"
        },
        "tags": [
          "solution"
        ]
      },
      "outputs": [],
      "source": [
        "def norm(arr, axis):\n",
        "    # your code goes here\n",
        "    pass"
      ]
    },
    {
      "cell_type": "code",
      "execution_count": null,
      "metadata": {
        "ExecuteTime": {
          "end_time": "2019-10-30T22:26:09.170219Z",
          "start_time": "2019-10-30T22:26:09.158251Z"
        },
        "tags": [
          "validation"
        ]
      },
      "outputs": [],
      "source": [
        "PROBLEM_ID = 3\n",
        "\n",
        "if TEST:\n",
        "    total_grade += solutions.check(STUDENT, PROBLEM_ID, norm)"
      ]
    },
    {
      "cell_type": "markdown",
      "metadata": {
        "tags": [
          "problem"
        ]
      },
      "source": [
        "### 4. Dot product of matrix and vector (2 points).\n",
        "\n",
        "Calculate dot product of a 2-dimensional array $M$ of shape $(N,K)$ and 1-dimensional row vector $v$ of shape $(K,)$. You cannot use `np.dot` in this exercise.\n",
        "\n",
        "Result must be **1-dimensional** of shape $(N,)$, and **will be tested against three random combinations of input arrays dimensions ($10 \\leq n < 100 $)**. Arrays values will are\n",
        "drawn from standard normal distribution (`np.random.randn`)."
      ]
    },
    {
      "cell_type": "code",
      "execution_count": null,
      "metadata": {
        "ExecuteTime": {
          "end_time": "2019-11-07T07:32:14.866302Z",
          "start_time": "2019-11-07T07:32:14.851691Z"
        },
        "tags": [
          "solution"
        ]
      },
      "outputs": [],
      "source": [
        "def dot(m, v):\n",
        "    # your code goes here\n",
        "    pass"
      ]
    },
    {
      "cell_type": "code",
      "execution_count": null,
      "metadata": {
        "ExecuteTime": {
          "end_time": "2019-10-30T22:26:09.716713Z",
          "start_time": "2019-10-30T22:26:09.707934Z"
        },
        "tags": [
          "validation"
        ]
      },
      "outputs": [],
      "source": [
        "PROBLEM_ID = 4\n",
        "\n",
        "if TEST:\n",
        "    total_grade += solutions.check(STUDENT, PROBLEM_ID, dot)"
      ]
    },
    {
      "cell_type": "markdown",
      "metadata": {
        "tags": [
          "problem"
        ]
      },
      "source": [
        "### 5. Calculate recurrence matrix (3 points).\n",
        "\n",
        "In signals (or time series) analysis, it's usualy important to quickly assess the structure (if any) of the data. This can be done in many different ways. You can test, whether a signal is stationary or look at Fourier transform to understand the frequency composition of a signal. When you want to understand, whether signal contains some recurring pattern, it's useful to perform what is called *recurrent quantification analysis*.\n",
        "\n",
        "Imagine a signal $s_i$. Recurrence matrix is then:\n",
        "\n",
        "$$\n",
        "R_{ij} = \\left\\{\n",
        "\\begin{array}{l}\n",
        "1, |s_i-s_j|<\\varepsilon \\\\\n",
        "0, |s_i-s_j|\\ge\\varepsilon \\\\\n",
        "\\end{array}\n",
        "\\right.\n",
        "$$\n",
        "\n",
        "In this exercise you need to implement a function, which calculates recurrence matrix for 1-dimensional array. The function should not use any loops and must leverage broadcasting. For reference, naive loop implementation is provided below. Plot recurrence matrices for some signals to understand, how signal structure reveals itself in the recurrence matrix.\n",
        "\n",
        "For example, for a signal of shape $(100,)$ result must be of shape $(100, 100)$. Result must be **2-dimensional**, and **will be tested against three random combinations of input array dimensions ($100 \\leq n < 1000 $)** with different signal patterns (noise, $\\sin$, noise + randomly-placed recurrent pattern)."
      ]
    },
    {
      "cell_type": "code",
      "execution_count": null,
      "metadata": {
        "ExecuteTime": {
          "end_time": "2019-11-07T07:37:00.468930Z",
          "start_time": "2019-11-07T07:37:00.455967Z"
        }
      },
      "outputs": [],
      "source": [
        "def recm_naive(ts, eps):\n",
        "    \"\"\"Loop implementation of recurrent matrix.\"\"\"\n",
        "\n",
        "    ln = len(ts)\n",
        "\n",
        "    rm = np.zeros((ln, ln), dtype=bool)\n",
        "    \n",
        "    for i in range(ln):\n",
        "        for j in range(ln):\n",
        "            rm[i, j] = np.abs(ts[i]-ts[j])<eps\n",
        "    return rm"
      ]
    },
    {
      "cell_type": "code",
      "execution_count": null,
      "metadata": {
        "ExecuteTime": {
          "end_time": "2019-11-07T07:37:01.383692Z",
          "start_time": "2019-11-07T07:37:00.684697Z"
        }
      },
      "outputs": [],
      "source": [
        "random_signal = np.random.randn(200)\n",
        "plt.imshow(recm_naive(random_signal, 1e-1), cmap=plt.cm.binary)"
      ]
    },
    {
      "cell_type": "code",
      "execution_count": null,
      "metadata": {
        "ExecuteTime": {
          "end_time": "2019-11-07T07:37:18.837689Z",
          "start_time": "2019-11-07T07:37:14.458474Z"
        }
      },
      "outputs": [],
      "source": [
        "sin_signal = np.sin(np.arange(1000))\n",
        "plt.imshow(recm_naive(sin_signal, 1e-1), cmap=plt.cm.binary)"
      ]
    },
    {
      "cell_type": "code",
      "execution_count": null,
      "metadata": {
        "ExecuteTime": {
          "end_time": "2019-11-07T07:46:18.295206Z",
          "start_time": "2019-11-07T07:46:16.829691Z"
        }
      },
      "outputs": [],
      "source": [
        "random_signal = np.random.randn(200)\n",
        "random_signal[6:21] = 5 * np.ones((15,))\n",
        "random_signal[93:108] = 5 * np.ones((15,))\n",
        "\n",
        "random_signal[39:54] = 0.5 * np.ones((15,))\n",
        "random_signal[162:177] = 0.5 * np.ones((15,))\n",
        "\n",
        "plt.plot(random_signal)\n",
        "plt.show()\n",
        "\n",
        "plt.imshow(recm_naive(random_signal, 5e-1), cmap=plt.cm.binary);"
      ]
    },
    {
      "cell_type": "code",
      "execution_count": null,
      "metadata": {
        "ExecuteTime": {
          "end_time": "2019-11-07T07:45:58.508086Z",
          "start_time": "2019-11-07T07:45:58.499574Z"
        },
        "tags": [
          "solution"
        ]
      },
      "outputs": [],
      "source": [
        "def recm(ts, eps):\n",
        "    # your code goes here\n",
        "    pass"
      ]
    },
    {
      "cell_type": "code",
      "execution_count": null,
      "metadata": {
        "ExecuteTime": {
          "end_time": "2019-10-30T22:26:10.298555Z",
          "start_time": "2019-10-30T22:26:10.290806Z"
        },
        "tags": [
          "validation"
        ]
      },
      "outputs": [],
      "source": [
        "PROBLEM_ID = 5\n",
        "\n",
        "if TEST:\n",
        "    total_grade += solutions.check(STUDENT, PROBLEM_ID, recm)"
      ]
    },
    {
      "cell_type": "markdown",
      "metadata": {},
      "source": [
        "### 6. Softmax activation function (1 point).\n",
        "\n",
        "Given a 2-dimensional array, calculate it's $\\texttt{softmax}$ for each row. $\\texttt{softmax}$ activation for a vector is defined as the following:\n",
        "\n",
        "$$\n",
        "\\texttt{softmax} (x_i) = \\frac{e^{x_i}}{\\sum_i e^{x_i}}.\n",
        "$$\n",
        "\n",
        "Correspondingly, for entire array the expression is the following:\n",
        "\n",
        "$$\n",
        "\\texttt{softmax} (x_{ij}) = \\frac{e^{x_{ij}}}{\\sum_j e^{x_{ij}}}.\n",
        "$$\n",
        "\n",
        "\n",
        "\n",
        "For example, an input array \n",
        "\n",
        "$$\n",
        "\\left(\n",
        "\\begin{array}{cc}\n",
        "1 && 6 \\\\\n",
        "4 && 5\n",
        "\\end{array}\n",
        "\\right)\n",
        "$$\n",
        "\n",
        "results in the following $\\texttt{softmax}$ activation:\n",
        "\n",
        "$$\n",
        "\\left(\n",
        "\\begin{array}{cc}\n",
        "\\frac{e^1}{e^1 + e^6} && \\frac{e^6}{e^1 + e^6} \\\\\n",
        "\\frac{e^4}{e^4 + e^5} && \\frac{e^5}{e^4 + e^5}\n",
        "\\end{array}\n",
        "\\right)\n",
        "$$\n",
        "\n",
        "Result must be **2-dimensional**, and **will be tested against three random combinations of input array dimensions ($10 \\leq n < 100 $)**. Array elements are drawn from the standard normal distribution.\n",
        "\n",
        "**Hint:** besides using universal functions, you will need to use broadcasting properly."
      ]
    },
    {
      "cell_type": "code",
      "execution_count": null,
      "metadata": {},
      "outputs": [],
      "source": [
        "def softmax(arr):\n",
        "    # your code goes here\n",
        "    pass"
      ]
    },
    {
      "cell_type": "code",
      "execution_count": null,
      "metadata": {},
      "outputs": [],
      "source": [
        "PROBLEM_ID = 6\n",
        "\n",
        "if TEST:\n",
        "    total_grade += solutions.check(STUDENT, PROBLEM_ID, softmax)"
      ]
    },
    {
      "cell_type": "markdown",
      "metadata": {},
      "source": [
        "# Your grade"
      ]
    },
    {
      "cell_type": "code",
      "execution_count": null,
      "metadata": {
        "ExecuteTime": {
          "end_time": "2019-10-30T22:39:26.661611Z",
          "start_time": "2019-10-30T22:39:26.654545Z"
        },
        "tags": [
          "validation"
        ]
      },
      "outputs": [],
      "source": [
        "if TEST:\n",
        "    print(f\"{STUDENT}: {int(100 * total_grade / MAX_POINTS)}\")"
      ]
    },
    {
      "cell_type": "code",
      "execution_count": null,
      "metadata": {},
      "outputs": [],
      "source": []
    }
  ],
  "metadata": {
    "@webio": {
      "lastCommId": null,
      "lastKernelId": null
    },
    "kernelspec": {
      "display_name": "Python 3",
      "language": "python",
      "name": "python3"
    },
    "language_info": {
      "codemirror_mode": {
        "name": "ipython",
        "version": 3
      },
      "file_extension": ".py",
      "mimetype": "text/x-python",
      "name": "python",
      "nbconvert_exporter": "python",
      "pygments_lexer": "ipython3",
      "version": "3.8.12"
    }
  },
  "nbformat": 4,
  "nbformat_minor": 2
}
