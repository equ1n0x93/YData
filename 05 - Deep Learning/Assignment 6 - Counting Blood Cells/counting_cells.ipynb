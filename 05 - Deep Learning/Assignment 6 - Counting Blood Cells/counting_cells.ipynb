{
  "cells": [
    {
      "cell_type": "markdown",
      "metadata": {
        "id": "BU6-Ftb3b1r8"
      },
      "source": [
        "# Blood Cells - Object Count\n"
      ]
    },
    {
      "cell_type": "markdown",
      "metadata": {
        "id": "VmqyoJ8dpyrW"
      },
      "source": [
        "We'll start with some imports and data preparation first"
      ]
    },
    {
      "cell_type": "markdown",
      "metadata": {},
      "source": [
        "### Imports and loading "
      ]
    },
    {
      "cell_type": "code",
      "execution_count": null,
      "metadata": {
        "executionInfo": {
          "elapsed": 2048,
          "status": "ok",
          "timestamp": 1648673943591,
          "user": {
            "displayName": "Asaf Dahan",
            "userId": "05572133538735955476"
          },
          "user_tz": -180
        },
        "id": "4-FeJTuSUFEA"
      },
      "outputs": [],
      "source": [
        "%matplotlib inline\n",
        "import warnings\n",
        "import numpy as np\n",
        "import matplotlib.pyplot as plt\n",
        "import time\n",
        "import copy\n",
        "import seaborn as sns\n",
        "import pandas as pd\n",
        "import torch\n",
        "import glob\n",
        "import torch.nn as nn\n",
        "import torch.optim as optim\n",
        "from torch.optim import lr_scheduler\n",
        "from PIL import Image\n",
        "import torchvision\n",
        "from torchvision import datasets, models, transforms\n",
        "\n",
        "warnings.filterwarnings(\"ignore\", category=UserWarning)"
      ]
    },
    {
      "cell_type": "code",
      "execution_count": null,
      "metadata": {
        "executionInfo": {
          "elapsed": 3,
          "status": "ok",
          "timestamp": 1648673943591,
          "user": {
            "displayName": "Asaf Dahan",
            "userId": "05572133538735955476"
          },
          "user_tz": -180
        },
        "id": "gLm4GT1assoI"
      },
      "outputs": [],
      "source": [
        "from zipfile import ZipFile\n",
        "\n",
        "# !mkdir ./data\n",
        "\n",
        "with ZipFile(\"./data.zip\", \"r\") as zipObj:\n",
        "    # Extract all the contents of zip file in current directory\n",
        "    zipObj.extractall(path=\"./\")\n",
        "\n",
        "data_dir = r\"./data/images/*\"\n",
        "labels_dir = r\"./data/labels/*\"\n",
        "\n",
        "\n",
        "def load_image_dir(path, is_labels=False):\n",
        "    samples = []\n",
        "    files = glob.glob(path)\n",
        "    files.sort()\n",
        "\n",
        "    for filename in files:\n",
        "        img = Image.open(filename, \"r\")\n",
        "        img_gs = transforms.functional.rgb_to_grayscale(img)\n",
        "        img_arr = np.asarray(img_gs)\n",
        "\n",
        "        if is_labels:\n",
        "            samples.append(np.count_nonzero(img_arr))\n",
        "        else:\n",
        "            samples.append(np.array(img_gs))\n",
        "    samples = np.array(samples)\n",
        "    return samples.reshape((samples.shape[0], 1)) if is_labels else samples\n"
      ]
    },
    {
      "cell_type": "code",
      "execution_count": 3,
      "metadata": {
        "executionInfo": {
          "elapsed": 973,
          "status": "ok",
          "timestamp": 1648673944562,
          "user": {
            "displayName": "Asaf Dahan",
            "userId": "05572133538735955476"
          },
          "user_tz": -180
        },
        "id": "sf1wPEaissoJ"
      },
      "outputs": [],
      "source": [
        "samples = load_image_dir(data_dir, is_labels=False)\n",
        "labels = load_image_dir(labels_dir, is_labels=True)\n",
        "\n",
        "train_samples = samples[:180]\n",
        "train_labels = labels[:180]\n",
        "\n",
        "test_samples = samples[180:]\n",
        "test_labels = labels[180:]"
      ]
    },
    {
      "cell_type": "code",
      "execution_count": 4,
      "metadata": {
        "colab": {
          "base_uri": "https://localhost:8080/"
        },
        "executionInfo": {
          "elapsed": 6,
          "status": "ok",
          "timestamp": 1648673944563,
          "user": {
            "displayName": "Asaf Dahan",
            "userId": "05572133538735955476"
          },
          "user_tz": -180
        },
        "id": "L_xBk1BmssoJ",
        "outputId": "7532ffc3-da6f-4887-af0a-95a27e037752"
      },
      "outputs": [
        {
          "data": {
            "text/plain": [
              "(180, 256, 256)"
            ]
          },
          "execution_count": 4,
          "metadata": {},
          "output_type": "execute_result"
        }
      ],
      "source": [
        "train_samples.shape"
      ]
    },
    {
      "cell_type": "code",
      "execution_count": 5,
      "metadata": {},
      "outputs": [
        {
          "data": {
            "text/plain": [
              "array([[0, 0, 2, ..., 8, 7, 7],\n",
              "       [1, 2, 1, ..., 8, 8, 7],\n",
              "       [1, 1, 1, ..., 7, 7, 7],\n",
              "       ...,\n",
              "       [8, 6, 6, ..., 1, 2, 2],\n",
              "       [6, 6, 6, ..., 1, 1, 1],\n",
              "       [8, 7, 6, ..., 1, 1, 2]], dtype=uint8)"
            ]
          },
          "execution_count": 5,
          "metadata": {},
          "output_type": "execute_result"
        }
      ],
      "source": [
        "np.array(train_samples[0])"
      ]
    },
    {
      "cell_type": "code",
      "execution_count": 6,
      "metadata": {
        "colab": {
          "base_uri": "https://localhost:8080/"
        },
        "executionInfo": {
          "elapsed": 4,
          "status": "ok",
          "timestamp": 1648673944563,
          "user": {
            "displayName": "Asaf Dahan",
            "userId": "05572133538735955476"
          },
          "user_tz": -180
        },
        "id": "xkxDstxII-eZ",
        "outputId": "a3a3bde8-2a07-4319-c6fb-f92f85150b3f"
      },
      "outputs": [
        {
          "data": {
            "text/plain": [
              "array([[135],\n",
              "       [233],\n",
              "       [ 82],\n",
              "       [ 86],\n",
              "       [ 96],\n",
              "       [143],\n",
              "       [169],\n",
              "       [122],\n",
              "       [168],\n",
              "       [115]])"
            ]
          },
          "execution_count": 6,
          "metadata": {},
          "output_type": "execute_result"
        }
      ],
      "source": [
        "train_labels[:10]"
      ]
    },
    {
      "cell_type": "code",
      "execution_count": null,
      "metadata": {
        "colab": {
          "base_uri": "https://localhost:8080/",
          "height": 269
        },
        "executionInfo": {
          "elapsed": 1198,
          "status": "ok",
          "timestamp": 1648673945759,
          "user": {
            "displayName": "Asaf Dahan",
            "userId": "05572133538735955476"
          },
          "user_tz": -180
        },
        "id": "gI0nZ4DYHeTj",
        "outputId": "cd63c21b-d5de-415a-9437-459620f12152"
      },
      "outputs": [
        {
          "data": {
            "image/png": "[encoded data removed]",
            "text/plain": [
              "<Figure size 432x288 with 1 Axes>"
            ]
          },
          "metadata": {
            "needs_background": "light"
          },
          "output_type": "display_data"
        }
      ],
      "source": [
        "def plot_np_arr_image(img_arr):\n",
        "    plt.imshow(img_arr)\n",
        "    plt.show()\n",
        "\n",
        "\n",
        "plot_np_arr_image(train_samples[0])"
      ]
    },
    {
      "cell_type": "code",
      "execution_count": null,
      "metadata": {
        "executionInfo": {
          "elapsed": 7,
          "status": "ok",
          "timestamp": 1648673945760,
          "user": {
            "displayName": "Asaf Dahan",
            "userId": "05572133538735955476"
          },
          "user_tz": -180
        },
        "id": "KBvxt7GOssoK"
      },
      "outputs": [],
      "source": [
        "from torch.utils.data import Dataset\n",
        "\n",
        "default_train_transforms = transforms.Compose(\n",
        "    [\n",
        "        transforms.ToPILImage(),\n",
        "        transforms.RandomVerticalFlip(p=0.2),\n",
        "        transforms.RandomHorizontalFlip(p=0.2),\n",
        "        transforms.ToTensor(),\n",
        "    ]\n",
        ")\n",
        "default_val_transforms = transforms.Compose([transforms.ToTensor()])\n",
        "\n",
        "\n",
        "class MyDataset(Dataset):\n",
        "    def __init__(self, data, targets, transform=None):\n",
        "        #         self.data = data\n",
        "        self.data = np.array(data)\n",
        "        self.targets = torch.FloatTensor(targets)\n",
        "        self.transform = transform\n",
        "\n",
        "    def __getitem__(self, index):\n",
        "        x = self.data[index]\n",
        "        y = self.targets[index]\n",
        "\n",
        "        if self.transform:\n",
        "            x = self.transform(x)\n",
        "\n",
        "        return x, y\n",
        "\n",
        "    def __len__(self):\n",
        "        return len(self.data)\n",
        "\n",
        "\n",
        "train_dataset = MyDataset(\n",
        "    train_samples, train_labels, transform=default_train_transforms\n",
        ")\n",
        "val_dataset = MyDataset(test_samples, test_labels, transform=default_val_transforms)\n",
        "\n",
        "\n",
        "dataloaders = {\n",
        "    \"train\": torch.utils.data.DataLoader(train_dataset, batch_size=16, shuffle=True),\n",
        "    \"val\": torch.utils.data.DataLoader(val_dataset, batch_size=16, shuffle=False),\n",
        "}"
      ]
    },
    {
      "cell_type": "code",
      "execution_count": null,
      "metadata": {},
      "outputs": [
        {
          "name": "stdout",
          "output_type": "stream",
          "text": [
            "tensor([[[0.0157, 0.0196, 0.0118,  ..., 0.0078, 0.0000, 0.0000],\n",
            "         [0.0157, 0.0157, 0.0157,  ..., 0.0000, 0.0039, 0.0039],\n",
            "         [0.0118, 0.0157, 0.0157,  ..., 0.0078, 0.0078, 0.0039],\n",
            "         ...,\n",
            "         [0.0431, 0.0431, 0.0510,  ..., 0.0157, 0.0235, 0.0235],\n",
            "         [0.0275, 0.0275, 0.0314,  ..., 0.0196, 0.0157, 0.0157],\n",
            "         [0.0196, 0.0196, 0.0235,  ..., 0.0235, 0.0196, 0.0157]]])\n",
            "tensor([[136.],\n",
            "        [112.],\n",
            "        [317.],\n",
            "        [146.],\n",
            "        [250.],\n",
            "        [231.],\n",
            "        [145.],\n",
            "        [207.],\n",
            "        [ 83.],\n",
            "        [155.],\n",
            "        [ 98.],\n",
            "        [ 93.],\n",
            "        [241.],\n",
            "        [154.],\n",
            "        [111.],\n",
            "        [220.]])\n"
          ]
        }
      ],
      "source": [
        "for inputs, labels in dataloaders[\"train\"]:\n",
        "    print(inputs[0])\n",
        "    print(labels)\n",
        "    break"
      ]
    },
    {
      "cell_type": "code",
      "execution_count": 10,
      "metadata": {
        "colab": {
          "base_uri": "https://localhost:8080/",
          "height": 269
        },
        "executionInfo": {
          "elapsed": 6,
          "status": "ok",
          "timestamp": 1648673945760,
          "user": {
            "displayName": "Asaf Dahan",
            "userId": "05572133538735955476"
          },
          "user_tz": -180
        },
        "id": "I07eDxNSPC5Z",
        "outputId": "1ed8ad12-6ac2-4bea-ab05-b5412299426a"
      },
      "outputs": [
        {
          "data": {
            "image/png": "[encoded data removed]",
            "text/plain": [
              "<Figure size 432x288 with 1 Axes>"
            ]
          },
          "metadata": {
            "needs_background": "light"
          },
          "output_type": "display_data"
        }
      ],
      "source": [
        "plot_np_arr_image(train_dataset.data[0])"
      ]
    },
    {
      "cell_type": "code",
      "execution_count": 11,
      "metadata": {
        "colab": {
          "base_uri": "https://localhost:8080/"
        },
        "executionInfo": {
          "elapsed": 650,
          "status": "ok",
          "timestamp": 1648673946405,
          "user": {
            "displayName": "Asaf Dahan",
            "userId": "05572133538735955476"
          },
          "user_tz": -180
        },
        "id": "yRRXBXkvpAwv",
        "outputId": "7a868405-f8be-424c-d091-64f7dc04cc64"
      },
      "outputs": [
        {
          "data": {
            "text/plain": [
              "device(type='cuda', index=0)"
            ]
          },
          "execution_count": 11,
          "metadata": {},
          "output_type": "execute_result"
        }
      ],
      "source": [
        "# Check for the availability of a GPU, and use CPU otherwise\n",
        "device = torch.device(\"cuda:0\" if torch.cuda.is_available() else \"cpu\")\n",
        "device"
      ]
    },
    {
      "cell_type": "code",
      "execution_count": null,
      "metadata": {
        "colab": {
          "base_uri": "https://localhost:8080/"
        },
        "executionInfo": {
          "elapsed": 6,
          "status": "ok",
          "timestamp": 1648673946406,
          "user": {
            "displayName": "Asaf Dahan",
            "userId": "05572133538735955476"
          },
          "user_tz": -180
        },
        "id": "XmgHpfxGssoM",
        "outputId": "a2b36462-513d-481d-9323-daf1bb190536"
      },
      "outputs": [
        {
          "name": "stdout",
          "output_type": "stream",
          "text": [
            "dataset_sizes:  {'train': 180, 'val': 20}\n"
          ]
        }
      ],
      "source": [
        "dataset_sizes = {\"train\": len(train_samples), \"val\": len(test_samples)}\n",
        "print(\"dataset_sizes: \", dataset_sizes)\n"
      ]
    },
    {
      "cell_type": "markdown",
      "metadata": {
        "id": "9ADingTep9H9"
      },
      "source": [
        "Training and evaluation functions:"
      ]
    },
    {
      "cell_type": "code",
      "execution_count": null,
      "metadata": {
        "executionInfo": {
          "elapsed": 4,
          "status": "ok",
          "timestamp": 1648673946406,
          "user": {
            "displayName": "Asaf Dahan",
            "userId": "05572133538735955476"
          },
          "user_tz": -180
        },
        "id": "Mmjw5yERs0B0"
      },
      "outputs": [],
      "source": [
        "def train_model(model, dataloaders, criterion, optimizer, scheduler, num_epochs=25):\n",
        "    since = time.time()\n",
        "\n",
        "    # Init variables that will save info about the best model\n",
        "    best_model_wts = copy.deepcopy(model.state_dict())\n",
        "    best_mse = np.inf\n",
        "    best_mae = np.inf\n",
        "    training_results = {p: [] for p in [\"train\", \"val\"]}\n",
        "\n",
        "    for epoch in range(num_epochs):\n",
        "        print(\"Epoch {}/{}\".format(epoch, num_epochs - 1))\n",
        "        print(\"-\" * 10)\n",
        "\n",
        "        # Each epoch has a training and validation phase\n",
        "        for phase in [\"train\", \"val\"]:\n",
        "            if phase == \"train\":\n",
        "                # Set model to training mode.\n",
        "                model.train()\n",
        "            else:\n",
        "                # Set model to evaluate mode. In evaluate mode, we don't perform backprop and don't need to keep the gradients\n",
        "                model.eval()\n",
        "\n",
        "            running_loss = 0.0\n",
        "            running_mae = 0.0\n",
        "            runnin_squared_error = 0.0\n",
        "\n",
        "            # Iterate over data\n",
        "            for inputs, labels in dataloaders[phase]:\n",
        "                # Prepare the inputs for GPU/CPU\n",
        "                inputs = inputs.to(device)\n",
        "                labels = labels.to(device)\n",
        "\n",
        "                # zero the parameter gradients\n",
        "                optimizer.zero_grad()\n",
        "\n",
        "                # ===== forward pass ======\n",
        "                with torch.set_grad_enabled(phase == \"train\"):\n",
        "                    # If we're in train mode, we'll track the gradients to allow back-propagation\n",
        "                    preds = model(inputs)  # apply the model to the inputs\n",
        "                    loss = criterion(preds, labels)\n",
        "\n",
        "                    # ==== backward pass + optimizer step ====\n",
        "                    # This runs only in the training phase\n",
        "                    if phase == \"train\":\n",
        "                        loss.backward()  # Perform a step in the opposite direction of the gradient\n",
        "                        optimizer.step()  # Adapt the optimizer\n",
        "\n",
        "                # Collect statistics\n",
        "                running_loss += loss.item() * inputs.size(0)\n",
        "                # print(f\"Running loss: {running_loss}\")\n",
        "                runnin_squared_error += torch.sum(torch.pow(preds - labels, 2)).data\n",
        "                # print(f\"Running SE: {runnin_squared_error}\")\n",
        "                error = torch.abs(preds - labels).sum().data\n",
        "                running_mae += error\n",
        "                # print(f\"Running MAE: {running_mae}\")\n",
        "\n",
        "            if phase == \"train\":\n",
        "                # Adjust the learning rate based on the scheduler\n",
        "                scheduler.step()\n",
        "\n",
        "            epoch_loss = running_loss / dataset_sizes[phase]\n",
        "            epoch_mae = running_mae / dataset_sizes[phase]\n",
        "            epoch_mse = runnin_squared_error / dataset_sizes[phase]\n",
        "            training_results[phase].append(\n",
        "                {\"epoch\": epoch, \"epoch_loss\": epoch_loss, \"epoch_mse\": epoch_mse}\n",
        "            )\n",
        "\n",
        "            print(f\"{phase} Loss(MSE): {epoch_loss:.4f} MAE: {epoch_mae:.4f}\")\n",
        "\n",
        "            # Keep the results of the best model so far\n",
        "            if phase == \"val\" and epoch_mae < best_mae:\n",
        "                best_mse = epoch_mse\n",
        "                best_mae = epoch_mae\n",
        "                # deepcopy the model\n",
        "                best_model_wts = copy.deepcopy(model.state_dict())\n",
        "\n",
        "    time_elapsed = time.time() - since\n",
        "    print(\n",
        "        f\"Training complete in {(time_elapsed // 60):.0f}m {(time_elapsed % 60):.0f}s\"\n",
        "    )\n",
        "    print(f\"Best val MSE: {best_mse:4f}\")\n",
        "    print(f\"Best val MAE: {best_mae:4f}\")\n",
        "\n",
        "    # load best model weights\n",
        "    model.load_state_dict(best_model_wts)\n",
        "    return model, training_results\n",
        "\n",
        "\n",
        "def get_unified_stats_df(stats):\n",
        "    train_stats_df = pd.DataFrame(stats[\"train\"])\n",
        "    train_stats_df[\"Dataset\"] = \"train\"\n",
        "    train_stats_df.epoch_mse = train_stats_df.epoch_mse.apply(\n",
        "        lambda x: x.cpu().detach().numpy()\n",
        "    )\n",
        "    val_stats_df = pd.DataFrame(stats[\"val\"])\n",
        "    val_stats_df[\"Dataset\"] = \"validation\"\n",
        "    val_stats_df.epoch_mse = val_stats_df.epoch_mse.apply(\n",
        "        lambda x: x.cpu().detach().numpy()\n",
        "    )\n",
        "    return pd.concat([train_stats_df, val_stats_df]).reset_index(drop=True)\n",
        "\n",
        "\n",
        "def train_model_end2end(\n",
        "    nn_obj, criterion, num_epochs, optimizer, dataloaders=dataloaders\n",
        "):\n",
        "    model = nn_obj.to(device)\n",
        "\n",
        "    # Decay LR by a factor of 0.1 every 7 epochs - I did not change it as recommended in the above instructions\n",
        "    exp_lr_scheduler = lr_scheduler.StepLR(optimizer, step_size=7, gamma=0.1)\n",
        "\n",
        "    model, stats = train_model(\n",
        "        model,\n",
        "        dataloaders,\n",
        "        criterion,\n",
        "        optimizer,\n",
        "        exp_lr_scheduler,\n",
        "        num_epochs=num_epochs,\n",
        "    )\n",
        "\n",
        "    return model, stats"
      ]
    },
    {
      "cell_type": "markdown",
      "metadata": {
        "id": "sPUK5lcF3FNU"
      },
      "source": [
        "### Architecture\n"
      ]
    },
    {
      "cell_type": "markdown",
      "metadata": {
        "id": "HN8tSjQFb1sO"
      },
      "source": [
        "#### Final architecture implementation and base training"
      ]
    },
    {
      "cell_type": "markdown",
      "metadata": {
        "id": "hhsQNyxbkeOU"
      },
      "source": [
        "After playing with the above architecture, we see that we still have a rad flag that indicates **overfitting**:\n",
        "- The train vs. validation accuracy has large gap (15%~)\n",
        "- The train accuracy is almost perfect\n",
        "\n",
        "\n",
        "Therfor we decided to try and handle this issue by adding 2 dropouts in the areas where the number of paramaters is the largest (between the last conv layer and the FC layer + between the 2 last FC layers)."
      ]
    },
    {
      "cell_type": "code",
      "execution_count": null,
      "metadata": {
        "executionInfo": {
          "elapsed": 4,
          "status": "ok",
          "timestamp": 1648673946406,
          "user": {
            "displayName": "Asaf Dahan",
            "userId": "05572133538735955476"
          },
          "user_tz": -180
        },
        "id": "sqa7FGL5zhYy"
      },
      "outputs": [],
      "source": [
        "class FinalNetwork(nn.Module):\n",
        "    \"\"\"\n",
        "    The final network that we decided to optimize\n",
        "    \"\"\"\n",
        "\n",
        "    def __init__(self):\n",
        "        super(FinalNetwork, self).__init__()\n",
        "        self.layer1 = nn.Sequential(\n",
        "            nn.Conv2d(1, 32, 5, stride=1, padding=2), nn.BatchNorm2d(32), nn.ReLU()\n",
        "        )\n",
        "\n",
        "        self.layer2 = nn.Sequential(\n",
        "            nn.Conv2d(32, 32, 5, stride=1, padding=2), nn.BatchNorm2d(32), nn.ReLU()\n",
        "        )\n",
        "\n",
        "        self.layer3 = nn.Sequential(nn.MaxPool2d(kernel_size=2, stride=2), nn.ReLU())\n",
        "\n",
        "        self.layer4 = nn.Sequential(\n",
        "            nn.Conv2d(32, 64, 3, stride=1, padding=1), nn.BatchNorm2d(64), nn.ReLU()\n",
        "        )\n",
        "\n",
        "        self.layer5 = nn.Sequential(\n",
        "            nn.Conv2d(64, 64, 3, stride=1, padding=1), nn.BatchNorm2d(64), nn.ReLU()\n",
        "        )\n",
        "\n",
        "        self.layer6 = nn.Sequential(\n",
        "            nn.Conv2d(64, 64, 3, stride=1, padding=1), nn.BatchNorm2d(64), nn.ReLU()\n",
        "        )\n",
        "\n",
        "        self.layer7 = nn.Sequential(nn.MaxPool2d(kernel_size=2, stride=2), nn.ReLU())\n",
        "\n",
        "        self.layer8 = nn.Sequential(\n",
        "            nn.Conv2d(64, 128, 3, stride=1, padding=1), nn.BatchNorm2d(128), nn.ReLU()\n",
        "        )\n",
        "\n",
        "        self.layer9 = nn.Sequential(\n",
        "            nn.Conv2d(128, 128, 3, stride=1, padding=1), nn.BatchNorm2d(128), nn.ReLU()\n",
        "        )\n",
        "\n",
        "        self.layer10 = nn.Sequential(\n",
        "            nn.MaxPool2d(kernel_size=2, stride=2), nn.ReLU(), nn.Flatten()\n",
        "        )\n",
        "\n",
        "        self.dropout1 = nn.Dropout(p=0.3)\n",
        "\n",
        "        self.fc1 = nn.Sequential(nn.Linear(128 * 32 * 32, 1024), nn.ReLU())\n",
        "\n",
        "        self.dropout2 = nn.Dropout(p=0.3)\n",
        "\n",
        "        self.fc2 = nn.Sequential(nn.Linear(1024, 512), nn.ReLU())\n",
        "\n",
        "        self.fc3 = nn.Sequential(nn.Linear(512, 16), nn.ReLU())\n",
        "\n",
        "        self.fc4 = nn.Sequential(nn.Linear(16, 1), nn.ReLU())\n",
        "\n",
        "    def forward(self, x):\n",
        "        out = self.layer1(x)\n",
        "        out = self.layer2(out)\n",
        "        out = self.layer3(out)\n",
        "        out = self.layer4(out)\n",
        "        out = self.layer5(out)\n",
        "        out = self.layer6(out)\n",
        "        out = self.layer7(out)\n",
        "        out = self.layer8(out)\n",
        "        out = self.layer9(out)\n",
        "        out = self.layer10(out)\n",
        "        out = self.dropout1(out)\n",
        "        out = self.fc1(out)\n",
        "        out = self.dropout2(out)\n",
        "        out = self.fc2(out)\n",
        "        out = self.fc3(out)\n",
        "        out = self.fc4(out)\n",
        "        return out"
      ]
    },
    {
      "cell_type": "code",
      "execution_count": null,
      "metadata": {
        "colab": {
          "base_uri": "https://localhost:8080/"
        },
        "executionInfo": {
          "elapsed": 7460,
          "status": "ok",
          "timestamp": 1648673953862,
          "user": {
            "displayName": "Asaf Dahan",
            "userId": "05572133538735955476"
          },
          "user_tz": -180
        },
        "id": "CCI7TrKJT86M",
        "outputId": "b90b2d5a-659a-4f46-911c-aff2425b7d08"
      },
      "outputs": [
        {
          "name": "stdout",
          "output_type": "stream",
          "text": [
            "Looking in indexes: https://pypi.org/simple, https://pip.repos.neuron.amazonaws.com\n",
            "Requirement already satisfied: torchsummary in /home/ec2-user/anaconda3/envs/pytorch_p38/lib/python3.8/site-packages (1.5.1)\n",
            "----------------------------------------------------------------\n",
            "        Layer (type)               Output Shape         Param #\n",
            "================================================================\n",
            "            Conv2d-1         [-1, 32, 256, 256]             832\n",
            "       BatchNorm2d-2         [-1, 32, 256, 256]              64\n",
            "              ReLU-3         [-1, 32, 256, 256]               0\n",
            "            Conv2d-4         [-1, 32, 256, 256]          25,632\n",
            "       BatchNorm2d-5         [-1, 32, 256, 256]              64\n",
            "              ReLU-6         [-1, 32, 256, 256]               0\n",
            "         MaxPool2d-7         [-1, 32, 128, 128]               0\n",
            "              ReLU-8         [-1, 32, 128, 128]               0\n",
            "            Conv2d-9         [-1, 64, 128, 128]          18,496\n",
            "      BatchNorm2d-10         [-1, 64, 128, 128]             128\n",
            "             ReLU-11         [-1, 64, 128, 128]               0\n",
            "           Conv2d-12         [-1, 64, 128, 128]          36,928\n",
            "      BatchNorm2d-13         [-1, 64, 128, 128]             128\n",
            "             ReLU-14         [-1, 64, 128, 128]               0\n",
            "           Conv2d-15         [-1, 64, 128, 128]          36,928\n",
            "      BatchNorm2d-16         [-1, 64, 128, 128]             128\n",
            "             ReLU-17         [-1, 64, 128, 128]               0\n",
            "        MaxPool2d-18           [-1, 64, 64, 64]               0\n",
            "             ReLU-19           [-1, 64, 64, 64]               0\n",
            "           Conv2d-20          [-1, 128, 64, 64]          73,856\n",
            "      BatchNorm2d-21          [-1, 128, 64, 64]             256\n",
            "             ReLU-22          [-1, 128, 64, 64]               0\n",
            "           Conv2d-23          [-1, 128, 64, 64]         147,584\n",
            "      BatchNorm2d-24          [-1, 128, 64, 64]             256\n",
            "             ReLU-25          [-1, 128, 64, 64]               0\n",
            "        MaxPool2d-26          [-1, 128, 32, 32]               0\n",
            "             ReLU-27          [-1, 128, 32, 32]               0\n",
            "          Flatten-28               [-1, 131072]               0\n",
            "          Dropout-29               [-1, 131072]               0\n",
            "           Linear-30                 [-1, 1024]     134,218,752\n",
            "             ReLU-31                 [-1, 1024]               0\n",
            "          Dropout-32                 [-1, 1024]               0\n",
            "           Linear-33                  [-1, 512]         524,800\n",
            "             ReLU-34                  [-1, 512]               0\n",
            "           Linear-35                   [-1, 16]           8,208\n",
            "             ReLU-36                   [-1, 16]               0\n",
            "           Linear-37                    [-1, 1]              17\n",
            "             ReLU-38                    [-1, 1]               0\n",
            "================================================================\n",
            "Total params: 135,093,057\n",
            "Trainable params: 135,093,057\n",
            "Non-trainable params: 0\n",
            "----------------------------------------------------------------\n",
            "Input size (MB): 0.25\n",
            "Forward/backward pass size (MB): 208.03\n",
            "Params size (MB): 515.34\n",
            "Estimated Total Size (MB): 723.62\n",
            "----------------------------------------------------------------\n"
          ]
        }
      ],
      "source": [
        "!pip install torchsummary \n",
        "from torchsummary import summary\n",
        "\n",
        "summary(FinalNetwork().to(device), (1, 256, 256))"
      ]
    },
    {
      "cell_type": "code",
      "execution_count": 16,
      "metadata": {
        "executionInfo": {
          "elapsed": 17,
          "status": "ok",
          "timestamp": 1648673953863,
          "user": {
            "displayName": "Asaf Dahan",
            "userId": "05572133538735955476"
          },
          "user_tz": -180
        },
        "id": "d1c3LIbWWq75"
      },
      "outputs": [],
      "source": [
        "torch.cuda.empty_cache()"
      ]
    },
    {
      "cell_type": "code",
      "execution_count": null,
      "metadata": {},
      "outputs": [
        {
          "name": "stdout",
          "output_type": "stream",
          "text": [
            "\n",
            "\n",
            "Starting to train model with conf name - nn_base_w_dropout_adam\n",
            "Epoch 0/99\n",
            "----------\n",
            "train Loss(MSE): 30454.4962 MAE: 164.1190\n",
            "val Loss(MSE): 32279.1602 MAE: 167.2729\n",
            "Epoch 1/99\n",
            "----------\n",
            "train Loss(MSE): 16761.7197 MAE: 118.2312\n",
            "val Loss(MSE): 29157.8285 MAE: 157.7019\n",
            "Epoch 2/99\n",
            "----------\n",
            "train Loss(MSE): 3681.3038 MAE: 47.8940\n",
            "val Loss(MSE): 18009.7051 MAE: 119.8990\n",
            "Epoch 3/99\n",
            "----------\n",
            "train Loss(MSE): 861.3040 MAE: 21.6892\n",
            "val Loss(MSE): 4274.3360 MAE: 53.8432\n",
            "Epoch 4/99\n",
            "----------\n",
            "train Loss(MSE): 387.7374 MAE: 14.6719\n",
            "val Loss(MSE): 10857.9874 MAE: 95.5459\n",
            "Epoch 5/99\n",
            "----------\n",
            "train Loss(MSE): 335.8236 MAE: 14.1061\n",
            "val Loss(MSE): 7157.9799 MAE: 76.6654\n",
            "Epoch 6/99\n",
            "----------\n",
            "train Loss(MSE): 335.6444 MAE: 14.4058\n",
            "val Loss(MSE): 1849.6529 MAE: 38.7269\n",
            "Epoch 7/99\n",
            "----------\n",
            "train Loss(MSE): 321.2008 MAE: 13.9158\n",
            "val Loss(MSE): 329.2434 MAE: 15.8216\n",
            "Epoch 8/99\n",
            "----------\n",
            "train Loss(MSE): 488.5784 MAE: 17.0133\n",
            "val Loss(MSE): 64.2521 MAE: 5.6144\n",
            "Epoch 9/99\n",
            "----------\n",
            "train Loss(MSE): 210.4544 MAE: 10.8900\n",
            "val Loss(MSE): 45.4131 MAE: 4.7552\n",
            "Epoch 10/99\n",
            "----------\n",
            "train Loss(MSE): 234.1670 MAE: 12.0950\n",
            "val Loss(MSE): 49.2561 MAE: 5.5902\n",
            "Epoch 11/99\n",
            "----------\n",
            "train Loss(MSE): 228.8018 MAE: 11.5143\n",
            "val Loss(MSE): 51.1549 MAE: 5.7353\n",
            "Epoch 12/99\n",
            "----------\n",
            "train Loss(MSE): 256.2862 MAE: 12.2452\n",
            "val Loss(MSE): 39.7506 MAE: 4.8955\n",
            "Epoch 13/99\n",
            "----------\n",
            "train Loss(MSE): 217.7124 MAE: 11.4921\n",
            "val Loss(MSE): 42.4082 MAE: 5.0809\n",
            "Epoch 14/99\n",
            "----------\n",
            "train Loss(MSE): 323.7690 MAE: 13.9229\n",
            "val Loss(MSE): 50.0466 MAE: 4.8065\n",
            "Epoch 15/99\n",
            "----------\n",
            "train Loss(MSE): 307.1708 MAE: 13.9160\n",
            "val Loss(MSE): 46.9177 MAE: 5.4147\n",
            "Epoch 16/99\n",
            "----------\n",
            "train Loss(MSE): 399.5661 MAE: 14.4175\n",
            "val Loss(MSE): 82.5772 MAE: 7.8658\n",
            "Epoch 17/99\n",
            "----------\n",
            "train Loss(MSE): 310.8617 MAE: 13.4455\n",
            "val Loss(MSE): 41.8045 MAE: 5.0564\n",
            "Epoch 18/99\n",
            "----------\n",
            "train Loss(MSE): 168.8037 MAE: 10.1996\n",
            "val Loss(MSE): 38.9202 MAE: 4.7680\n",
            "Epoch 19/99\n",
            "----------\n",
            "train Loss(MSE): 198.8522 MAE: 10.6952\n",
            "val Loss(MSE): 48.5034 MAE: 4.7720\n",
            "Epoch 20/99\n",
            "----------\n",
            "train Loss(MSE): 248.1082 MAE: 12.4067\n",
            "val Loss(MSE): 44.5268 MAE: 4.6999\n",
            "Epoch 21/99\n",
            "----------\n",
            "train Loss(MSE): 271.9576 MAE: 12.9138\n",
            "val Loss(MSE): 39.0369 MAE: 4.7355\n",
            "Epoch 22/99\n",
            "----------\n",
            "train Loss(MSE): 407.0220 MAE: 16.2851\n",
            "val Loss(MSE): 77.9645 MAE: 6.3068\n",
            "Epoch 23/99\n",
            "----------\n",
            "train Loss(MSE): 343.1472 MAE: 14.4265\n",
            "val Loss(MSE): 47.9336 MAE: 4.7637\n",
            "Epoch 24/99\n",
            "----------\n",
            "train Loss(MSE): 302.6098 MAE: 13.7022\n",
            "val Loss(MSE): 39.4445 MAE: 4.7380\n",
            "Epoch 25/99\n",
            "----------\n",
            "train Loss(MSE): 216.8199 MAE: 9.7943\n",
            "val Loss(MSE): 77.8732 MAE: 7.5792\n",
            "Epoch 26/99\n",
            "----------\n",
            "train Loss(MSE): 235.1246 MAE: 12.2079\n",
            "val Loss(MSE): 39.9268 MAE: 4.9343\n",
            "Epoch 27/99\n",
            "----------\n",
            "train Loss(MSE): 305.7405 MAE: 13.4363\n",
            "val Loss(MSE): 39.2830 MAE: 4.7588\n",
            "Epoch 28/99\n",
            "----------\n",
            "train Loss(MSE): 395.5200 MAE: 15.7008\n",
            "val Loss(MSE): 42.3466 MAE: 4.6954\n",
            "Epoch 29/99\n",
            "----------\n",
            "train Loss(MSE): 202.7470 MAE: 10.4921\n",
            "val Loss(MSE): 42.3368 MAE: 4.7035\n",
            "Epoch 30/99\n",
            "----------\n",
            "train Loss(MSE): 497.0754 MAE: 15.4511\n",
            "val Loss(MSE): 45.6079 MAE: 5.3199\n",
            "Epoch 31/99\n",
            "----------\n",
            "train Loss(MSE): 181.6164 MAE: 9.9074\n",
            "val Loss(MSE): 39.2154 MAE: 4.8706\n",
            "Epoch 32/99\n",
            "----------\n",
            "train Loss(MSE): 336.0758 MAE: 14.5725\n",
            "val Loss(MSE): 37.9449 MAE: 4.7777\n",
            "Epoch 33/99\n",
            "----------\n",
            "train Loss(MSE): 274.1864 MAE: 12.8972\n",
            "val Loss(MSE): 38.2645 MAE: 4.7616\n",
            "Epoch 34/99\n",
            "----------\n",
            "train Loss(MSE): 259.4189 MAE: 12.6661\n",
            "val Loss(MSE): 43.7880 MAE: 5.1909\n",
            "Epoch 35/99\n",
            "----------\n",
            "train Loss(MSE): 211.0583 MAE: 10.6967\n",
            "val Loss(MSE): 49.2248 MAE: 5.5870\n",
            "Epoch 36/99\n",
            "----------\n",
            "train Loss(MSE): 220.5611 MAE: 11.7059\n",
            "val Loss(MSE): 37.9134 MAE: 4.7838\n",
            "Epoch 37/99\n",
            "----------\n",
            "train Loss(MSE): 354.6895 MAE: 14.6087\n",
            "val Loss(MSE): 37.8010 MAE: 4.7941\n",
            "Epoch 38/99\n",
            "----------\n",
            "train Loss(MSE): 180.7951 MAE: 10.0864\n",
            "val Loss(MSE): 40.8360 MAE: 4.9808\n",
            "Epoch 39/99\n",
            "----------\n",
            "train Loss(MSE): 424.2584 MAE: 15.4416\n",
            "val Loss(MSE): 72.5931 MAE: 7.2488\n",
            "Epoch 40/99\n",
            "----------\n",
            "train Loss(MSE): 261.2411 MAE: 11.9952\n",
            "val Loss(MSE): 40.6913 MAE: 4.9566\n",
            "Epoch 41/99\n",
            "----------\n",
            "train Loss(MSE): 229.7021 MAE: 11.3087\n",
            "val Loss(MSE): 45.8606 MAE: 5.3358\n",
            "Epoch 42/99\n",
            "----------\n",
            "train Loss(MSE): 308.3523 MAE: 13.9596\n",
            "val Loss(MSE): 48.7713 MAE: 5.5676\n",
            "Epoch 43/99\n",
            "----------\n",
            "train Loss(MSE): 287.6379 MAE: 12.3544\n",
            "val Loss(MSE): 59.2836 MAE: 6.3728\n",
            "Epoch 44/99\n",
            "----------\n",
            "train Loss(MSE): 365.6577 MAE: 14.9612\n",
            "val Loss(MSE): 37.9709 MAE: 4.7727\n",
            "Epoch 45/99\n",
            "----------\n",
            "train Loss(MSE): 388.5414 MAE: 15.5143\n",
            "val Loss(MSE): 51.3638 MAE: 5.7999\n",
            "Epoch 46/99\n",
            "----------\n",
            "train Loss(MSE): 330.8642 MAE: 13.5160\n",
            "val Loss(MSE): 58.0663 MAE: 6.2774\n",
            "Epoch 47/99\n",
            "----------\n",
            "train Loss(MSE): 362.4956 MAE: 14.8159\n",
            "val Loss(MSE): 41.2599 MAE: 4.9978\n",
            "Epoch 48/99\n",
            "----------\n",
            "train Loss(MSE): 247.6222 MAE: 11.6731\n",
            "val Loss(MSE): 72.8677 MAE: 7.2674\n",
            "Epoch 49/99\n",
            "----------\n",
            "train Loss(MSE): 383.1393 MAE: 15.1884\n",
            "val Loss(MSE): 43.6878 MAE: 5.1931\n",
            "Epoch 50/99\n",
            "----------\n",
            "train Loss(MSE): 324.4866 MAE: 14.4536\n",
            "val Loss(MSE): 37.8364 MAE: 4.8174\n",
            "Epoch 51/99\n",
            "----------\n",
            "train Loss(MSE): 551.2146 MAE: 17.8103\n",
            "val Loss(MSE): 47.4324 MAE: 5.4562\n",
            "Epoch 52/99\n",
            "----------\n",
            "train Loss(MSE): 289.3258 MAE: 12.9434\n",
            "val Loss(MSE): 54.2537 MAE: 6.0071\n",
            "Epoch 53/99\n",
            "----------\n",
            "train Loss(MSE): 234.7354 MAE: 11.8748\n",
            "val Loss(MSE): 41.5963 MAE: 5.0542\n",
            "Epoch 54/99\n",
            "----------\n",
            "train Loss(MSE): 218.3250 MAE: 11.5881\n",
            "val Loss(MSE): 38.5599 MAE: 4.8602\n",
            "Epoch 55/99\n",
            "----------\n",
            "train Loss(MSE): 394.2900 MAE: 16.0822\n",
            "val Loss(MSE): 43.9720 MAE: 4.7095\n",
            "Epoch 56/99\n",
            "----------\n",
            "train Loss(MSE): 397.3092 MAE: 16.6695\n",
            "val Loss(MSE): 42.9082 MAE: 5.1348\n",
            "Epoch 57/99\n",
            "----------\n",
            "train Loss(MSE): 356.3438 MAE: 14.0872\n",
            "val Loss(MSE): 40.7684 MAE: 4.9847\n",
            "Epoch 58/99\n",
            "----------\n",
            "train Loss(MSE): 455.7968 MAE: 15.2128\n",
            "val Loss(MSE): 52.9416 MAE: 5.8590\n",
            "Epoch 59/99\n",
            "----------\n",
            "train Loss(MSE): 309.9742 MAE: 13.6050\n",
            "val Loss(MSE): 44.7923 MAE: 5.2609\n",
            "Epoch 60/99\n",
            "----------\n",
            "train Loss(MSE): 353.6486 MAE: 14.7908\n",
            "val Loss(MSE): 42.8798 MAE: 5.1330\n",
            "Epoch 61/99\n",
            "----------\n",
            "train Loss(MSE): 236.7283 MAE: 11.4715\n",
            "val Loss(MSE): 50.5469 MAE: 5.7406\n",
            "Epoch 62/99\n",
            "----------\n",
            "train Loss(MSE): 422.9535 MAE: 16.6988\n",
            "val Loss(MSE): 44.3665 MAE: 5.2160\n",
            "Epoch 63/99\n",
            "----------\n",
            "train Loss(MSE): 170.1695 MAE: 9.9754\n",
            "val Loss(MSE): 41.2334 MAE: 4.9990\n",
            "Epoch 64/99\n",
            "----------\n",
            "train Loss(MSE): 277.3714 MAE: 12.6308\n",
            "val Loss(MSE): 43.8251 MAE: 5.1875\n",
            "Epoch 65/99\n",
            "----------\n",
            "train Loss(MSE): 146.5671 MAE: 9.4819\n",
            "val Loss(MSE): 38.2164 MAE: 4.7870\n",
            "Epoch 66/99\n",
            "----------\n",
            "train Loss(MSE): 420.8292 MAE: 16.4625\n",
            "val Loss(MSE): 51.1737 MAE: 4.8401\n",
            "Epoch 67/99\n",
            "----------\n",
            "train Loss(MSE): 370.8790 MAE: 13.7407\n",
            "val Loss(MSE): 51.8316 MAE: 4.8731\n",
            "Epoch 68/99\n",
            "----------\n",
            "train Loss(MSE): 250.2099 MAE: 12.4693\n",
            "val Loss(MSE): 38.6309 MAE: 4.7828\n",
            "Epoch 69/99\n",
            "----------\n",
            "train Loss(MSE): 278.6141 MAE: 12.7993\n",
            "val Loss(MSE): 38.2266 MAE: 4.7993\n",
            "Epoch 70/99\n",
            "----------\n",
            "train Loss(MSE): 413.6030 MAE: 15.2045\n",
            "val Loss(MSE): 60.2898 MAE: 5.2884\n",
            "Epoch 71/99\n",
            "----------\n",
            "train Loss(MSE): 338.4062 MAE: 14.5066\n",
            "val Loss(MSE): 59.2960 MAE: 5.2417\n",
            "Epoch 72/99\n",
            "----------\n",
            "train Loss(MSE): 391.4265 MAE: 15.8069\n",
            "val Loss(MSE): 38.8633 MAE: 4.7821\n",
            "Epoch 73/99\n",
            "----------\n",
            "train Loss(MSE): 214.2180 MAE: 11.0294\n",
            "val Loss(MSE): 38.5723 MAE: 4.7900\n",
            "Epoch 74/99\n",
            "----------\n",
            "train Loss(MSE): 283.4222 MAE: 13.5745\n",
            "val Loss(MSE): 40.0450 MAE: 4.9356\n",
            "Epoch 75/99\n",
            "----------\n",
            "train Loss(MSE): 261.9729 MAE: 13.0745\n",
            "val Loss(MSE): 45.2936 MAE: 5.2944\n",
            "Epoch 76/99\n",
            "----------\n",
            "train Loss(MSE): 223.0479 MAE: 11.4489\n",
            "val Loss(MSE): 38.2877 MAE: 4.8451\n",
            "Epoch 77/99\n",
            "----------\n",
            "train Loss(MSE): 347.9316 MAE: 14.6402\n",
            "val Loss(MSE): 37.8558 MAE: 4.7556\n",
            "Epoch 78/99\n",
            "----------\n",
            "train Loss(MSE): 189.0401 MAE: 10.5222\n",
            "val Loss(MSE): 38.1241 MAE: 4.8272\n",
            "Epoch 79/99\n",
            "----------\n",
            "train Loss(MSE): 273.8188 MAE: 12.4560\n",
            "val Loss(MSE): 46.7384 MAE: 4.7431\n",
            "Epoch 80/99\n",
            "----------\n",
            "train Loss(MSE): 314.5274 MAE: 14.2874\n",
            "val Loss(MSE): 45.0961 MAE: 4.7048\n",
            "Epoch 81/99\n",
            "----------\n",
            "train Loss(MSE): 290.0496 MAE: 13.7334\n",
            "val Loss(MSE): 41.0280 MAE: 4.9838\n",
            "Epoch 82/99\n",
            "----------\n",
            "train Loss(MSE): 297.8606 MAE: 13.3720\n",
            "val Loss(MSE): 43.4540 MAE: 4.7011\n",
            "Epoch 83/99\n",
            "----------\n",
            "train Loss(MSE): 325.1466 MAE: 14.5196\n",
            "val Loss(MSE): 53.2039 MAE: 5.9522\n",
            "Epoch 84/99\n",
            "----------\n",
            "train Loss(MSE): 230.5449 MAE: 12.3226\n",
            "val Loss(MSE): 47.1468 MAE: 5.4444\n",
            "Epoch 85/99\n",
            "----------\n",
            "train Loss(MSE): 279.8013 MAE: 13.3114\n",
            "val Loss(MSE): 38.0290 MAE: 4.8287\n",
            "Epoch 86/99\n",
            "----------\n",
            "train Loss(MSE): 337.8810 MAE: 14.5734\n",
            "val Loss(MSE): 40.6134 MAE: 4.9769\n",
            "Epoch 87/99\n",
            "----------\n",
            "train Loss(MSE): 437.4394 MAE: 16.5428\n",
            "val Loss(MSE): 41.8629 MAE: 4.6973\n",
            "Epoch 88/99\n",
            "----------\n",
            "train Loss(MSE): 211.3522 MAE: 11.3506\n",
            "val Loss(MSE): 41.8486 MAE: 5.0487\n",
            "Epoch 89/99\n",
            "----------\n",
            "train Loss(MSE): 256.4486 MAE: 12.3260\n",
            "val Loss(MSE): 53.2063 MAE: 5.9131\n",
            "Epoch 90/99\n",
            "----------\n",
            "train Loss(MSE): 179.7913 MAE: 10.1534\n",
            "val Loss(MSE): 38.0905 MAE: 4.8233\n",
            "Epoch 91/99\n",
            "----------\n",
            "train Loss(MSE): 362.5589 MAE: 15.2747\n",
            "val Loss(MSE): 54.3547 MAE: 5.9733\n",
            "Epoch 92/99\n",
            "----------\n",
            "train Loss(MSE): 273.1417 MAE: 12.8206\n",
            "val Loss(MSE): 38.2925 MAE: 4.7770\n",
            "Epoch 93/99\n",
            "----------\n",
            "train Loss(MSE): 206.8325 MAE: 11.1984\n",
            "val Loss(MSE): 40.3706 MAE: 4.9427\n",
            "Epoch 94/99\n",
            "----------\n",
            "train Loss(MSE): 423.9258 MAE: 15.7245\n",
            "val Loss(MSE): 43.7526 MAE: 4.7002\n",
            "Epoch 95/99\n",
            "----------\n",
            "train Loss(MSE): 326.6817 MAE: 14.2192\n",
            "val Loss(MSE): 42.6725 MAE: 4.6948\n",
            "Epoch 96/99\n",
            "----------\n",
            "train Loss(MSE): 337.3386 MAE: 14.5550\n",
            "val Loss(MSE): 49.7732 MAE: 5.6185\n",
            "Epoch 97/99\n",
            "----------\n",
            "train Loss(MSE): 429.3760 MAE: 16.2384\n",
            "val Loss(MSE): 46.2128 MAE: 4.7254\n",
            "Epoch 98/99\n",
            "----------\n",
            "train Loss(MSE): 185.9014 MAE: 10.4982\n",
            "val Loss(MSE): 38.2716 MAE: 4.7613\n",
            "Epoch 99/99\n",
            "----------\n",
            "train Loss(MSE): 299.0906 MAE: 13.3377\n",
            "val Loss(MSE): 71.6612 MAE: 7.1868\n",
            "Training complete in 4m 1s\n",
            "Best val MSE: 42.672466\n",
            "Best val MAE: 4.694839\n",
            "\n",
            "\n",
            "Starting to train model with conf name - nn_base_with_dropout_sgd_lr_1x10e7\n",
            "Epoch 0/99\n",
            "----------\n",
            "train Loss(MSE): 34812.6120 MAE: 176.4291\n",
            "val Loss(MSE): 33288.3254 MAE: 170.2622\n",
            "Epoch 1/99\n",
            "----------\n",
            "train Loss(MSE): 34562.3281 MAE: 175.7517\n",
            "val Loss(MSE): 33195.5813 MAE: 169.9902\n",
            "Epoch 2/99\n",
            "----------\n",
            "train Loss(MSE): 34055.0602 MAE: 174.3550\n",
            "val Loss(MSE): 32916.4602 MAE: 169.1754\n",
            "Epoch 3/99\n",
            "----------\n",
            "train Loss(MSE): 32929.1151 MAE: 171.2269\n",
            "val Loss(MSE): 31940.8500 MAE: 166.3450\n",
            "Epoch 4/99\n",
            "----------\n",
            "train Loss(MSE): 29518.7420 MAE: 161.2402\n",
            "val Loss(MSE): 27477.5676 MAE: 152.8826\n",
            "Epoch 5/99\n",
            "----------\n",
            "train Loss(MSE): 16715.9524 MAE: 114.6416\n",
            "val Loss(MSE): 6091.1166 MAE: 61.4685\n",
            "Epoch 6/99\n",
            "----------\n",
            "train Loss(MSE): 974.9636 MAE: 23.5697\n",
            "val Loss(MSE): 3970.2856 MAE: 60.7718\n",
            "Epoch 7/99\n",
            "----------\n",
            "train Loss(MSE): 339.1606 MAE: 13.3515\n",
            "val Loss(MSE): 455.1370 MAE: 19.6027\n",
            "Epoch 8/99\n",
            "----------\n",
            "train Loss(MSE): 275.5165 MAE: 13.0016\n",
            "val Loss(MSE): 134.1906 MAE: 10.3095\n",
            "Epoch 9/99\n",
            "----------\n",
            "train Loss(MSE): 261.4524 MAE: 12.3375\n",
            "val Loss(MSE): 93.1317 MAE: 8.3466\n",
            "Epoch 10/99\n",
            "----------\n",
            "train Loss(MSE): 432.0550 MAE: 15.1449\n",
            "val Loss(MSE): 51.8327 MAE: 5.1744\n",
            "Epoch 11/99\n",
            "----------\n",
            "train Loss(MSE): 211.8037 MAE: 11.4559\n",
            "val Loss(MSE): 54.2589 MAE: 5.3440\n",
            "Epoch 12/99\n",
            "----------\n",
            "train Loss(MSE): 264.7642 MAE: 12.2470\n",
            "val Loss(MSE): 53.8993 MAE: 5.2379\n",
            "Epoch 13/99\n",
            "----------\n",
            "train Loss(MSE): 289.4702 MAE: 13.3189\n",
            "val Loss(MSE): 48.7483 MAE: 5.3534\n",
            "Epoch 14/99\n",
            "----------\n",
            "train Loss(MSE): 339.2344 MAE: 14.4338\n",
            "val Loss(MSE): 54.6223 MAE: 6.1242\n",
            "Epoch 15/99\n",
            "----------\n",
            "train Loss(MSE): 222.5651 MAE: 11.4134\n",
            "val Loss(MSE): 51.4602 MAE: 5.8229\n",
            "Epoch 16/99\n",
            "----------\n",
            "train Loss(MSE): 264.6465 MAE: 12.2555\n",
            "val Loss(MSE): 49.7286 MAE: 5.1805\n",
            "Epoch 17/99\n",
            "----------\n",
            "train Loss(MSE): 357.4233 MAE: 14.5003\n",
            "val Loss(MSE): 54.7609 MAE: 6.1427\n",
            "Epoch 18/99\n",
            "----------\n",
            "train Loss(MSE): 459.1479 MAE: 17.1213\n",
            "val Loss(MSE): 49.8132 MAE: 5.1802\n",
            "Epoch 19/99\n",
            "----------\n",
            "train Loss(MSE): 313.8307 MAE: 14.2457\n",
            "val Loss(MSE): 49.2329 MAE: 5.5450\n",
            "Epoch 20/99\n",
            "----------\n",
            "train Loss(MSE): 258.8552 MAE: 12.4406\n",
            "val Loss(MSE): 49.9135 MAE: 5.1643\n",
            "Epoch 21/99\n",
            "----------\n",
            "train Loss(MSE): 347.0554 MAE: 13.9791\n",
            "val Loss(MSE): 75.3836 MAE: 7.4208\n",
            "Epoch 22/99\n",
            "----------\n",
            "train Loss(MSE): 473.7072 MAE: 16.1561\n",
            "val Loss(MSE): 76.2556 MAE: 7.4748\n",
            "Epoch 23/99\n",
            "----------\n",
            "train Loss(MSE): 370.4130 MAE: 14.6905\n",
            "val Loss(MSE): 98.7246 MAE: 8.7298\n",
            "Epoch 24/99\n",
            "----------\n",
            "train Loss(MSE): 369.1421 MAE: 14.1448\n",
            "val Loss(MSE): 65.3025 MAE: 6.8163\n",
            "Epoch 25/99\n",
            "----------\n",
            "train Loss(MSE): 278.0498 MAE: 12.4313\n",
            "val Loss(MSE): 57.0449 MAE: 6.3127\n",
            "Epoch 26/99\n",
            "----------\n",
            "train Loss(MSE): 450.6457 MAE: 16.5419\n",
            "val Loss(MSE): 56.3977 MAE: 6.2682\n",
            "Epoch 27/99\n",
            "----------\n",
            "train Loss(MSE): 334.1488 MAE: 14.1484\n",
            "val Loss(MSE): 50.2890 MAE: 5.1996\n",
            "Epoch 28/99\n",
            "----------\n",
            "train Loss(MSE): 344.3952 MAE: 14.1402\n",
            "val Loss(MSE): 52.8457 MAE: 5.0169\n",
            "Epoch 29/99\n",
            "----------\n",
            "train Loss(MSE): 478.8046 MAE: 16.0206\n",
            "val Loss(MSE): 48.6687 MAE: 5.4433\n",
            "Epoch 30/99\n",
            "----------\n",
            "train Loss(MSE): 233.8107 MAE: 11.6005\n",
            "val Loss(MSE): 61.0252 MAE: 6.5775\n",
            "Epoch 31/99\n",
            "----------\n",
            "train Loss(MSE): 264.2174 MAE: 12.1343\n",
            "val Loss(MSE): 59.0842 MAE: 6.4556\n",
            "Epoch 32/99\n",
            "----------\n",
            "train Loss(MSE): 360.9062 MAE: 14.7757\n",
            "val Loss(MSE): 78.9599 MAE: 7.6266\n",
            "Epoch 33/99\n",
            "----------\n",
            "train Loss(MSE): 540.3241 MAE: 17.8683\n",
            "val Loss(MSE): 48.6551 MAE: 5.4237\n",
            "Epoch 34/99\n",
            "----------\n",
            "train Loss(MSE): 224.8335 MAE: 11.5068\n",
            "val Loss(MSE): 52.7716 MAE: 5.9212\n",
            "Epoch 35/99\n",
            "----------\n",
            "train Loss(MSE): 538.4033 MAE: 18.1863\n",
            "val Loss(MSE): 91.7417 MAE: 8.3690\n",
            "Epoch 36/99\n",
            "----------\n",
            "train Loss(MSE): 351.2007 MAE: 14.1946\n",
            "val Loss(MSE): 59.2497 MAE: 6.4647\n",
            "Epoch 37/99\n",
            "----------\n",
            "train Loss(MSE): 479.2710 MAE: 16.2594\n",
            "val Loss(MSE): 50.1649 MAE: 5.6495\n",
            "Epoch 38/99\n",
            "----------\n",
            "train Loss(MSE): 332.4838 MAE: 14.2115\n",
            "val Loss(MSE): 80.4983 MAE: 7.7095\n",
            "Epoch 39/99\n",
            "----------\n",
            "train Loss(MSE): 383.3040 MAE: 13.7134\n",
            "val Loss(MSE): 56.7150 MAE: 4.9680\n",
            "Epoch 40/99\n",
            "----------\n",
            "train Loss(MSE): 564.4887 MAE: 18.2257\n",
            "val Loss(MSE): 114.3214 MAE: 9.5313\n",
            "Epoch 41/99\n",
            "----------\n",
            "train Loss(MSE): 289.4282 MAE: 12.6034\n",
            "val Loss(MSE): 72.6641 MAE: 7.2538\n",
            "Epoch 42/99\n",
            "----------\n",
            "train Loss(MSE): 328.0081 MAE: 13.7098\n",
            "val Loss(MSE): 63.5726 MAE: 6.7213\n",
            "Epoch 43/99\n",
            "----------\n",
            "train Loss(MSE): 470.7074 MAE: 16.8833\n",
            "val Loss(MSE): 92.4498 MAE: 8.4057\n",
            "Epoch 44/99\n",
            "----------\n",
            "train Loss(MSE): 501.4836 MAE: 17.0998\n",
            "val Loss(MSE): 66.8426 MAE: 6.9285\n",
            "Epoch 45/99\n",
            "----------\n",
            "train Loss(MSE): 449.0075 MAE: 16.7468\n",
            "val Loss(MSE): 60.2727 MAE: 6.5253\n",
            "Epoch 46/99\n",
            "----------\n",
            "train Loss(MSE): 223.8417 MAE: 11.1652\n",
            "val Loss(MSE): 48.6434 MAE: 5.3742\n",
            "Epoch 47/99\n",
            "----------\n",
            "train Loss(MSE): 439.9043 MAE: 16.3120\n",
            "val Loss(MSE): 56.0305 MAE: 6.2384\n",
            "Epoch 48/99\n",
            "----------\n",
            "train Loss(MSE): 333.3749 MAE: 13.2566\n",
            "val Loss(MSE): 61.9285 MAE: 6.6226\n",
            "Epoch 49/99\n",
            "----------\n",
            "train Loss(MSE): 322.2212 MAE: 13.1708\n",
            "val Loss(MSE): 139.8036 MAE: 10.6727\n",
            "Epoch 50/99\n",
            "----------\n",
            "train Loss(MSE): 542.1875 MAE: 18.4979\n",
            "val Loss(MSE): 74.3590 MAE: 7.3369\n",
            "Epoch 51/99\n",
            "----------\n",
            "train Loss(MSE): 237.2814 MAE: 11.5235\n",
            "val Loss(MSE): 65.5433 MAE: 6.8298\n",
            "Epoch 52/99\n",
            "----------\n",
            "train Loss(MSE): 345.7683 MAE: 13.8621\n",
            "val Loss(MSE): 109.7888 MAE: 9.2906\n",
            "Epoch 53/99\n",
            "----------\n",
            "train Loss(MSE): 380.6614 MAE: 14.3934\n",
            "val Loss(MSE): 76.9222 MAE: 7.5150\n",
            "Epoch 54/99\n",
            "----------\n",
            "train Loss(MSE): 300.6363 MAE: 13.8550\n",
            "val Loss(MSE): 52.2376 MAE: 5.8920\n",
            "Epoch 55/99\n",
            "----------\n",
            "train Loss(MSE): 365.4150 MAE: 14.8585\n",
            "val Loss(MSE): 49.6580 MAE: 5.5997\n",
            "Epoch 56/99\n",
            "----------\n",
            "train Loss(MSE): 347.0345 MAE: 14.1534\n",
            "val Loss(MSE): 55.9685 MAE: 6.2321\n",
            "Epoch 57/99\n",
            "----------\n",
            "train Loss(MSE): 286.1012 MAE: 13.3176\n",
            "val Loss(MSE): 68.9673 MAE: 7.0186\n",
            "Epoch 58/99\n",
            "----------\n",
            "train Loss(MSE): 245.8348 MAE: 11.8796\n",
            "val Loss(MSE): 55.9394 MAE: 6.2290\n",
            "Epoch 59/99\n",
            "----------\n",
            "train Loss(MSE): 438.5553 MAE: 16.1755\n",
            "val Loss(MSE): 48.9256 MAE: 5.3133\n",
            "Epoch 60/99\n",
            "----------\n",
            "train Loss(MSE): 416.7627 MAE: 16.1759\n",
            "val Loss(MSE): 60.7767 MAE: 4.8825\n",
            "Epoch 61/99\n",
            "----------\n",
            "train Loss(MSE): 431.4281 MAE: 16.1456\n",
            "val Loss(MSE): 67.7331 MAE: 6.9876\n",
            "Epoch 62/99\n",
            "----------\n",
            "train Loss(MSE): 187.8067 MAE: 10.2736\n",
            "val Loss(MSE): 54.2965 MAE: 6.0817\n",
            "Epoch 63/99\n",
            "----------\n",
            "train Loss(MSE): 311.7572 MAE: 13.2850\n",
            "val Loss(MSE): 56.6778 MAE: 6.2852\n",
            "Epoch 64/99\n",
            "----------\n",
            "train Loss(MSE): 283.2219 MAE: 13.4033\n",
            "val Loss(MSE): 52.6746 MAE: 5.9390\n",
            "Epoch 65/99\n",
            "----------\n",
            "train Loss(MSE): 412.2570 MAE: 15.5964\n",
            "val Loss(MSE): 97.3656 MAE: 8.6691\n",
            "Epoch 66/99\n",
            "----------\n",
            "train Loss(MSE): 335.6756 MAE: 13.4501\n",
            "val Loss(MSE): 113.3722 MAE: 9.5080\n",
            "Epoch 67/99\n",
            "----------\n",
            "train Loss(MSE): 419.4305 MAE: 15.8275\n",
            "val Loss(MSE): 49.9587 MAE: 5.6255\n",
            "Epoch 68/99\n",
            "----------\n",
            "train Loss(MSE): 366.0738 MAE: 14.9420\n",
            "val Loss(MSE): 57.6128 MAE: 6.3545\n",
            "Epoch 69/99\n",
            "----------\n",
            "train Loss(MSE): 354.9010 MAE: 14.4058\n",
            "val Loss(MSE): 87.1051 MAE: 8.1090\n",
            "Epoch 70/99\n",
            "----------\n",
            "train Loss(MSE): 222.7790 MAE: 11.5659\n",
            "val Loss(MSE): 65.3073 MAE: 6.8157\n",
            "Epoch 71/99\n",
            "----------\n",
            "train Loss(MSE): 522.0493 MAE: 17.3876\n",
            "val Loss(MSE): 109.7240 MAE: 9.2902\n",
            "Epoch 72/99\n",
            "----------\n",
            "train Loss(MSE): 255.9118 MAE: 12.5013\n",
            "val Loss(MSE): 65.7340 MAE: 6.8380\n",
            "Epoch 73/99\n",
            "----------\n",
            "train Loss(MSE): 350.7611 MAE: 13.7864\n",
            "val Loss(MSE): 92.4847 MAE: 8.4068\n",
            "Epoch 74/99\n",
            "----------\n",
            "train Loss(MSE): 244.7068 MAE: 11.6534\n",
            "val Loss(MSE): 105.7532 MAE: 9.0774\n",
            "Epoch 75/99\n",
            "----------\n",
            "train Loss(MSE): 330.8608 MAE: 14.6565\n",
            "val Loss(MSE): 87.8707 MAE: 8.1571\n",
            "Epoch 76/99\n",
            "----------\n",
            "train Loss(MSE): 413.6578 MAE: 15.9789\n",
            "val Loss(MSE): 48.7327 MAE: 5.3065\n",
            "Epoch 77/99\n",
            "----------\n",
            "train Loss(MSE): 234.6137 MAE: 11.5286\n",
            "val Loss(MSE): 58.3373 MAE: 6.4061\n",
            "Epoch 78/99\n",
            "----------\n",
            "train Loss(MSE): 342.8154 MAE: 14.6341\n",
            "val Loss(MSE): 49.3319 MAE: 5.2428\n",
            "Epoch 79/99\n",
            "----------\n",
            "train Loss(MSE): 447.3310 MAE: 16.0175\n",
            "val Loss(MSE): 128.4665 MAE: 10.1816\n",
            "Epoch 80/99\n",
            "----------\n",
            "train Loss(MSE): 365.3132 MAE: 14.4949\n",
            "val Loss(MSE): 121.9649 MAE: 9.8855\n",
            "Epoch 81/99\n",
            "----------\n",
            "train Loss(MSE): 285.5483 MAE: 12.5702\n",
            "val Loss(MSE): 131.2558 MAE: 10.3261\n",
            "Epoch 82/99\n",
            "----------\n",
            "train Loss(MSE): 321.2982 MAE: 13.6104\n",
            "val Loss(MSE): 87.7671 MAE: 8.1492\n",
            "Epoch 83/99\n",
            "----------\n",
            "train Loss(MSE): 249.2425 MAE: 12.3298\n",
            "val Loss(MSE): 73.5677 MAE: 7.3117\n",
            "Epoch 84/99\n",
            "----------\n",
            "train Loss(MSE): 299.9404 MAE: 13.2333\n",
            "val Loss(MSE): 56.8171 MAE: 6.2949\n",
            "Epoch 85/99\n",
            "----------\n",
            "train Loss(MSE): 293.1837 MAE: 13.4133\n",
            "val Loss(MSE): 48.9133 MAE: 5.3752\n",
            "Epoch 86/99\n",
            "----------\n",
            "train Loss(MSE): 394.9860 MAE: 14.6928\n",
            "val Loss(MSE): 49.1781 MAE: 5.4307\n",
            "Epoch 87/99\n",
            "----------\n",
            "train Loss(MSE): 470.6088 MAE: 16.6386\n",
            "val Loss(MSE): 55.2766 MAE: 6.1814\n",
            "Epoch 88/99\n",
            "----------\n",
            "train Loss(MSE): 317.4709 MAE: 12.8548\n",
            "val Loss(MSE): 50.2965 MAE: 5.6730\n",
            "Epoch 89/99\n",
            "----------\n",
            "train Loss(MSE): 390.0519 MAE: 15.8953\n",
            "val Loss(MSE): 48.9396 MAE: 5.2739\n",
            "Epoch 90/99\n",
            "----------\n",
            "train Loss(MSE): 428.7693 MAE: 14.7989\n",
            "val Loss(MSE): 86.3290 MAE: 8.0644\n",
            "Epoch 91/99\n",
            "----------\n",
            "train Loss(MSE): 420.4951 MAE: 15.4858\n",
            "val Loss(MSE): 66.9531 MAE: 6.9083\n",
            "Epoch 92/99\n",
            "----------\n",
            "train Loss(MSE): 204.3386 MAE: 11.3757\n",
            "val Loss(MSE): 56.1805 MAE: 6.2501\n",
            "Epoch 93/99\n",
            "----------\n",
            "train Loss(MSE): 290.7121 MAE: 12.9470\n",
            "val Loss(MSE): 48.9741 MAE: 5.4392\n",
            "Epoch 94/99\n",
            "----------\n",
            "train Loss(MSE): 570.2830 MAE: 17.7788\n",
            "val Loss(MSE): 77.5205 MAE: 7.5544\n",
            "Epoch 95/99\n",
            "----------\n",
            "train Loss(MSE): 311.0327 MAE: 14.0319\n",
            "val Loss(MSE): 50.0347 MAE: 5.1410\n",
            "Epoch 96/99\n",
            "----------\n",
            "train Loss(MSE): 310.1327 MAE: 13.6004\n",
            "val Loss(MSE): 69.0723 MAE: 7.0097\n",
            "Epoch 97/99\n",
            "----------\n",
            "train Loss(MSE): 229.5569 MAE: 11.7760\n",
            "val Loss(MSE): 59.5906 MAE: 6.4851\n",
            "Epoch 98/99\n",
            "----------\n",
            "train Loss(MSE): 278.6048 MAE: 12.9971\n",
            "val Loss(MSE): 63.1533 MAE: 6.6987\n",
            "Epoch 99/99\n",
            "----------\n",
            "train Loss(MSE): 340.8737 MAE: 13.8927\n",
            "val Loss(MSE): 51.5858 MAE: 5.7960\n",
            "Training complete in 3m 27s\n",
            "Best val MSE: 60.776680\n",
            "Best val MAE: 4.882493\n"
          ]
        }
      ],
      "source": [
        "import gc\n",
        "\n",
        "m1 = FinalNetwork()\n",
        "m2 = FinalNetwork()\n",
        "\n",
        "base_model_configurations = [\n",
        "    {\n",
        "        \"config_name\": \"nn_base_w_dropout_adam\",\n",
        "        \"params\": {\n",
        "            \"nn_obj\": m1,\n",
        "            \"criterion\": nn.MSELoss(),\n",
        "            \"optimizer\": optim.Adam(m1.parameters(), lr=0.00003),\n",
        "            \"num_epochs\": 100,\n",
        "        },\n",
        "    },\n",
        "    {\n",
        "        \"config_name\": \"nn_base_with_dropout_sgd_lr_1x10e7\",\n",
        "        \"params\": {\n",
        "            \"nn_obj\": m2,\n",
        "            \"criterion\": nn.MSELoss(),\n",
        "            \"optimizer\": optim.SGD(m2.parameters(), lr=0.0000003, momentum=0.7),\n",
        "            \"num_epochs\": 100,\n",
        "        },\n",
        "    },\n",
        "]\n",
        "\n",
        "base_results = []\n",
        "\n",
        "for model_conf in base_model_configurations:\n",
        "    conf_name = model_conf.get(\"config_name\")\n",
        "    params = model_conf.get(\"params\")\n",
        "\n",
        "    print(f\"\\n\\nStarting to train model with conf name - {conf_name}\")\n",
        "    model, stats = train_model_end2end(**params)\n",
        "    unified_stats_df = get_unified_stats_df(stats)\n",
        "    base_results.append(\n",
        "        (conf_name, copy.deepcopy(model.state_dict()), unified_stats_df)\n",
        "    )\n",
        "\n",
        "    del model\n",
        "    gc.collect()\n",
        "    torch.cuda.empty_cache()\n"
      ]
    },
    {
      "cell_type": "code",
      "execution_count": 26,
      "metadata": {},
      "outputs": [
        {
          "data": {
            "text/plain": [
              "<All keys matched successfully>"
            ]
          },
          "execution_count": 26,
          "metadata": {},
          "output_type": "execute_result"
        }
      ],
      "source": [
        "model1 = base_results[0][1]\n",
        "m1 = FinalNetwork()\n",
        "m1.load_state_dict(model1)"
      ]
    },
    {
      "cell_type": "code",
      "execution_count": 27,
      "metadata": {},
      "outputs": [],
      "source": [
        "filters = m1.layer1[0].weight.detach().numpy()"
      ]
    },
    {
      "cell_type": "code",
      "execution_count": 28,
      "metadata": {},
      "outputs": [],
      "source": [
        "f_min, f_max = filters.min(), filters.max()\n",
        "filters = (filters - f_min) / (f_max - f_min)"
      ]
    },
    {
      "cell_type": "code",
      "execution_count": 29,
      "metadata": {},
      "outputs": [
        {
          "data": {
            "text/plain": [
              "(32, 1, 5, 5)"
            ]
          },
          "execution_count": 29,
          "metadata": {},
          "output_type": "execute_result"
        }
      ],
      "source": [
        "filters.shape"
      ]
    },
    {
      "cell_type": "code",
      "execution_count": null,
      "metadata": {},
      "outputs": [
        {
          "data": {
            "image/png": "[encoded data removed]",
            "text/plain": [
              "<Figure size 432x288 with 1 Axes>"
            ]
          },
          "metadata": {
            "needs_background": "light"
          },
          "output_type": "display_data"
        },
        {
          "data": {
            "image/png": "[encoded data removed]",
            "text/plain": [
              "<Figure size 432x288 with 1 Axes>"
            ]
          },
          "metadata": {
            "needs_background": "light"
          },
          "output_type": "display_data"
        },
        {
          "data": {
            "image/png": "[encoded data removed]",
            "text/plain": [
              "<Figure size 432x288 with 1 Axes>"
            ]
          },
          "metadata": {
            "needs_background": "light"
          },
          "output_type": "display_data"
        },
        {
          "data": {
            "image/png": "[encoded data removed]",
            "text/plain": [
              "<Figure size 432x288 with 1 Axes>"
            ]
          },
          "metadata": {
            "needs_background": "light"
          },
          "output_type": "display_data"
        },
        {
          "data": {
            "image/png": "[encoded data removed]",
            "text/plain": [
              "<Figure size 432x288 with 1 Axes>"
            ]
          },
          "metadata": {
            "needs_background": "light"
          },
          "output_type": "display_data"
        },
        {
          "data": {
            "image/png": "[encoded data removed]",
            "text/plain": [
              "<Figure size 432x288 with 1 Axes>"
            ]
          },
          "metadata": {
            "needs_background": "light"
          },
          "output_type": "display_data"
        },
        {
          "data": {
            "image/png": "[encoded data removed]",
            "text/plain": [
              "<Figure size 432x288 with 1 Axes>"
            ]
          },
          "metadata": {
            "needs_background": "light"
          },
          "output_type": "display_data"
        },
        {
          "data": {
            "image/png": "[encoded data removed]",
            "text/plain": [
              "<Figure size 432x288 with 1 Axes>"
            ]
          },
          "metadata": {
            "needs_background": "light"
          },
          "output_type": "display_data"
        },
        {
          "data": {
            "image/png": "[encoded data removed]",
            "text/plain": [
              "<Figure size 432x288 with 1 Axes>"
            ]
          },
          "metadata": {
            "needs_background": "light"
          },
          "output_type": "display_data"
        },
        {
          "data": {
            "image/png": "[encoded data removed]",
            "text/plain": [
              "<Figure size 432x288 with 1 Axes>"
            ]
          },
          "metadata": {
            "needs_background": "light"
          },
          "output_type": "display_data"
        },
        {
          "data": {
            "image/png": "[encoded data removed]",
            "text/plain": [
              "<Figure size 432x288 with 1 Axes>"
            ]
          },
          "metadata": {
            "needs_background": "light"
          },
          "output_type": "display_data"
        },
        {
          "data": {
            "image/png": "[encoded data removed]",
            "text/plain": [
              "<Figure size 432x288 with 1 Axes>"
            ]
          },
          "metadata": {
            "needs_background": "light"
          },
          "output_type": "display_data"
        },
        {
          "data": {
            "image/png": "[encoded data removed]",
            "text/plain": [
              "<Figure size 432x288 with 1 Axes>"
            ]
          },
          "metadata": {
            "needs_background": "light"
          },
          "output_type": "display_data"
        },
        {
          "data": {
            "image/png": "[encoded data removed]",
            "text/plain": [
              "<Figure size 432x288 with 1 Axes>"
            ]
          },
          "metadata": {
            "needs_background": "light"
          },
          "output_type": "display_data"
        },
        {
          "data": {
            "image/png": "[encoded data removed]",
            "text/plain": [
              "<Figure size 432x288 with 1 Axes>"
            ]
          },
          "metadata": {
            "needs_background": "light"
          },
          "output_type": "display_data"
        },
        {
          "data": {
            "image/png": "[encoded data removed]",
            "text/plain": [
              "<Figure size 432x288 with 1 Axes>"
            ]
          },
          "metadata": {
            "needs_background": "light"
          },
          "output_type": "display_data"
        },
        {
          "data": {
            "image/png": "[encoded data removed]",
            "text/plain": [
              "<Figure size 432x288 with 1 Axes>"
            ]
          },
          "metadata": {
            "needs_background": "light"
          },
          "output_type": "display_data"
        },
        {
          "data": {
            "image/png": "[encoded data removed]",
            "text/plain": [
              "<Figure size 432x288 with 1 Axes>"
            ]
          },
          "metadata": {
            "needs_background": "light"
          },
          "output_type": "display_data"
        },
        {
          "data": {
            "image/png": "[encoded data removed]",
            "text/plain": [
              "<Figure size 432x288 with 1 Axes>"
            ]
          },
          "metadata": {
            "needs_background": "light"
          },
          "output_type": "display_data"
        },
        {
          "data": {
            "image/png": "[encoded data removed]",
            "text/plain": [
              "<Figure size 432x288 with 1 Axes>"
            ]
          },
          "metadata": {
            "needs_background": "light"
          },
          "output_type": "display_data"
        },
        {
          "data": {
            "image/png": "[encoded data removed]",
            "text/plain": [
              "<Figure size 432x288 with 1 Axes>"
            ]
          },
          "metadata": {
            "needs_background": "light"
          },
          "output_type": "display_data"
        },
        {
          "data": {
            "image/png": "[encoded data removed]",
            "text/plain": [
              "<Figure size 432x288 with 1 Axes>"
            ]
          },
          "metadata": {
            "needs_background": "light"
          },
          "output_type": "display_data"
        },
        {
          "data": {
            "image/png": "[encoded data removed]",
            "text/plain": [
              "<Figure size 432x288 with 1 Axes>"
            ]
          },
          "metadata": {
            "needs_background": "light"
          },
          "output_type": "display_data"
        },
        {
          "data": {
            "image/png": "[encoded data removed]",
            "text/plain": [
              "<Figure size 432x288 with 1 Axes>"
            ]
          },
          "metadata": {
            "needs_background": "light"
          },
          "output_type": "display_data"
        },
        {
          "data": {
            "image/png": "[encoded data removed]",
            "text/plain": [
              "<Figure size 432x288 with 1 Axes>"
            ]
          },
          "metadata": {
            "needs_background": "light"
          },
          "output_type": "display_data"
        },
        {
          "data": {
            "image/png": "[encoded data removed]",
            "text/plain": [
              "<Figure size 432x288 with 1 Axes>"
            ]
          },
          "metadata": {
            "needs_background": "light"
          },
          "output_type": "display_data"
        },
        {
          "data": {
            "image/png": "[encoded data removed]",
            "text/plain": [
              "<Figure size 432x288 with 1 Axes>"
            ]
          },
          "metadata": {
            "needs_background": "light"
          },
          "output_type": "display_data"
        },
        {
          "data": {
            "image/png": "[encoded data removed]",
            "text/plain": [
              "<Figure size 432x288 with 1 Axes>"
            ]
          },
          "metadata": {
            "needs_background": "light"
          },
          "output_type": "display_data"
        },
        {
          "data": {
            "image/png": "[encoded data removed]",
            "text/plain": [
              "<Figure size 432x288 with 1 Axes>"
            ]
          },
          "metadata": {
            "needs_background": "light"
          },
          "output_type": "display_data"
        },
        {
          "data": {
            "image/png": "[encoded data removed]",
            "text/plain": [
              "<Figure size 432x288 with 1 Axes>"
            ]
          },
          "metadata": {
            "needs_background": "light"
          },
          "output_type": "display_data"
        },
        {
          "data": {
            "image/png": "[encoded data removed]",
            "text/plain": [
              "<Figure size 432x288 with 1 Axes>"
            ]
          },
          "metadata": {
            "needs_background": "light"
          },
          "output_type": "display_data"
        },
        {
          "data": {
            "image/png": "[encoded data removed]",
            "text/plain": [
              "<Figure size 432x288 with 1 Axes>"
            ]
          },
          "metadata": {
            "needs_background": "light"
          },
          "output_type": "display_data"
        }
      ],
      "source": [
        "for fs1 in filters:\n",
        "    for fs2 in fs1:\n",
        "        plt.imshow(fs2, cmap=\"gray\")\n",
        "        plt.show()"
      ]
    },
    {
      "cell_type": "code",
      "execution_count": null,
      "metadata": {
        "executionInfo": {
          "elapsed": 13,
          "status": "ok",
          "timestamp": 1648674292886,
          "user": {
            "displayName": "Asaf Dahan",
            "userId": "05572133538735955476"
          },
          "user_tz": -180
        },
        "id": "TD7ZZN1xk99c"
      },
      "outputs": [],
      "source": [
        "def pytorch_predict(model, dataloader, device):\n",
        "    \"\"\"\n",
        "    Make prediction from a pytorch model\n",
        "    \"\"\"\n",
        "    # set model to evaluate model\n",
        "    model.eval()\n",
        "\n",
        "    y_true = torch.tensor([])\n",
        "    y_pred = torch.tensor([])\n",
        "\n",
        "    # deactivate autograd engine and reduce memory usage and speed up computations\n",
        "    with torch.no_grad():\n",
        "        for inputs, labels in dataloader:\n",
        "            outputs = model(inputs)\n",
        "\n",
        "            y_true = torch.cat((y_true, labels), 0)\n",
        "            y_pred = torch.cat((y_pred, outputs), 0)\n",
        "\n",
        "    y_true = y_true.cpu().numpy()\n",
        "    y_pred = y_pred.cpu().numpy()\n",
        "\n",
        "    return y_true, y_pred"
      ]
    },
    {
      "cell_type": "code",
      "execution_count": null,
      "metadata": {
        "colab": {
          "base_uri": "https://localhost:8080/"
        },
        "executionInfo": {
          "elapsed": 662,
          "status": "ok",
          "timestamp": 1648674293536,
          "user": {
            "displayName": "Asaf Dahan",
            "userId": "05572133538735955476"
          },
          "user_tz": -180
        },
        "id": "xdg93L7tk6Dw",
        "outputId": "f5f0b167-8a1e-43a2-d858-ff30bcfb2b5a"
      },
      "outputs": [
        {
          "data": {
            "text/html": [
              "<div>\n",
              "<style scoped>\n",
              "    .dataframe tbody tr th:only-of-type {\n",
              "        vertical-align: middle;\n",
              "    }\n",
              "\n",
              "    .dataframe tbody tr th {\n",
              "        vertical-align: top;\n",
              "    }\n",
              "\n",
              "    .dataframe thead th {\n",
              "        text-align: right;\n",
              "    }\n",
              "</style>\n",
              "<table border=\"1\" class=\"dataframe\">\n",
              "  <thead>\n",
              "    <tr style=\"text-align: right;\">\n",
              "      <th></th>\n",
              "      <th>Label</th>\n",
              "      <th>Prediction</th>\n",
              "      <th>Diff</th>\n",
              "    </tr>\n",
              "  </thead>\n",
              "  <tbody>\n",
              "    <tr>\n",
              "      <th>0</th>\n",
              "      <td>86.0</td>\n",
              "      <td>85.636223</td>\n",
              "      <td>0.363777</td>\n",
              "    </tr>\n",
              "    <tr>\n",
              "      <th>1</th>\n",
              "      <td>292.0</td>\n",
              "      <td>281.428894</td>\n",
              "      <td>10.571106</td>\n",
              "    </tr>\n",
              "    <tr>\n",
              "      <th>2</th>\n",
              "      <td>244.0</td>\n",
              "      <td>244.623856</td>\n",
              "      <td>0.623856</td>\n",
              "    </tr>\n",
              "    <tr>\n",
              "      <th>3</th>\n",
              "      <td>218.0</td>\n",
              "      <td>218.567123</td>\n",
              "      <td>0.567123</td>\n",
              "    </tr>\n",
              "    <tr>\n",
              "      <th>4</th>\n",
              "      <td>248.0</td>\n",
              "      <td>221.029755</td>\n",
              "      <td>26.970245</td>\n",
              "    </tr>\n",
              "    <tr>\n",
              "      <th>5</th>\n",
              "      <td>224.0</td>\n",
              "      <td>219.775101</td>\n",
              "      <td>4.224899</td>\n",
              "    </tr>\n",
              "    <tr>\n",
              "      <th>6</th>\n",
              "      <td>95.0</td>\n",
              "      <td>96.126617</td>\n",
              "      <td>1.126617</td>\n",
              "    </tr>\n",
              "    <tr>\n",
              "      <th>7</th>\n",
              "      <td>132.0</td>\n",
              "      <td>132.571091</td>\n",
              "      <td>0.571091</td>\n",
              "    </tr>\n",
              "    <tr>\n",
              "      <th>8</th>\n",
              "      <td>98.0</td>\n",
              "      <td>99.744804</td>\n",
              "      <td>1.744804</td>\n",
              "    </tr>\n",
              "    <tr>\n",
              "      <th>9</th>\n",
              "      <td>273.0</td>\n",
              "      <td>265.559814</td>\n",
              "      <td>7.440186</td>\n",
              "    </tr>\n",
              "    <tr>\n",
              "      <th>10</th>\n",
              "      <td>154.0</td>\n",
              "      <td>145.866470</td>\n",
              "      <td>8.133530</td>\n",
              "    </tr>\n",
              "    <tr>\n",
              "      <th>11</th>\n",
              "      <td>128.0</td>\n",
              "      <td>122.069725</td>\n",
              "      <td>5.930275</td>\n",
              "    </tr>\n",
              "    <tr>\n",
              "      <th>12</th>\n",
              "      <td>200.0</td>\n",
              "      <td>201.177719</td>\n",
              "      <td>1.177719</td>\n",
              "    </tr>\n",
              "    <tr>\n",
              "      <th>13</th>\n",
              "      <td>156.0</td>\n",
              "      <td>160.869507</td>\n",
              "      <td>4.869507</td>\n",
              "    </tr>\n",
              "    <tr>\n",
              "      <th>14</th>\n",
              "      <td>200.0</td>\n",
              "      <td>199.633591</td>\n",
              "      <td>0.366409</td>\n",
              "    </tr>\n",
              "    <tr>\n",
              "      <th>15</th>\n",
              "      <td>84.0</td>\n",
              "      <td>91.620903</td>\n",
              "      <td>7.620903</td>\n",
              "    </tr>\n",
              "    <tr>\n",
              "      <th>16</th>\n",
              "      <td>218.0</td>\n",
              "      <td>218.990646</td>\n",
              "      <td>0.990646</td>\n",
              "    </tr>\n",
              "    <tr>\n",
              "      <th>17</th>\n",
              "      <td>79.0</td>\n",
              "      <td>83.993538</td>\n",
              "      <td>4.993538</td>\n",
              "    </tr>\n",
              "    <tr>\n",
              "      <th>18</th>\n",
              "      <td>153.0</td>\n",
              "      <td>143.662338</td>\n",
              "      <td>9.337662</td>\n",
              "    </tr>\n",
              "    <tr>\n",
              "      <th>19</th>\n",
              "      <td>124.0</td>\n",
              "      <td>124.026947</td>\n",
              "      <td>0.026947</td>\n",
              "    </tr>\n",
              "  </tbody>\n",
              "</table>\n",
              "</div>"
            ],
            "text/plain": [
              "    Label  Prediction       Diff\n",
              "0    86.0   85.636223   0.363777\n",
              "1   292.0  281.428894  10.571106\n",
              "2   244.0  244.623856   0.623856\n",
              "3   218.0  218.567123   0.567123\n",
              "4   248.0  221.029755  26.970245\n",
              "5   224.0  219.775101   4.224899\n",
              "6    95.0   96.126617   1.126617\n",
              "7   132.0  132.571091   0.571091\n",
              "8    98.0   99.744804   1.744804\n",
              "9   273.0  265.559814   7.440186\n",
              "10  154.0  145.866470   8.133530\n",
              "11  128.0  122.069725   5.930275\n",
              "12  200.0  201.177719   1.177719\n",
              "13  156.0  160.869507   4.869507\n",
              "14  200.0  199.633591   0.366409\n",
              "15   84.0   91.620903   7.620903\n",
              "16  218.0  218.990646   0.990646\n",
              "17   79.0   83.993538   4.993538\n",
              "18  153.0  143.662338   9.337662\n",
              "19  124.0  124.026947   0.026947"
            ]
          },
          "execution_count": 34,
          "metadata": {},
          "output_type": "execute_result"
        }
      ],
      "source": [
        "model2 = base_results[1][1]\n",
        "base_model = FinalNetwork()\n",
        "base_model.load_state_dict(model2)\n",
        "label, preds = pytorch_predict(base_model, dataloaders[\"val\"], device)\n",
        "\n",
        "pd.DataFrame(\n",
        "    {\n",
        "        \"Label\": label.reshape(-1),\n",
        "        \"Prediction\": preds.reshape(-1),\n",
        "        \"Diff\": np.abs(label.reshape(-1) - preds.reshape(-1)),\n",
        "    }\n",
        ")"
      ]
    }
  ],
  "metadata": {
    "accelerator": "GPU",
    "colab": {
      "collapsed_sections": [],
      "name": "object_cnt.ipynb",
      "provenance": []
    },
    "kernelspec": {
      "display_name": "conda_pytorch_p38",
      "language": "python",
      "name": "conda_pytorch_p38"
    },
    "language_info": {
      "codemirror_mode": {
        "name": "ipython",
        "version": 3
      },
      "file_extension": ".py",
      "mimetype": "text/x-python",
      "name": "python",
      "nbconvert_exporter": "python",
      "pygments_lexer": "ipython3",
      "version": "3.8.12"
    }
  },
  "nbformat": 4,
  "nbformat_minor": 4
}
