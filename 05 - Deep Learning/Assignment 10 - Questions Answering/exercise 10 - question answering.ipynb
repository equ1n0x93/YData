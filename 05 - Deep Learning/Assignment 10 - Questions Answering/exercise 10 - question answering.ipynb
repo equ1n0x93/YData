{
  "cells": [
    {
      "cell_type": "markdown",
      "metadata": {
        "id": "m_JC0X60cuko"
      },
      "source": [
        "# Exercise 10 - Question Answering in NLP\n",
        "In this exercise, you will experiment with one of NLP’s exciting tasks - Question Answering!\n",
        "\n",
        "You will first evaluate a pre-trained model on Squad, a leading question-answering dataset, and evaluate its performance. Those with an approved access to GPUs in AWS or a different provider are encouraged to also fine-tune a base model on the Squad dataset.\n",
        "\n",
        "We will use HuggingFace’s Transformers, the leading package for NLP tasks using transformers. Your code should roughly follow the code of [this guide](https://huggingface.co/docs/transformers/tasks/question_answering) and [this notebook](https://colab.research.google.com/github/huggingface/notebooks/blob/main/examples/question_answering.ipynb).  \n",
        "\n",
        "(**Important Note:** The guide writes considerable amount of code to handle the case of context longer than the max input sequence. For simplicity, in your code, you should remove from the datasets all contexts longer than \n",
        "`max_length = 384`)\n"
      ]
    },
    {
      "cell_type": "markdown",
      "metadata": {
        "id": "TsGNC-mDcuks"
      },
      "source": [
        "### Experiment Tracking using ClearML\n",
        "This exercise utilizes large models. While we only fine-tune existing models, the time required for fine-tuning is still large (over one hour of run on a V100 GPU in many cases). You are not expected to make many runs yourself, but we would like to benefit from the joint work of the entire class, and will therefore report our runs to ClearML.\n",
        "\n",
        "We will use a shared ClearML project for all student groups, so you can see runs of other teams (see instructions below). Specifically, we will choose a set of hyper-parameters for your own runs, and compare them to others, so we benefit from the community runs.\n"
      ]
    },
    {
      "cell_type": "markdown",
      "metadata": {
        "id": "7QgUZRAOcukt"
      },
      "source": [
        "Install the transformers, datasets libraries"
      ]
    },
    {
      "cell_type": "code",
      "execution_count": null,
      "metadata": {
        "ExecuteTime": {
          "end_time": "2022-05-14T06:32:53.448945Z",
          "start_time": "2022-05-14T06:32:08.776112Z"
        },
        "colab": {
          "base_uri": "https://localhost:8080/"
        },
        "executionInfo": {
          "elapsed": 3908,
          "status": "ok",
          "timestamp": 1654189525633,
          "user": {
            "displayName": "Asaf Dahan",
            "userId": "05572133538735955476"
          },
          "user_tz": -180
        },
        "id": "R7PvWAMWcukt",
        "outputId": "14dba750-8292-4ae4-dc11-6bb393002260"
      },
      "outputs": [
        {
          "name": "stdout",
          "output_type": "stream",
          "text": [
            "Looking in indexes: https://pypi.org/simple, https://us-python.pkg.dev/colab-wheels/public/simple/\n",
            "Requirement already satisfied: datasets in /usr/local/lib/python3.7/dist-packages (2.2.2)\n",
            "Requirement already satisfied: transformers in /usr/local/lib/python3.7/dist-packages (4.19.2)\n",
            "Requirement already satisfied: xxhash in /usr/local/lib/python3.7/dist-packages (from datasets) (3.0.0)\n",
            "Requirement already satisfied: responses<0.19 in /usr/local/lib/python3.7/dist-packages (from datasets) (0.18.0)\n",
            "Requirement already satisfied: requests>=2.19.0 in /usr/local/lib/python3.7/dist-packages (from datasets) (2.23.0)\n",
            "Requirement already satisfied: fsspec[http]>=2021.05.0 in /usr/local/lib/python3.7/dist-packages (from datasets) (2022.5.0)\n",
            "Requirement already satisfied: dill<0.3.5 in /usr/local/lib/python3.7/dist-packages (from datasets) (0.3.4)\n",
            "Requirement already satisfied: aiohttp in /usr/local/lib/python3.7/dist-packages (from datasets) (3.8.1)\n",
            "Requirement already satisfied: pyarrow>=6.0.0 in /usr/local/lib/python3.7/dist-packages (from datasets) (6.0.1)\n",
            "Requirement already satisfied: tqdm>=4.62.1 in /usr/local/lib/python3.7/dist-packages (from datasets) (4.64.0)\n",
            "Requirement already satisfied: packaging in /usr/local/lib/python3.7/dist-packages (from datasets) (21.3)\n",
            "Requirement already satisfied: huggingface-hub<1.0.0,>=0.1.0 in /usr/local/lib/python3.7/dist-packages (from datasets) (0.7.0)\n",
            "Requirement already satisfied: importlib-metadata in /usr/local/lib/python3.7/dist-packages (from datasets) (4.11.4)\n",
            "Requirement already satisfied: numpy>=1.17 in /usr/local/lib/python3.7/dist-packages (from datasets) (1.21.6)\n",
            "Requirement already satisfied: pandas in /usr/local/lib/python3.7/dist-packages (from datasets) (1.3.5)\n",
            "Requirement already satisfied: multiprocess in /usr/local/lib/python3.7/dist-packages (from datasets) (0.70.12.2)\n",
            "Requirement already satisfied: typing-extensions>=3.7.4.3 in /usr/local/lib/python3.7/dist-packages (from huggingface-hub<1.0.0,>=0.1.0->datasets) (4.2.0)\n",
            "Requirement already satisfied: pyyaml>=5.1 in /usr/local/lib/python3.7/dist-packages (from huggingface-hub<1.0.0,>=0.1.0->datasets) (6.0)\n",
            "Requirement already satisfied: filelock in /usr/local/lib/python3.7/dist-packages (from huggingface-hub<1.0.0,>=0.1.0->datasets) (3.7.0)\n",
            "Requirement already satisfied: pyparsing!=3.0.5,>=2.0.2 in /usr/local/lib/python3.7/dist-packages (from packaging->datasets) (3.0.9)\n",
            "Requirement already satisfied: certifi>=2017.4.17 in /usr/local/lib/python3.7/dist-packages (from requests>=2.19.0->datasets) (2022.5.18.1)\n",
            "Requirement already satisfied: idna<3,>=2.5 in /usr/local/lib/python3.7/dist-packages (from requests>=2.19.0->datasets) (2.10)\n",
            "Requirement already satisfied: chardet<4,>=3.0.2 in /usr/local/lib/python3.7/dist-packages (from requests>=2.19.0->datasets) (3.0.4)\n",
            "Requirement already satisfied: urllib3!=1.25.0,!=1.25.1,<1.26,>=1.21.1 in /usr/local/lib/python3.7/dist-packages (from requests>=2.19.0->datasets) (1.25.11)\n",
            "Requirement already satisfied: regex!=2019.12.17 in /usr/local/lib/python3.7/dist-packages (from transformers) (2019.12.20)\n",
            "Requirement already satisfied: tokenizers!=0.11.3,<0.13,>=0.11.1 in /usr/local/lib/python3.7/dist-packages (from transformers) (0.12.1)\n",
            "Requirement already satisfied: async-timeout<5.0,>=4.0.0a3 in /usr/local/lib/python3.7/dist-packages (from aiohttp->datasets) (4.0.2)\n",
            "Requirement already satisfied: yarl<2.0,>=1.0 in /usr/local/lib/python3.7/dist-packages (from aiohttp->datasets) (1.7.2)\n",
            "Requirement already satisfied: charset-normalizer<3.0,>=2.0 in /usr/local/lib/python3.7/dist-packages (from aiohttp->datasets) (2.0.12)\n",
            "Requirement already satisfied: attrs>=17.3.0 in /usr/local/lib/python3.7/dist-packages (from aiohttp->datasets) (21.4.0)\n",
            "Requirement already satisfied: frozenlist>=1.1.1 in /usr/local/lib/python3.7/dist-packages (from aiohttp->datasets) (1.3.0)\n",
            "Requirement already satisfied: asynctest==0.13.0 in /usr/local/lib/python3.7/dist-packages (from aiohttp->datasets) (0.13.0)\n",
            "Requirement already satisfied: aiosignal>=1.1.2 in /usr/local/lib/python3.7/dist-packages (from aiohttp->datasets) (1.2.0)\n",
            "Requirement already satisfied: multidict<7.0,>=4.5 in /usr/local/lib/python3.7/dist-packages (from aiohttp->datasets) (6.0.2)\n",
            "Requirement already satisfied: zipp>=0.5 in /usr/local/lib/python3.7/dist-packages (from importlib-metadata->datasets) (3.8.0)\n",
            "Requirement already satisfied: python-dateutil>=2.7.3 in /usr/local/lib/python3.7/dist-packages (from pandas->datasets) (2.8.2)\n",
            "Requirement already satisfied: pytz>=2017.3 in /usr/local/lib/python3.7/dist-packages (from pandas->datasets) (2022.1)\n",
            "Requirement already satisfied: six>=1.5 in /usr/local/lib/python3.7/dist-packages (from python-dateutil>=2.7.3->pandas->datasets) (1.15.0)\n"
          ]
        }
      ],
      "source": [
        "! pip install datasets transformers "
      ]
    },
    {
      "cell_type": "markdown",
      "metadata": {
        "id": "vqZfk-7Ecuku"
      },
      "source": [
        "Import required libraries.  \n",
        "Make sure your version of Transformers is at least 4.11.0."
      ]
    },
    {
      "cell_type": "code",
      "execution_count": null,
      "metadata": {
        "ExecuteTime": {
          "end_time": "2022-05-18T19:21:15.737679Z",
          "start_time": "2022-05-18T19:21:15.663862Z"
        },
        "colab": {
          "base_uri": "https://localhost:8080/"
        },
        "executionInfo": {
          "elapsed": 4323,
          "status": "ok",
          "timestamp": 1654189529943,
          "user": {
            "displayName": "Asaf Dahan",
            "userId": "05572133538735955476"
          },
          "user_tz": -180
        },
        "id": "QpVtx0Tncukv",
        "outputId": "9480a16f-4326-4a67-ee2f-dbbcdf2b1837"
      },
      "outputs": [
        {
          "name": "stdout",
          "output_type": "stream",
          "text": [
            "4.19.2\n"
          ]
        }
      ],
      "source": [
        "# Generic imports\n",
        "import numpy as np\n",
        "import pandas as pd\n",
        "import tensorflow as tf\n",
        "import collections\n",
        "from torch.utils.data import DataLoader\n",
        "\n",
        "\n",
        "# HuggingFace imports\n",
        "from transformers import (\n",
        "    AutoTokenizer,\n",
        "    TFAutoModelForQuestionAnswering,\n",
        "    AutoModelForQuestionAnswering,\n",
        "    TrainingArguments,\n",
        "    Trainer,\n",
        "    default_data_collator,\n",
        ")\n",
        "from datasets import load_dataset, load_metric\n",
        "\n",
        "# Validating transformers setup\n",
        "import transformers\n",
        "\n",
        "print(transformers.__version__)"
      ]
    },
    {
      "cell_type": "markdown",
      "metadata": {
        "id": "eR47dvwDcukv"
      },
      "source": [
        "We will use the 🤗 [Datasets](https://github.com/huggingface/datasets) library to download the data and get the metric we need to use for evaluation (to compare our model to the benchmark). This can be easily done with the functions load_dataset and load_metric.\n",
        "\n",
        "For our example here, we'll use version 1.1 of Stanford's [SQUAD dataset](https://rajpurkar.github.io/SQuAD-explorer/explore/1.1/dev/). "
      ]
    },
    {
      "cell_type": "markdown",
      "metadata": {
        "id": "IY4wJiLxcukw"
      },
      "source": [
        "Load the Squad v1.1 dataset."
      ]
    },
    {
      "cell_type": "code",
      "execution_count": 3,
      "metadata": {
        "ExecuteTime": {
          "end_time": "2022-05-18T19:21:57.385828Z",
          "start_time": "2022-05-18T19:21:54.920317Z"
        },
        "colab": {
          "base_uri": "https://localhost:8080/",
          "height": 66,
          "referenced_widgets": [
            "7d4718792fcf43018e75d61ceb512a08",
            "0ff37a2cf0034c2da3c954545afa238c",
            "28a70970455c4c8fa9e324216ce351b7",
            "2ef0dab718e94ebbbcc3d1c2825eeca3",
            "1b6885c26c7449b9b8a03b7e23e35248",
            "bda1fe8243ad4fbb8a10601e5feb2c78",
            "ec92c0453a6245839f17e2a95e6ff503",
            "cfaff912876c41a8b30d692dfc93493c",
            "cd67aad169024325a6d9ace3592292bf",
            "a3c947e22b6845a1a27dc4d3b7d8d79e",
            "bc36c9142d97481c9d50c1ff9ae859b8"
          ]
        },
        "executionInfo": {
          "elapsed": 826,
          "status": "ok",
          "timestamp": 1654189530750,
          "user": {
            "displayName": "Asaf Dahan",
            "userId": "05572133538735955476"
          },
          "user_tz": -180
        },
        "id": "YSOqWctecukx",
        "outputId": "9d5c6c3d-14d2-48d6-e90e-1bf93eb6450a"
      },
      "outputs": [
        {
          "name": "stderr",
          "output_type": "stream",
          "text": [
            "Reusing dataset squad (/root/.cache/huggingface/datasets/squad/plain_text/1.0.0/d6ec3ceb99ca480ce37cdd35555d6cb2511d223b9150cce08a837ef62ffea453)\n"
          ]
        },
        {
          "data": {
            "application/vnd.jupyter.widget-view+json": {
              "model_id": "7d4718792fcf43018e75d61ceb512a08",
              "version_major": 2,
              "version_minor": 0
            },
            "text/plain": [
              "  0%|          | 0/2 [00:00<?, ?it/s]"
            ]
          },
          "metadata": {},
          "output_type": "display_data"
        }
      ],
      "source": [
        "datasets = load_dataset(\"squad\")"
      ]
    },
    {
      "cell_type": "markdown",
      "metadata": {
        "id": "5aFJU9CMcukx"
      },
      "source": [
        "### Getting to know the dataset"
      ]
    },
    {
      "cell_type": "markdown",
      "metadata": {
        "id": "ZNov9Plhcukx"
      },
      "source": [
        "The datasets object itself is DatasetDict, which contains one key for the training, validation and test set."
      ]
    },
    {
      "cell_type": "code",
      "execution_count": 4,
      "metadata": {
        "ExecuteTime": {
          "end_time": "2022-05-19T05:54:43.776922Z",
          "start_time": "2022-05-19T05:54:43.770922Z"
        },
        "colab": {
          "base_uri": "https://localhost:8080/"
        },
        "executionInfo": {
          "elapsed": 30,
          "status": "ok",
          "timestamp": 1654189269190,
          "user": {
            "displayName": "Asaf Dahan",
            "userId": "05572133538735955476"
          },
          "user_tz": -180
        },
        "id": "uS2xoAYDcuky",
        "outputId": "87b495b9-d5ea-4202-f465-8cbbf73331f8"
      },
      "outputs": [
        {
          "data": {
            "text/plain": [
              "DatasetDict({\n",
              "    train: Dataset({\n",
              "        features: ['id', 'title', 'context', 'question', 'answers'],\n",
              "        num_rows: 87599\n",
              "    })\n",
              "    validation: Dataset({\n",
              "        features: ['id', 'title', 'context', 'question', 'answers'],\n",
              "        num_rows: 10570\n",
              "    })\n",
              "})"
            ]
          },
          "execution_count": 4,
          "metadata": {},
          "output_type": "execute_result"
        }
      ],
      "source": [
        "datasets"
      ]
    },
    {
      "cell_type": "markdown",
      "metadata": {
        "id": "ZzK41GkMcuky"
      },
      "source": [
        "We can see the training, validation and test sets all have a column for the context, the question and the answers to those questions.\n",
        "\n",
        "To access an actual element, you need to select a split first, then give an index:"
      ]
    },
    {
      "cell_type": "code",
      "execution_count": 5,
      "metadata": {
        "ExecuteTime": {
          "end_time": "2022-05-18T19:22:38.535553Z",
          "start_time": "2022-05-18T19:22:38.442614Z"
        },
        "colab": {
          "base_uri": "https://localhost:8080/"
        },
        "executionInfo": {
          "elapsed": 13,
          "status": "ok",
          "timestamp": 1654169186563,
          "user": {
            "displayName": "Asaf Dahan",
            "userId": "05572133538735955476"
          },
          "user_tz": -180
        },
        "id": "QWE62Fqdcukz",
        "outputId": "0131a273-8187-4d4d-d15e-c6c546b465ea"
      },
      "outputs": [
        {
          "data": {
            "text/plain": [
              "{'answers': {'answer_start': [515], 'text': ['Saint Bernadette Soubirous']},\n",
              " 'context': 'Architecturally, the school has a Catholic character. Atop the Main Building\\'s gold dome is a golden statue of the Virgin Mary. Immediately in front of the Main Building and facing it, is a copper statue of Christ with arms upraised with the legend \"Venite Ad Me Omnes\". Next to the Main Building is the Basilica of the Sacred Heart. Immediately behind the basilica is the Grotto, a Marian place of prayer and reflection. It is a replica of the grotto at Lourdes, France where the Virgin Mary reputedly appeared to Saint Bernadette Soubirous in 1858. At the end of the main drive (and in a direct line that connects through 3 statues and the Gold Dome), is a simple, modern stone statue of Mary.',\n",
              " 'id': '5733be284776f41900661182',\n",
              " 'question': 'To whom did the Virgin Mary allegedly appear in 1858 in Lourdes France?',\n",
              " 'title': 'University_of_Notre_Dame'}"
            ]
          },
          "execution_count": 5,
          "metadata": {},
          "output_type": "execute_result"
        }
      ],
      "source": [
        "datasets[\"train\"][0]"
      ]
    },
    {
      "cell_type": "markdown",
      "metadata": {
        "id": "8OfbToZmcukz"
      },
      "source": [
        "Now, answer these questions:  \n",
        "\n",
        "What is the shortest context in the training dataset?\n"
      ]
    },
    {
      "cell_type": "code",
      "execution_count": 6,
      "metadata": {
        "ExecuteTime": {
          "end_time": "2022-05-18T19:22:57.607768Z",
          "start_time": "2022-05-18T19:22:46.559700Z"
        },
        "colab": {
          "base_uri": "https://localhost:8080/"
        },
        "executionInfo": {
          "elapsed": 9688,
          "status": "ok",
          "timestamp": 1654169196243,
          "user": {
            "displayName": "Asaf Dahan",
            "userId": "05572133538735955476"
          },
          "user_tz": -180
        },
        "id": "PFbrTdCJcukz",
        "outputId": "e59002fb-286b-4dad-ef07-240999422dbb"
      },
      "outputs": [
        {
          "data": {
            "text/plain": [
              "151"
            ]
          },
          "execution_count": 6,
          "metadata": {},
          "output_type": "execute_result"
        }
      ],
      "source": [
        "min([len(d.get(\"context\")) for d in datasets[\"train\"]])"
      ]
    },
    {
      "cell_type": "markdown",
      "metadata": {
        "id": "9itK5AW3cukz"
      },
      "source": [
        "What is the longest answer in the dataset?"
      ]
    },
    {
      "cell_type": "code",
      "execution_count": null,
      "metadata": {
        "colab": {
          "base_uri": "https://localhost:8080/"
        },
        "executionInfo": {
          "elapsed": 9527,
          "status": "ok",
          "timestamp": 1654169205733,
          "user": {
            "displayName": "Asaf Dahan",
            "userId": "05572133538735955476"
          },
          "user_tz": -180
        },
        "id": "GcAbFVb0eAao",
        "outputId": "b6f5c218-9648-4834-e6fc-b24a104436ea"
      },
      "outputs": [
        {
          "data": {
            "text/plain": [
              "1"
            ]
          },
          "execution_count": 7,
          "metadata": {},
          "output_type": "execute_result"
        }
      ],
      "source": [
        "# Lets see first what is the max size of the text array under answers\n",
        "max([len(d.get(\"answers\").get(\"text\")) for d in datasets[\"train\"]])"
      ]
    },
    {
      "cell_type": "markdown",
      "metadata": {
        "id": "MTVWGz2menpZ"
      },
      "source": [
        "This means that each question only got a single textual answer in the 'text' array.\n",
        "\n",
        "Let's evaluate the max answer length:"
      ]
    },
    {
      "cell_type": "code",
      "execution_count": null,
      "metadata": {
        "colab": {
          "base_uri": "https://localhost:8080/"
        },
        "executionInfo": {
          "elapsed": 9351,
          "status": "ok",
          "timestamp": 1654169215056,
          "user": {
            "displayName": "Asaf Dahan",
            "userId": "05572133538735955476"
          },
          "user_tz": -180
        },
        "id": "lFvnbheyenNJ",
        "outputId": "bf01abca-2ceb-4232-8f50-570c52ff1e13"
      },
      "outputs": [
        {
          "data": {
            "text/plain": [
              "239"
            ]
          },
          "execution_count": 8,
          "metadata": {},
          "output_type": "execute_result"
        }
      ],
      "source": [
        "max([len(d.get(\"answers\").get(\"text\")[0]) for d in datasets[\"train\"]])"
      ]
    },
    {
      "cell_type": "markdown",
      "metadata": {
        "id": "WR8Bx9Uocuk0"
      },
      "source": [
        "Is there a question that appears multiple times? What is the most common question?"
      ]
    },
    {
      "cell_type": "code",
      "execution_count": 9,
      "metadata": {
        "ExecuteTime": {
          "end_time": "2022-05-18T19:33:32.003715Z",
          "start_time": "2022-05-18T19:33:23.799826Z"
        },
        "colab": {
          "base_uri": "https://localhost:8080/"
        },
        "executionInfo": {
          "elapsed": 9149,
          "status": "ok",
          "timestamp": 1654169224196,
          "user": {
            "displayName": "Asaf Dahan",
            "userId": "05572133538735955476"
          },
          "user_tz": -180
        },
        "id": "L3LuT1drcuk0",
        "outputId": "c7a7c7a9-aedf-460c-a446-6dfa8e95e4cf"
      },
      "outputs": [
        {
          "data": {
            "text/plain": [
              "Who won this season of Idol?                                                                                  6\n",
              "Which Caribbean nation is in the top quartile of HDI (but missing IHDI)?                                      6\n",
              "I couldn't could up with another question. But i need to fill this space because I can't submit the hit.      6\n",
              "Who was a pop idol that started on American Idol?                                                             5\n",
              "dd                                                                                                            4\n",
              "                                                                                                             ..\n",
              "What were there periods of during the Triassic?                                                               1\n",
              "Because of distance form the sea and wide variance in temperatures, what was the interior of Pangaea like?    1\n",
              "What could have made temperatures more extreme?                                                               1\n",
              "What was the general rainfall in the Triassic?                                                                1\n",
              "What is KMC an initialism of?                                                                                 1\n",
              "Length: 87355, dtype: int64"
            ]
          },
          "execution_count": 9,
          "metadata": {},
          "output_type": "execute_result"
        }
      ],
      "source": [
        "questions = pd.Series([d.get(\"question\") for d in datasets[\"train\"]])\n",
        "questions.value_counts()"
      ]
    },
    {
      "cell_type": "markdown",
      "metadata": {
        "id": "un7YjCElcuk0"
      },
      "source": [
        "### Getting to know the HuggingFace transformers’ tokenizers\n",
        "As a preprocessing step, the HuggingFace code tokenizes input sequences using a Tokenizer. Read more about tokenizers here:\n",
        "https://huggingface.co/docs/tokenizers/pipeline  \n",
        "https://huggingface.co/transformers/v3.0.2/preprocessing.html\n",
        "\n",
        "For this question, use the BERT tokenizer. The tokenizer sometimes breaks words into smaller chunks, so the number of tokens can be larger than the number of words. \n",
        "\n",
        "Using the first 1,000 context datapoints, print the 30 most common tokens by the tokenizer.\n"
      ]
    },
    {
      "cell_type": "code",
      "execution_count": null,
      "metadata": {
        "colab": {
          "base_uri": "https://localhost:8080/",
          "height": 145,
          "referenced_widgets": [
            "ee828eb5acde4672a7efdb8f56939921",
            "c5fce72855a446fc9c552bca9192bca3",
            "af7740fe957a438a9db4185597187161",
            "a8ce27546bdf4f77b80da7ccde800929",
            "b703ebeaa0d546f3a134f65984bea413",
            "7c567be7b3b3433f8c002947aae93354",
            "ae346e617a2d4332ac704345f2c19ada",
            "cbd560b5f09c41fe92484126de2a750f",
            "9dae82e991d840c2848ad3e44310c392",
            "df657af6b0074ea8af1f138229168bb6",
            "54226124761e455ea05ff822ed1b7e3d",
            "df5f2b4d9bfd4b1190b3a046a72a9d72",
            "2d2311df53454549b0ecc7bc05fc2e9a",
            "1c0b3ab358c647c996609547c7313161",
            "b6dcd5fd0a964815a000e4fa406d5bcf",
            "d90760012af3468e9c7c4ebc92bee4ce",
            "a6c99a1e53f34fe7ac1c2fb1160334d0",
            "024b8104c8c64dfe858415f3a139585e",
            "86e1393b0fc24ba18f71d300abcffb87",
            "14bead6fef0b424d84222658058605e3",
            "0a7a4a093851407d918a61e7c39e48e0",
            "6d01c9a5aa7e4487bfdd1b98a1016021",
            "0fcdf236a73a4c19894ec45c3191eb6e",
            "2413250bcc054a3fa4ada4afc801fb83",
            "cc44dfb2ea5842c38df945ee46c05cf2",
            "0813e450b0074cd4be13956c1bc2e1f9",
            "12b66c02f4f6487cb0b73f12e8aa4745",
            "5d3f4d50b52e41d0aca16e2ca3174e51",
            "0c1259169f3c439dbb83638717bc3d2e",
            "0da526272e2246318a8ef26ab6c04e02",
            "30daf2949df749238cdd61914c687e1b",
            "38b9a541eab641a3aedf8dcdfc8ccfaf",
            "716f761380d946d19381f3318d4cc8a5",
            "a15df375dbbf4629bc88a269d2633495",
            "93a2b1cbcef742088747a3010407f000",
            "13143ed87d584ab6a5a12d7bd61f5d58",
            "1a7235faa4714d1983b4abc936ef9fd7",
            "fcecf63e8d7040d9a252c46d5d84125a",
            "0f6569034d2e41ada13077242075c909",
            "0e16c879b0854de39fe9bb1a45b4a7d7",
            "b7abc13589c84c749e399da32fb17482",
            "e216eb44439c43949fc9d99af71eff58",
            "27506fa0a07b4c76bb0d394b152beaff",
            "6c5a4b3841334df7b940999dad33da91"
          ]
        },
        "executionInfo": {
          "elapsed": 11875,
          "status": "ok",
          "timestamp": 1654169236055,
          "user": {
            "displayName": "Asaf Dahan",
            "userId": "05572133538735955476"
          },
          "user_tz": -180
        },
        "id": "PrqDJksTcuk0",
        "outputId": "07eeb424-99e3-4f24-c97b-41f1d4b8d8a1"
      },
      "outputs": [
        {
          "data": {
            "application/vnd.jupyter.widget-view+json": {
              "model_id": "ee828eb5acde4672a7efdb8f56939921",
              "version_major": 2,
              "version_minor": 0
            },
            "text/plain": [
              "Downloading:   0%|          | 0.00/29.0 [00:00<?, ?B/s]"
            ]
          },
          "metadata": {},
          "output_type": "display_data"
        },
        {
          "data": {
            "application/vnd.jupyter.widget-view+json": {
              "model_id": "df5f2b4d9bfd4b1190b3a046a72a9d72",
              "version_major": 2,
              "version_minor": 0
            },
            "text/plain": [
              "Downloading:   0%|          | 0.00/411 [00:00<?, ?B/s]"
            ]
          },
          "metadata": {},
          "output_type": "display_data"
        },
        {
          "data": {
            "application/vnd.jupyter.widget-view+json": {
              "model_id": "0fcdf236a73a4c19894ec45c3191eb6e",
              "version_major": 2,
              "version_minor": 0
            },
            "text/plain": [
              "Downloading:   0%|          | 0.00/208k [00:00<?, ?B/s]"
            ]
          },
          "metadata": {},
          "output_type": "display_data"
        },
        {
          "data": {
            "application/vnd.jupyter.widget-view+json": {
              "model_id": "a15df375dbbf4629bc88a269d2633495",
              "version_major": 2,
              "version_minor": 0
            },
            "text/plain": [
              "Downloading:   0%|          | 0.00/426k [00:00<?, ?B/s]"
            ]
          },
          "metadata": {},
          "output_type": "display_data"
        }
      ],
      "source": [
        "model_name = \"distilbert-base-cased\"\n",
        "tokenizer = AutoTokenizer.from_pretrained(model_name)"
      ]
    },
    {
      "cell_type": "code",
      "execution_count": null,
      "metadata": {
        "executionInfo": {
          "elapsed": 41,
          "status": "ok",
          "timestamp": 1654169236057,
          "user": {
            "displayName": "Asaf Dahan",
            "userId": "05572133538735955476"
          },
          "user_tz": -180
        },
        "id": "_suVYynlhCH8"
      },
      "outputs": [],
      "source": [
        "max_length = 384  # The maximum length of a feature (question and context)\n",
        "doc_stride = 128  # The authorized overlap between two part of the context when splitting it is needed.\n"
      ]
    },
    {
      "cell_type": "code",
      "execution_count": null,
      "metadata": {
        "colab": {
          "base_uri": "https://localhost:8080/"
        },
        "executionInfo": {
          "elapsed": 37,
          "status": "ok",
          "timestamp": 1654169236058,
          "user": {
            "displayName": "Asaf Dahan",
            "userId": "05572133538735955476"
          },
          "user_tz": -180
        },
        "id": "R-_4IIUTjY5j",
        "outputId": "5b8dc4c7-59bf-441f-a623-3ef01d5bd78e"
      },
      "outputs": [
        {
          "data": {
            "text/plain": [
              "{'answers': {'answer_start': [30], 'text': ['over 1,600']},\n",
              " 'context': \"The men's basketball team has over 1,600 wins, one of only 12 schools who have reached that mark, and have appeared in 28 NCAA tournaments. Former player Austin Carr holds the record for most points scored in a single game of the tournament with 61. Although the team has never won the NCAA Tournament, they were named by the Helms Athletic Foundation as national champions twice. The team has orchestrated a number of upsets of number one ranked teams, the most notable of which was ending UCLA's record 88-game winning streak in 1974. The team has beaten an additional eight number-one teams, and those nine wins rank second, to UCLA's 10, all-time in wins against the top team. The team plays in newly renovated Purcell Pavilion (within the Edmund P. Joyce Center), which reopened for the beginning of the 2009–2010 season. The team is coached by Mike Brey, who, as of the 2014–15 season, his fifteenth at Notre Dame, has achieved a 332-165 record. In 2009 they were invited to the NIT, where they advanced to the semifinals but were beaten by Penn State who went on and beat Baylor in the championship. The 2010–11 team concluded its regular season ranked number seven in the country, with a record of 25–5, Brey's fifth straight 20-win season, and a second-place finish in the Big East. During the 2014-15 season, the team went 32-6 and won the ACC conference tournament, later advancing to the Elite 8, where the Fighting Irish lost on a missed buzzer-beater against then undefeated Kentucky. Led by NBA draft picks Jerian Grant and Pat Connaughton, the Fighting Irish beat the eventual national champion Duke Blue Devils twice during the season. The 32 wins were the most by the Fighting Irish team since 1908-09.\",\n",
              " 'id': '5733caf74776f4190066124c',\n",
              " 'question': \"How many wins does the Notre Dame men's basketball team have?\",\n",
              " 'title': 'University_of_Notre_Dame'}"
            ]
          },
          "execution_count": 12,
          "metadata": {},
          "output_type": "execute_result"
        }
      ],
      "source": [
        "for i, example in enumerate(datasets[\"train\"]):\n",
        "    if (\n",
        "        len(tokenizer(example[\"question\"], example[\"context\"])[\"input_ids\"])\n",
        "        > max_length\n",
        "    ):\n",
        "        break\n",
        "example = datasets[\"train\"][i]\n",
        "example"
      ]
    },
    {
      "cell_type": "code",
      "execution_count": 13,
      "metadata": {
        "colab": {
          "base_uri": "https://localhost:8080/"
        },
        "executionInfo": {
          "elapsed": 28,
          "status": "ok",
          "timestamp": 1654169236058,
          "user": {
            "displayName": "Asaf Dahan",
            "userId": "05572133538735955476"
          },
          "user_tz": -180
        },
        "id": "cBYuDEB0jfO5",
        "outputId": "ae623f93-9559-42ad-9bb2-149d053ae51e"
      },
      "outputs": [
        {
          "data": {
            "text/plain": [
              "400"
            ]
          },
          "execution_count": 13,
          "metadata": {},
          "output_type": "execute_result"
        }
      ],
      "source": [
        "len(tokenizer(example[\"question\"], example[\"context\"])[\"input_ids\"])"
      ]
    },
    {
      "cell_type": "code",
      "execution_count": null,
      "metadata": {
        "colab": {
          "base_uri": "https://localhost:8080/"
        },
        "executionInfo": {
          "elapsed": 21,
          "status": "ok",
          "timestamp": 1654169236059,
          "user": {
            "displayName": "Asaf Dahan",
            "userId": "05572133538735955476"
          },
          "user_tz": -180
        },
        "id": "LGayWRZSjk0c",
        "outputId": "76d97d94-de10-4a1e-b648-3e10c013f370"
      },
      "outputs": [
        {
          "data": {
            "text/plain": [
              "{'input_ids': [[101, 1731, 1242, 4646, 1674, 1103, 10360, 8022, 1441, 112, 188, 3163, 1264, 1138, 136, 102, 1109, 1441, 112, 188, 3163, 1264, 1144, 1166, 122, 117, 4372, 4646, 117, 1141, 1104, 1178, 1367, 2126, 1150, 1138, 1680, 1115, 4551, 117, 1105, 1138, 1691, 1107, 1743, 5089, 8446, 119, 6963, 1591, 5202, 12639, 3486, 1103, 1647, 1111, 1211, 1827, 2297, 1107, 170, 1423, 1342, 1104, 1103, 2348, 1114, 5391, 119, 1966, 1103, 1264, 1144, 1309, 1281, 1103, 5089, 5629, 117, 1152, 1127, 1417, 1118, 1103, 1124, 13505, 1116, 6244, 2974, 1112, 1569, 5461, 3059, 119, 1109, 1264, 1144, 26383, 170, 1295, 1104, 5737, 1116, 1104, 1295, 1141, 3616, 1929, 117, 1103, 1211, 3385, 1104, 1134, 1108, 3830, 12553, 112, 188, 1647, 5385, 118, 1342, 2183, 9192, 1107, 2424, 119, 1109, 1264, 1144, 7425, 1126, 2509, 2022, 1295, 118, 1141, 1929, 117, 1105, 1343, 2551, 4646, 3997, 1248, 117, 1106, 12553, 112, 188, 1275, 117, 1155, 118, 1159, 1107, 4646, 1222, 1103, 1499, 1264, 119, 1109, 1264, 2399, 1107, 3599, 10564, 153, 2149, 22494, 16790, 113, 1439, 1103, 9196, 153, 119, 11882, 1945, 114, 117, 1134, 11996, 1111, 1103, 2150, 1104, 1103, 1371, 782, 1333, 1265, 119, 1109, 1264, 1110, 8692, 1118, 2639, 139, 12210, 117, 1150, 117, 1112, 1104, 1103, 1387, 782, 1405, 1265, 117, 1117, 19868, 1120, 10360, 8022, 117, 1144, 3890, 170, 3081, 1477, 118, 14383, 1647, 119, 1130, 1371, 1152, 1127, 4022, 1106, 1103, 151, 12150, 117, 1187, 1152, 3682, 1106, 1103, 11499, 1133, 1127, 7425, 1118, 9223, 1426, 1150, 1355, 1113, 1105, 3222, 26860, 1107, 1103, 2899, 119, 1109, 1333, 782, 1429, 1264, 4803, 1157, 2366, 1265, 3616, 1295, 1978, 1107, 1103, 1583, 117, 1114, 170, 1647, 1104, 1512, 782, 126, 117, 139, 12210, 112, 188, 3049, 2632, 1406, 118, 1782, 1265, 117, 1105, 170, 1248, 118, 1282, 3146, 1107, 1103, 2562, 1689, 119, 1507, 1103, 1387, 118, 1405, 1265, 117, 1103, 1264, 1355, 2724, 118, 127, 1105, 1281, 1103, 18396, 3511, 2348, 117, 1224, 11120, 1106, 1103, 13995, 129, 117, 1187, 1103, 10864, 2600, 1575, 1113, 170, 4007, 19859, 1200, 118, 3222, 1200, 1222, 1173, 16467, 4875, 119, 18657, 1118, 5803, 5039, 11606, 27901, 5476, 4468, 1105, 7195, 16752, 1605, 11266, 1320, 117, 1103, 10864, 2600, 3222, 1103, 9288, 1569, 3628, 3131, 2770, 16459, 3059, 1219, 1103, 1265, 119, 102], [101, 1731, 1242, 4646, 1674, 1103, 10360, 8022, 1441, 112, 188, 3163, 1264, 1138, 136, 102, 3222, 26860, 1107, 1103, 2899, 119, 1109, 1333, 782, 1429, 1264, 4803, 1157, 2366, 1265, 3616, 1295, 1978, 1107, 1103, 1583, 117, 1114, 170, 1647, 1104, 1512, 782, 126, 117, 139, 12210, 112, 188, 3049, 2632, 1406, 118, 1782, 1265, 117, 1105, 170, 1248, 118, 1282, 3146, 1107, 1103, 2562, 1689, 119, 1507, 1103, 1387, 118, 1405, 1265, 117, 1103, 1264, 1355, 2724, 118, 127, 1105, 1281, 1103, 18396, 3511, 2348, 117, 1224, 11120, 1106, 1103, 13995, 129, 117, 1187, 1103, 10864, 2600, 1575, 1113, 170, 4007, 19859, 1200, 118, 3222, 1200, 1222, 1173, 16467, 4875, 119, 18657, 1118, 5803, 5039, 11606, 27901, 5476, 4468, 1105, 7195, 16752, 1605, 11266, 1320, 117, 1103, 10864, 2600, 3222, 1103, 9288, 1569, 3628, 3131, 2770, 16459, 3059, 1219, 1103, 1265, 119, 1109, 2724, 4646, 1127, 1103, 1211, 1118, 1103, 10864, 2600, 1264, 1290, 4536, 118, 4925, 119, 102]], 'attention_mask': [[1, 1, 1, 1, 1, 1, 1, 1, 1, 1, 1, 1, 1, 1, 1, 1, 1, 1, 1, 1, 1, 1, 1, 1, 1, 1, 1, 1, 1, 1, 1, 1, 1, 1, 1, 1, 1, 1, 1, 1, 1, 1, 1, 1, 1, 1, 1, 1, 1, 1, 1, 1, 1, 1, 1, 1, 1, 1, 1, 1, 1, 1, 1, 1, 1, 1, 1, 1, 1, 1, 1, 1, 1, 1, 1, 1, 1, 1, 1, 1, 1, 1, 1, 1, 1, 1, 1, 1, 1, 1, 1, 1, 1, 1, 1, 1, 1, 1, 1, 1, 1, 1, 1, 1, 1, 1, 1, 1, 1, 1, 1, 1, 1, 1, 1, 1, 1, 1, 1, 1, 1, 1, 1, 1, 1, 1, 1, 1, 1, 1, 1, 1, 1, 1, 1, 1, 1, 1, 1, 1, 1, 1, 1, 1, 1, 1, 1, 1, 1, 1, 1, 1, 1, 1, 1, 1, 1, 1, 1, 1, 1, 1, 1, 1, 1, 1, 1, 1, 1, 1, 1, 1, 1, 1, 1, 1, 1, 1, 1, 1, 1, 1, 1, 1, 1, 1, 1, 1, 1, 1, 1, 1, 1, 1, 1, 1, 1, 1, 1, 1, 1, 1, 1, 1, 1, 1, 1, 1, 1, 1, 1, 1, 1, 1, 1, 1, 1, 1, 1, 1, 1, 1, 1, 1, 1, 1, 1, 1, 1, 1, 1, 1, 1, 1, 1, 1, 1, 1, 1, 1, 1, 1, 1, 1, 1, 1, 1, 1, 1, 1, 1, 1, 1, 1, 1, 1, 1, 1, 1, 1, 1, 1, 1, 1, 1, 1, 1, 1, 1, 1, 1, 1, 1, 1, 1, 1, 1, 1, 1, 1, 1, 1, 1, 1, 1, 1, 1, 1, 1, 1, 1, 1, 1, 1, 1, 1, 1, 1, 1, 1, 1, 1, 1, 1, 1, 1, 1, 1, 1, 1, 1, 1, 1, 1, 1, 1, 1, 1, 1, 1, 1, 1, 1, 1, 1, 1, 1, 1, 1, 1, 1, 1, 1, 1, 1, 1, 1, 1, 1, 1, 1, 1, 1, 1, 1, 1, 1, 1, 1, 1, 1, 1, 1, 1, 1, 1, 1, 1, 1, 1, 1, 1, 1, 1, 1, 1, 1, 1, 1, 1, 1, 1, 1, 1, 1, 1, 1, 1, 1, 1, 1, 1, 1, 1], [1, 1, 1, 1, 1, 1, 1, 1, 1, 1, 1, 1, 1, 1, 1, 1, 1, 1, 1, 1, 1, 1, 1, 1, 1, 1, 1, 1, 1, 1, 1, 1, 1, 1, 1, 1, 1, 1, 1, 1, 1, 1, 1, 1, 1, 1, 1, 1, 1, 1, 1, 1, 1, 1, 1, 1, 1, 1, 1, 1, 1, 1, 1, 1, 1, 1, 1, 1, 1, 1, 1, 1, 1, 1, 1, 1, 1, 1, 1, 1, 1, 1, 1, 1, 1, 1, 1, 1, 1, 1, 1, 1, 1, 1, 1, 1, 1, 1, 1, 1, 1, 1, 1, 1, 1, 1, 1, 1, 1, 1, 1, 1, 1, 1, 1, 1, 1, 1, 1, 1, 1, 1, 1, 1, 1, 1, 1, 1, 1, 1, 1, 1, 1, 1, 1, 1, 1, 1, 1, 1, 1, 1, 1, 1, 1, 1, 1, 1, 1, 1, 1, 1, 1, 1, 1, 1, 1, 1, 1, 1, 1]], 'overflow_to_sample_mapping': [0, 0]}"
            ]
          },
          "execution_count": 14,
          "metadata": {},
          "output_type": "execute_result"
        }
      ],
      "source": [
        "tokenized_example = tokenizer(\n",
        "    example[\"question\"],\n",
        "    example[\"context\"],\n",
        "    max_length=max_length,\n",
        "    truncation=\"only_second\",\n",
        "    return_overflowing_tokens=True,\n",
        "    stride=doc_stride,\n",
        ")\n",
        "tokenized_example"
      ]
    },
    {
      "cell_type": "code",
      "execution_count": 15,
      "metadata": {
        "colab": {
          "base_uri": "https://localhost:8080/"
        },
        "executionInfo": {
          "elapsed": 18,
          "status": "ok",
          "timestamp": 1654169236059,
          "user": {
            "displayName": "Asaf Dahan",
            "userId": "05572133538735955476"
          },
          "user_tz": -180
        },
        "id": "ozrdpTpsjz9k",
        "outputId": "361042bf-9bec-4458-8db0-13dc655ee9e9"
      },
      "outputs": [
        {
          "name": "stdout",
          "output_type": "stream",
          "text": [
            "[CLS] How many wins does the Notre Dame men's basketball team have? [SEP] The men's basketball team has over 1, 600 wins, one of only 12 schools who have reached that mark, and have appeared in 28 NCAA tournaments. Former player Austin Carr holds the record for most points scored in a single game of the tournament with 61. Although the team has never won the NCAA Tournament, they were named by the Helms Athletic Foundation as national champions twice. The team has orchestrated a number of upsets of number one ranked teams, the most notable of which was ending UCLA's record 88 - game winning streak in 1974. The team has beaten an additional eight number - one teams, and those nine wins rank second, to UCLA's 10, all - time in wins against the top team. The team plays in newly renovated Purcell Pavilion ( within the Edmund P. Joyce Center ), which reopened for the beginning of the 2009 – 2010 season. The team is coached by Mike Brey, who, as of the 2014 – 15 season, his fifteenth at Notre Dame, has achieved a 332 - 165 record. In 2009 they were invited to the NIT, where they advanced to the semifinals but were beaten by Penn State who went on and beat Baylor in the championship. The 2010 – 11 team concluded its regular season ranked number seven in the country, with a record of 25 – 5, Brey's fifth straight 20 - win season, and a second - place finish in the Big East. During the 2014 - 15 season, the team went 32 - 6 and won the ACC conference tournament, later advancing to the Elite 8, where the Fighting Irish lost on a missed buzzer - beater against then undefeated Kentucky. Led by NBA draft picks Jerian Grant and Pat Connaughton, the Fighting Irish beat the eventual national champion Duke Blue Devils twice during the season. [SEP]\n",
            "[CLS] How many wins does the Notre Dame men's basketball team have? [SEP] beat Baylor in the championship. The 2010 – 11 team concluded its regular season ranked number seven in the country, with a record of 25 – 5, Brey's fifth straight 20 - win season, and a second - place finish in the Big East. During the 2014 - 15 season, the team went 32 - 6 and won the ACC conference tournament, later advancing to the Elite 8, where the Fighting Irish lost on a missed buzzer - beater against then undefeated Kentucky. Led by NBA draft picks Jerian Grant and Pat Connaughton, the Fighting Irish beat the eventual national champion Duke Blue Devils twice during the season. The 32 wins were the most by the Fighting Irish team since 1908 - 09. [SEP]\n"
          ]
        }
      ],
      "source": [
        "for x in tokenized_example[\"input_ids\"][:2]:\n",
        "    print(tokenizer.decode(x))"
      ]
    },
    {
      "cell_type": "code",
      "execution_count": null,
      "metadata": {
        "colab": {
          "base_uri": "https://localhost:8080/"
        },
        "executionInfo": {
          "elapsed": 1015,
          "status": "ok",
          "timestamp": 1654169237061,
          "user": {
            "displayName": "Asaf Dahan",
            "userId": "05572133538735955476"
          },
          "user_tz": -180
        },
        "id": "ZWRbCYBiaafL",
        "outputId": "83a92622-114c-4005-baf9-f2350aade7ea"
      },
      "outputs": [
        {
          "data": {
            "text/plain": [
              "117      10539\n",
              "1103      8436\n",
              "119       7412\n",
              "1105      4633\n",
              "107       4406\n",
              "         ...  \n",
              "3820         4\n",
              "6665         4\n",
              "21779        4\n",
              "25045        4\n",
              "15673        4\n",
              "Length: 4350, dtype: int64"
            ]
          },
          "execution_count": 16,
          "metadata": {},
          "output_type": "execute_result"
        }
      ],
      "source": [
        "# Let's collect the context tokens from the first 1000 samples and count them\n",
        "context_tokens = []\n",
        "\n",
        "for i, sample in enumerate(datasets[\"train\"]):\n",
        "    tokenized_context = tokenizer.encode(sample[\"context\"])\n",
        "    context_tokens.extend(tokenized_context)\n",
        "    if i == 1000:\n",
        "        break\n",
        "\n",
        "context_tokens_series = pd.Series(context_tokens)\n",
        "context_tokens_series.value_counts()"
      ]
    },
    {
      "cell_type": "code",
      "execution_count": null,
      "metadata": {
        "colab": {
          "base_uri": "https://localhost:8080/"
        },
        "executionInfo": {
          "elapsed": 13,
          "status": "ok",
          "timestamp": 1654169237062,
          "user": {
            "displayName": "Asaf Dahan",
            "userId": "05572133538735955476"
          },
          "user_tz": -180
        },
        "id": "1Lp5CZxNcojo",
        "outputId": "bc14845a-17d3-4569-e6e6-b518719f833d"
      },
      "outputs": [
        {
          "data": {
            "text/plain": [
              "[',',\n",
              " 'the',\n",
              " '.',\n",
              " 'and',\n",
              " '\"',\n",
              " 'of',\n",
              " 'in',\n",
              " 'a',\n",
              " 'Beyoncé',\n",
              " \"'\",\n",
              " 'to',\n",
              " 's',\n",
              " '-',\n",
              " 'her',\n",
              " 'The',\n",
              " 'for',\n",
              " 'on',\n",
              " 'was',\n",
              " 'with',\n",
              " 'as',\n",
              " '[SEP]',\n",
              " 'at',\n",
              " '[CLS]',\n",
              " 'In',\n",
              " 'by',\n",
              " 'she',\n",
              " '(',\n",
              " ')',\n",
              " 'that',\n",
              " 'is']"
            ]
          },
          "execution_count": 17,
          "metadata": {},
          "output_type": "execute_result"
        }
      ],
      "source": [
        "top_30_tokens = [\n",
        "    tokenizer.decode([t])\n",
        "    for t in context_tokens_series.value_counts().head(30).index.tolist()\n",
        "]\n",
        "top_30_tokens"
      ]
    },
    {
      "cell_type": "markdown",
      "metadata": {
        "ExecuteTime": {
          "end_time": "2022-05-18T19:36:30.771751Z",
          "start_time": "2022-05-18T19:36:30.758022Z"
        },
        "id": "Ok6G061xcuk1"
      },
      "source": [
        "### Load a pretrained Question Answering model\n",
        "In this section, you will use a model pretrained on the Squad dataset for question answering.  \n",
        "\n",
        "Choose a model you'd like to use.  \n",
        "You can see a list of available models here: https://huggingface.co/models?dataset=dataset:squad&sort=downloads\n"
      ]
    },
    {
      "cell_type": "markdown",
      "metadata": {
        "id": "v_gXgL_Ocuk1"
      },
      "source": [
        "Load the model."
      ]
    },
    {
      "cell_type": "code",
      "execution_count": null,
      "metadata": {
        "colab": {
          "base_uri": "https://localhost:8080/"
        },
        "executionInfo": {
          "elapsed": 11123,
          "status": "ok",
          "timestamp": 1654189551999,
          "user": {
            "displayName": "Asaf Dahan",
            "userId": "05572133538735955476"
          },
          "user_tz": -180
        },
        "id": "5DmKlnqpcuk1",
        "outputId": "08ce8f84-e8b9-4a17-e08c-0553ed014d3f"
      },
      "outputs": [
        {
          "name": "stderr",
          "output_type": "stream",
          "text": [
            "All model checkpoint layers were used when initializing TFDistilBertForQuestionAnswering.\n",
            "\n",
            "All the layers of TFDistilBertForQuestionAnswering were initialized from the model checkpoint at distilbert-base-cased-distilled-squad.\n",
            "If your task is similar to the task the model of the checkpoint was trained on, you can already use TFDistilBertForQuestionAnswering for predictions without further training.\n"
          ]
        }
      ],
      "source": [
        "model_name_pretrained_squad = \"distilbert-base-cased-distilled-squad\"  # Choosing distilBERT, cased, pretrained on squad dataset\n",
        "pretrained_model = TFAutoModelForQuestionAnswering.from_pretrained(\n",
        "    model_name_pretrained_squad\n",
        ")  # Loading pretrained model for question answering\n",
        "pretrained_tokenizer = AutoTokenizer.from_pretrained(model_name_pretrained_squad)"
      ]
    },
    {
      "cell_type": "code",
      "execution_count": null,
      "metadata": {
        "executionInfo": {
          "elapsed": 33,
          "status": "ok",
          "timestamp": 1654189552002,
          "user": {
            "displayName": "Asaf Dahan",
            "userId": "05572133538735955476"
          },
          "user_tz": -180
        },
        "id": "CnMqJR1fOMlh"
      },
      "outputs": [],
      "source": [
        "# We define a preprocessing function to apply on the datasets to truncate and map the start and end tokens of the answer to the context\n",
        "max_length = 384\n",
        "stride = 128\n",
        "\n",
        "\n",
        "def preprocess_training_examples(examples):\n",
        "    questions = [q.strip() for q in examples[\"question\"]]\n",
        "    inputs = pretrained_tokenizer(\n",
        "        questions,\n",
        "        examples[\"context\"],\n",
        "        max_length=max_length,\n",
        "        truncation=\"only_second\",\n",
        "        stride=stride,\n",
        "        return_overflowing_tokens=True,\n",
        "        return_offsets_mapping=True,\n",
        "        padding=\"max_length\",\n",
        "    )\n",
        "\n",
        "    offset_mapping = inputs.pop(\"offset_mapping\")\n",
        "    sample_map = inputs.pop(\"overflow_to_sample_mapping\")\n",
        "    answers = examples[\"answers\"]\n",
        "    start_positions = []\n",
        "    end_positions = []\n",
        "\n",
        "    for i, offset in enumerate(offset_mapping):\n",
        "        sample_idx = sample_map[i]\n",
        "        answer = answers[sample_idx]\n",
        "        start_char = answer[\"answer_start\"][0]\n",
        "        end_char = answer[\"answer_start\"][0] + len(answer[\"text\"][0])\n",
        "        sequence_ids = inputs.sequence_ids(i)\n",
        "\n",
        "        # Find the start and end of the context\n",
        "        idx = 0\n",
        "        while sequence_ids[idx] != 1:\n",
        "            idx += 1\n",
        "        context_start = idx\n",
        "        while sequence_ids[idx] == 1:\n",
        "            idx += 1\n",
        "        context_end = idx - 1\n",
        "\n",
        "        # If the answer is not fully inside the context, label is (0, 0)\n",
        "        if offset[context_start][0] > start_char or offset[context_end][1] < end_char:\n",
        "            start_positions.append(0)\n",
        "            end_positions.append(0)\n",
        "        else:\n",
        "            # Otherwise it's the start and end token positions\n",
        "            idx = context_start\n",
        "            while idx <= context_end and offset[idx][0] <= start_char:\n",
        "                idx += 1\n",
        "            start_positions.append(idx - 1)\n",
        "\n",
        "            idx = context_end\n",
        "            while idx >= context_start and offset[idx][1] >= end_char:\n",
        "                idx -= 1\n",
        "            end_positions.append(idx + 1)\n",
        "\n",
        "    inputs[\"start_positions\"] = start_positions\n",
        "    inputs[\"end_positions\"] = end_positions\n",
        "    return inputs\n",
        "\n",
        "\n",
        "def preprocess_validation_examples(examples):\n",
        "    questions = [q.strip() for q in examples[\"question\"]]\n",
        "    inputs = pretrained_tokenizer(\n",
        "        questions,\n",
        "        examples[\"context\"],\n",
        "        max_length=max_length,\n",
        "        truncation=\"only_second\",\n",
        "        stride=stride,\n",
        "        return_overflowing_tokens=True,\n",
        "        return_offsets_mapping=True,\n",
        "        padding=\"max_length\",\n",
        "    )\n",
        "\n",
        "    sample_map = inputs.pop(\"overflow_to_sample_mapping\")\n",
        "    example_ids = []\n",
        "\n",
        "    for i in range(len(inputs[\"input_ids\"])):\n",
        "        sample_idx = sample_map[i]\n",
        "        example_ids.append(examples[\"id\"][sample_idx])\n",
        "\n",
        "        sequence_ids = inputs.sequence_ids(i)\n",
        "        offset = inputs[\"offset_mapping\"][i]\n",
        "        inputs[\"offset_mapping\"][i] = [\n",
        "            o if sequence_ids[k] == 1 else None for k, o in enumerate(offset)\n",
        "        ]\n",
        "\n",
        "    inputs[\"example_id\"] = example_ids\n",
        "    return inputs\n"
      ]
    },
    {
      "cell_type": "code",
      "execution_count": 6,
      "metadata": {
        "colab": {
          "base_uri": "https://localhost:8080/",
          "height": 156,
          "referenced_widgets": [
            "fd04b87d0ac947c0899e8339783ee243",
            "4dc5b793172e4a70a3cce296cf077e04",
            "3189ca72116d40a7bd15a51493b63053",
            "5a76b9b35a544b368e9c7bde669149c6",
            "9821e7764d604d65bcaabcbd3499d133",
            "bc9d7fc2d5494a24b2207fad57efdf95",
            "1e9315a24c1e4dbd98fa61ac4d6ebb2e",
            "2558e71a6df54d869ce6570cfe4316ee",
            "75fc5c169b9e4dc9becdf859f45bd323",
            "c06428bd039b4cd2984d60cc2e6035b8",
            "38375690880e4d15a6d83abfac58005d"
          ]
        },
        "executionInfo": {
          "elapsed": 69502,
          "status": "ok",
          "timestamp": 1654189621475,
          "user": {
            "displayName": "Asaf Dahan",
            "userId": "05572133538735955476"
          },
          "user_tz": -180
        },
        "id": "2dVbb3bHHPLR",
        "outputId": "2c467a86-bbff-4f34-9a6f-0b9bb42c7022"
      },
      "outputs": [
        {
          "name": "stderr",
          "output_type": "stream",
          "text": [
            "Loading cached processed dataset at /root/.cache/huggingface/datasets/squad/plain_text/1.0.0/d6ec3ceb99ca480ce37cdd35555d6cb2511d223b9150cce08a837ef62ffea453/cache-f714a690ef2233b7.arrow\n"
          ]
        },
        {
          "data": {
            "application/vnd.jupyter.widget-view+json": {
              "model_id": "fd04b87d0ac947c0899e8339783ee243",
              "version_major": 2,
              "version_minor": 0
            },
            "text/plain": [
              "  0%|          | 0/11 [00:00<?, ?ba/s]"
            ]
          },
          "metadata": {},
          "output_type": "display_data"
        },
        {
          "name": "stdout",
          "output_type": "stream",
          "text": [
            "Train sets sizes (raw vs. preprocesses):\n",
            "87599 88729\n",
            "Val sets sizes (raw vs. preprocesses):\n",
            "10570 10822\n"
          ]
        }
      ],
      "source": [
        "train_dataset = datasets[\"train\"].map(\n",
        "    preprocess_training_examples,\n",
        "    batched=True,\n",
        "    remove_columns=datasets[\"train\"].column_names,\n",
        ")\n",
        "\n",
        "validation_dataset = datasets[\"validation\"].map(\n",
        "    preprocess_validation_examples,\n",
        "    batched=True,\n",
        "    remove_columns=datasets[\"validation\"].column_names,\n",
        ")\n",
        "\n",
        "print(\"Train sets sizes (raw vs. preprocesses):\")\n",
        "print(len(datasets[\"train\"]), len(train_dataset))\n",
        "\n",
        "print(\"Val sets sizes (raw vs. preprocesses):\")\n",
        "print(len(datasets[\"validation\"]), len(validation_dataset))"
      ]
    },
    {
      "cell_type": "code",
      "execution_count": 7,
      "metadata": {
        "colab": {
          "base_uri": "https://localhost:8080/"
        },
        "executionInfo": {
          "elapsed": 559,
          "status": "ok",
          "timestamp": 1654189621995,
          "user": {
            "displayName": "Asaf Dahan",
            "userId": "05572133538735955476"
          },
          "user_tz": -180
        },
        "id": "-XsxcqwKHBTP",
        "outputId": "f94aff90-b70f-4f4b-d184-9dc079ce892f"
      },
      "outputs": [
        {
          "name": "stderr",
          "output_type": "stream",
          "text": [
            "Loading cached processed dataset at /root/.cache/huggingface/datasets/squad/plain_text/1.0.0/d6ec3ceb99ca480ce37cdd35555d6cb2511d223b9150cce08a837ef62ffea453/cache-bc0e4ac72682fcc6.arrow\n"
          ]
        }
      ],
      "source": [
        "# Let's predict on 100 examples of the eval set samples and eval the results\n",
        "small_eval_set = datasets[\"validation\"].select(range(100))\n",
        "\n",
        "eval_set = small_eval_set.map(\n",
        "    preprocess_validation_examples,\n",
        "    batched=True,\n",
        "    remove_columns=datasets[\"validation\"].column_names,\n",
        ")\n",
        "\n",
        "\n",
        "eval_set_for_model = eval_set.remove_columns([\"example_id\", \"offset_mapping\"])\n",
        "eval_set_for_model.set_format(\"numpy\")\n",
        "\n",
        "batch = {k: eval_set_for_model[k] for k in eval_set_for_model.column_names}\n",
        "outputs = pretrained_model(**batch)\n",
        "\n",
        "start_logits = outputs.start_logits.numpy()\n",
        "end_logits = outputs.end_logits.numpy()"
      ]
    },
    {
      "cell_type": "code",
      "execution_count": 8,
      "metadata": {
        "colab": {
          "base_uri": "https://localhost:8080/"
        },
        "executionInfo": {
          "elapsed": 446,
          "status": "ok",
          "timestamp": 1654189631640,
          "user": {
            "displayName": "Asaf Dahan",
            "userId": "05572133538735955476"
          },
          "user_tz": -180
        },
        "id": "VLRSA9OKJZuD",
        "outputId": "355f1bdf-5fea-438b-c103-68aa52c6d276"
      },
      "outputs": [
        {
          "data": {
            "text/plain": [
              "Dataset({\n",
              "    features: ['input_ids', 'attention_mask'],\n",
              "    num_rows: 100\n",
              "})"
            ]
          },
          "execution_count": 8,
          "metadata": {},
          "output_type": "execute_result"
        }
      ],
      "source": [
        "eval_set_for_model"
      ]
    },
    {
      "cell_type": "code",
      "execution_count": null,
      "metadata": {
        "executionInfo": {
          "elapsed": 581,
          "status": "ok",
          "timestamp": 1654189633620,
          "user": {
            "displayName": "Asaf Dahan",
            "userId": "05572133538735955476"
          },
          "user_tz": -180
        },
        "id": "8DL1tOzYYP6e"
      },
      "outputs": [],
      "source": [
        "# Now, we need to find the predicted answer for each example in our small_eval_set.\n",
        "# One example may have been split into several features in eval_set, so the first step is to map each example in\n",
        "# small_eval_set to the corresponding features in eval_set:\n",
        "import collections\n",
        "\n",
        "example_to_features = collections.defaultdict(list)\n",
        "for idx, feature in enumerate(eval_set):\n",
        "    example_to_features[feature[\"example_id\"]].append(idx)"
      ]
    },
    {
      "cell_type": "markdown",
      "metadata": {
        "id": "fu-WrNyYN8Tg"
      },
      "source": [
        "With this in hand, we can really get to work by looping through all the examples and, for each example, through all the associated features. As we said before, we’ll look at the logit scores for the n_best start logits and end logits, excluding positions that give:\n",
        "\n",
        "* An answer that wouldn’t be inside the context\n",
        "* An answer with negative length\n",
        "* An answer that is too long (we limit the possibilities at max_answer_length=30)\n",
        "\n",
        "Once we have all the scored possible answers for one example, we just pick the one with the best logit score:"
      ]
    },
    {
      "cell_type": "code",
      "execution_count": null,
      "metadata": {
        "executionInfo": {
          "elapsed": 5405,
          "status": "ok",
          "timestamp": 1654189643435,
          "user": {
            "displayName": "Asaf Dahan",
            "userId": "05572133538735955476"
          },
          "user_tz": -180
        },
        "id": "4haVHEgPOBkJ"
      },
      "outputs": [],
      "source": [
        "import numpy as np\n",
        "\n",
        "n_best = 20\n",
        "max_answer_length = 30\n",
        "predicted_answers = []\n",
        "\n",
        "for example in small_eval_set:\n",
        "    example_id = example[\"id\"]\n",
        "    context = example[\"context\"]\n",
        "    answers = []\n",
        "\n",
        "    for feature_index in example_to_features[example_id]:\n",
        "        start_logit = start_logits[feature_index]\n",
        "        end_logit = end_logits[feature_index]\n",
        "        offsets = eval_set[\"offset_mapping\"][feature_index]\n",
        "\n",
        "        start_indexes = np.argsort(start_logit)[-1 : -n_best - 1 : -1].tolist()\n",
        "        end_indexes = np.argsort(end_logit)[-1 : -n_best - 1 : -1].tolist()\n",
        "        for start_index in start_indexes:\n",
        "            for end_index in end_indexes:\n",
        "                # Skip answers that are not fully in the context\n",
        "                if offsets[start_index] is None or offsets[end_index] is None:\n",
        "                    continue\n",
        "                # Skip answers with a length that is either < 0 or > max_answer_length.\n",
        "                if (\n",
        "                    end_index < start_index\n",
        "                    or end_index - start_index + 1 > max_answer_length\n",
        "                ):\n",
        "                    continue\n",
        "\n",
        "                answers.append(\n",
        "                    {\n",
        "                        \"text\": context[\n",
        "                            offsets[start_index][0] : offsets[end_index][1]\n",
        "                        ],\n",
        "                        \"logit_score\": start_logit[start_index] + end_logit[end_index],\n",
        "                    }\n",
        "                )\n",
        "\n",
        "    best_answer = max(answers, key=lambda x: x[\"logit_score\"])\n",
        "    predicted_answers.append({\"id\": example_id, \"prediction_text\": best_answer[\"text\"]})"
      ]
    },
    {
      "cell_type": "code",
      "execution_count": 11,
      "metadata": {
        "executionInfo": {
          "elapsed": 438,
          "status": "ok",
          "timestamp": 1654189647686,
          "user": {
            "displayName": "Asaf Dahan",
            "userId": "05572133538735955476"
          },
          "user_tz": -180
        },
        "id": "YeM12oo6PD-A"
      },
      "outputs": [],
      "source": [
        "theoretical_answers = [\n",
        "    {\"id\": ex[\"id\"], \"answers\": ex[\"answers\"]} for ex in small_eval_set\n",
        "]"
      ]
    },
    {
      "cell_type": "code",
      "execution_count": null,
      "metadata": {
        "colab": {
          "base_uri": "https://localhost:8080/"
        },
        "executionInfo": {
          "elapsed": 7,
          "status": "ok",
          "timestamp": 1654189649348,
          "user": {
            "displayName": "Asaf Dahan",
            "userId": "05572133538735955476"
          },
          "user_tz": -180
        },
        "id": "JNw9Iol3PFaP",
        "outputId": "e9cdb552-9a77-406f-9990-f35c051aac93"
      },
      "outputs": [
        {
          "name": "stdout",
          "output_type": "stream",
          "text": [
            "Sample ID: 0\n",
            "Model answer:{'id': '56be4db0acb8001400a502ec', 'prediction_text': 'Denver Broncos'}\n",
            "Labelers answer:{'id': '56be4db0acb8001400a502ec', 'answers': {'text': ['Denver Broncos', 'Denver Broncos', 'Denver Broncos'], 'answer_start': [177, 177, 177]}}\n",
            "\n",
            "Sample ID: 1\n",
            "Model answer:{'id': '56be4db0acb8001400a502ed', 'prediction_text': 'Carolina Panthers'}\n",
            "Labelers answer:{'id': '56be4db0acb8001400a502ed', 'answers': {'text': ['Carolina Panthers', 'Carolina Panthers', 'Carolina Panthers'], 'answer_start': [249, 249, 249]}}\n",
            "\n",
            "Sample ID: 2\n",
            "Model answer:{'id': '56be4db0acb8001400a502ee', 'prediction_text': \"Levi's Stadium in the San Francisco Bay Area at Santa Clara, California\"}\n",
            "Labelers answer:{'id': '56be4db0acb8001400a502ee', 'answers': {'text': ['Santa Clara, California', \"Levi's Stadium\", \"Levi's Stadium in the San Francisco Bay Area at Santa Clara, California.\"], 'answer_start': [403, 355, 355]}}\n",
            "\n",
            "Sample ID: 3\n",
            "Model answer:{'id': '56be4db0acb8001400a502ef', 'prediction_text': 'Carolina Panthers'}\n",
            "Labelers answer:{'id': '56be4db0acb8001400a502ef', 'answers': {'text': ['Denver Broncos', 'Denver Broncos', 'Denver Broncos'], 'answer_start': [177, 177, 177]}}\n",
            "\n",
            "Sample ID: 4\n",
            "Model answer:{'id': '56be4db0acb8001400a502f0', 'prediction_text': 'gold'}\n",
            "Labelers answer:{'id': '56be4db0acb8001400a502f0', 'answers': {'text': ['gold', 'gold', 'gold'], 'answer_start': [488, 488, 521]}}\n",
            "\n",
            "Sample ID: 5\n",
            "Model answer:{'id': '56be8e613aeaaa14008c90d1', 'prediction_text': 'golden anniversary'}\n",
            "Labelers answer:{'id': '56be8e613aeaaa14008c90d1', 'answers': {'text': ['\"golden anniversary\"', 'gold-themed', '\"golden anniversary'], 'answer_start': [487, 521, 487]}}\n",
            "\n",
            "Sample ID: 6\n",
            "Model answer:{'id': '56be8e613aeaaa14008c90d2', 'prediction_text': 'February 7, 2016'}\n",
            "Labelers answer:{'id': '56be8e613aeaaa14008c90d2', 'answers': {'text': ['February 7, 2016', 'February 7', 'February 7, 2016'], 'answer_start': [334, 334, 334]}}\n",
            "\n",
            "Sample ID: 7\n",
            "Model answer:{'id': '56be8e613aeaaa14008c90d3', 'prediction_text': 'Super Bowl 50 was an American football game to determine the champion of the National Football League (NFL) for the 2015 season. The American Football Conference'}\n",
            "Labelers answer:{'id': '56be8e613aeaaa14008c90d3', 'answers': {'text': ['American Football Conference', 'American Football Conference', 'American Football Conference'], 'answer_start': [133, 133, 133]}}\n",
            "\n",
            "Sample ID: 8\n",
            "Model answer:{'id': '56bea9923aeaaa14008c91b9', 'prediction_text': 'golden anniversary'}\n",
            "Labelers answer:{'id': '56bea9923aeaaa14008c91b9', 'answers': {'text': ['\"golden anniversary\"', 'gold-themed', 'gold'], 'answer_start': [487, 521, 521]}}\n",
            "\n",
            "Sample ID: 9\n",
            "Model answer:{'id': '56bea9923aeaaa14008c91ba', 'prediction_text': 'American Football Conference'}\n",
            "Labelers answer:{'id': '56bea9923aeaaa14008c91ba', 'answers': {'text': ['American Football Conference', 'American Football Conference', 'American Football Conference'], 'answer_start': [133, 133, 133]}}\n",
            "\n"
          ]
        }
      ],
      "source": [
        "# Let's print some predictions vs. labels\n",
        "for i in range(10):\n",
        "    print(\n",
        "        f\"Sample ID: {i}\\nModel answer:{predicted_answers[i]}\\nLabelers answer:{theoretical_answers[i]}\\n\"\n",
        "    )"
      ]
    },
    {
      "cell_type": "code",
      "execution_count": 13,
      "metadata": {
        "colab": {
          "base_uri": "https://localhost:8080/"
        },
        "executionInfo": {
          "elapsed": 2001,
          "status": "ok",
          "timestamp": 1654189656470,
          "user": {
            "displayName": "Asaf Dahan",
            "userId": "05572133538735955476"
          },
          "user_tz": -180
        },
        "id": "kxn8i81fPBmb",
        "outputId": "0695bd28-4795-40bd-8070-1db189122549"
      },
      "outputs": [
        {
          "data": {
            "text/plain": [
              "{'exact_match': 83.0, 'f1': 88.25000000000004}"
            ]
          },
          "execution_count": 13,
          "metadata": {},
          "output_type": "execute_result"
        }
      ],
      "source": [
        "from datasets import load_metric\n",
        "\n",
        "# Let's evaluate the metric for our sub sampled validation set\n",
        "metric = load_metric(\"squad\")\n",
        "metric.compute(predictions=predicted_answers, references=theoretical_answers)"
      ]
    },
    {
      "cell_type": "markdown",
      "metadata": {
        "id": "khwyaBePQDDG"
      },
      "source": [
        "Rather good considering that according to its paper DistilBERT fine-tuned on SQuAD obtains 79.1 and 86.9 for those scores on the whole dataset."
      ]
    },
    {
      "cell_type": "markdown",
      "metadata": {
        "id": "0ZyrjTBAcuk1"
      },
      "source": [
        "### Pretrained Model Error Analysis\n",
        "Here you will evaluate your model’s performance.\n",
        "\n",
        "Write code to manually review a few errors of the model. \n"
      ]
    },
    {
      "cell_type": "code",
      "execution_count": null,
      "metadata": {
        "colab": {
          "base_uri": "https://localhost:8080/"
        },
        "executionInfo": {
          "elapsed": 9,
          "status": "ok",
          "timestamp": 1654171165858,
          "user": {
            "displayName": "Asaf Dahan",
            "userId": "05572133538735955476"
          },
          "user_tz": -180
        },
        "id": "x81zh7jvcuk1",
        "outputId": "4c0abe6f-bcb8-4cdb-f67d-221f38797010"
      },
      "outputs": [
        {
          "name": "stdout",
          "output_type": "stream",
          "text": [
            "Sample ID: 2\n",
            "Question: Where did Super Bowl 50 take place?\n",
            "Context: Super Bowl 50 was an American football game to determine the champion of the National Football League (NFL) for the 2015 season. The American Football Conference (AFC) champion Denver Broncos defeated the National Football Conference (NFC) champion Carolina Panthers 24–10 to earn their third Super Bowl title. The game was played on February 7, 2016, at Levi's Stadium in the San Francisco Bay Area at Santa Clara, California. As this was the 50th Super Bowl, the league emphasized the \"golden anniversary\" with various gold-themed initiatives, as well as temporarily suspending the tradition of naming each Super Bowl game with Roman numerals (under which the game would have been known as \"Super Bowl L\"), so that the logo could prominently feature the Arabic numerals 50.\n",
            "Model answer:{'id': '56be4db0acb8001400a502ee', 'prediction_text': \"Levi's Stadium in the San Francisco Bay Area at Santa Clara, California\"}\n",
            "Labelers answer:{'id': '56be4db0acb8001400a502ee', 'answers': {'text': ['Santa Clara, California', \"Levi's Stadium\", \"Levi's Stadium in the San Francisco Bay Area at Santa Clara, California.\"], 'answer_start': [403, 355, 355]}}\n",
            "\n",
            "Sample ID: 3\n",
            "Question: Which NFL team won Super Bowl 50?\n",
            "Context: Super Bowl 50 was an American football game to determine the champion of the National Football League (NFL) for the 2015 season. The American Football Conference (AFC) champion Denver Broncos defeated the National Football Conference (NFC) champion Carolina Panthers 24–10 to earn their third Super Bowl title. The game was played on February 7, 2016, at Levi's Stadium in the San Francisco Bay Area at Santa Clara, California. As this was the 50th Super Bowl, the league emphasized the \"golden anniversary\" with various gold-themed initiatives, as well as temporarily suspending the tradition of naming each Super Bowl game with Roman numerals (under which the game would have been known as \"Super Bowl L\"), so that the logo could prominently feature the Arabic numerals 50.\n",
            "Model answer:{'id': '56be4db0acb8001400a502ef', 'prediction_text': 'Carolina Panthers'}\n",
            "Labelers answer:{'id': '56be4db0acb8001400a502ef', 'answers': {'text': ['Denver Broncos', 'Denver Broncos', 'Denver Broncos'], 'answer_start': [177, 177, 177]}}\n",
            "\n",
            "Sample ID: 5\n",
            "Question: What was the theme of Super Bowl 50?\n",
            "Context: Super Bowl 50 was an American football game to determine the champion of the National Football League (NFL) for the 2015 season. The American Football Conference (AFC) champion Denver Broncos defeated the National Football Conference (NFC) champion Carolina Panthers 24–10 to earn their third Super Bowl title. The game was played on February 7, 2016, at Levi's Stadium in the San Francisco Bay Area at Santa Clara, California. As this was the 50th Super Bowl, the league emphasized the \"golden anniversary\" with various gold-themed initiatives, as well as temporarily suspending the tradition of naming each Super Bowl game with Roman numerals (under which the game would have been known as \"Super Bowl L\"), so that the logo could prominently feature the Arabic numerals 50.\n",
            "Model answer:{'id': '56be8e613aeaaa14008c90d1', 'prediction_text': 'golden anniversary'}\n",
            "Labelers answer:{'id': '56be8e613aeaaa14008c90d1', 'answers': {'text': ['\"golden anniversary\"', 'gold-themed', '\"golden anniversary'], 'answer_start': [487, 521, 487]}}\n",
            "\n",
            "Sample ID: 7\n",
            "Question: What is the AFC short for?\n",
            "Context: Super Bowl 50 was an American football game to determine the champion of the National Football League (NFL) for the 2015 season. The American Football Conference (AFC) champion Denver Broncos defeated the National Football Conference (NFC) champion Carolina Panthers 24–10 to earn their third Super Bowl title. The game was played on February 7, 2016, at Levi's Stadium in the San Francisco Bay Area at Santa Clara, California. As this was the 50th Super Bowl, the league emphasized the \"golden anniversary\" with various gold-themed initiatives, as well as temporarily suspending the tradition of naming each Super Bowl game with Roman numerals (under which the game would have been known as \"Super Bowl L\"), so that the logo could prominently feature the Arabic numerals 50.\n",
            "Model answer:{'id': '56be8e613aeaaa14008c90d3', 'prediction_text': 'Super Bowl 50 was an American football game to determine the champion of the National Football League (NFL) for the 2015 season. The American Football Conference'}\n",
            "Labelers answer:{'id': '56be8e613aeaaa14008c90d3', 'answers': {'text': ['American Football Conference', 'American Football Conference', 'American Football Conference'], 'answer_start': [133, 133, 133]}}\n",
            "\n",
            "Sample ID: 8\n",
            "Question: What was the theme of Super Bowl 50?\n",
            "Context: Super Bowl 50 was an American football game to determine the champion of the National Football League (NFL) for the 2015 season. The American Football Conference (AFC) champion Denver Broncos defeated the National Football Conference (NFC) champion Carolina Panthers 24–10 to earn their third Super Bowl title. The game was played on February 7, 2016, at Levi's Stadium in the San Francisco Bay Area at Santa Clara, California. As this was the 50th Super Bowl, the league emphasized the \"golden anniversary\" with various gold-themed initiatives, as well as temporarily suspending the tradition of naming each Super Bowl game with Roman numerals (under which the game would have been known as \"Super Bowl L\"), so that the logo could prominently feature the Arabic numerals 50.\n",
            "Model answer:{'id': '56bea9923aeaaa14008c91b9', 'prediction_text': 'golden anniversary'}\n",
            "Labelers answer:{'id': '56bea9923aeaaa14008c91b9', 'answers': {'text': ['\"golden anniversary\"', 'gold-themed', 'gold'], 'answer_start': [487, 521, 521]}}\n",
            "\n",
            "Sample ID: 13\n",
            "Question: What city did Super Bowl 50 take place in?\n",
            "Context: Super Bowl 50 was an American football game to determine the champion of the National Football League (NFL) for the 2015 season. The American Football Conference (AFC) champion Denver Broncos defeated the National Football Conference (NFC) champion Carolina Panthers 24–10 to earn their third Super Bowl title. The game was played on February 7, 2016, at Levi's Stadium in the San Francisco Bay Area at Santa Clara, California. As this was the 50th Super Bowl, the league emphasized the \"golden anniversary\" with various gold-themed initiatives, as well as temporarily suspending the tradition of naming each Super Bowl game with Roman numerals (under which the game would have been known as \"Super Bowl L\"), so that the logo could prominently feature the Arabic numerals 50.\n",
            "Model answer:{'id': '56beace93aeaaa14008c91e1', 'prediction_text': 'Santa Clara, California'}\n",
            "Labelers answer:{'id': '56beace93aeaaa14008c91e1', 'answers': {'text': ['Santa Clara', 'Santa Clara', 'Santa Clara'], 'answer_start': [403, 403, 403]}}\n",
            "\n",
            "Sample ID: 17\n",
            "Question: What city did Super Bowl 50 take place in?\n",
            "Context: Super Bowl 50 was an American football game to determine the champion of the National Football League (NFL) for the 2015 season. The American Football Conference (AFC) champion Denver Broncos defeated the National Football Conference (NFC) champion Carolina Panthers 24–10 to earn their third Super Bowl title. The game was played on February 7, 2016, at Levi's Stadium in the San Francisco Bay Area at Santa Clara, California. As this was the 50th Super Bowl, the league emphasized the \"golden anniversary\" with various gold-themed initiatives, as well as temporarily suspending the tradition of naming each Super Bowl game with Roman numerals (under which the game would have been known as \"Super Bowl L\"), so that the logo could prominently feature the Arabic numerals 50.\n",
            "Model answer:{'id': '56bf10f43aeaaa14008c94fe', 'prediction_text': 'Santa Clara, California'}\n",
            "Labelers answer:{'id': '56bf10f43aeaaa14008c94fe', 'answers': {'text': ['Santa Clara', 'Santa Clara', 'Santa Clara'], 'answer_start': [403, 403, 403]}}\n",
            "\n",
            "Sample ID: 26\n",
            "Question: Which team won Super Bowl 50.\n",
            "Context: Super Bowl 50 was an American football game to determine the champion of the National Football League (NFL) for the 2015 season. The American Football Conference (AFC) champion Denver Broncos defeated the National Football Conference (NFC) champion Carolina Panthers 24–10 to earn their third Super Bowl title. The game was played on February 7, 2016, at Levi's Stadium in the San Francisco Bay Area at Santa Clara, California. As this was the 50th Super Bowl, the league emphasized the \"golden anniversary\" with various gold-themed initiatives, as well as temporarily suspending the tradition of naming each Super Bowl game with Roman numerals (under which the game would have been known as \"Super Bowl L\"), so that the logo could prominently feature the Arabic numerals 50.\n",
            "Model answer:{'id': '56d600e31c85041400946eb0', 'prediction_text': 'Carolina Panthers'}\n",
            "Labelers answer:{'id': '56d600e31c85041400946eb0', 'answers': {'text': ['Denver Broncos', 'Denver Broncos', 'Denver Broncos'], 'answer_start': [177, 177, 177]}}\n",
            "\n",
            "Sample ID: 28\n",
            "Question: The name of the NFL championship game is?\n",
            "Context: Super Bowl 50 was an American football game to determine the champion of the National Football League (NFL) for the 2015 season. The American Football Conference (AFC) champion Denver Broncos defeated the National Football Conference (NFC) champion Carolina Panthers 24–10 to earn their third Super Bowl title. The game was played on February 7, 2016, at Levi's Stadium in the San Francisco Bay Area at Santa Clara, California. As this was the 50th Super Bowl, the league emphasized the \"golden anniversary\" with various gold-themed initiatives, as well as temporarily suspending the tradition of naming each Super Bowl game with Roman numerals (under which the game would have been known as \"Super Bowl L\"), so that the logo could prominently feature the Arabic numerals 50.\n",
            "Model answer:{'id': '56d9895ddc89441400fdb50e', 'prediction_text': 'Super Bowl 50'}\n",
            "Labelers answer:{'id': '56d9895ddc89441400fdb50e', 'answers': {'text': ['Super Bowl', 'Super Bowl', 'Super Bowl'], 'answer_start': [0, 0, 0]}}\n",
            "\n",
            "Sample ID: 36\n",
            "Question: Who lost to the Broncos in the AFC Championship?\n",
            "Context: The Panthers finished the regular season with a 15–1 record, and quarterback Cam Newton was named the NFL Most Valuable Player (MVP). They defeated the Arizona Cardinals 49–15 in the NFC Championship Game and advanced to their second Super Bowl appearance since the franchise was founded in 1995. The Broncos finished the regular season with a 12–4 record, and denied the New England Patriots a chance to defend their title from Super Bowl XLIX by defeating them 20–18 in the AFC Championship Game. They joined the Patriots, Dallas Cowboys, and Pittsburgh Steelers as one of four teams that have made eight appearances in the Super Bowl.\n",
            "Model answer:{'id': '56bead5a3aeaaa14008c91ea', 'prediction_text': 'Arizona Cardinals'}\n",
            "Labelers answer:{'id': '56bead5a3aeaaa14008c91ea', 'answers': {'text': ['New England Patriots', 'the New England Patriots', 'New England Patriots'], 'answer_start': [372, 368, 372]}}\n",
            "\n",
            "Sample ID: 42\n",
            "Question: What were the win/loss game stats for the Denver Bronco's regular season in 2015?\n",
            "Context: The Panthers finished the regular season with a 15–1 record, and quarterback Cam Newton was named the NFL Most Valuable Player (MVP). They defeated the Arizona Cardinals 49–15 in the NFC Championship Game and advanced to their second Super Bowl appearance since the franchise was founded in 1995. The Broncos finished the regular season with a 12–4 record, and denied the New England Patriots a chance to defend their title from Super Bowl XLIX by defeating them 20–18 in the AFC Championship Game. They joined the Patriots, Dallas Cowboys, and Pittsburgh Steelers as one of four teams that have made eight appearances in the Super Bowl.\n",
            "Model answer:{'id': '56bf159b3aeaaa14008c9509', 'prediction_text': '15–1 record'}\n",
            "Labelers answer:{'id': '56bf159b3aeaaa14008c9509', 'answers': {'text': ['12–4', '12–4', '12–4'], 'answer_start': [344, 344, 344]}}\n",
            "\n",
            "Sample ID: 47\n",
            "Question: How many times have the Panthers been in the Super Bowl?\n",
            "Context: The Panthers finished the regular season with a 15–1 record, and quarterback Cam Newton was named the NFL Most Valuable Player (MVP). They defeated the Arizona Cardinals 49–15 in the NFC Championship Game and advanced to their second Super Bowl appearance since the franchise was founded in 1995. The Broncos finished the regular season with a 12–4 record, and denied the New England Patriots a chance to defend their title from Super Bowl XLIX by defeating them 20–18 in the AFC Championship Game. They joined the Patriots, Dallas Cowboys, and Pittsburgh Steelers as one of four teams that have made eight appearances in the Super Bowl.\n",
            "Model answer:{'id': '56d2045de7d4791d009025f5', 'prediction_text': 'eight'}\n",
            "Labelers answer:{'id': '56d2045de7d4791d009025f5', 'answers': {'text': ['2', 'second', 'second'], 'answer_start': [345, 227, 227]}}\n",
            "\n",
            "Sample ID: 48\n",
            "Question: Who did Denver beat in the AFC championship?\n",
            "Context: The Panthers finished the regular season with a 15–1 record, and quarterback Cam Newton was named the NFL Most Valuable Player (MVP). They defeated the Arizona Cardinals 49–15 in the NFC Championship Game and advanced to their second Super Bowl appearance since the franchise was founded in 1995. The Broncos finished the regular season with a 12–4 record, and denied the New England Patriots a chance to defend their title from Super Bowl XLIX by defeating them 20–18 in the AFC Championship Game. They joined the Patriots, Dallas Cowboys, and Pittsburgh Steelers as one of four teams that have made eight appearances in the Super Bowl.\n",
            "Model answer:{'id': '56d2045de7d4791d009025f6', 'prediction_text': 'Arizona Cardinals'}\n",
            "Labelers answer:{'id': '56d2045de7d4791d009025f6', 'answers': {'text': ['New England Patriots', 'the New England Patriots', 'New England Patriots'], 'answer_start': [372, 368, 372]}}\n",
            "\n",
            "Sample ID: 50\n",
            "Question: Who did Denver beat in the 2015 AFC Championship game?\n",
            "Context: The Panthers finished the regular season with a 15–1 record, and quarterback Cam Newton was named the NFL Most Valuable Player (MVP). They defeated the Arizona Cardinals 49–15 in the NFC Championship Game and advanced to their second Super Bowl appearance since the franchise was founded in 1995. The Broncos finished the regular season with a 12–4 record, and denied the New England Patriots a chance to defend their title from Super Bowl XLIX by defeating them 20–18 in the AFC Championship Game. They joined the Patriots, Dallas Cowboys, and Pittsburgh Steelers as one of four teams that have made eight appearances in the Super Bowl.\n",
            "Model answer:{'id': '56d6017d1c85041400946ec1', 'prediction_text': 'Arizona Cardinals'}\n",
            "Labelers answer:{'id': '56d6017d1c85041400946ec1', 'answers': {'text': ['New England Patriots', 'the New England Patriots', 'New England Patriots'], 'answer_start': [372, 368, 372]}}\n",
            "\n",
            "Sample ID: 84\n",
            "Question: At which Super Bowl did Beyonce headline the halftime show?\n",
            "Context: CBS broadcast Super Bowl 50 in the U.S., and charged an average of $5 million for a 30-second commercial during the game. The Super Bowl 50 halftime show was headlined by the British rock group Coldplay with special guest performers Beyoncé and Bruno Mars, who headlined the Super Bowl XLVII and Super Bowl XLVIII halftime shows, respectively. It was the third-most watched U.S. broadcast ever.\n",
            "Model answer:{'id': '56be5333acb8001400a5030e', 'prediction_text': 'Super Bowl 50'}\n",
            "Labelers answer:{'id': '56be5333acb8001400a5030e', 'answers': {'text': ['Super Bowl XLVII', 'Super Bowl XLVII', 'XLVII'], 'answer_start': [275, 275, 286]}}\n",
            "\n",
            "Sample ID: 87\n",
            "Question: What halftime performer previously headlined Super Bowl XLVII?\n",
            "Context: CBS broadcast Super Bowl 50 in the U.S., and charged an average of $5 million for a 30-second commercial during the game. The Super Bowl 50 halftime show was headlined by the British rock group Coldplay with special guest performers Beyoncé and Bruno Mars, who headlined the Super Bowl XLVII and Super Bowl XLVIII halftime shows, respectively. It was the third-most watched U.S. broadcast ever.\n",
            "Model answer:{'id': '56beaf5e3aeaaa14008c91ff', 'prediction_text': 'Beyoncé and Bruno Mars'}\n",
            "Labelers answer:{'id': '56beaf5e3aeaaa14008c91ff', 'answers': {'text': ['Beyoncé', 'Beyoncé', 'Beyoncé'], 'answer_start': [233, 233, 233]}}\n",
            "\n",
            "Sample ID: 88\n",
            "Question: What halftime performer previously headlined Super Bowl XLVIII?\n",
            "Context: CBS broadcast Super Bowl 50 in the U.S., and charged an average of $5 million for a 30-second commercial during the game. The Super Bowl 50 halftime show was headlined by the British rock group Coldplay with special guest performers Beyoncé and Bruno Mars, who headlined the Super Bowl XLVII and Super Bowl XLVIII halftime shows, respectively. It was the third-most watched U.S. broadcast ever.\n",
            "Model answer:{'id': '56beaf5e3aeaaa14008c9200', 'prediction_text': 'Beyoncé and Bruno Mars'}\n",
            "Labelers answer:{'id': '56beaf5e3aeaaa14008c9200', 'answers': {'text': ['Bruno Mars', 'Bruno Mars', 'Mars'], 'answer_start': [245, 245, 251]}}\n",
            "\n",
            "Sample ID: 89\n",
            "Question: Who was the main performer at this year's halftime show?\n",
            "Context: CBS broadcast Super Bowl 50 in the U.S., and charged an average of $5 million for a 30-second commercial during the game. The Super Bowl 50 halftime show was headlined by the British rock group Coldplay with special guest performers Beyoncé and Bruno Mars, who headlined the Super Bowl XLVII and Super Bowl XLVIII halftime shows, respectively. It was the third-most watched U.S. broadcast ever.\n",
            "Model answer:{'id': '56beaf5e3aeaaa14008c9201', 'prediction_text': 'Beyoncé and Bruno Mars'}\n",
            "Labelers answer:{'id': '56beaf5e3aeaaa14008c9201', 'answers': {'text': ['Coldplay', 'Coldplay', 'Coldplay'], 'answer_start': [194, 194, 194]}}\n",
            "\n",
            "Sample ID: 92\n",
            "Question: Who was the male singer who performed as a special guest during Super Bowl 50?\n",
            "Context: CBS broadcast Super Bowl 50 in the U.S., and charged an average of $5 million for a 30-second commercial during the game. The Super Bowl 50 halftime show was headlined by the British rock group Coldplay with special guest performers Beyoncé and Bruno Mars, who headlined the Super Bowl XLVII and Super Bowl XLVIII halftime shows, respectively. It was the third-most watched U.S. broadcast ever.\n",
            "Model answer:{'id': '56bf1ae93aeaaa14008c951e', 'prediction_text': 'Beyoncé and Bruno Mars'}\n",
            "Labelers answer:{'id': '56bf1ae93aeaaa14008c951e', 'answers': {'text': ['Bruno Mars', 'Bruno Mars', 'Bruno Mars,'], 'answer_start': [245, 245, 245]}}\n",
            "\n",
            "Sample ID: 99\n",
            "Question: Who headlined the halftime show for Super Bowl 50?\n",
            "Context: CBS broadcast Super Bowl 50 in the U.S., and charged an average of $5 million for a 30-second commercial during the game. The Super Bowl 50 halftime show was headlined by the British rock group Coldplay with special guest performers Beyoncé and Bruno Mars, who headlined the Super Bowl XLVII and Super Bowl XLVIII halftime shows, respectively. It was the third-most watched U.S. broadcast ever.\n",
            "Model answer:{'id': '56d602631c85041400946eda', 'prediction_text': 'Coldplay with special guest performers Beyoncé and Bruno Mars'}\n",
            "Labelers answer:{'id': '56d602631c85041400946eda', 'answers': {'text': ['Coldplay', 'Coldplay', 'Coldplay'], 'answer_start': [194, 194, 194]}}\n",
            "\n"
          ]
        }
      ],
      "source": [
        "for i in range(100):\n",
        "    question = small_eval_set[i][\"question\"]\n",
        "    context = small_eval_set[i][\"context\"]\n",
        "    model_answers = predicted_answers[i]\n",
        "    labelers_answers = theoretical_answers[i]\n",
        "\n",
        "    if model_answers[\"prediction_text\"] not in labelers_answers.get(\"answers\").get(\n",
        "        \"text\"\n",
        "    ):\n",
        "        print(\n",
        "            f\"Sample ID: {i}\\nQuestion: {question}\\nContext: {context}\\nModel answer:{predicted_answers[i]}\\nLabelers answer:{theoretical_answers[i]}\\n\"\n",
        "        )"
      ]
    },
    {
      "cell_type": "markdown",
      "metadata": {
        "id": "BofWZ6BQcuk1"
      },
      "source": [
        "Do you see a pattern there? Is there any hypothesis you form for cases where the model fails?\n",
        "\n",
        "Yes, to me it seems taht the model makes mistaskes in questions that require some pre-knowledge that cannot be extracted from the context, and also in some overfitting to specific words, for example:\n",
        "\n",
        "1. Who was the male singer who performed as a special guest during Super Bowl 50? It is clear that Bruno Mars is the male to the human readers but the model also adds Beyonce as the model cannot extract / understand the gender from the context.\n",
        "2. At which Super Bowl did Beyonce headline the halftime show? I suspect that the model pherhabs did not see enough examples of greek numerics in texts when the question is numeric, therefor the only Supoerbowl + number he found in context was the answer he chose - The issue here is more \"overfitting\" to numbers vs. greek numerics.\n",
        "3. How many times have the Panthers been in the Super Bowl? the model sees the words \"eight appearances in the Super Bowl\" and assumes it is the answer, this is probably due to overfitting to the answer \"format\" in other questions he saw.\n"
      ]
    },
    {
      "cell_type": "markdown",
      "metadata": {
        "id": "_uKjFRc7cuk2"
      },
      "source": [
        "Write code that runs inference and outputs the predicted answer to a context and question texts typed by the user. We recommend that you use ipywidgets for interactivity:  \n",
        "https://ipywidgets.readthedocs.io/en/latest/examples/Widget%20Basics.html\n",
        "\n",
        "Use the award-winning GUI you’ve just created, to try to manually poke holes in the model. Try to characterize the cases your model mishandles.\n"
      ]
    },
    {
      "cell_type": "code",
      "execution_count": 67,
      "metadata": {
        "colab": {
          "base_uri": "https://localhost:8080/",
          "height": 49,
          "referenced_widgets": [
            "468d53490c1841be9706db9137e9db70",
            "3d0a9cb441284c85bc41285eeb0c4fb2",
            "2635fffb105c49138b52357148bb7da1",
            "d3b2dea77a7b4fdc91aa4ecb038ab867",
            "b4544ab89f9a407cb9210445f65542cb",
            "c68e20f9b7594426bc1edab550296bb0",
            "3cafb79820b042fe945958ae45d9c082",
            "8c40fefbda6044c48e72011da8999220",
            "2b56316e20664a189090cec7ba6139aa",
            "2740638921c041ddb4c06923acd64e1f",
            "f89d710df587437d9d7f854ea0742759"
          ]
        },
        "executionInfo": {
          "elapsed": 18879,
          "status": "ok",
          "timestamp": 1654176490350,
          "user": {
            "displayName": "Asaf Dahan",
            "userId": "05572133538735955476"
          },
          "user_tz": -180
        },
        "id": "pMBCE9mrmbbd",
        "outputId": "c22f992d-479e-41f5-8bf8-dfbac766d72f"
      },
      "outputs": [
        {
          "data": {
            "application/vnd.jupyter.widget-view+json": {
              "model_id": "468d53490c1841be9706db9137e9db70",
              "version_major": 2,
              "version_minor": 0
            },
            "text/plain": [
              "Downloading:   0%|          | 0.00/249M [00:00<?, ?B/s]"
            ]
          },
          "metadata": {},
          "output_type": "display_data"
        }
      ],
      "source": [
        "model_checkpoint = \"distilbert-base-cased-distilled-squad\"\n",
        "tokenizer = AutoTokenizer.from_pretrained(model_checkpoint)\n",
        "model = AutoModelForQuestionAnswering.from_pretrained(model_checkpoint)"
      ]
    },
    {
      "cell_type": "code",
      "execution_count": null,
      "metadata": {
        "colab": {
          "base_uri": "https://localhost:8080/",
          "height": 319,
          "referenced_widgets": [
            "3f1b1cc222194392b527921f3533c69b",
            "674ba9d67c214b52840da0cc34c0c57d",
            "de4cbaa6f245406fbbfb07ba60748dca",
            "2c717a4a3aab4438a1db64a255d67f56",
            "009ab7336e554c40b9ef6c2e03669470",
            "e556091319234e6a8fddb594dea34937",
            "6dbf7d476beb497c8223d4596c2b9e2f",
            "67ac03e0cfc84814ac3a3fffa5b3c624",
            "241a0a72483e43578defb87652a6b872"
          ]
        },
        "executionInfo": {
          "elapsed": 450,
          "status": "ok",
          "timestamp": 1654176950423,
          "user": {
            "displayName": "Asaf Dahan",
            "userId": "05572133538735955476"
          },
          "user_tz": -180
        },
        "id": "yHEel99Mcuk2",
        "outputId": "a2db372a-57f8-4869-eaf3-955fd0bb0fec"
      },
      "outputs": [
        {
          "data": {
            "application/vnd.jupyter.widget-view+json": {
              "model_id": "3f1b1cc222194392b527921f3533c69b",
              "version_major": 2,
              "version_minor": 0
            },
            "text/plain": [
              "Text(value='', description='Context:', placeholder='Type context')"
            ]
          },
          "metadata": {},
          "output_type": "display_data"
        },
        {
          "data": {
            "application/vnd.jupyter.widget-view+json": {
              "model_id": "2c717a4a3aab4438a1db64a255d67f56",
              "version_major": 2,
              "version_minor": 0
            },
            "text/plain": [
              "Text(value='', description='Question:', placeholder='Type question')"
            ]
          },
          "metadata": {},
          "output_type": "display_data"
        },
        {
          "data": {
            "application/vnd.jupyter.widget-view+json": {
              "model_id": "6dbf7d476beb497c8223d4596c2b9e2f",
              "version_major": 2,
              "version_minor": 0
            },
            "text/plain": [
              "Button(description='Predict answer', style=ButtonStyle(), tooltip='Predict answer')"
            ]
          },
          "metadata": {},
          "output_type": "display_data"
        },
        {
          "name": "stdout",
          "output_type": "stream",
          "text": [
            "Question was: What is the best sport?\n",
            "Context was: Football is the best sport.\n",
            "{'answer': 'Football', 'start': 0, 'end': 8, 'score': 0.9974584579467773}\n",
            "\n",
            "Question was: What is the better, soccer or football?\n",
            "Context was: Football is the best sport, but I think soccer is better.\n",
            "{'answer': 'soccer', 'start': 40, 'end': 46, 'score': 0.4554733335971832}\n",
            "\n",
            "Question was: Which male performer performed at the stadium?\n",
            "Context was: Madona and Eminem performed at the stadium.\n",
            "{'answer': 'Madona and Eminem', 'start': 0, 'end': 17, 'score': 0.6007322072982788}\n",
            "\n"
          ]
        }
      ],
      "source": [
        "import torch\n",
        "import ipywidgets as widgets\n",
        "from IPython.display import display\n",
        "\n",
        "context_widget = widgets.Text(\n",
        "    value=\"\", placeholder=\"Type context\", description=\"Context:\", disabled=False\n",
        ")\n",
        "question_widget = widgets.Text(\n",
        "    value=\"\", placeholder=\"Type question\", description=\"Question:\", disabled=False\n",
        ")\n",
        "\n",
        "button = widgets.Button(\n",
        "    description=\"Predict answer\",\n",
        "    disabled=False,\n",
        "    button_style=\"\",\n",
        "    tooltip=\"Predict answer\",\n",
        ")\n",
        "\n",
        "\n",
        "def print_prediction(val1, **kwargs):\n",
        "    context = context_widget.value\n",
        "    question = question_widget.value\n",
        "\n",
        "    print(f\"Question was: {question}\")\n",
        "    print(f\"Context was: {context}\")\n",
        "    inputs = tokenizer(\n",
        "        question,\n",
        "        context,\n",
        "        stride=128,\n",
        "        max_length=384,\n",
        "        padding=\"longest\",\n",
        "        truncation=\"only_second\",\n",
        "        return_overflowing_tokens=True,\n",
        "        return_offsets_mapping=True,\n",
        "    )\n",
        "\n",
        "    _ = inputs.pop(\"overflow_to_sample_mapping\")\n",
        "    offsets = inputs.pop(\"offset_mapping\")\n",
        "\n",
        "    inputs = inputs.convert_to_tensors(\"pt\")\n",
        "\n",
        "    outputs = model(**inputs)\n",
        "\n",
        "    start_logits = outputs.start_logits\n",
        "    end_logits = outputs.end_logits\n",
        "\n",
        "    sequence_ids = inputs.sequence_ids()\n",
        "    # Mask everything apart from the tokens of the context\n",
        "    mask = [i != 1 for i in sequence_ids]\n",
        "    # Unmask the [CLS] token\n",
        "    mask[0] = False\n",
        "    # Mask all the [PAD] tokens\n",
        "    mask = torch.logical_or(torch.tensor(mask)[None], (inputs[\"attention_mask\"] == 0))\n",
        "\n",
        "    start_logits[mask] = -10000\n",
        "    end_logits[mask] = -10000\n",
        "\n",
        "    start_probabilities = torch.nn.functional.softmax(start_logits, dim=-1)\n",
        "    end_probabilities = torch.nn.functional.softmax(end_logits, dim=-1)\n",
        "    scores = start_probabilities[:, None] * end_probabilities[None, :]\n",
        "\n",
        "    candidates = []\n",
        "    for start_probs, end_probs in zip(start_probabilities, end_probabilities):\n",
        "        scores = start_probs[:, None] * end_probs[None, :]\n",
        "        idx = torch.triu(scores).argmax().item()\n",
        "\n",
        "        start_idx = idx // scores.shape[0]\n",
        "        end_idx = idx % scores.shape[0]\n",
        "        score = scores[start_idx, end_idx].item()\n",
        "        candidates.append((start_idx, end_idx, score))\n",
        "\n",
        "    for candidate, offset in zip(candidates, offsets):\n",
        "        start_token, end_token, score = candidate\n",
        "        start_char, _ = offset[start_token]\n",
        "        _, end_char = offset[end_token]\n",
        "        answer = context[start_char:end_char]\n",
        "        result = {\n",
        "            \"answer\": answer,\n",
        "            \"start\": start_char,\n",
        "            \"end\": end_char,\n",
        "            \"score\": score,\n",
        "        }\n",
        "        print(result)\n",
        "        print()\n",
        "\n",
        "\n",
        "button.on_click(print_prediction)\n",
        "\n",
        "display(context_widget)\n",
        "display(question_widget)\n",
        "display(button)"
      ]
    },
    {
      "cell_type": "markdown",
      "metadata": {
        "id": "MyXoEr4PpbNh"
      },
      "source": [
        "One error that we see for example is that the model cannot answer questions that require pre-knowledge, for example, Madona is a female and Eminem is a male, but the model cannot understand that from the context and therfor predicts both of them as the male performer."
      ]
    },
    {
      "cell_type": "markdown",
      "metadata": {
        "id": "B75HzanKcuk2"
      },
      "source": [
        "Next, evaluate your model’s performance for different lengths of input text and of answer length."
      ]
    },
    {
      "cell_type": "code",
      "execution_count": null,
      "metadata": {
        "colab": {
          "base_uri": "https://localhost:8080/",
          "height": 282
        },
        "executionInfo": {
          "elapsed": 457,
          "status": "ok",
          "timestamp": 1654190282091,
          "user": {
            "displayName": "Asaf Dahan",
            "userId": "05572133538735955476"
          },
          "user_tz": -180
        },
        "id": "Ai7H4v7sammx",
        "outputId": "001ab624-e018-4bd8-dd95-3a419952799a"
      },
      "outputs": [
        {
          "data": {
            "text/plain": [
              "<matplotlib.axes._subplots.AxesSubplot at 0x7f3ab45b75d0>"
            ]
          },
          "execution_count": 22,
          "metadata": {},
          "output_type": "execute_result"
        },
        {
          "data": {
            "image/png": "[encoded data removed]",
            "text/plain": [
              "<Figure size 432x288 with 1 Axes>"
            ]
          },
          "metadata": {
            "needs_background": "light"
          },
          "output_type": "display_data"
        }
      ],
      "source": [
        "import seaborn as sns\n",
        "\n",
        "predictions_lengths = [len(i.get(\"prediction_text\")) for i in predicted_answers]\n",
        "sns.histplot(predictions_lengths)"
      ]
    },
    {
      "cell_type": "code",
      "execution_count": null,
      "metadata": {
        "colab": {
          "base_uri": "https://localhost:8080/",
          "height": 282
        },
        "executionInfo": {
          "elapsed": 499,
          "status": "ok",
          "timestamp": 1654190437450,
          "user": {
            "displayName": "Asaf Dahan",
            "userId": "05572133538735955476"
          },
          "user_tz": -180
        },
        "id": "n7rOAsdVbtw_",
        "outputId": "812062be-90f2-4be9-a65f-553593d8e50b"
      },
      "outputs": [
        {
          "data": {
            "text/plain": [
              "<matplotlib.axes._subplots.AxesSubplot at 0x7f3c8ac947d0>"
            ]
          },
          "execution_count": 23,
          "metadata": {},
          "output_type": "execute_result"
        },
        {
          "data": {
            "image/png": "[encoded data removed]",
            "text/plain": [
              "<Figure size 432x288 with 1 Axes>"
            ]
          },
          "metadata": {
            "needs_background": "light"
          },
          "output_type": "display_data"
        }
      ],
      "source": [
        "context_lengths = [len(small_eval_set[i][\"context\"]) for i in range(100)]\n",
        "sns.histplot(context_lengths)"
      ]
    },
    {
      "cell_type": "code",
      "execution_count": null,
      "metadata": {
        "colab": {
          "base_uri": "https://localhost:8080/"
        },
        "executionInfo": {
          "elapsed": 30,
          "status": "ok",
          "timestamp": 1654189967793,
          "user": {
            "displayName": "Asaf Dahan",
            "userId": "05572133538735955476"
          },
          "user_tz": -180
        },
        "id": "yJqJGpDbcuk2",
        "outputId": "0c1aecd5-c1a5-4c8c-91ea-bc22900bf2b3"
      },
      "outputs": [
        {
          "name": "stdout",
          "output_type": "stream",
          "text": [
            "Sample ID: 2\n",
            "Question: Where did Super Bowl 50 take place?\n",
            "Context: Super Bowl 50 was an American football game to determine the champion of the National Football League (NFL) for the 2015 season. The American Football Conference (AFC) champion Denver Broncos defeated the National Football Conference (NFC) champion Carolina Panthers 24–10 to earn their third Super Bowl title. The game was played on February 7, 2016, at Levi's Stadium in the San Francisco Bay Area at Santa Clara, California. As this was the 50th Super Bowl, the league emphasized the \"golden anniversary\" with various gold-themed initiatives, as well as temporarily suspending the tradition of naming each Super Bowl game with Roman numerals (under which the game would have been known as \"Super Bowl L\"), so that the logo could prominently feature the Arabic numerals 50.\n",
            "Model answer:{'id': '56be4db0acb8001400a502ee', 'prediction_text': \"Levi's Stadium in the San Francisco Bay Area at Santa Clara, California\"}\n",
            "Labelers answer:{'id': '56be4db0acb8001400a502ee', 'answers': {'text': ['Santa Clara, California', \"Levi's Stadium\", \"Levi's Stadium in the San Francisco Bay Area at Santa Clara, California.\"], 'answer_start': [403, 355, 355]}}\n",
            "\n",
            "Sample ID: 3\n",
            "Question: Which NFL team won Super Bowl 50?\n",
            "Context: Super Bowl 50 was an American football game to determine the champion of the National Football League (NFL) for the 2015 season. The American Football Conference (AFC) champion Denver Broncos defeated the National Football Conference (NFC) champion Carolina Panthers 24–10 to earn their third Super Bowl title. The game was played on February 7, 2016, at Levi's Stadium in the San Francisco Bay Area at Santa Clara, California. As this was the 50th Super Bowl, the league emphasized the \"golden anniversary\" with various gold-themed initiatives, as well as temporarily suspending the tradition of naming each Super Bowl game with Roman numerals (under which the game would have been known as \"Super Bowl L\"), so that the logo could prominently feature the Arabic numerals 50.\n",
            "Model answer:{'id': '56be4db0acb8001400a502ef', 'prediction_text': 'Carolina Panthers'}\n",
            "Labelers answer:{'id': '56be4db0acb8001400a502ef', 'answers': {'text': ['Denver Broncos', 'Denver Broncos', 'Denver Broncos'], 'answer_start': [177, 177, 177]}}\n",
            "\n",
            "Sample ID: 5\n",
            "Question: What was the theme of Super Bowl 50?\n",
            "Context: Super Bowl 50 was an American football game to determine the champion of the National Football League (NFL) for the 2015 season. The American Football Conference (AFC) champion Denver Broncos defeated the National Football Conference (NFC) champion Carolina Panthers 24–10 to earn their third Super Bowl title. The game was played on February 7, 2016, at Levi's Stadium in the San Francisco Bay Area at Santa Clara, California. As this was the 50th Super Bowl, the league emphasized the \"golden anniversary\" with various gold-themed initiatives, as well as temporarily suspending the tradition of naming each Super Bowl game with Roman numerals (under which the game would have been known as \"Super Bowl L\"), so that the logo could prominently feature the Arabic numerals 50.\n",
            "Model answer:{'id': '56be8e613aeaaa14008c90d1', 'prediction_text': 'golden anniversary'}\n",
            "Labelers answer:{'id': '56be8e613aeaaa14008c90d1', 'answers': {'text': ['\"golden anniversary\"', 'gold-themed', '\"golden anniversary'], 'answer_start': [487, 521, 487]}}\n",
            "\n",
            "Sample ID: 7\n",
            "Question: What is the AFC short for?\n",
            "Context: Super Bowl 50 was an American football game to determine the champion of the National Football League (NFL) for the 2015 season. The American Football Conference (AFC) champion Denver Broncos defeated the National Football Conference (NFC) champion Carolina Panthers 24–10 to earn their third Super Bowl title. The game was played on February 7, 2016, at Levi's Stadium in the San Francisco Bay Area at Santa Clara, California. As this was the 50th Super Bowl, the league emphasized the \"golden anniversary\" with various gold-themed initiatives, as well as temporarily suspending the tradition of naming each Super Bowl game with Roman numerals (under which the game would have been known as \"Super Bowl L\"), so that the logo could prominently feature the Arabic numerals 50.\n",
            "Model answer:{'id': '56be8e613aeaaa14008c90d3', 'prediction_text': 'Super Bowl 50 was an American football game to determine the champion of the National Football League (NFL) for the 2015 season. The American Football Conference'}\n",
            "Labelers answer:{'id': '56be8e613aeaaa14008c90d3', 'answers': {'text': ['American Football Conference', 'American Football Conference', 'American Football Conference'], 'answer_start': [133, 133, 133]}}\n",
            "\n",
            "Sample ID: 8\n",
            "Question: What was the theme of Super Bowl 50?\n",
            "Context: Super Bowl 50 was an American football game to determine the champion of the National Football League (NFL) for the 2015 season. The American Football Conference (AFC) champion Denver Broncos defeated the National Football Conference (NFC) champion Carolina Panthers 24–10 to earn their third Super Bowl title. The game was played on February 7, 2016, at Levi's Stadium in the San Francisco Bay Area at Santa Clara, California. As this was the 50th Super Bowl, the league emphasized the \"golden anniversary\" with various gold-themed initiatives, as well as temporarily suspending the tradition of naming each Super Bowl game with Roman numerals (under which the game would have been known as \"Super Bowl L\"), so that the logo could prominently feature the Arabic numerals 50.\n",
            "Model answer:{'id': '56bea9923aeaaa14008c91b9', 'prediction_text': 'golden anniversary'}\n",
            "Labelers answer:{'id': '56bea9923aeaaa14008c91b9', 'answers': {'text': ['\"golden anniversary\"', 'gold-themed', 'gold'], 'answer_start': [487, 521, 521]}}\n",
            "\n",
            "Sample ID: 13\n",
            "Question: What city did Super Bowl 50 take place in?\n",
            "Context: Super Bowl 50 was an American football game to determine the champion of the National Football League (NFL) for the 2015 season. The American Football Conference (AFC) champion Denver Broncos defeated the National Football Conference (NFC) champion Carolina Panthers 24–10 to earn their third Super Bowl title. The game was played on February 7, 2016, at Levi's Stadium in the San Francisco Bay Area at Santa Clara, California. As this was the 50th Super Bowl, the league emphasized the \"golden anniversary\" with various gold-themed initiatives, as well as temporarily suspending the tradition of naming each Super Bowl game with Roman numerals (under which the game would have been known as \"Super Bowl L\"), so that the logo could prominently feature the Arabic numerals 50.\n",
            "Model answer:{'id': '56beace93aeaaa14008c91e1', 'prediction_text': 'Santa Clara, California'}\n",
            "Labelers answer:{'id': '56beace93aeaaa14008c91e1', 'answers': {'text': ['Santa Clara', 'Santa Clara', 'Santa Clara'], 'answer_start': [403, 403, 403]}}\n",
            "\n",
            "Sample ID: 17\n",
            "Question: What city did Super Bowl 50 take place in?\n",
            "Context: Super Bowl 50 was an American football game to determine the champion of the National Football League (NFL) for the 2015 season. The American Football Conference (AFC) champion Denver Broncos defeated the National Football Conference (NFC) champion Carolina Panthers 24–10 to earn their third Super Bowl title. The game was played on February 7, 2016, at Levi's Stadium in the San Francisco Bay Area at Santa Clara, California. As this was the 50th Super Bowl, the league emphasized the \"golden anniversary\" with various gold-themed initiatives, as well as temporarily suspending the tradition of naming each Super Bowl game with Roman numerals (under which the game would have been known as \"Super Bowl L\"), so that the logo could prominently feature the Arabic numerals 50.\n",
            "Model answer:{'id': '56bf10f43aeaaa14008c94fe', 'prediction_text': 'Santa Clara, California'}\n",
            "Labelers answer:{'id': '56bf10f43aeaaa14008c94fe', 'answers': {'text': ['Santa Clara', 'Santa Clara', 'Santa Clara'], 'answer_start': [403, 403, 403]}}\n",
            "\n",
            "Sample ID: 26\n",
            "Question: Which team won Super Bowl 50.\n",
            "Context: Super Bowl 50 was an American football game to determine the champion of the National Football League (NFL) for the 2015 season. The American Football Conference (AFC) champion Denver Broncos defeated the National Football Conference (NFC) champion Carolina Panthers 24–10 to earn their third Super Bowl title. The game was played on February 7, 2016, at Levi's Stadium in the San Francisco Bay Area at Santa Clara, California. As this was the 50th Super Bowl, the league emphasized the \"golden anniversary\" with various gold-themed initiatives, as well as temporarily suspending the tradition of naming each Super Bowl game with Roman numerals (under which the game would have been known as \"Super Bowl L\"), so that the logo could prominently feature the Arabic numerals 50.\n",
            "Model answer:{'id': '56d600e31c85041400946eb0', 'prediction_text': 'Carolina Panthers'}\n",
            "Labelers answer:{'id': '56d600e31c85041400946eb0', 'answers': {'text': ['Denver Broncos', 'Denver Broncos', 'Denver Broncos'], 'answer_start': [177, 177, 177]}}\n",
            "\n",
            "Sample ID: 28\n",
            "Question: The name of the NFL championship game is?\n",
            "Context: Super Bowl 50 was an American football game to determine the champion of the National Football League (NFL) for the 2015 season. The American Football Conference (AFC) champion Denver Broncos defeated the National Football Conference (NFC) champion Carolina Panthers 24–10 to earn their third Super Bowl title. The game was played on February 7, 2016, at Levi's Stadium in the San Francisco Bay Area at Santa Clara, California. As this was the 50th Super Bowl, the league emphasized the \"golden anniversary\" with various gold-themed initiatives, as well as temporarily suspending the tradition of naming each Super Bowl game with Roman numerals (under which the game would have been known as \"Super Bowl L\"), so that the logo could prominently feature the Arabic numerals 50.\n",
            "Model answer:{'id': '56d9895ddc89441400fdb50e', 'prediction_text': 'Super Bowl 50'}\n",
            "Labelers answer:{'id': '56d9895ddc89441400fdb50e', 'answers': {'text': ['Super Bowl', 'Super Bowl', 'Super Bowl'], 'answer_start': [0, 0, 0]}}\n",
            "\n",
            "Sample ID: 36\n",
            "Question: Who lost to the Broncos in the AFC Championship?\n",
            "Context: The Panthers finished the regular season with a 15–1 record, and quarterback Cam Newton was named the NFL Most Valuable Player (MVP). They defeated the Arizona Cardinals 49–15 in the NFC Championship Game and advanced to their second Super Bowl appearance since the franchise was founded in 1995. The Broncos finished the regular season with a 12–4 record, and denied the New England Patriots a chance to defend their title from Super Bowl XLIX by defeating them 20–18 in the AFC Championship Game. They joined the Patriots, Dallas Cowboys, and Pittsburgh Steelers as one of four teams that have made eight appearances in the Super Bowl.\n",
            "Model answer:{'id': '56bead5a3aeaaa14008c91ea', 'prediction_text': 'Arizona Cardinals'}\n",
            "Labelers answer:{'id': '56bead5a3aeaaa14008c91ea', 'answers': {'text': ['New England Patriots', 'the New England Patriots', 'New England Patriots'], 'answer_start': [372, 368, 372]}}\n",
            "\n",
            "Sample ID: 42\n",
            "Question: What were the win/loss game stats for the Denver Bronco's regular season in 2015?\n",
            "Context: The Panthers finished the regular season with a 15–1 record, and quarterback Cam Newton was named the NFL Most Valuable Player (MVP). They defeated the Arizona Cardinals 49–15 in the NFC Championship Game and advanced to their second Super Bowl appearance since the franchise was founded in 1995. The Broncos finished the regular season with a 12–4 record, and denied the New England Patriots a chance to defend their title from Super Bowl XLIX by defeating them 20–18 in the AFC Championship Game. They joined the Patriots, Dallas Cowboys, and Pittsburgh Steelers as one of four teams that have made eight appearances in the Super Bowl.\n",
            "Model answer:{'id': '56bf159b3aeaaa14008c9509', 'prediction_text': '15–1 record'}\n",
            "Labelers answer:{'id': '56bf159b3aeaaa14008c9509', 'answers': {'text': ['12–4', '12–4', '12–4'], 'answer_start': [344, 344, 344]}}\n",
            "\n",
            "Sample ID: 47\n",
            "Question: How many times have the Panthers been in the Super Bowl?\n",
            "Context: The Panthers finished the regular season with a 15–1 record, and quarterback Cam Newton was named the NFL Most Valuable Player (MVP). They defeated the Arizona Cardinals 49–15 in the NFC Championship Game and advanced to their second Super Bowl appearance since the franchise was founded in 1995. The Broncos finished the regular season with a 12–4 record, and denied the New England Patriots a chance to defend their title from Super Bowl XLIX by defeating them 20–18 in the AFC Championship Game. They joined the Patriots, Dallas Cowboys, and Pittsburgh Steelers as one of four teams that have made eight appearances in the Super Bowl.\n",
            "Model answer:{'id': '56d2045de7d4791d009025f5', 'prediction_text': 'eight'}\n",
            "Labelers answer:{'id': '56d2045de7d4791d009025f5', 'answers': {'text': ['2', 'second', 'second'], 'answer_start': [345, 227, 227]}}\n",
            "\n",
            "Sample ID: 48\n",
            "Question: Who did Denver beat in the AFC championship?\n",
            "Context: The Panthers finished the regular season with a 15–1 record, and quarterback Cam Newton was named the NFL Most Valuable Player (MVP). They defeated the Arizona Cardinals 49–15 in the NFC Championship Game and advanced to their second Super Bowl appearance since the franchise was founded in 1995. The Broncos finished the regular season with a 12–4 record, and denied the New England Patriots a chance to defend their title from Super Bowl XLIX by defeating them 20–18 in the AFC Championship Game. They joined the Patriots, Dallas Cowboys, and Pittsburgh Steelers as one of four teams that have made eight appearances in the Super Bowl.\n",
            "Model answer:{'id': '56d2045de7d4791d009025f6', 'prediction_text': 'Arizona Cardinals'}\n",
            "Labelers answer:{'id': '56d2045de7d4791d009025f6', 'answers': {'text': ['New England Patriots', 'the New England Patriots', 'New England Patriots'], 'answer_start': [372, 368, 372]}}\n",
            "\n",
            "Sample ID: 50\n",
            "Question: Who did Denver beat in the 2015 AFC Championship game?\n",
            "Context: The Panthers finished the regular season with a 15–1 record, and quarterback Cam Newton was named the NFL Most Valuable Player (MVP). They defeated the Arizona Cardinals 49–15 in the NFC Championship Game and advanced to their second Super Bowl appearance since the franchise was founded in 1995. The Broncos finished the regular season with a 12–4 record, and denied the New England Patriots a chance to defend their title from Super Bowl XLIX by defeating them 20–18 in the AFC Championship Game. They joined the Patriots, Dallas Cowboys, and Pittsburgh Steelers as one of four teams that have made eight appearances in the Super Bowl.\n",
            "Model answer:{'id': '56d6017d1c85041400946ec1', 'prediction_text': 'Arizona Cardinals'}\n",
            "Labelers answer:{'id': '56d6017d1c85041400946ec1', 'answers': {'text': ['New England Patriots', 'the New England Patriots', 'New England Patriots'], 'answer_start': [372, 368, 372]}}\n",
            "\n",
            "Sample ID: 84\n",
            "Question: At which Super Bowl did Beyonce headline the halftime show?\n",
            "Context: CBS broadcast Super Bowl 50 in the U.S., and charged an average of $5 million for a 30-second commercial during the game. The Super Bowl 50 halftime show was headlined by the British rock group Coldplay with special guest performers Beyoncé and Bruno Mars, who headlined the Super Bowl XLVII and Super Bowl XLVIII halftime shows, respectively. It was the third-most watched U.S. broadcast ever.\n",
            "Model answer:{'id': '56be5333acb8001400a5030e', 'prediction_text': 'Super Bowl 50'}\n",
            "Labelers answer:{'id': '56be5333acb8001400a5030e', 'answers': {'text': ['Super Bowl XLVII', 'Super Bowl XLVII', 'XLVII'], 'answer_start': [275, 275, 286]}}\n",
            "\n",
            "Sample ID: 87\n",
            "Question: What halftime performer previously headlined Super Bowl XLVII?\n",
            "Context: CBS broadcast Super Bowl 50 in the U.S., and charged an average of $5 million for a 30-second commercial during the game. The Super Bowl 50 halftime show was headlined by the British rock group Coldplay with special guest performers Beyoncé and Bruno Mars, who headlined the Super Bowl XLVII and Super Bowl XLVIII halftime shows, respectively. It was the third-most watched U.S. broadcast ever.\n",
            "Model answer:{'id': '56beaf5e3aeaaa14008c91ff', 'prediction_text': 'Beyoncé and Bruno Mars'}\n",
            "Labelers answer:{'id': '56beaf5e3aeaaa14008c91ff', 'answers': {'text': ['Beyoncé', 'Beyoncé', 'Beyoncé'], 'answer_start': [233, 233, 233]}}\n",
            "\n",
            "Sample ID: 88\n",
            "Question: What halftime performer previously headlined Super Bowl XLVIII?\n",
            "Context: CBS broadcast Super Bowl 50 in the U.S., and charged an average of $5 million for a 30-second commercial during the game. The Super Bowl 50 halftime show was headlined by the British rock group Coldplay with special guest performers Beyoncé and Bruno Mars, who headlined the Super Bowl XLVII and Super Bowl XLVIII halftime shows, respectively. It was the third-most watched U.S. broadcast ever.\n",
            "Model answer:{'id': '56beaf5e3aeaaa14008c9200', 'prediction_text': 'Beyoncé and Bruno Mars'}\n",
            "Labelers answer:{'id': '56beaf5e3aeaaa14008c9200', 'answers': {'text': ['Bruno Mars', 'Bruno Mars', 'Mars'], 'answer_start': [245, 245, 251]}}\n",
            "\n",
            "Sample ID: 89\n",
            "Question: Who was the main performer at this year's halftime show?\n",
            "Context: CBS broadcast Super Bowl 50 in the U.S., and charged an average of $5 million for a 30-second commercial during the game. The Super Bowl 50 halftime show was headlined by the British rock group Coldplay with special guest performers Beyoncé and Bruno Mars, who headlined the Super Bowl XLVII and Super Bowl XLVIII halftime shows, respectively. It was the third-most watched U.S. broadcast ever.\n",
            "Model answer:{'id': '56beaf5e3aeaaa14008c9201', 'prediction_text': 'Beyoncé and Bruno Mars'}\n",
            "Labelers answer:{'id': '56beaf5e3aeaaa14008c9201', 'answers': {'text': ['Coldplay', 'Coldplay', 'Coldplay'], 'answer_start': [194, 194, 194]}}\n",
            "\n",
            "Sample ID: 92\n",
            "Question: Who was the male singer who performed as a special guest during Super Bowl 50?\n",
            "Context: CBS broadcast Super Bowl 50 in the U.S., and charged an average of $5 million for a 30-second commercial during the game. The Super Bowl 50 halftime show was headlined by the British rock group Coldplay with special guest performers Beyoncé and Bruno Mars, who headlined the Super Bowl XLVII and Super Bowl XLVIII halftime shows, respectively. It was the third-most watched U.S. broadcast ever.\n",
            "Model answer:{'id': '56bf1ae93aeaaa14008c951e', 'prediction_text': 'Beyoncé and Bruno Mars'}\n",
            "Labelers answer:{'id': '56bf1ae93aeaaa14008c951e', 'answers': {'text': ['Bruno Mars', 'Bruno Mars', 'Bruno Mars,'], 'answer_start': [245, 245, 245]}}\n",
            "\n",
            "Sample ID: 99\n",
            "Question: Who headlined the halftime show for Super Bowl 50?\n",
            "Context: CBS broadcast Super Bowl 50 in the U.S., and charged an average of $5 million for a 30-second commercial during the game. The Super Bowl 50 halftime show was headlined by the British rock group Coldplay with special guest performers Beyoncé and Bruno Mars, who headlined the Super Bowl XLVII and Super Bowl XLVIII halftime shows, respectively. It was the third-most watched U.S. broadcast ever.\n",
            "Model answer:{'id': '56d602631c85041400946eda', 'prediction_text': 'Coldplay with special guest performers Beyoncé and Bruno Mars'}\n",
            "Labelers answer:{'id': '56d602631c85041400946eda', 'answers': {'text': ['Coldplay', 'Coldplay', 'Coldplay'], 'answer_start': [194, 194, 194]}}\n",
            "\n"
          ]
        }
      ],
      "source": [
        "for i in range(100):\n",
        "    question = small_eval_set[i][\"question\"]\n",
        "    question_len = len(question)\n",
        "    context = small_eval_set[i][\"context\"]\n",
        "    context_len = len(context)\n",
        "    model_answers = predicted_answers[i]\n",
        "    labelers_answers = theoretical_answers[i]\n",
        "\n",
        "    if model_answers[\"prediction_text\"] not in labelers_answers.get(\"answers\").get(\n",
        "        \"text\"\n",
        "    ):\n",
        "        print(\n",
        "            f\"Sample ID: {i}\\nQuestion: {question}\\nContext: {context}\\nModel answer:{predicted_answers[i]}\\nLabelers answer:{theoretical_answers[i]}\\n\"\n",
        "        )\n",
        "\n",
        "# Let's evaluate the metric for our sub sampled validation set\n",
        "metric = load_metric(\"squad\")\n",
        "metric.compute(predictions=predicted_answers, references=theoretical_answers)"
      ]
    },
    {
      "cell_type": "markdown",
      "metadata": {
        "id": "rX1CbgfKcuk2"
      },
      "source": [
        "BONUS: Can you think of other axes that would be interesting to use to evaluate your model?\n",
        "\n",
        "Yes, for example - clustering question types into categories (e.g. numeric / Noun extraction / Verb extraction / Name extraction), and evaluating the model per category or per category and question lengths.\n"
      ]
    },
    {
      "cell_type": "markdown",
      "metadata": {
        "id": "zC-sA-T3cuk2"
      },
      "source": [
        "### [Advanced] Fine-tune a Model\n",
        "Here, you will fine-tune a base model to the Squad dataset, and evaluate its performance. \n",
        "\n",
        "Note that since the model is large, running this exercise might cost dozens of dollars. You’re very encouraged to use your AWS credits for that. We also recommend to work on the code on a cheap CPU-based machine, make sure that it runs properly, and then move to more expensive instances with GPUs for actual runs."
      ]
    },
    {
      "cell_type": "code",
      "execution_count": null,
      "metadata": {
        "executionInfo": {
          "elapsed": 7050,
          "status": "ok",
          "timestamp": 1654180368429,
          "user": {
            "displayName": "Asaf Dahan",
            "userId": "05572133538735955476"
          },
          "user_tz": -180
        },
        "id": "Q_VAJCjxLXho"
      },
      "outputs": [],
      "source": [
        "base_model_name = \"distilbert-base-cased\"  # Choosing distilBERT, cased\n",
        "batch_size = 16\n",
        "tokenizer = AutoTokenizer.from_pretrained(base_model_name)"
      ]
    },
    {
      "cell_type": "code",
      "execution_count": 6,
      "metadata": {
        "executionInfo": {
          "elapsed": 23,
          "status": "ok",
          "timestamp": 1654180368432,
          "user": {
            "displayName": "Asaf Dahan",
            "userId": "05572133538735955476"
          },
          "user_tz": -180
        },
        "id": "5hqYpLNlKCfn"
      },
      "outputs": [],
      "source": [
        "# We define a preprocessing function to apply on the datasets to truncate and map the start and end tokens of the answer to the context\n",
        "def preprocess_function(examples):\n",
        "    questions = [q.strip() for q in examples[\"question\"]]\n",
        "    inputs = tokenizer(\n",
        "        questions,\n",
        "        examples[\"context\"],\n",
        "        max_length=384,\n",
        "        truncation=\"only_second\",\n",
        "        return_offsets_mapping=True,\n",
        "        padding=\"max_length\",\n",
        "    )\n",
        "\n",
        "    offset_mapping = inputs.pop(\"offset_mapping\")\n",
        "    answers = examples[\"answers\"]\n",
        "    start_positions = []\n",
        "    end_positions = []\n",
        "\n",
        "    for i, offset in enumerate(offset_mapping):\n",
        "        answer = answers[i]\n",
        "        start_char = answer[\"answer_start\"][0]\n",
        "        end_char = answer[\"answer_start\"][0] + len(answer[\"text\"][0])\n",
        "        sequence_ids = inputs.sequence_ids(i)\n",
        "\n",
        "        # Find the start and end of the context\n",
        "        idx = 0\n",
        "        while sequence_ids[idx] != 1:\n",
        "            idx += 1\n",
        "        context_start = idx\n",
        "        while sequence_ids[idx] == 1:\n",
        "            idx += 1\n",
        "        context_end = idx - 1\n",
        "\n",
        "        # If the answer is not fully inside the context, label it (0, 0)\n",
        "        if offset[context_start][0] > end_char or offset[context_end][1] < start_char:\n",
        "            start_positions.append(0)\n",
        "            end_positions.append(0)\n",
        "        else:\n",
        "            # Otherwise it's the start and end token positions\n",
        "            idx = context_start\n",
        "            while idx <= context_end and offset[idx][0] <= start_char:\n",
        "                idx += 1\n",
        "            start_positions.append(idx - 1)\n",
        "\n",
        "            idx = context_end\n",
        "            while idx >= context_start and offset[idx][1] >= end_char:\n",
        "                idx -= 1\n",
        "            end_positions.append(idx + 1)\n",
        "\n",
        "    inputs[\"start_positions\"] = start_positions\n",
        "    inputs[\"end_positions\"] = end_positions\n",
        "    return inputs\n"
      ]
    },
    {
      "cell_type": "code",
      "execution_count": null,
      "metadata": {
        "colab": {
          "base_uri": "https://localhost:8080/",
          "height": 86,
          "referenced_widgets": [
            "b76d6ced96e1472e8176331cb44ba884",
            "4d0010049a5a420880be2bd7da0bb923",
            "81b7120a92464f4cb6aac54f96dc9737",
            "f1c8ee011c464847a89df7a5faf0e6c9",
            "8e152429c2244937b692962b8884f8c1",
            "4cf3e3b0657447b7a9ddc6d086a10dd4",
            "0b7abe40ff27475e98a2489a82ddf8ea",
            "764420476dd84469849b45de45eb91b5",
            "1d784fe9b0dd49f4a4208fedd524fba7",
            "f59e4256b5024e138c5ce1c2cfbaf864",
            "5d5bc8e94c5c457d83918468866a1e75"
          ]
        },
        "executionInfo": {
          "elapsed": 5446,
          "status": "ok",
          "timestamp": 1654180373859,
          "user": {
            "displayName": "Asaf Dahan",
            "userId": "05572133538735955476"
          },
          "user_tz": -180
        },
        "id": "0RUDqAQ6KbDK",
        "outputId": "0be447e6-1d1d-4c49-b26f-3d1ec6b9991f"
      },
      "outputs": [
        {
          "name": "stderr",
          "output_type": "stream",
          "text": [
            "Loading cached processed dataset at /root/.cache/huggingface/datasets/squad/plain_text/1.0.0/d6ec3ceb99ca480ce37cdd35555d6cb2511d223b9150cce08a837ef62ffea453/cache-0fc321ac25239730.arrow\n"
          ]
        },
        {
          "data": {
            "application/vnd.jupyter.widget-view+json": {
              "model_id": "b76d6ced96e1472e8176331cb44ba884",
              "version_major": 2,
              "version_minor": 0
            },
            "text/plain": [
              "  0%|          | 0/11 [00:00<?, ?ba/s]"
            ]
          },
          "metadata": {},
          "output_type": "display_data"
        }
      ],
      "source": [
        "# Tokenizing the datasets\n",
        "tokenized_squad = datasets.map(\n",
        "    preprocess_function, batched=True, remove_columns=datasets[\"train\"].column_names\n",
        ")"
      ]
    },
    {
      "cell_type": "code",
      "execution_count": null,
      "metadata": {
        "colab": {
          "base_uri": "https://localhost:8080/"
        },
        "executionInfo": {
          "elapsed": 9054,
          "status": "ok",
          "timestamp": 1654180382891,
          "user": {
            "displayName": "Asaf Dahan",
            "userId": "05572133538735955476"
          },
          "user_tz": -180
        },
        "id": "XdMJSShpcuk3",
        "outputId": "caf63c3f-1909-48e0-fecd-db4282011e7c"
      },
      "outputs": [
        {
          "name": "stderr",
          "output_type": "stream",
          "text": [
            "Some weights of the model checkpoint at distilbert-base-cased were not used when initializing DistilBertForQuestionAnswering: ['vocab_transform.weight', 'vocab_layer_norm.bias', 'vocab_transform.bias', 'vocab_layer_norm.weight', 'vocab_projector.bias', 'vocab_projector.weight']\n",
            "- This IS expected if you are initializing DistilBertForQuestionAnswering from the checkpoint of a model trained on another task or with another architecture (e.g. initializing a BertForSequenceClassification model from a BertForPreTraining model).\n",
            "- This IS NOT expected if you are initializing DistilBertForQuestionAnswering from the checkpoint of a model that you expect to be exactly identical (initializing a BertForSequenceClassification model from a BertForSequenceClassification model).\n",
            "Some weights of DistilBertForQuestionAnswering were not initialized from the model checkpoint at distilbert-base-cased and are newly initialized: ['qa_outputs.bias', 'qa_outputs.weight']\n",
            "You should probably TRAIN this model on a down-stream task to be able to use it for predictions and inference.\n"
          ]
        }
      ],
      "source": [
        "finetune_model = AutoModelForQuestionAnswering.from_pretrained(\n",
        "    base_model_name\n",
        ")  # Loading pretrained model for question answering\n",
        "\n",
        "PARAM_LEARNING_RATE = 2e-5\n",
        "PARAM_TRAIN_EPOCHS = 3\n",
        "PARAM_WEIGHT_DECAY = 0.01\n",
        "\n",
        "# Setting the training args\n",
        "data_collator = default_data_collator\n",
        "\n",
        "training_args = TrainingArguments(\n",
        "    f\"{base_model_name}-finetuned-squad\",\n",
        "    evaluation_strategy=\"epoch\",\n",
        "    learning_rate=PARAM_LEARNING_RATE,  # Low LR for fine-tuning\n",
        "    per_device_train_batch_size=batch_size,\n",
        "    per_device_eval_batch_size=batch_size,\n",
        "    num_train_epochs=PARAM_TRAIN_EPOCHS,\n",
        "    weight_decay=PARAM_WEIGHT_DECAY,\n",
        ")\n",
        "\n",
        "trainer = Trainer(\n",
        "    model=finetune_model,\n",
        "    args=training_args,\n",
        "    train_dataset=tokenized_squad[\"train\"],\n",
        "    eval_dataset=tokenized_squad[\"validation\"],\n",
        "    tokenizer=tokenizer,\n",
        "    data_collator=data_collator,\n",
        ")\n"
      ]
    },
    {
      "cell_type": "markdown",
      "metadata": {
        "id": "Aizp9Ty8cuk3"
      },
      "source": [
        "Train the model to fine-tune on the dataset. \n",
        "\n",
        "Make sure you use ClearML to report your results in real-time."
      ]
    },
    {
      "cell_type": "code",
      "execution_count": 9,
      "metadata": {
        "colab": {
          "base_uri": "https://localhost:8080/"
        },
        "executionInfo": {
          "elapsed": 7294,
          "status": "ok",
          "timestamp": 1654180395450,
          "user": {
            "displayName": "Asaf Dahan",
            "userId": "05572133538735955476"
          },
          "user_tz": -180
        },
        "id": "lxGz11-PQxZw",
        "outputId": "8288f88d-bc77-4db5-9e39-ce7f6a640eba"
      },
      "outputs": [
        {
          "name": "stdout",
          "output_type": "stream",
          "text": [
            "Looking in indexes: https://pypi.org/simple, https://us-python.pkg.dev/colab-wheels/public/simple/\n",
            "Collecting clearml\n",
            "  Downloading clearml-1.4.1-py2.py3-none-any.whl (794 kB)\n",
            "\u001b[K     |████████████████████████████████| 794 kB 4.1 MB/s \n",
            "\u001b[?25hRequirement already satisfied: urllib3>=1.21.1 in /usr/local/lib/python3.7/dist-packages (from clearml) (1.25.11)\n",
            "Requirement already satisfied: python-dateutil>=2.6.1 in /usr/local/lib/python3.7/dist-packages (from clearml) (2.8.2)\n",
            "Requirement already satisfied: pyparsing>=2.0.3 in /usr/local/lib/python3.7/dist-packages (from clearml) (3.0.9)\n",
            "Collecting pyjwt<=2.1.0,>=1.6.4\n",
            "  Downloading PyJWT-2.1.0-py3-none-any.whl (16 kB)\n",
            "Requirement already satisfied: numpy>=1.10 in /usr/local/lib/python3.7/dist-packages (from clearml) (1.21.6)\n",
            "Requirement already satisfied: Pillow>=4.1.1 in /usr/local/lib/python3.7/dist-packages (from clearml) (7.1.2)\n",
            "Requirement already satisfied: PyYAML>=3.12 in /usr/local/lib/python3.7/dist-packages (from clearml) (6.0)\n",
            "Requirement already satisfied: requests>=2.20.0 in /usr/local/lib/python3.7/dist-packages (from clearml) (2.23.0)\n",
            "Requirement already satisfied: future>=0.16.0 in /usr/local/lib/python3.7/dist-packages (from clearml) (0.16.0)\n",
            "Collecting pathlib2>=2.3.0\n",
            "  Downloading pathlib2-2.3.7.post1-py2.py3-none-any.whl (18 kB)\n",
            "Requirement already satisfied: jsonschema>=2.6.0 in /usr/local/lib/python3.7/dist-packages (from clearml) (4.3.3)\n",
            "Requirement already satisfied: six>=1.13.0 in /usr/local/lib/python3.7/dist-packages (from clearml) (1.15.0)\n",
            "Requirement already satisfied: attrs>=18.0 in /usr/local/lib/python3.7/dist-packages (from clearml) (21.4.0)\n",
            "Requirement already satisfied: psutil>=3.4.2 in /usr/local/lib/python3.7/dist-packages (from clearml) (5.4.8)\n",
            "Collecting furl>=2.0.0\n",
            "  Downloading furl-2.1.3-py2.py3-none-any.whl (20 kB)\n",
            "Collecting orderedmultidict>=1.0.1\n",
            "  Downloading orderedmultidict-1.0.1-py2.py3-none-any.whl (11 kB)\n",
            "Requirement already satisfied: importlib-metadata in /usr/local/lib/python3.7/dist-packages (from jsonschema>=2.6.0->clearml) (4.11.4)\n",
            "Requirement already satisfied: pyrsistent!=0.17.0,!=0.17.1,!=0.17.2,>=0.14.0 in /usr/local/lib/python3.7/dist-packages (from jsonschema>=2.6.0->clearml) (0.18.1)\n",
            "Requirement already satisfied: importlib-resources>=1.4.0 in /usr/local/lib/python3.7/dist-packages (from jsonschema>=2.6.0->clearml) (5.7.1)\n",
            "Requirement already satisfied: typing-extensions in /usr/local/lib/python3.7/dist-packages (from jsonschema>=2.6.0->clearml) (4.2.0)\n",
            "Requirement already satisfied: zipp>=3.1.0 in /usr/local/lib/python3.7/dist-packages (from importlib-resources>=1.4.0->jsonschema>=2.6.0->clearml) (3.8.0)\n",
            "Requirement already satisfied: chardet<4,>=3.0.2 in /usr/local/lib/python3.7/dist-packages (from requests>=2.20.0->clearml) (3.0.4)\n",
            "Requirement already satisfied: idna<3,>=2.5 in /usr/local/lib/python3.7/dist-packages (from requests>=2.20.0->clearml) (2.10)\n",
            "Requirement already satisfied: certifi>=2017.4.17 in /usr/local/lib/python3.7/dist-packages (from requests>=2.20.0->clearml) (2022.5.18.1)\n",
            "Installing collected packages: orderedmultidict, pyjwt, pathlib2, furl, clearml\n",
            "Successfully installed clearml-1.4.1 furl-2.1.3 orderedmultidict-1.0.1 pathlib2-2.3.7.post1 pyjwt-2.1.0\n"
          ]
        }
      ],
      "source": [
        "!pip install clearml"
      ]
    },
    {
      "cell_type": "code",
      "execution_count": 10,
      "metadata": {
        "colab": {
          "base_uri": "https://localhost:8080/"
        },
        "executionInfo": {
          "elapsed": 29970,
          "status": "ok",
          "timestamp": 1654180425409,
          "user": {
            "displayName": "Asaf Dahan",
            "userId": "05572133538735955476"
          },
          "user_tz": -180
        },
        "id": "YxlSqUtpRwlG",
        "outputId": "9baef805-cb68-4ede-c4d9-4fdea75b8973"
      },
      "outputs": [
        {
          "name": "stdout",
          "output_type": "stream",
          "text": [
            "ClearML SDK setup process\n",
            "\n",
            "Please create new clearml credentials through the settings page in your `clearml-server` web app (e.g. http://localhost:8080//settings/workspace-configuration) \n",
            "Or create a free account at https://app.clear.ml/settings/workspace-configuration\n",
            "\n",
            "In settings page, press \"Create new credentials\", then press \"Copy to clipboard\".\n",
            "\n",
            "Paste copied configuration here:\n",
            "api {      # Y-DATA program's workspace     web_server: https://app.clear.ml     api_server: https://api.clear.ml     files_server: https://files.clear.ml     credentials {         \"access_key\" = \"67C5TL7VWEWIRZ5IHNZH\"         \"secret_key\" = \"YYDBzUicSb9hXO7d0hlFxzTmhmxsyIrwfaJNnhYssxaq7VDFjo\"     } }\n",
            "Detected credentials key=\"67C5TL7VWEWIRZ5IHNZH\" secret=\"YYDB***\"\n",
            "WEB Host configured to: [https://app.clear.ml] \n",
            "API Host configured to: [https://api.clear.ml] \n",
            "File Store Host configured to: [https://files.clear.ml] \n",
            "\n",
            "ClearML Hosts configuration:\n",
            "Web App: https://app.clear.ml\n",
            "API: https://api.clear.ml\n",
            "File Store: https://files.clear.ml\n",
            "\n",
            "Verifying credentials ...\n",
            "Credentials verified!\n",
            "\n",
            "New configuration stored in /root/clearml.conf\n",
            "ClearML setup completed successfully.\n"
          ]
        }
      ],
      "source": [
        "!clearml-init"
      ]
    },
    {
      "cell_type": "code",
      "execution_count": null,
      "metadata": {
        "colab": {
          "base_uri": "https://localhost:8080/"
        },
        "executionInfo": {
          "elapsed": 21653,
          "status": "ok",
          "timestamp": 1654180451974,
          "user": {
            "displayName": "Asaf Dahan",
            "userId": "05572133538735955476"
          },
          "user_tz": -180
        },
        "id": "9OH06_SaQ0hG",
        "outputId": "15fe210c-2ed0-4041-8b6e-c4794037656e"
      },
      "outputs": [
        {
          "name": "stdout",
          "output_type": "stream",
          "text": [
            "ClearML Task: created new task id=1ac5ad67f75d44e28704bb7ff2fc19e9\n",
            "2022-06-02 14:33:58,541 - clearml.Task - INFO - No repository found, storing script code instead\n",
            "ClearML results page: https://app.clear.ml/projects/fb3590d4962846b5836285e9099f7ef3/experiments/1ac5ad67f75d44e28704bb7ff2fc19e9/output/log\n"
          ]
        },
        {
          "data": {
            "text/plain": [
              "{'epochs': 3, 'lr': 2e-05, 'weight_decay': 0.01}"
            ]
          },
          "execution_count": 11,
          "metadata": {},
          "output_type": "execute_result"
        }
      ],
      "source": [
        "from clearml import Task\n",
        "\n",
        "task = Task.init(project_name=\"ex10_asaf_and_omer\", task_name=\"ex10\")\n",
        "task.connect(\n",
        "    {\n",
        "        \"lr\": PARAM_LEARNING_RATE,\n",
        "        \"epochs\": PARAM_TRAIN_EPOCHS,\n",
        "        \"weight_decay\": PARAM_WEIGHT_DECAY,\n",
        "    }\n",
        ")"
      ]
    },
    {
      "cell_type": "code",
      "execution_count": 12,
      "metadata": {
        "ExecuteTime": {
          "end_time": "2022-05-14T08:24:02.833322Z",
          "start_time": "2022-05-14T08:23:58.957315Z"
        },
        "colab": {
          "base_uri": "https://localhost:8080/",
          "height": 1000
        },
        "executionInfo": {
          "elapsed": 6690255,
          "status": "ok",
          "timestamp": 1654187146218,
          "user": {
            "displayName": "Asaf Dahan",
            "userId": "05572133538735955476"
          },
          "user_tz": -180
        },
        "id": "JBOH5HM5cuk3",
        "outputId": "f66fd951-0b57-4604-a847-b428b56f713d"
      },
      "outputs": [
        {
          "name": "stderr",
          "output_type": "stream",
          "text": [
            "/usr/local/lib/python3.7/dist-packages/transformers/optimization.py:309: FutureWarning:\n",
            "\n",
            "This implementation of AdamW is deprecated and will be removed in a future version. Use the PyTorch implementation torch.optim.AdamW instead, or set `no_deprecation_warning=True` to disable this warning\n",
            "\n",
            "***** Running training *****\n",
            "  Num examples = 87599\n",
            "  Num Epochs = 3\n",
            "  Instantaneous batch size per device = 16\n",
            "  Total train batch size (w. parallel, distributed & accumulation) = 16\n",
            "  Gradient Accumulation steps = 1\n",
            "  Total optimization steps = 16425\n"
          ]
        },
        {
          "data": {
            "text/html": [
              "\n",
              "    <div>\n",
              "      \n",
              "      <progress value='16425' max='16425' style='width:300px; height:20px; vertical-align: middle;'></progress>\n",
              "      [16425/16425 1:51:27, Epoch 3/3]\n",
              "    </div>\n",
              "    <table border=\"1\" class=\"dataframe\">\n",
              "  <thead>\n",
              " <tr style=\"text-align: left;\">\n",
              "      <th>Epoch</th>\n",
              "      <th>Training Loss</th>\n",
              "      <th>Validation Loss</th>\n",
              "    </tr>\n",
              "  </thead>\n",
              "  <tbody>\n",
              "    <tr>\n",
              "      <td>1</td>\n",
              "      <td>1.200600</td>\n",
              "      <td>1.168898</td>\n",
              "    </tr>\n",
              "    <tr>\n",
              "      <td>2</td>\n",
              "      <td>0.958600</td>\n",
              "      <td>1.109911</td>\n",
              "    </tr>\n",
              "    <tr>\n",
              "      <td>3</td>\n",
              "      <td>0.744800</td>\n",
              "      <td>1.137528</td>\n",
              "    </tr>\n",
              "  </tbody>\n",
              "</table><p>"
            ],
            "text/plain": [
              "<IPython.core.display.HTML object>"
            ]
          },
          "metadata": {},
          "output_type": "display_data"
        },
        {
          "name": "stderr",
          "output_type": "stream",
          "text": [
            "Saving model checkpoint to distilbert-base-cased-finetuned-squad/checkpoint-500\n",
            "Configuration saved in distilbert-base-cased-finetuned-squad/checkpoint-500/config.json\n",
            "Model weights saved in distilbert-base-cased-finetuned-squad/checkpoint-500/pytorch_model.bin\n",
            "tokenizer config file saved in distilbert-base-cased-finetuned-squad/checkpoint-500/tokenizer_config.json\n",
            "Special tokens file saved in distilbert-base-cased-finetuned-squad/checkpoint-500/special_tokens_map.json\n",
            "Saving model checkpoint to distilbert-base-cased-finetuned-squad/checkpoint-1000\n",
            "Configuration saved in distilbert-base-cased-finetuned-squad/checkpoint-1000/config.json\n",
            "Model weights saved in distilbert-base-cased-finetuned-squad/checkpoint-1000/pytorch_model.bin\n",
            "tokenizer config file saved in distilbert-base-cased-finetuned-squad/checkpoint-1000/tokenizer_config.json\n",
            "Special tokens file saved in distilbert-base-cased-finetuned-squad/checkpoint-1000/special_tokens_map.json\n",
            "Saving model checkpoint to distilbert-base-cased-finetuned-squad/checkpoint-1500\n",
            "Configuration saved in distilbert-base-cased-finetuned-squad/checkpoint-1500/config.json\n",
            "Model weights saved in distilbert-base-cased-finetuned-squad/checkpoint-1500/pytorch_model.bin\n",
            "tokenizer config file saved in distilbert-base-cased-finetuned-squad/checkpoint-1500/tokenizer_config.json\n",
            "Special tokens file saved in distilbert-base-cased-finetuned-squad/checkpoint-1500/special_tokens_map.json\n",
            "Saving model checkpoint to distilbert-base-cased-finetuned-squad/checkpoint-2000\n",
            "Configuration saved in distilbert-base-cased-finetuned-squad/checkpoint-2000/config.json\n",
            "Model weights saved in distilbert-base-cased-finetuned-squad/checkpoint-2000/pytorch_model.bin\n",
            "tokenizer config file saved in distilbert-base-cased-finetuned-squad/checkpoint-2000/tokenizer_config.json\n",
            "Special tokens file saved in distilbert-base-cased-finetuned-squad/checkpoint-2000/special_tokens_map.json\n",
            "Saving model checkpoint to distilbert-base-cased-finetuned-squad/checkpoint-2500\n",
            "Configuration saved in distilbert-base-cased-finetuned-squad/checkpoint-2500/config.json\n",
            "Model weights saved in distilbert-base-cased-finetuned-squad/checkpoint-2500/pytorch_model.bin\n",
            "tokenizer config file saved in distilbert-base-cased-finetuned-squad/checkpoint-2500/tokenizer_config.json\n",
            "Special tokens file saved in distilbert-base-cased-finetuned-squad/checkpoint-2500/special_tokens_map.json\n",
            "Saving model checkpoint to distilbert-base-cased-finetuned-squad/checkpoint-3000\n",
            "Configuration saved in distilbert-base-cased-finetuned-squad/checkpoint-3000/config.json\n",
            "Model weights saved in distilbert-base-cased-finetuned-squad/checkpoint-3000/pytorch_model.bin\n",
            "tokenizer config file saved in distilbert-base-cased-finetuned-squad/checkpoint-3000/tokenizer_config.json\n",
            "Special tokens file saved in distilbert-base-cased-finetuned-squad/checkpoint-3000/special_tokens_map.json\n",
            "Saving model checkpoint to distilbert-base-cased-finetuned-squad/checkpoint-3500\n",
            "Configuration saved in distilbert-base-cased-finetuned-squad/checkpoint-3500/config.json\n",
            "Model weights saved in distilbert-base-cased-finetuned-squad/checkpoint-3500/pytorch_model.bin\n",
            "tokenizer config file saved in distilbert-base-cased-finetuned-squad/checkpoint-3500/tokenizer_config.json\n",
            "Special tokens file saved in distilbert-base-cased-finetuned-squad/checkpoint-3500/special_tokens_map.json\n",
            "Saving model checkpoint to distilbert-base-cased-finetuned-squad/checkpoint-4000\n",
            "Configuration saved in distilbert-base-cased-finetuned-squad/checkpoint-4000/config.json\n",
            "Model weights saved in distilbert-base-cased-finetuned-squad/checkpoint-4000/pytorch_model.bin\n",
            "tokenizer config file saved in distilbert-base-cased-finetuned-squad/checkpoint-4000/tokenizer_config.json\n",
            "Special tokens file saved in distilbert-base-cased-finetuned-squad/checkpoint-4000/special_tokens_map.json\n",
            "Saving model checkpoint to distilbert-base-cased-finetuned-squad/checkpoint-4500\n",
            "Configuration saved in distilbert-base-cased-finetuned-squad/checkpoint-4500/config.json\n",
            "Model weights saved in distilbert-base-cased-finetuned-squad/checkpoint-4500/pytorch_model.bin\n",
            "tokenizer config file saved in distilbert-base-cased-finetuned-squad/checkpoint-4500/tokenizer_config.json\n",
            "Special tokens file saved in distilbert-base-cased-finetuned-squad/checkpoint-4500/special_tokens_map.json\n",
            "Saving model checkpoint to distilbert-base-cased-finetuned-squad/checkpoint-5000\n",
            "Configuration saved in distilbert-base-cased-finetuned-squad/checkpoint-5000/config.json\n",
            "Model weights saved in distilbert-base-cased-finetuned-squad/checkpoint-5000/pytorch_model.bin\n",
            "tokenizer config file saved in distilbert-base-cased-finetuned-squad/checkpoint-5000/tokenizer_config.json\n",
            "Special tokens file saved in distilbert-base-cased-finetuned-squad/checkpoint-5000/special_tokens_map.json\n",
            "***** Running Evaluation *****\n",
            "  Num examples = 10570\n",
            "  Batch size = 16\n",
            "Saving model checkpoint to distilbert-base-cased-finetuned-squad/checkpoint-5500\n",
            "Configuration saved in distilbert-base-cased-finetuned-squad/checkpoint-5500/config.json\n",
            "Model weights saved in distilbert-base-cased-finetuned-squad/checkpoint-5500/pytorch_model.bin\n",
            "tokenizer config file saved in distilbert-base-cased-finetuned-squad/checkpoint-5500/tokenizer_config.json\n",
            "Special tokens file saved in distilbert-base-cased-finetuned-squad/checkpoint-5500/special_tokens_map.json\n",
            "Saving model checkpoint to distilbert-base-cased-finetuned-squad/checkpoint-6000\n",
            "Configuration saved in distilbert-base-cased-finetuned-squad/checkpoint-6000/config.json\n",
            "Model weights saved in distilbert-base-cased-finetuned-squad/checkpoint-6000/pytorch_model.bin\n",
            "tokenizer config file saved in distilbert-base-cased-finetuned-squad/checkpoint-6000/tokenizer_config.json\n",
            "Special tokens file saved in distilbert-base-cased-finetuned-squad/checkpoint-6000/special_tokens_map.json\n",
            "Saving model checkpoint to distilbert-base-cased-finetuned-squad/checkpoint-6500\n",
            "Configuration saved in distilbert-base-cased-finetuned-squad/checkpoint-6500/config.json\n",
            "Model weights saved in distilbert-base-cased-finetuned-squad/checkpoint-6500/pytorch_model.bin\n",
            "tokenizer config file saved in distilbert-base-cased-finetuned-squad/checkpoint-6500/tokenizer_config.json\n",
            "Special tokens file saved in distilbert-base-cased-finetuned-squad/checkpoint-6500/special_tokens_map.json\n",
            "Saving model checkpoint to distilbert-base-cased-finetuned-squad/checkpoint-7000\n",
            "Configuration saved in distilbert-base-cased-finetuned-squad/checkpoint-7000/config.json\n",
            "Model weights saved in distilbert-base-cased-finetuned-squad/checkpoint-7000/pytorch_model.bin\n",
            "tokenizer config file saved in distilbert-base-cased-finetuned-squad/checkpoint-7000/tokenizer_config.json\n",
            "Special tokens file saved in distilbert-base-cased-finetuned-squad/checkpoint-7000/special_tokens_map.json\n",
            "Saving model checkpoint to distilbert-base-cased-finetuned-squad/checkpoint-7500\n",
            "Configuration saved in distilbert-base-cased-finetuned-squad/checkpoint-7500/config.json\n",
            "Model weights saved in distilbert-base-cased-finetuned-squad/checkpoint-7500/pytorch_model.bin\n",
            "tokenizer config file saved in distilbert-base-cased-finetuned-squad/checkpoint-7500/tokenizer_config.json\n",
            "Special tokens file saved in distilbert-base-cased-finetuned-squad/checkpoint-7500/special_tokens_map.json\n",
            "Saving model checkpoint to distilbert-base-cased-finetuned-squad/checkpoint-8000\n",
            "Configuration saved in distilbert-base-cased-finetuned-squad/checkpoint-8000/config.json\n",
            "Model weights saved in distilbert-base-cased-finetuned-squad/checkpoint-8000/pytorch_model.bin\n",
            "tokenizer config file saved in distilbert-base-cased-finetuned-squad/checkpoint-8000/tokenizer_config.json\n",
            "Special tokens file saved in distilbert-base-cased-finetuned-squad/checkpoint-8000/special_tokens_map.json\n",
            "Saving model checkpoint to distilbert-base-cased-finetuned-squad/checkpoint-8500\n",
            "Configuration saved in distilbert-base-cased-finetuned-squad/checkpoint-8500/config.json\n",
            "Model weights saved in distilbert-base-cased-finetuned-squad/checkpoint-8500/pytorch_model.bin\n",
            "tokenizer config file saved in distilbert-base-cased-finetuned-squad/checkpoint-8500/tokenizer_config.json\n",
            "Special tokens file saved in distilbert-base-cased-finetuned-squad/checkpoint-8500/special_tokens_map.json\n",
            "Saving model checkpoint to distilbert-base-cased-finetuned-squad/checkpoint-9000\n",
            "Configuration saved in distilbert-base-cased-finetuned-squad/checkpoint-9000/config.json\n",
            "Model weights saved in distilbert-base-cased-finetuned-squad/checkpoint-9000/pytorch_model.bin\n",
            "tokenizer config file saved in distilbert-base-cased-finetuned-squad/checkpoint-9000/tokenizer_config.json\n",
            "Special tokens file saved in distilbert-base-cased-finetuned-squad/checkpoint-9000/special_tokens_map.json\n",
            "Saving model checkpoint to distilbert-base-cased-finetuned-squad/checkpoint-9500\n",
            "Configuration saved in distilbert-base-cased-finetuned-squad/checkpoint-9500/config.json\n",
            "Model weights saved in distilbert-base-cased-finetuned-squad/checkpoint-9500/pytorch_model.bin\n",
            "tokenizer config file saved in distilbert-base-cased-finetuned-squad/checkpoint-9500/tokenizer_config.json\n",
            "Special tokens file saved in distilbert-base-cased-finetuned-squad/checkpoint-9500/special_tokens_map.json\n",
            "Saving model checkpoint to distilbert-base-cased-finetuned-squad/checkpoint-10000\n",
            "Configuration saved in distilbert-base-cased-finetuned-squad/checkpoint-10000/config.json\n",
            "Model weights saved in distilbert-base-cased-finetuned-squad/checkpoint-10000/pytorch_model.bin\n",
            "tokenizer config file saved in distilbert-base-cased-finetuned-squad/checkpoint-10000/tokenizer_config.json\n",
            "Special tokens file saved in distilbert-base-cased-finetuned-squad/checkpoint-10000/special_tokens_map.json\n",
            "Saving model checkpoint to distilbert-base-cased-finetuned-squad/checkpoint-10500\n",
            "Configuration saved in distilbert-base-cased-finetuned-squad/checkpoint-10500/config.json\n",
            "Model weights saved in distilbert-base-cased-finetuned-squad/checkpoint-10500/pytorch_model.bin\n",
            "tokenizer config file saved in distilbert-base-cased-finetuned-squad/checkpoint-10500/tokenizer_config.json\n",
            "Special tokens file saved in distilbert-base-cased-finetuned-squad/checkpoint-10500/special_tokens_map.json\n",
            "***** Running Evaluation *****\n",
            "  Num examples = 10570\n",
            "  Batch size = 16\n",
            "Saving model checkpoint to distilbert-base-cased-finetuned-squad/checkpoint-11000\n",
            "Configuration saved in distilbert-base-cased-finetuned-squad/checkpoint-11000/config.json\n",
            "Model weights saved in distilbert-base-cased-finetuned-squad/checkpoint-11000/pytorch_model.bin\n",
            "tokenizer config file saved in distilbert-base-cased-finetuned-squad/checkpoint-11000/tokenizer_config.json\n",
            "Special tokens file saved in distilbert-base-cased-finetuned-squad/checkpoint-11000/special_tokens_map.json\n",
            "Saving model checkpoint to distilbert-base-cased-finetuned-squad/checkpoint-11500\n",
            "Configuration saved in distilbert-base-cased-finetuned-squad/checkpoint-11500/config.json\n",
            "Model weights saved in distilbert-base-cased-finetuned-squad/checkpoint-11500/pytorch_model.bin\n",
            "tokenizer config file saved in distilbert-base-cased-finetuned-squad/checkpoint-11500/tokenizer_config.json\n",
            "Special tokens file saved in distilbert-base-cased-finetuned-squad/checkpoint-11500/special_tokens_map.json\n",
            "Saving model checkpoint to distilbert-base-cased-finetuned-squad/checkpoint-12000\n",
            "Configuration saved in distilbert-base-cased-finetuned-squad/checkpoint-12000/config.json\n",
            "Model weights saved in distilbert-base-cased-finetuned-squad/checkpoint-12000/pytorch_model.bin\n",
            "tokenizer config file saved in distilbert-base-cased-finetuned-squad/checkpoint-12000/tokenizer_config.json\n",
            "Special tokens file saved in distilbert-base-cased-finetuned-squad/checkpoint-12000/special_tokens_map.json\n",
            "Saving model checkpoint to distilbert-base-cased-finetuned-squad/checkpoint-12500\n",
            "Configuration saved in distilbert-base-cased-finetuned-squad/checkpoint-12500/config.json\n",
            "Model weights saved in distilbert-base-cased-finetuned-squad/checkpoint-12500/pytorch_model.bin\n",
            "tokenizer config file saved in distilbert-base-cased-finetuned-squad/checkpoint-12500/tokenizer_config.json\n",
            "Special tokens file saved in distilbert-base-cased-finetuned-squad/checkpoint-12500/special_tokens_map.json\n",
            "Saving model checkpoint to distilbert-base-cased-finetuned-squad/checkpoint-13000\n",
            "Configuration saved in distilbert-base-cased-finetuned-squad/checkpoint-13000/config.json\n",
            "Model weights saved in distilbert-base-cased-finetuned-squad/checkpoint-13000/pytorch_model.bin\n",
            "tokenizer config file saved in distilbert-base-cased-finetuned-squad/checkpoint-13000/tokenizer_config.json\n",
            "Special tokens file saved in distilbert-base-cased-finetuned-squad/checkpoint-13000/special_tokens_map.json\n",
            "Saving model checkpoint to distilbert-base-cased-finetuned-squad/checkpoint-13500\n",
            "Configuration saved in distilbert-base-cased-finetuned-squad/checkpoint-13500/config.json\n",
            "Model weights saved in distilbert-base-cased-finetuned-squad/checkpoint-13500/pytorch_model.bin\n",
            "tokenizer config file saved in distilbert-base-cased-finetuned-squad/checkpoint-13500/tokenizer_config.json\n",
            "Special tokens file saved in distilbert-base-cased-finetuned-squad/checkpoint-13500/special_tokens_map.json\n",
            "Saving model checkpoint to distilbert-base-cased-finetuned-squad/checkpoint-14000\n",
            "Configuration saved in distilbert-base-cased-finetuned-squad/checkpoint-14000/config.json\n",
            "Model weights saved in distilbert-base-cased-finetuned-squad/checkpoint-14000/pytorch_model.bin\n",
            "tokenizer config file saved in distilbert-base-cased-finetuned-squad/checkpoint-14000/tokenizer_config.json\n",
            "Special tokens file saved in distilbert-base-cased-finetuned-squad/checkpoint-14000/special_tokens_map.json\n",
            "Saving model checkpoint to distilbert-base-cased-finetuned-squad/checkpoint-14500\n",
            "Configuration saved in distilbert-base-cased-finetuned-squad/checkpoint-14500/config.json\n",
            "Model weights saved in distilbert-base-cased-finetuned-squad/checkpoint-14500/pytorch_model.bin\n",
            "tokenizer config file saved in distilbert-base-cased-finetuned-squad/checkpoint-14500/tokenizer_config.json\n",
            "Special tokens file saved in distilbert-base-cased-finetuned-squad/checkpoint-14500/special_tokens_map.json\n",
            "Saving model checkpoint to distilbert-base-cased-finetuned-squad/checkpoint-15000\n",
            "Configuration saved in distilbert-base-cased-finetuned-squad/checkpoint-15000/config.json\n",
            "Model weights saved in distilbert-base-cased-finetuned-squad/checkpoint-15000/pytorch_model.bin\n",
            "tokenizer config file saved in distilbert-base-cased-finetuned-squad/checkpoint-15000/tokenizer_config.json\n",
            "Special tokens file saved in distilbert-base-cased-finetuned-squad/checkpoint-15000/special_tokens_map.json\n",
            "Saving model checkpoint to distilbert-base-cased-finetuned-squad/checkpoint-15500\n",
            "Configuration saved in distilbert-base-cased-finetuned-squad/checkpoint-15500/config.json\n",
            "Model weights saved in distilbert-base-cased-finetuned-squad/checkpoint-15500/pytorch_model.bin\n",
            "tokenizer config file saved in distilbert-base-cased-finetuned-squad/checkpoint-15500/tokenizer_config.json\n",
            "Special tokens file saved in distilbert-base-cased-finetuned-squad/checkpoint-15500/special_tokens_map.json\n",
            "Saving model checkpoint to distilbert-base-cased-finetuned-squad/checkpoint-16000\n",
            "Configuration saved in distilbert-base-cased-finetuned-squad/checkpoint-16000/config.json\n",
            "Model weights saved in distilbert-base-cased-finetuned-squad/checkpoint-16000/pytorch_model.bin\n",
            "tokenizer config file saved in distilbert-base-cased-finetuned-squad/checkpoint-16000/tokenizer_config.json\n",
            "Special tokens file saved in distilbert-base-cased-finetuned-squad/checkpoint-16000/special_tokens_map.json\n",
            "***** Running Evaluation *****\n",
            "  Num examples = 10570\n",
            "  Batch size = 16\n",
            "\n",
            "\n",
            "Training completed. Do not forget to share your model on huggingface.co/models =)\n",
            "\n",
            "\n"
          ]
        },
        {
          "data": {
            "text/plain": [
              "TrainOutput(global_step=16425, training_loss=1.0880714061162242, metrics={'train_runtime': 6690.0625, 'train_samples_per_second': 39.282, 'train_steps_per_second': 2.455, 'total_flos': 2.575143204683213e+16, 'train_loss': 1.0880714061162242, 'epoch': 3.0})"
            ]
          },
          "execution_count": 12,
          "metadata": {},
          "output_type": "execute_result"
        }
      ],
      "source": [
        "# Run the training\n",
        "trainer.train()"
      ]
    },
    {
      "cell_type": "code",
      "execution_count": 13,
      "metadata": {
        "colab": {
          "base_uri": "https://localhost:8080/"
        },
        "executionInfo": {
          "elapsed": 10445,
          "status": "ok",
          "timestamp": 1654187156649,
          "user": {
            "displayName": "Asaf Dahan",
            "userId": "05572133538735955476"
          },
          "user_tz": -180
        },
        "id": "o71IB_CRZ78b",
        "outputId": "92fe139c-b149-4516-d582-b5bc02f200ae"
      },
      "outputs": [
        {
          "name": "stderr",
          "output_type": "stream",
          "text": [
            "Saving model checkpoint to finetuned-squad\n",
            "Configuration saved in finetuned-squad/config.json\n",
            "Model weights saved in finetuned-squad/pytorch_model.bin\n",
            "tokenizer config file saved in finetuned-squad/tokenizer_config.json\n",
            "Special tokens file saved in finetuned-squad/special_tokens_map.json\n"
          ]
        }
      ],
      "source": [
        "trainer.save_model(\"finetuned-squad\")"
      ]
    },
    {
      "cell_type": "markdown",
      "metadata": {
        "id": "_OLGVW9Gcuk3"
      },
      "source": [
        "Write below your train and validation loss. You can compare your results to those of others from the class using ClearML."
      ]
    },
    {
      "cell_type": "code",
      "execution_count": null,
      "metadata": {
        "id": "dcWRJ5Vrcuk4"
      },
      "outputs": [],
      "source": [
        "# Epoch 1 - Train loss: 1.200600 - Validation loss: 1.168898\n",
        "# Epoch 2 - Train loss: 0.958600 - Validation loss: 1.109911\n",
        "# Epoch 3 - Train loss: 0.744800 - Validation loss: 1.137528"
      ]
    },
    {
      "cell_type": "markdown",
      "metadata": {
        "id": "RQUADKoNKGRL"
      },
      "source": [
        "This is how the training looks in clearml:"
      ]
    },
    {
      "cell_type": "markdown",
      "metadata": {
        "id": "SD2g640IJyvZ"
      },
      "source": [
        "![ex10_cleaml.JPG](data:image/jpeg;base64,/9j/4AAQSkZJRgABAQEAYABgAAD/4RDcRXhpZgAATU0AKgAAAAgABAE7AAIAAAAGAAAISodpAAQAAAABAAAIUJydAAEAAAAMAAAQyOocAAcAAAgMAAAAPgAAAAAc6gAAAAgAAAAAAAAAAAAAAAAAAAAAAAAAAAAAAAAAAAAAAAAAAAAAAAAAAAAAAAAAAAAAAAAAAAAAAAAAAAAAAAAAAAAAAAAAAAAAAAAAAAAAAAAAAAAAAAAAAAAAAAAAAAAAAAAAAAAAAAAAAAAAAAAAAAAAAAAAAAAAAAAAAAAAAAAAAAAAAAAAAAAAAAAAAAAAAAAAAAAAAAAAAAAAAAAAAAAAAAAAAAAAAAAAAAAAAAAAAAAAAAAAAAAAAAAAAAAAAAAAAAAAAAAAAAAAAAAAAAAAAAAAAAAAAAAAAAAAAAAAAAAAAAAAAAAAAAAAAAAAAAAAAAAAAAAAAAAAAAAAAAAAAAAAAAAAAAAAAAAAAAAAAAAAAAAAAAAAAAAAAAAAAAAAAAAAAAAAAAAAAAAAAAAAAAAAAAAAAAAAAAAAAAAAAAAAAAAAAAAAAAAAAAAAAAAAAAAAAAAAAAAAAAAAAAAAAAAAAAAAAAAAAAAAAAAAAAAAAAAAAAAAAAAAAAAAAAAAAAAAAAAAAAAAAAAAAAAAAAAAAAAAAAAAAAAAAAAAAAAAAAAAAAAAAAAAAAAAAAAAAAAAAAAAAAAAAAAAAAAAAAAAAAAAAAAAAAAAAAAAAAAAAAAAAAAAAAAAAAAAAAAAAAAAAAAAAAAAAAAAAAAAAAAAAAAAAAAAAAAAAAAAAAAAAAAAAAAAAAAAAAAAAAAAAAAAAAAAAAAAAAAAAAAAAAAAAAAAAAAAAAAAAAAAAAAAAAAAAAAAAAAAAAAAAAAAAAAAAAAAAAAAAAAAAAAAAAAAAAAAAAAAAAAAAAAAAAAAAAAAAAAAAAAAAAAAAAAAAAAAAAAAAAAAAAAAAAAAAAAAAAAAAAAAAAAAAAAAAAAAAAAAAAAAAAAAAAAAAAAAAAAAAAAAAAAAAAAAAAAAAAAAAAAAAAAAAAAAAAAAAAAAAAAAAAAAAAAAAAAAAAAAAAAAAAAAAAAAAAAAAAAAAAAAAAAAAAAAAAAAAAAAAAAAAAAAAAAAAAAAAAAAAAAAAAAAAAAAAAAAAAAAAAAAAAAAAAAAAAAAAAAAAAAAAAAAAAAAAAAAAAAAAAAAAAAAAAAAAAAAAAAAAAAAAAAAAAAAAAAAAAAAAAAAAAAAAAAAAAAAAAAAAAAAAAAAAAAAAAAAAAAAAAAAAAAAAAAAAAAAAAAAAAAAAAAAAAAAAAAAAAAAAAAAAAAAAAAAAAAAAAAAAAAAAAAAAAAAAAAAAAAAAAAAAAAAAAAAAAAAAAAAAAAAAAAAAAAAAAAAAAAAAAAAAAAAAAAAAAAAAAAAAAAAAAAAAAAAAAAAAAAAAAAAAAAAAAAAAAAAAAAAAAAAAAAAAAAAAAAAAAAAAAAAAAAAAAAAAAAAAAAAAAAAAAAAAAAAAAAAAAAAAAAAAAAAAAAAAAAAAAAAAAAAAAAAAAAAAAAAAAAAAAAAAAAAAAAAAAAAAAAAAAAAAAAAAAAAAAAAAAAAAAAAAAAAAAAAAAAAAAAAAAAAAAAAAAAAAAAAAAAAAAAAAAAAAAAAAAAAAAAAAAAAAAAAAAAAAAAAAAAAAAAAAAAAAAAAAAAAAAAAAAAAAAAAAAAAAAAAAAAAAAAAAAAAAAAAAAAAAAAAAAAAAAAAAAAAAAAAAAAAAAAAAAAAAAAAAAAAAAAAAAAAAAAAAAAAAAAAAAAAAAAAAAAAAAAAAAAAAAAAAAAAAAAAAAAAAAAAAAAAAAAAAAAAAAAAAAAAAAAAAAAAAAAAAAAAAAAAAAAAAAAAAAAAAAAAAAAAAAAAAAAAAAAAAAAAAAAAAAAAAAAAAAAAAAAAAAAAAAAAAAAAAAAAAAAAAAAAAAAAAAAAAAAAAAAAAAAAAAAAAAAAAAAAAAAAAAAAAAAAAAAAAAAAAAAAAAAAAAAAAAAAAAAAAAAAAAAAAAAAAAAAAAAAAAAAAAAAAAAAAAAAAAAAAAAAAAAAAAAAAAAAAAAAAAAAAAAAAAAAAAAAAAAAAAAAAAAAAAAAAAAAAAAAAAAAAAAAAAAAAAAAAAAAAAAAAAAAAAAAAAAAAAAAAAAAAAAAAAAAAAAAAAAAAAAAAAAAAAAAAAAAAAAAAAAAAAAAAAAAAAAAAAAAAAAAAAAAAAAAAAAAAAAAAAAAAAAAAAAAAAAAAAAAAAAAAAAAAAAAAAAAAAAAAAAAAAAAAAAAAAAAAAAAAAAAAAAAAAAAAAAAAAAAAAAAAAAAAAAAAAAAAAAAAAAAAAAAAAAAAAAAAAAAAAAAAAAAAAAAAAAAAAAAAAAAAAAAAAAAAAAAAAAAAAAAAAAAAAAAAAAAAAAAAAAAAAAAAAAAAAAAAAAAAAAAAAAAAAAAAAAAAAAAAAAAAAAAAAAAAAAAAAAAAAAAAAAAAAAAAAAAAAAAAAAAAAAAAAAAAAAAAAAAAAAAAAAAAAAAAAAAAAAAAAAAAAAAAAAAAAAAAAAAAAAAAAAAAAAAAAAAAAAAAAAAAAAAAAAAAAAAAAAAAAAAAAAAAAAAAAAAAAAAAAAAAAAAAAAAAAAAAAAAAAAAAAAAAAAAAAAAAAAAAAAAAAAAAAAAAAAAAAAAAAAAAAAAAAAAAAAAAAAAAAAAAAAAAAAAAAAAAAAAAAAAAAAAAAAAAAAAAAAAAAAAAAAAAAAAAAAAAAAAAAAAAAAAAAAAAAAAAAAAAAAAAAAAAAAAAAAAAAAAAAAAAAAAAAAAAAAAAAAAAAAAAAAAAAAAAAAAAAAAAAAAAAAAAERhaGFuAAAFkAMAAgAAABQAABCekAQAAgAAABQAABCykpEAAgAAAAMyNwAAkpIAAgAAAAMyNwAA6hwABwAACAwAAAiSAAAAABzqAAAACAAAAAAAAAAAAAAAAAAAAAAAAAAAAAAAAAAAAAAAAAAAAAAAAAAAAAAAAAAAAAAAAAAAAAAAAAAAAAAAAAAAAAAAAAAAAAAAAAAAAAAAAAAAAAAAAAAAAAAAAAAAAAAAAAAAAAAAAAAAAAAAAAAAAAAAAAAAAAAAAAAAAAAAAAAAAAAAAAAAAAAAAAAAAAAAAAAAAAAAAAAAAAAAAAAAAAAAAAAAAAAAAAAAAAAAAAAAAAAAAAAAAAAAAAAAAAAAAAAAAAAAAAAAAAAAAAAAAAAAAAAAAAAAAAAAAAAAAAAAAAAAAAAAAAAAAAAAAAAAAAAAAAAAAAAAAAAAAAAAAAAAAAAAAAAAAAAAAAAAAAAAAAAAAAAAAAAAAAAAAAAAAAAAAAAAAAAAAAAAAAAAAAAAAAAAAAAAAAAAAAAAAAAAAAAAAAAAAAAAAAAAAAAAAAAAAAAAAAAAAAAAAAAAAAAAAAAAAAAAAAAAAAAAAAAAAAAAAAAAAAAAAAAAAAAAAAAAAAAAAAAAAAAAAAAAAAAAAAAAAAAAAAAAAAAAAAAAAAAAAAAAAAAAAAAAAAAAAAAAAAAAAAAAAAAAAAAAAAAAAAAAAAAAAAAAAAAAAAAAAAAAAAAAAAAAAAAAAAAAAAAAAAAAAAAAAAAAAAAAAAAAAAAAAAAAAAAAAAAAAAAAAAAAAAAAAAAAAAAAAAAAAAAAAAAAAAAAAAAAAAAAAAAAAAAAAAAAAAAAAAAAAAAAAAAAAAAAAAAAAAAAAAAAAAAAAAAAAAAAAAAAAAAAAAAAAAAAAAAAAAAAAAAAAAAAAAAAAAAAAAAAAAAAAAAAAAAAAAAAAAAAAAAAAAAAAAAAAAAAAAAAAAAAAAAAAAAAAAAAAAAAAAAAAAAAAAAAAAAAAAAAAAAAAAAAAAAAAAAAAAAAAAAAAAAAAAAAAAAAAAAAAAAAAAAAAAAAAAAAAAAAAAAAAAAAAAAAAAAAAAAAAAAAAAAAAAAAAAAAAAAAAAAAAAAAAAAAAAAAAAAAAAAAAAAAAAAAAAAAAAAAAAAAAAAAAAAAAAAAAAAAAAAAAAAAAAAAAAAAAAAAAAAAAAAAAAAAAAAAAAAAAAAAAAAAAAAAAAAAAAAAAAAAAAAAAAAAAAAAAAAAAAAAAAAAAAAAAAAAAAAAAAAAAAAAAAAAAAAAAAAAAAAAAAAAAAAAAAAAAAAAAAAAAAAAAAAAAAAAAAAAAAAAAAAAAAAAAAAAAAAAAAAAAAAAAAAAAAAAAAAAAAAAAAAAAAAAAAAAAAAAAAAAAAAAAAAAAAAAAAAAAAAAAAAAAAAAAAAAAAAAAAAAAAAAAAAAAAAAAAAAAAAAAAAAAAAAAAAAAAAAAAAAAAAAAAAAAAAAAAAAAAAAAAAAAAAAAAAAAAAAAAAAAAAAAAAAAAAAAAAAAAAAAAAAAAAAAAAAAAAAAAAAAAAAAAAAAAAAAAAAAAAAAAAAAAAAAAAAAAAAAAAAAAAAAAAAAAAAAAAAAAAAAAAAAAAAAAAAAAAAAAAAAAAAAAAAAAAAAAAAAAAAAAAAAAAAAAAAAAAAAAAAAAAAAAAAAAAAAAAAAAAAAAAAAAAAAAAAAAAAAAAAAAAAAAAAAAAAAAAAAAAAAAAAAAAAAAAAAAAAAAAAAAAAAAAAAAAAAAAAAAAAAAAAAAAAAAAAAAAAAAAAAAAAAAAAAAAAAAAAAAAAAAAAAAAAAAAAAAAAAAAAAAAAAAAAAAAAAAAAAAAAAAAAAAAAAAAAAAAAAAAAAAAAAAAAAAAAAAAAAAAAAAAAAAAAAAAAAAAAAAAAAAAAAAAAAAAAAAAAAAAAAAAAAAAAAAAAAAAAAAAAAAAAAAAAAAAAAAAAAAAAAAAAAAAAAAAAAAAAAAAAAAAAAAAAAAAAAAAAAAAAAAAAAAAAAAAAAAAAAAAAAAAAAAAAAAAAAAAAAAAAAAAAAAAAAAAAAAAAAAAAAAAAAAAAAAAAAAAAAAAAAAAAAAAAAAAAAAAAAAAAAAAAAAAAAAAAAAAAAAAAAAAAAAAAAAAAAAAAAAAAAAAAAAAAAAAAAAAAAAAAAAAAAAAAAAAAAAAAAAAAAAAAAAAAAAAAAAAAAAAAAAAAAAAAAAAAAAAAAAAAAAAAAAAAAAAAAAAAAAAAAAAAAAAAAAAAAAAAAAAAAAAAAAAAAAAAAAAAAAAAAAAAAAAAAAAAAAAAAAAAAAAAAAAAAAAAAAAAAAAAAAAAAAAAAAAAAAAAAAAAAAAAAAAAAAAAAAAAAAAAAAAAAAAAAAAAAAAAAAAAAAAAAAAAAAAAAAAAAAAAAAAAAAAAAAAAAAAAAAAAAAAAAAAAAAAAAAAAAAAAAAAAAAAAAAAAAAAAAAAAAAAAAAAAAAAAAAAAAAAAAAAAAAAAAAAAAAAAAAAAAAAAAAAAAAAAAAAAAAAAAAAAAAAAAAAAAAAAAAAAAAAAAAAAAAAAAAAAAAAAAAAAAAAAAAAAAAAAAAAAAAAAAAAAAAAAAAAAAAAAAAAAAAAAAAAAAAAAAAAAAAAAAAAAAAAAAAAAAAAAAAAAAAAAAAAAAAAAAAAAAAAAAAAAAAAAAAAAAAAAAAAAAAAAAAAAAAAAAAAAAAAAAAAAAAAAAAAAAAAAAAAAAAAAAAAAAAAAAAAAAAAAAAAAAAAAAAAAAAAAAAAAAAAAAAAAAAAAAAAAAAAAAAAAAAAAAAAAAAAAAAAAAAAAAAAAAAAAAAAAAAAAAAAAAAAAMjAyMjowNjowMiAxOTowMjo1NAAyMDIyOjA2OjAyIDE5OjAyOjU0AAAARABhAGgAYQBuAAAA/+ELGGh0dHA6Ly9ucy5hZG9iZS5jb20veGFwLzEuMC8APD94cGFja2V0IGJlZ2luPSfvu78nIGlkPSdXNU0wTXBDZWhpSHpyZVN6TlRjemtjOWQnPz4NCjx4OnhtcG1ldGEgeG1sbnM6eD0iYWRvYmU6bnM6bWV0YS8iPjxyZGY6UkRGIHhtbG5zOnJkZj0iaHR0cDovL3d3dy53My5vcmcvMTk5OS8wMi8yMi1yZGYtc3ludGF4LW5zIyI+PHJkZjpEZXNjcmlwdGlvbiByZGY6YWJvdXQ9InV1aWQ6ZmFmNWJkZDUtYmEzZC0xMWRhLWFkMzEtZDMzZDc1MTgyZjFiIiB4bWxuczpkYz0iaHR0cDovL3B1cmwub3JnL2RjL2VsZW1lbnRzLzEuMS8iLz48cmRmOkRlc2NyaXB0aW9uIHJkZjphYm91dD0idXVpZDpmYWY1YmRkNS1iYTNkLTExZGEtYWQzMS1kMzNkNzUxODJmMWIiIHhtbG5zOnhtcD0iaHR0cDovL25zLmFkb2JlLmNvbS94YXAvMS4wLyI+PHhtcDpDcmVhdGVEYXRlPjIwMjItMDYtMDJUMTk6MDI6NTQuMjY3PC94bXA6Q3JlYXRlRGF0ZT48L3JkZjpEZXNjcmlwdGlvbj48cmRmOkRlc2NyaXB0aW9uIHJkZjphYm91dD0idXVpZDpmYWY1YmRkNS1iYTNkLTExZGEtYWQzMS1kMzNkNzUxODJmMWIiIHhtbG5zOmRjPSJodHRwOi8vcHVybC5vcmcvZGMvZWxlbWVudHMvMS4xLyI+PGRjOmNyZWF0b3I+PHJkZjpTZXEgeG1sbnM6cmRmPSJodHRwOi8vd3d3LnczLm9yZy8xOTk5LzAyLzIyLXJkZi1zeW50YXgtbnMjIj48cmRmOmxpPkRhaGFuPC9yZGY6bGk+PC9yZGY6U2VxPg0KCQkJPC9kYzpjcmVhdG9yPjwvcmRmOkRlc2NyaXB0aW9uPjwvcmRmOlJERj48L3g6eG1wbWV0YT4NCiAgICAgICAgICAgICAgICAgICAgICAgICAgICAgICAgICAgICAgICAgICAgICAgICAgICAgICAgICAgICAgICAgICAgICAgICAgICAgICAgICAgICAgICAgICAgICAgICAgICAKICAgICAgICAgICAgICAgICAgICAgICAgICAgICAgICAgICAgICAgICAgICAgICAgICAgICAgICAgICAgICAgICAgICAgICAgICAgICAgICAgICAgICAgICAgICAgICAgICAgIAogICAgICAgICAgICAgICAgICAgICAgICAgICAgICAgICAgICAgICAgICAgICAgICAgICAgICAgICAgICAgICAgICAgICAgICAgICAgICAgICAgICAgICAgICAgICAgICAgICAgCiAgICAgICAgICAgICAgICAgICAgICAgICAgICAgICAgICAgICAgICAgICAgICAgICAgICAgICAgICAgICAgICAgICAgICAgICAgICAgICAgICAgICAgICAgICAgICAgICAgICAKICAgICAgICAgICAgICAgICAgICAgICAgICAgICAgICAgICAgICAgICAgICAgICAgICAgICAgICAgICAgICAgICAgICAgICAgICAgICAgICAgICAgICAgICAgICAgICAgICAgIAogICAgICAgICAgICAgICAgICAgICAgICAgICAgICAgICAgICAgICAgICAgICAgICAgICAgICAgICAgICAgICAgICAgICAgICAgICAgICAgICAgICAgICAgICAgICAgICAgICAgCiAgICAgICAgICAgICAgICAgICAgICAgICAgICAgICAgICAgICAgICAgICAgICAgICAgICAgICAgICAgICAgICAgICAgICAgICAgICAgICAgICAgICAgICAgICAgICAgICAgICAKICAgICAgICAgICAgICAgICAgICAgICAgICAgICAgICAgICAgICAgICAgICAgICAgICAgICAgICAgICAgICAgICAgICAgICAgICAgICAgICAgICAgICAgICAgICAgICAgICAgIAogICAgICAgICAgICAgICAgICAgICAgICAgICAgICAgICAgICAgICAgICAgICAgICAgICAgICAgICAgICAgICAgICAgICAgICAgICAgICAgICAgICAgICAgICAgICAgICAgICAgCiAgICAgICAgICAgICAgICAgICAgICAgICAgICAgICAgICAgICAgICAgICAgICAgICAgICAgICAgICAgICAgICAgICAgICAgICAgICAgICAgICAgICAgICAgICAgICAgICAgICAKICAgICAgICAgICAgICAgICAgICAgICAgICAgICAgICAgICAgICAgICAgICAgICAgICAgICAgICAgICAgICAgICAgICAgICAgICAgICAgICAgICAgICAgICAgICAgICAgICAgIAogICAgICAgICAgICAgICAgICAgICAgICAgICAgICAgICAgICAgICAgICAgICAgICAgICAgICAgICAgICAgICAgICAgICAgICAgICAgICAgICAgICAgICAgICAgICAgICAgICAgCiAgICAgICAgICAgICAgICAgICAgICAgICAgICAgICAgICAgICAgICAgICAgICAgICAgICAgICAgICAgICAgICAgICAgICAgICAgICAgICAgICAgICAgICAgICAgICAgICAgICAKICAgICAgICAgICAgICAgICAgICAgICAgICAgICAgICAgICAgICAgICAgICAgICAgICAgICAgICAgICAgICAgICAgICAgICAgICAgICAgICAgICAgICAgICAgICAgICAgICAgIAogICAgICAgICAgICAgICAgICAgICAgICAgICAgICAgICAgICAgICAgICAgICAgICAgICAgICAgICAgICAgICAgICAgICAgICAgICAgICAgICAgICAgICAgICAgICAgICAgICAgCiAgICAgICAgICAgICAgICAgICAgICAgICAgICAgICAgICAgICAgICAgICAgICAgICAgICAgICAgICAgICAgICAgICAgICAgICAgICAgICAgICAgICAgICAgICAgICAgICAgICAKICAgICAgICAgICAgICAgICAgICAgICAgICAgICAgICAgICAgICAgICAgICAgICAgICAgICAgICAgICAgICAgICAgICAgICAgICAgICAgICAgICAgICAgICAgICAgICAgICAgIAogICAgICAgICAgICAgICAgICAgICAgICAgICAgICAgICAgICAgICAgICAgICAgICAgICAgICAgICAgICAgICAgICAgICAgICAgICAgICAgICAgICAgICAgICAgICAgICAgICAgCiAgICAgICAgICAgICAgICAgICAgICAgICAgICAgICAgICAgICAgICAgICAgICAgICAgICAgICAgICAgICAgICAgICAgICAgICAgICAgICAgICAgICAgICAgICAgICAgICAgICAKICAgICAgICAgICAgICAgICAgICAgICAgICAgICAgICAgICAgICAgICAgICAgICAgICAgICAgICAgICAgICAgICAgICAgICAgICAgICAgICAgICAgICAgICAgICAgICAgICAgIAogICAgICAgICAgICAgICAgICAgICAgICAgICAgPD94cGFja2V0IGVuZD0ndyc/Pv/bAEMABwUFBgUEBwYFBggHBwgKEQsKCQkKFQ8QDBEYFRoZGBUYFxseJyEbHSUdFxgiLiIlKCkrLCsaIC8zLyoyJyorKv/bAEMBBwgICgkKFAsLFCocGBwqKioqKioqKioqKioqKioqKioqKioqKioqKioqKioqKioqKioqKioqKioqKioqKioqKv/AABEIBL8GZgMBIgACEQEDEQH/xAAfAAABBQEBAQEBAQAAAAAAAAAAAQIDBAUGBwgJCgv/xAC1EAACAQMDAgQDBQUEBAAAAX0BAgMABBEFEiExQQYTUWEHInEUMoGRoQgjQrHBFVLR8CQzYnKCCQoWFxgZGiUmJygpKjQ1Njc4OTpDREVGR0hJSlNUVVZXWFlaY2RlZmdoaWpzdHV2d3h5eoOEhYaHiImKkpOUlZaXmJmaoqOkpaanqKmqsrO0tba3uLm6wsPExcbHyMnK0tPU1dbX2Nna4eLj5OXm5+jp6vHy8/T19vf4+fr/xAAfAQADAQEBAQEBAQEBAAAAAAAAAQIDBAUGBwgJCgv/xAC1EQACAQIEBAMEBwUEBAABAncAAQIDEQQFITEGEkFRB2FxEyIygQgUQpGhscEJIzNS8BVictEKFiQ04SXxFxgZGiYnKCkqNTY3ODk6Q0RFRkdISUpTVFVWV1hZWmNkZWZnaGlqc3R1dnd4eXqCg4SFhoeIiYqSk5SVlpeYmZqio6Slpqeoqaqys7S1tre4ubrCw8TFxsfIycrS09TV1tfY2dri4+Tl5ufo6ery8/T19vf4+fr/2gAMAwEAAhEDEQA/APB6KKK3JCiiigAooooAKKKKACiiigAooooAKKKKACiiigAooooAKKKKACiiigAooooAKKKKACiiigAooooAKKKKACiiigAooooAKKKKACiiigAooooAKKKKACiiigAooooAKKKKACiiigAooooAKKKKACiiigAooooAKKKKACiiigAooooAKKKKACiiigAooooAKKKKACiiigAooooAKKKKACiiigAooooAKKKKACiiigAooooAKKKKACiiigAooooAKKKKACiiigAooooAKKKKACiiigAooooAKKKKACiiigAooooAKKKKACiiigAooooAKKKKACiiigAooooAKKKKACiiigAooooAKKKKACiiigAooooAKKKKACiiigAooooAKKKKACiiigAooooAKKKKACiiigAooooAKKKKACiiigAooooAKKKKACiiigAooooAKKKKACiiigAooooAKKKKACiiigAooooAKKKKACiiigAooooAKKKKACiiigAooooAKKKKACiiigAooooAKKKKACiiigAooooAKKKKACiitvwgNGl8SW9t4ki32FyDA0gdlMDNwsnBH3Tjg5GM8U0m3ZCbsrmJRXa+IvCtt4N8Ltb61AJNevLthb/OwEFvGSpkwDg7z0yDwMipmh8PaH4L8Mahf+HodRfU/tP2qRrmaOTEcgVdm1woOD3U9BQldXB6HCUV38XgextPilcaVdyPNotjEb+d2O1vswjEmCR35C5GOvGKr6rpml6B48+xR6Ra6hpepNBPZNcyzApBLyNpSRc4yRls/doSbsu/9f5/cxSkopvt/X+X3nEUV3Wp6LY6r8S28J6Po9pp8UepPB9ohknaQxKxBLb5GXhQTwB0qn8QtE0nTtTs9Q8MIV0XUoPMtgXLbWRijrkknqAef71T0T7ltWk4vocjRXVaV4CutT0ew1J9Y0mxi1CZ4LZLuZ1d3U4IwEPcjnOOecU1vAOpQ6TeX1/d2NkbS8ksTbzu/myzKAdiBVIOc8HOPpVWf9f15om6/r+vI5eius1D4ealYWt6/wBu025u9PiEt5YW87NPbr3JG0KcZGdrHFSTfDbUbeC783U9KF5ZWRvbmw89zPFGF3YI2bd2COAe4zSC6OPorrrn4d3lnPZwXOtaLFNdQLclHuWUwxFN298pgemBk5PAI5pYfhxqdzqVja2moaZPDf28txb3qTOIWWPO8ElAwIx3X8adrC5kzkKK7NPhrcyW1pdL4i0I2l5L5FvcefLtklzjZjy9wPuRjkc1HB4R+3pcaTGkNjqWjPcPqt7dSsIVjVlVQNu4nB3dF5yOvZDuv6/r5epyFFamtaDLoepQ2s93aXCTxJNFc20heJ0bo3QEd8gjPHSte8+HWt2UGuzObd49DaMXBjdj5m8Agx/LyACCc44NHS4eRylFdfL8OdRtZbr+0dS0uwgtDEktzcTOEEkiBxEMIWLBTk4GB60ifDnUxdarFfX2m2EelpFJNcXMzeXIkn3GQqp3A/TPPTNAXTORorvde8BhbGxv9NNtZWEWiwXV5ezyP5cszlhheCSzYGFA/Ksy5+H+oWmmNczahpq3K2QvzYGZhOITzuwV2k45wGzR/X9fcCaf9f13OVors734Z6lZ/aYl1TSbm9tbX7XJYwTuZvK2hiQCgGQDnGc+3Sqdv4Fu7rSzdQappUlwtm18bBbhjOIgMk8LtBxzt3Z9qNv6/rsCadrf1/VzmKK6yz+Hmp3lnaut7p0V5e25ubXTpZmFxPGASCBt2jIBIBYZxSQ/DzVJrNHF5p63slob2PTGlb7S8WM5C7duSBnBbOO1D03/AK/qwXTOUqSCBriQohAwpYlugAGTUdXIv3GlyyfxTt5S/wC6OW/9lH500BToor0x9L0Cz13wrpB8LQ3y6tp1rNPKtzcCbzJCQzLiTbgYzjb601Ftaen9fcJtI8zortNV+HNxaedPa6pYNA9/PZ2MEkjfaLlo5NmAoXGTxzkDntUF58PtQsY7iWK/0vUHsZkivbe1nZmtizbfn+UZG75SVJwala2HJqN7nJUV2WoeAr1NY1UXlxpGjWtjcLbvK00v2fzGXcEjJDO3HJz09ahPw81S3nv11W80/S4LGZIHuruZhHI7LuUIVVi2VIbpwDziktUmgujk6K7m6+HsWl+EtavdV1OGLU9NuI41hRnaNlYEjkRnJcYKkHHPzYqhqfw/1DSrG6luNQ0x7mzhjmubCOdvPiV8YJBUKeoyAxp9/wCvML3/AK+RytSRQNLHK6kBYl3MT9QMfXmo6uSfuNLjT+O4bzG/3Rwv67v0poCnRSqrOwVAWZjgADkmurvPh5qNla3byahpr3FiiSXtnHK7TWqMQNzjZggZGdpJFIL9Dk6K6vUvAV9oNtNf6zPbrp8M8UaywuSbwOA2YMrhsKc5OBVvxJouhSaL4WufDdpcWi6pLcRSPdTeZI+yREVmxhR1JwoHXvTSu7dROSSu9jiaK9K1fQvDU1x4p0bTNKNrc6BbGaK/+0SO05jZVkDqx28ljjaBjFedWts95eQ20JQSTOsal2CqCTgZJ4A9zSWrSXX+v0Kei1IqK6e+8CXttaxT2Wo6bqqPerYn7DMzbJm+6p3KowcHkZHvUmofD6/sWKx6ppN5JHdrZzpBckG3kP8Af3qoxkYJGRR/X9fehXX9f15M5SiutbwE8DWc763pdzYTXwsprm0kkcQyEZwf3eeQDggEUz4h2WkaX4rn03Qre2hhs2aJ/JlmdiwYj5zIAN3H8Hy88E0Atb/13/yZytFb2heFZNctfPOraXp6tOLeNb2dlaRyM4CqrHHI5OB71eg+Ht+1re3GoanpemR2N+2nym8mcfvQM4G1GyP/AK/anZ3t/X9ahdf1/XkcnRXWv8O9TtrjUk1S+03TYdOnW3kubqZhHJIy7lVNqknK4boMA81B8QtHstB8aXWn6ZEIreOKEhVcuMtErEgkknJJNIa1OZorodH8HXOraUNSm1HT9LtJJ/s8Mt/KyCaTGSFCqx4yMk4Az1q6vw51KKC8l1XUdM0lLO9+xSG9mcZkKhht2o2QQc59OelOzvb+v61Qro5Giuw1L4banpkepLJqGlzXemRefc2UM7NMsWR8/wB3aRgg4znBGR2qKf4e6nBY3EjXmnte21oLyfTVmb7TFFgHJG3bkAgkbs47Ug8jlKK3PFHhW48KXMFte39jc3EsYkaK1kZmhBAK78qMEhuBz0+mcOgAooooGFFFFABRRRQAUUUUAFFFFABRRRQAUUUUAFFFFABRRRQAUUUUAFFFFABRRRQAUUUUAFFFFABRRRQAUUUUAFFFFABRRRQAUUUUAFFFFABRRRQAUUUUAFFFFABRRRQAUUUUAFFFFABRRRQAUUUUAFFFFABRRRQAUUUUAFFFFABRRRQAUUUUAFFFFABRRRQAUUUUAFFFFABRRRQAUUUUAFFFFABRRRQAUUUUAFFFFABRRRQAUUUUAFFFFABRRRQAUUUUAFFFFABRRRQAUUUUAFFFFABRRRQAUUUUAFFFFABRRRQAUUUUAFFFFABRRRQAUUUUAFFFFABRRRQAUUVreF9Ni1fxNZ2Vx/qpHJcZxkAEkfjjFVGLlJJCbsrlGDT725haW2tJ5o1+88cTMB9SBVeu51vx5qdhrctnpCw2lnZyGFYRECGCnHPoOO2Ki8aQW+oaLpniOCBbea9yk6KMBm9f0PP0qnFcvNFiu72ZxdFFFZlBRRRQBr6H4bvNc82SJora0g5murhtscf4+vtWmvhbQ7mQwWPi21kuuipNbPEjH03k4p/ieX+z/D2gaXCCLZ7VbyYKcea7nufbGPxrQ1a50efwGbuTRrLT3uWCaekA3TfIcOzvgZFdDjGKem39f8MZpt28zjtU0q80a/ez1GExTJzjqGHYg9xVOus1GRtT+G1heXWWuLK8a0SQ9WjK7gPfHSuTrGceWVi07q4UUUVIzo/B/hGbxTfsGdobOHHnSgc+yr7/AMq9aTT/AA74Q0wzmG3tIo8BpnXc7H68kn2FM8C6emneDNPVBhpoxO5/vF+f5YH4Vj/FDR7/AFPR7WXT45J1tpC0kUYySCOGx3x/Wuvl9nT5ktTL4pWZtWWq+HPF8UsUJt77YPnjmi+YD1wwz+IrgvHPgBNJt31TRQxtVP72AnJiHqD1K/Xp/Jvw00LU18TLfyW81vbQowdpEKhyRgKM9fX8K9amiSeB4ZlDxyKVdT0IIwRWnKqkLtakX5ZaHzRRVnUrX7Bqt3aZz9nmeLPrtYj+lVq4DoCiiigAooooA6/xB47urnxJbat4eu72yli0+GzaQttc7VAboTwSM1bl8TeHNd0DRLbxRNrD3OnPcyXH2eCNvtLSyb/9Y0gI6c/KetcLRTu/1J5Vax6C/wAS4wdf1GGwT+1NWkihSOeFJYIbRFxsIb7zHCg5GOM+1UNW8Z2muWGgS31r5OpaVOVf7LbpHC9vuDKFAIwQQRjAHPWuNooTs7/1/X+bCUU01/X9f5I7q08cWGn+MPE3iO1tpnu77zRpqzRIyx+Y+WaQEnkLkYGQcmqmqeM4Ne8E/wBlanZwwXtrdiaxaxtI4YlRhiRWC4xng5AOSOa5Ciptpb+u5T1lzdT0qCXQLf4b+EZ/ETaiBDeXUkS2UaNvxIpKtuYYzxyM9+KzNb8fJqtk0kVu8V9/bz6ooIBjVNihVznJI288YriKKq/9fNP9ETZWt/XX/M9AvfGPh1LjXtX0m21Iarrdu8MkNwE8i380gykMG3N04yorrru2gkt/Eni2+tNQsJ9R0J43aYwtaNI8aqBFIrkuWIGBgY5zXiNFLpYdru56HF490lfG8GsPbXYhj0lLFZRFG0tvKIwvmorEqSCOMkda0J/iZpL3ukyyS6xfmxsry3luLtI/MlaZQFOA+AAeMZ4GOteWUUPVNd7/AI3/AM2JRSt5W/C3+R1aeKLJfB2haSYrjz9O1J7uVtq7WQ44U5znjuB9auWnjHTI/HWu60W1SzXUJZJLW6s2Amt9z7vmjLBHBHBUnFcRRTvrf+tkv0BRSVv63b/VnR+Ntd07xBrUV3pdu8YW3SOaaWFInuZBnMjInygnI6eldZD8UrHdoEVzZ3D20Vu8OtIFX/TCYliBHPOFUdcc15hRQm1sNpM7mbxlpWv2erWPiZdQjgu9UbUreezVJHjYgrsZWYAjbgDB4xS6x450/UNL16xt7S4hhurWys9PDYYrHbtnMhz1I9M+nvXC0VPRL+tFb8g6/wBep6JcfEHS9T8PWfh3Vra6k0mHS4oQyRJ5tvdpu/ex/N8ykEAgkZHp3dJ460JvC0+nNHqdwklj5EOnXSRywW02MebHMzGRQDyFAHXFec0U3rfzBK1vL+v6/wCCeveLNe0Lw3411G/VdQm1p9MS3SIon2dWeBV37t27hT93b171WtfiZosWjJabtYtof7KaxbTreKL7MJDGVMudwLEk55Gfc15VRQ9b+f8Awf8ANglazXT/AIH+SO2n8ReFdXtdNutdstSlv9P09bP7LCVEFxsBEbGTcHXqMgA9K2Ln4nQX2jwCXUvENlcxWItpLKykRbaV1Xar7icqDwSNprzGih63v1/4P+YuVXT/AK/rQAMnA61c1E+XMlsvS3QIf97q36kj8KqKxVgynBByCO1DMWYsxJJOST3p30sMSu2134j6ncWOlWXh/U9SsLW00yG1niSXyw8qZDMNp6EY9OnSuJoovpYOtzq4vF0NpovhaK2hke80O9lupPMACSbpEZQDnP8ADzkD8a6Cw17R7nVNRg8I2eq3GqeIp1DxXKJtgTzPMcKVYlzweSBgV5pRTUrNf1/WxMo3Vv6/rU9j17x9baV4n8T6Q+oanYpJqQuIb3SSjOGCBHRlZlBXj14IrmbzxhomuWWoaZrsmtPaSXyXlteZjmuCRGIyJASowQOMHjpzXBUVEbqKj5Jfdb/IqyvdHZnxL4d/4R/xDo9tZXtla3k0U9iFIlIaNSMSFmGNxOSRnGSAOK0tX8daFfeGLzT1j1O782BEtLS+SORLBxjLJOWMhAwcDA64rzqim9U13/4YEkncfDE086RR8s7BR+NTX8qy3j+V/q0wkf8Aujgf41AjtG4aNirDoQcEU2nfSwdSS2ne1uoriPG+Jw656ZByK9H8S/Eay8QWt6f7U8SQm+RVfT98ZtoSSN+Duy69cLhfqK80opbqzFZXud14o8YaFr/huPSLeyu7dNJKLpEpALNGVAkWb5uCSNwK5x06Vj3viOGXwx4asbVJBdaPJcSSM6jYxeRXXbg5PTnIFc7RTTafMNpNcvQ9Dv8Axd4eu7jW7zS4ry31PxFGtvP9rVRbWgdlMrBlJZslc/dBHPXpWVp+j6b4f1O11a517Q9Whs5klexheYvOARlQGiC5+pxXI0Ulo7roDV1Z9T03xB8RNI1bR2tJJ9b1I/2nFeql4I4VSNdwMSlGJXhuo/TFPvPiJ4ela0e5tdQ1xoL+OeM6pDEHt4V6xiQFmkzx9/jgV5fRQnb+vT/L+ricU1Z/1e/+Z6X4g+Imm6posVmLzWr+WPVY74SX0UShI13AxqFc4xkfX2rn9QtrLxd4j1fWI9b0/Sorm9kkjh1EyLIVY7gcRo47469RXKUUf1+X+RWv9fP/ADZ6VoPirSvB2lf2T/alz56XYuZL7QlDLdptH7pml2MuCOwI56VleJ/GGm6xpWp2tlFdK15rzamhlRQBGYyu04Y/Nk/THeuKop3d7/10/wAkJK39ev8Amz0jX/HPh3xRJq1pqcWqW9jcXsN7ay28UbSq6wLEyupcDBAyCDWf4hGmeN/EN1rNprdjpMDCKJLfVGkWY7IkXd+7R1xkHv26CuHoo9QStt/XU7f+0fDq6FbeHPEdzcXSaXctNbXujKHSVJApdCJdhHI+9j8KTxT46tfEej30AtZoJ7jWFvUXgosKwCJQTnO7gdse9cTRRdp3/rp/kFv6/r1O+v8Ax3pt14w8UarFBdiDV9Lazt1ZF3K5SNcsN2AMoehPbir2u/Ey31vTblzqXiG3uLmz8l9OidBaCTaFLbslth6ldvc8ivM6KG21b+v61BJJ3/rp/kb3jXXbbxH4pm1KxSWOGSKFAswAbKRqp6Ejqp71g0UUhhRRRQAUUUUAFFFFABRRRQAUUUUAFFFFABRRRQAUUUUAFFFFABRRRQAUUUUAFFFFABRRRQAUUUUAFFFFABRRRQAUUUUAFFFFABRRRQAUUUUAFFFFABRRRQAUUUUAFFFFABRRRQAUUUUAFFFFABRRRQAUUUUAFFFFABRRRQAUUUUAFFFFABRRRQAUUUUAFFFFABRRRQAUUUUAFFFFABRRRQAUUUUAFFFFABRRRQAUUUUAFFFFABRRRQAUUUUAFFFFABRRRQAUUUUAFFFFABRRRQAUUUUAFFFFABRRRQAUUUUAFFFFABRRRQAUUUUAFFFFABRRRQAUUUUAFFFFABVnTr+bTNRgvbUgSwuGXPQ+x9qrUU02ndCaurHd3N74I164/tLUmu7G6bmaCMErI3fkKfz4q5rMFr4z8NQt4Ydk/szI+wMAGK9iB64HHrz3rziprW8ubKUy2dxLbyEFS0TlTg9sitPaJppoVmnch6UUUVkUFFFFAHXWMtj4p8P22k313HY6nY5W0nnOI5UP8DHsR2q1ceD9fuNPtLPUbXTdOs7Pd/p7SIu8E9WIJJ9uBXD0Vr7RPdE8rWx0fiXVLH7DaaHojtLY2RLPORjz5T1bHp2Fc5RRWcm5O7HsrBRRRSGe6+DtXgn8BWl0zfLZwGOUAZK+WMdPoAfxriNV+K2py3wOkQxW9sjcLKu5pB/ten0H51h+EfFcnhq8kEsZuLG4GJ4M/qM8Z/nXpOl6d4G1qFZNPtbCQnrGfldfqp5rpUpTSSdjJpR3RxQ+K2v/AGtJWjs/KXhoVjIDfiSSD+P4V6XoHiW013QTqiq1vHHuEyyfwFRk89xjvVO88OeENPiMl9ZWFugGcykL/M1wPivxhYyaa2heFoBb6fuzLIq7fN74A649c9fp10UnTT53cmyk9DkdSu/t+q3d3jH2iZ5cem5if61WooriNwooooAKKKKACiiigAooooAKKKKACiiigAooooAKKKKACiiigAooooAKKKKACiiigAooooAKKKKACiiigAooooAKKKKACiiigAooooAKKKKACiiigAooooAKKKKACiiigAooooAKKKKACiiigAooooAKKKKACiiigAooooAKKKKACiiigAooooAKKKKACiiigAooooAKKKKACiiigAooooAKKKKACiiigAooooAKKKKACiiigAooooAKKKKACiiigAooooAKKKKACiiigAooooAKKKKACiiigAooooAKKKKACiiigAooooAKKKKACiiigAooooAKKKKACiiigAooooAKKKKACiiigAooooAKKKKACiiigAooooAKKKKACiiigAooooAKKKKACiiigAooooAKKKKACiiigAooooAKKKKACiiigAooooAKKKKACiiigAooooAKKKKACiiigAooooAKKKKACiiigAooooAKKKKACiiigAooooAKKKKACiiigAooooAKKKKACiiigAooooAKKKKACiiigAooooAKKKKALFFFFUIKKKKACiiigAooooAKKKKACiiigAooooAKKKKACiiigAooooAKKKKACiiigAooooAKKKKACiiigAooooAKKKKACiiigAooooAKKKKACiiigAooooAKKKKACiiigAooooAKKKKACiiigAooooAKKKKACiiigAooooAKKKKACiiigAooooAKKKKACiiigAooooAKKKKACiiigAooooAKKKKACiiigAooooAKKKKACiiigDtPhZ/Yv/CZH/hJPsH2P7M//H/s8vdkY+/xnrXs3/Fsf+pS/wDJavmWivm8yyH6/X9t7aUNLWWwrH01/wAWx/6lL/yWo/4tj/1KX/ktXzLRXm/6p/8AUTMVj6a/4tj/ANSl/wCS1H/Fsf8AqUv/ACWr5loo/wBU/wDqJmFj6a/4tj/1KX/ktR/xbH/qUv8AyWr5loo/1T/6iZhY+mv+LY/9Sl/5LUf8Wx/6lL/yWr5loo/1T/6iZhY+mv8Ai2P/AFKX/ktR/wAWx/6lL/yWr5loo/1T/wComYWPpr/i2P8A1KX/AJLUf8Wx/wCpS/8AJavmWij/AFT/AOomYWPpr/i2P/Upf+S1H/Fsf+pS/wDJavmWij/VP/qJmFj6N1n/AIVv/YN/9k/4Rbz/ALNJ5XlfZt27acYxznPTFfOVFFe7lWV/2dGUfaOfNbfoMKKKK9kYUUUUAFFFFABRRRQAUUUUAFFFFABRRRQAUUUUAFFFFABRRRQAUUUUAFFFFABRRRQAUUUUAFFFFABRRRQAUUUUAFFFFABRRRQAUUUUAFFFFABRRRQAUUUUAFFFFABRRRQAUUUUAFFFFABRRRQAUUUUAFFFFABRRRQAUUUUAFFFFABRRRQAUUUUAFFFFABRRRQAUUUUAFFFFABRRRQAUUUUAFFFFABRRRQAUUUUAFFFFABRRRQAUUUUAFFFFABRRRQAVPZwrPPtfoBk+9QVc03/AI+W/wBw/wAxTW4mW/sNv/zz/wDHjR9ht/8Ann/48asUVrZElf7Db/8APP8A8eNH2G3/AOef/jxrpPEmhw6KunmCWST7VbiVt+OD6DFYdNxSdhXurlf7Db/88/8Ax40fYbf/AJ5/+PGtLTLL+0dUtrPzPL8+QJv2525PXFadz4XltG1ETTgfY2iCEJkTLI2AwOePXv6U1BvZBzHNfYbf/nn/AOPGj7Db/wDPP/x411Mvh7T49dXSf7Um+0GYREm0AQE++/8ApS2/hCeaKweScR/ap3hcbMmILn5uvOdrenSjkur2DmOV+w2//PP/AMeNH2G3/wCef/jxra0nS4tSuLpZLloYbaB5y6xbyQuO2R6+tTWmi2+pyzw6VeSTTxxeZHFJbhDKQfmUYY8gc+9ChfoFzn/sNv8A88//AB40fYbf/nn/AOPGuobw5awy6gJ9SbZp6x+c0Vvv+djgqPmGcHjP14p0nheC3W5mudQdbaGCKdHS3yzrIcDKlhg59zRyBzHK/Ybf/nn/AOPGj7Db/wDPP/x410lvomnz2bXZ1KdYPtK26EWeWZiuckB+O44zT38LPFNJFJdLuS/SyO1Mg7hnd1/T9aOR9v6/phzHMfYbf/nn/wCPGj7Db/8APP8A8eNdbD4Nml8UzaQbrbHEnmfafLyCpxj5c9ycdfWqcuj2Nrptpc3moTI90jOkcdqGAwxHJLj09KXLpcLnPfYbf/nn/wCPGj7Db/8APP8A8eNdYPB8pk0gi6Bh1JRmQR/6liM7SM88fTvVa20bTptImvpdSnjEDKkqC0DYZs9DvGRx7U3C26DmOc+w2/8Azz/8eNQXlnFHAXjG0r75zV/6VXvv+PN/w/mKhpWGZFWLWFZWYvyF7VXq3Y/8tPw/rWa3KJvssP8Ac/U0fZYf7n6mpq6nw/oumX2mCa5t76eXcQxhX5V9q1hBzdkS3Y5D7LD/AHP1NH2WH+5+prvLzw7o8VlNILPU4iiFt5XIXA6n2riaJQ5XZgnch+yw/wBz9TR9lh/ufqa0NOsW1C8EIdYlCl3kYZCKBkmtCHQIrqez+yXvmW1y7RmUw7WjZRnBXPp70lBsLnP/AGWH+5+po+yw/wBz9TXRW/h6G8Nq9pes0M8zQszwbWRgu7puIIwPWmWGi2uqXxtrG+k3CNnLTQBACMYHDHrnr2p+zfYLmB9lh/ufqaPssP8Ac/U1qXWmPaafHcSsQ7TPC0RX7pXHf8altNFku9GutQWQL5B+WPbzJj73PsCDS5WFzG+yw/3P1NH2WH+5+proLLQYbq3si968c16XESCDcoKnHJ3cflTItEhEMBvtQS1luN3lKUyuAcZZsjaCR70/ZsLmF9lh/ufqaPssP9z9TWtJpXlwWEhmB+2Oy4C/cwwXrnnrVtfDyG4eOS82Kt99j3eVnnBw3X26Uezb6Bc577LD/c/U0fZYf7n6mt600Bp+LifyGN4LRV2bst/Eeo6VSvrezt2KWtzNM6sVYPAEAx6Hcc0nFpXf9f1cLmd9lh/ufqaozJ5czKOgrUrOuv8Aj5f8P5VDGiGtBbSIKNy5Pc5rPrXoQ2Q/ZYf7n6mj7LD/AHP1Na2h6fFqeswWlw7JG+4sydQACf6V0H9i+EP+gxP/AN9r/wDEVqqbauRzHE/ZYf7n6mj7LD/c/U12VzoHh59Pu5NL1KaaeCFpQpYEYHr8ork6mUeV6jTuLbWNtJu3x5xjHzGp/wCzbT/nl/48f8aWz/j/AAqzVxSsK7Kv9m2n/PL/AMeP+NH9m2n/ADy/8eP+NepeGPA3hfUfDumXeuarc215qLusMKSooch9uACpJPTv3q7N4J+HNtcSQT+JrmOWNijo1zHlWBwQf3dN8qdmgV2eQf2baf8APL/x4/402TS7ZkIRCjY4IY12HjfQNP8AD2tQQaRcy3NpcWqXEckpBJDE9wACOM9O9c3QlFrYNTlqKKK5jQKKKKACiiigAooooAKKKKACiiigAooooAKKKKACiiigAooooAKKKKACiiigAooo60AFFdI3hNBO9gNRB1ZIfNNp5J2527im/P3se2Peo4/Cxm1TTbaG73W99bi4+0GPAjUA7wRn+HB71p7OX9f15E8yOforcu9G0yxtbWS51O433UHnRqlmCMZIGSZB6elWo/CUEzRW8epP9tlsheLG1tiPBXdtLhjj64pckv6/ryHdHM0V0K+Fd+tW9qt5/os9p9r+1GL7se0kkrnsQR1p0fhaEhJJ9QdITpv29mW33MBu27cbhn1zmj2cv6/ryFdHOUVspotrd2N7caZezTm0WNjHLbBC+5tpxh26cfnVvUfCD6bPfrPeAx2dqs4kEf32Ztuzrx82Rn26UckrXHdXsc3RRRUDCiiigAooro9B8M2Wp+HdR1nU9UksbexljjYRWvnMxfOD99cdKxrVoUIc9TbRbN6t2Wi13E2kc5RXX6X4Gh8SQ3X/AAi2qtfXNtNGpt57XyWaJ8AyD524VjyPQZ9qnm8EaLbW2oXc/iWZrSyvlsfNh07f5khXcSB5g4BBGe+K5HmWFUnByd105ZX1tbS19b6d/kwujiaK76++GttpEOo3Ora60VpZ+QySQ2RdpFlB2kqXXaQRyOap2Pg3Rb3TP7R/4SG6S1k1AWEDDTNzO5jV8lRJwOSO/T3xUxzXCSjzRk2v8Muqv23sxcytc42iu4uPhrLaXDwz6mm9Nah0r5IcgiRQwk+8OgI+X9afF8L7uX4iSeGTfBYY4vPN95OQYyBghd3djtxn1o/tbBWb9polzbPZW8vNeY3or/12OEors77wVpOkafFdaxr88Amurm3jWHT/ADM+TJsJP7wYzwcU6f4czf8ACO6VrVjf/abS/nEUuYNrW6tJsRyNxyDj2wcDnrVf2nhNG5aN2Ts0m1fS9rdGJySOKorvY/h7pR1rVtKl8RTpc6VFLPPjTcqY0wSQfN64I4qCy8C6XdaOdYk8Qyw6Y119min/ALOLEHAJaQB8RjJxkk+tT/auEtfmfT7MuuqtprcG0tziaKs6lZrYalcWiXMN0sMhVZ4G3JIOzA+hqtXpRkpJSXUoKKKKYBRRV7RtO/tfWbaw83yfPfb5m3dt/DIzTSbdkJuyuyjRXTad4MmvvE93pL3QiS2GTceXuDA42EDP8WR3qvbeHrY2tpLqWpfY3vWIt0EBfIBxuY5G0Z471SpyYXRg0V0K+GYLa1kk1jUGs3S8azwlv5ihgAdxO4HHPoaJPDEdhb3kmsXr2/2W5W3xBAJd5ZSwYZZeMCjkla/9f1qFznqK07zSoYdHj1G2unmikuGhVXi2H5VByfmPr0q7B4atzplndX2pi1N6rGEmAtEMZGHkz8pJHoaOR/15hdHP0UpGGI64PakqBhRRRQAUUUUAFFFFABRRRQAUUUUAFFFFABRRRQAUUUUAFFFFABRRRQAUUUUAFFFFABRRRQAUUUUAFFFFABRRRQAUUUUAFFFFABRRRQAUUUUAFFFFABRRRQAUUUUAFFFFABRRRQAUUUUAFFFFABRRRQAUUUUAFFFFABRRRQAUUUUAFFFFABRRRQAUVesJIW/dSxoW/hYr19quSpbQxl3ijAH+yOavl0uTcxaKdI4eQsFCgngDtTagoKKKKACirlpZJcQlmcg54A7Vbf7Pcp9nWTlemPar5RXMiirF5brbyhUbII7nkVXqACiiigYU5EeRwkas7HoqjJNIAWYAcknArev7G1W6tLLTFEeomVI3w7Y3EDGCTxyaeii5PZEt2Maa0ubdQbi3liB6F0K5/Ooa6PVY/EHhTVnsNdSQnvHOd6Sr6qT1HuPx9Ky9XtIre5SS14t7iMSxg/wg9vwqYShUgqlN3THrezKFFFFMYUUUUAFXNN/4+W/3D/MVTq1p7qlydxxlcCmtxPY1a1tD8SX3h/z/ALAIj5+3d5ik9M47+9ZNFbptbEbnpPiTxpe6alh/Z72shntxJLkbsN+B4rzYnLEnvRRRJ3dwWisXNHvI9P1m0u5gzRwyq7BBkkA9q2m8UQzaDdWNxFI0rTK0EoA4jEm/a3PbnHXrXM0U1Jrb+v6sJpM6XW/EMOoXf2q2vtRbbOssVtNGojQj0Ic/yq5P4ytZLzUniglWKa32WoIGY5MMCx54++/TNcdRRzO1gtrc1/Duqw6Td3Mk7zx+dbPCsluoLIxxhuSOmPWrdvrlrY6jPqST3l/feUFt5LqNRtY8En5j0HT61ztFHMwsjpG8RWts2qy6SLm1lvljZNuB5ThsuAQc4POPr0qLSPEJtk1E395fLcXaxhbmH53Xac9Sw7cdawKKOZoLHT2/ir+zYHFjc3k0zXq3DyzAKZUC4Kthj3qNdesIXkECXJjbVEvF3qMhADkHnrk1zlFNTa/r0/yCy/r+vM7OHxpapPFI0E24XRaSQAbmgDMyL16gt+gqi2v202hW1j9u1G18qJ0kjhjUpLliefnHY46VzVFLmdrBbW512neMLey1CzaSGaS0js44ZUwMiRM4deff24JrEh1KGPQL6xZX824mjkQgDaAuc5596zKKJSct/wCuoJJBVe+/483/AA/mKsVWv3UWrKTy2MD8ah7FIyat2P8Ay0/D+tVKtWLAM4J5OMVktymXa9C8ExR3fhee2aRl3TMG8t9rLwO46V57RW0J8l9CGrnql/ZQ6X4Z1FVnmdWhfmeUtztwAM15XRRROXM7glZWLulXyWF6ZJkaSGSNopFU4O1hg49607TWrHT5rGO1W4a3t5mmkd1UOzFdowAcAAe9c/RSU2tgsjWsNcnTWra71K4uLiOBiQC24jII4BNT/wBswJNNK95fXjSW0kIM6AFC2MY+c8VhUUKbSsO2tzY1bW01TS7OJo2W5iZjM+BhzgAH64HNWbPxDaWcdhAtl5kMKMszsSGJf7+AGwRjHX9K56inzu7fcVlax0Vp4jis4LO1jNx9ljEqXCcDerngjnqBVddQ0ue2tU1CK5kNmGRFTAWZckgMc5Xr2zWLRR7RvcLG3H4gkt7PT4LSW4gEDsZljbCsC2QBzzxnrTL/AFiG5trtIVkV5r83SEgDC4PXnrzWPRRzyYWR0V14it59V064SGRIrdxNMoAy0hILEc+wqhrF9HfsHW9vLkhiQtygAQH0+Y1mUUnNtWHawVnXX/Hy/wCH8q0azblg1wxU5FZsaIq16yK1lYOoKnINCBm34ROPFFr1HD9P9w11Xm6h/e1//vxD/jXngJVgVJBHQjtUv2y6/wCfmb/vs10RqJKxDjrc724kuTpGpfaW1Pb9kfH2yONVz7Fec155Uj3E8i7ZJpHX0ZiRUdROXM7jSsizZ/x/hVmq1n/H+FWauOwM9v8AAz3Q8GeGxbHUvL8yUS/Y0iaPHnH/AFpf5gP93nGfauE17wH4muvEmpXFvo87xS3crowK/MpckHr6VylvqN7aRlLW8uIEJyVjlZRn6A1L/beq/wDQTvP/AAIf/Ghq8nIS2sdD8RIJbS/0W2uEMc0OjW8ciHqrDcCK5CnzTS3ErSzyPLI33ndiSfxNRSSLEhdyAAO9PzYHMUUUVyGoUUUUAFFFFABRRRQAUUUUAFFFFABRRRQAUUUUAFFFFABRRRQAUUUUAFFFFABQDggiiimnbUDrG8Tab/aj64kN0NVeEp5RC+SJCmwvuznGOcY696q2PiWK18Jz6e8Tte4eK3mAG1I5Cu8HnPY/nXO0VftJE2R1EviG2uNEtLIajqloIbXyJYIYlMchyeT+8HXOOnapf+EvjkiFjO13/Zz6alrJGuMpIq/fUZx1HqMiuSoodSTv5/8AB/zBRSOjh8SxR+D300xSG+w0Ec+BhYGYMy9c5yPToat2fiqzgaD5ry3Mekiy82FFLJJv3bh8w4/EGuRoo9pK9/6/rUOVHU6Z4ktNP8Rte3U99qdvLAY5TcIokJzlRjecgEDv61BeeJxeeFDp8iSG9kuN0kpA2tHuZwM5zncx7VztFJzk1b+t7jsgoooqBhRRRQAV2ng3xdZ6B4f1PT57rU7Ke8lieO50+NGZAucj5nXrmuLormxOGp4mn7Opto/udyWkzv8ASvHWm+HLy/1TThfapq95NGPtOoxIuIBgyDhm+ZiMfTB9qjuPHFjpWkanaeDJNR05rvUVuoiVVPLj2ENHlWPG4jHsK4SiuT+ysM5c0le9r32drWuttLaer7jSSO68M+OksNJ1eHVtS1eK/wBQmikF9aBZZAFByCXdevA+lWbT4kjRbXZpN5qVzO2ri9nmu0VDcQ+Uqsj4Y85X8sHPavPKKU8pwtScpSjfm3Wltrdr7dL2Fyo9BPjbQ4GdLOHUDE3iOHVx5qJuEaj5l++ctnOPUYya04vivYJ5LvZ3JuBqO6WfYu5rNZWlSMfN94FgMdMDrXldFZzyXCVFaab+Y5LmVmemN8RNOl0tbaHUtd0pheXU7GyhjYSLLKXUNmQcgH9TVfTviNZ6Q2gQWsN1PZWUEttfRSqq+dG0m5SoDH5hwecYPGec153RT/sbCcri1o2383fra/V2106EuKe53B8a6cfGfifV/Juvs+rWM9tAuxd6s4UAsN2AODnBNN8HeK9H0Gzg859YsbyKffLJp8geO7T+5JG7BRjpkCuJoraWWUJU3T1s7LfsrL8O/ruU1fc0df1C31XxDfX1lai0t7iZpI4R/ACfbis6iivQhBQioR2QwoooqgCtHQNQi0rX7S+uFdooJNzBACxGO2SKzqKabTuhNXVjs7DxrbWy6YZoJvNhcfa5EAzKiBhGBzzjdznHQVnw6zpN1Z6emrR3Yl09iI/s4UrKhbcA2SNpz3GeK5yir9pK9xcqOol8QaZqtpKmsrdxu+oPdlbZFYEFQAuSwx064NWB4wjuE1Ay3F9ps11dJKj2ShsIqbQhJZfb8q4+ij2kv6+X+QWOlOp6LdaR9hv7jU3K3b3AmWFCz7gB82X65B9an0nxDpGlrH5f9orGgZZbUFWhuxzhnDN8pIxnAPTiuToo9o73CyFYhnJA2gnIA7UlFFZlBRRRQAUUUUAFFFFABRRRQAUUUUAFFFFABRRRQAUUUUAFFFFABRRRQAUUUUAFFFFABRRRQAUUUUAFFFFABRRRQAUUUUAFFFFABRRRQAUUUUAFFFFABRRRQAUUUUAFFFFABRRRQAUUUUAFFFFABRRRQAUUUUAFFFFABRRRQAUUUUAFFFFABRRRQADg1p3gWZ7cZYq2fu1mU4OwxhiMdMHpVJ9BEt1bi3KqCWJGSe34VBSliVAJJA6DPSkpAFFFFIZoafJBHExdwrE4OTUkdpFbSee0vyjpmsupXuZZIxG75UdBgVfMibEt+0TXG6I7iR8xB4qrRRUjCiiikMdG/lyK46qQa3Lx/sniC01pEMtq0sc4K+oIJX2PFYNXLLVLmxVkiZWib70Ui7lb8KbUZxcJbMlq51XjLxzf/ELVoLURx2likh+zwkZIOMbmbrk+g4Hv1rnteAgltrIcm1hCscdWPJqvc6k9w0bx29vavGcq1shQ/wA6rTTzXD77iV5WAxudixx+NY4fD0cLQVChG0UPVu7I6KKK1GFFFFABRRRQAUUUUAFFFFABRRRQAUUUUAFFFFABRRRQAUUUUAFFFFABRRRQAUUUUAFFFFABRRRQAUUUUAFFFFABRRRQAUUUUAFFFFABRRRQAUUUUAFFFFABRRRQAUUUUAFFFFABRRRQAUUUUAFFFFABRRRQAUUUUAFFFFABRRRQAUUUUAFFFFABRRRQAUUUUAFFFFABRRRQAUUUUAFFFFABRRRQAUUUUAFFFFABRRRQAUUUUAFFFFABRRRQAUUUUAFFFFABRRRQAUUUUAFFFFABRRRQAUUUUAFFFFABRRRQAUUUUAFFFFABRRRQAUUUUAFFFFABRRRQAUUUUAFFFFABRRRQAUUUUAFFFFABRRRQAUUUUAFFFFABRRRQAUUUUAFFFFABRRRQAUUUUAFFFFABRRRQAUUUUAFFFFABRRRQAUUUUAFFFFABRRRQAUUUUAFFFFABRRRQAUUUUAFFFFABRRRQAUUUUAFFFFABRRRQAUUUUAFFFFABRRRQAUUUUAFFFFABRRRQAUUUUAFFFFABRRRQAUUUUAFFFFABRRRQBLsX0o2L6U6igBuxfSjYvpTqKAG7F9KNi+lOooAbsX0o2L6U6igBuxfSjYvpTqKAG7F9KNi+lOooAbsX0o2L6U6igBuxfSjYvpTqKAG7F9KNi+lOooAbsX0o2L6U6igBuxfSjYvpTqKAG7F9KNi+lOooAbsX0o2L6U6igBuxfSjYvpTqKAG7F9KNi+lOooAbsX0o2L6U6igBuxfSjYvpTqKAG7F9KNi+lOooAbsX0o2L6U6igBuxfSjYvpTqKAG7F9KNi+lOooAbsX0o2L6U6igBuxfSjYvpTqKAG7F9KNi+lOooAbsX0o2L6U6igBuxfSjYvpTqKAG7F9KNi+lOooAbsX0o2L6U6igBuxfSjYvpTqKAI3AGMUynydq077QJbLT/ALS0qsVxvQD7ueOvegDHmO3Zt4yuT+ZrsfhhoeneIvEF1baxb/aYY7UyKu9kw25RnKkdia464/5Z/wC5/U17D+zF/wAlD1P/ALBT/wDo2Ok3YyrU5VKbhGVm+vY6H/hWfhH/AKBP/kzL/wDF0f8ACs/CP/QJ/wDJmX/4uvoGio9oeR/ZeJ/6CJfj/wDJHz9/wrPwj/0Cf/JmX/4uj/hWfhH/AKBP/kzL/wDF19A0Ue0D+y8T/wBBEvx/+SPn7/hWfhH/AKBP/kzL/wDF0f8ACs/CP/QJ/wDJmX/4uvoGij2gf2Xif+giX4//ACR8/f8ACs/CP/QJ/wDJmX/4uj/hWfhH/oE/+TMv/wAXX0DRR7QP7LxP/QRL8f8A5I+fv+FZ+Ef+gT/5My//ABdH/Cs/CP8A0Cf/ACZl/wDi6+gaKPaB/ZeJ/wCgiX4//JHz9/wrPwj/ANAn/wAmZf8A4uj/AIVn4R/6BP8A5My//F19A0Ue0D+y8T/0ES/H/wCSPn7/AIVn4R/6BP8A5My//F0f8Kz8I/8AQJ/8mZf/AIuvoGij2gf2Xif+giX4/wDyR8/f8Kz8I/8AQJ/8mZf/AIuj/hWfhH/oE/8AkzL/APF19A0Ue0D+y8T/ANBEvx/+SPn7/hWfhH/oE/8AkzL/APF0f8Kz8I/9An/yZl/+Lr6Boo9oH9l4n/oIl+P/AMkfP3/Cs/CP/QJ/8mZf/i6P+FZ+Ef8AoE/+TMv/AMXX0DRR7QP7LxP/AEES/H/5I+fv+FZ+Ef8AoE/+TMv/AMXR/wAKz8I/9An/AMmZf/i6+gaKPaB/ZeJ/6CJfj/8AJHz9/wAKz8I/9An/AMmZf/i6P+FZ+Ef+gT/5My//ABdfQNFHtA/svE/9BEvx/wDkj5+/4Vn4R/6BP/kzL/8AF0f8Kz8I/wDQJ/8AJmX/AOLr6Boo9oH9l4n/AKCJfj/8kfP3/Cs/CP8A0Cf/ACZl/wDi6P8AhWfhH/oE/wDkzL/8XX0DRR7QP7LxP/QRL8f/AJI+fv8AhWfhH/oE/wDkzL/8XR/wrPwj/wBAn/yZl/8Ai6+gaKPaB/ZeJ/6CJfj/APJHz9/wrPwj/wBAn/yZl/8Ai6P+FZ+Ef+gT/wCTMv8A8XX0DRR7QP7LxP8A0ES/H/5I+fv+FZ+Ef+gT/wCTMv8A8XR/wrPwj/0Cf/JmX/4uvoGij2gf2Xif+giX4/8AyR8/f8Kz8I/9An/yZl/+Lo/4Vn4R/wCgT/5My/8AxdfQNFHtA/svE/8AQRL8f/kj5+/4Vn4R/wCgT/5My/8AxdH/AArPwj/0Cf8AyZl/+Lr6Boo9oH9l4n/oIl+P/wAkfP3/AArPwj/0Cf8AyZl/+Lo/4Vn4R/6BP/kzL/8AF19A0Ue0D+y8T/0ES/H/AOSPn7/hWfhH/oE/+TMv/wAXR/wrPwj/ANAn/wAmZf8A4uvoGij2gf2Xif8AoIl+P/yR8/f8Kz8I/wDQJ/8AJmX/AOLo/wCFZ+Ef+gT/AOTMv/xdfQNFHtA/svE/9BEvx/8Akj5+/wCFZ+Ef+gT/AOTMv/xdH/Cs/CP/AECf/JmX/wCLr6Boo9oH9l4n/oIl+P8A8kfP3/Cs/CP/AECf/JmX/wCLo/4Vn4R/6BP/AJMy/wDxdfQNFHtA/svE/wDQRL8f/kj5+/4Vn4R/6BP/AJMy/wDxdH/Cs/CP/QJ/8mZf/i6+gaKPaB/ZeJ/6CJfj/wDJHz9/wrPwj/0Cf/JmX/4uj/hWfhH/AKBP/kzL/wDF19A0Ue0D+y8T/wBBEvx/+SPn7/hWfhH/AKBP/kzL/wDF0f8ACs/CP/QJ/wDJmX/4uvoGij2gf2Xif+giX4//ACR8/f8ACs/CP/QJ/wDJmX/4uj/hWfhH/oE/+TMv/wAXX0DRR7QP7LxP/QRL8f8A5I+fv+FZ+Ef+gT/5My//ABdH/Cs/CP8A0Cf/ACZl/wDi6+gaKPaB/ZeJ/wCgiX4//JHz9/wrPwj/ANAn/wAmZf8A4uj/AIVn4R/6BP8A5My//F19A0Ue0D+y8T/0ES/H/wCSPn7/AIVn4R/6BP8A5My//F0f8Kz8I/8AQJ/8mZf/AIuvoGij2gf2Xif+giX4/wDyR8/f8Kz8I/8AQJ/8mZf/AIuj/hWfhH/oE/8AkzL/APF19A1HcQJc28kEoykilWFHtBPK8VbTES/H/wCSPAv+FZ+Ef+gT/wCTMv8A8XR/wrPwj/0Cf/JmX/4uuxvbV7K9ltpfvRtjPqOxqCtD5mWKxUW4upK682cr/wAKz8I/9An/AMmZf/i6P+FZ+Ef+gT/5My//ABddVWaPEGmm8Nt5zrIJfJ3NA4TzOm3eV259s0DjicXL4ZyfzZj/APCs/CP/AECf/JmX/wCLo/4Vn4R/6BP/AJMy/wDxdbo1exa1FyJ/3Rn+zhtjf6zfsxjH97jPSmnW9OFveT/aR5di5S4O1sxkdeMZP4UD9vjP5pfezE/4Vn4R/wCgT/5My/8AxdH/AArPwj/0Cf8AyZl/+LroF1Oza7ubUTjz7VA8yYOVUjIPv+FQnXtNFu0xuf3a2q3Zby24ibOG6ex46+1ALEYx7Sl976mL/wAKz8I/9An/AMmZf/i6P+FZ+Ef+gT/5My//ABddCuo2jy20aTBmuozLDgEh1GMnPT+IfnUFrrunXl0Le2uN8jZ2HYwWTHXaxGGx7E0B9Yxlr88vvZi/8Kz8I/8AQJ/8mZf/AIuj/hWfhH/oE/8AkzL/APF11VVtR1K00mxe71CZYYU6sefwA7mgmOKxUnZTlf1Zz3/Cs/CP/QJ/8mZf/i6P+FZ+Ef8AoE/+TMv/AMXV3SvGOlaveLaRNNBO674o7iMoZV65X1rdoKqYjGU3yznJP1Zyv/Cs/CP/AECf/JmX/wCLo/4Vn4R/6BP/AJMy/wDxddrpli2o6hFbJwGPzH0Xua9KjjWKNY4xtRAFUDsBUylY9PAUMXjIuXtpRS82/wBUeAf8Kz8I/wDQJ/8AJmX/AOLo/wCFZ+Ef+gT/AOTMv/xdfQNFT7Q9L+y8T/0ES/H/AOSPn7/hWfhH/oE/+TMv/wAXR/wrPwj/ANAn/wAmZf8A4uvoGij2gf2Xif8AoIl+P/yR8/f8Kz8I/wDQJ/8AJmX/AOLo/wCFZ+Ef+gT/AOTMv/xdfQNFHtA/svE/9BEvx/8Akj5+/wCFZ+Ef+gT/AOTMv/xdH/Cs/CP/AECf/JmX/wCLr6Boo9oH9l4n/oIl+P8A8kfP3/Cs/CP/AECf/JmX/wCLo/4Vn4R/6BP/AJMy/wDxdfQNFHtA/svE/wDQRL8f/kj5+/4Vn4R/6BP/AJMy/wDxdH/Cs/CP/QJ/8mZf/i6+gaKPaB/ZeJ/6CJfj/wDJHz9/wrPwj/0Cf/JmX/4uj/hWfhH/AKBP/kzL/wDF19A0Ue0D+y8T/wBBEvx/+SPn7/hWfhH/AKBP/kzL/wDF0f8ACs/CP/QJ/wDJmX/4uvoGij2gf2Xif+giX4//ACR8/f8ACs/CP/QJ/wDJmX/4uj/hWfhH/oE/+TMv/wAXX0DRR7QP7LxP/QRL8f8A5I+fv+FZ+Ef+gT/5My//ABdH/Cs/CP8A0Cf/ACZl/wDi6+gaKPaB/ZeJ/wCgiX4//JHz9/wrPwj/ANAn/wAmZf8A4uj/AIVn4R/6BP8A5My//F19A0Ue0D+y8T/0ES/H/wCSPn7/AIVn4R/6BP8A5My//F0f8Kz8I/8AQJ/8mZf/AIuvoGij2gf2Xif+giX4/wDyR8/f8Kz8I/8AQJ/8mZf/AIuj/hWfhH/oE/8AkzL/APF19A0Ue0D+y8T/ANBEvx/+SPn7/hWfhH/oE/8AkzL/APF0f8Kz8I/9An/yZl/+Lr6Boo9oH9l4n/oIl+P/AMkfP3/Cs/CP/QJ/8mZf/i6P+FZ+Ef8AoE/+TMv/AMXX0DRR7QP7LxP/AEES/H/5I+fv+FZ+Ef8AoE/+TMv/AMXR/wAKz8I/9An/AMmZf/i6+gaKPaB/ZeJ/6CJfj/8AJHz9/wAKz8I/9An/AMmZf/i6P+FZ+Ef+gT/5My//ABdfQNFHtA/svE/9BEvx/wDkj5+/4Vn4R/6BP/kzL/8AF0f8Kz8I/wDQJ/8AJmX/AOLr6Boo9oH9l4n/AKCJfj/8kfP3/Cs/CP8A0Cf/ACZl/wDi6P8AhWfhH/oE/wDkzL/8XX0DRR7QP7LxP/QRL8f/AJI+fv8AhWfhH/oE/wDkzL/8XR/wrPwj/wBAn/yZl/8Ai6+gaKPaB/ZeJ/6CJfj/APJHz9/wrPwj/wBAn/yZl/8Ai6P+FZ+Ef+gT/wCTMv8A8XX0DRR7QP7LxP8A0ES/H/5I+fv+FZ+Ef+gT/wCTMv8A8XR/wrPwj/0Cf/JmX/4uvoGij2gf2Xif+giX4/8AyR8/f8Kz8I/9An/yZl/+Lo/4Vn4R/wCgT/5My/8AxdfQNFHtA/svE/8AQRL8f/kj5+/4Vn4R/wCgT/5My/8AxdH/AArPwj/0Cf8AyZl/+Lr6Boo9oH9l4n/oIl+P/wAkfP3/AArPwj/0Cf8AyZl/+Lo/4Vn4R/6BP/kzL/8AF19A0Ue0D+y8T/0ES/H/AOSPn7/hWfhH/oE/+TMv/wAXR/wrPwj/ANAn/wAmZf8A4uvoGij2gf2Xif8AoIl+P/yR8/f8Kz8I/wDQJ/8AJmX/AOLo/wCFZ+Ef+gT/AOTMv/xdfQNFHtA/svE/9BEvx/8Akj5+/wCFZ+Ef+gT/AOTMv/xdH/Cs/CP/AECf/JmX/wCLr6Boo9oH9l4n/oIl+P8A8kfP3/Cs/CP/AECf/JmX/wCLo/4Vn4R/6BP/AJMy/wDxdfQNFHtA/svE/wDQRL8f/kj5+/4Vn4R/6BP/AJMy/wDxdH/Cs/CP/QJ/8mZf/i6+gaKPaB/ZeJ/6CJfj/wDJHz9/wrPwj/0Cf/JmX/4uj/hWfhH/AKBP/kzL/wDF19A0Ue0D+y8T/wBBEvx/+SPn7/hWfhH/AKBP/kzL/wDF0V9A0Ue0D+y8T/0ES/H/AOSPgWiiitD3C/olpFfazBb3AJjctuAOM4Un+ldl/wAIxpH/AD6f+RX/AMa5Twvj/hJLTcMj5s4P+wa9yij8KWESa5DK1z8oEWkynLLMOpc907+9fTZVGj9XcqlPmbk0tL9Fp5fkcdZy59HY8z8VeCo9E8Nx6i1kbYzgPCTKSzLuAyVJyBz1xXB16Z461O71jTL68v5TJNIU+ijeMADsB6V55p19JpuoRXcKozxNkK65B9Qa4s2oxp14xaUbrWy03ZpRk3FvcrUV1niXxhDq+nJaWFoIFcBp2ZRnI52j2z3rk68iSSdkzdbFrTLZL3VrS1lLBJpkjYr1AJA4rTv7bQrPUHtfK1ICKfy3kaVMFQcEj5OtZ2kTx2utWU87bYop0d2wTgBgSeK3davbfVboifxIJrRrjeITBL+7Uk8/d7A1rFR5V3v/AJEvcj1HwzbaVazzXU8jiWZUsNjD96h5LnjoAQOO9T3fh3Sf7Rv9MsnvEu7WEyq8ro0b4UMRwARwetJqutaXq1m0IxbfYJVFidjHzIuAVOBweM81D4h8US3WpXiaZJEtrMAhljgCvIuBkFiN3Wql7NLT+tP8wV76jNS0zR9Mht1kj1CWaa1SbesqBAWHTG3OM1bXw5pMl5aacsl6l5d2izpIWQxhipOCMA44Pen6nq8N7p0ENr4gFvEtmkUlqYZPmYLyM7cc9Km/4SeyaaG1EqRwtpwgN2sJ8yGTb64yR249apqneX9d/wDgErmsv67FPS/DFjd3WmpczTol1aSTysrL8pViOOOnFR6F4US/1m+tNRkkjjsyULRkAs+eByD2BNTWWs6dCtgstxxDp00EmEbh2JwOnfPWrtr4p05brTZXlMbPukv32Mf3gi2L0HOevHrSSp3+/wDX8h+9Yx30zSLPRtPu7yO/lku1diIJECrtbHdTT73wzFHoen6laPKyTlftCMQTGGOFIwOnGPrVuHWYj4f0+1ttf/s6SFHE0flSHdlsjkKR0/nTYfEVnaSaTEJPPtktTb3iBWHBbOeR1HB4otT5rPuL3gg8P6M3ie40aU32+Nm2SLKgG0Lu5+Xr1qpp+kaXqMV7eQpqDW1qifuEZWmdiTznGAox6VZj1qwX4gXGpGf/AER9+2TY3OUwOMZ6+1Zmhz2kCzGS/m027GDDcoGZcd1YLzzUrl0KdypqUFjFeKNMuHmgdQ37xcPGT1U9iR6jirOtaVBpviWTT4GkaFWQBnILcgE9B71J4l1C11DVo5rV/NKxIk1x5ezznHV9vbt+VaGvSaNf6xLqlvrKsxZGEH2aQE4AH3iMdqSUfx/AHe3yBvDVjby6pJN9tnt7KcQrHb7TJjGdzEjGPwqDTdL0K915dPWe8nSdh5M0bKm0bc4YFTyDkccVZfU9Ol1rULu11WbTrh7jfFcqjskkf90qBnrzyKZ/bWnHx7b6kr7LZCPNm8sjzG2kF9o5GTTjy+7fyB31sYGoiyW7K6cs6xqMN57hmLZPoBx0qrT5mD3EjLyGYkH8aZXPe5b3CiiigAooooAKKKKACiiigAooooAKKKKACt228J3lzYwz/abOKW4iaaC2klIllUZ5AxjscZIrCrs9L1XRk0SG31LUPtFqkDiSwubYvIshzzDIB8gJx1PHPrVJKzF1Mq08I315awSJcWkc9zGZLe0klIlmUd1GMc4OMkZxTrTwfd3ltaPHe2STXqM9vbSO4kk2kgj7u3PHrWpZaxoz3WjavdXzQz6XbLE9mIWZpWTO0qw+XBz3IxVix8W2McOmW8sscWbWeOa4FvmS0kdmKsrbc9+g9apqIk2c/B4ZM+ktqH9r6fHCjKkgcy7o2YEhSBGeeD0yKZdeHDY2cM91qlhG81utxHATIXZSOBwmM8etLBf20Xg2/sGmzcy3cUiKFPzKoYE5xjuOta2r6nY6hodnFBqOnq0OnxxPHLYsZt6jkLJ5Zx6fex1pO1nby/Ia3/ruZ2oeELzT4bl/tVncyWqLJPBA7GSNWAIYhlGRyOmcZqrpegyanY3F4b20tILd0jd7lnHLZx91T6V0eq61o6Xer6jaagLqa/sxaR26QuuzKqGZmYAcbTwM1R8MarZ2ehaha3F5a20800Tx/arVp0IXOeArDPIp2jf+u/8AkLWy/rp/mU7nwfqdsXX9zLIl0lq0cTEkM4yjdMbTng1lajZNp2oz2byxTPA5RniJKkjrgkDvXYQ+KrK28Xa3fW106W91at5TujHfOFG0gHJHzZxnoPSuGJJJJOSepNQ7aWKCiuq8J+Mf7Cia0vY2ltDll8sDcjf1BrH13Wp9e1Rru4AQY2xov8C9hnv161UlFJNMlX6mbRRRUFFu2shdR5WYBh1Xb0pLqzFqo3TBmPRQKZYuI7yMs20ZwTSXhJvJcnPzGnpYXUhooopDCiiigCOTtXY6/wD8gO4/4D/6EK46TtXY6/8A8gO4/wCA/wDoQpiOJuP+Wf8Auf1New/sxf8AJQ9T/wCwU/8A6Njrx64/5Z/7n9TXsP7MX/JQ9T/7BT/+jY6iRR9RUUUVgUFFFFABRRRQAUUUUAFFFFABRRRQAUUUUAFFFFABRRRQAUUUUAFFFFABRRRQAUUUUAFFFFABRRRQAUUUUAFFFFABRRRQAUUUUAFFFFABRRRQAUUUUAFFFFABRRRQAUUUUAFFFFABRRRQAUUUUAFFFFABRRRQAUUUUAFFFFAHLeMdO3Rx38Y5X5JMenY/0/EVyNep3ECXNvJBKMpIpVhXmd7avZXsttL96NsZ9R2NbQelj47O8L7Oqq0dpb+v/BIK47+zb0XDTTfapLM6uzy2YjGCu75ZBhdxAbaTzjANdjRV9bni0qzp3stzj47a6FqukfY7jzl1X7QZPKPleX53mbt/Tp2znPaqWraPfx6Xq93p9pK81zcTRTQhDmaMt8rgY5Knp7E13tFC0/r0/wAjojjZRlzJdbnI6lpl4dU1fUrG3c3UQQRjaQLiMx4dAe/qPcCqj6feHRp0+yT7z4dghC+UcmQb8pjH3hnp1ruaKFoKOMkklba34W/y/E5GLSby18SW9rFE39nrbXBglAOITJtzGfTBBI9jjtS6adQWXRLOOG7iFmgivIpLZfKAVCN6yFeSTj7rdO3WutopieKclaSW3+ev4/eFcd8StKvNS8PRNYo0v2ebzJI0GSRgjIHfGf1rsaKTMcPWdCqqi6HkGk293r/ivRZLLLx2EECzSpGyCLZ1Uk9T24616/RVvTLFtR1CK2TgMfmPovc02zoxFeWMqRjGNuiR1PhDTvIs2vZB883Ceyj/ABP8hXR02ONYo1jjG1EAVQOwFOrmbu7n3WFoRw9GNJdAooopHSFFFFABRRRQAUUUUAFFFFABRRRQAUUUUAFFFFABRRRQAUUUUAFFFFABRRRQAUUUUAFFFFABRRRQAUUUUAFFFFABRRRQAUUUUAFFFFABRRRQAUUUUAFFFFABRRRQAUUUUAFFFFABRRRQAUUUUAFFFFABRRRQAUUUUAFFFFAHwLRRRXSQSW9xLa3CTW7lJEOVYdq0v+En1f8A5+//ACEn+FZNFbU8RWpK1ObS8m0S4xe6L93reo31uYbq5LxkgldijP5CqFFFTUqTqPmm2356gklsFFFFZlBRRRQAUUUUAFFFFABRRRQAUUUUAFFFFABRRRQAUUUUAFFFFABRRRQAUUUUAFFFFABRRRQAUUUUAFFFFABRRRQAUUUUAFFFFABRRRQAUUUUAFFFFABRRRQAUUUUAFFFFABRRRQBHJ2rsdf/AOQHcf8AAf8A0IVx0naux1//AJAdx/wH/wBCFMRxNx/yz/3P6mvYf2Yv+Sh6n/2Cn/8ARsdePXH/ACz/ANz+pr2H9mL/AJKHqf8A2Cn/APRsdRIo+oqKKKwKCkJ2qSegGeBmlrnvHOtX3h/wpcahpqRtKhVS0n8AY43AdyCRxRvoNG3aXUd7aR3EIcRyLuUSIUb8QQCKmryvwF4zvfEHi5EuNPtjcva7Lm7V2VmROh25253HsB1r1StKkHB2ZEZJhRRRWZQUUUUAFFFFABRRRQAUUUUAFFFFABRRRQAUUUUAFFFFABRRRQAUUUUAFFFFABRRRQAUUUUAFFFFABRRRQAUUUUAFFFFABRRRQAUUUUAFFFFABRRRQAUUUUAFFFFABRRRQAUUUUAFFFFABRRRQAUUUUAFUbzRdPv5/Ou7cPJjbu3MOPwNXqKCJ04VFyzSa8zJ/4RjSP+fT/yK/8AjR/wjGkf8+n/AJFf/GtaindmH1PDf8+4/cjJ/wCEY0j/AJ9P/Ir/AONH/CMaR/z6f+RX/wAa1qKLsPqeG/59x+5GT/wjGkf8+n/kV/8AGj/hGNI/59P/ACK/+Na1FF2H1PDf8+4/cjJ/4RjSP+fT/wAiv/jR/wAIxpH/AD6f+RX/AMa1qKLsPqeG/wCfcfuRk/8ACMaR/wA+n/kV/wDGj/hGNI/59P8AyK/+Na1FF2H1PDf8+4/cjJ/4RjSP+fT/AMiv/jVmy0ix06RpLOARuw2k7iePxNXaKLsqOFoQlzRgk/RBRRRSOgKKKKACiiigAooooAKKKKACiiigAooooAKKKKACiiigAooooAKKKKACiiigAooooAKKKKACiiigAooooAKKKKACiiucv/iB4Y0y+ls73VFSeFtsirDI+0+mVUimk27IDo6K5P8A4Wd4Q/6C/wD5LTf/ABFaei+LtD8Q3EkGj363Esa72Ty3Q4zjPzAZ/Cq5JrVoXMjZoooqBhRVe/v7XS7CW9v5lht4V3PI3YfhXN/8LO8If9Bf/wAlpv8A4iqUZS2QN23Osork/wDhZ3hD/oL/APktN/8AEV0en6jaarp8V7p8yz28wykigjPboeR9KHGSV2hXRZoooqRhRWPrfizRPDssUWsXy28kq7kXy3ckeuFBxWX/AMLO8If9Bf8A8lpv/iKpQk1dITaW51lFc3Y/EHwvqV9FZ2eqq88zBI1aGRNxPQZZQK6Sk4uO6C6ewUUUUhhRRRQAUUUUAFFFFABRRTRLGZWiDqZFAZkB5APQkfgfyoAdRTZJY4U3zOsa5AyxwMk4A/OnUAFFFFABRRRQB8B7z/kUbz/kVd0SBLrVY45RuXBOPoK63+zLf/nhH/3wK7YwclcybscLvP8AkUbz/kV3X9mW/wDzwj/74FH9mW//ADwj/wC+BVeyYuY4Xef8ijef8iu6/sy3/wCeEf8A3wKP7Mt/+eEf/fAo9kw5jhd5/wAijef8iu6/sy3/AOeEf/fAo/sy3/54R/8AfAo9kw5jhd5/yKN5/wAiu6/sy3/54R/98Cj+zLf/AJ4R/wDfAo9kw5jhd5/yKN5/yK7r+zLf/nhH/wB8Cj+zLf8A54R/98Cj2TDmOF3n/Io3n/Iruv7Mt/8AnhH/AN8Cj+zLf/nhH/3wKPZMOY4Xef8AIo3n/Iruv7Mt/wDnhH/3wKP7Mt/+eEf/AHwKPZMOY4Xef8ijef8AIruv7Mt/+eEf/fAo/sy3/wCeEf8A3wKPZMOY4Xef8ijef8iu6/sy3/54R/8AfAo/sy3/AOeEf/fAo9kw5jhd5/yKN5/yK7r+zLf/AJ4R/wDfAo/sy3/54R/98Cj2TDmOF3n/ACKN5/yK7r+zLf8A54R/98Cj+zLf/nhH/wB8Cj2TDmOF3n/Io3n/ACK7r+zLf/nhH/3wKP7Mt/8AnhH/AN8Cj2TDmOF3n/Io3n/Iruv7Mt/+eEf/AHwKP7Mt/wDnhH/3wKPZMOY4Xef8ijef8iu6/sy3/wCeEf8A3wKP7Mt/+eEf/fAo9kw5jhd5/wAijef8iu6/sy3/AOeEf/fAo/sy3/54R/8AfAo9kw5jhd5/yKN5/wAiu6/sy3/54R/98Cj+zLf/AJ4R/wDfAo9kw5jhd5/yKN5/yK7r+zLf/nhH/wB8Cj+zLf8A54R/98Cj2TDmOF3n/Io3n/Iruv7Mt/8AnhH/AN8Cj+zLf/nhH/3wKPZMOY4Xef8AIo3n/Iruv7Mt/wDnhH/3wKP7Mt/+eEf/AHwKPZMOY4Xef8ijef8AIruv7Mt/+eEf/fAo/sy3/wCeEf8A3wKPZMOY4Xef8ijef8iu6/sy3/54R/8AfAo/sy3/AOeEf/fAo9kw5jhd5/yKN5/yK7r+zLf/AJ4R/wDfAo/sy3/54R/98Cj2TDmOF3n/ACKN5/yK7r+zLf8A54R/98Cj+zLf/nhH/wB8Cj2TDmOF3n/Io3n/ACK7r+zLf/nhH/3wKP7Mt/8AnhH/AN8Cj2TDmOF3n/Io3n/Iruv7Mt/+eEf/AHwKP7Mt/wDnhH/3wKPZMOY4Xef8ijef8iu6/sy3/wCeEf8A3wKP7Mt/+eEf/fAo9kw5jhd5/wAijef8iu6/sy3/AOeEf/fAo/sy3/54R/8AfAo9kw5jhd5/yKN5/wAitTxHax2l9GIlC703ED61kZrJqzsUK7ZxXY6//wAgO4/4D/6EK4w12ev/APIDuP8AgP8A6EKAOJuP+Wf+5/U17D+zF/yUPU/+wU//AKNjrx64/wCWf+5/U17D+zF/yUPU/wDsFP8A+jY6iRR9RUUUVgUFee/FnWdmhNo1pC0886iafYpbyYlYfMcdMkAc+9ehV4jrukeOx4j1eWK1unW+LRSPbjckkWflA9Bj8a0pxTlr0C9lcsaGml+EPFmhzaHqA1k6jEYbmKLDNHu28gDpz2PPBr2V3WNC8jBVUZLMcACvLvAPh2e38aG+n8PT6TBFZbYxKxcGXgFtx7kZ4rS+I+k6DJ9nl1zVNRsvtDFY2R2lhVgOpjOcf8BxWtW0pJf1uZwW51dv4o0K7vDa22r2Us+cBFnUlj6Dnn8K1a8EPgnRLXNzf+MdO+w8FDbAyTP7bAcr+teg+C7AW9/Y3GjXGpz6JNYSYN3MSokEoA+XopwDjA6VMqcUrpjUmd1RRRWBZw2ueOL+01y+s9MtopFsNodHt5pHnYjcVVkG1ODjLZ5qe/8AFmq2+t22l29rb+bqaxSWDyqQI1PMglG7OVA4xjNa194UtbvU5r6G9v7GW4VVuBZz+Ws4HTdwTnHGRg1He+DdOv7qe7uJro3UjRNFcbxvtvLOVEZI45znOc55rWLhpcTvrYztcsWt/HXh+6N5dSm4uZAYXl/dRgRH7qdB9eT71naxYW+rah4uu74s8+mQJ9iYOQbciLfuXB4Jbv7V2d7pEF/qGn3kzyiSwkaSIKQAxZdp3ceh7YrP1TwfY6rfT3L3N5b/AGpFjuorebYlyq9A4we3HBHFJS/r7h9bmlotzJeaDYXM/wDrZraOR/qVBNXabHGkUaxxqFRAFVR0AHanVEmm20KKsrBRRRSGFFFFABRRRQAUUUUAFFFFABRRRQAUUUUAFFFFABRRRQAUUUUAFFFFABRRRQAUUUUAFFFFABRRRQAUUUUAFFFFABRRRQAUUUUAFFFFABRRRQAUUUUAFFFFABRRRQAUUUUAFFFFABRRRQAUUUUAFFFFABRRRQAUUUUAFFFFABRRRQAUUUUAFFFFABRRRQAUUUUAFFFFABRRRQAUUUUAFFFFABRRRQAUUUUAFFFFABRRRQAUUUUAFFFFABRRRQAV4lb/API8+JP+Rb/4+3/5D33fvt9z39fwr22vJbvwr4nsPFer3ll4b0vV4LydpI3vRG4UEk8BnBB5wfpW1FpSd+3+QpfD80YuteGv7Xuhc/214Lsdse3yrC78tDjJzjB55qb4NjHjO5H/AE5P/wChpWfdfDjxfc3cs/8AYccPmuX8uKeFUTJzhRv4HtXW/DPwXrnh/wAQ3F7rFottEbYxL+9RyxLKf4Sf7veupyioNX6GLTb2PUaKKK883OW+JX/JPNU/3Y//AEYtedeBPDGkazpNpPqVp50kmqPbufNdcxi3ZwvBH8QBz1r1HxppV1rfg+/sLBVe4lVdis2NxDBsZP0ry/S/DHxG0aCOHTbTyY45zcIPNt2xIUKE8k/wkjHSuii/ckk7MmfT5mZr+naPdeEYtd0fTZNKK3ptHgadpVk+XdvBbn2r1P4X/wDJO9O+sv8A6NavPta8L/EfxEYv7ZtmuRFnYvnwIo98KwGfevT/AAPpN3ofg2xsNQVUuIw5dVYNt3OWxkcd60qNeztfr3uTvJWRv0UUVxmhwmu3Utn8ToZbd9jnToUJwD8rXiKw59QSKz9F+LlvcagLTVLZo/NvDGkwICxxHO0t7g4B9ue3Ot4p0jVJPFMepWOjnVrd7IWzxJei2aNhKJAwbIPUDpVPZ4h/6E/U/wDwq5P/AIuuiHK4rm/PzJne7t/WhrePP9VoP/Yatv5murrzttM8Q6neadDJ4duNPghv4bqWe51s3YAjJ4CsSRnPb2z7eiVnJWjb+ug73fy/zCiiisxnm2tWHhiTXLx7zwR4gvJ2lYyXEEEpSQ55ZSJAMfhVH+zfCH/RPvE3/gPN/wDHa7K90TxPPfTS2fi77LA7kxwf2ZE/lj03E5P1qD/hH/F//Q7/APlJh/xrojO0Vr+LIktS74Og06DRXXSNIvtIg84kwXyMrlsD5sMxOOnftW/Wfo1nqNlZNHq+qf2nOXJE32dYcLgfLtXj15960Kxm7yuVHYKKKKkYVyni/TPsW7xPplzHY6jZpmRpDiO5jH/LN/X2PXOPbHV1z+p+G5Nb1+GfVblZdKtgHhsVXAeX+9J/eA7D/JqOjDoc9oVwfiNqBvtVKRafYOvl6UHyWkxnzJPUeg6H88+g1z+seGXuNWt9Y0W4Ww1OIhZHK5SeLPKuo68dP/1EdBVSaaVvuEk76hRRRWYwooooA+FvC/OvRf7rfyrucVw3hb/kPRf7rfyruq9Oj8Jzy3ExRilorYkTFGKWigBMUYpaKAExRilooATFGKWigBMUYpaKAExRilooATFGKWigBMUYpaKAExRilooATFGKWigBMUYpaKAExRilooATFGKWigBMUYpaKAExRilooATFGKWigBMUYpaKAExRilooATFGKWigBMUYpaKAExRilooATFGKWigBMUYpaKAExRilooATFGKWigBMUYpaKAOP8Y8ahB/1y/qa52ui8Y/8hC3/AOuX9TXO1xVPiZrHYK7TX/8AkB3H/Af/AEIVxddpr/8AyA7j/gP/AKEKkZxNx/yz/wBz+pr2H9mL/koep/8AYKf/ANGx149cf8s/9z+pr2H9mL/koep/9gp//RsdRIo+oqKKKwKCiiigAqrqGmWOrWpt9StYrqI/wyoDj3HofcVaooA4+1+F3ha11Brr7HJMCQVgmlLRp9B1P/Aia62GGK3hSG3jSKJBhURQqqPQAdKfRVOUpbsVkgoooqRhRUE1/aW8mye6hif+68gB/I1H/aun/wDP/a/9/l/xp8r7Cui3RVT+1dP/AOf+1/7/AC/40f2rp/8Az/2v/f5f8afK+wXRboqp/aun/wDP/a/9/l/xo/tXT/8An/tf+/y/40cr7BdFuiqn9q6f/wA/9r/3+X/Gj+1dP/5/7X/v8v8AjRyvsF0W6KZDPFcR77eVJUzjcjBh+lPqRhRRRQAUUUUAFFFFABRRRQAUUUUAFFFFABRRRQAUUUUAFFFFABRRRQAUUUUAFFFFABRRRQAUUUUAFFFFABRRRQAUUUUAFFFFABRRRQAUUUUAFFFFABRRRQAUUUUAFFFFABRRRQAUUUUAFFFFABRRRQAUUUUAFFFFABRRRQAUUUUAFFFFABRRRQAUUUUAFFFFABRRRQAUUUUAFFFFABRRRQAUUUUAFFFFABRRRQAUUUUAFFFFABRRRQAUUUUAFFFFABRRRQAUUUUAFFFFABRRRQAUUUUAFFFFABRRRQAUUUUAFFFFABRRRQAUUUUAFFFFABRRRQAUUUUAfC3hb/kPRf7rfyruq4Xwt/yHov8Adb+Vd1Xp0fhOeW4UVPaKr3SK4yOeD9KshwxAEERJ4ACda9HD4Srib+z6GUpqO5n0V0Ot6FNpGnxNfC3juJkEn2dP9ZECeNw7Z9K56ueceSXKUncKcieZIqAqCxAyxwB9TTa6DwPbRXfi60iuLZLiI7iyuu4DCkg4+uOtQDMW5tZbSYxzL67WHKuM43Ke446ioa7n4k2lpby6c1hBGsZR13xnI4I+X0GOePeuGqIS5lcpqzCiiirEFFb+ieD7/XbI3cM9rbQmXyUa5kK+Y/ouAasW3gLVrqMyLJaokcksVwzyEC2aPk7+OM44xnqKlyit2NJvY5iiuts9K0K58DardwJcS6jZLFvlkbEYLPj5AOowP4vWtTTfDuhP/ZGj3NjJJfapYNc/bROwMTFWZQE6EfL3pOdr+X+V/wAhqLav/X9ann1FKQVJB4I60lWSFFFFABRRRQAUUUUAFFFFABRRRQAUUUUAFFFFABRRRQAUUUUAFFFFABRRRQAUUUUAFFFb9xa6Q7w2bB7C4+zwutwC0kcjPGrHevJXljyue3y96TdgMCirOoWE+mX8tneKFmiOGAII6ZHP0NesAanHqOnXE10o8PxaQjXsEk6spGw5/dZJzyOcfjUSnyjSuePUV2Vt4T0661+wtRJcpBd6X9uOHXcrYY4Bx04Hv71Nb+EtFuUtrNZb9dQuNKF+JC6eUrbc7cbckcHv+dHtIhys4eiu6n8IaLumsreW/wDt6aWL8SO6eVnaDtwFz365qzrPhrSbS1uNQ1e71a8FvFbBR56FjvU8ZZTgDtR7RBys88orudS8HaRoa6jd6jNezWcE8UNukDIsh3oGJYlSOAew5rnfFGl2+i+JLqws3keCLYUaUgsdyK3OAB3pxmpPQGmjIoooqxBRRRQBx/jH/kIW/wD1y/qa52ui8Y/8hC3/AOuX9TXO1xVPiZrHYK7TX/8AkB3H/Af/AEIVxddpr/8AyA7j/gP/AKEKkZxNx/yz/wBz+pr2H9mL/koep/8AYKf/ANGx149cf8s/9z+pr2H9mL/koep/9gp//RsdRIo+oqKKKwKCiiigAooooAKKKKACiiigClp5SO0mkYqv7+Yux46SMMk/QD8qjt9btJ9QmthNCAm0Rv5oPmk9h9Kl07a9rNG2GxPMGU89ZGOD+BH50yDSLaC/muRHGfM27U8sYjIHatPdu7k620HahqSaeYA6F/NfacHG1e7fhkVEdVdbqRGtx5CTiAyCTJDEDB246cgdade6Sl/cNJPK4XyvLVUJXGepODz249qih0aVXxNdiSMyrK6iLBZlAA5yeMjPShcltQd+g+x1Zrt4RNbiJbhWaJhJuztPIPAwael/cG/lglghRIVDvIJiflOe232pljpLWjwma4Eq26ssSiPbjceSeTk0+501p5Ltln8v7TEsZ+XO0AnPfuDih8l9A1sRRa151gkyW582SURLEWxyeRk44GOelXrWaSaImeEwurFSpOQcdwe4qgdCVHZra4dPmR035fa65Gck8jBxirWnWI0+3eMMrF5C52JtUZxwBk46US5LaAr9R08DrL9ptcebjDoTgSj0Pv6Gpbe4juY98Z6HDKeCp7gjsainndpfs1rjzcZdyMiIep9/QVLb28dtHsjHU5ZjyWPck9zUvbUZJRRRUjCiiigAooooAKKKKACiiigAooooAKKKKACiiigAooooAKKKKACiiigAooooAKKKKACiiigAooooAKKKKACiiigAooooAKKKKACiiigAooooAKKKKACiiigAooooAKKKKACiiigAooooAKKKKACiiigAooooAKKKKACiiigAooooAKKKKACiiigAooooAKKKKACiiigAooooAKKKKACiiigAooooAKKKKACiiigAooooAKKKKACiiigAooooAKKKKACiiigAooooAKKKKACiiigAooooAKKKKACiiigAooooAKKKKACiiigAooooAKKKKACiiigD4W8Lf8h6L/db+Vd1XC+Fv+Q9F/ut/Ku6r06PwnPLcs2BxfRkjPXg9+K7aPV/D9jCur6dprprG0IloyEwQuP+Woz19h61wIJU5U4I7in/AGib/nq//fRruo1vZXVt/O3yZnJXNC9nuLtbq5vXeSaVgzu/VjmsuntLI4w7sw9Cc0yliK3tqjna3/DWCMeVWCvRvh5Fpttpkl22owQXskoV1dlDLGD935uzeo/pXnNFc8ldWKO78aXljBb6ZpkEUIsgWnnis5g2GJxwxB9T2rZtdH8NW1n9nufD98JZFHEkLys/+66EqPwIryutu28Y69aWhtodSl8sjA3gMy/QkEis+R8tkx3u7k/inS9O09kNhFcW0plZJbWeVXaMBVIPy5xnd3JrnaknnluZmmuJXllc5Z5GLMfqTUdaRVlqDZ2vhnxrBpfh9dLvZNQtvKmMkc1gEJZT1Rg/v3FT2njXSIrO9tbm2vp01SWVr2Vyu9VIxGE5AJHGScVwdFS6cW3cE2jc0zWbWx8N63prrM8l/wCUIWCjA2MSd3PHB7ZrbsPGOkwQade3Nrdtq2m2bWsIQr5LjBCliTkYBPauIopyipb/ANaW/IOZoXr1pKKKoQUUUUAFFFFABRRRQAUUUUAFFFFABRRRQAUUUUAFFFFABRRRQAUUUUAFFFFABRRRQAVtP4haNI20+1S1uhDHE91u3yfIgQbDj5OFHTnrzjisWik0mArMWYsxJJOSSetby+MdRTV7bUBHb74LQWfllCUljAIwwzk5z2IrAooaT3C509p47vbOOEJp2nPLBAbaKd4nLrEc/LndjjPHGaq2/i2/t76C6SK3LwWAsFBVsGPGMnn73P09qwqKXJHsO7N//hL7/wDtCS88m28ySx+wkbWx5eAM/e+9x9PajU/GGoarYTWlxDbLHMIgxjVgR5YwuMsfxrAoo5YhdncWHixNVN9/btzp8CztEfs9zZyyxHYMbhsbcGwB14NYHi3U7fWPFV7fWWTBIyhCV25CqFzjtnFY1FJQSd0F2woooqxBRRRQBx/jH/kIW/8A1y/qa52ui8Y/8hC3/wCuX9TXO1xVPiZrHYK7TX/+QHcf8B/9CFcXXaa//wAgO4/4D/6EKkZxNx/yz/3P6mvYf2Yv+Sh6n/2Cn/8ARsdePXH/ACz/ANz+pr2H9mL/AJKHqf8A2Cn/APRsdRIo+oqKKKwKCiiigAooooAKKKKACiiigCCawtLiTfPawyv/AHnjBP5mo/7K0/8A58LX/vyv+FW6KfMxWRU/srT/APnwtf8Avyv+FH9laf8A8+Fr/wB+V/wq3RT5n3CyKn9laf8A8+Fr/wB+V/wo/srT/wDnwtf+/K/4Vboo5n3CyKn9laf/AM+Fr/35X/Cj+ytP/wCfC1/78r/hVuijmfcLIZDBFbx7LeJIkznaihR+lPooqRhRRRQAUUUUAFFFFABRRRQAUUUUAFFFFABRRRQAUUUUAFFFFABRRRQAUUUUAFFFFABRRRQAUUUUAFFFFABRRRQAUUUUAFFFFABRRRQAUUUUAFFFFABRRRQAUUUUAFFFFABRRRQAUUUUAFFFFABRRRQAUUUUAFFFFABRRRQAUUUUAFFFFABRRRQAUUUUAFFFFABRRRQAUUUUAFFFFABRRRQAUUUUAFFFFABRRRQAUUUUAFFFFABRRRQAUUUUAFFFFABRRRQAUUUUAFFFFABRRRQAUUUUAFFFFABRRRQAUUUUAFFFFABRRRQAUUVxPi34lWvhbWl077E144j3ylZNmwn7o6HP9M04xcnZB0udtRXhWleM/EWj60mt6vHqk+mXLPtilkkERDcjYW+U47Y9O1epeDPGMHjCwnmjtzbTQSbZIS+7AP3TnA64P5VrKjKKuSpJux0dFFFYlBRRRQB8LeFv+Q9F/ut/Ku6rhfC3/Iei/wB1v5V3VenR+E55bhRRRWxIUUUUAFFFFABRRRQAUUUUAFFFFABRRRQAUUUUAFFFFABRRRQAUUUUAFFFFABRRRQAUUUUAFFFFABRRRQAUUUUAFFFFABRRRQAUUUUAFFFFABRRRQAUUUUAFFFFABRRRQAUUUUAFFFFAHH+Mf+Qhb/APXL+prna6Lxj/yELf8A65f1Nc7XFU+JmsdgrtNf/wCQHcf8B/8AQhXF12mv/wDIDuP+A/8AoQqRnE3H/LP/AHP6mvYf2Yv+Sh6n/wBgp/8A0bHXj1x/yz/3P6mvYf2Yv+Sh6n/2Cn/9Gx1Eij6iooorAoKKKKACiiigAooooAKKKKACiiigAooooAKKKKACiiigAooooAKKKKACiiigDMh1r7RcTR2+n3cqwzGF5R5YUMOvVwcfhUcfiWzlWPy452d45JHjCjdEE+9vGeOeKpWFldWWp3csthev5l28iNFdKIyp6EpvGfxFQW2kanBcXd29ujPqcUgnjUqPIbnZznnPQ4781VlYXU14tejaxN7PZ3VtaiISiWUJhgcYACsTk59Kik8TW0EMz3VrdW7wqjmKRFDMrMFBHOOp55rNi0i7l8PtYfZLuCfyU+e4uhJGWQg4ADnbnHoKt6jDq2taZd272aWiGNDGkkgZ3cMGPKkgDjHrTsriV7GjdastvetaJa3FxMsImIiC/dJI/iYelV4PEMM1pBcmzuoobiVI4mcJ8xY4B4Y8cUy0t7251i41C6tTaA2ogSJpFZmOSSflJAHOKrx6VeL4d0i1MP762uInlXcPlCsSTnOD+FCS6+X6jfkXT4htRcFPKuPJE3kG62Dyg+cYznPXjOMZ700eJrFrS9nAlP2KXypUwN2c4BHPTP8AKs9tL1E6e2jfZh5DXXmfa/MXAj8zf93ru7dMe9U73w1qD6fPJaxBbqS5kDx71/ewmTcOc4yCM/nQknv/AFt/wQd+n9bnZ0UUVAwooooAKym8Q2q3JTyrgwrN5DXIQeUHzjGc568ZxitWsGzh1bTi9lb2kbxvdNILp5BsEbNuOVyG3c49Ka3E9iy/iG1S4ZDFcGFJfJa6CDylfpgnOevGcYzSf8JJY+VqL4lzpzFZkwNx7ZHPIrNl0vUTY3GkLbAwTXJkF35i4VC+8/L13dumKq6j4bv5rHUJbWMLdyXUu1d4/fQvjjOfUZGfSqSXX+tg6/15nQR6yJr2a3t7G6l8lwkki7AqkgHuwPQ+lRjxFbSQW7wW9zNJcFxHDGo34U4JPOAM+/eotO0d01W+urnzo986vEEuGCuAijlVODyD1FULTSdQsYrSf7K0rLHNBNDHMqOFd9wZWyBn8e9LT+vQSvY2LXXLa7uoLeOOZZJo2kAdNuzacEHnIOahHiSCQwrb2d3O8wkKpGqZARtp6sO9Ztnp2r2Nxa380El5Iqyo0LXAZ0VmBX5mODjGOtNh8OXj/Y0nLwbYJ98kExUxu77gOCCev04p2X9fMeprT+I7CDSrfUHMnk3DhFAX5gec5Htg5+lPvNa+x30VqdPu5XmJETR+XtfAycZcdvXFYq6JqV5FZ28sEFnDa2jRkSASKztlWICsO3OT/eq7bWWos2hvdw4ez8xZ23g8bSqnrznj86LIV2XJNftoluPMinDwSJEYwoLO7AEKoB5PNRTeKLK2tZJrqK4gaKVYpYnQb03dCecYx3BNU7rSb5r67u4YQzJexXMKFwPNCptIz2PJ61Hc6TfahdveT2YjEt1b5gZ1YiNM5LEHHO7oM0JL8v0/4I3c34tQhm1CSzj3F44llLcbSrZxg/hVquf0PSLvTNavPN+e08pI7aQsCdoJO09+M4/CugqXboAUUUUhhUc86W1vJPKcRxoXY+gAzUlZfiC0u7/TRZ2aj9/Iqyux4RM5JxkZ6YwPWgBB4htm0i31CKGeRLiQRJGoXfuJIwcnA5HrUcniSKO2uJmsbzNqSLiPagaLjIJy2CCOmM1mSaJqZaS1kRZIHvoroSQN5QUH7+BuyMYB4PfirA0e7i0PWbFIWkkmZzDM0gLTBhwCSc5HTmr0/r5CV7pP+tzQOuxR+ULi0uYGlSSRFcISVRQxPDHrniiPXUbT3vpbK6gtlh84SSbPmHYABicn3qtqenXVxPZNDFuEVrPG/wAwGGZAAOvqKqPoN5/ZGn2dv5gZvLN0Z52kjjCDO3aW7sAPlosv6+Yk3Y121y1Gl298iyyLckLFEi5dmP8ADjOM8HPPaq8viWGKzluGsrwi3YrOm1A0R4xkFu+RjGaz49J1S12/uY5/sd6biEIwQSI6ncqgk7cEnqau6hDqmqeHr+KW1SKWUgQQBwWCgj7zZ2569KLIepYl1xYTFG1heG4lDMtuqoX2jqxw2Mc+uavWl1He2kdxBu2SDI3DBHsRWXrdnPcSwMlibpERsPBN5U0T9iGyBj1H86v6Ul3FpVumouHuVTEjA55+vc4paWDW5boooqRhRRRQBl3/AIgtNON356TH7IsbSFFByHOBjn25pLvxDZ2gckSSqtsLkNGAQyFgoxkjnmqGq6TeXV5qDwwb0m+zbDuUbtjkt1PYVRu/DeoJPqMVrH5tq9r5dqN4BXMgYpye3OParST3E9zfk1oQW/mXNjdwszqkUbBGaVj2UKx9O+KsWGoxagsuxJIZYX2SxSrhkPXnBI5HcVn32kSwpaT6eJriS1nEpimuGYuNpUgFycdc+lT6Ta3K3l/fXkP2d7t02w7gxVVGBkjjJ9qWn9fIWuhqUUUVJQUUUUAVb/UItOhR5VeRpHEccca5Z2PYCqf/AAkNr9nLGG4E4m8j7LsHm78ZxjOOnOc4xT9ZtbiZrO5s4xNJaT+Z5W4LvGCCATxnnvVO4i1a6e2v3s41ktbgtHaiQb2jKlTls7d3OfSqVuomTSeKLGCBJLhZoSbgW8iOoDRNjOW56Y5yM1Nc6/a201xE6TNJA8cYVFBMjOMqF5/nismXRLu+vBdXdoFW4vFeWAup2RLGU5OcEnPQZqKDQ9Rt01CK4tY7+JpIljEjgNLEoI4OflcDHJx0p2Vv68g1/r5myfEFutuXe3uVm87yRbGMeYXxnAGcdOc5xSxa/ayGJDFPHLJcfZ2idQGjfGfm56YHUZrLi07VkEN0YpJPst0XhtZ5w0nlsu0jfnGecjJ/GmzadqbXg1MWJaV71JjbLKm5UWMqMknGT7Giyv8A15C1/r5m3d6sLbUEs47S4uZmiMuIdmAucfxMO9XY3MkSuyNGWAJRsZX2OCRXOXdtfXmsQX0umXioLZo2SC7RHVt+RkhxkY966KEkwRlkaM7RlHILL7EgnJ/Gk1oPqPoooqRhRRRQBkT+JLaC9lgFtdSx28ixz3EcYMcTNjAPOe4zgHGaR/E1pHdNGYLkwJOLd7sIPKWQnG0nOepxnGM96zdT07VH1aWbT7Lybl5UMd9b3ASMxjGRNGT85HI6HjHIqeyh1nS2lsLWyjkjkvHmW8eQbFjd9zZXIbcMkDjHTmvS9lQ5E1a/qvm/8vy01ybld/13NM63aL4gXRiX+1ND5wOBtxnpnPXqcegqaw1CLUYpZIFdRFM8LbwBllOD0PTiuWfRNda6k1cLB9p/tAXC2xX94Yx+7C+Zv24MeTjHU9au6a2r6Yl9brossm+5uJophPFtbcSy8bs88Dp3qamHpcnuSTenVb9dx8zvqaVt4gsrqfUoofML6acTcD5uD93nnkEduRVaDxZZvGkl3bXVlHJbNdRPcKuJIwASRtZuQCDg4NY9n4d1rThbPmC58y0mt7lY02MC+X3MS5DfOSMgD7xqSw8O3+n/AGZo7dbln0vyHS8mMqW8oAyMFj8jdCF44HatXRwqvaV+2v8AXa+3kLmk7af1p/wTf07Wo9RnMJtLq0k8sSoLhAN6HuCCR+BwfatKud8P2V/a6jJm1msNO8gKLaa5EwEmeqYJ2rjPGR24FdFXDiIwjO0Nvv8A6+9lQba1CiiisCwqrqOoR6ZafaJY5JAXVAsYG4ljgdSB1NWqy/EFlNqGmLBbqWbz42O19pChwSc5HahboOg0eIrcSGKa3uYZhNHC0UirkF/utwSCOD0NWb/VI7GWKHyZriebJSKBQWIHU8kAD8azdT0XyLeKTS7aS4nF3FNLvn3O4T/ac/1p0g1FtSt9UTTH3JG8ElsZk3bSQQwOcdRjGarQWpI/iWBbeGaOzu5Y5nEQKqg2yEkbCCwIOR9Penz+IIoJDG1leNIkYlmREVjCpPG7DY7ZwM1RGkXv9m2+6JfPfUheSorjEalskZ74FP1uxvZ7x5bSyLyeUFgurefynjbuHyfmXv0PfinoGpvxyLLEskZyrgMp9QadUcAlW3jFwwaUIA7KOC2OT+dSVL3BbBRRRSGFZJ8RWy3MkclvcpFHP9ne4Kr5avx1wcgcjkjHNa1cvLpmozpqFgLMpFeXvm/aWkXaqZU9Ack/L0xTjZvUT2NWLWhcXE0cFhdyJDMYXlHlhQR16tnH4VDbeJba48ota3UCzxtJC0iriQKMkDDHnHriqdlYXVrqF40tjet511I6PHdKItrdCU3jP5ZqppWh38b2KS2s1v5MEkc0k9wsincuAEUMdvOOmKdlb+uwdTeXXbVrexmIkVL4FkLAfKApY7ueOB2zSWWuw3s8Ua211Es6loZZYwFlA9MHI455ArHh0fUbq1sLC6tvs0dlFIjTmRWEhKFBtA5755xU9jZ6sL/TRLBNbR2kZjnIusxTALtXCA+vPIFOyuK7saV7rkNldPALe5uHijEkvkIGEanoTkj0PAzTp9as4L2ytWZi96CYiBwBjjPpnoKztbsb2e8eW0si8nlBYLq3n8p427h8n5l79D34qneaLrV9Jd3TtAk6rGsAZcsxjw2VIYBctnqPypJLqN36G9b6xbXGrXWnqHWa1UM5YAKwI7HPbI/OqcHiq1uo4WtLW6mM0rxIiqgJKgEnlgMYNZd1ouq3F3dXlvF5E9xIqHLrxG8YV+h/hIB/Din2/h24S7gjMMkVtHezvuim2MsZQBSCpzzj/GmkuoXNmz161vbmK3jjmSWQyAq6gGNkxuDc9eR0zSy6xt1Cazgsbq5kgClzFsAG4ZH3mFUbjTZdM1Syn0nT3uIoll8wCZQxZ8ckuck8VCbS8OuXF9Lpt8VmSIqtvdqm0qOQ2HGf1ostw1NE+ILcXbRCC5aNJhA9wqAxo57HnPfGcYrVrmp7DUv7Waa0s/s8rXCsbmGfbG8XpJGTy2Mjp+NdLUu1g6hRRRSGFFFFABRRRQAUUUUAFFFFABRRRQAUUUUAFFFFABXjnxilurjX7K0+wAJHCXinUbmlB+8PYLjp75717HRVwlySUg6NHjHiT4j2niLweujWemTLdzbFcEAom0g/Jg5PTHQda6r4Q3FxL4SeCWyWCGCZljnHBmJ5bI9RwM/h2rV0f4f6RoniKTWbSW6a4cuQkjqUXd1wAoPfHWuorWVSHK4xW+vzIUXdX6BRRRXOWFFFFAHwt4W/5D0X+638q7quF8Lf8h6L/db+Vd1Xp0fhOeW4UUUVsSFFFFABRRRQAUUUUAFFFFAFo2yDSUustvaYxkdsBQf61Yn0iTzMWg3IsUbu0jqu0sM9TimwSW82l/ZZpxA6zeYGZSQwIAxwDzxV2SWC9tbzE3lRKYEWR1PO0EZIGTzQCMxdNu2mli8ra0P39zBQuenJOKnuNImW8kht1JWNULGR1UAlQcZOB1qzcXlpdxz23n+Wv7rZM6HD7F2nIHIznNPa7sXnnKzRbiIwkk0JdSAuDhcHnPqKAKH9lSrYzzyMqNC4Qxsy5757+349qjl067hh8ySLC5AOGBK56ZAOR+NaN1f2s73+yUYeSOWPKn59o5HTj8afc6rF5zzwzxFZJFcwrbBXOGBIZsdsepoAovpUlvp881yux42UKodT1zkEDoenpUFvp9zdR74IwV3bQS4XcfQZPJ+lXbqa0Fre+TdCV7mVXVdjAgZJ5yMZ5p2l3VnBDEZJIo5Em3SGSEuSvGNvBx39KSBlHT7I3uox2zHZubDEkAgd+vepW0yWeeQWUWY1baN0yHJx0B4BPsKda3UMXiAXLviHzmbdg9DntVizv4RYRQmaGCSGVm3SweZkHHI4OCMe1HQOpnpp907oiQktIrMoyOQM5/keKieCSOOOR1wsoJQ56gHFa8OsJFas5YtdLMSh24yjMGb2HK9PeqWrXEM96BaHMEaBI+McdT+pNMCOXTbuGHzZIsLxnDAlc9MgHI/GiXTbuBVMkP3mCYVgxDHsQDwfY1pyX9oF80yrPIGjZMRlZOCCQ54U8DHenPqsMV0Jo7iKSNp1kMUdsEbAOfmbA5H40AZcml3kbIrQ5LvsXYwb5vTg8H60p0u8E0cXlbmlJCbXVgSOoyDjNW7ee0sbpXW8knVpG3BFICqVIyQerc9qktLu0sVghFyJQJmlaRUYBfkKgcjNIZntpl2skUflbmmJCbWDAkdeQe1TS6TKkFtsXdPMzjCupXAxzkcdz3qawv7eCyhilcg75Q5Ck7AygBqdFcWtvHaxJe5MZl3SLGSo3AYyGHI9eKYjMuLWa1ZVnUDcNykMGBHsRxUkmnXUVuZpIsIACfmGVB6EjOR+NSalLbyND9nKFgn7wxqypnPYHpWhJe2K2dykEkSrJCqxxiEh88E7mxz09aA6ma2l3iQNM0QCKodvnXKg9CRnIps2m3cEJlli2oMbvmBK56ZGcj8a2JNhk1C+Dtl4VJheNlKEleCSMduMVVuLq0DX1xFOZHu1wsWwgpkgnJ6cY7ZpAY9NSRJFzGysPVTmmzxedbvGDt3DGar6fZvaK/mMCWxwvSn1A17K1jmSaa4ZhDAoLBPvMScADNSGwS68o6XudmVi8UjruTHfPAxTbCeJYbm2uH8tLhQBJgnaQcjIHap4pLG0R0jl8yRreRXlCsAzEcKAf50AZroY5GRsZU4OCCPzFNqVYkKBjPGpwTtIbIx26d/84pkihHKq6yAfxLnB/MA0ANp8So8qrK/loTy23OPwplFAGjcWdnBfwo00i27xLIWK/McjOAB09KkXTbeZ7WSNpY4ZldnVyCyhOSQcDOfpTJ5rW4vLbzJXWNbdELoOUYL6dwD6VZOowCe2+0XBuWCSRyzhT91hgDnBOOT+NAEMenWtx5E0TSpAwkMisQWXYMnBwByCKE062nME0TypbusjSKxBZdgycHAHIx2p8N3aWqwW3neamJRJKqEBd4wMA4JxiiK7tLYW9t53mRhJVklVTgbxjgHBOMCgCneW8CW0Fxa+YEl3ApIQSpHuAPUVa/sYSY8mULi0Wc+YyjJPbkjA9+1V72SFbO2toJRN5ZZncKQCWxwM89quLe2rShWmCq1gIC5U4VvfjNHQDPXTrprbz1iym0t94ZKjvjOce9O/sq83IPKGZF3qPMX7uM5PPA9zWg2pRG1jaK4iieO38oobYM5IGOGx0P1qJbq0fUjJIylfs6ojOhZVcKByO44NAEEGjzySSpKyRGOEyjLrhh2wc4x79BUX9nzyPEkUDBni8zJkUgjn5s8YH1rTkv7R50X7Qm02bQNIsRVVYkn7oHT6Covttq8K27TbVa0EJkCnCsGzz3x9KQf1+RRGl3hnaERfOqeYfnXG31znBFH9mXf2gw+UNwTeTvXbt9d2cY/Grr3tslq1sku8JamMSbSN7Fw2B7fWnJfW+IVFwEK2ojbfHuQncSVYY/UUwMqe3ltpjFOm1x2zn9aiq3qMkEl5m1+5tAOM4zjnAPIFVKAOP8Y/8hC3/wCuX9TXO10XjH/kIW//AFy/qa52uKp8TNY7BXaa/wD8gO4/4D/6EK4uu01//kB3H/Af/QhUjOJuP+Wf+5/U17D+zF/yUPU/+wU//o2OvHrj/ln/ALn9TXsH7MZx8QtTwCf+JW/T/rrHUSKPqOim7z/zzb9P8aN5/wCebfp/jWBQ6im7z/zzb9P8aN5/55t+n+NADqKbvP8Azzb9P8aN5/55t+n+NADqKbvP/PNv0/xo3n/nm36f40AOopu8/wDPNv0/xo3n/nm36f40AOopu8/882/T/Gjef+ebfp/jQA6im7z/AM82/T/Gjef+ebfp/jQA6im7z/zzb9P8aN5/55t+n+NADqKbvP8Azzb9P8aN5/55t+n+NADqKbvP/PNv0/xo3n/nm36f40AOopu8/wDPNv0/xo3n/nm36f40AOopu8/882/T/Gjef+ebfp/jQA6im7z/AM82/T/Gjef+ebfp/jQA6im7z/zzb9P8aN5/55t+n+NADqKbvP8Azzb9P8aN5/55t+n+NADqKbvP/PNv0/xo3n/nm36f40AOopu8/wDPNv0/xo3n/nm36f40AOopu8/882/T/Gjef+ebfp/jQA6im7z/AM82/T/Gjef+ebfp/jQA6im7z/zzb9P8aN5/55t+n+NADqKbvP8Azzb9P8aN5/55t+n+NADqKbvP/PNv0/xo3n/nm36f40AOopu8/wDPNv0/xo3n/nm36f40AOopu8/882/T/Gjef+ebfp/jQA6im7z/AM82/T/Gjef+ebfp/jQA6im7z/zzb9P8aN5/55t+n+NADqKbvP8Azzb9P8aN5/55t+n+NADqKbvP/PNv0/xo3n/nm36f40AOopu8/wDPNv0/xo3n/nm36f40AOopu8/882/T/Gjef+ebfp/jQA6im7z/AM82/T/Gjef+ebfp/jQA6im7z/zzb9P8aN5/55t+n+NADqKbvP8Azzb9P8aN5/55t+n+NADqKbvP/PNv0/xo3n/nm36f40AOopu8/wDPNv0/xpGl2jLIwGQO3fj1oAfRTd5/55t+n+NG8/8APNv0/wAaAHUU3ef+ebfp/jRvP/PNv0/xoAdRTd5/55t+n+NG8/8APNv0/wAaAHUU3ef+ebfp/jRvP/PNv0/xoAdRTd5/55t+n+NG8/8APNv0/wAaAHUU3ef+ebfp/jRvP/PNv0/xoAdRTd5/55t+n+NQXst0mn3DWMHmXSxMYUcjaz4+UHkcZx3ppXdgLNFcN/avxG/6AGnf9/B/8do/tX4jf9ADTv8Av4P/AI7Xf9Ql/wA/If8AgSMvars/uO5orhv7V+I3/QA07/v4P/jtH9q/Eb/oAad/38H/AMdo+oS/5+Q/8CQe1XZ/cdzRXDf2r8Rv+gBp3/fwf/HaP7V+I3/QA07/AL+D/wCO0fUJf8/If+BIPars/uO5orhv7V+I3/QA07/v4P8A47R/avxG/wCgBp3/AH8H/wAdo+oS/wCfkP8AwJB7Vdn9x3NFcN/avxG/6AGnf9/B/wDHaP7V+I3/AEANO/7+D/47R9Ql/wA/If8AgSD2q7P7juaK42y1Px6+oW632iWMdq0qiZ0cblTPzEfvTzjPauw3n/nm36f41zVqLotJyT9HcuMuYdRTd5/55t+n+NG8/wDPNv0/xrAodRTd5/55t+n+NG8/882/T/GgB1FN3n/nm36f40bz/wA82/T/ABoAdRTd5/55t+n+NG8/882/T/GgB1FN3n/nm36f40bz/wA82/T/ABoAdRTd5/55t+n+NG8/882/T/GgB1FN3n/nm36f40bz/wA82/T/ABoAdRTd5/55t+n+NG8/882/T/GgB1FN3n/nm36f40bz/wA82/T/ABoAdRTd5/55t+n+NG8/882/T/GgB1FN3n/nm36f40bz/wA82/T/ABoAdRTd5/55t+n+NG8/882/T/GgB1FN3n/nm36f40bz/wA82/T/ABoAdRTd5/55t+n+NG8/882/T/GgB1FN3n/nm36f40bz/wA82/T/ABoAdRTd5/55t+n+NG8/882/T/GgB1FN3n/nm36f40bz/wA82/T/ABoAdRTd5/55t+n+NG8/882/T/GgB1FN3n/nm36f40bz/wA82/T/ABoAdRTd5/55t+n+NG8/882/T/GgB1FN3n/nm36f40bz/wA82/T/ABoAdRTd5/55t+n+NG8/882/T/GgB1FMMu0qCjZY4HT6+vtS7z/zzb9P8aAHUU3ef+ebfp/jRQB8MeFv+Q9F/ut/Ku6rhfC3/Iei/wB1v5V3VenR+E55bhRRRWxIUUUUAFFFFABRRRQAUUUUAFODuEZAzBWIJUHg46U2igAooooAKKKKACiiigAooooAKKKKACiiigAooooAKKKKACiiigCV7q4khWKSeRo16IzkqPwqKiigAooooAKKKKACiiigAooooAKKKKACiiigAooooAKKKKACiiigAooooAKKKKAOP8Y/8hC3/wCuX9TXO10XjH/kIW//AFy/qa52uKp8TNY7BXaa/wD8gO4/4D/6EK4uu01//kB3H/Af/QhUjOJuP+Wf+5/U17D+zF/yUPU/+wU//o2OvHrj/ln/ALn9TXsP7MX/ACUPU/8AsFP/AOjY6iRR9RUUVHPPHbxGSZtq5x0zk+gHc1gUSUVU/tOD/nndf+Akv/xNH9pwf887r/wEl/8AiafK+wXLdFVP7Tg/553X/gJL/wDE0f2nB/zzuv8AwEl/+Jo5X2C5boqOCeO4iEkLblzjpjB9COxqSkAUUUUAFFFFABRRRQAUUUUAFFFFABRRRQAUUUUAFFFFABRRRQAUUUUAFFFFABRRRQAUUUUAFFFFABRRRQAUUUUAFFFFABRRRQAUUUUAFFFFABRRRQAUUUUAFFFFABRRRQAUUUUAFFFFABRRRQAUUUUAFFFFABRRRQAVHP8A6sf76f8AoQqSo5/9WP8AfT/0IU1uBJRRRSAKKKKACiiigAooooAKKKKACiiigAooooAKKKKACiiigAooooAKKKKACiiigAooooAKKKKACiiigAooooAKKKKACiiigAooooAKKKKACiiigAooooAKKKKACiiigAooooAKKKKACiiigAooooAKKKKACiiigAooooAKKKKACiiigAooooAKKKKAI5f9ZD/vn/0E1JUcv+sh/wB8/wDoJqSmAUUUUgPhbwt/yHov91v5V3VedaRfLp2pR3DruUZBA9DXVf8ACW6b/wBNv++P/r16NKSS1MJJtm3RWJ/wlum/9Nv++P8A69H/AAlum/8ATb/vj/69a+0j3J5WbdFYn/CW6b/02/74/wDr0f8ACW6b/wBNv++P/r0e0j3DlZt0Vif8Jbpv/Tb/AL4/+vR/wlum/wDTb/vj/wCvR7SPcOVm3RWJ/wAJbpv/AE2/74/+vR/wlum/9Nv++P8A69HtI9w5WbdFYn/CW6b/ANNv++P/AK9H/CW6b/02/wC+P/r0e0j3DlZt0Vif8Jbpv/Tb/vj/AOvR/wAJbpv/AE2/74/+vR7SPcOVm3RWJ/wlum/9Nv8Avj/69H/CW6b/ANNv++P/AK9HtI9w5WbdFYn/AAlum/8ATb/vj/69H/CW6b/02/74/wDr0e0j3DlZt0Vif8Jbpv8A02/74/8Ar0f8Jbpv/Tb/AL4/+vR7SPcOVm3RWJ/wlum/9Nv++P8A69H/AAlum/8ATb/vj/69HtI9w5WbdFYn/CW6b/02/wC+P/r0f8Jbpv8A02/74/8Ar0e0j3DlZt0Vif8ACW6b/wBNv++P/r0f8Jbpv/Tb/vj/AOvR7SPcOVm3RWJ/wlum/wDTb/vj/wCvR/wlum/9Nv8Avj/69HtI9w5WbdFYn/CW6b/02/74/wDr0f8ACW6b/wBNv++P/r0e0j3DlZt0Vif8Jbpv/Tb/AL4/+vR/wlum/wDTb/vj/wCvR7SPcOVm3RWJ/wAJbpv/AE2/74/+vR/wlum/9Nv++P8A69HtI9w5WbdFYn/CW6b/ANNv++P/AK9H/CW6b/02/wC+P/r0e0j3DlZt0Vif8Jbpv/Tb/vj/AOvR/wAJbpv/AE2/74/+vR7SPcOVm3RWJ/wlum/9Nv8Avj/69H/CW6b/ANNv++P/AK9HtI9w5WbdFYn/AAlum/8ATb/vj/69H/CW6b/02/74/wDr0e0j3DlZt0Vif8Jbpv8A02/74/8Ar0f8Jbpv/Tb/AL4/+vR7SPcOVm3RWJ/wlum/9Nv++P8A69H/AAlum/8ATb/vj/69HtI9w5WbdFYn/CW6b/02/wC+P/r0f8Jbpv8A02/74/8Ar0e0j3DlZt0Vif8ACW6b/wBNv++P/r0f8Jbpv/Tb/vj/AOvR7SPcOVm3RWJ/wlum/wDTb/vj/wCvR/wlum/9Nv8Avj/69HtI9w5WbdFYn/CW6b/02/74/wDr0f8ACW6b/wBNv++P/r0e0j3DlZt0Vif8Jbpv/Tb/AL4/+vR/wlum/wDTb/vj/wCvR7SPcOVmV4x/5CFv/wBcv6mudrU17VI9UvVkhUhEXaCeprLrkm7ybRqtgrtNf/5Adx/wH/0IVxddpr//ACA7j/gP/oQpAcTcf8s/9z+pr2H9mL/koep/9gp//RsdePXH/LP/AHP6mvYf2Yv+Sh6n/wBgp/8A0bHUSKPqKqd7/wAfWn/9fB/9FPVyql7/AMfen/8AXwf/AEVJWK3Gy3VK/wBZ03S8f2jfW9sSMhZJAGI9h1NUvFmrzaLoElzagec7rEjv92Iscbm9h/hXPazY2Xg7w4dSNnFq+ozSKr3V2vmZYg/N7DjGBjtzVRjcGdbYa1pmqcadf29w2MlI5AWA9x1FXq4PQ7Kx8aeHTftYxaVqMMpSO6s18vDAAhhjqOcYOe9dD4S1afWNCEt5taaGRoHlT7kxU43r7H+eacoWv5CUrl+y/wCPrUP+vgf+ikq5VSy/4+9Q/wCvgf8AoqOrdQ9ygooopAFFFFABRRRQAUUUUAFFFFABRRRQAUUUUAFFFFABRRRQAUUUUAFFFFABRRRQAUUUUAFFFFABRRRQAUUUUAFFFFABRRRQAUUUUAFFFFABRRRQAUUUUAFFFFABRRRQAUUUUAFFFFABRRRQAUUUUAFFFFABRRRQAVHP/qx/vp/6EKkqOf8A1Y/30/8AQhTW4ElFFFIAooooAKKKKACiiigAooooAKKKKACiiigAooooAKKKKACiiigAooooAKKKKACiiigAooooAKKKKACiiigAooooAKKKKACiiigAooooAKKKKACiiigAooooAKKKKACiiigAooooAKKKKACiiigAooooAKKKKACiiigAooooAKKKKACiiigAooooAjl/1kP++f8A0E1JUcv+sh/3z/6CakpgFFFFID8/qKKK6SAooooAKKKKACiiigAooooAKKKKACiiigAooooAKKKKACiiigAooooAKKKKACiiigAooooAKKKKACiiigAooooAKKKKACiiigAooooAKKKKACiiigAooooAKKKKACiiigAooooAKKKKACiiigAooooAK7TX/wDkB3H/AAH/ANCFcXXaa/8A8gO4/wCA/wDoQpiOJuP+Wf8Auf1New/sxf8AJQ9T/wCwU/8A6Njrx64/5Z/7n9TXsP7MX/JQ9T/7BT/+jY6iRR9RVUvf+PvT/wDr4P8A6Kkq3VW9ikbyJYU3tBLv2ZxuG1lIz6/Nn8KxW5RLdWsN7aSW11GssMqlXRuhFcudD1/SrdrLTZrLVdMIwttqSndGv90EcMPrXRfbZ/8AoGXX/fUX/wAXR9tn/wCgZdf99Rf/ABdUroW5zi6J4g1K2FjfS2OkabjDQaap3uO65PCg+1dRZ2cFhZxWtnGsUMS7URewqL7bP/0DLr/vqL/4uj7bP/0DLr/vqL/4uhtsSSCy/wCPvUP+vgf+io6t1VsopF8+WZNjTy79mc7RtVQM+vy5/GrVS9ygooopAFFFFABRRRQAUUUUAFFFFABRRRQAUUUUAFFFFABRRRQAUUUUAFFFFABRRRQAUUVxfiXxHcx+Kv7Ggvb7ToobNbl7ix0x7yR2dmVVwI3CqNhJyMnIAIwaOtg6XO0orh7PxXqNpFp2oa+GgtbnT5zLE8Bi2zwktuCsNw3oGO09No96hn1XXza6XZNfag+qyWX2q6g0yyt2kQseNzzERqg5UKBuO0nPWm9P69f8g/r8v8zuXuoI7mK3knjSeYMY4mcBnC43EDqcZGfTNS15/pGrXGu6x4H1O8VVuLnT7x5AgwN2IgcDt0r0Chq39eYBRRRSAKKKKACiiigAooooAKKKKACiiigAooooAKKKKACiiigAooooAKKKKACiiigAooooAKKKKACiiigAqOf/AFY/30/9CFSVHP8A6sf76f8AoQprcCSiiikAUUUUAFFFFABRRRQAUUUUAFFFFABRRRQAUUUUAFFFFABRRRQAUUUUAFFFFABRRRQAUUUUAFFFFABRRRQAUUUjgsjAMVJGAwxke/NAC0V5rbNq2ieE9eubLWp5bo6yIY3uYYWVC1wiM2FRc7g3I6emK1tavNWs7y20mx1bVL28WBp5RY2VsZiCxCs7SbYlTqAoAY468Gjon/W1w7/15HXtdW6XSWrzxrcSKXSIuA7KMZIHUgZGT7ipa4TRPFWp6rN4ekmdYxfaNc3U8aIMGVGiAYZyR95uM4571Houra/HZ+ENS1LWPtqa2EiuLb7NGiKWgaRXUqNwbK85JBycAdKrlf8AXq1+gr/18k/1O/oooqRhRRRQAUUUUAFFFFABRRRQAUUUUAFFFFABRRRQAUUUUAFFFFABRRRQAUUUUAFFFFABRRRQAUUUUAFFFFAEcv8ArIf98/8AoJqSo5f9ZD/vn/0E1JTAKKKKQH5/UUUV0kBRRRQAUUUUAFFFFABRRRQAUUUUAFFFFABRRRQAUUUUAFFFFABRRRQAUUUUAFFFFABRRRQAUUUUAFFFFABRRRQAUUUUAFFFFABRRRQAUUUUAFFFFABRRRQAUUUUAFFFFABRRRQAUUUUAFFFFABRRRQAV2mv/wDIDuP+A/8AoQri67TX/wDkB3H/AAH/ANCFMRxNx/yz/wBz+pr2H9mL/koep/8AYKf/ANGx149cf8s/9z+pr2H9mL/koep/9gp//RsdRIo+oqKKKwKCiiigAooooAKKKKACiiigAooooAKKKKACiiigAooooAKKKKACiiigAooooAKKKKACiiigAooooAKKKKACsjVPD0Wo38d/Be3mnXscZi+0WbKGeMnOxg6spGeRkZHOCM1r0UAYup+FNP1fRbXTL97maK2mSZZHlLSMynPzM2chgSD7EgYpdT8NQajqa38V9e2Fz5P2eV7ORV86POQrZU9CTgrhhk4NbNFAGFpvhHT9LOkfZpbkjSIpYbcO4OVkxndxk42jHT3zW7RRTu2AUUUUgCiiigAooooAKKKKACiiigAooooAKKKKACiiigAooooAKKKKACiiigAooooAKKKKACiiigAooooAKjn/ANWP99P/AEIVJUc/+rH++n/oQprcCSiiikAUUUUAFFFFABRRRQAUUUUAFFFFABRRRQAUUUUAFFFFABRRRQAUUUUAFFFFABRRRQAUUUUAFFFFABRRRQAUUUUAYEnhC0kTUIjeXn2e+uo7toN67YpFdXJT5cgMVGQSfbFTan4ah1HU11CO+vbC5MPkSvZyKvnR5yFbKnoScFcMMnBrZoo8v67Ac/p3g3TtLOn/AGaW5I0+0ms4Q7g/u5GVjnjJI2gA/nmpovC9lFp+h2ay3Bj0Rka2JZcvsjMY38c8MemOa2qKd3/X3/qAUUUUgCiiigAooooAKKKKACiiigAooooAKKKKACiiigAooooAKKKKACiiigAooooAKKKKACiiigAooooAKKKKAI5f9ZD/AL5/9BNSVHL/AKyH/fP/AKCakpgFFFFID8/qKKK6SAooooAKKKKACiiigAooooAKKKKACiiigAooooAKKKKACiiigAooooAKKKKACiiigAooooAKKKKACiiigAooooAKKKKACiiigAooooAKKKKACiiigAooooAKKKKACiiigAooooAKKKKACiiigAooooAK7TX/APkB3H/Af/QhXF12mv8A/IDuP+A/+hCmI4m4/wCWf+5/U17D+zF/yUPU/wDsFP8A+jY68euP+Wf+5/U17D+zF/yUPU/+wU//AKNjqJFH1FRRRWBQUUUUAFFFFABRRRQAUUUUAFFFFABRRRQAUUEgYz36UUAFFFFABRRRQAUUUUAFFFFABRRRQAUUUUAFFBIGM9+lFABRRRQAUUUUAFFFFABRRRQAUUUUAFFFFABRQSB1ooAKKKKACiiigAooooAKKKKACiiigAooooAKKKKACiiigAooooAKKKKACiiigAooooAKjn/1Y/30/wDQhUlRz/6sf76f+hCmtwJKKKKQBRRRQAUUUUAFFFFABRRRQAUUUUAFFFFABRRRQAUUUUAFFFFABRRRQAUUUUAFFBIVST0HWigAooooAKKKKACiiigAooooAKKKKACiiigAooooAKKKKACijI3Y70UAFFFFABRRRQAUUUUAFFFFABRRRQAUUUUAFFFFABRRRQAUUUUAFFFFABRRRQAUUUUAFFFFAEcv+sh/3z/6CakqOX/WQ/75/wDQTUlMAooopAfn9RRRXSQFFFFABRRRQAUUUUAFFFFABRRRQAUUUUAFFFFABRRRQAUUUUAFFFFABRRRQAUUUUAFFFFABRRRQAUUUUAFFFFABRRRQAUUUUAFFFFABRRRQAUUUUAFFFFABRRRQAUUUUAFFFFABRRRQAUUUUAFFFFABXaa/wD8gO4/4D/6EK4uu01//kB3H/Af/QhTEcTcf8s/9z+pr2H9mL/koep/9gp//RsdePXH/LP/AHP6mvYf2Yv+Sh6n/wBgp/8A0bHUSKPqKiiisCgooooARmVELuwVVGSxOABVTTNWsNZtmudKuo7uBZDH5sRypYdcHofqOKtswRCxzhRk4BJ/Ida5fw/qghsdcuPsGpMY7qa5WJrCWN5kPICB1XcTjp16Zxml1fp/kHRepuXmsadp95a2l5eRRXN2+yCEt88h9l649+gqtqniXTtGaQagL1FiTe8senzyxquM5LohX688VQ8UX6oNHP2W/kIvIrhxBYyzbEGc7tinBGRx1qzq8c+q6pZaYsMgsRi6vJWQhWCn5Ige5LDJH91cH7wpq/4/1/XkH+RtowdFZc4YZGRj9KWmkPnhlA91/wDr0Yk/vL/3z/8AXoAdRVW7u/scYaQg7jgAL/8AXp9vMbmFZY2GD6r0/Wp5lfl6k8yvy9Seim4k/vL/AN8//XoxJ/eX/vn/AOvVFA/3k/3v6GnVGwfcnzL97+77H3p2JP7y/wDfP/16AHUU3En95f8Avn/69GJP7y/98/8A16AHUU3En95f++f/AK9GJP7y/wDfP/16AHUU3En95f8Avn/69GJP7y/98/8A16AHUU3En95f++f/AK9GJP7y/wDfP/16AHUU3En95f8Avn/69GJP7y/98/8A16AHUU3En95f++f/AK9GJP7y/wDfP/16AB/vJ/vf0NOqNg+5PmX73932PvTsSf3l/wC+f/r0AOopuJP7y/8AfP8A9ejEn95f++f/AK9ADqKbiT+8v/fP/wBejEn95f8Avn/69ADqKbiT+8v/AHz/APXoxJ/eX/vn/wCvQA6im4k/vL/3z/8AXoxJ/eX/AL5/+vQA6im4k/vL/wB8/wD16MSf3l/75/8Ar0AOopuJP7y/98//AF6MSf3l/wC+f/r0AEn3R/vD+dOqNw+0ZZfvD+H3+tOxJ/eX/vn/AOvQA6im4k/vL/3z/wDXoxJ/eX/vn/69ADqKbiT+8v8A3z/9ejEn95f++f8A69ADqKbiT+8v/fP/ANejEn95f++f/r0AOopuJP7y/wDfP/16MSf3l/75/wDr0AOooGcc8n2FczduwvJsMf8AWN396xq1fZq9jGrV9mr2Omork97/AN5vzo3v/eb86w+t+Rh9b8jrKK5m0djeQ5Y/6xe/vVjxHqtxpmqeH1im8uC6vpI7kbQd8a200mOenzIp4x0relV9om9joo1Pap2WxvUVwY+I93Fp/wBqvtCW3F1YjUNPxeb1eHeiFp22fudoljdsbwF3HJ24p158Qp7XRdNvPsui7r55QlxJrirYMEIACXPlHc75+VSi52vz8vO9marXb+up3VFNiYvEjshjZlBKMQSp9OOPyp1INwooooAKKKKACiiigAqOf/Vj/fT/ANCFSVHP/qx/vp/6EKa3AkooopAFFFFABRRRQAUUUUAFFcZ4hsLO21rTtUs7Wzjd9SiS41CNg10XLbPKHHKngN83Az8pxXWxTmUNiNvlcrwR2OKSen9eX+Ym7SsTUU3ef+ebfmP8aN5/55t+Y/xpjHUU3ef+ebfmP8aN5/55t+Y/xoAdRTd5/wCebfmP8aN5/wCebfmP8aAHUU3ef+ebfmP8aN5/55t+Y/xoAdRTd5/55t+Y/wAaN5/55t+Y/wAaAHUU3ef+ebfmP8aN5/55t+Y/xoAdRTd5/wCebfmP8aN5/wCebfmP8aACX/Uv/umnVHIx8pvkYfKfT/Gnbz/zzb8x/jQA6im7z/zzb8x/jRvP/PNvzH+NADqKbvP/ADzb8x/jRvP/ADzb8x/jQA6im7z/AM82/Mf40bz/AM82/Mf40AOopu8/882/Mf40bz/zzb8x/jQA6im7z/zzb8x/jRvP/PNvzH+NADqKbvP/ADzb8x/jRvP/ADzb8x/jQA6im7z/AM82/Mf40bz/AM82/Mf40AOopu8/882/Mf40bz/zzb8x/jQAD/XN/uj+tOqMMfNb5G+6PT396dvP/PNvzH+NADqKbvP/ADzb8x/jRvP/ADzb8x/jQA6im7z/AM82/Mf40bz/AM82/Mf40AOopu8/882/Mf40bz/zzb8x/jQA6im7z/zzb8x/jRvP/PNvzH+NADqKbvP/ADzb8x/jUOoHGm3RHB8l/wCRoYFiivPvNk/vt+dHmyf32/Ouf23kTc9Borz7zZP77fnWz4Zdm1KQMxI8k9T7iqjVu7WHc6iiuG8Y/E+x8I609hMLAm2tku7kXeorbSNGzMMQIVPnOAjErlf4RnLcWW8cXS6zcxnR1GlWupRadNfG7+cvKkZRki2fMu6VVPzDHUZ5A3Sb2/rp+o3pv/XU7CiuIh+IwjtTqWq6X9l0ieznvbK6iuRK8scPJ3ptARmU7lAZgRnJU8E1LxF4qt7jRY30e1tbi71AwiGO+EsNxGbaVwGkMQaPDoC2EPAGC2SKS1Hb9fwVzt6KzPDusNruhw30tt9llZnjlg8zeI5EdkcBsDcNynBwMjHA6Vp0CTuFFFFABRRRQAUUUUARy/6yH/fP/oJqSo5f9ZD/AL5/9BNSUwCiiikB+f1FFFdJAUUUUAFFFFABRRRQAUUUUAFFFFABRRRQAUUUUAFFFFABRRRQAUUUUAFFFFABRRRQAUUUUAFFFFABRRRQAUUUUAFFFFABRRRQAUUUUAFFFFABRRRQAUUUUAFFFFABRRRQAUUUUAFFFFABRRRQAUUUUAFdpr//ACA7j/gP/oQri67TX/8AkB3H/Af/AEIUxHE3H/LP/c/qa9h/Zi/5KHqf/YKf/wBGx149cf8ALP8A3P6mvYf2Yv8Akoep/wDYKf8A9Gx1Eij6iooorAoKKKKACiiigAooooAKKKKAIbm1ju0Cyg8HIIPSqwil07mANLb9WT+JfcVfoqHBN36kOCbv1GQzJPGHibcpp9VJbVo5DPZkI/8AEh+6/wD9epLa6S4yuCki/eRuooUne0twUne0tyV/vJ/vf0NOpr/eT/e/oadVlhRRRQAUUUUAFFFFABRRRQAUUUUAFFFFADX+8n+9/Q06mv8AeT/e/oadQAUUUUAFFFFABRRRQAUUUUAFFFFABRRRQA2T7o/3h/OnU2T7o/3h/OnUAFFFFABRRRQAUUUUAFFFFABWVNozSzySCYDexbG3pk1q1g3Gvzw3UsSxRkI5UE55wayqRhJe8YVvZ2XOTf2G/wDz3X/vmj+w3/57r/3zVT/hJLj/AJ4x/rR/wklx/wA8Y/1rH2dHsc18N/Vy9DozRTxyGYHYwbG3rg1NqOj22qXWnz3LSBrCdp41UgBi0TxkNx02yHpjnFULfX55rqKJoowHcKSM8ZNbNxdW9oge6nigUnAaRwoJ9Oa2pxhFe6dNBws/ZnMWfw/tLJD5Osav5kVuLWxmM6b7CEOHEcZCDcMomfM3lgoDZGQZ28Gj7GIodf1aCZ3ke6uY2h3Xe/AbzEMRj6KoBVFIA4Iyc9CLmAhSJoyGJCneOSOo/DB/Kqc+vaZBay3Bvrd0hKiTZMp27jgZ54rX+v69evfqblu2torO0htrZBHDCixxoP4VAwB+QqWqj6pZRI73FzDAiHG6SVADwDnr7jrUkd9aS+b5V1C/k/63bID5fGfm9OPWhu+rEkkrInoqK2ure8gE1pPHPE2cSROGU/iKloGFFFFABRRRQAVHP/qx/vp/6EKkqOf/AFY/30/9CFNbgSUUUUgCiiigAooooAKKKKAKS6LpS6odTXTLMX563Yt1808Y+/jPTjr0p1iSJLpD2mJ/OrdU4vk1a4X++it+XFRLRxM5fEmXKKKKs0CiiigAooooAKKKKACiiigAooooAKKKKAGy/wCpf/dNOpsv+pf/AHTTqACiiigAooooAKKKKACiiigAooooAKKKKACiiigAooooAaP9c3+6P606mj/XN/uj+tOoAKKKKACiiigAooooAKKKKACo7mLz7WWEHaZEK59MjFSVDeTm2sZ51ALRRM4B6EgZo3Awf+EVk/5+l/74/wDr0f8ACKyf8/S/98f/AF6of8Jpd/8APtB+v+NH/CaXf/PtB+v+NT9XXYv2TL//AAisn/P0v/fH/wBerulaK2m3TTNMJAyFcBcdwf6Vh/8ACaXf/PtB+v8AjWnoPiGfVr54JoY0VYi+VznOQP60/YqOthOm1qP1bwrHqmpG9h1XUtMkliWG6FhMsf2mNWJVWJUsuNzfNGUbDHngYzrbwMG8Q6jqGo3s721xqaX6WEbqYXdI4ljd8pu3K0eQFbacKSDW3L4gsLfUr+zu5RbDT7WO7uLidlSJI3MgB3E8Y8pic4A45ps3inw/baPDq1xrumxabO22K9e8jWGQ88K5O0ng9D2NUvd1/re/5omSvo/60/yZlQ/D3SlM0d3c317ZtbzWsFncSr5drFN/rFj2qG54ALMxUDCkDNWbTwgkN1Z3V9rWq6ncWdx58L3ckeB+6eILtRFXGJGOQAxOMsQAKvT+JtCtZY4rnWtOhkkh89Eku0UvHtLbwCeV2qxz0wpPamx+JtIurdptN1G01BEuUtZDa3UTCORmC7WO4AEZHy/ePYE4FCvHRA3pf+tv8ixpOlw6PYfZLZpHj86WbMhBOZJGc9AOMsce1XazbLxFompXc1rp2safd3ECCSaGC6R3jU9GYA5A5HJ9afpeu6TrkRk0XVLLUY1AJa0uElABJA5UnurD8D6UtxaLQv0VTvtX03S2hXU9QtbNrhwkIuJljMjZAwuSMnJAwPUVmah448OafZatO2sWNw+kQvLeW8F1G0sW3gqV3cNn5QDjkgUXKSbN+isuPxNockmnxjWLAS6lGJLKI3Sb7lSM5QZ+cfTNalArhRRRQBHL/rIf98/+gmpKjl/1kP8Avn/0E1JTAKKKKQH5/UUUV0kBRRRQAUUUUAFFFFABRRRQAUUUUAFFFFABRRRQAUUUUAFFFFABRRRQAUUUUAFFFFABRRRQAUUUUAFFFFABRRRQAUUUUAFFFFABRRRQAUUUUAFFFFABRRRQAUUUUAFFFFABRRRQAUUUUAFFFFABRRRQAV2mv/8AIDuP+A/+hCuLrtNf/wCQHcf8B/8AQhTEcTcf8s/9z+pr2H9mL/koep/9gp//AEbHXj1x/wAs/wDc/qa9h/Zi/wCSh6n/ANgp/wD0bHUSKPqKiiisCgooooAKKKKACiiigAooooAKKKKACoLm0WfDKTHKv3ZF6ip6KTSasxNJqzKUd06zJDdgJIDww+6/B6VdqG4hSdVjlXKlv6Gq4llsWCXBMkHRZe6/Wou4b7EXcN9i9RSKwZQykEHoRS1oaBRRRQAUUUUAFFFFABRRRQAUUUUANf7yf739DTqa/wB5P97+hp1ABRRRQAUUUUAFFFFABRRRQAUUUUAFFFFADZPuj/eH86dTZPuj/eH86dQAUUUUAFFFFABRRRQAUUUUAFche207ahcFYZCDKxBCHnmuvrNl8Q6VBM8Ut4ivGxVlIPBHBHSolFPcwrU1NJN2Ob+y3H/PCT/vg0fZbj/nhJ/3wa6H/hJtH/5/k/75b/Cj/hJtH/5/k/75b/Co5F3Ob6tD+YxbK2nXULctDIAJVJJQ8c10V9bPPeWDqm5YZi7HP3RsYZ/MioovEOlTzJFFeIzyMFVQDyTwB0rSq4xSOmjTjBNJ3Ofjs7/zooWtCscM87mXzFIcOG24Gc/xYOQPx60x9JuYrCFILXLRWKRbFZQSysp2jJx2Pt710dFWbmHHp1w2rtcSQYQtKyksvG5EA7+zCqz6JdHTY4Io/JZLKKPCFR8yvuKjqPzBFdLRQBl6HazwJcy3S3CvPLvP2loi5woGSIwFHT1P9K1KKKACiiigAooooAKjn/1Y/wB9P/QhUlRz/wCrH++n/oQprcCSiiikAUUUUAFFFFABRRRQAVTl+TVoG/vxsv5c1cqnffLLayf3ZQv51nU2uZ1NrlyiiitDQKKKKACiiigAooooAKKKKACiiigAooooAbL/AKl/9006my/6l/8AdNOoAKKKKACiiigAooooAKKKKACiiigAooooAKKKKACiiigBo/1zf7o/rTqaP9c3+6P606gAooooAKKKKACiiigAooooAKq6mpfSLxVBZjA4AA5J2mrVIzBELMcKoyT6UbBe2p5j9gu/+fWf/v2aPsF3/wA+s/8A37Nei/2laf8APZfyNH9pWn/PZfyNP28e6L+sR7o86+wXf/PrP/37Nb3hG2nh1eVpoZI18gjLIQM7lrp/7StP+ey/kakhu4J3KwyBmAzgCj20ZaJideMtLnDeL/C+r6rq2q3WnpKqGHTXhaCSISStbzyyOiCQFAwDKRvG0nGSOSMyHw94ntYbee1ttXie6vrme4lL6Y99EXVEUkmPyUjbYxcRh3+6cnLAepUUnqmv66f5ITd3d/1pY8rsfBOtw+DdVsprAfbJvCltpkQEyHfOgnDJnOAMunJwOfY429T8M3z65cTWNkot3k0kqVdFyIJ2aTjP8KFfr0Ga7miqcm3fzv8AjcU/fVn/AFol+h5bfeDr2HwnYxSRW2ni20DULa6nmmRI4XlMTYdsn5TtckjIHOaseFfGehSaxrHiC+uNP0XTrmK0tY5p7+3MckqCUsnmo5jZgpXhWJC7c4PA9KoqVorf1vf9QlrbyOUivdM8U+LNJ1Pw/qFhq1rpsdws81ndxzCF5FQKDtY8kBq4yPwn4tvobgX1pcI39i6jYrA5s47eOaXZtFusIDCI7TzKSwwMgck+vUUrWd0VGTi7o8u1bwtruoay832XVlttTWyZ4Yp7FI7YxEZEzOkjgqQWBhLAkkfL94+o0UUyErBRRRQMjl/1kP8Avn/0E1JUcv8ArIf98/8AoJqSmAUUUUgPz+ooorpICiiigAooooAKKKKACiiigAooooAKKKKACiiigAooooAKKKKACiiigAooooAKKKKACiiigAooooAKKKKACiiigAooooAKKKKACiiigAooooAKKKKACiiigAooooAKKKKACiiigAooooAKKKKACiiigArtNf8A+QHcf8B/9CFcXXaa/wD8gO4/4D/6EKYjibj/AJZ/7n9TXsP7MX/JQ9T/AOwU/wD6Njrx64/5Z/7n9TXsP7MX/JQ9T/7BT/8Ao2OokUfUVFFFYFBRRRQAjKHQqc4YYOCQfzHSuc8Li30vTdW8yYx29vqE5aW5nZtqjBJZ3JJ+pNdGyq6FHUMrDBUjIIrPtfDui2MM8Nlo9hbxXK7J0htURZV9GAHI5PB9aWzb8v8AIN0vUzfE1vDNdaFeB5Cy6hEE2TsI2BzyUB2t7Egkdqw/EnnSa5rF/cDS7qLRbeKaGx1C2MhK7SxaNt4CMzAqG2scqPpXX32g6Pqnlf2lpVjeeSu2P7RbJJsHoMjgVJc6Rpt5cW9xeafazzWxBgklgVmiIORtJGV5A6U1p99/wDrr2LCO7xq4j27lBwxwR7GnZk/ur/31/wDWp1FADcyf3V/76/8ArUZk/ur/AN9f/Wp1FADcyf3V/wC+v/rUZk/ur/31/wDWp1FAEbF9yfKv3v73sfalO8ggohB6gt/9alf7yf739DTqAKBinsiXt13xdWhznH0qzDcfaI98W0jv83I/Spqqz2jeYZ7VvLm7j+F/rWdnH4djOzj8OxYzJ/dX/vr/AOtRmT+6v/fX/wBaobe7WYmNx5cy/eQ/09asVaaaui001dDcyf3V/wC+v/rUZk/ur/31/wDWp1FMY3Mn91f++v8A61GZP7q/99f/AFqdRQA3Mn91f++v/rUZk/ur/wB9f/Wp1FADcyf3V/76/wDrUZk/ur/31/8AWp1FAEbF9yfKv3v73sfanZk/ur/31/8AWof7yf739DTqAG5k/ur/AN9f/WozJ/dX/vr/AOtTqKAG5k/ur/31/wDWozJ/dX/vr/61OooAbmT+6v8A31/9ajMn91f++v8A61OooAbmT+6v/fX/ANajMn91f++v/rU6igBuZP7q/wDfX/1qMyf3V/76/wDrU6igBuZP7q/99f8A1qMyf3V/76/+tTqKAI3L7RlV+8P4vf6U7Mn91f8Avr/61En3R/vD+dOoAbmT+6v/AH1/9ajMn91f++v/AK1OooAbmT+6v/fX/wBajMn91f8Avr/61OooAbmT+6v/AH1/9ajMn91f++v/AK1OooAbmT+6v/fX/wBajMn91f8Avr/61OooABnHPB9jXlOsf8hy+/6+ZP8A0I16tWNP4V0q4uJJpYXLyOXYiQjJJyamSuY1qbmlY82or0b/AIQ/R/8Ang//AH9aj/hD9H/54P8A9/WqORnN9XmcLo//ACHLH/r5j/8AQhXousSXSwxLZPIrM/zLAY/NYAfw+Z8vpnPaq8HhXSre4jmihcPG4dSZCcEHIrTurO2vYfKvbeK4jznZKgdc+uDVxVjpo03BO5zuo6vdLCktnc3L+VBHI5jiiVCWPBk3nODjonI59qsSz6jJeSFL9oo/tot1RYkIClAc8jO4HOO3qDWxLp1lPIkk1nbyOi7FZ4lJVfQHHA9qk+zw5z5Ued+/7o+9jGfr71Rsc8l7fTSQ27amYSsNwzSCNNzmOQKDyMdOuAPbFQDUrw/NbxzCW8miD+QI96/uA3y+Yducjv2rfm0ixuLhJJ7aOQICFjaNSuSwbdgjrkdanmsrW4jkjuLaGVJSDIrxhg+OmQevSgDAbUNRext5Xmkj8tWMxt/IdhhsbnBJG3A5CHOcgV0mcrkelV5NNsZVhEtnbuLcgwholPl4/u8cdO1Qtp1yZi/9s3oUtnywkG0D0/1ecfjn3oAxU1a/t9OS7N19rea1ll8oooVGToRgA98HJ6+lPS+1TyZIXmniczQBZJ/IMoDthuIyVxjoSPzrbsdLs9OjItoI1dlCvLsAeQDpuIHNPg0+ztovLtrSCGPfv2RxBRu9cAdfegCdFKoqli5AwWbGT78cUtFFABUc/wDqx/vp/wChCpKjn/1Y/wB9P/QhTW4ElFFFIAooooAKKKKAK2oW89zZmK1vpLBywJnjRGZVByQA4K8jjJBxWZ4VvLu90+5e6uWvYFuXWzvHRVa4hGMOQoCn5twBAAIAPfJu63pKa5pUlhLc3FtHIRveAruYA52kMrAqehBGCMioI9ElWzS3m1rUZvLnjlWTMUTAIQfL/dxqChxgjHIOM0IGY1zd6vZ+KpW1O51S20uS7iitHt0tWtyGVQFkyplG6TK5GOo5HWuj1Js2TkA7kIYfKexqpP4fF1qCz3Wp301ss6zrYuY/JDrypyE3kBgGwWxntjitK6TfaSr6ocflUyV6diaiumOEqlQQG5H900vmD0b/AL5NR2b77KFv9gVNTTurjTurjfMHo3/fJo8wejf98mnUUxjfMHo3/fJo8wejf98mnUUAN8wejf8AfJo8wejf98mnUUAN8wejf98mjzB6N/3yadRQA3zB6N/3yaPMHo3/AHyadRQA3zB6N/3yaPMHo3/fJp1FAEckgMTcN90/wmneYPRv++TRL/qX/wB006gBvmD0b/vk0eYPRv8Avk06igBvmD0b/vk0eYPRv++TTqKAG+YPRv8Avk0eYPRv++TTqKAG+YPRv++TR5g9G/75NOooAb5g9G/75NHmD0b/AL5NOooAb5g9G/75NHmD0b/vk06igBvmD0b/AL5NHmD0b/vk06igBvmD0b/vk0eYPRv++TTqKAIxIPNbhvuj+E+9O8wejf8AfJoH+ub/AHR/WnUAN8wejf8AfJo8wejf98mnUUAN8wejf98mjzB6N/3yadRQA3zB6N/3yaPMHo3/AHyadRQA3zB6N/3yaPMHo3/fJp1FADfMHo3/AHyaju/+PKf/AK5t/KpqR0EkbI33WBBpNXVhNXVjkqK6H+ybT+43/fRo/sm0/uN/30a876rM876rM56tLRP+P1/+uZ/mKv8A9k2n9xv++jUtvYwW0heFSGIxyc1pTw84yTZpTw84yTZwniPUbrTfGGstYXIs5bi10m1+1FVbyBLczoXAb5cgNxkEZxkEcVTn1zxJI13ptvq93cLpl7cQvdWCWYvJ0WOFw5SYCJkQysj7AGyEwBlhXotxplheC5F3Y204uohBcCWFW86MZwjZHzL8zcHj5j61Tl8K+Hp9NttPn0HTJLK0bfb2z2cZjhbnlFIwp5PI9a77/wBfd/Xnc727yv8A1tb+vQ5qLWtUm8WW87ancvpLyQRR/ZIbdrYl4lOydG/0iOUs24bflClM/wAVd3VFtE0p9ZTV30yzbU0Ty0vTboZlXn5Q+NwHJ4z3q9Q2TqFFFFIYUUUUAFFFFABRRRQBHL/rIf8AfP8A6CakqOX/AFkP++f/AEE1JTAKKKKQH5/UUUV0kBRRRQAUUUUAFFFFABRRRQAUUUUAFFFFABRRRQAUUUUAFFFFABRRRQAUUUUAFFFFABRRRQAUUUUAFFFFABRRRQAUUUUAFFFFABRRRQAUUUUAFFFFABRRRQAUUUUAFFFFABRRRQAUUUUAFFFFABRRRQAV2mv/APIDuP8AgP8A6EK4uu01/wD5Adx/wH/0IUxHE3H/ACz/ANz+pr2H9mL/AJKHqf8A2Cn/APRsdePXH/LP/c/qa9h/Zi/5KHqf/YKf/wBGx1Eij6iooorAoKKKKACiiigAooooAKKKKACiiigAooooAa/3k/3v6GnU1/vJ/vf0NOoAKKKKAIbi1S4AJyrr9116ioYrp4ZBDe/Kx4WQfdf/AANXKZLEk0ZSVQynsahx1vHchx1vHcfRVHdLp5xJultuzdWT6+oq6jrIgZCGU9CKcZX06jjK+nUWiiiqKCiiigAooooAa/3k/wB7+hp1Nf7yf739DTqACiiigAooooAKKKKACiiigAooooAKKKKAGyfdH+8P506myfdH+8P506gAooooAKKKKACiiigAooooAKKKKACiiigArO1iS6WGJbJ5FZn+ZYDH5rAD+HzPl9M57Vo1DdWdtew+Ve28VxHnOyVA659cGgDnbvV9QMg+xtM6Q20c3mKIUSQsTnzPMYEDj+H357VoLdTyXVxM155KW8vlLbFUKyfID167iTxg49q0ZbG0neJ57WGRoTmIvGCY/wDdz0/ClNlam8F2baE3IXaJjGN4Hpu64oA53+0tQS2iKX/nvdQJOGMaYhJkUYGB93DEc5PHWrH2i+SY2DX8hJvBF9qMcfmKvl78fd25zxnbWxHp9lD5nk2cEfmvvk2xKN7Zzk8cnPenTWdrcRyR3FtDKkpBkV4wwc+4PXoKAKXh4Y0gfOJP30vzj+L943NadNjijhjCQosaDoqjAp1ABRRRQAUUUUAFRz/6sf76f+hCpKjn/wBWP99P/QhTW4ElFFFIAooooAKKKKACiiigAoIyMGiigCppnFnsPWNmX9at1TsvlubuP0k3fmKuVnT+FGdP4UFFFFaGgUUUUAFFFFABRRRQAUUUUAFFFFADZf8AUv8A7pp1Nl/1L/7pp1ABRRRQAUUUUAFFFFABRRRQAUUUUAFFFFABRRRQAUUUUANH+ub/AHR/WnU0f65v90f1p1ABRRRQAUUUUAFFFRXFzDax+ZcSKi+/egCWq91fW9moM8mCfuqOWb6Cqn2m91Dizj+zQH/ltKPmP0FWLXTYLVvMwZZj1lkOWNTdvYRXB1DUOmbKA/jI3+FadFFNKwwooopgFFFFABRRRQAUUUUAFFFFABRRRQAUUUUAFFFFAEcv+sh/3z/6CakqOX/WQ/75/wDQTUlMAooopAfn9RRRXSQFFFFABRRRQAUUUUAFFFFABRRRQAUUUUAFFFFABRRRQAUUUUAFFFFABRRRQAUUUUAFFFFABRRRQAUUUUAFFFFABRRRQAUUUUAFFFFABRRRQAUUUUAFFFFABRRRQAUUUUAFFFFABRRRQAUUUUAFFFFABXaa/wD8gO4/4D/6EK4uu01//kB3H/Af/QhTEcTcf8s/9z+pr2H9mL/koep/9gp//RsdePXH/LP/AHP6mvYf2Yv+Sh6n/wBgp/8A0bHUSKPqKiiisCgooooAKKRgWQgMVJGAwxke/NYfhU3AtdQiu72e9eHUJoxNcFdxAxgfKAB9AAKFvb+v61B7XN2isHxH9pivdHmgv7iGM38cUkEZUJKDn7xxu7dAQPUGsvxVaX9tqVxrU3n3GkW9onmQ2+r3FpJFtZjI6pHhXO0jgsPu4oWv32H1sdlRTBIuB97p/dJpfMHo3/fJoEOopvmD0b/vk0eYPRv++TQA6im+YPRv++TR5g9G/wC+TQAP95P97+hp1RtINycN97+6fQ07zB6N/wB8mgB1FN8wejf98mjzB6N/3yaAHUU3zB6N/wB8mjzB6N/3yaAHEZGDVJreS0cyWY3IeXhz+oq35g9G/wC+TR5g9G/75NTKKkTKKkMt7iO5j3RnpwVPUH3qWqdxAGfzrctHMO+w4b2NOgvQ7eXMpjmHVMHn3FSpNO0iVJp2kWqKb5g9G/75NHmD0b/vk1oaDqKb5g9G/wC+TR5g9G/75NAA/wB5P97+hp1RtINycN97+6fQ07zB6N/3yaAHUU3zB6N/3yaPMHo3/fJoAdRTfMHo3/fJo8wejf8AfJoAdRTfMHo3/fJo8wejf98mgB1FN8wejf8AfJo8wejf98mgB1FN8wejf98mjzB6N/3yaAHUU3zB6N/3yaPMHo3/AHyaACT7o/3h/OnVG8gKjhvvD+E+tO8wejf98mgB1FN8wejf98mjzB6N/wB8mgB1FN8wejf98mjzB6N/3yaAHUU3zB6N/wB8mjzB6N/3yaAHUU3zB6N/3yaPMHo3/fJoAdXC6hcTDU7oCVwBM+AGPqa7oHIyP1GK5y68MzXF5NMLhAJJGYAg8ZOa2oyjFu4GB9pn/wCe0n/fRo+0z/8APaT/AL6NbX/CKT/8/Mf/AHyaP+EUn/5+Y/8Avk10+0p9wM3T7iY6nagyuQZkyCx9RXV6tqX9mW6SBYfnfbvuJvKjTj+J8HHoOOTWXa+GZre8hmNwhEcisQAecHNbd3atdIojup7V1OQ8JXP0IYEH8RXNWlGTVgMqfW7izubia6jjS1jtYpAPOHDsxHJxjHvnAAzSW/iRruNVtILe4nacwHybsPFnYWB3hemOvy5HPBq6dEtiNqvKqeSsW1SP4TlWzjO4H8PaoZ9Fmk+z41C5d45zK08jLvHyFRtG3YOo424696xAjl8QMi24EECSSMyMs9yIxvVtpRCVw7Z6DjPtW3nis19EjNukEd1cxR4IlVWUiYE5bdlTySTyuDzTjLq4lKJY2PkhsBjevu2+uPK647Z/GgConiJktftV7Z+RbtA80bLLuY7eoIwMeoOT74qODxOLi3l8iK2uJ0kjQLb3YkjO84HzheCO4x+dTWPh9IrVY76aS4IhMQjLDZGG+9tIAPPuTjtirSaUAmJ7y6uW8xJA0rLxtOQAAAMfhk+tAF5CxRfMAVschTkA/WloooAKKKKACo5/9WP99P8A0IVJUc/+rH++n/oQprcCSiiikAUUUUAFFFFABRRRQAUVhXuuahp2pQrd6XCunz3aWsc6Xe6UluFYx7Mbc8ffzjnHat2jpcOtimnyaxKP+ekQb8jirlU5/k1S2b+8rKf51crOHVeZnDqvMKKKK0NAooooAKKKKACiiigAooooAKKKKAGy/wCpf/dNOpsv+pf/AHTTqACiiigAooooAKKKKACiiigAooooAKKKKACiiigAooooAaP9c3+6P606mj/XN/uj+tOoAKKKRmCKWYhQOpJ6UALTZZY4Yy8rqijqWOKoPqb3DGPS4vPYcGVuEX8e9EWleZIJtRlNzIOinhF+gqea+wDTf3F6dumRYTvcSjC/gO9S2+lxRyedcs1zP/fk7fQdqvAAAADAHQUUcvcAoooqgCiiigAooooAKKKKACiiigAooooAKKKKACiiigAooooAKKKKAI5f9ZD/AL5/9BNSVHL/AKyH/fP/AKCakpgFFFFID8/qKKK6SAooooAKKKKACiiigAooooAKKKKACiiigAooooAKKKKACiiigAooooAKKKKACiiigAooooAKKKKACiiigAooooAKKKKACiiigAooooAKKKKACiiigAooooAKKKKACiiigAooooAKKKKACiiigAooooAK7TX/APkB3H/Af/QhXF12mv8A/IDuP+A/+hCmI4m4/wCWf+5/U17D+zF/yUPU/wDsFP8A+jY68euP+Wf+5/U17D+zF/yUPU/+wU//AKNjqJFH1FRRRWBQUUUUAIyh0KnOGGDgkH8x0rIt/Cuk21jfWaR3Mlvfqy3KT3s0u/cME/O5wTnkjBNbFFAGXqPhzTtUW2W7F0FtceSIb2aEKR0PyOMkep5ovPDmm390Li7SeQ/Luj+1yiKTb03xhtj/APAgc1qUUAFFFFABRRRQAUUUUANf7yf739DTqa/3k/3v6GnUAFFFFABRRRQAUUUUAFQ3FtHcph+GH3WHVamopNJqzE0mrMpx3MltIIb3GDwkw6N9fQ1cprxrKhSRQynqDVP97p3TMtt/49H/AIiou4b7EXcN9i9RTY5ElQPGwZT0Ip1aGg1/vJ/vf0NOpr/eT/e/oadQAUUUUAFFFFABRRRQAUUUUAFFFFABRRRQA2T7o/3h/OnU2T7o/wB4fzp1ABRRRQAUUUUAFFFFABRRRQAUUUUAFFFFABVDVtS/sy3SQLD877d9xN5UacfxPg49Bxyav1Xu7VrpFEd1PaupyHhK5+hDAg/iKAMm/wDFENhMkcwt0YRLLKkt0qNhs8RjB3ng9x2q8NSle6k8m3V7WFtks3m4ZTtzwuMEcjnOfakbRYh5f2e5ubZVRY3ELgeYo6AkgkdTypB56086Wn2151ubhY5Due3VgEdsYyeN3THGccdKAKP/AAkE6W/mT2AUyxrLbqs27epYL83y/K3zA45HvUg1m6wYGsoxe+f5CxC4zGfk3537c4x/s9afF4ft0Xa9xcTBQqxeYynykDBgq4HTIHJyeOtTz6TFM0jpNNDK8olWWMruRgu3jII6eoPWgA0e4nutOEl1/rfNkU9OAHIA49hV6oLK0SxtRBEzuoZm3Ockkkk8/U1PQAUUUUAFFFFABUc/+rH++n/oQqSo5/8AVj/fT/0IU1uBJRRRSAKKKKACiiigAooooA5p7DXZPFX2+5tdPurWF9tnuvnQ26EYZ/L8ohpDlhnd04GMsT0ZjQnJRc/SnUUdLB1uUb9ETyJAqjbKM8djVzyo/wC4v5VFewm4tHRPvdV+opbWcXNusnQ9GHoazWk2u5mtJvzJPKj/ALi/lR5Uf9xfyp1FaGg3yo/7i/lR5Uf9xfyp1FADfKj/ALi/lR5Uf9xfyp1FADfKj/uL+VHlR/3F/KnUUAN8qP8AuL+VHlR/3F/KnUUAN8qP+4v5UeVH/cX8qdRQBHJGgiYhFztPaneVH/cX8qJf9S/+6adQA3yo/wC4v5UeVH/cX8qdRQA3yo/7i/lR5Uf9xfyp1FADfKj/ALi/lR5Uf9xfyp1FADfKj/uL+VHlR/3F/KnUUAN8qP8AuL+VHlR/3F/KnUUAN8qP+4v5UeVH/cX8qdRQA3yo/wC4v5UeVH/cX8qdRQA3yo/7i/lR5Uf9xfyp1FAEYjTzWGxcbR2+tO8uP+4v5VSudThguDFGGnmIAEcfJ79fSo/sd3f86jJ5UR/5d4j1+pqebogFm1CHzDDYwC6m7hANq/U01NKe5cSak4fuIYxhB/jWhDBFbxiOCNUUdlFSUct9wI1giRQqRIoHQBRTvKj/ALi/lTqKoBvlR/3F/Kjyo/7i/lTqKAG+VH/cX8qPKj/uL+VOooAb5Uf9xfyp1FFABRRRQAUUUUAFFFFABRRRQAUUUUAFFFFABRRRQAUUUUARy/6yH/fP/oJqSo5f9ZD/AL5/9BNSUwCiiikB+f1FFFdJAUUUUAFFFFABRRRQAUUUUAFFFFABRRRQAUUUUAFFFFABRRRQAUUUUAFFFFABRRRQAUUUUAFFFFABRRRQAUUUUAFFFFABRRRQAUUUUAFFFFABRRRQAUUUUAFFFFABRRRQAUUUUAFFFFABRRRQAUUUUAFdpr//ACA7j/gP/oQri67TX/8AkB3H/Af/AEIUxHE3H/LP/c/qa9h/Zi/5KHqf/YKf/wBGx149cf8ALP8A3P6mvYf2Yv8Akoep/wDYKf8A9Gx1Eij6iooorAoKKKKACiiigAooooAKKKKACiiigAooooAa/wB5P97+hp1Nf7yf739DTqACiiigAooooAKKKKACiiigAooooApyW0lu5msu/LxHo309DU1vcx3K5Thh95D1Wpqr3FoJXEsTeXMvRx39jWfK46x+4z5XHWP3Ez/eT/e/oadVOK6LSpDcL5cwPTs3B5FXKuMlJXRcZKSugooopjCiiigAooooAKKKKACiiigAooooAbJ90f7w/nTqbJ90f7w/nTqACiiigAooooAKKKKACiiigAooooAKKKKACiiigAooooAKKKKACiiigAooooAKKKKACo5/9WP99P8A0IVJUc/+rH++n/oQprcCSiiikAUUUUAFFFFABRRRQAUUUUAFUW/0O/DdIbg4P+y3/wBer1R3EK3EDRt3HB9DUTTa03Imm1puSUVWspmlhKS/62M7XH9as1UWpK6Ki1JXQUUUUxhRRRQAUUUUAFFFFABRRRQA2X/Uv/umnU2X/Uv/ALpp1ABRRRQAUUUUAFFFFABRRRQAUUUUAFFFFABRUF1eQWabriQLnoOpP0FU99/qH+qBsrc/xsP3jfQdqlyWwFm71G3s/lkYtIfuxoMsfwqt5V/qH+vY2cB/5ZofnYe57VatNPt7PJiTLn70jHLH8as0Wb3ArWtpBaMyW8YQbRk9z16mrNNH+ub/AHR/WnVWwBRRRQAUUUUAFFFFABRRRQAUUUUAFFFFABRRRQAUUUUAFFFFABRRRQAUUUUAFFFFABRRRQBHL/rIf98/+gmpKjl/1kP++f8A0E1JTAKKKKQH5/UUUV0kBRRRQAUUUUAFFFFABRRRQAUUUUAFFFFABRRRQAUUUUAFFFFABRRRQAUUUUAFFFFABRRRQAUUUUAFFFFABRRRQAUUUUAFFFFABRRRQAUUUUAFFFFABRRRQAUUUUAFFFFABRRRQAUUUUAFFFFABRRRQAV2mv8A/IDuP+A/+hCuLrtNf/5Adx/wH/0IUxHE3H/LP/c/qa9h/Zi/5KHqf/YKf/0bHXj1x/yz/wBz+pr2H9mL/koep/8AYKf/ANGx1Eij6iooorAoKKKKAEYsEOwAtjgE4BP1rK8Pale6la3TalDBBPBdyQFLd2dQFxj5iAT164H0rVbcUOwgNjgkZAP0rB03RNXsrHU4n1i2M947yxTwWJTyJGH3trSMGA4wOOnU0ur9P8g6L1LGtanf6feaattb27211dJBNJJI29N2fuqBg9OpYY9DVHxN4mudMHl6RbxXEkM8C3ckpOyFZJFULx1kIfIGeByeqhrWtaRqepLYC01K1g+ySrMxms2lMjr0PEi4HJ45+tQ+IPBekeIIHNxYWC3skkTveNZo8jBGUkZPOCF29eh79Ka8+/4af8EOvyN8yIpwWUH0Jo82P++v50qqqKFQBVUYAAwAKWgBvmx/31/OjzY/76/nTqKAG+bH/fX86PNj/vr+dOooAjaRNyfOv3vX2NO82P8Avr+dD/eT/e/oadQA3zY/76/nR5sf99fzp1FADfNj/vr+dHmx/wB9fzp1FADfNj/vr+dHmx/31/OnUUAN82P++v50ebH/AH1/OnUUAN82P++v50ebH/fX86dRQA3zY/76/nR5sf8AfX86dRQBWuUguFVXZfvdQ3I4qGO7a1fyrpw6H7sw/rV1/vJ/vf0NKyq6lXAZTwQe9RKOt1uRKOt1uJ5sZ/jX86PNj/vr+dUyktgcxbpbbunVk+ntVuKVJ4w8TBlPeiMr6PcIyvo9xfNj/vr+dHmx/wB9fzp1FWWN82P++v50ebH/AH1/OnUUAN82P++v50ebH/fX86dRQA3zY/76/nR5sf8AfX86dRQA3zY/76/nR5sf99fzp1FAEbyIVGHX7w7+9O82P++v50SfdH+8P506gBvmx/31/OjzY/76/nTqKAG+bH/fX86PNj/vr+dOooAb5sf99fzo82P++v506igBvmx/31/OjzY/76/nTqKAAEMMg5HqKKKKACiiigAooooAKKKKACiiigAooooAKKKKACiiigAqOf8A1Y/30/8AQhUlRz/6sf76f+hCmtwJKKKKQBRRRQAUUUUAQ3d3bWFq9zfXEVtBGMvLM4RVHuTwKSxvbfUrCC9spPNt7hBJE+CNykZBweaW7uUs7SSeVZWRBkiGFpWP0VQWP4Cud8L6gbLwPpCSafqBljWG0kh+yOjxscAsVcA7BnJYZGAaFr+AdDTPiTTv7Wk05PtctxFIsUnlWM8iIzAEBpFQqOGB5PGea1a46/ghHiUSaJb6vb6rJfRNcttuFtZYxgOzZ/cn92MDHzZA7115U5++w/L/AAoXw3B72HUU3Yf+ejfkP8KNh/56N+Q/woArXEMsdwLm2AZsYdCcbh/jUtvdR3AO3KuPvI3BFSbD/wA9G/If4VBPZLMwfeyyDo4xkVm4tO8TPlad4lmiqHn3NvxdLIwH/LSIAj8RU8NxFP8A6q4yfTgH8sU1OL0GpxehYopuw/8APRvyH+FGw/8APRvyH+FWWOopuw/89G/If4UbD/z0b8h/hQA6im7D/wA9G/If4UbD/wA9G/If4UAOopuw/wDPRvyH+FGw/wDPRvyH+FABL/qX/wB006o5FPlN87H5T6f4U7Yf+ejfkP8ACgB1FN2H/no35D/CjYf+ejfkP8KAHUU3Yf8Ano35D/CjYf8Ano35D/CgB1FN2H/no35D/CjYf+ejfkP8KAHUU3Yf+ejfkP8ACjYf+ejfkP8ACgB1FRyERIXkmKKOpbAA/Ss839xdsU0tWcZwZ5AAg+nHNJtIDQnuIraMyTyLGo7k1Q+13l/xYR+RCf8AlvKOT9BT4tJTzBNeSvcz/wB5sYH0FXth/wCejfkP8KWr3Aq2umQ28nmvumnPWWQ5P4elXKbsP/PRvyH+FGw/89G/If4U0ktgHUU3Yf8Ano35D/CjYf8Ano35D/CmAD/XN/uj+tOqMKfNb52+6PT39qdsP/PRvyH+FADqKbsP/PRvyH+FGw/89G/If4UAOopuw/8APRvyH+FGw/8APRvyH+FADqKbsP8Az0b8h/hRsP8Az0b8h/hQA6im7D/z0b8h/hRsP/PRvyH+FADqKbsP/PRvyH+FOoAKKKKACiiigAooooAKKKKACiiigAooooAKKKKACiiigCOX/WQ/75/9BNSVHL/rIf8AfP8A6CakpgFFFFID8/qKKK6SAooooAKKKKACiiigAooooAKKKKACiiigAooooAKKKKACiiigAooooAKKKKACiiigAooooAKKKKACiiigAooooAKKKKACiiigAooooAKKKKACiiigAooooAKKKKACiiigAooooAKKKKACiiigAooooAK7TX/+QHcf8B/9CFcXXaa//wAgO4/4D/6EKYjibj/ln/uf1New/sxf8lD1P/sFP/6Njrx64/5Z/wC5/U17D+zF/wAlD1P/ALBT/wDo2OokUfUVFFFYFBRRRQAUUUUAFFFFABRRRQAUUUUAFFFFADX+8n+9/Q06mv8AeT/e/oadQAUUUUAFFFFABRRRQAUUUUAFFFFABRRRQA1/vJ/vf0NOpr/eT/e/oadQAVTltXikM1kQrnloz91/8DVyiplFS3JlFS3ILe6S4BABSRfvI3UVPVe5tFnIdCY5l+7IP602G7YSCC7ASXsf4X+lSpNO0iVJp2kWqKKK0NAooooAKKKKACiiigBsn3R/vD+dOpsn3R/vD+dOoAKKKKACiiigAooooAKKKKACiiigAooooAKKKKACiiigAooooAKKKKACiiigAooooAKjn/1Y/wB9P/QhUlRz/wCrH++n/oQprcCSiiikAUUUUAFFFFABRRRQAUUUUAFFFFABRRRQAVDNZwT/AOsjUn+8OD+dTUUmk9GJpNWZS+z3Nt/x7S+Yn/POX+hp6X6bglwrQP6P0P0NWqR0WRdrqGHoRmo5WvhZHK18LAEMMqQR6ilqq2nW+cxhoj6xsRTfs10n+qvCR6SID+tPmkt0Pmkt0XKKqbNQHSaE/VTSbtQTrHBIPRSQf1pc/kxc/ky5RVP7eU/19tNH7gbh+dTRXlvPxHKpPoeD+VNTi9LjU4vS5JL/AKl/9006my/6l/8AdNOqywooooAKKKKACiiqFxqsaSGG0Rrqf+5H0H1Pak2luBfJCgknAHUms6TVfNkMWmxG5kHBfoi/U0g0+e8IfVJcr1EEZwo+p71oRxpDGEiRUUdAoxS1YFBNLM7iXU5ftDjkRjhF/DvWgAFUBQAB0A7UtFNJIAooopgFFFFABRRRQA0f65v90f1p1NH+ub/dH9adQAUUUUAFFFFABRRRQAUUUUAFFFFABRRRQAUUUUAFFFFABRRRQAUUUUAFFFFABRRRQAUUUUARy/6yH/fP/oJqSo5f9ZD/AL5/9BNSUwCiiikB+f1FFFdJAUUUUAFFFFABRRRQAUUUUAFFFFABRRRQAUUUUAFFFFABRRRQAUUUUAFFFFABRRRQAUUUUAFFFFABRRRQAUUUUAFFFFABRRRQAUUUUAFFFFABRRRQAUUUUAFFFFABRRRQAUUUUAFFFFABRRRQAUUUUAFdpr//ACA7j/gP/oQri67TX/8AkB3H/Af/AEIUxHE3H/LP/c/qa9h/Zi/5KHqf/YKf/wBGx149cf8ALP8A3P6mvYf2Yv8Akoep/wDYKf8A9Gx1Eij6iooorAoKKKKACikYlUJCliBkKMZPtzWboervrFrcSy2Ulk8Nw8BhldWYbe52kjv0BP1o62A06Ky9V1iTTLzT4RYSzx3lwsJnDoqRE56gncTx2GPUiq+u65faIst2dOhk02AKZpmu9spycHZHsIbGR1ZcnijcNjcooooAKKKKACiiigBr/eT/AHv6GnU1/vJ/vf0NOoAKKKKACiiigAooooAKKKKACiiigAooooAa/wB5P97+hp1Nf7yf739DTqACiiigAqOaCO4jKSrkdvapKKTSasxNJqzKKyy2JCXJMkJOFl7r7H/GroIYAqQQehFBAZSGAIPUGqRilsSXtgZIOrRd19xUaw9CNYeheoqOGeO4jDxNuH8qkq001dFpp6oKKKKYwooooAbJ90f7w/nTqbJ90f7w/nTqACiiigAooooAKKKKACiiigAooooAKKKKACiiigAooooAKKKKACiiigAooooAKKKKACo5/wDVj/fT/wBCFSVHP/qx/vp/6EKa3AkooopAFFFFABRRRQAUUUUAFFFFABRRRQAUUUUAFFFFABRRRQAUUUUAFFFFABUM1pBP/rY1J9eh/OpqKTSejE0noyi9lLDG32a5cLg/I/zCnfZLl/8AXXrfSNQv61al/wBS/wDumnVHs4keziUZNP2L5kEkhnXlWds59qs2863EIdeD0Yeh9KlrPupk0+7E24bZuHjB5J9QKTShqthWUNVsaFVLrUoLZ/LGZZj0ijGW/wDrVWxfakMkmytj2H+sYf0q7a2UFmmIIwpPVjyT9TV3b2NCn9lvdQ5vpPs8J/5YRHk/U1fgt4bWMR28aovoB1qSimopDCiiimAUUUUAFFFFABRRRQAUUUUANH+ub/dH9adTR/rm/wB0f1p1ABRRRQAUUUUAFFFFABRRRQAUUUUAFFFFABRRRQAUUUUAFFFFABRRRQAUUUUAFFFFABRRRQBHL/rIf98/+gmpKjl/1kP++f8A0E1JTAKKKKQH5/UUUV0kBRRRQAUUUUAFFFFABRRRQAUUUUAFFFFABRRRQAUUUUAFFFFABRRRQAUUUUAFFFFABRRRQAUUUUAFFFFABRRRQAUUUUAFFFFABRRRQAUUUUAFFFFABRRRQAUUUUAFFFFABRRRQAUUUUAFFFFABRRRQAV2mv8A/IDuP+A/+hCuLrtNf/5Adx/wH/0IUxHE3H/LP/c/qa9h/Zi/5KHqf/YKf/0bHXj1x/yz/wBz+pr2H9mL/koep/8AYKf/ANGx1Eij6iooorAoKKKKAEYsEOwAtjgE4BP1rndJs/EFlY6t5lvpsV1cTSXFqVuZJU3t0V/3aEAEDkZJ56V0dFAGDr9nrV6um/2fb2ErW86XExnuniyy/wAKgRtwc9T+RqHxHpGqa1/o0dppnl8GC+klcT2T93jUIcsOoIdPfpz0lFH/AA4DfLU/eUMfUjrR5Uf9xfyp1FADfKj/ALi/lR5Uf9xfyp1FADfKj/uL+VHlR/3F/KnUUARtGm5PkX73p7GneVH/AHF/Kh/vJ/vf0NOoAb5Uf9xfyo8qP+4v5U6igBvlR/3F/Kjyo/7i/lTqKAG+VH/cX8qPKj/uL+VOooAb5Uf9xfyo8qP+4v5U6igBvlR/3F/Kjyo/7i/lTqKAG+VH/cX8qPKj/uL+VOooAjaNNyfIv3vT2NO8qP8AuL+VD/eT/e/oadQA3yo/7i/lR5Uf9xfyp1FADfKj/uL+VHlR/wBxfyp1FADfKj/uL+VHlR/3F/KnUUAU57L9551rtSTupHyv9adbTQz5Ro1jlX70ZHIq1UFzapcYOSki/ddeorNxad4mbi07xJfKj/uL+VHlR/3F/Kq0V08cghvQFf8Ahcfdf/69W6qMlLYqMlLYb5Uf9xfyo8qP+4v5U6iqKI3jQKMIv3h296d5Uf8AcX8qJPuj/eH86dQA3yo/7i/lR5Uf9xfyp1FADfKj/uL+VHlR/wBxfyp1FADfKj/uL+VHlR/3F/KnUUAN8qP+4v5UeVH/AHF/KnUUAAAUYAwPQUUUUAFFFFABRRRQAUUUUAFFFFABRRRQAUUUUAFFFFABUc/+rH++n/oQqSo5/wDVj/fT/wBCFNbgSUUUUgCiiigAooooAKKKKAOcmtY4viTZXCtKXm0253BpnZRh4ANqk7V99oGe9dCS+eFXH+9/9aqUmg6RNqY1GXSrJ74EMLprdDKCBgHfjPGPWr9HRIHuNzJ/dX/vr/61GZP7q/8AfX/1qdRQA3Mn91f++v8A61GZP7q/99f/AFqdRQA3Mn91f++v/rUZk/ur/wB9f/Wp1FADcyf3V/76/wDrUZk/ur/31/8AWp1FADcyf3V/76/+tRmT+6v/AH1/9anUUANzJ/dX/vr/AOtRmT+6v/fX/wBanUUANzJ/dX/vr/61GZP7q/8AfX/1qdSO6xoWdgqjqScAUAMkL+U2VXG0/wAX/wBamyziCMyTGNFHUs//ANaqM2pyXSvHpkJlGCGmbhF/xqSLSlaQTX8hupR03fdX6Cp5r7AR/bru/BXToRGn/PxJ0/Ad6kt9LSHc8qi4mcYaSRsk/TjitADAwKKOXuKxnxzT2QMLwSTIv3HQZ49Kd/aaD78bp/vA/wCFXqKlRktEyFGS0TKP9qI3+qjaX/cB/wAKcLu5f7lk3/A3Aq5RRyy6sfLLqymby5T79i//AAFg1N/tNR9+F0Poyn/Cr1FPll3Dll3KP9pA/dgkb6Kf8KX7fKellN+IxV2ijll3Dll3KYu7k9LF/wAXApDeXCf6yxk/4Cwb+VXaKOWX835C5ZfzfkUhqcWcP+7Po+R/SpkuVk/1bxN9JP8A61TEBhhgCPeoXsbaT70CfgMfype+g99EuZP7q/8AfX/1qMyf3V/76/8ArVV/s2Nf9VLNEPRJKX7Ae13c/wDfdPml2Dml2JwX81vlXO0fxfX2oaQoMv5aj3fH9KrCw3SEPczsMD+Pr1p66daqc+UGPqxJovPsO8+xIlwsvEbRMfaTP9KkzJ/dX/vr/wCtUL2NtIPmhQf7ox/KmfYnT/j3uZU9Ax3D9aLzW6C81uizmT+6v/fX/wBajMn91f8Avr/61QW90S/kXI2TD8n9xVmqjJSV0VGSkrobmT+6v/fX/wBajMn91f8Avr/61OopjG5k/ur/AN9f/WozJ/dX/vr/AOtTqKAG5k/ur/31/wDWp1FFABRRRQAUUUUAFFFFABRRRQAUUUUAFFFFABRRRQAUUUUARy/6yH/fP/oJqSo5f9ZD/vn/ANBNSUwCiiikB+f1FFFdJAUUUUAFFFFABRRRQAUUUUAFFFFABRRRQAUUUUAFFFFABRRRQAUUUUAFFFFABRRRQAUUUUAFFFFABRRRQAUUUUAFFFFABRRRQAUUUUAFFFFABRRRQAUUUUAFFFFABRRRQAUUUUAFFFFABRRRQAUUUUAFdpr/APyA7j/gP/oQri67TX/+QHcf8B/9CFMRxNx/yz/3P6mvYf2Yv+Sh6n/2Cn/9Gx149cf8s/8Ac/qa9h/Zi/5KHqf/AGCn/wDRsdRIo+oqKKKwKCiiigAooooAKKKKACiiigAooooAKKKKAGv95P8Ae/oadTX+8n+9/Q06gAooooAKKKKACiiigAooooAKKKKACiiigBr/AHk/3v6GnU1/vJ/vf0NOoAKKKKACiiigAooooAKKKKAGSxJPGUlXcpqoHlsDtmJlt+z90+tXqCMjB5FRKN9VuRKN9VuIrK6hkIZT0I70tUmgls2MlmN0ZOWh/qKswXEdxHuiOexB6j60RlrZ7hGWtnuOk+6P94fzp1Nk+6P94fzp1WWFFFFABRRRQAUUUUAFFFFABRRRQAUUUUAFFFFABRRRQAUUUUAFFFFABRRRQAUUUUAFRz/6sf76f+hCpKjn/wBWP99P/QhTW4ElFFFIAooooAKKKKACiiigAooooAKKKKACiiigAooooAKKKKACiiigAoJAGTwBVG41SOOTybZWuZ/7kfb6ntUQsLm9O7U5cJ2t4jhfxPep5uwD5dVDyGHTojdSjgkcIv1NNTTHuGEmqS+ew5ES8Iv4d6vxRRwxhIkVFHQKMU+jlvuIY6qluyoAqhTgAYxT6bL/AKl/9006qGFFFFABRRRQAUUUUAFFFFABRRRQAUUUUAFFFFABRRRQA0f65v8AdH9adTR/rm/3R/WnUAFFFFAEVxbpcx7X4I5Vh1U1BDdNC/kXpCsPuyHhXH+NXKbJGkq4kRXHowzUOOt1uQ463W4gnib7siH6MKduGM5GKgNhanrAn4DFM/syzznyR/30f8aLz7L+vkF59l/XyLJljHV1H1NIJoj0kQ/RhUI0+0HSBfxpTYWp6wJ+Ao9/yD3/ACLAIPQ5oqodMtO0WD7Mf8at01zdRrm6hRRRVFBRRRQAUUUUAFFFFABRRRQAUUUUAFFFFABRRRQBHL/rIf8AfP8A6CakqOX/AFkP++f/AEE1JTAKKKKQH5/UUUV0kBRRRQAUUUUAFFFFABRRRQAUUUUAFFFFABRRRQAUUUUAFFFFABRRRQAUUUUAFFFFABRRRQAUUUUAFFFFABRRRQAUUUUAFFFFABRRRQAUUUUAFFFFABRRRQAUUUUAFFFFABRRRQAUUUUAFFFFABRRRQAV2mv/APIDuP8AgP8A6EK4uu01/wD5Adx/wH/0IUxHE3H/ACz/ANz+pr2H9mL/AJKHqf8A2Cn/APRsdePXH/LP/c/qa9h/Zi/5KHqf/YKf/wBGx1Eij6iooorAoKKKKAEZlRC7sFVRksTgAVU0zVrDWbZrnSrqO7gWQx+bEcqWHXB6H6jirbMEQsc4UZOASfyHWuX8P6oIbHXLj7BqTGO6muViawljeZDyAgdV3E46demcZpdX6f5B0Xqbl5rGnafeWtpeXkUVzdvsghLfPIfZeuPfoKgvvEmmabe/ZryWaNht3yC2laKPccLvkClFz/tEVneKL9UGjn7LfyEXkVw4gsZZtiDOd2xTgjI461X8TaiLy+GjXNrqCacypJdTw6dPN54zkRIY0IHT5icEA4HJJVrz72B+XY62im43AFXZQRwMAfzFGw/89G/If4UAOopuw/8APRvyH+FGw/8APRvyH+FADqKbsP8Az0b8h/hRsP8Az0b8h/hQAP8AeT/e/oadUbKdyfO33vb0PtTth/56N+Q/woAdRTdh/wCejfkP8KNh/wCejfkP8KAHUU3Yf+ejfkP8KNh/56N+Q/woAdRTdh/56N+Q/wAKNh/56N+Q/wAKAHUU3Yf+ejfkP8KNh/56N+Q/woAdRTdh/wCejfkP8KNh/wCejfkP8KAHUU3Yf+ejfkP8KNh/56N+Q/woAH+8n+9/Q06o2U7k+dvve3ofanbD/wA9G/If4UAOopuw/wDPRvyH+FGw/wDPRvyH+FADqKbsP/PRvyH+FGw/89G/If4UAOopuw/89G/If4UbD/z0b8h/hQA6im7D/wA9G/If4UbD/wA9G/If4UAOopuw/wDPRvyH+FGw/wDPRvyH+FADqqz2hMnnWzeXN69m9jVjYf8Ano35D/CjYf8Ano35D/ClKKktRSipLUrR3Yl/dSr5cykZQ9+eo9at1WurVZlBZ23KRtYYyOaiSeWCQRXrkZ4SUAbW+vHBqOZx0l95HM46S+8vUU3Yf+ejfkP8KNh/56N+Q/wrQ0HUU3Yf+ejfkP8ACjYf+ejfkP8ACgB1FN2H/no35D/CjYf+ejfkP8KAHUU3Yf8Ano35D/CjYf8Ano35D/CgB1FAGByc+5ooAKKKKACiiigAooooAKKKKACiiigAooooAKKKKACo5/8AVj/fT/0IVJUc/wDqx/vp/wChCmtwJKKKKQBRRRQAUUUUAFFYnimaZLC0t4ZZIReXsNvJJExV1Rm+bDDlSQMZGCM8EHmo/DUksV/rWmmaae3sbtUgaeVpXCtEjlS7Es2Cx6knBx2FC1v/AF2/zD+v6+436K42/tL7TfE8mpal59xp1xfQJA0Gr3EZt9wRFBtxiNl8zk89G6HpXYGQA9G/75NHS4dR1FN8wejf98mjzB6N/wB8mgB1FN8wejf98mjzB6N/3yaAHUU3zB6N/wB8mjzB6N/3yaAHUVVudStrXiVjvPRAp3H8KqE32off32UHoqkyN+PapcugFq61KC2byxmWY9Ioxlj/AIVX+zXuoc3sn2aE/wDLGI/Mfqas2ttbWa4gjIJ6sVJJ+pqx5g9G/wC+TRZvcBlvbQ2sfl28aovsOtS03zB6N/3yaPMHo3/fJqgHUU3zB6N/3yaPMHo3/fJoAJf9S/8AumnVHJIDE3DfdP8ACad5g9G/75NADqKb5g9G/wC+TR5g9G/75NADqKb5g9G/75NHmD0b/vk0AOopvmD0b/vk0eYPRv8Avk0AOopvmD0b/vk0eYPRv++TQA6im+YPRv8Avk0eYPRv++TQA6im+YPRv++TR5g9G/75NADqKb5g9G/75NHmD0b/AL5NADqKb5g9G/75NHmD0b/vk0AA/wBc3+6P606oxIPNbhvuj+E+9O8wejf98mgB1FN8wejf98mjzB6N/wB8mgB1FN8wejf98mjzB6N/3yaAHUU3zB6N/wB8mjzB6N/3yaAHUU3zB6N/3yaPMHo3/fJoAdRTfMHo3/fJp1ABRRRQAUUUUAFFFFABRRRQAUUUUAFFFFABRRRQAUUUUARy/wCsh/3z/wCgmpKjl/1kP++f/QTUlMAooopAfn9RRRXSQFFFFABRRRQAUUUUAFFFFABRRRQAUUUUAFFFFABRRRQAUUUUAFFFFABRRRQAUUUUAFFFFABRRRQAUUUUAFFFFABRRRQAUUUUAFFFFABRRRQAUUUUAFFFFABRRRQAUUUUAFFFFABRRRQAUUUUAFFFFABXaa//AMgO4/4D/wChCuLrtNf/AOQHcf8AAf8A0IUxHE3H/LP/AHP6mvYf2Yv+Sh6n/wBgp/8A0bHXj1x/yz/3P6mvYf2Yv+Sh6n/2Cn/9Gx1Eij6iooorAoKKKKACiiigAooooAKKKKACiiigAooooAa/3k/3v6GnU1/vJ/vf0NOoAKKKKACiiigAooooAKKKKACiiigAooooAa/3k/3v6GnU1/vJ/vf0NOoAKKKKACiiigAooooAKKKKACiiigAooooAbJ90f7w/nRJGksZSRQynqDRJ90f7w/nTqAKOZdP67pbb16tH/iKuI6yIHRgynoRTqpPbSW0hlsuQeXhPQ/T0NZ6w22M7OG2xdoqK3uY7lMocEfeU9VNS1aaaui001dBRRRTGFFFFABRRRQAUUUUAFFFFABRRRQAUUUUAFFFFABRRRQAUUUUAFRz/AOrH++n/AKEKkqOf/Vj/AH0/9CFNbgSUUUUgCiiigAooooAr31hbalZva3sfmQvgkBipBByCCMEEEAggggjIqmnhvSksUtPs7PElyt1mSZ3dpVYMHZyxZiCB1J4AHTitSigDMPh3Tm1MX7xzvMJPNCPdStEHxjcIi2wHvnb1561p0UUeQeYUUUUAFFMmmjgjMkzqijqWNUPtl1f8adH5cX/PxKOv+6O9JtIC5c3cFpHuuJAg7DufoKpebf6h/qF+xwH/AJaOPnYew7VPbabDBJ5rlp5z1lk5P4elXKVm9wKtpp1vaEsil5T96Vzlj+NWqKKaSWwBRRRTAKKKKACiiigBsv8AqX/3TTqbL/qX/wB006gAooooAKKKKACiiigAooooAKKKKACiiigAooooAKKKKAGj/XN/uj+tOpo/1zf7o/rTqACiiigAooooAKKKKACiiigAooooAKKKKACiiigAooooAKKKKACiiigAooooAKKKKACiiigCOX/WQ/75/wDQTUlRy/6yH/fP/oJqSmAUUUUgPz+ooorpICiiigAooooAKKKKACiiigAooooAKKKKACiiigAooooAKKKKACiiigAooooAKKKKACiiigAooooAKKKKACiiigAooooAKKKKACiiigAooooAKKKKACiiigAooooAKKKKACiiigAooooAKKKKACiiigArtNf/AOQHcf8AAf8A0IVxddpr/wDyA7j/AID/AOhCmI4m4/5Z/wC5/U17D+zF/wAlD1P/ALBT/wDo2OvHrj/ln/uf1New/sxf8lD1P/sFP/6NjqJFH1FRRRWBQUUUUAFFFMinin3+TKkmxij7GB2sOoPofagB9FMlnig2edKkfmMETewG5j0A9T7USTxRSRpLKiPM22NWYAu2CcD1OAT9AaAH0UUUAFFFFABRRRQA1/vJ/vf0NOpr/eT/AHv6GnUAFFFFABRRRQAUUUUAFFFFABRRRQAUUUUANf7yf739DTqa/wB5P97+hp1ABRRRQAUUUUAFFFFABRRRQAUUUUAFFFFADZPuj/eH86dTZPuj/eH86dQAUUUUAVri08xxLC3lTDow7+xot7ve/k3C+VMP4eze4qzUVxbR3Me2QcjlWHVT7Vm4tO8TNxad4ktFUkuJLVxFenKHhJscH2PpV3OelVGSkVGSkFFFFUUFFFFABRRRQAUUUUAFFFFABRRRQAUUUUAFFFFABRRRQAVHP/qx/vp/6EKkqOf/AFY/30/9CFNbgSUUUUgCiiigAooooAKKKKACiiqFxqirMbe0ja5uBwVXov1Pak2luBeZgilnIUDqScYrPfUnuWMelxecehlbhF/xpF02W6YSapL5ncQJwg/xrRRFjUKihVHQAYApasCjDpamQTX8huph03fdX6Cr9FFNJIAooopgFFFFABRRRQAUUUUAFFFFADZf9S/+6adTZf8AUv8A7pp1ABRRRQAUUUUAFFFFABRRRQAUUUUAFFFFABRRRQAUUUUANH+ub/dH9adTR/rm/wB0f1p1ABRRRQAUUUUAFFFFABRRRQAUUUUAFFFFABRRRQAUUUUAFFFFABRRRQAUUUUAFFFFABRRRQBHL/rIf98/+gmpKjl/1kP++f8A0E1JTAKKKKQH5/UUUV0kBRRRQAUUUUAFFFFABRRRQAUUUUAFFFFABRRRQAUUUUAFFFFABRRRQAUUUUAFFFFABRRRQAUUUUAFFFFABRRRQAUUUUAFFFFABRRRQAUUUUAFFFFABRRRQAUUUUAFFFFABRRRQAUUUUAFFFFABRRRQAV2mv8A/IDuP+A/+hCuLrtNf/5Adx/wH/0IUxHE3H/LP/c/qa9h/Zi/5KHqf/YKf/0bHXj1x/yz/wBz+pr2H9mL/koep/8AYKf/ANGx1Eij6iooorAoKKKKAGy+X5L+dt8vad+/pjvn2rj/AAjq+gWWj629hd2K2NldzTMlmyssUXUMFTPHBxgc44rsqKXVvyA5DxffaFBd6De31xYQ3AvI3hmuGRJFiOdxBbkL0z26Zo8T3mh2fi7w5c3dxp8F6Lhv3srosghMMoHJ52FiB6ZPrXX0U1p99w/ysNIfPDKB7r/9ejEn95f++f8A69OooAbiT+8v/fP/ANejEn95f++f/r06igBuJP7y/wDfP/16MSf3l/75/wDr06igCNg+5PmX73932PvTsSf3l/75/wDr0P8AeT/e/oadQA3En95f++f/AK9GJP7y/wDfP/16dRQA3En95f8Avn/69GJP7y/98/8A16dRQA3En95f++f/AK9GJP7y/wDfP/16dRQA3En95f8Avn/69GJP7y/98/8A16dRQA3En95f++f/AK9GJP7y/wDfP/16dRQA3En95f8Avn/69GJP7y/98/8A16dRQBGwfcnzL97+77H3p2JP7y/98/8A16H+8n+9/Q06gBuJP7y/98//AF6MSf3l/wC+f/r06igBuJP7y/8AfP8A9ejEn95f++f/AK9OooAbiT+8v/fP/wBejEn95f8Avn/69OooAbiT+8v/AHz/APXoxJ/eX/vn/wCvTqKAG4k/vL/3z/8AXoxJ/eX/AL5/+vTqKAG4k/vL/wB8/wD16MSf3l/75/8Ar06igCNw+0ZZfvD+H3+tOxJ/eX/vn/69En3R/vD+dOoAbiT+8v8A3z/9ejEn95f++f8A69OooAbiT+8v/fP/ANejEn95f++f/r06igCN42kQq5RlPUFf/r1ksl7b3oigMhjDDb1K4raorOdPn8jOdPn8huJP7y/98/8A16MSf3l/75/+vTqK0NAGcc8n2FFFFABRRRQAUUUUAFFFFABRRRQAUUUUAFFFFABRRRQAVHP/AKsf76f+hCpKjn/1Y/30/wDQhTW4ElFFFIAooooAKKKKACiiigDlZ/Emox3Et6q2v9lw6kmntEY285susZkD7sAB2+7tOQOvOBv/AG/ToHdPtdrG247x5qg7u+eetY8vhWSW+dRfINMlvVv5LX7P+8MqkNgSbsbCyhiCpPUZx02n02xkdneyt2ZjlmMSkk+vShW5Vff/AIC/W49Lv+v60G/2rp//AD/2v/f5f8aP7V0//n/tf+/y/wCNH9laf/z4Wv8A35X/AAo/srT/APnwtf8Avyv+FPQegf2rp/8Az/2v/f5f8aP7V0//AJ/7X/v8v+NH9laf/wA+Fr/35X/Cj+ytP/58LX/vyv8AhRoGgf2rp/8Az/2v/f5f8aP7V0//AJ/7X/v8v+NH9laf/wA+Fr/35X/Cj+ytP/58LX/vyv8AhRoGgf2rp/8Az/2v/f5f8aP7V0//AJ/7X/v8v+NH9laf/wA+Fr/35X/Cj+ytP/58LX/vyv8AhRoGgf2rp/8Az/2v/f5f8aP7V0//AJ/7X/v8v+NH9laf/wA+Fr/35X/Cj+ytP/58LX/vyv8AhRoGgf2rp/8Az/2v/f5f8aP7V0//AJ/7X/v8v+NH9laf/wA+Fr/35X/Cj+ytP/58LX/vyv8AhRoGgf2rp/8Az/2v/f5f8aP7V0//AJ/7X/v8v+NH9laf/wA+Fr/35X/Cj+ytP/58LX/vyv8AhRoGg2TVdPMTAX1tnaf+Wy/407+1dP8A+f8Atf8Av8v+NNk0vTxExFjbZ2n/AJYr/hTv7K0//nwtf+/K/wCFGgaB/aun/wDP/a/9/l/xo/tXT/8An/tf+/y/40f2Vp//AD4Wv/flf8KP7K0//nwtf+/K/wCFGgaB/aun/wDP/a/9/l/xo/tXT/8An/tf+/y/40f2Vp//AD4Wv/flf8KP7K0//nwtf+/K/wCFGgaB/aun/wDP/a/9/l/xo/tXT/8An/tf+/y/40f2Vp//AD4Wv/flf8KP7K0//nwtf+/K/wCFGgaB/aun/wDP/a/9/l/xo/tXT/8An/tf+/y/40f2Vp//AD4Wv/flf8KP7K0//nwtf+/K/wCFGgaB/aun/wDP/a/9/l/xo/tXT/8An/tf+/y/40f2Vp//AD4Wv/flf8KP7K0//nwtf+/K/wCFGgaB/aun/wDP/a/9/l/xo/tXT/8An/tf+/y/40f2Vp//AD4Wv/flf8KP7K0//nwtf+/K/wCFGgaB/aun/wDP/a/9/l/xo/tXT/8An/tf+/y/40f2Vp//AD4Wv/flf8KP7K0//nwtf+/K/wCFGgaB/aun/wDP/a/9/l/xo/tXT/8An/tf+/y/40f2Vp//AD4Wv/flf8KP7K0//nwtf+/K/wCFGgaDRqun+ax+3W2No/5bL7+9O/tXT/8An/tf+/y/400aXp/msPsNtjaP+WK+/tTv7K0//nwtf+/K/wCFGgaB/aun/wDP/a/9/l/xo/tXT/8An/tf+/y/40f2Vp//AD4Wv/flf8KP7K0//nwtf+/K/wCFGgaB/aun/wDP/a/9/l/xo/tXT/8An/tf+/y/40f2Vp//AD4Wv/flf8KP7K0//nwtf+/K/wCFGgaB/aun/wDP/a/9/l/xo/tXT/8An/tf+/y/40f2Vp//AD4Wv/flf8KP7K0//nwtf+/K/wCFGgaB/aun/wDP/a/9/l/xo/tXT/8An/tf+/y/40f2Vp//AD4Wv/flf8KP7K0//nwtf+/K/wCFGgaB/aun/wDP/a/9/l/xq3VT+ytP/wCfC1/78r/hVujQTt0CiiikIKKKKACiiigAooooAKKKKACiiigAooooAKKKKAI5f9ZD/vn/ANBNSVHL/rIf98/+gmpKYBRRRSA/P6iiiukgKKKKACiiigAooooAKKKKACiiigAooooAKKKKACiiigAooooAKKKKACiiigAooooAKKKKACiiigAooooAKKKKACiiigAooooAKKKKACiiigAooooAKKKKACiiigAooooAKKKKACiiigAooooAKKKKACu01/8A5Adx/wAB/wDQhXF12mv/APIDuP8AgP8A6EKYjibj/ln/ALn9TXsP7MX/ACUPU/8AsFP/AOjY68euP+Wf+5/U17D+zF/yUPU/+wU//o2OokUfUVFFFYFBRRRQAUUUUAFFFFABRRRQAUUUUAFFFUdb1H+yNBvtQEfmm1geUR5xuIGQM9smga1ZcYEsmOxyfyNOrz7Udb1C18N6tHqd3qlrqa20dyq3KwRKi+YAzRNCThQTgh3LAY9cnsNI1U6xHJdW8KjTycW1xvyZx3bbjhc9Dk564AxkJuaNFFFAwooooAKKKKACiiigAooooAKKKRjhSeOB3NACMCWTHY5P5GnV51p3iPVbqJvtF9deZcafdTSpPAsUaMoGxrV1UGReSc7n+XBJB69H4R1xta0q0a3AuLWK1jSW9aUkyT7RuVRj5sc5bPXjnnAtf69f8gen9en+Z0VFFFABRRRQAUUUUAFFFFABRRRQAUUVna/Jew6DeTaZPFb3EUTOsk0JlAwCfu7l598/gelKT5VdjSu7F9wSox6g/rTq5u61C+uYdAs4Lx7SXUk3zXUaIXAWLedoYFck4/hPGeO4wl8WS2mq6SdWu5G8t7+zZI+DeSxyxpH8gwC59OACT0FU1aXKJapNHoNFQ2b3MlnG97BHBOwy8UcvmKp9N2Bn8qmpAFFFFABRRRQAUUUUAFFFFABRRRQAUUUUAFFFFABRRRQAUUUUAFFFFABRRRQAVHP/AKsf76f+hCpKjn/1Y/30/wDQhTW4ElFFFIAooooAKKKKACiiigAooooAKKKKACiiigAooooAKKKKACiiigAooooAKKKKAGyAtGwHUggU6uQF3q9r4qcaxc6pb2M18IrMxJatbOpUbUf5TKCWDDPA6cjNHhXxBLeTXGnQk31xBf3P2t5Jji2i85wi5wcsQOE4+UZJHGRa/wBf13B6f16/5HX0UUUAFFFFABRRRQAUUUUAFFFFABRRRQAUUUUAFFFYk93qMPjaytWuYjp9xazuIFgw4ZDEMs5Y5+8cABffPY62A2QD5hPbAH86dXG3Gs6mkk+rJesLaDVksPsHlx+W0ZkWIsWxv35YsPmA4Ax3L/CviCW8muNOhJvriC/uftbyTHFtF5zhFzg5YgcJx8oySOMi1V/66f5g9P69f8jr6KKKACiiigAooooAKKKKACiiigAooooAKKKKACiiigAooooAKKKKACiiigAooooAKKKKAI5f9ZD/AL5/9BNSVHL/AKyH/fP/AKCakpgFFFFID8/qKKK6SAooooAKKKKACiiigAooooAKKKKACiiigAooooAKKKKACiiigAooooAKKKKACiiigAooooAKKKKACiiigAooooAKKKKACiiigAooooAKKKKACiiigAooooAKKKKACiiigAooooAKKKKACiiigAooooAK7TX/APkB3H/Af/QhXF12mv8A/IDuP+A/+hCmI4m4/wCWf+5/U17D+zF/yUPU/wDsFP8A+jY68euP+Wf+5/U17D+zF/yUPU/+wU//AKNjqJFH1FRRRWBQUUUUAFFFFABRRRQAUUUUAFFFFABUN3aw31lNaXcYkgnQxyIf4lIwRU1FAHOt4Ntp7K4g1DUb++aeBbfzrh498catu2jagHJAySCTxk8Ctaz0yKwu7ma2kkWO5be1vkeWr/xMoxkFup5wTzjJJNyigAooooAKKKKACiiigAooooAKKKKACkZQ6lWGVYYI9aWigDnrfwbaQqkct/fXMMEElvaxTOm22R12kKQoLHbwC5YgfjV3TtBttKmjeykmjVbdIHjyNkuwBVdhj74AxkYyODnAxqUUAFFFFABRRRQAUUUUAFFFFABRRRQAVU1SwOp6bLZi7ntBMu1pIAhbaeo+dWHI9qt0Umk1ZhexjHw2p0uytf7SvRPYtm3vR5QmTgrjGzYRtOMFT69eajj8H6WotBKJJxbxTxsJSD5xmIMjPx94kZ4wOTx0xu0U9wWmxBY2psrKO2NxNc+WNolnYM5HbJAGcDjPU98nmp6KKACiiigAooooAKKKKACiiigAooooAKKKKACiiigAooooAKKKKACiiigAooooAKjn/wBWP99P/QhUlRz/AOrH++n/AKEKa3AkooopAFFFFABRRRQAUUUUAFFFFABRRRQAUUUUAFFFFABRRRQAUUUUAFFFFABRRRQBkN4fE2pJc3Wp31zDFP58VnIY/KR+cHIQOQMkgFiBxxwMNtfDFnZTRTWstxFNHcSzmRWXLiRy7xtxgpk9OowMHPNbNFGwPUKKKKACiiigAooooAKKKKACiiigAooooAKKKKACsm50FrnxBb6t/at7E1upRLdBD5e1tu4HMZbnYP4s+mK1qKOtwMWTwvay6kblrq68hrlbt7HcvktMuMP93cOQDgMFyM465W18MWdlNFNay3EU0dxLOZFZcuJHLvG3GCmT06jAwc81s0UbA9QooooAKKKKACiiigAooooAKKKKACiiigAooooAKKKKACiiigAooooAKKKKACiiigAooooAjl/1kP8Avn/0E1JUcv8ArIf98/8AoJqSmAUUUUgPz+ooorpICiiigAooooAKKKKACiiigAooooAKKKKACiiigAooooAKKKKACiiigAooooAKKKKACiiigAooooAKKKKACiiigAooooAKKKKACiiigAooooAKKKKACiiigAooooAKKKKACiiigAooooAKKKKACiiigArtNf8A+QHcf8B/9CFcXXaa/wD8gO4/4D/6EKYjibj/AJZ/7n9TXsP7MX/JQ9T/AOwU/wD6Njrx64/5Z/7n9TXsP7MX/JQ9T/7BT/8Ao2OokUfUVFFFYFBRRRQAUUUUAFFFFABRRRQAUUUUAFFFFABRRRQAUUUUAFFFFABRRRQAUUUUAFFFFABRRRQAUUUUAFFFFABRRRQAUUUUAFFFFABRRRQAUUUUAFFFFABRRRQAUUUUAFFFFABRRRQAUUUUAFFFFABRRRQAUUUUAFFFFABRRRQAUUUUAFFFFABUc/8Aqx/vp/6EKkqOf/Vj/fT/ANCFNbgSUUUUgCiiigAooooAKKKKACiiigAooooAKKKKACiiigAooooAKKKKACiiigAooooAKKKKACiiigAooooAKKKKACiiigAooooAKKKKACiiigAooooAKKKKACiiigAooooAKKKKACiiigAooooAKKKKACiiigAooooAKKKKACiiigAooooAKKKKACiiigCOX/WQ/wC+f/QTUlRy/wCsh/3z/wCgmpKYBRRRSA/P6iiiukgKKKKACiiigAooooAKKKKACiiigAooooAKKKKACiiigAooooAKKKKACiiigAooooAKKKKACiiigAooooAKKKKACiiigAooooAKKKKACiiigAooooAKKKKACiiigAooooAKKKKACiiigAooooAKKKKACu01/wD5Adx/wH/0IVxddpr/APyA7j/gP/oQpiOJuP8Aln/uf1New/sxf8lD1P8A7BT/APo2OvHrj/ln/uf1New/sxf8lD1P/sFP/wCjY6iRR9RUUUVgUFFFFABRRRQAUUUUAFFFFABRRRQAUUUUAFFFFABRRRQAUUUUAFFFFABRRRQAUUUUAeeT6VajVfH0lpbx29wbRMTQwoH+aEswyQfvEZPr1681bku9U0nQ9BsLO61G+m1ED97Glt50SLFu2x7gkfbq244z1OMdLb+HdNtdSvL+KOZp74bbnzbmWRJB6FGYrwOBgcDgcVCvhPSF0tNP8mdreORZId93MzwMvCmNy26PAGPlI7+ppL/L8Lj/AOD+NjBfUPE0Vvp9tdST2L3Gri2jnuY4HmktzC7EssZKBgwIBGOgJHUF2t3Wq2k09tpeq63e3Fna75PItrPajHcwaVpFQNkYG2PBAXnkg10MHh3TYFhCxTSGG5+1I89zLK/m7Nm4s7En5TjBJFJf+GtK1K7kubuCQySoI5hHcSRrMozgSKrBXHJHzA8HFDvbT+tP8wVr/wBd/wDI5zTRdaz4ystTXULq0FxosFw0UKRFDl8lPmRjjnsc89aTSr++ubPT9PtblNPa9v7/AM24ggjVgsUz4CKVKbjxklTkBj15rpT4b0vfYukMsT2EQht2huZIyIxjCMVYb1+UcNkfnRJ4b0qSwSzNuyRRzvcRtHM6SRyOxZmV1YMpJZuhHBI6cVTtsvP87k69fL8rHOTavrIMGnR6kBNHrn2B7zyEZpYjAZORgKHGQMgAZXpjIqf7Z4gjh1zTrG5m1G6s7iARTMkKzeVIFL44WMso3FcgDpnPfeh8P6ZBBbRR22Ftbg3MZMjFvNIILsxOXJ3HJYnOaLrQNOuzctNC4e6eOSV453jbcgwpDKwKkAfw4pdP68v+CV1/rzKPhPUv7QtbgPe6hcSxuvmQ6naLbz25Kg7WCqqkdwQD16mugqnpuk2mkxyLZpJmV98kk0zyySHAGWdyWOAABk8AVcpsQUUUUgCiiigAooooAKKKKACiiigAooooAKKKKACiiigAooooAKKKKACiiigAooooAKKKKACiiigAooooAKKKKACo5/8AVj/fT/0IVJUc/wDqx/vp/wChCmtwJKKKKQBRRRQAUUUUAFFFFABRRRQAUUUUAFFFFABRRRQAUUUUAFFFFABRRRQAUUUUAFFFFACMquhR1DKwwVIyCK8tt9Khj8BounD+zy3iQBntYowSBe7FzlSPlGMfQDpwfUmUOhU5wwwcEg/mOlY9v4S0e20mfTY4JmtLiTzXSS7lkIfdu3KzMSp3fNlSDnnrQtHf0/NMOlv62aMbVL7WY9cXRLGXVrj7PZrcSXVotn50jO7KN3m7UCjb/CuT6jHJb3XiK/1bTNOv7x9Jlk06Sa6WCKJ33rIqgqTvVcg8j5hyR1wRuT+GNMuVt/NW6822UpHcJezLOFJyVMocOwz2JI6elWLXRbCyngmt4SssEBgR2kZjsLBiCSTkkgHJyfehb6/1v/wAfl/W3/BOQ1DXtTtLt76wu9VvbKHUI7aRnt7ZLXBkWJ152zMQSfmXK7h6Zot7W6t/+E2u/wC0blkjuJj9mkihaJz9ljILAx5OMgYzggDIPOeim8IaJcTySS2shEkwnMQupREJAwbeIw2wNkZyBk5OepzYm8O6ZPe3N08Uoku4zHcKlxIiSgrtyyBgpO3jdjPTnilryteTX5f5FJrmv5mJaS6jqt1Fp1nqbaVFa6XbzZtoYi0jybgOHRgEGzooHXrxUFhq+r+IL7SIU1H+z0utLe4uDaRIxaRZFXKFwwAOT1B4PryOgvPDOl3ywiaGZDDD5Cvb3MsLGP8AuMyMCy8dCSKsw6TY291BcW9skUlvb/ZotmVVIsg7Qo4x8o7dqttOV/X9f+AQk1G3p+hyR1jX5/C9ncx/bp1huLmG9n02GFrlhFIyKyxuNpztywVSfQV0/h+8S+0WGeK+kv1LOvnyweS7bXK4ZMLhhjB4HI6CopPC+lPDFGsVxAInldGt7yaFwZG3v8yMCQW5xnHA9K0LGxt9Nso7SyjEUMYwq5JPqSSeSSeSTyScmpGyeiiigAooooAKKKKACiiigAooooAKKKKACiiigAooooAKKKKACiiigAooooAKKKKACiiigAooooAKKKKACiiigAooooAjl/1kP++f/QTUlRy/6yH/AHz/AOgmpKYBRRRSA/P6iiiukgKKKKACiiigAooooAKKKKACiiigAooooAKKKKACiiigAooooAKKKKACiiigAooooAKKKKACiiigAooooAKKKKACiiigAooooAKKKKACiiigAooooAKKKKACiiigAooooAKKKKACiiigAooooAKKKKACu01//kB3H/Af/QhXF12mv/8AIDuP+A/+hCmI5a10i+1fzv7Pg877HZvdz/Oq7IkPzNyRnGRwOa9h/Z50i+0H4sazpuqweRdw6UfMj3q23MkTDlSR0I715Xodj9t/tH/iUf2n5GlTTf8AHz5P2Xaf9f8A7e3P3O+a9h+CNj/Z3xt1+1/sj+xvL0of6D9p+0eVloT/AKz+LOd3tnHas5FH0RRRRWJQUUUUAFFFFABRRRQAUUUUAFFFFABRRRQAUUUUAFFFFABRRRQAUUUUAFFFFABRRRQAUUUUAFFFFABRRRQAUUUUAFFFFABRRRQAUUUUAFFFFABRRRQAUUUUAFFFFABRRRQAUUUUAFFFFABRRRQAUUUUAFFFFABRRRQAUUUUAFFFFABRRRQAVHP/AKsf76f+hCpKjn/1Y/30/wDQhTW4ElFFFIAooooAKKKKACiiigAooooAKKKKACiiigAooooAKKKKACiiigAooooAKKKKACiiigAooooAKKKKACiiigAooooAKKKKACiiigAooooAKKKKACiiigAooooAKKKKACiiigAooooAKKKKACiiigAooooAKKKKACiiigAooooAKKKKACiiigAooooAjl/1kP8Avn/0E1JUcv8ArIf98/8AoJqSmAUUUUgPz+ooorpICiiigAooooAKKKKACiiigAooooAKKKKACiiigAooooAKKKKACiiigAooooAKKKKACiiigAooooAKKKKACiiigAooooAKKKKACiiigAooooAKKKKACiiigAooooAKKKKACiiigAooooAKKKKACiiigArtNf8A+QHcf8B/9CFcXXaa/wD8gO4/4D/6EKYjD0Ox+2/2j/xKP7T8jSppv+Pnyfsu0/6//b25+53zXsPwRsf7O+Nuv2v9kf2N5elD/QftP2jystCf9Z/FnO72zjtXj2h2P23+0f8AiUf2n5GlTTf8fPk/Zdp/1/8At7c/c75r2H4I2P8AZ3xt1+1/sj+xvL0of6D9p+0eVloT/rP4s53e2cdqzkUfRFFFFYlBRRRQAUUUUAFFFFABRRRQAUUUUAFFFFABRRRQAUUUUAFFFFABRRRQAUUUUAFFFFABRRRQAUUUUAFFFFABRRRQAUUUUAFFFFABRRRQAUUUUAFFFFABRRRQAUUUUAFFFFABRRRQAUUUUAFFFFABRRRQAUUUUAFFFFABRRRQAUUUUAFFFFABUc/+rH++n/oQqSo5/wDVj/fT/wBCFNbgSUUUUgCiiigAooooAKKKKACiiigAooooAKKKKACiiigAooooAKKKKACiiigAooooAKKKKACiiigAooooAKKKKACiiigAooooAKKKKACiiigAooooAKKKKACiiigAooooAKKKKACiiigAooooAKKKKACiiigAooooAKKKKACiiigAooooAKKKKACiiigCOX/WQ/75/wDQTUlRy/6yH/fP/oJqSmAUUUUgPz+ooorpICiiigAooooAKKKKACiiigAooooAKKKKACiiigAooooAKKKKACiiigAooooAKKKKACiiigAooooAKKKKACiiigAooooAKKKKACiiigAooooAKKKKACiiigAooooAKKKKACiiigAooooAKKKKACiiigArtNf/AOQHcf8AAf8A0IVxddpr/wDyA7j/AID/AOhCmI5a1urG287+0NP+3ebZvHB+/aPyJSfll4+9jn5Twc17B+z5Np+ofFbWZtN0xdPs20s+XaGYzeXiSIH5m5OTk/jivErj/ln/ALn9TXsP7MX/ACUPU/8AsFP/AOjY6zkUfT32aD/njH/3wKPs0H/PGP8A74FSUVldlEf2aD/njH/3wKPs0H/PGP8A74FSUUXYEf2aD/njH/3wKPs0H/PGP/vgVJRRdgR/ZoP+eMf/AHwKPs0H/PGP/vgVJRRdgR/ZoP8AnjH/AN8Cj7NB/wA8Y/8AvgVJRRdgR/ZoP+eMf/fAo+zQf88Y/wDvgVJRRdgR/ZoP+eMf/fAo+zQf88Y/++BUlFF2BH9mg/54x/8AfAo+zQf88Y/++BUlFF2BH9mg/wCeMf8A3wKPs0H/ADxj/wC+BUlFF2BH9mg/54x/98Cj7NB/zxj/AO+BUlFF2BH9mg/54x/98Cj7NB/zxj/74FSUUXYEf2aD/njH/wB8Cj7NB/zxj/74FSUUXYEf2aD/AJ4x/wDfAo+zQf8APGP/AL4FSUUXYEf2aD/njH/3wKPs0H/PGP8A74FSUUXYEf2aD/njH/3wKPs0H/PGP/vgVJRRdgR/ZoP+eMf/AHwKPs0H/PGP/vgVJRRdgR/ZoP8AnjH/AN8Cj7NB/wA8Y/8AvgVJRRdgR/ZoP+eMf/fAo+zQf88Y/wDvgVJRRdgR/ZoP+eMf/fAo+zQf88Y/++BUlFF2BH9mg/54x/8AfAo+zQf88Y/++BUlFF2BH9mg/wCeMf8A3wKPs0H/ADxj/wC+BUlFF2BH9mg/54x/98Cj7NB/zxj/AO+BUlFF2BH9mg/54x/98Cj7NB/zxj/74FSUUXYEf2aD/njH/wB8Cj7NB/zxj/74FSUUXYEf2aD/AJ4x/wDfAo+zQf8APGP/AL4FSUUXYEf2aD/njH/3wKPs0H/PGP8A74FSUUXYEf2aD/njH/3wKPs0H/PGP/vgVJRRdgR/ZoP+eMf/AHwKPs0H/PGP/vgVJRRdgR/ZoP8AnjH/AN8Cj7NB/wA8Y/8AvgVJRRdgR/ZoP+eMf/fAo+zQf88Y/wDvgVJRRdgR/ZoP+eMf/fAo+zQf88Y/++BUlFF2BH9mg/54x/8AfAo+zQf88Y/++BUlFF2BH9mg/wCeMf8A3wKPs0H/ADxj/wC+BUlFF2BH9mg/54x/98Cj7NB/zxj/AO+BUlFF2BH9mg/54x/98Cj7NB/zxj/74FSUUXYEf2aD/njH/wB8Cj7NB/zxj/74FSUUXYEf2aD/AJ4x/wDfAo+zQf8APGP/AL4FSUUXYEf2aD/njH/3wKPs0H/PGP8A74FSUUXYEf2aD/njH/3wKPs0H/PGP/vgVJRRdgR/ZoP+eMf/AHwKPs0H/PGP/vgVJRRdgR/ZoP8AnjH/AN8Cj7NB/wA8Y/8AvgVJRRdgR/ZoP+eMf/fAo+zQf88Y/wDvgVJRRdgR/ZoP+eMf/fAo+zQf88Y/++BUlFF2BH9mg/54x/8AfAo+zQf88Y/++BUlFF2BH9mg/wCeMf8A3wKPs0H/ADxj/wC+BUlFF2BH9mg/54x/98Cj7NB/zxj/AO+BUlFF2BH9mg/54x/98Cj7NB/zxj/74FSUUXYEf2aD/njH/wB8Cj7NB/zxj/74FSUUXYEf2aD/AJ4x/wDfAo+zQf8APGP/AL4FSUUXYEf2aD/njH/3wKPs0H/PGP8A74FSUUXYEf2aD/njH/3wKPs0H/PGP/vgVJRRdgR/ZoP+eMf/AHwKPs0H/PGP/vgVJRRdgR/ZoP8AnjH/AN8Cj7NB/wA8Y/8AvgVJRRdgR/ZoP+eMf/fAo+zQf88Y/wDvgVJRRdgR/ZoP+eMf/fAo+zQf88Y/++BUlFF2BH9mg/54x/8AfAo+zQf88Y/++BUlFF2BH9mg/wCeMf8A3wKPs0H/ADxj/wC+BUlFF2BH9mg/54x/98Cj7NB/zxj/AO+BUlFF2BH9mg/54x/98Cj7NB/zxj/74FSUUXYEf2aD/njH/wB8Cj7NB/zxj/74FSUUXYEf2aD/AJ4x/wDfAo+zQf8APGP/AL4FSUUXYEf2aD/njH/3wKPs0H/PGP8A74FSUUXYEf2aD/njH/3wKPs0H/PGP/vgVJRRdgR/ZoP+eMf/AHwKPs0H/PGP/vgVJRRdgR/ZoP8AnjH/AN8Cj7NB/wA8Y/8AvgVJRRdgR/ZoP+eMf/fAo+zQf88Y/wDvgVJRRdgR/ZoP+eMf/fAo+zQf88Y/++BUlFF2BH9mg/54x/8AfAo+zQf88Y/++BUlFF2BH9mg/wCeMf8A3wKPs0H/ADxj/wC+BUlFF2BH9mg/54x/98Cj7NB/zxj/AO+BUlFF2AxIo4zlI1U+oXFPoopAFFFFAH5/UUUV0kBRRRQAUUUUAFFFFABRRRQAUUUUAFFFFABRRRQAUUUUAFFFFABRRRQAUUUUAFFFFABRRRQAUUUUAFFFFABRRRQAUUUUAFFFFABRRRQAUUUUAFFFFABRRRQAUUUUAFFFFABRRRQAUUUUAFFFFABRRRQAV2mv/wDIDuP+A/8AoQri67TX/wDkB3H/AAH/ANCFMRxNx/yz/wBz+pr2H9mL/koep/8AYKf/ANGx149cf8s/9z+pr2H9mL/koep/9gp//RsdRIo+oqKKKwKCiiigAooooAKKKKACiiigAooooAKKKKACiiigAooooAKKKKACiiigAooooAKKKKACiiigAooooAKKKKACiiigAooooAKKKKACiiigAooooAKKKKACiiigAooooAKKKKACiiigAooooAKKKKACiiigAooooAKKKKACiiigAooooAKKKKACiiigAooooAKKKKACiiigAooooAKKKKACiiigAooooAKKKKACiiigAooooAKKKKACiiigAooooAKKKKACiiigAooooAKKKKACiiigAooooAKKKKACiiigAooooAKKKKACiiigAooooAKKKKACiiigAooooAKKKKACiiigAooooAKKKKACiiigAooooAKKKKACiiigAooooA/P6iiiukgKKKKACiiigAooooAKKKKACiiigAooooAKKKKACiiigAooooAKKKKACiiigAooooAKKKKACiiigAooooAKKKKACiiigAooooAKKKKACiiigAooooAKKKKACiiigAooooAKKKKACiiigAooooAKKKKACu01/wD5Adx/wH/0IVxddpr/APyA7j/gP/oQpiOJuP8Aln/uf1New/sxf8lD1P8A7BT/APo2OvHrj/ln/uf1New/sxf8lD1P/sFP/wCjY6iRR9RUUUVgUFFFFABRRRQAUUUUAFFFFABRRRQAUUUUAFFFFABRRRQAUUUUAFFFFABRRRQAUUUUAFFFFABRRRQAUUUUAFFFFABRRRQAUUUUAFFFFABRRRQAUUUUAFFFFABRRRQAUUUUAFFFFABRRRQAUUUUAFFFFABRRRQAUUUUAFFFFABRRRQAUUUUAFFFFABRRRQAUUUUAFFFFABRRRQAUUUUAFFFFABRRRQAUUUUAFFFFABRRRQAUUUUAFFFFABRRRQAUUUUAFFFFABRRRQAUUUUAFFFFABRRRQAUUUUAFFFFABRRRQAUUUUAFFFFABRRRQAUUUUAFFFFABRRRQAUUUUAFFFFABRRRQAUUUUAFFFFABRRRQAUUUUAFFFFABRRRQB+f1FFFdJAUUUUAFFFFABRRRQAUUUUAFFFFABRRRQAUUUUAFFFFABRRRQAUUUUAFFFFABRRRQAUUUUAFFFFABRRRQAUUUUAFFFFABRRRQAUUUUAFFFFABRRRQAUUUUAFFFFABRRRQAUUUUAFFFFABRRRQAUUUUAFdpr//ACA7j/gP/oQri67TX/8AkB3H/Af/AEIUxHE3H/LP/c/qa9h/Zi/5KHqf/YKf/wBGx149cf8ALP8A3P6mvYf2Yv8Akoep/wDYKf8A9Gx1Eij6iooorAoKKKKACiiigAooooAKKKKACiiigAooooAKKKKACiiigAooooAKKKKACiiigAooooAKKKKACiiigAooooAKKKKACiiigAooooAKKKKACiiigAooooAKKKKACiiigAooooAKKKKACiiigAooooAKKKKACiiigAooooAKKKKACiiigAooooAKjn/1Y/30/wDQhUlRz/6sf76f+hCmtwJKKKKQBRRRQAUUUUAFFFFABRRRQAUUUUAFFFFABRRRQAUUUUAFFFFABRRRQAUUUUAFFFFABRRRQAUUUUAFFFFABRRRQAUUUUAFFFFABRRRQAUUUUAFFFFABRRRQAUUUUAFFFFABRRRQAUUUUAFFFFABRRRQAUUUUAFFFFABRRRQAUUUUAFFFFABRRRQBHL/rIf98/+gmpKjl/1kP8Avn/0E1JTAKKKKQH5/UUUV0kBRRRQAUUUUAFFFFABRRRQAUUUUAFFFFABRRRQAUUUUAFFFFABRRRQAUUUUAFFFFABRRRQAUUUUAFFFFABRRRQAUUUUAFFFFABRRRQAUUUUAFFFFABRRRQAUUUUAFFFFABRRRQAUUUUAFFFFABRRRQAV2mv/8AIDuP+A/+hCuLrtNf/wCQHcf8B/8AQhTEcTcf8s/9z+pr2H9mL/koep/9gp//AEbHXj1x/wAs/wDc/qa9h/Zi/wCSh6n/ANgp/wD0bHUSKPqKiiisCgooooAKKKKACiiigAooooAKKKKACiiigAooooAKKKKACiiigAooooAKKKKACiiigAooooAKKKKACiiigAooooAKKKKACiiigAooooAKKKKACiiigAooooAKKKKACiiigAooooAKKKKACiiigAooooAKKKKACiiigAooooAKKKKACiiigAqOf/Vj/fT/ANCFSVHP/qx/vp/6EKa3AkooopAFFFFABRRRQAUUUUAFFFFABRRRQAUUUUAFFFFABRRRQAUUUUAFFFFABRRRQAUUUUAFFFFABRRRQAUUUUAFFFFABRRRQAUUUUAFFFFABRRRQAUUUUAFFFFABRRRQAUUUUAFFFFABRRRQAUUUUAFFFFABRRRQAUUUUAFFFFABRRRQAUUUUAFFFFAEcv+sh/3z/6CakqOX/WQ/wC+f/QTUlMAooopAfn9RRRXSQFFFFABRRRQAUUUUAFFFFABRRRQAUUUUAFFFFABRRRQAUUUUAFFFFABRRRQAUUUUAFFFFABRRRQAUUUUAFFFFABRRRQAUUUUAFFFFABRRRQAUUUUAFFFFABRRRQAUUUUAFFFFABRRRQAUUUUAFFFFABXaa//wAgO4/4D/6EK4uu01//AJAdx/wH/wBCFMRxNx/yz/3P6mvYf2Yv+Sh6n/2Cn/8ARsdePXH/ACz/ANz+pr2H9mL/AJKHqf8A2Cn/APRsdRIo+oqKKKwKCiiigAooooAKKKKACiiigAooooAKKKKACiiigAooooAKKKKACiiigAooooAKKKKACiiigAooqGZrlZYRbxRSIz4mZ5SpRcHlQFO45wMEjrnPagCaiuLbx3fx6fFqcnh4nT5LxrMOl4plL+aYlIQqBtLADJYEZ6YGauf8Ji9j/asfiDTvsdxp0CXOy2n88TRuWVdpKr825SuCOuOaOlwOoornbXxJfR6lHY67pK6fNcwPNamO685ZNgBZGO1drgEHHI64JxVPSPGl7fjQ577RPsVlraAW8v2sSOjmMyAMu0YUhTggk9MgZxTs/wCv68hXOuorz9/E2svY6JNoFlEIbvVp7aVbvUHZnKtMNu5o2IU7N2R93AUDHNbF74uu4n1Gew0Y3mnaW5S7uPtARyygF/Kj2nftB5yVyQQM0v6/L/Mb0dv66/5HUUVz9t4kuNQ8Rvp2m6ek1rHBDcPevcbBslDEbV2kk/L04GD1HQl7r+o297ZaZbaVBc6rcxPPJF9sKwwxqQCxk8vJyWAA2evYZp2d7CunqdBRXIJ43vJrSxMGhsbu81KfTxbvdKvltEJCWZsEY/d84zgHjdjBefGssEMkd/pfkX9vqNtYz263G9AJmULIr7RuXDZwQDkEcUWb/rv/AMOPb+u3/DHWUVnQ6t5via60jycfZ7WK483f97ezrjGOMbOue9aNIOtgooooAKKKKACiiigAooooAKKKKACiiigAooooAKKKKACiiigAooooAKKKKACiiigAooooAKjn/wBWP99P/QhUlRz/AOrH++n/AKEKa3AkooopAFFFFABRRRQAUUUUAFFFFABRRRQAUUUUAFFFFABRRRQAUUUUAFFFFABRRRQAUUUUAFFFFABRWPr2s3WhabeX5sEuYYFj8pUnxJKzMFIwVwuMjByc+1Zp8Ua4NZbRz4di+3tB9ph/4mA8logdp3PsyrAkDAVhz1oA6qiuWi8Ztfafpp0vTWn1HUDKFtJZxGsPlNtlLyAHhW4yASSRx6JL41kh0qWV9JkOoW9/FYXFiswyruVwVcgBlIcEE498U7a2/rt+Yr6XOqorjNR8Wzw6brUGsaWbe705IJGitb9sSxyvtVllVVZTlWBGO3cGnp4j1az8Y65HqsVrFo2nWMdyWS4LOi5m+fHljJYIMqWwu0YJyaLDOwormrLxTete2EesaMdPg1QlbOQXIlbdtLhJVCjYxUE8FhxjNSaDr2q67pS6hHo8FtFIwEQmvTudd5V24jOMAZX177etFmK6OhorkdQ8aX9o2tzQaGJ7LRJtlzN9sCuyeWkhZE2nJAfoSOgwTnAuWHia7m1q2sdS0n7Gt9bvcWbrciRnCbdyuuBsbDg8Fh15ot/X4jOiorkNO8epdeJrbR7y3s4JrpnSOKDUo7ieJlUsRNGo+TgHozDPGasWniy9vWiu7fQ5JNHmuPs8d1HNulPz7PMMIXiPPfdkDkjFFnoB09FcDonirU7HSlnv7CS5086vPaPey3eZF3XTohCEHKDKrywIxwMCtCTxX9gXVpbfTZ7mSHWY7DyvtZYyM6xfMu7hB8/3RgcE55NFtf68v80D0/r1/wAjrqK5b/hM3sl1WPXNN+y3enLC4htp/PFwJSVjCMVXksCuCBg98c1e0nXby51aTS9Z01dPvBALiIRXHnJJHnafm2qQwOMjGORgmiwG3RRRSAKKKKACiiigAooooAKKKKACiiigAooooAKKKKACiiigAooooAKKKKACiiigAooooAjl/wBZD/vn/wBBNSVHL/rIf98/+gmpKYBRRRSA/P6iiiukgKKKKACiiigAooooAKKKKACiiigAooooAKKKKACiiigAooooAKKKKACiiigAooooAKKKKACiiigAooooAKKKKACiiigAooooAKKKKACiiigAooooAKKKKACiiigAooooAKKKKACiiigAooooAKKKKACu01//AJAdx/wH/wBCFcXXaa//AMgO4/4D/wChCmI4m4/5Z/7n9TXsP7MX/JQ9T/7BT/8Ao2OvHrj/AJZ/7n9TXsP7MX/JQ9T/AOwU/wD6NjqJFH1FRRRWBQUUUUAFFFFABRRRQAUUUUAFFFFABRRRQAUUUUAFFFFABRRRQAUUUUAFFFFABRRRQAUUUUAFQzNcrLCLeKJ4y+JmkkKlFweVAU7jnHBI479qmooA5KTwpfP4Pt9KEtv58Wppds25tpQXXnYzjOdvHTr370/WvCM2tatqsz3EcMN7p8NvC4BZ4pY5HkDlcYIBKnr2PSuqoo/r8LB/X43OYi0bW9S1a3vtfaxi+wwypbxWcjuJJJF2mRiyjbxkBRnqeTUdv4XvYtF8I2bS25k0R4muSGbD7IGjOzjnlh1xxXV0U7/p+H/Dit+v4nFx+FNWs/D2mwWslnJfafq01+qySOsUiu8p2lgpIO2X+6eR+NS3Hh3XbddWsNHnsVsNWleVppi4ltGkGJNqhSJMnLDJXBPOa6+il/X5f5FXd7/11/zZh6NoLaRq93NEU+yvaW1vAuTuHlBx83GP4h+tY/iG7uNG1XTtduLjTLG8NvJazw3dxIts6FlYYn8v5WBAwCvzZIHTNdpRTbbdyUklY8tsV1Q2nhq5iWH7Xda/e3MXnI0ccqtHcMDjllDL0PJGQcHpW7ceEtW1Cy1G8vLizj1e6vLa7hjjLtBF9nZTHGWIDMDg5bA+9wOK7Winfa3T9P8Ahg3d3/W/+Zzui6ZrKeJr/V9aFjGLm1hgjhtJHk8vY0hOWZVzneOcD0xxk9FRRSH1uFFFFIAooooAKKKKACiiigAooooAKKKKACiiigAooooAKKKKACiiigAooooAKKKKACiiigAqOf8A1Y/30/8AQhUlRz/6sf76f+hCmtwJKKKKQBRRRQAUUUUAFFFFABRRRQAUUUUAFFFFABRRRQAUUUUAFFFFABRRRQAUUUUAFFFFABRRRQBi+IdOv9Z0y7sIVto43MLRStK2WKyBmDLt44XggnOe1PfSZ28axawHj+zpp72pXJ37jIrZxjGMD1rXoo2d/wCtrBurHFWPhHVtJt9Pu7GWzk1KynvMxSuwimhnmMm0uFJVh8hztPII561OvhTUJYZLm7ntjqF3qtvf3IQt5caRFAI0JGThU6kDJJ6V11FO9nf+t7/mD1v5nHeIfCN/q19rc1tLbquoWdrbxCRmBVopXdi2FPGGGMZ/CrWp+GbnUde1VpGgbTNX01bK4yxEsRXzMFRghgfM7kYx3rp6KXSwbO/9aHKW+h67e3ulDxBLY/ZtJfzUa1Zy91IEKKzKwAjADE4BbnHNaOiadf6J4XsrBEtp7mHCvmVkTaXySDtJJAPAwMnuOtbVFO9xWsctdeGbyfR/FtoksAk1qSRrcljhA1ukY38cfMh6Z4x9KmvfDt1d6to1ws8ccdlZXFvKVY790iIoK8dtp647V0dFLdW+X4WKvrf1/E4XSvCWt2tz4cjuBpMNnoTsP9GL77kGJo95BUBT82SvzZJJ3et/StE8QaRDb6RZ3VlFpVtPvS5GTcGHeW8nyyu0cHbv3dOgB5rq6Krmbd2TY5F/Cd83g1tJEtv9oOqG83bm27DeGfGcZzt46de+OaU+FL4y37ebb4uddh1JPmbiJBECDx9792eOnTmutopJ2d/66P8ARDeqt/XX/M4/X/BUmv6lrEk8luIL6ztYoRInmbZIZXky6HgqSyjGeRnpVrwx4cOk3ctxJoegaUzRiMf2XES0nOSS5VMDgfLg/WumooTaB6hRRRSAKKKKACiiigAooooAKKKKACiiigAooooAKKKKACiiigAooooAKKKKACiiigAooooAjl/1kP8Avn/0E1JUcv8ArIf98/8AoJqSmAUUUUgPz+ooorpICiiigAooooAKKKKACiiigAooooAKKKKACiiigAooooAKKKKACiiigAooooAKKKKACiiigAooooAKKKKACiiigAooooAKKKKACiiigAooooAKKKKACiiigAooooAKKKKACiiigAooooAKKKKACiiigArtNf8A+QHcf8B/9CFcXXaa/wD8gO4/4D/6EKYjibj/AJZ/7n9TXsP7MX/JQ9T/AOwU/wD6Njrx64/5Z/7n9TXsP7MX/JQ9T/7BT/8Ao2OokUfUVFFFYFBRRRQAUUUUAFFFFABRRRQAUUUUAFFFFABRRRQAUUUUAFFFFABRRRQAUUUUAFFFFABRRRQAUUUUAFFFFABRRRQAUUUUAFFFFABRRRQAUUUUAFFFFABRRRQAUUUUAFFFFABRRRQAUUUUAFFFFABRRRQAUUUUAFFFFABRRRQAUUUUAFFFFABUc/8Aqx/vp/6EKkqOf/Vj/fT/ANCFNbgSUUUUgCiiigAooooAKKK5q/8AFslnq11bR2McsFlLBFcM1ztnJlKhTHFtO9csBksuSGABxydbAdLRXOS+KpIr52Fih0yK9WwkuvtH7wSsQuRHtxsDMFJLA9TjHXo6Olw62CiiigAooooAKKKKACiiigAooooAKKKKACiiigAooooAKKKKACiiigAooooAKKKKACiiigAooooAKKKKACiiigAooooAKKKKACiiigAooooAKKKKACiiigAooooAKKKKACiiigAooooAKKKKACiiigAooooAKKKKAI5f9ZD/AL5/9BNSVHL/AKyH/fP/AKCakpgFFFFID8/qKKK6SAooooAKKKKACiiigAooooAKKKKACiiigAooooAKKKKACiiigAooooAKKKKACiiigAooooAKKKKACiiigAooooAKKKKACiiigAooooAKKKKACiiigAooooAKKKKACiiigAooooAKKKKACiiigAooooAK7TX/APkB3H/Af/QhXF12mv8A/IDuP+A/+hCmI4m4/wCWf+5/U17D+zF/yUPU/wDsFP8A+jY68euP+Wf+5/U17D+zF/yUPU/+wU//AKNjqJFH1FRRRWBQUUUUAFFFc74stY5JNHuWaUSRalbqoWZ1Q5cZygO1vYkHHajql3B6Js6KiuI8SW1pfazrh1dI3Wx0dJ7NpAMwMTLvkjP8LZVPmHIwvNZeooLzSddv9XRTqthpttLZyOo8y3cxbg0fdSZcjIxnbjnFH9fn/kO2tv66f5npdFRxtKYkLqu7aN3OOcc9qdmT+6v/AH1/9aglO6uOopuZP7q/99f/AFqMyf3V/wC+v/rUDHUU3Mn91f8Avr/61GZP7q/99f8A1qAHU0f65v8AdH9aMyf3V/76/wDrU0F/Nb5VztH8X19qAJKKbmT+6v8A31/9ajMn91f++v8A61ADqKbmT+6v/fX/ANajMn91f++v/rUAOopuZP7q/wDfX/1qMyf3V/76/wDrUAOopuZP7q/99f8A1qMyf3V/76/+tQAJ95/97+gp1RqX3P8AKv3v73sPas3U/Emn6PqFhZahcJFcahKIreP5mLMSAOg4GSBk8c00m9ioxlJ2irmtRTcyf3V/76/+tRmT+6v/AH1/9akSOopuZP7q/wDfX/1qMyf3V/76/wDrUAOopuZP7q/99f8A1qMyf3V/76/+tQA6mx/dP+8f50Zk/ur/AN9f/WpqF9pwq/eP8Xv9KAJKKbmT+6v/AH1/9ajMn91f++v/AK1ADqKbmT+6v/fX/wBajMn91f8Avr/61ADqKbmT+6v/AH1/9ajMn91f++v/AK1ADqbL/qX/AN00Zk/ur/31/wDWpshfymyq42n+L/61AElFNzJ/dX/vr/61GZP7q/8AfX/1qAHUVDNP9nt5JptixxqXdix4AGSelYfhfxnY+LmvP7KhmCWhQM8w279wJBA64wO+Kdm1ctQk4uSWiOiopuZP7q/99f8A1qMyf3V/76/+tSIHUU3Mn91f++v/AK1GZP7q/wDfX/1qACT7o/3h/OnVG5faMqv3h/F7/SnZk/ur/wB9f/WoAdRSKW/iAH0Oa5rxJrV7pupRw2kiqjRBiCoPOSP6VlVqxpR5pHPiMRDDw9pPY6aiuC/4SrVf+eyf9+xR/wAJVqv/AD2T/v2K5P7Qo9med/bOH7P7v+Cd7RXBf8JVqv8Az2T/AL9iuxhvo4tDS/v5kijS2E00rkKqALlmPoBya2o4qnWb5eh14XG08VJxpp3Rcorm4/iB4beynumvZoY7doVlFxZTwuhlYrGCjoG+YjjjuD0INXtN8UaTqpgWzuJDJOZVWKW3kikUxkbwyOoZCNy8MASCCOK6tjtujWoqtp2oW2rabb6hp8vm2tzGssUm0ruUjIOCAR+Nc/deMpLbX5Lc6cv9lwX0WnTXrXGHW4lVSgWPbgpmRFLbgck/KQM07O9uo3ors6miq2o6ha6TplzqGoS+Ta2sTTTSbS2xFGScDJPA7Vhx/EHw3Jei0F5OsxmSEh7GdAhcgIWJQBUckBXJCsc7ScGlu7B0udLRWLF4v0SbWZNLju3NzGZBk28gido/vokpXY7L3VWLDByODjNHxO8JtGJBqM3lmFLgP9guNphb/lsD5eDEP4pPuqSAxBIoWuwbbnWUUA5GR0ooAKjn/wBWP99P/QhUlRz/AOrH++n/AKEKa3AkooopAFFFFABRRRQAVx2reFL+/wBYupo47BvPnilh1KR2F1YhduUjAU5Hyk/fUfO2Qec9jRR1uHQ5Wfw3qMlxLZK1r/Zc2pJqDSmRvOXDrIYwm3BBdfvbhgHpxk9VRWJL4w0S3uZre6vPImhkMbpJGwOR36dPes51IU0lNpev9dkaQpVKrfJFv0Nuise38W6DdTCKLU4dx6b8oPzIArQXULN8bLuBs9MSA5ojVpz+GSfzHKjVhpKLXyLFFAORkciitDIKbJ90f7w/nTqbJ90f7w/nQA6iiigAooooAKKKKACmy/6l/wDdNOpsv+pf/dNADqKKKACiiigAooooAKbL/qX/AN006my/6l/900AOooooAKKKKACiiigAooooAbF/qU/3RTqbF/qU/wB0U6gAooooAKKKKACiiigBsf3T/vH+dOpsf3T/ALx/nTqACiuM+J/iPUfDHhi3vdIlWKeS8WJiyBvlKOeh91FeV/8AC3fF/wDz+w/+Ayf4Vx1sZToy5ZXPWwuU4jF0va02ref/AAx9D0V88f8AC3fF/wDz+w/+Ayf4Uf8AC3fF/wDz+w/+Ayf4Vl/aNHszr/1fxfeP3v8AyPoeiuM+GHiPUfE/hi4vdXlWWeO8aJSqBflCIeg92Nat1420CxubyG6vJI/scckk0ptZfKxGNzhZNux2UZJRSWGDxwcd1OaqRUl1PFr0J0KrpS3WhvUVh2njHQ72J5ILtwEnigIktpYyWlYLGQGUFkYnhxlTzg8GtS0v7a+a5W1k3m1mMEw2kbXABI568MORxzWln/X9ea+857r+v68ixRWdeeINMsHvku7ny20+2W6uR5bHy4mLBW4HP+rbgZPH0qEeKdIOtnSftEgugxTcbaQQ7wm8p523y94XLbd27AJxxSH5GvRXO23jzw7dW91PHeyrDa2/2l5JbSaNZIs4EkRZB5qk9DHuByMdRlU8daBJYzXS3NwRDcLavD9hnE/nFA4jEOzzC207sBSQMk9DQG50NFVdM1K01jTYb/TZhNbTruRwCp9CCDggg5BBAIIIIBq1QAUUUUAFFFFABRRRQBHL/rIf98/+gmpKjl/1kP8Avn/0E1JTAKKKKQH5/UUUV0kBRRRQAUUUUAFFFFABRRRQAUUUUAFFFFABRRRQAUUUUAFFFFABRRRQAUUUUAFFFFABRRRQAUUUUAFFFFABRRRQAUUUUAFFFFABRRRQAUUUUAFFFFABRRRQAUUUUAFFFFABRRRQAUUUUAFFFFABRRRQAV2mv/8AIDuP+A/+hCuLrtNf/wCQHcf8B/8AQhTEcTcf8s/9z+pr2H9mL/koep/9gp//AEbHXj1x/wAs/wDc/qa9h/Zi/wCSh6n/ANgp/wD0bHUSKPqKiiisCgooooAKo6jomlau0batplnfGMEIbm3STZnrjcDjoKvUUAU7rSNNvmt2vdPtbk2pzAZoFfyjxyuR8vQdPQUtzpWn3t3BdXlhbXFxbnMM0sKs8RznKkjI59Kt0UAZPiLxFZ+GNNS9v455EkmWFUt03sWbOBjI9K52f4mxQMs8nh3WYtODLHLdzwCPY7HCjaTyPU54qb4lf8gvRf8AsNWv8zR8VP8AkQp/+vmD/wBGrW0Ix0utzvo06TUFJX5nbc0PE/jG38L32nW1xY3l4b8S7RaJvddgUn5e/DZ46YpfD/jGz8Q6hcWMNjqFlc28YkeO+t/KO0nAIGT1rO8RfvPip4OUdYkvXbPcGICjTf8AksOt/wDYOg/maOWPL8v1F7On7LbXlvf/ALet+Qw/E/TVurhG0nWDDBO9v9oS03xvKpwVBUnnpitXw74vtfENjqF2lpdWSWErRypdIFkGFDHKjOOvSs34a/8AIL1r/sNXX8xVPw3xbeO/+wjc/wDosU3GOqS2LnTpe9FLVW6+Ys/xWto9NOpp4d1ttMXBa8eBUTk4BBLcjJAz61v+I/FVn4ZaAXVvd3U93lYLe0h8x5CvJwPxridQjMn7NqKDjFpC35TKf6Vu+J5PN8eeC5AMB5Zmx6ZiocY327/gU6NJy0Wiclv/ACq6LFj8TvD2o39raWzXhkupFhQtbMqiQ/wEnuO9aOveM9F8N3cVpqk8q3EqeYkUUDyErkjPAx1FZfxAAiufCkqgca/bpjH97dk0rfN8cFDchPDxZfYm4xn8qXLF6mapUpJTSdrN2v287Gt4c8V2HihbptOjuY/ssgjkFxFsOSM9M5/OsWD4n2F5CJdM0HxBqETZxJa6fvU4OM53eoxTfDTGHxX44WM4CXEUi+zGIkn9Kt/C5Qvwz0cKMDy3PH/XRqHGKu7dgnTpQUpWv8Nte6uaOm+LdM1Pw3LritNb2UG/zjPGQ0ez72VGentXPzfE+GS6sf7M0e+msLq7itm1CdDFEN7AZXIyxxnjisawk8v4K+JGxnM14v5vj+taXiuPyfA/hOPOdl/YLn1wKpQin8zWNClGo01fVrfyOg8Q+Mrbw9qdtp76ZqeoXNzG0qR6fbiU7QcHI3A0ug+NLHXtRm0/7Jf6bfRIJPsuoweTI6H+JRk5FZ2o/N8YtGC8ldMnLAdhuAzSeJFUfFPwUwUbiL4E45IEI/xNTyxtbyMVTpuKjbVxbv6Xf6F3VvHug6Hqs2nXk8z3qbWaCG2d2wVBHIGP1rz/AFSOfV9dsfF9/bT2yN4hs7azjuIyjpbpkk4P95iD9Qa7PQefiz4rI5CwWYOOx2Gl+Jfy6LpUp+7FrFq7H0G4/wCNVG0ZJLqbUXGlUjCK1aV36q+h1088VrbyT3DrHFEhd3Y8KoGST+FYGi+PvDviDUhY6Zes9wwLRq8Dp5gAySpYCs3xvJNrerad4OtGaNb/AP0i/lHG22Q8qD6sRj/6xo1WGO2+KXhKCBFjiitLpERRgKoQAAVCiranPTowcPe3abXyX6l/VviF4d0TVptO1G6lSa32+eVt5GWLcAVyQO4I6Z61q6Hrun+ItO+36RMZrYuyByhXJHXggGue8NgN8T/G4IyD9gBB7/uTR8M/l0PVIR92HV7pFPcjcDz+dEoxS08vxHUpU40243uuXr3V+xop498MPqV5Yf2vElzZeZ56SIyBdhw2CwAbGOxNXdQ8SaVpmgrrN1dD+z22ETxqXBDEAHjnHNeeaR4Z07xR8ML28v4d8pu7y9t5A20hskdR2O0ZHtUmouJfgn4dA+40tmjA98OAQfbIqvZxvZd7Gzw1LnUU38Vn/wAA6yx+Ifh3VNftdI0u7e7uLndtaOIhF2oXOWOOw7Z61ralrmmaFbLNq97DaRu7KhlbG456D1rm/FUEVn4w8GNBGkca3k0YSNQoG6P2+lJ4tiS78beDrOVFlSS6upGjcZDbI8559M1PLFtWMfZU5Sja6TTf3X/yOg0nxTomu3DwaRqUN3LGm9ljJyFzjP61nan8RvCuj6hJZX+qqk8RKyBIZJAh9CVU8+1ULe3htPjaY7WGOFG8PbisahQT9oxnA707wJGst94uyNyPrUyE+uAMj9afLFaj9jSjeTvaye/f5HVabqVpq+mw3+nS+dbTrujk2ldw+hAIrm2+KfgxZvLOtpuzjIglI/PbiofhlM0Pw1t42+aSyaeJs+qyMf5EVz9hGIv2bXA5zaSt+czH+tChG7T72Kjh6anKMr6SUVr3vrs+x6BqviTSNE0+G+1S9S3tpyBFIysdxIyOAM9KpaJ478O+I9Taw0a/+0zrEZSPJdBgEA8sBzyKwfEyh7XwKrAMDqNsCCOv7s1c8Yf8S3xh4T1kfKgu3sJT6iZcLn2BBNCjG3nqTGjTcUne7vb5fLr6m3rfizQ/Dk0UWtaglq8ylkVlY7gOM8A0mkeKdG8R/bI9EvVuzaqvmlUYBd27HJAz909KxNURJ/jDo8bIsmzTJnZWGQAWwD+dM8NRRwfEbxvHDGsaKtjhUXAH7hu1Lljy362/UXsafsr63tfy3t2/U0x8Q/Ce0sddtV2ttIZiCD9CM1qWOvaXqWly6jY3sU9nDu8yZD8q7Rk/kK5P4Y6Xp9z4KhnuLG2lm+0TjzHhVmx5rcZIzWfoaiP4Z+N40ATyrnUl2gY24TpjtTcI3aXQueHpc0oxvo0vxLXi/wAb6brHhubSPC1w2p6jqcPlxR20bNsRm2sX4+XjPB5qfwNYx6T428V6Zb/6m1SwRP8AvwR/StbwFpGn6b4O0yextIoJbyyt5bh0XBkbyl5P+epJ7mqXh3938VPGKnrKlk647AREU7q0or+tUU5QUKlKC0S69feiPPxT8H+dHGurBvMbaWEL7Y+2WJHAz3rorDWdO1PT2v7C8intFLBplb5Rt68+1cr8KrW3m+FmmrNBFIsqzLIHQEOPOk4PqKyNGZLb4UeMIkULFDPqEUaKPujbgD9aThG7S6MmdClzShC907fjbsjqD8RfCf26OzTWoZZ5JREixI8gZicAZUEde+cVtarq9joenPfarcLbW0ZAaRgTgk4HA5Nefa9ZQ2fwo8OeVDFHIslgS6IAS3y5OfUnmtnxkv8Aani7wtoUn/HvJcvezZ/i8lcqvuCTzRyRuref4CdCm5LlvbW/y+Rb0/4i+Fda1CDT9N1TzrqdwI4/s8q7iOepUDoDWtN4j0i31htLuNQhhvEi85opG24T1yePwzmue8Yf8j34L/6+p/8A0WKoTeH9K8Q/FzVo9Zso7tILGB0Dk/K2SOx9O1HLF6+QKjRaUtUrX6PrbsjtdI1rTtetHutIu47uBJDEzx5wGHUfqD9CKw/FGlXt9qcclpbtIghCkgjruP8AjVT4bwx2f/CT2UEaxxw67cbEQYVVIXaAPYCu1rmxFGNROD2PNx+EhVvRbdvxPPP+Ee1X/nzf8x/jR/wj2q/8+b/mP8a9Dorg/s6n3Z4/9i0P5n+H+R55/wAI9qv/AD5v+Y/xrpNa037b8PbvTrhpIWk04xM0cTSsh2dkT5n5/hHJ6Ct+qGuarHoWg3uqTRSSpaQtKY4kZ2bAzgBQT+OOOtbUsNDD3kmduDwFPDTvBt37nmkkfiPxHBe6s2lCCeS80lIYmt51QmC4LuSJYkk24YEuYwBk43bcnfh8L+I7bVl12H+zW1G5u5pbq1e4k8qFJIooh5cgjy5UQqcFF3biMrgGtLS/Hmm3ViX1MmyuobZbm7jWC4aO3VgGUGR4k+YgjCkBicgA4NWl8baE2ltfC5n2JcfZmgNlMLkS43eX9n2ebu2/Njbnb83Tmu2XWP8AXRfmkdkVs1/W7/UzND1i28H+HdN8P6tFqk97p9pFDNLY6Le3ELMEGSrpCVI/Gq934cvbq/nmXyf7Cu9Qg1qRikq3SPEsZEQh2ZOWiVskhhkrtJrsNM1K01jTYb/TZhNbTruRwCp9CCDggg5BBAIIIIBrO1Lxhomk6qunX93JHcExKdttK6I0rbI1aRVKqzHoCQe/Tmnd81+v/Bv+aRTs15f1/XzMnWtZtPF3h/UvD+mQarDd6jaTW8Ul7ot7bwqzIQC0jwhVH1/nT9V8KXt9cai8Eluq3UmnNGGZhgW8wd84HcdPfrirOg+OdM1u9ewO+3vRc3NusZjcxsYZGQgS7Qhcqu/ZncAc4xzXS0bWDr6Nnnem/Dy8sPEhmIgeyiurq7hnfVLx23TeZ8otciGMjzWBcbsgH5QWyLEvgXUG8LNpkUtosh8MjSF+ZgolC4z937nvjPtXeUUk7W8v8mv1Y7+9zf1un+aEQbY1B6gYpaKKRKVlYKjn/wBWP99P/QhUlRz/AOrH++n/AKEKa3GSUUUUgCiiigAooooAKKKKACmNFG7ZeNWPqVBp9FAXsVrnTbK7i8q6tIJUzna8YIrPbwhoD5zpcHPoCP5GtmispUac9ZRT+RrGvVgrRk18znf+ENtreRjpN/fabG/LRW8x2k+vOeaG8MXyrut/EmpLKOVMjB1z7rjkV0VFZ/VaPRW9G1+Rt9cr9Xf1Sf5nPfYfFS8LrFm49WtcH9KZJceLLPBmsrDUkJHFvKYmU57l+MV0lNk+6P8AeH86Pq9vhlJfO/53D6y38UIv5W/Kxz51rxIASfCvT01GP/ChfGdoqgXVhqVvJ/Ej2rcH8K6Kij2VVbVPvS/Swe2ov4qa+Tf6tmDD400OWZY2umhLHAaaJkXPuSMCrv8AwkGjf9Bew/8AAlP8au3FtBdwmK6hjmjbqkiBlP4GqX/CP6N/0CLD/wABk/wotiF1T+TX6sL4Z9JL5p/oi7BPDcwrLbSpNG33XjYMp/EVJWBL4L0Z5WkhimtSxyRbzMi/lnA/Co28HQop+yarqlu45Qi5JCn6HrRz11vBP0f/AAA9nh3tNr1X+TOjpsv+pf8A3TWB/Y3iT/oav/KdH/jTHtfFlojiLUdP1BMZJuYTEw9hs4/Oj28lvTl+H6Nh9Xg9qkf/ACZfnFHSUVz3neL/APn00n/v49NOt65p8g/tbRGniYcSaafNIPup5o+sxW6a+TD6rN/DJP5o6Oiue/4TG3X/AF+lavBjr5lmRj8jTk8b6Ay/vL3yXBwUliYMPqMUfWqH86/IX1PEdIN+mv5G/RWPbeLNCu5xDBqUJdugbK5/EgVqxzRyjMUiOOvysDWsKkJ/A0/QxnSqU/ji16ofTZf9S/8AumnU2X/Uv/umtDMdRRRQAUUUUAFFFFABRRRQA2L/AFKf7op1Ni/1Kf7op1ABRRRQAUUUUAFFFFADY/un/eP86dTY/un/AHj/ADp1AHD/ABY0TUdf8KW1rpFq11Ol6kjIpAwoRxnk+pH515F/wrbxf/0BJv8AvtP8a+hNa1u00GyS6vvM8t5BGPLXJyQT/Q1h/wDCydC9Lr/v0P8AGvKxUcK6l6s7M+iy/GY6jQ5KFPmjfez/AMzxf/hW3i//AKAk3/faf40f8K28X/8AQEm/77T/ABr2j/hZOhel1/36H+NH/CydC9Lr/v0P8a5fZ4H/AJ+/ij0P7SzT/nz+D/zKnwn0TUdA8KXNrq9q1rO968ioxBypRBng+oP5VS1rQfElh4K8SaPaQ2dzp00GoTwyRtLLdTtOXkWIRbQFIaQjcGbcFHyjPHaaLrdpr1k91Y+Z5aSGM+YuDkAH+oq3PeW1rJClzcQwvOxSJZHCmRgpYhQepCqTx2BPavaociprkd0fMYmrUniJTqK0r3t5nEXPhXxDqP2nUrg6bDqSmxW1tkmdoXS2mMuXfywyFyzDAVguBy1W9Mv5PCn24eJYrmW71K8e8C6Tpt3eRxqyqoQvHEeRtxkgE9cDOB18E8Vzbxz20qTQyqHjkjYMrqRkEEcEEd6SC4hurdJ7WWOaGQZSSNgysPUEda2u0/68r/kjisnZ+n4Jpfmzg9b0bVvE7ane+HfIS01vTUsZf7TintJrcxPKQRE0eWDeYRztxgMN3StEeHdaXxjLfWr29haszM89vezE3AMe0K9ow8oMG2kyhtxCAYAY46XUNTsNItftOq31tYwbgnm3MyxruPAGWIGT6VapPUq+t3/XQ8mk8D69Z2FxqWsXAe4hsox8l9fak01xFPFMr7ChZUdkwUjT5RyN38MkHhzWPF0N3rc9kbS5/tlb22tnurqw81BaLAwEoRZ4+d2GMY3bfu7WBr1WinfS39b3BaXt1/ysY3hPRpNA8NwWM6xJMHklkWGaWZQzuzn95KxdzluWOMnJwucDZooobu7gFFFFIAooooAKKKKAI5f9ZD/vn/0E1JUcv+sh/wB8/wDoJqSmAUUUUgPz+ooorpICiiigAooooAKKKKACiiigAooooAKKKKACiiigAooooAKKKKACiiigAooooAKKKKACiiigAooooAKKKKACiiigAooooAKKKKACiiigAooooAKKKKACiiigAooooAKKKKACiiigAooooAKKKKACiiigArtNf/5Adx/wH/0IVxddpr//ACA7j/gP/oQpiOJuP+Wf+5/U17D+zF/yUPU/+wU//o2OvHrj/ln/ALn9TXsP7MX/ACUPU/8AsFP/AOjY6iRR9RUUUVgUFFFFABRRRQAUUUUAcb8ReV8LqejeIrQEeo+aj4qf8iFP/wBfMH/o1aPiJ/zK3/Yx2n/s9L8Wf+SX6t/2x/8ARyVvHePqejR+Kj6/qJrXz/Fvwyq8mO0umb2BUAfrRa8fGq/xxnRYyfc+bRqXPxi0UDkrps5PsNwot/l+Nd2G4L6GjL7gTYz+dHT5fqH2P+3P1D4ac6Pq0g+7JrF0yn1G4c/pWZp3EfxGA4HmynHuYTWn8MP+RXuf+wjc/wDodZEDFLH4mMpwymYg+n7g0/tS/rqX/wAvai9PzQ3Vf+TdU/7B0H/oSVoeIP8AkdPA3+/L/wCiqi1RFHwAQBRj+xoGx77FOfzo1EmXxj8PoieWhnkLHn7sAP65pr/P8hx1u/Of/pJe+In/ADK3/Yx2n/s9EX7z423DHgxaCqD3BnzR8RP+ZW/7GO0/9nos/n+M+pMvSPR4kb6mTI/SpXwfJmcP4Pyf5oh8P/L4y8doeG3wNj2MJwaufDD/AJJpo/8A1zf/ANGNVPRv+ShePf8ArnZf+iGq58MP+SaaP/1zf/0Y1E/h+78gr/w3/wBuf+knJ2zBfgj4jLEAfabkc/8AXQVt+N1MfgHRGI2yQ3dky5/hYECufP8AyQ3xEO4vpgfb9+tdL8RPl8B2Uh4SK7tXc+g3j/Gr+0vX/I6H/Fj/AI3+SJrn/ktVl/2BZP8A0bR4l/5Kh4J/7f8A/wBEii5/5LVZf9gWT/0bR4q+T4ieC5R94S3aYPTDRAGoW69P0Zzx+OP+B/lIPDX/ACVDxt/24f8Aok0fFD5fCUUh+5Hf27ufQeYP8aPCnz/EPxpK33jNap+CxHFHxW4+H11IfuxzwMx9B5q0L+Ivl+QL/eof9u/kguf+S1WX/YFk/wDRtHiL938U/BzL1lS+RvoIgaJv3nxtt1XrFoTO2e4M+KPEv/JUPBP/AG//APokULdej/JhH4o/4H+Ug8L/AD/ErxrKPul7JOfVYSDVfwXcfYtK8YyZ2i21u9dR02gBT+VWPCX/ACPvjP8A6+bf/wBFViQTG18P/EnH+sW5uWGD0DRcGna7a9C3Hmco+UPySNfwXb/Zfg1ax4xmxmk/76Lt/Wueuv8AkiXhz/r5tf8A0ZXaaVCLf4X2kS/w6Qo47nyeTXFz/N8H/CUJ+7NfWiMe4G8n+lOLvK/mVTlzVHL+/wD5nS+Pv3eoeE7jpt1yGPI6/OGGPpxzTdZ/e/FXwqnXyIb2Tj+HKhcmnfEr5NK0a46fZ9atZd393DEZ/Wm3H734y6cn/PHSZpOPeXbz7VMfhT8mZU/4cX5S/r8R3/Ncv+5c/wDbmj4d/wDM0/8AYx3f/slE3yfGy2ZesmhOjfQTZH60fDv/AJmn/sY7v/2Sh/D8kE/4L9I/myp4Qc2ug+MLVTtNpql5s9lKgj+tUooc/s7FIxj/AIlrOf8Avosf61JbuIbj4lKTiNE8w+xNuxJ/SrLoyfAPDDB/sQH8DHkVT3+aNZfEn3lF/hf9RmuOLlfh+q8LJdwyg9+IsgfrV74lf8gvRf8AsNWv8zWbqH3Phz/10j/9ECtL4l8aNpUh4SLWLV3PoNxH9aS+KJEdKlNev5sJ/n+Nlqq9Y9Cd29gZsD9abpH/ACVTxZ/162v/AKAacn7z44SMvSPw+Eb6m4z/ACpulfJ8VfFIbgvZ2rL7gKQT+dLp8v1Jfwtf3F+aHfCv/kQoP+vmf/0a1YVm7J4B+IpU4P8Aauoj8Cqg1vfCf5vhnpkh+9I0zMfU+c/Nc5HIY/h78RGAznWL5effYP61X25ev6mu9eov7y/9KPQPC6LH4R0dEGFWxgAHoPLFYOicfFrxODwWtrQj3G010egx+V4c02MHIS0iXPrhBXOab/yWHW/+wdB/M1mvtf11OSGrq+n6oPhN/wAkv0n/ALbf+jnrAsP+SWeNf+v2+/pW/wDCb/kl+k/9tv8A0c9c5bSGP4U+NGAznULxefcgf1rT7cvX9Tr/AOX9T/GvzZoeL/8AkjOnHuI7Eg+nKVp6v+8+L3h5Tx5VjcuPfOBVHx5GIvgbLGuSEtLRR+EkdXtS5+MGif8AYNn/AJiktvvIjrC/+P8AJDfGH/I9+C/+vqf/ANFinaH/AMlZ8U/9e1p/6AaTxr8vizwdIvDjUHUH2Kc0uh8/FjxVjtb2gPt8hpfY+X6kr+D/ANu/+3h4H+TxD4vhH3RqpfJ65ZATXZVxvhH5fHfjOMcAXVu233MXX8aoePvi5Y+Ateh0u70y4u3mtluA8TqoALMuOf8Ac/WqjQqV6nJTV3b9DmxP8T5L8keg0V4t/wANJaR/0AL3/v8AJR/w0lpH/QAvf+/yV1f2Vjf+ff5f5nOe01R1uyk1Lw/qFjAyrLdWskKFyQoLKQM47c15J/w0lpH/AEAL3/v8leuaNqSazoNhqkUbRJfW0dwqMclQ6hgD+dcuJwNejD99Gyeg4uzujl9Q8D3Go6LrllLPEj37WkkLJI64aBY8BmXDKC0fVTkA5GDWTJ8OtRm09LhooY9Qi1EXi266/fsXXyTDhr0nzQ2GJyqAYAUg/er0uiubq2JaJI47R7608EaNb6RqVrfm5+e4kGnadqF/EGkkZiPO2SFmyTksQSedqggDnNXkvr7Xp7TQrG8nttbv7C+kkudOvIGgMUkW8EvEIwuyEN8zhgcgKxIr1SsmTxPpEWvLoz3TC9JC4ELmNXK7gjShdiuV5CFgxGCByKal7yf9f1sNNq7Rzuk+E9at9Ssor97BdOsdUu9UjlglcyyNK02yNkKAABZiS248jGMfNXcUUUXBtt3f9dQooopCCiiigAqOf/Vj/fT/ANCFSVHP/qx/vp/6EKa3AkooopAFFFFABRRRQAUUUUAFFFFABRRRQAUUUUAFNk+6P94fzp1Nk+6P94fzoAdRRRQAUUUUAFFFFABTZf8AUv8A7pp1Nl/1L/7poAdRRRQAUxoo3bLxqx9SoNPooC9ipd6VYX0PlXdpDKmc4ZBwazJPBHh2Q5bTVBzn5ZHX+RreorGdClN3lFP5G0MRWpq0JtejZzo8HQwMf7N1TUbFG+9HFPlSfXnNNl8M3yQs8HiPUvMUZXzWDrn3GORXSU2X/Uv/ALpqPqtHorejaNfrlfq7+qT/ADRgfYvFY4Gr2LD1NsQTSed4rsOZbWy1SP8A6YuYZP14roqKPq6Xwya+d/zuH1lv4oRfyt+Vmc6df1oDJ8L3GB6XKGgeM7NQPtFhqUD91e1P9K6Kij2VZbVPvS/Swe1oven9zf63MGLxpokkojluXtnPQXETJ+pGKtDxNoZIA1az59ZhWhNBDcx+XcRJKmc7XUMPyNVjoulspDabZkHqDAv+FFsQuqfyf+Yc2Gf2ZL5p/oWoJ4rmFZbaVJY2+68bBlP0Ip9YEngrRXmeSKGW2ZjnEEzIB9ADgUxvBtui5s9S1K2kHKstySAfUg9aOeut4L5P/gB7PDvabXqv8mdBF/qU/wB0U6ucj0HWzGpHiecDA4+zJSiy8V2ZK2upWF8h6G9iZGH/AHxR7aa3pv8AD9GH1eD2qL8V+aOiornvO8YDg22kE+okk5pp1nXdOkH9raMbmJhw+m5kKn0Knn8aPrMVumvkw+qyfwyT+aOjornv+Ext1/1+l6tB6+ZZkY/I05PG+gMD5l6YXBwUlidWH4Yo+tUP51+QvqeI6Qb9NfyN+ism08VaJfXKwWuoxPK33VOVz+YrWByMjkVtCpCavBp+hjOnOm7TTXqNj+6f94/zp1Nj+6f94/zp1WZnG/E7/kWbf/r8X/0B68rr369sLTUYRFfW8dxGrbgsi5APTP6mqP8Awi2hf9Aq1/79ivCx2WVMTW9pGSR9Dl+bU8LQ9nKLep4fRXuH/CLaF/0CrX/v2KP+EW0L/oFWv/fsVxf2JV/mX4nof2/R/kf4GH8Mf+RZuP8Ar8b/ANASuSN1HceMtMa91S5k16HXL4T2JumZbaEW9yICIvuxgx7CGABfJJLEcer2VhaadCYrG3jt42bcVjXAJ6Z/QVYr6LDUnRoqm3srHzOJrqtWlUS0b/Q8l8O6s8uv6EbzWZr27mtbQi2GrTRTxhrddxNow8u4jJLO0xO4ZIHKVsfDia48uyh1WWRHOnh9OijlYQvDuxJleN8obaSSDtDqF6sW9CqnqelwavZ/ZruS6jj3Bs2l5LbPkf7cTK2PbOK6ZO8uZf1/X4/M44qys+y/AwvGljFd33hppJLlDHqyY8i5kiz+6kPOxhu6DrnjI6E54S9ub+w8KeHJ7nVJfsOorNNqF3qPiC5sV83C+Uv2hQ5jGN+EAVWK85PDeo6RoFnojSmzm1CTzcbvtupXF3jGennO23r2xmr89zBaxh7qaOFGdYw0jhQWYhVXJ7kkADuSKz5e3V/5f5FX1v8A11/zPFNa1vxGkenC+1q3t5zo9tLp9xLqd1Z+fdF33MsCW+btjiLMTIDg8L8+a9uQkxqX+9jnHrS0Vo3dCCiiikAUUUUAFFFFABRRRQBHL/rIf98/+gmpKjl/1kP++f8A0E1JTAKKKKQH5/UUUV0kBRRRQAUUUUAFFFFABRRRQAUUUUAFFFFABRRRQAUUUUAFFFFABRRRQAUUUUAFFFFABRRRQAUUUUAFFFFABRRRQAUUUUAFFFFABRRRQAUUUUAFFFFABRRRQAUUUUAFFFFABRRRQAUUUUAFFFFABRRRQAV2mv8A/IDuP+A/+hCuLrtNf/5Adx/wH/0IUxHE3H/LP/c/qa9h/Zi/5KHqf/YKf/0bHXj1x/yz/wBz+pr2H9mL/koep/8AYKf/ANGx1Eij6iooorAoKKKKACiiigAorivF+u6hp+qTxWt1d28UGnm4jNnbJMply2BOWVvLQ7Rg/KOHywwMGqa1qph1i+tL9YF0a1jmEEKI8Vyxj8xtzMC20jAG0qepyex0uOzvb+v61H/ET/mVv+xjtP8A2ej4s/8AJL9W/wC2P/o5KoeLNVXUNa0GLy/LFn4hgiyWzvzAsm7Hb/WY79M96vfFiRG+F+rAMpP7ngH/AKbJW8U04JnoUVaVD1/UW5/5LVZf9gWT/wBG0f8ANcv+5c/9uaaXQ/HAEsuB4d4Oeh+00SSJH8bYX3KRLoLR9emJ91H+QeX9wd8MP+RXuf8AsI3P/odYbSGPS/iYy4yXkXn3hx/Wtv4YSJ/wic0m5dsl/cOhJ6jeea529nWDT/iXGSG+ZWBB674/6VS+OX9dTWOteovNf+lI3dYgx8DGijPCaNFgt6LGp/pVSeQS+NPhzIuQHs7lhn3tlrS1vbF8HLiIupZNHCnB6kRCsjev/CVfDU7hgWFxk56f6MtKO33/AJE09Yv1n/6SzW+IvCeGHPCp4itGY+g+bmjTOfjBrmOcadbg+3JpvxJkQ6Xo2GU/8Tq17+5o0ORP+FseKDuXBtrTBz/sGkvg/ruiIf7vfyf5xK9o7W/j7x0Y+r2VtLz2KwsBWr8N0WP4c6MF4HkZ/EsSf51jJIg8eeNssvzabBjnr+6atn4dyIPh3owLqD9mHf3NE/h+78gr/wAL/wAA/wDSThL1inwc8YFTg/2zKPwM8YNdf8UlCfD+VVGFW4twB6DzFrjb11b4S+KINwzPrzoDnp+/jOf0rsvivIn/AArTUnRlLxtCyc5wfOSr+0vX/I6Jfxqf+N/+2i3P/JarL/sCyf8Ao2jxb/yPvgz/AK+bj/0VSeYn/C8M7lx/wjuM5/6eaTxZIh8eeDSGXAubjPP/AEyqFuvT9Dnj8cf8L/JjvCHz+N/GUo+6buFAfdY+ad8V1LfDDVwoycQn8pkNM8FyIPFHi/LKM6iuOf8AYFT/ABNYSfDbWFRgx8pTgH0dTS/5er5C2xcP+3fyRArB/jeGU5VvDeQfUfaaXxL/AMlQ8E/9v/8A6JFVrGWN/jBbOrqVPhdcHP8A08Cp/FkiHx54NIZcC5uM8/8ATKn9pen6DX8SK/uv/wBJY7wf8/jbxlKPum8hQfVY8GsC6+Sz+JsPXGJM/wC9DnH6VveC5EHijxfllGdRXHP+wKwNTdVvPihGrDZ9lt2Az1Jt2zVL4n8v0NYfxZLyh+cTuNIAbwJYqwBB02MEHv8AuhXnkbFvhD4NLEk/2rbjn/rq9ehaPIn/AAg1gN65/s6Pv/0zFedwMrfCjwTCGG+TWLdBz0PmydaUN/n/AJk0N3/iX5SOt+KnyeBZJ+n2e6t5N3Zf3ijJ/Om237z413DHjytDCD3zcE1J8UvLl+GerrvH3I2GD6Sof6VW8PTi4+KWuzuVUrYWynnqWy3FKPwff+hFP/dm+3N/7aT3P/JarL/sCyf+jaPhv81jr0p+9Lrt07H1OV/wpt86R/GTS5NykS6TLH1+7h85o+G0iDS9Zyyj/idXXf3FD+D7gn/A+UfzZi3EnlH4ntjOYFX87dh/Wtu9gYfBBolOSmgrz67YBn+Vc3q03lJ8TVDAOUg4z1DRY/lXXaoYo/hPeRoy4XRHUDP/AEwNVLp8vyRpU05PWP8A6TEwrxxJB8N3X7rPER/34FanxP8A+RXtv+wjbf8AodYqupPwwUsCotwSCeMi2XBrZ+J0iHwvbYZT/wATG26H/bpfaj/XUW1amvN/+lMWy/efGfU2HAi0iJDnuTJmm2P/ACVzXv8AsGQfzNGkyJJ8XPEL7lAisraPk9c5NNtXVPi/q67gfO0mJwQemHIxS7+n+RD6r+4v0JPhN/yS/Sf+23/o565iSQR/Dj4hM2cHXLtePdox/Wum+E8iL8L9JBZQf33BP/TZ65LUZEi8A/EOLeNv9syMMnqWeOrX8R+v6m8dcTUX95f+lHq2lxmLSLONsEpAinHsork45Db/ABg1VkHXREkI9SJCBXXWrqlnCrMoIjUEE9OK42d0j+L18NykS+Hd+c9MTEYrGO7OKjq5+j/NFz4WRiP4ZaQo5ykjc+8rn+tct0+HHxBUcKus3gUdgMpwK6r4YyIPhro4LKD5b9T/ANNGrj7mXb8NviDtcAnXbkDnqC8YrVfG/X9TrhriJ/4l/wClHTeNgT8GbrAz/oUJ4+qUkpDfFHw4Qcg6TKQR36Va8abP+FV6jHER8tiAFB6AAVm28sb/ABD8LMjqwGiOSQc4BC4NTH4fv/Izpa0n/wBvfki743/5Gfwf/wBhI/8AoFL4a/5Kh42/7cP/AESaZ42dT4m8IEMuBqZyc9Pkp3hqRP8AhZ3jVty7SbEA54JEJzR9j5fqJf7v/wBu/wDt6H+HEK/E7xmT0cWBH/flh/SvGf2jf+SiWH/YKj/9Gy17boagfEfxSytu8yCxbjt8sg/pXQXOm2N5IJLuyt53A2hpYlYgemSPeurB4tYSuqrV9P0OXEazXpH/ANJR8MUV9w/2FpH/AECrL/wHT/Cj+wtI/wCgVZf+A6f4V7v+sMP+ff4/8A5z4er67sIL66+BdlBpBcXsnh+JYPLbaxYwDAU5GCegORg1039haR/0CrL/AMB0/wAKsy2VrPYtZT20Mlo8flNA8YMbJjG0qeCMcYrysyzJY6Cio2t8yo6O54xe2+irFqseh6JdWOmfadFD2K2j2zn/AEli4ERAYEjqMAtyRncCdzSIpND1i21C00O/t9Ba8u00+1t9PkDW6SRQ4zAF3RI0qSnlQBuBOAa9AsvD2i6ZYiy03SLC0tVlEwggtkjjEgIIfaBjcCAc9eBWjXjSs013/wCB/kRFWf8AXn/mc/4Ct7i1+HugwXkEltcR2EKyQyqVeNgoypB6EVzOpWF9Lrt7pCWV55134hs9TiuxbsYfs8YhLkygbVI8lk2E7jkcEHNdXqHgrwrq19Je6r4a0e9upMb57mwikd8DAyzKSeABWqLO2WxFkttCLQR+UIBGPL2Yxt29MY4x0xVcz5udb/8ABT/NIqWt0+v/AA36sx/HVtNefD3X7a0hknnm06dI4olLM7FCAAByTXFaj4JtbPVdQudL0IpLDdaXNayxW5yrmcfaJEwOGKAeYw5IHzHFdvYeCfCulX0d7pfhnR7K6iyY57ewijdMjBwyqCOCRW5STs0x328r/ieQ6RoWqxePZZ7qKQX4u757i4j0ORXmt33+Ukl6ZfLkTBi2oqllKqNo2sRVk8AwReEmaLQJWvl8KIwb7O3mNfIvyueOZ16BvvrkgYzXtFFEXytW6f5P/O/yBu8r/wBbp/pb0Gx58td3XAzmnUUUiUrKwVHP/qx/vp/6EKkqOf8A1Y/30/8AQhTW4ySiiikAUUUUAFFFFABRRVC41qyttSjsHaaS5fadkFvJLsDHALlFIQEg4LYHB9DQBforMfxFpiar/ZzXDfaPMERIhcxrIRkIZMbAxGDtJzyOORWnQAUUUUAFFFFABTZPuj/eH86dTZPuj/eH86AHUUUUAFFFFABRRRQAU2X/AFL/AO6adTZf9S/+6aAHUUUUAFFFFABRRRQAU2X/AFL/AO6adTZf9S/+6aAHUUUUAFFFFABRRRQAUUUUANi/1Kf7op1Ni/1Kf7op1ABRRRQAUxoo3OXjVj6lc0+igNile6Pp+oweTe2cUqZyAVxg+xHIrLPgXw+DmOyeInqUnkH/ALNXQ0VjOhRm7yin8jeGJrU1aE2l6s5tPCKRZ+wavqdohJykdxlevuKt2Ggz2V9HcPrWoXSpnMU0gKtkEcjHvmteP7p/3j/OnVMcNSi7pfmVLFVpK0nf5IKKZNPFboGnlSJScAuwAz+NQ/2nY/8AP7b/APf1f8a6lGT2Ry3RZoqt/adj/wA/tv8A9/V/xo/tOx/5/bf/AL+r/jRyS7BdFmvJdE1eeTXYhp2s3t/rZ1XUYrmwlvGkSK0Vp9hMJbCqHWICTGeduccD1eGeK4QtBKkqg4JRgRn8KhsNOtdMtmt7GLyomlkmK7i2Xkcu55PdmJ/Hipa3RV1b+vM8W0jWNZvNKu1GugTSWlv/AGgttrNxdTwXLXMaksrRKtq2DKphVh0wFwpNdk89hZeMm07Vdb1CxntJLaPR7Vb+Z3u4yo3kxkt5+W3KzMHKqM5T71egUUPVpkpWueFW2va+2ka1NNq6Q6kmi3smoW8Gr3FxNBOo+RjCYgloVOQArjcORvxurZ8UWMNlFqdlqGrai2nW93o948tzqkw8kvclZW8wvlFwoOMhVIyACBj1yinFqNtNrfg7lN3d/X8bAMbRjkduaKKKQgooooAKKKKACiiigAooooAjl/1kP++f/QTUlRy/6yH/AHz/AOgmpKYBRRRSA/P6iiiukgKKKKACiiigAooooAKKKKACiiigAooooAKKKKACiiigAooooAKKKKACiiigAooooAKKKKACiiigAooooAKKKKACiiigAooooAKKKKACiiigAooooAKKKKACiiigAooooAKKKKACiiigAooooAKKKKACu01//kB3H/Af/QhXF12mv/8AIDuP+A/+hCmI4m4/5Z/7n9TXsP7MX/JQ9T/7BT/+jY68euP+Wf8Auf1New/sxf8AJQ9T/wCwU/8A6NjqJFH1FRRRWBQUUUUAFFFFAGNqnhqLUryW4S/vbJriAW9ytsyYnjGcBtysRjcwyu089emIrzwhY3RKJPdW1rLDHBcWsLL5dxGnCq25Sw44ypUkcEnAreoo2A8y8QMv/CXW0Y6r4qtiRjoDZw4/ka3virH5nwx1dc4wsTflKh/pXNeJXMfjMMvVfEtqw/Czjrd+It2zfDTVorkFZTEhBxww3rU1MXSpV6dGbs3b032v3fQ9a3v0GvL9B1lJ9o+Ms8pHP9gx7c/wgy5x+dPuf+S1WX/YFk/9G1S0yZ1+K14Uj8yRdHt40GccE7j/ACqxcziT4w6S6BkdtMmjkVh2DAgfnT+s0nWdG/vW8+199m7ambXvf9ufoS/Cv/kQoP8Ar5n/APRrVzGtOqW3xMLHAzbj8SgAra+GF1LF4QhAUtCs828KMkEytzXPa/Ismm/Ep0OVaS0wfwWjD4ulWr1Kcd4u33NK67q+nqbwj/tNT1X/AKUju9cjx8LNQSReV0aTIPYiE/1rmLFjN4i+GmT80ekySMT3zbKK6TXbsy/D/Uo3iMZl0uVY2JyGPlEfhXJWdwV1j4fSQn5horqOO/lKKzp42jKhOtF3UU2++19nbdbdzGgnyP8A7e/9JZ0fxK/5Bei/9hq1/maPDnzfFLxmW5KLYqvsDCSR+dV/iBc+bpWixy5WZdZtdykYz8x5pfD1w6/Ejxk8cRkZpLRSoPQJFjP6044yi8L7e+npd3utLLW/kKKf1Z+j/wDSokU3/JRPFX/YFT+TVs/Dr/knei/9ew/ma567ugvjzxPJEM7vD3m4YY2ldwwa1vANy9v4J0kOGa3FqnIX7pIyf51OIxtGlShOT92VtVts9X5BWT9j/wCA/kcXdc/DHXlHLN4kYKO5PnJwK7T4rIX+GGrheuIj+AmQmuJuXUeDdc2cxx+MWCD/AGd6Gux+JN4X+G+rJLC0ReNCvcH51710VMTSp1KcZP4np26ddvTubyv7am/73/yI5HWT43K6HKt4bBB9R9ppfGHyeNfBsx+6LyZPfLR8fyqg0skfxdtfIOHfw2ijj/p4qz4suRP4n8IKQUkXUTuQjGPkNY/W6X1n6u9Hb5PR6Lz8jBR/eR/wv8mTeA+dW8WseW/tmQZ74CjAq98Q1LfDvWgoyfsxPHsRWT4GumW/8VOkLOP7duFcDsF2jPvWn42voJfAmtJGxLNZS4G0/wB01Msdho1/Zymk7pa6X9L7/IiSf1pPzX6GPorB/inp7KcqfCcZBHf9+Ku+Lf8AkffBn/Xzcf8AoqsPw7O6+ObFoCrM3hm0RCeRgsDxWt4pud/jXwe7oyOl5KjIR/ejwCPbitHiqSxPsH8Vvk9Hpfv5G0otVl/hf5Mm8EfP4i8Xyr906psH1VADXNeKT5erfEEfdMmmWzDtuGME/wBK2/Bt08GteKlRNy/2zKz+oGFFYPi2ZJtZ8aPGcg6LD2x/FVUsVSqYmdFP3o2/Tbv5+ZdNP6w/SP5xPStNi8zwzaRLhd1mij2+QCvL7CTzPhl8PmAxjxBAv5Syj+lejaJfldFs/PQiIQoqyKMjhR1rzPTn2fCrwE3Xb4hjbH0mmrPDYyjWhKUHtv3Wj/pPqZ4dPX/Evykd18T/APkmmsf9c0/9GLVDwn/yUjxF/wBeln/6Aak+It40nw11aO4XZK0SFeOGG9TVTw7PJD8SteESBy9raDbnGfkNTTx1GWEddPT01TvHS299diaaf1aS9fzgaGpf8lh0T/sHT/zFHw0+bRdVlH3ZdYunU+o3D/Cor6cP8XdBZlZC1hcIFYc5GD/Kj4b3CW/hW4L5O7UrkAKMk/PWzxFL6v7bm93v82KafsPkvzkcx4rcJL8TiTt/d6aM/VQK9B8RRN/wr3VYQuH/ALLmUL0wfKIxXm3jCRZo/iW8Zyrf2Vg/9816f4puI4vDGppI2GeymA/74NXUrU4041HJcrtr01St95pWvan6r/0mBxMDiRvheV6eQR+It1H9K2/if/yK9t/2Ebb/ANDrAsPmb4YIvLGGVsewgGTW58UbiL/hC5AkimWO6gZfVSJVq5ThCpBSdr7fextfv6a83/6Ux/h/958VfF79PKjso8euYyc1XmOPixq5HB/4R8f+jDVjwud3xE8azscfvLRCPQLEeaqTzRyfFm+MDbll8NM7exExH8qlziqnI3q1t9xn9uX+FfkjR+F4x8NNHxx+7f8A9GNXD65/yIfxD/7DQ/8ARsVdp8Np47f4ZaMZWxmNwOM5/eNXE6qyyeE/GTLyreIkI9/nSqhVpuvKmpLmTWnXc2pf7zN/3l/6UezVw998vxilLcB/DLqvuRPnH5V2M15DbvtlbB27ulcTfXCT/FaJxlcaDMGDcbT5lctLFUJVXRUlzWenU4cOneXozR+GH/JNNH/65v8A+jGrjrv/AJJr8Qf+w9cf+jIq634bzx23wz0YzHbmN8DHX52ritacSfD/AOITocq2sqQf+2sVdMKtOVeVNSXMmrrrud1JXxE/8S/9KPQfFil/hnqgUZP9mufwCZrndBYP488NMpyreF0IPr8y11XjCZP+EP1qDcPNk06cKvrmNgK4/wAKur+MPCpU5H/CKRj8QVBpUqkJxkou9t/LQwo/wJfP8ja8ff8AIU8Jf9huL+Ro8Jf8j74z/wCvm3/9FVH48mjfWPCiK4LLrcWQO3Bp3hR1Txv40lY4jFzAC3bIi5FJVIOk5Jqyv+D1Bf7v8v8A25GnpqKvxA14qMFrOyJ9zmcf0roapW1vbPqVxqUEjPJPDHA4/hAjZ2GBjOf3pz+FQan4m0TRrlbfVdUtbSZkDqk0gUlckZ+mQfyrL2sJRU01bv0OKpLml8l+CNSiuf8A+E98Kf8AQwWH/f4Uf8J74U/6GCw/7/Cp9rT/AJl95FmdBWJ41srnUvAmuWVjE01zcWE0cUakZdihAAz6mov+E98Kf9DBYf8Af4VuW9xFdW0VxbSLLDMgeN1OQykZBHsRVRnGXwscW4tM8z1P/ifnW7yXS9UjsJoNPVBc6NNKJSjylhJakLJJGCQGQckYPQg1l63pc954b0iwbwvb+Ube7FukuiXV3CHMgEYW28xRaFwdymU/ugSmQM17JRVPW/n/AJWJh7tv6/r+rWPFtQsvLit5/EWl3curSzaN9gvpbV/3MW+BXiMpGEbzPNLISGbeDg9tHw7omqQfEpbm8jkW9W/vJLm5TRJFaa2Yv5aSXpl8uSPBi2oqllKqNo2sR6O/h7RZNbXWZNIsG1RBhb5rZDOoxjiTG7ocdelaNXza39fxt/kJK0OT0CiiioGFFFFABRRRQAVHP/qx/vp/6EKkqOf/AFY/30/9CFNbgSUUUUgCiiigAooooAK4HU7G6t9c1ZrSPV01W6uoZrCa3aY2zrtRcSAHyhjY24OMlcYzxXfUULR3DpY4W5tbtvtGiizumuZtbjvEn8h/J8kSpKX83G0EBSu0kHI6cgnuCpz99h+X+FOooWkbf1sl+gdbjdh/56N+Q/wo2H/no35D/CnUUAN2H/no35D/AAo2H/no35D/AAp1FADdh/56N+Q/wprqdo+dj8w9PX6VJTZPuj/eH86ADYf+ejfkP8KNh/56N+Q/wp1FADdh/wCejfkP8KNh/wCejfkP8KdRQA3Yf+ejfkP8KNh/56N+Q/wp1FADdh/56N+Q/wAKbIp8pvnY/KfT/CpKbL/qX/3TQAbD/wA9G/If4UbD/wA9G/If4U6igBuw/wDPRvyH+FGw/wDPRvyH+FOooAbsP/PRvyH+FGw/89G/If4U6igBuw/89G/If4U2RT5TfOx+U+n+FSU2X/Uv/umgA2H/AJ6N+Q/wo2H/AJ6N+Q/wp1FADdh/56N+Q/wo2H/no35D/CnUUAN2H/no35D/AAo2H/no35D/AAp1FADdh/56N+Q/wo2H/no35D/CnUUARxqfKX52Hyj0/wAKdsP/AD0b8h/hRF/qU/3RTqAG7D/z0b8h/hRsP/PRvyH+FOooAbsP/PRvyH+FGw/89G/If4U6igBuw/8APRvyH+FGw/8APRvyH+FOooAjRTtPzsPmPp6/SnBSDy7H2OKI/un/AHj/ADp1AHDfFr/kU7b/AK/U/wDQHrx+voDxP4ci8T6ZHZTzvAscwlDIASSFIxz/AL1cr/wqKx/6Clx/37Wvp8tzDD4fD8lR63fQ8/EUJzneKPKaK9W/4VFY/wDQUuP+/a0f8Kisf+gpcf8Afta9L+2MH/N+DOf6rV7Fr4S/8inc/wDX6/8A6AlVoPE/i7ULy2S0fRYIr6+vbKHzbWV2i+zySYkOJRvyse3Z8uCd27Hy11Phjw5F4Y0ySygnedZJjKWcAEEqBjj/AHant/D+mWrW7QW202081xF+8Y7ZJSxkPJ5yXbg8DPGK+QxtSNWvOcNnsepSTjTUeuh59P8AE7W5bayk07TDJN/ZVtqM9vDpV1efamlLZhR4uICBGcNIGBLDjCk1rXfijxQ+sXMenLpUVpHq6aYi3MEjSMHgRxKSHGNrOfkx8wGNyda27jwF4cuba0t5bB/JtIFtkjS6lRZIVOVjlCsBKg5+WTcOTxyc6P8AYOm+a8n2b5nu1vWO9uZlUIG6/wB1QMdOOlc7avfz/C6/S68vxNJf3f60/wA/66HI23izxLqkNrZ2H9lQ6iEvpLmeeCRoZBbT+SAiBwU3nDZLNtHGGzmmWPjjWtU0+61y1isINJtbe0uXglid5fLljjllPmBwBsRnx8pycdMc9HeeCNAv7aOCezkVI5JpFaG6lifMzFpVLowYozEkoTtPHHAxZuNBhTTb+DR1gsZr2NY2doTJGoCBB+73AYCDAAwPrUt6XS/rX/gfcFlzeRLouoy6pb3F0wQQG5kjtioOWjQ7dx55yysQRjgiuN8V3+uab40ur2yvIZIrPToDa2cnnKnmSz+US4WUI/GeqHHGMYJPRtour6bp1hp3hTUNNsLGzt1gWO806S5YhRgEFZ4wOB6Gpo/DyXkJk8RfZ76+kRI5ZraKS3RlSTzEAQyORhufvHP04pSWqt0/yaBfDr1/zTOVvPHGu2fiZ9LithfHT5ra3uxbaLduLlpFVndJULpAEVwdrlicHlQQal0Px1q2reLUthYSnTZby5tNq6TdKbcRFwsrXR/curGMjaoBBdRk4NdPf+E9G1PVk1G9tXkuEKMQLiRY5ShyhkjDBJCp5BcHHaoJPCGmw6lNqumQrBqZMkkDzvLNbwzOMNKLfzAgY5O4rtY5b5vmNOOm/n/X9bDfkWPFGrzaJ4fmu7SNJLlpIoIBICUEksixoWxztDOCcc4BrjL3XfFMuu2emG709L2210WYnhiljgmRrBpd0kXmEtgtnZv5KryOtdBeaF4o1TTrqw1bWdBuba5haNkXRZ05PQ5+1549sHOCCMVX0j4cWFtp8kWtTyahdSXn203EMs0Bjl8kQhkbzWkzsH3mkZtxJyOMOOjd/wCtV/wfvGmrff8AkbXhbV59Z0Tz70RC6huJrWdoARG7xSNGWUEkgErkAkkZxk9a2Kradp1rpOnw2OnxeVbwjCruLH1JLEksSSSSSSSSSSTVmh7khRRRSAjl/wBZD/vn/wBBNSVHL/rIf98/+gmpKYBRRRSA/P6iiiukgKKKKACiiigAooooAKKKKACiiigAooooAKKKKACiiigAooooAKKKKACiiigAooooAKKKKACiiigAooooAKKKKACiiigAooooAKKKKACiiigAooooAKKKKACiiigAooooAKKKKACiiigAooooAKKKKACu01//AJAdx/wH/wBCFcXXaa//AMgO4/4D/wChCmI4m4/5Z/7n9TXsP7MX/JQ9T/7BT/8Ao2OvHrj/AJZ/7n9TXsP7MX/JQ9T/AOwU/wD6NjqJFH1FRRRWBQUUUUAFFFFABRRRQB5R4iUv8RIlHVtejH/knFXU/FFR/wAKz1bj7qJj2/eLXKaySfizEhJx/blucf8AbpHXW/FD/kmmsf8AXNP/AEYtN006yl5RX3N/5nrS/iUPl+Zm+H/33xY1Runk6baqPfKZzVnUsL8Z9FP97TZx+tVvCP734meIZB0isbJDnuTEDVnxC234seFD/wBMbofmoFYRspTqPyf/AJIiJfxbf3P/AG0b8JVz4FjmH3ZbiZlPqPMb/wCvXIeKRt0v4lD/AKebE/8Aj612XwkGPhjpfuZj/wCRXrjvGR/0/wCIEf8AC82lBh6jAropQUJyfZv8ZXN6X++VPVf+lo9K1+Pd4E1FT/0D5D/44TXA6Qvma18Ol6j+y5M/98CvSNXjVvDN9E4yps5FI9thrzPwi5uNc8BqTkw6ZcMSfTkAVyU6UVQ9m+sbfh/wTnw38KT9f/SWdT8Ufl8PafMOHi1W2ZT6HcaZ4RG/4heMJV+79oiT8QgzT/in/wAinbn01G3P/j1J4JGfF3jFv+ogo/8AHK2krx5fNP8AL/II/wC6P5/nEzNZXb8QvE3+14Zc/qa6L4dpt+H+kH+9bIf0A/pXOeKW2fEnUgON3hKbPv8AvHrqPAIx8PtE/wCvRP5VLjFzVvs/ql/mFf8A3ePy/Jnm90MeG9Vi/hfxwyMPUZXj9K774kwq/wANdWVhnZACPqGFcFcfvLG9t+83j4oD6ZP/ANavRPiEhf4ea0FGT9lY/gOTWrhGVRL0X4m1V2q0/X/I5/SCbn4rW0knzN/wj8DZx0+bP860PG/Hizwcf+ogw/8AHazfCrib4jwSKcj/AIRqAg/8DFaXjnjxN4PY8AanjP1WsoK7lU72f/kqM5fx4r+7+jG/DgZuPFbjkNr9zg+oyK2fG8XmeA9bwOVsZm/8cNZHwzH/ABL9cPrrVyP1FbvixDJ4L1tFxltPnAz/ANc2qnSjJOEtm3+ZhVdsV80cH4PG7xto4/6lizP5AVv+NuPFvg4/9RBh/wCOVgeAnE/jLTHGfl8L2w59jtre8cnHibwefTUz/wCg1PLapUqej+6KOmp/vKXk/wAmJ8Pxv1jxdKB8v9tSoD7jGa5rxugj8T+KwOjeHlb/AMjCuo+HQ/eeKz6+Irsf+g1yvxDkMXiTxKV6t4fjX87hRW0KaVTme6f5sql/vbXkv0PSPDiZ8L2IP8cC5/KvK9LG/wCHPgFfXWWH/kSWvXNGjEOh2SL0WBMfkK8j0Y7vDHhBPTxK3/oTVyUIpYWNPukv/JWZ4Z35/X9JHffEuBJPhvqwYfchDLjthhWF4Mc3XxH1mZuqWlmG9y0Of610XxGGfh1rX/Xuf5iud+Ho3eOPELelpp//AKIFXXgvZWXeL+6USaP+6T+f5xNTXBj4veFz62t0P/Hag+F6b9Ju3PSO+uAPqZDU3iE7Piv4TY8BobtQT3OwcfrR8KOfBRkPLSXk7MfU7zTrQjJQh2af/pTX4hP/AHZPyX5yOP8AFqhNS8eqBgG50nj6jNej65F9q8P66wG4m1ljTPsh/rXm/jg7df8AGIHAb+zWPuQyjNeoXC48KXeerW0pPvlTWWJiqlajStorv7lFL/0r8C67tCm/T/0mJ5/plwoufhjKvISyvB+IgA/mK2fiXAI/h0zMAZDcwMzY55kFc1pOZF+GiDqYr1fzQf411/xWGPh/PjtcQY/7+LTlFVsZGT2jFW9XJ3/9JRc9MRSXm/8A0uRW8OEy+LfFvOGm1GKIgf3Vj6028jWH4vXmAFU+GGP0/fY/pT/Bo3+OfFR/u324f98AVX8TNs+J2Rxv8OXCtjuNzED86VNReJqVpdLJell+smZ/8vWv7v6Iu/C8GXwRpO7pBA2B7s7c/lXIan/yC/FFu38fiiLevqrMpH8q7n4ZJj4faY56tEPyHFcFrTEXPiGIdJfE1opPpwT/AErTCfu3OpLrKTf36fgka0tcRU9f/bj120RZ2mnkAbc+FyOw6VxHidfL+JsDDjzNEus+/H/1q72zTy7KJR/dB/PmuF8Z/uviFpDjrLpd7GfoIyf61jgaKjRpykve3fq07/mziwr/AHjXk/yND4c/vfB2jekNmPzJP9K4nWAP+EF8fxL959cCoPU+bH/hXdfDJcfD/THPVoh+QrhNZOzw943Q8MNfjfHsXXBrbBrllKct5Sk/x0/BI7KP+8T/AMS/9KPR9cgN74Y1qTq728oj+gU4rhvClyq6/wCGpUP3fDBUfUSY/nXot7Hs8K3S/wDTpIfzUmvMPBGZ/EvhuI9F8Pbvrm5IP8q4qMZUMBKa+OUb/wDbzv8ArIyw+tGf9dGdT43txa3Hg+TAyuuQI2ByS2f8Kb4WHm+LvFMH8L6mGb3AQVZ+JDbY/DDeniK0P/odR+CVD+MvF8o5AvwoPvtGa6auHgsKsPDb3V8rq/3pMSf+zX8v/bkdlFB5U8rqflkwceh714R8df8AkebP/sHJ/wCjJK98rlfE/wAO9E8W6nHf6qboTRwiFfJlCjaGJ6YPOWNRXwt6Ps6Xe/3u7/M89PXU+YqK+hP+FJ+FP71//wB/x/8AE0f8KT8Kf3r/AP7/AI/+Jry/7Or+RXMj57r6Yg1OfRvgzb6lZqrT2mhxyxhxlQVhBBI44HU+wrL/AOFJ+FP71/8A9/x/8TXaw6XHa6BHpNpNLBHDbC2ilUKzooXaD8ylScDuCPau7B4WpRcnLqK6ujz/AFHXNd0d9QsI/FJvDFPpMaXtxbwboxcTlJMhECnK4xwMDb7k6GjeI9Rh8U/2PqGqtd29rc3kBup440e5CRQSgnYqrlPMdTtAB28jINX9O+GmiafpMmn5knilnhmk3QwRKwifesflxRpGEyWyAoJ3Nk1uN4a0JtNttPbRdONlaSCS3tjaJ5cLjJDIuMKeTyPWvUlqnb+tv+D95lG99f63/wCAVvBepXGseBtF1K9l864u7KKaSTaF3sygk4AAH4Vxepxp/wAJLf6pGiNrlv4msrOCU8yR2zJBviU9QhR5XKjjJJ6iuwuPDF0ZQNL8TappFoqqkVlY29kIYVAxhQ9uzAcepq82g2L3Md9JDE+qxW/2dNVa3iNyq4IyG24HJJwBtyemOKq65+dL5fNP9LfMqWqa7/1/wfkV/GV/daV4H1vUNPl8q6tbGaWGTaG2uqEg4PB5HeuPvb/xLpep3hbxJPcRWVzpzeS9pABKLmYRyRsQgOxRkrjDAk7mbjHVQeGLsSY1PxPqurWjKyTWV7b2RhmUggqwS3ViOegI/KteTTbGZpGms7eQyFC5aJTuKHKE8c7TyPQ9KSsmmPt8zznS/Ffia68TCWcXMdjPfX1mYpnslt0WHzNhhAf7Q0v7oFgwIwznAAFUn1nxdD4ZOpyeKJjMvhtNZaMWdvt88LzGDsz5TfxA/NnG1lGQfTU0LSI9Xm1WPSrJdRnTy5bxbdBNIvA2s+MkcDgnsKe2kaa1uYG0+1MJg+zGMwLtMP8AzzxjGz/Z6UR0a/ro/wBbfcD1lfp/wV+l0W0O6NSepGaWgDAwOlFIlbBUc/8Aqx/vp/6EKkqOf/Vj/fT/ANCFNbjJKKKKQBRRRQAUUUUAFFFFABRRRQAUUUUAFFFFABTZPuj/AHh/OnU2T7o/3h/OgB1FFFABRRRQAUUUUAFNl/1L/wC6adTZf9S/+6aAHUUUUAFFVdN1Oz1eyF3p04ngZmUOARyDg9fcVapJpq6HKLi7PcKKKKYgpsv+pf8A3TTqbL/qX/3TQA6iiigAooooAKKKKACiiigBsX+pT/dFOpsX+pT/AHRTqACiiigAooooAKKKKAGx/dP+8f506mx/dP8AvH+dOoAzdcvZrCxSW3IDGQKcjPGD/hWF/wAJHqH96P8A74ra8Q2011p6JbxmRhKCQPTBrnP7H1D/AJ9ZPyr8/wA+rZlDGtYZz5bLa9vwOyioOPvFn/hI9Q/vR/8AfFH/AAkeof3o/wDviq39j6h/z6yflR/Y+of8+sn5V4X1nOu9T/yY15aXkdNod7Nf2Ly3BBYSFRgY4wP8ay5fiJ4aiuGgN5cvIHkjVYtPuJPMkjYq8abYzvdSCSq5O0bsbea0fD1tNa6e6XEZjYykgH0wKx9L8KXtjNpjySW5FpqV/dybWb5lnaUoBx1AkXP0OCa/S8rlVlgacqt+a2t97nFUsm7d/wAC7c+OfDtrHZyS6gWivIUnjkit5JESJzhZJGVSIkJ43PtHB54OG3vj3w7p2oSWV1eyieKb7O4SzmkVZdgcR7lQrvZWG1c5YnCgniuMm+FupfYbOFfsty0mkW+m3gbVLy2jTy92W2QlftCkSN8jlOn3vmOOpXwpdJeTyo9uFl1yLUfvNkxrCkeDx97KfljmvUdr6d/1S/K7+RnLTbX/AIb/AD0LU/jzw7b6ba3z3srQ3XmeWsdpNJIBGcSFo1QugQjDFgAp4ODUr+M9BTUGs/trvIvk7pI7eV4l80qIsyhSg3F1xzzz6HHPp4T8QaW0d3pB0y4ut2oRPFdTSJGI7m4MyOGVGyy4UFMAHJ+YYGXW3hD/AIRvwdrFjLJLcRPZwQW8lpA0k+YoEiVgij729dwAyB145qW0lf8Arr/wPv8AILe9yr+v61O0t7yC7edbd95t5fKk+UjD4Bxk9eGHT6dQaq3niDTLB75Lu58ttPtlurkeWx8uJiwVuBz/AKtuBk8fSsbT9Uj8KaHY2muw6hNqE0ZuLprDSrm6TznYtJzEjgfMTgE5xisnW9G1bxO2p3vh3yEtNb01LGX+04p7Sa3MTykERNHlg3mEc7cYDDd0qrK9hX91v7v69DqV8UaS2uHSRPJ9qDFMm2lERcJvKedt8vft527t2AeOKrW3jnw7dQXc0eobIrOHz5HmgkiV4s48yMso81CRgMm4HIweRWc/hjVZfFs9ypt7OwmL+dLbX0+blGj27HtWHlK27afNDbiEAwATjB0z4Z6lb6fLbztbxy2tnHbWVwdVvbrzWSRJAWjkbbAhMSZRA3UgNgYMLbXt/n/wBv8Ar+vQ7Hw54qg8S3mrRWtvLFHp06QhpkeN33RJJ80bqrIRvxgjtnvVjW/E+k+HfK/ta4eIyqzqI4JJSEXG52CKdqLkZdsKMjJ5rEsr268N32o3/ii3k87VZkkjh0eyur9YQkaoQzpFnORnJVc5xjgmsnxRrU0t1Bq/h6y1C4lubKfTmgutHv0KglWEgAhOCDxh9itn767TSbdtP60/zGrdf6/rc3o/iFop1h7GeVo0YW7QTrFI6ss4BQuQmIgSQoLkZPA5BFdTXnUXgvxD9imsQ2nx2eo2dlbXTtI3nW4hQCTaApWQtyBllC/e+bOK9Fq2rNrzZnBycU5LoFFFFIsjl/1kP++f/QTUlRy/6yH/AHz/AOgmpKYBRRRSA/P6iiiukgKKKKACiiigAooooAKKKKACiiigAooooAKKKKACiiigAooooAKKKKACiiigAooooAKKKKACiiigAooooAKKKKACiiigAooooAKKKKACiiigAooooAKKKKACiiigAooooAKKKKACiiigAooooAKKKKACu01//kB3H/Af/QhXF12mv/8AIDuP+A/+hCmI4m4/5Z/7n9TXsP7MX/JQ9T/7BT/+jY68euP+Wf8Auf1New/sxf8AJQ9T/wCwU/8A6NjqJFH1FRRRWBQUUUUAFFFFABRWbqGtCzvEs7axutRu2TzGgtdgMaZxuYuyqATwBnJwcA4OK+p+KLbS7qaOS1uporVFkvLiJU8u1VuhfLAngEkKGIHJ6igDz/VTu+McSDk/2xC2PYWiV2nxGAPw61rIz/o5/mK4e7k3fH6NB0F6rZz1zZr/AIV3PxF/5J3rX/Xsf5itI35k2erU/iUPSJhfD35vGXiRjkn7JpgJ/wC3erHi1vJ+JvhOVujR3QU+4VSf0qr8MQTrXiNnzuxZjJ64EPAqfxywXx74PZuAovifoIlrz8Q39SnNb+zb+fIEv96a/u/+2Fv4Tf8AJL9J/wC23/o564jxi2fEvjGDtPd6UjeoG0Hj8q7n4UoU+GGkBuuJT+BmciuG8XIzeM/E7AfKNQ0oH8Ururc15cvdf+lI1o/73V9f/b0evaqhfRb1EGWa3kAHvtNeUeAnEniPwjtOQulTj/x4165ef8eM/wD1zb+VeQfDv/kYPCv/AGC7n/0M1hU+On6v/wBJk/0OfC/wKn9dGdj8VP8AkUYf+whb/wDodN+Hx3ap4sb11iT+Qp/xUB/4QxZP4Y723ZvpvA/rTfhshCeJjJzINfuUY/7oTFaNS5k+lvxv/wAEUf8Ac36/qjF8cSfZfH19O3IbwrcKAPUOxrs/BMfleA9DXOc2ELfmgP8AWuI+Iwz4vuvbwzc/+hNXdeD/APkRtC/7B1v/AOi1rOP8Sf8A27+X/AHX/wB2h8v1PMG41SW26t/wnscvHUg7iePavSfHf/Iga3/15Sf+g15t5Z/4THzM8f8ACZbcf8BzXp3jNFfwLroYZH9nzn8RGSK3gpJ6rq/zuaYjSpT/AK7HGeBW3eO4P9nw3AP/AB8VsfEM7b7wqfTWYj+hrD+GpM3ixpZPmcaDaAH2IBP61ufENDJe+FkU4LazGAT/ALrVyUVL6sravl/QKmmKS8v0F+Fx3+HdQlP3pdVuXb67h/hXQ+Jf+RU1b/rym/8AQDXPfCsf8UhM45WS/uGU+o34/pXQ+Jf+RU1b/rym/wDQDXXZqWpy1v8Aen6nnnwxPm+KIGHHk+HoIyPXL5rf+Ip2X3haQfeXV0APsVOa5/4U/wDIxSf9gW1roviEnmX3hZP72sRj/wAdasLSnRaW7i/ysddX/fPl+g74bN5lv4kmXlJfEF26n1B281yHxNPl+JteDcGTQYivuBcgfzrrfheCuiasCMEaxc5/MVyHxX/5GvUf+xcT/wBKxVylLlTe/u/miqH++tf10PXLAbdNth6QoP0FeM+HmLWvhCFuUOtyyY9wzYNe0Wf/AB4wf9c1/lXjWgrsn8KRdRFrVymfXDNz+tZVIP8AdpdJf+2yRjhPhn/XSR6N8Rf+Sd61/wBex/mK5/4cDPi7xI3pbacP/IH/ANauk8fRiT4fa2rZwLR249hn+lcx8LGM+t+Ibg4G+HT1x7iA5/nWzu5JdLP84E0v9zn/AF1iaHjFtnxI8FN6Nen/AMhrUnwoH/FAwn1uZz/5ENQ+NF3fELwcPa/P5QqasfCgZ+HNjKOkss7geg81h/SstXXlfblj996g6n+6R+X5zOI8eH/ipPFiD7zrpwUep3LxXrV9Ex8O3MSDLG1ZQPU7DXknjkZ8c62v96fTQa9kvP8Ajxn/AOubfyqkr1XLtp98YseK0p0v66RPIvCbi51D4eRj/ljFePn1+QDH6V2PxXGPh1eyH7sUsDt9PNUf1rivAo/4nfgf0+yXh/Q12vxZ/wCSX6t/2x/9HJSwqu9f5pL7pyRtW0xlNef/ALeyv8PRv1vxXKeT/ajDJ64wKpeL22fEmNjwDoM4B9TuNXvhuP8ASvFDHqdXcf8Ajoqh48IXxzZsxwF0e6JPpXM7rBymt3Hm/C5mv96kvL9DofhuMfDnRv8Arh/7Ma871s51vVoR96bxVZov12tXo/w8Qp8O9FDDB+zKfzJP9a841MFvGc69m8X2YJ/4C1ddVNRcV6ffoXh/49V/1ue1KNqhfQYrz3x8fK8baBI3R7O/RfqIgf616HXm/wAT5PK8SeHJAM7bbUmx9IBSqe5Rny9Iv8Ezjweta3k/yZ0Pw3GPhzo3/XD/ANmNeeeIWzF4yg7zazbIPY5U16R4AjEXw90RQc5tEb8+f615r4gQm88QsOh8QW6n9KdXmivd7r8Wl+p2YfXEVH5/+3I9f1VcaDeqOf8ARpAMf7pryz4bgSeMNExzs8NH/wBKW/xr1q8/48Z/+ubfyryL4U/8jVp3/YuP/wClZpSimox6X/JX/Qxw3+71P66M634nHFp4bx/0H7X+T0fD87tY8XOOjaxJ/IU74mru0vRGH3k1u1ZT6HLD+tR/Db5pPE8g5U6zKufcKuaTv7Zdrfk//tgX+5/13R3FFFFanmhRRRQAVi+MtQudJ8D63qFhL5Nza2M00Um0NsZUJBwcg8jvW1SOiyIySKGVhhlYZBHpQVFpNNnD6tr2qT6pq9jpF+AYYrDy0hMAmzI0hkERl+QyMirtD/LWLqHijxDJBptjplzq0kv2a8mnuIobCO4EkMoj2SiZxCVTJDmL7xAKlQa72Pwn4di0yXTYtA0tLGZQslqtnGInAYsAUxggMSRx1JNOuvDGg32l2+m3uiabc2FqQbe1mtI3ihwMDahGFwCRwKHu/wCun9PzIjotf6/r8PM861vVdU8Q6PLNqepJp0drJpLGwiELxTvJJDIX35ZiN+UUqwHyH71ep3cz29jPNHGZXjjZ1jHViBnH41Wu9C0m+vYr280yznu4U2RXEtujyRr1wrEZAzzis+38O6pDdJLJ4y1u4RWyYZYbEI49Dttg2PoQaTu7paXHHRK+p53q2tavLoIF14ljvVvdIttU2ywRBLWRrqHBGwKTEMkAMSflbLHt6D4Yur3+0dZ0u+1KTVBp88apdSxxpJ88auUby1VSRnqAOGGfUw6F8P8ASdEnu53LajLdnMhuba2jXO4MTshijUsWCkswLEqvPFb2naZYaRZraaTY21jbKSVgtoVjQEnJIVQByearr/Xf9EJX1v8A1ol+epaooopDCiiigAqOf/Vj/fT/ANCFSVHP/qx/vp/6EKa3AkooopAFFFFABRRRQAUUUUAFFFFABRRRQAUUUUAFNk+6P94fzp1Nk+6P94fzoAdRRRQAUUUUAFFFFABTZf8AUv8A7pp1Nl/1L/7poAdRRTZHEcbO33VBJoA4r4RztP8AD+FnAyLiXOO+Wz/Wu3rgfg1Jv8ABQPuXUin36H+td9WGG1ox9DuzBWxdRebCiiitzhCmy/6l/wDdNOpsv+pf/dNADqKKKACiiigAooooAKKKKAGxf6lP90U6mxf6lP8AdFOoAKKKKACiiigAooooAbH90/7x/nTqbH90/wC8f506gCve30NhCJbgsFLbRgZ5/wAiqP8Awkun/wB6T/vio/FX/ILj/wCuw/8AQWrkq6adKMo3Z8/j8xrYetyQtY7H/hJdP/vSf98Uf8JLp/8Aek/74rjqK19hA4f7YxPl93/BO/sr6G/hMtuWKhtpyMc/5NWKxfCv/ILk/wCux/8AQVritKbUIr/T9Ti1PUbi6vNW1S0aCa8keFo0NwY0ERbYNpjXBABxxnHFcdRcrduh9NhakqtCNSW7t+v+R6XPcQ2sLTXMscMS43PIwVRk4HJ96krwW3vrvVvDOprqmsJJEmnxT6pHDrt1PJBcCZCWkBjQWhA80GIMANvC4UmuwvNZvNI1S6W3u7q6t9HkN7tE7yefBcBViDEk7wGabbz/AMsx6VL0dv6/rr6fcb3v/X9eS9fLU9KqOW5ggkhjmmjjed9kSu4BkbBbCjucKTgdgT2rym+urzStSFlf69qA1+1NhHpdqLt8XykL57GLhZgWMoZiG2KoIKYzTZItVkg0u+027mudWuPEWoxwG9upHjjEaXqoqqSVTAGOAM4GcgCmtU2UldX/AK2b/Q9corM8OXFtdeHbSexkuZIpEzm7kZ5lbJ3K5Ykhg2QV7EYAAGK4+T7QuoeJL1NVvv7SXVktdLtzdSGHcIInEXk7thUkuWOMhSxyNuQW1a7f5pfqTfRP+tm/0PQ6KyPDE4uNBid5ZpLnc32oTsS8c2SZEIJO0BiQFBIAxjIwa4vxKl5LrWrXKavqdubfVtNtYEt7x40jSYwrL8gO1twc/eBweRg5NL7SiupS1PR2uIUuI4HmjWaUExxlgGcDGSB1OMjP1qSvIrtrG11XT7bXtdvrPTLO91KE3UuoyI6xjyyqPclvMA3EYO/JIVckHBkg1e6/tDw82rapcNeSW9tssn1KWzujmQjzBbhfLuiy7d4bGwKehNTGSlZrrb8Vf7xPT8fwdj1miiiqAKKKKAI5f9ZD/vn/ANBNSVHL/rIf98/+gmpKYBRRRSA/P6iiiukgKKKKACiiigAooooAKKKKACiiigAooooAKKKKACiiigAooooAKKKKACiiigAooooAKKKKACiiigAooooAKKKKACiiigAooooAKKKKACiiigAooooAKKKKACiiigAooooAKKKKACiiigAooooAKKKKACu01/8A5Adx/wAB/wDQhXF12mv/APIDuP8AgP8A6EKYjibj/ln/ALn9TXsP7MX/ACUPU/8AsFP/AOjY68euP+Wf+5/U17D+zF/yUPU/+wU//o2OokUfUVFFFYFBRRRQAUUUUAcZ4m8PG81q6un8PRa0LuxWCCQmIPZyKXwdzkFVO8HcmWBXp0qK+0PWYrLVNOjt3v21iziga+8xAsUgj8t2kDEMRjDDaGJ5GB37iijyHfW549PEE+PkaAkhbuNfTpZrXdfERAPh3rJy3/Hsf4j6iuIuSG/aEWNSC/2tG2jrgWY5rvPiBGZPh7rag4xaM35c/wBK6JaSj8j1KulSh6RMH4doD4g8Sfe/5c/4j/zwqTxzCv8AwmXhRstz9tjxn+9D/wDWqL4YyC51HxBdKMLI1qoU9sQD/GrPjn/kbvCf/XS6/wDRNTOKlNxls1+gnpi36f8Athb+GKA/DXRyS3+rfox/56NXD+KV8vx9rERyyz6rpDMMnoEYYPrXc/DD/kmmj/8AXN//AEY1cP4u/wCSi3//AGEtK/k1aQ/iS/rqaUP96q/P/wBKR7BJAkkbIxbawIPzmvHfhsnna14WJJJXSrp27cfaGQfyr2avG/hhxr3h5D95NGulYeh+1vxWMYRlG76ar7mvyZhhf4FT+ukjsPimgHgOcgt/x8wdWP8Az1Wl+HiA/wDCU8t/yMV3/Ef9il+Kn/IhT/8AXzB/6NWj4bc6brjHln1u6LHuTkc1f/LoF/uT9f8AIwviLCD4ofYSC3h293EknIVScV2ng+MHwPoXLf8AIOt/4j/zzWuN+JMgt/EivIDtl0C/jXHdth/xrt/CaGLwXokbYJTT4FOPaNaiUEoqXV/pcK/+7Q/rueYQqH8brE2Sh8WysRk9RGMGvTPFsO/wVrapuLNp84A3Hk+W1eaQfL8QFjbhh4qlYj2MQwa9R8S/8ipq3/XlN/6Aa0qfFEvFfxKfy/M4H4bIv/CTfKxIOgWR4yOdoz+tbvjxANU8J8tzrUX8R9DWF8Mv+Ri/7gNnW/8AEP5X8KuOGHiK1XPsd2RUqEYTUY7FVf8Ae16foM+FSBvAsec/8fU/RiP+WhrpdcgSTw/qKNuw1rKD8x/uGub+EnzfDawkP35JJmY+p81q6jWP+QHf/wDXtJ/6Camf8R+pyV/95l/if5nmHwmDPr0hkyP+JPb4wccbiBXT+PUCah4Uc7gv9uQqSWPUhsVznwo/5Dh/7Atv/wChGul+In/Mrf8AYx2n/s9UoKE1FHZW/wB9/rsN+GqB9H1aQbtr6xdMp3EZG4c1x/xVVV8TaoxLYXw5H75zeqv9a7L4Yf8AIr3P/YRuf/Q6434u/u9e1FjyJdAiQY7EXyGqUYzqWl/VmVh/9+a/rdHr0FuIreOMsxKKFJDHnAryDQUEl34Yi5BbXr592f7ozj8c17LXjfh7jVvC6nqut6iCPQ7amns/66M58H8M/wCukj0Px0gHgHWzlv8Ajyk/iP8Adrl/hVGPt2ujnhLLoSP+WFdV47/5EDW/+vKT/wBBrl/hV/yENd/3LL/0RRFL2bf9dApf7nP+usTT8Wxr/wAJ54N6/NPcqfmPQxcj8aX4ToD8L9JJLf8ALboxH/LZ6Xxb/wAj74M/6+bj/wBFUfCb/kl+k/8Abb/0c9DS9nf0/UJ/7pH5fnM4zxxGsfjbVgBnzH058k8gh8V69cweZayom4syMAN55OPrXkfjr5viBdwj70z6cinsD5hPP5V7HRU0jH+uiDFaU6fp+iPHPBCK2peApFYkPZ3wOMjBDMDXYfFhAPhfqxBb/lj1Yn/lslcf8Ovmv/BYbkJp98y+xM7jP5V2PxZ/5Jfq3/bH/wBHJT5IwqJR7/nJs6K3++015/8At7G+AYw994rkXOz+3J0HzEcqFzWT8QIseLrbn/WaLehcknlV3H9K2Ph3/wAzT/2Md3/7JWZ8Qv8AkbdN/wCwTqP/AKJqZQU5OEtmrfgZQ/3p+j/9JOk8CoD4B0Q5b/jyj/iP92vO9SUH4gT2i5C/8JTYSjk9fKYt+dejeBP+RA0T/ryj/wDQa861D/kqM3/Yx2X/AKJatIfFIrD/AMar8/zPYvLHq3/fRrzb4oxn+3tACZP+ian1JP8Ay7ivS686+KX/ACEtC/65X3/pOa51BVE4PqmvvRy4L+OvR/kzpPAqA+AdEOW/48o/4j/drzvWlA1TXbRs/vPEtkGOTwrLkY9+K9G8Cf8AIgaJ/wBeUf8A6DXnWu/8jTrP/Yx6b/6A1dFP45f11OrD/wAep/X2keuXkY+wz8t/q2/iPpXk3wsi/wCKo0wgkg+G2J2n7p+1ng/lmvXp4zLbyRg4LoVz6ZFeRfCKTzNdtWAxjQiv5XTj+lZxipRbfT/Joyw3+71fl+p1nxJQDS9G5b/kNWv8R9TR8Oo1C+KAMgDxFdgAMR/cp3xK/wCQVox9Natc/wDfRo+HXzR+JpB92TxDdsp9R8tP/l3cP+YP+u52KqF6Z/Ek1k6rNJHdKI5GUbAcBiO5rXrPv7CS6nV42UALjnPqa+fzulXrYNxoJuV1scMGk9TL+0z/APPaT/vs0faZ/wDntJ/32at/2PP/AH4/zP8AhR/Y8/8Afj/M/wCFfC/2dmv8svv/AOCbc0Sp9pn/AOe0n/fZrXuNRg0vQZNRv5CkFtbmaV8FiFVcngck+1U/7Hn/AL8f5n/CpNd0xdR8JX2mzRTTia0aIpblBIx24+QuQu7PTcQM9a+kyDDYyhUqPEJpW0uRJxdkjGb4h2lvb3D6hour2U9u9qjWs0UTSE3EhSLbskZTkjnnjPqCBf0vxfaaneRWTWd5Z3rPNHLbXATdA0QQkOUdl5WRGBUsCD1FccnhzxdrFpd3upq1tqE93pvl7oooyi285dpDGk0i7cN93zCWw33cgDeTwTqMN3HqcGuRJq73Us93ObImGVZI0jKpH5mY8LFHtO9uQSQ2cV9hLZ2/rb/gnPFu+v8AW/8AwDpdG1WDXNDs9UtFkSC8hWaNZQAwVhkZAJGfxrmbzxdqNtrs8oW0/sa11SDSpIzGxneSUR4kD7toAeVV2bSTgncOlS6XNqPhLRrHQLfw3rOsx6fbRwC/t3s40n2qBuCyXCsPxH505/CM19q/2yW7MGnXV3DqdxpssAaVbmNUCjzVcqFBjQlQrZZThsHFV7vP5f8ABX6XKls0v6/p2/E6yiiipAKKKKACiiigAqOf/Vj/AH0/9CFSVHP/AKsf76f+hCmtwJKKKKQBRRRQAUUUUAFFFFABRRRQAUUUUAFFFFABTZPuj/eH86dTZPuj/eH86AHUUUUAFFFFABRRRQAU2X/Uv/umnU2X/Uv/ALpoAdUN5/x4z/8AXNv5VNVPV+NEvv8Ar3k/9BNJ7FQ1kkcR8FHD+BZgOqX0gP8A3wh/rXodeb/A91Pgy9QH5hqDEj2Mcf8Aga9Irnwv8CPod+aK2NqeoUUUV0nnBTZf9S/+6adTZf8AUv8A7poAdRRRQAUUUUAFFFFABRRRQA2L/Up/uinU2L/Up/uinUAFFFFABRRRQAUUUUANj+6f94/zp1Nj+6f94/zp1AEVxbQ3UYS4jWRQcgH1qv8A2Np//PpH+VcH8crme18D2b2s8kLnUUBaNypI8uTjIrwb+2dU/wCgld/9/wBv8a6qVKU43TsevhMijjqXtm181c+tf7G0/wD59I/yo/sbT/8An0j/ACr5K/tnVP8AoJXf/f8Ab/Gj+2dU/wCgld/9/wBv8a0+rz/mOv8A1Vp94/8AgJ9e29tDaxlLeNY1JyQPWpa82+BtzPdeB7x7qeSZxqLgNI5YgeXHxk1rWHjq7uNSiF5o0dtpk91eWkd0t4XkL25kyTHsACssTEEMSDxjvXHUXLJp9DxK+H+rVHSXR2Ozoryp/i3NrWj3Y8PLpP2820d5aiHVknKxGVEZZlEZ8qQB1+XDDk4biutXxmY76K0vbJIZBdTW90VnLLAqKCr8qCwbfH2GN3U4qdnZ/wBdDnuv6+86iiuIT4gXkka3S6EPsMC239oP9sHm2zThWULHs+faHQsSy4BOA2Kp33xBvLc2Wo3tvHp2kLq11ZyMk3myXCQx3IOVKAJl4kIwx7g4A5drlJXV/wCtm/0Oo1Dwlp2p30l3c3OsJJJjK22t3kCDAxwkcqqOnYVsQQrb28cMZcrGoVTI7OxAGOWYkk+5JJqKxluZrKOS+t47adhloo5fMC88fNgZOMZ4xnoT1PH2vi7VbDU/Ek2u2sb6Tp+pC3jltpGllhQwRsuYxECwLOOhYguR0XJS6r+t0v1BLm1Oh1TwxYaxdi5u7jVY3CBMWmr3VsmBn+CKRVzz1xn8q0LKzi0+yitYGmeOIYVp53mc/V3JZvqSaWzknms4ZLuBbed0BeJX3hD6bsDP5VyN7431WLV7m1sPD0dzBBqS6Z50l/5TPK8KyKwXyyNmXwxzkYJCseKOtv67fmyfP+u/6HaUV58vjbX77U7AaVo8UsslnfG4sZbsJEstvcJESJvLLH+Lb8ozu5C44vab8QF1jxDZWNhaWi211DFOn2m/EN3IjxCTzI7cr+8jGQpYOMEOMHby+V/18/8AIffy/wCB/mdnRRRSAKKKKAI5f9ZD/vn/ANBNSVHL/rIf98/+gmpKYBRRRSA/P6iiiukgKKKKACiiigAooooAKKKKACiiigAooooAKKKKACiiigAooooAKKKKACiiigAooooAKKKKACiiigAooooAKKKKACiiigAooooAKKKKACiiigAooooAKKKKACiiigAooooAKKKKACiiigAooooAKKKKACu01/8A5Adx/wAB/wDQhXF12mv/APIDuP8AgP8A6EKYjibj/ln/ALn9TXsP7MX/ACUPU/8AsFP/AOjY68euP+Wf+5/U17D+zF/yUPU/+wU//o2OokUfUVFFFYFBRRRQAUUUUAFFFFAHjn/N0P8An/nyr0Tx3/yIGt/9eUn/AKDXnf8AzdD/AJ/58q9E8d/8iBrf/XlJ/wCg10z+KHoj1sR/Fof4YnNfCb7ms/8AXS3/APRC1a+IbiHWfDEx42XUuWHUDyjmqvwl5j1kjp5sAz/2xWpvif8AJP4fkbhBdyIT7mJsUP8Ai/12FL/fWvL/ANtNT4Zo0fw20YNwfJY/gXYj+dcL4r+b4ozQnpNq+koT6Da5/pXf/Dr/AJJ3ov8A17D+ZrgPFH/JWh/2GtJ/9AeiH8SX9dSsP/vNV+v5o9krxv4af8jdpf8A2Dbv/wBKmr2SvG/hqM+PYYE5FrYXY567ftRAP5mpp/BL+u5jhf4NX+ujOy+Kn/IhT/8AXzB/6NWj4a/8gvWv+w1dfzFHxZ4+GOqsOqmEg+h85KPhjz4dvpT96XVLl2+u/H9KP+XXzBf7l/29/kYHxX/5DVl/2CdQ/wDRdd94a/5FTSf+vKH/ANAFcD8Xfk1TSGXrJYakje4EAI/Wu+8Nf8ippP8A15Q/+gCif8OIVv8Adafz/Nnl0PzfGJEPKnW5mx7i3GDXq2uRiXw7qMbfde1lU490NeU2/wDyWVP+w1P/AOk4r1jWOdDvv+vaT/0E06u8fQrF/HS9EebfCWQ3Gs3UknWLSbOJcemD/hXR/ET/AJlb/sY7T/2eua+D3/IUv/8AsHWf/oLV0HxPJWy8OEHBGv2pBHbh6cv4ppWX+3W/rYf8I/8AkmOmf703/o166jWP+QHf/wDXtJ/6Ca5z4WAD4baVgY+Vzx/vmupvP+PGf/rm38qyn8b9ThxD/wBpm/7z/M8u+Dxzql//ANg6z/k1dL8RP+ZW/wCxjtP/AGeuT+Cn/H9qP/Xlb/zeus+JHy2fh+YdYdetHA9Tlh/WtZ/xjur/AO/W/rYPhf8AN4TncfdfULhlPqN55rjfjF/yGrn/ALAqf+lcddl8K/8AkQoP+vmf/wBGtXHfGHnXJ0H3n0ZAo9T9rTinD+MysP8A7+/V/mex143oHz+LdFjXlj4h1RsewjXNeyV434a/5HzQ/wDsNaz/AOikqKWz/roznwfwVPR/lI9J8aRiTwJrqk4xp87ceyE/0rkPhC5uP7YueAJEs1x6EQDP867Hxh/yI2u/9g64/wDRbVxnwY/5Bup/W2/9ELRH+Ewpf7nU9V+aNXx8fL8Q+FZl4dbuZAfQNEc1b+F4x8NNHxx+7f8A9GNVP4g/8hrwv/1+yf8Aos1c+GH/ACTTR/8Arm//AKMah/wl/XcJ/wC5x9V/7ccP43/5Kaf+vnTv/Q2r2SvG/HXyfFBFbrJNp7r9BIwP617JRV+GIYv+FS9P0R438OeNV8Ixn70dhfK49D57f413HxQGfhprGef3af8Aoxa4f4efN4m8PheStrfFgOw84jNdx8T/APkmmsf9c0/9GLVz/ir+upviP99h6/8AtzKnwwYtZ+I2Ykk6/dEk9+ErP+JTi38SaRM3IfTNUUj0C2+7NX/hX82iaxKfvTazcuw7A/KOPyrN+Kv/ACGNG/7B2r/+klJfxf67EQ/31r1/9JZ1vghDH4C0MN1NhC3HugP9a84v/m+KkyDlj4hs2x7CFsmvS/B//IjaF/2Drf8A9FrXmt18nxqkjb7w1i3cj2a3OKVP4pBhv4tX0f5nsdedfFL/AJCOhf8AXK//APSc16LXmnxi+S10uUfeCXifg1u2ail8aObBfx0vX8mdZ4F/5EHQ/wDryi/9BFedaxz45vUPKv4q0xWHqPLfivS/B/8AyI2hf9g63/8ARa15rrfyfEe7h648T6RJn/ehkOPwq6fxS/rqdOG1rVP66o9jrxv4O/8AIatv+wK//pXJXsleN/B3/kNW3/YFf/0rkpU/gkZ4b/d6vy/U7L4n/wDIr23/AGEbb/0Oj4a/8gvWv+w1dfzFHxP/AORXtv8AsI23/odHw050fVpB92TWLplPqNw5/Sj/AJdB/wAwXzOyooorA84KKKKACsXxlf32l+B9av8ASSgvLWxmmhZzgKyoTu+62cYzgjBxg+tbVVdU06HV9HvNNuywgvIHgkKHDbXUqcH1waT2Kg0pJvY4e7+KkGl6zBpeoppiXERtor6NtVVJxJMFI8iJkBmRd6ktlOM4BIxVlPHWtXV3FFYeG7eRLq6urO2kl1Mx7pLd3DFx5R2oVjJBG47uNuPmrVXwaiXkdxFrerRZ8o3ccUscYvXjACvIVQMDhVB8soGAAII4qzaeFbKyks3iluCbO6ubuPcy8vOXLg8dB5hx+Gc1T2fcjZL5f8E5z/hZN3NafbLHQBLaQ6Rb6vdySXuxoopPM3KoCHe6iMkAlQ3PK8ZfcfFLToPGA0bNh5YvIrFt+ool2ZZApVltiuWjy6gtuBzu+UgZInwzjF88H9p3cekf2Xa6cYI5E33UcbSl0lzGcKwdRlCrfe5Hfd/4ROJNcN/a6pqVpA8y3E2n28qpBNKF2hm+XeOAuVDhTtGVOTmny83l/wAH/L8fvKmlqo/1p/mYUvxBvYPDFnrN3p+j6dHfSlYG1LXBbRbACfmdos7yQcKqsMDJZelVbL4galdaidQWyhOjzaRp93FCbn94j3EzITxHz/31j5BgfMcdC/gm1EGkJZ6jqFlJpMbwwzwNGXeJ9u9G3IRg7V5UBhjgiqw+HWmJYraRX2oRQrpsWnALKmdsTl4pNxTO9GJwc4OeQazje2u//Af/AAB6Wt/W6/QTUvGl3b6y+l6bpMV1c/2munxma7MSEm0+0byRGxAH3cAH19qpaV8UbDVPGSaJH9g2TXU9nEI9RV7pZYd24yW+0FEPlvtbcSflyBu41rDwRZ2WoJfSX9/eXa33295bho8yS/Z/s/IVFAGw5wAOfbip7HwpHp+sG8t9V1MWolknj03zlFukkhJdsBQ7ZLMdrMygtkAYGL009Px0FKzWn9b/APAN6iiipEFRz/6sf76f+hCpKjn/ANWP99P/AEIU1uBJRRRSAKKKKACiiigArz3xfLqkmr2c15pN8ba11W2Fn5M0Iif5xlmHmhix5ABUBfXnNehVHNbw3CqLiGOUI4dQ6htrA5DDPcHvQtJJ9gezRwN1FEXutV8tP7aj8QxW8c+AZVjMiKIweoQxEkrwMEnHOa9ALHP3GP5f41WbStPbU11FrC2N8q7VujCvmgdMB8Zxye9W6FpFL+tkv0uD3uN3n/nm35j/ABo3n/nm35j/ABp1FADd5/55t+Y/xo3n/nm35j/GnUUAN3n/AJ5t+Y/xprsdo+RvvD09frUlNk+6P94fzoAN5/55t+Y/xo3n/nm35j/GnUUAN3n/AJ5t+Y/xo3n/AJ5t+Y/xp1FADd5/55t+Y/xo3n/nm35j/GnUUAN3n/nm35j/ABpsjHym+Rh8p9P8akpsv+pf/dNABvP/ADzb8x/jWfr0zR+HNSdYzlbSUjOMcIfetKszxM4j8J6u7cKtjMT9PLNTP4WaUtakV5o4T4IMU8NaihUlvtYYjjoUXFembz/zzb8x/jXm3wYQx6bqavw26BsexiBFel1z4T+BE7s1/wB9m/62Q3ef+ebfmP8AGua8ceILvw/o1rc2QVHlvYoXaQAgK2c9/aunrzv40z+R4QsWB5/tGNtufvAI5/wq8RJxpSkjLAU1VxMISV02ehbz/wA82/Mf402Rj5TfIw+U+n+NSU2X/Uv/ALprc4g3n/nm35j/ABo3n/nm35j/ABp1FADd5/55t+Y/xo3n/nm35j/GnUUAN3n/AJ5t+Y/xo3n/AJ5t+Y/xp1FADd5/55t+Y/xo3n/nm35j/GnUUARxsfKX5GPyj0/xp28/882/Mf40Rf6lP90U6gBu8/8APNvzH+NG8/8APNvzH+NOooAbvP8Azzb8x/jRvP8Azzb8x/jTqKAG7z/zzb8x/jRvP/PNvzH+NOooAjRjtPyN94+nr9acGJPKMPc4oj+6f94/zrjvh3rNzrP9vvdXLziPVJRCrtny4z0Ueg9qiU0pKPc2hRlOnKoto2/En+InhCfxr4eg061uo7V4rpZy8ikggI644/3q83/4UDqn/QatP+/TV7pRXRGtOCsjrw+ZYnDQ9nTdl6I8L/4UDqn/AEGrT/v01H/CgdU/6DVp/wB+mr3Siq+sVO5v/bWN/m/BHJ/DvwhP4K8PT6ddXUd08t004eNSAAURcc/7taEHhLT4EtE3zutreXN4quykM8/mb1bjlf3rYHXgZJ77lFZSk5Nt9TzK1WdabnPd6nLR+BIV0u50+TXNYmtZIFt7aOSaMrZorbl8sBAGIwo3Sb2woGeTme+8FadqU1/JeT3UjX8MUU3zqANhB3qAvDNhQx9FXAFdFRU9bmRzuo+C7HUdVN295ewwStE9zYQyKILpojmMuCpYYwvCsoYKAwI4qWLwjp8Udkm+d1s764vkVypDvN5u9W45X982B14GSec7tFC0Vh3OYig8S6HDHpuhaXpl7p9soS3mv9Zljl2dlKrbMML90HcSQASc5p8fg62n1C5vtSlmkW+lS6uNMLpJaicRLHkHy1dhhRwxxkBtoIGOkop3YttjnD/wlOmbbPSdN03ULOFQsVxf6xJFMw9GVbZhx0zuJIAJOSani8MwOTcXJkjuJb9NSlSOUOizLGqbVJUEphe4BPt0rcopef8AXf8ANCstv67HKS/D+yMsc1pqmp2U8Yu1EsDx7itzMJpV+ZCMbgADjIHfPNWofBtpbXVp9nvr5NOtPKMOlF0a3Ro1Cow3KZFwFU7Q4XIyRknPQ0U7sb1bb6hRRRSAKKKKAI5f9ZD/AL5/9BNSVHL/AKyH/fP/AKCakpgFFFFID8/qKKK6SAooooAKKKKACiiigAooooAKKKKACiiigAooooAKKKKACiiigAooooAKKKKACiiigAooooAKKKKACiiigAooooAKKKKACiiigAooooAKKKKACiiigAooooAKKKKACiiigAooooAKKKKACiiigAooooAK7TX/APkB3H/Af/QhXF12mv8A/IDuP+A/+hCmI4m4/wCWf+5/U17D+zF/yUPU/wDsFP8A+jY68euP+Wf+5/U17D+zF/yUPU/+wU//AKNjqJFH1FRRRWBQUUUUAFFFFABRRRQB5E8X/GTcbIv/ACz3Of8At1I/wrvvHf8AyIGt/wDXlJ/6DXD/APNy3/bv/wC0K77xiAfAuu5Gf+JdcHn/AK5tXRP4oeiPUrv95R/wxOT+D3/II1b/AK/R/wCikqf4q/8AHvoP/YSH/otqp/BMlvDmoMxJJuUJJ7/uUq18YHEXh7R5G+6uswMfoEkpv+MXL/f7f1sbfw6/5J3ov/XsP5muB8X/AD/GiwiH3jf6c4+il816B8PUMfw80UN1+yqfz5/rXn3ir/ku2m/9fNn/AOzUQ/iS+YYf/eavpL8z2SvHPhjx8S7tT1XTrkEeh+2V7HXjfw1/5K9rX/Xtdf8ApUKmn8EjHC/wavodl8Wf+SX6t/2x/wDRyUfDD/kV7n/sI3P/AKHR8Wf+SX6t/wBsf/RyUfC35vBZmPWa9uJCPT94Rj9KP+XPzBf7j/29+iOf+MbrFe6LJIdqfZNRTd/tNAAB+Jr0Hw8jR+F9LRxhls4QR6HYK85+OX/Hvo3/AG8/+ixXpej/APIDsP8Ar2j/APQRRL+FEK3+6Uvn+bPKLDn47wqeR/aV6ce4tlxXrt5/x4z/APXNv5V5DbcftGIBwPtM5x7/AGQV7BPGZbeSMHBdCoJ9xRW3j6DxvxU/8K/NnkvwU/4/tR/68rf+b103xUOzRdHm7w6zbOB2J+b/ABrl/gW4uLjWJBx5MFtFj1/1nP6V0Xxi/wCROtP+wjD/ACarl/HOisv+FG3p+RofC3/km+lf7jf+hmuovP8Ajxn/AOubfyrnfhx/yT3Sf+uArpLhDLayov3mQgfUisJ/Gzza7/fyfm/zPJfgp/x/aj/15W/83rrPiV/yC9F/7DVr/M1yXwMcXFxrEi5HkwW0WPX/AFhJ/Sut+JX/ACC9F/7DVr/M1vP+MehiP9/+78g+FXPw/tnH3XnnKn1HmtzXG/GP934osGH/AC1swjZ7ATqa7L4Tf8kv0n/tt/6OeuN+M/8AyMmlf9e3/tZKIfxn8x4f/kYS9WeyV454e+X4k6ZCPuw+INaRT3I8lDz+dex1454X/wCSsY7DW9XI/wC+I6iltL0OfB/BU9H+TPSvGH/Ija7/ANg64/8ARbVxnwY/5Bup/W2/9ELXb+Ko/N8HazGTgPYTrn6xtXC/BBzPoepz4wvnRRj6pEoNEf4TCl/udT1X6Gp8S5Ps1z4cusbvLv2Xb0zmNu/4Vp/DWPyvhvoy5zmEt09WJ/rWT8Vf+PfQf+wkP/RbVs/Dr/knei/9ew/maH/CX9dwn/ucfX/M4Dx783xh0qHtNLYoT6fvmP8ASvZK8b8d/wDJatD/AOvmw/8ARr17JRV+GPoGL/hUvQ8b+Gvy+MtOjP349Pu1Yeh+1Hiu4+J//JNNY/65p/6MWuH+HX/JQo/+va8/9KK7v4lR+b8N9ZXOMQhvyYH+lVP+KjfEf75B+a/MofCn/kXdS/7C1x/7LWZ8XOJtJYcN9l1EZHXBtjkVofCSQS+F7+RRgPqk7AH321mfGiTyLDS5gPm/0qMH2aBgaF/GJh/v7Xr+TO18H/8AIjaF/wBg63/9FrXmuof8l4m/7CNl/wCkrV6b4Vj8rwbosec7LCBc464jWvMbnn9ot1PI+0wHHuLQ4pU/il6MWF/i1v8AC/zR7JXmvxl/5B2m/wDb1/6TtXpVeafGf5NI06Vvuh7hPxaBwKij8aObA/7xH5/kdl4P/wCRG0L/ALB1v/6LWvNNY/5LJc/9hrS//Sd69L8H/wDIjaF/2Drf/wBFrXmuo8/HadDyp1OxbB9RbNg1dP4pHThf4tX0f5o9jrxv4NfP4kvQeBb2RijA7Kbh2/nXsleN/Bj/AJGTVf8Ar2/9rPSp/BIzw3+7Vvl+p2XxR+XwhHKfuw31u7fTzAP60fDD/kV7n/sI3P8A6HR8VP8AkQp/+vmD/wBGrR8Lvm8HvN/DNfXDqPQeYR/Sj/l18w/5gv8At47KvM/iP8SdV8HeI4NP061s5opLRZy06uWDF3XHDDj5RXpleI/GfRNV1LxlaTadpl5dxLYIpeC3d1B8yQ4yB15H50qKi52kLL4U517VNrFP/he3iL/oH6X/AN+5P/i6P+F7eIv+gfpf/fuT/wCLrif+EU8Rf9ADVP8AwDk/wo/4RTxF/wBADVP/AADk/wAK7vZ0ux9F9VwXZHbf8L28Rf8AQP0v/v3J/wDF17VoeoPqXhrTtSuQkb3VpFPIF4VSyBjjPbmvl/8A4RTxF/0ANU/8A5P8K+gJ7CSb4K/YJ5Y7GQ6EsUjXbeUkR8kAiQn7o7HPQZrlxMYRjeJ5WZUaEIx9klq+ht23inw/e2bXdnrumXFsm0NNFeRsg3EquWBxyQQPUgirFjrWl6nBbzabqVndxXIYwSW86yLKFOGKkH5sHg46V5Hc6lF4ng1HV9O0qF7aW+0WJYUuIZUmeO5JZPMiZoywBUfeIAK7scgdLa6X4gsteHiBNDlcXd7cOdPWeES2qSQworOd+w/NCWbYxPz8bjmuWWib/rp/n+B4EZXf9ef+R6Bb3MF5bR3FpNHPBKoeOWJgyup6EEcEViTeMLKDxAdMa2uyiTpay3wVPIindQyRHLb9xDLyFK5YAkHisfw34l0Dwn4U0nQ/E/iDRtM1axsoYrq0uNRhV4nCDIILVWudF1HUtUmtrS2E+lahrFprMeqRTxtEscYibZjdvLFoeNqldrA7hjFVZc9r6f8ABX6XfyKlonb+v60+89AoooqQCiiigAooooAKjn/1Y/30/wDQhUlRz/6sf76f+hCmtwJKKKKQBRRRQAUUUUAFFFFABRRRQAUUUUAFFFFABTZPuj/eH86dTZPuj/eH86AHUUUUAFFFFABRRRQAU2X/AFL/AO6adTZf9S/+6aAHVj+Lv+RJ1z/sHXH/AKLatisLxuSPAetY4/0KT/0E1FT4H6G2H1rQXmvzOV+E3+s1X/r30/8A9JhXo9ee/DgY8Ra8BwBZaXgD/r2r0KscL/CXz/NnVmTviW/KP/pKCvMPjlIB4c02PHLXZbP0Q/416fXmHxojE9rpMLZK/wCky8eqRZFLF/wJF5T/AL7Bvz/JnpFjIJtPt5ASweJWBPfIFSy/6l/901R8PyGXwzpkhIJeziYke6Cr0v8AqX/3TXTF3SZ581abQ6iiimQFFFFABRRRQAUUUUANi/1Kf7op1Ni/1Kf7op1ABRRRQAUUUUAFFFFAEEkwtrOadvuxh3P0GTXmXwPkc2GsrKPm86KQn13Kf8K7rxTP9m8FazMOq2c+367Wx+tcj8MIPsWtatbkYL6fpsmB/wBe/wA36muOp/vEPn+K/wCAeth0vqNbzt+DX+Z6RRRRXYeSFFFFABRRRQAUUUUAFFFFABRRRQAUUUUAFFFFABRRRQAUUUUARy/6yH/fP/oJqSo5f9ZD/vn/ANBNSUwCiiikB+f1FFFdJAUUUUAFFFFABRRRQAUUUUAFFFFABRRRQAUUUUAFFFFABRRRQAUUUUAFFFFABRRRQAUUUUAFFFFABRRRQAUUUUAFFFFABRRRQAUUUUAFFFFABRRRQAUUUUAFFFFABRRRQAUUUUAFFFFABRRRQAUUUUAFdpr/APyA7j/gP/oQri67TX/+QHcf8B/9CFMRxNx/yz/3P6mvYf2Yv+Sh6n/2Cn/9Gx149cf8s/8Ac/qa9h/Zi/5KHqf/AGCn/wDRsdRIo+oqKKKwKCiiigAooooA4D4kvqU+k6hDJp14+mQ24kSW3liVZJM5zJmRW2r/AHQpyeT0xUfiBIbuPxNfX0Gy/sLKGSwMoUy2pKFlKEE7WMmQSvUrjJxXfz28N1A8F1FHNE4w8cihlYehB61Bc6Vp95dQXV5YWs9xbnMM0sKs8Rzn5SRkfhQHW55kFlX9o2F5AN8lmGxn/phg/qDXe+MC/wDwg+u5Vcf2dcfxf9M29q4uVGb9o6Er0SxJP08sj+tdt4w/5EbXf+wdcf8Aotq6J6yj6I9Gt8dH/DE4z4HFm8G3suAWN+UOTjhYo8VN8ayw8DW8hADR38bIQc4O1/8AGo/gV/yI15/2EX/9Fx1Z+NUe/wCHpbOPLu426dfvD+tP/l/8zd/8jL5nQeBS/wDwgOiYVcfYo/4v9n6V534q3H46abwN32iz4z/vV6N4E/5EDRP+vKP/ANBrz7xNHs/aG0Zs53rE30+8P6UU/jl8ycN/vFX0kevZk/ur/wB9f/Wrx74cq6/GTxGiqCsCXUWSev8ApIP+Nex15F8Of+SyeLv+ulx/6UVFP4ZGOF/g1fT9Trfimjy/DPV1IVQFjbIOekqH+lQfCaV5fh5ayKigPPM2C3TMje1W/if/AMk01j/rmn/oxarfCKMp8MtOYn77zMP+/rD+lP8A5c/MF/uD/wAX6HOfHXcml6RMQAwllQc5GGQA/wAq9J0cv/Ydj8q/8e0f8X+yPavOPjyD/YWknt9pb/0GvStIBXRLFWBBFvGCD2+UUS/hR+YVv9zperPJtPLf8NJ3XAzl+M/9MBXseZP7q/8AfX/1q8e07/k5W6/4H/6IFex0Vt4+iHj96f8AhR438Ai3/E/2gH/j26nH/PWuj+MbFfBtq0m1VGowknd04b2rB+BShLvxKiDCq8AA9BmWt342IX+H4I6JeRsfphh/WtJf7wdVbXM/mvyRtfDoSL8PtIG0f8e6nk4/pXTZk/ur/wB9f/WrA8Bf8iHo/wD16Rf+gCuhrmn8TPKr/wAWXqzxv4BFv+J/tAP/AB7dTj/nrXWfFiV4PBkcx2r5d9A4Yt0w1cp8Af8AmYP+3b/2rXS/Gf8A5J3L/wBfMX8zXTP+P9x6lfXM7ea/JF/4XxvD8NNIUIACjt8xI6yMfT3rifjMW/4STS9wA/0bsf8Apsteh+AI/L+HuiLnObRG/Pn+tcH8Y1H/AAlnhg4++xVv9oeYhwamn/GfzIwrvj2/OX6nrmZP7q/99f8A1q8c8Mll+LhQgbxrGqttJ7FExXsteN+GP3nxyvVbpFeXzr9SFH8qmltL0McH8FX/AAs9P8SF/wDhFdWyq/8AHlN/F/sH2rgvgSW/4RXUdoB/03ucfwLXf+Jf+RU1b/rym/8AQDXA/Aj/AJFXUf8Ar9/9kWiP8KQUv9yqeqNH4rlksNDmkCqi6oik7u5R8dvatn4eeYPh3ovyj/j2HU+59qwvjVx4OsJT9yLU4nc+g2SD+tdL4E/5EDRP+vKP/wBBof8ACXqE/wDco+v+Z5z473f8Lp0PIAP2iwwM/wDTV69jzJ/dX/vr/wCtXkXj1Ff47eFwwyNlsfxE8hFev0VPhj6Cxf8ACpeh418OtzfFS/gQAC0ivMKT0BuQMfme9d98RC//AArvWcquPsx/i9x7Vwvw/jMfx08UqecrdNx73CH+td58Rf8Aknetf9ex/mKqf8VfI3xH+90/+3TE+DJf/hXcW0KR9pl6n3HtWb8cyy+G9NlwAwumQYOeGjbNanwY/wCSdxf9fMv8xVD47Rg+DLGTPK6gq4+sb/4UL+P8xw/5GX/bzO48Nl/+EV0nCr/x5Q/xf7A9q8vuC3/DRb8DP2mHjP8A06GvUvDX/IqaT/15Q/8AoArzO5QN+0vAnRWAdsdytq2KVPeXozLC/wASt/hkeu5k/ur/AN9f/WrzL44yNH4Y09mUc3ZXhvWJx6e9en15d8d/+RV07/r9/wDZGqKP8RGOA/3mB3PhVHi8G6NGArbLCBc5xnEa+1eZX5Zf2jIosArLLFKyk/xLbkD+depeGv8AkVNJ/wCvKH/0AV5ncqH/AGmrYMMjZn8RbMRV0/il6M3wr/eVX/dkeu5k/ur/AN9f/Wrxz4Nbl8UaugA3pBtYE4wfObivZa8d+Dqk+NvErY+UEgn6yN/hSp/BIzw3+71vRfmdd8Uy/wDwgc+VUD7TB0b/AKar7UvwoLn4badKFUmV5nY7sc+c/t7UnxbQN8MdTY5yjQsMevmoP61a+GSGP4baOGGD5TH8C7H+tL/lz8w/5gf+3v0OpUt/EAPoc0tFFYnnhRRRQAVX1DULbStNudQv5PKtbWJpZpNpbaijJOBkngdqsVmeJNKfXfC2qaTHKsL31pJbrIy5CFlIyR360FRs2rmd4l8a2HhyElop7uZJ7WKSGCCV2RZ5Niv8iNn7rHHcgLwWGYG8cwrcRxiKAo4nzN50m1TFdJb7SPK3ZJf0wCMZI+asu68L+J9RW/vbtNJjvpn054baO6kMQNrOZGVpDED8w6HYcE4xxktbwFqjKn7+zysl05+dv+WuoJcr/D/cQg++O3NXZJfN/lp+JGvs79br89Toh420MalLY3Et5aSxRSzM15p1xbx+XFje4kkjVCBkcgnqPWs/UPiRpFrpJvbSG/uSl5bW0lu+nXMUqCZwofy2i3kYyQduGI2g5NVItG8Yyx6yZ4tItNS1C3kij1e31CWR4cBvJVYmgAVVLZPznks3JNZ8HgTXorbUJlFqLm4l0+eGC41i6uwGtpzIytPKhfDDGMLgEkbeNzTCza5vL89fwK6nTSeOtGs7FLjUbjYZJ7iJEtYJrhsQyMjuVWPcqrt+ZiNqk43EEEyT+OfDtvqUdjJfs0rvEgeO3leJTLjyt0qqUUPuG0lgCeB0NYUfhPxDpbRXeknTLi7zqEUkV1PIkax3NwZkcMEYllwAV2gHJ+YYGVtPh/dad4em0q2uYJAJtNMUr5Uslr5O7cAOCfKbAGRyORRpf5/5/wDA+/yB/E0ttf8AgHeUUUUhBRRRQAVHP/qx/vp/6EKkqOf/AFY/30/9CFNbgSUUUUgCiiigAooooAKKKKACiiqGp65pejeV/a1/b2fnZ8vzpAu7GM4z6ZH50m0ldlRjKTtFXZforNsfEeianOsOn6vY3MzglYorhGc46/KDmsC1+I+l/wDCUatpGqyQ6eLFwsU0s3yzY4bqBgg4457+lQ6sFa73No4atO9ovTV/kdjRWddeINJstJi1O6voY7KbHlzk/K2RkY/Kqlp408N308cNrrVnJLK4jSPzAGZicAAHrkmm6kE7NkKhVauou3oblNk+6P8AeH865TVPH1no3jiLQtSWO3tpLbzftjyYCuc4UjHAwp5z1Ira/t7SptHk1OG/gksYW/eTo+5VwRnJH1pKpBtpPYqeHrQUZOLs9vmadFcnD8S/DM2qy2Zv1jjQfJdyDbDK38Sq3qMj8+KPF3jePwpqOixzQpJa6hI4mm3f6pRt+YDv9/P4VLrU1FyvojRYPEOap8ju9vuudZRWbpviHSNYFwdLv4bsWwBmMTbgmc4/kfyrOh+IHhScfJrtoOM/OxT/ANCxV+0gtboyWHrNtKD030Z0dFZ8+vaXbaSuqT38CWL423Bf5Gz0we9QaX4r0LWrs2ulanBdThS+yMnOB1P60+eN7XF7Go4uXK7LyNemy/6l/wDdNYVz458M2d1LbXOs20c0LlJELHKsDgg/jVq28R6RqWiXOpWV9HLZQblkm5CqQMnOfYikqkG7JoboVormcXb0Zq1z3j2Qx+ANZYDObVl/Pj+tRy/EPwpFbPMdbtnC/wAMZLOfooGTWf4p17T9e+Fer3+mys9uYjGGZCp3BgMYPPU1lUqQcJJNbM6cPh60K0JTg0uZdPMreD0+weOry1/5+tGs517bgi+Xn3rvq8m8a6zfeDNV0DW7GCOSaXSzZssuSuFKMQcEHv613XiXxhpvhrShcXkwWeeF5LWEqSZWUD5eOByy9+9Z0akYKUXpb9dTfFYerVlTqQV+dWX/AG7ozfrzv4lJ9o17SIUPI07VC2ewNtgH866DwV4kufEOmTrq1stpqlnMYrq3VSAp6qQCScEe/UGue8TX1nqXxDt7SCZJXstMvBOqnO1mjxtP4U60ozpK3Vr8xYOlOjimpL4VL8n/AJnV+DZPM8DaIwGMWEK/kgH9K2Jf9S/+6a5Hwrrdjovwx0a81i6W3g8hY/McE884HHsK09M8YaDr88tppGox3M6xNIUVGGFGATyB3IrWnUjyxTetkc2IoVPaTkouyb1tpv3N2iuW8YeMY9Dj/s7TClxr1xsW1tCpOS7YBJ6Y4PeptC8W2974LXW9UYWpt1KXo2E+VIpwwwMnrzj0NP2sOZxuR9VreyVW2jdl3+46OiufsvHXhnUb+CystXhluJziNAG+Y+mSMA+xp/ijxKPD1vbJBaSX+oXknl2tnGcNKRyxzg4AHf6U/aQ5ea+hP1etzqm4tN99PzN2isXw/wCKbHxDbztAs1tcWhAura5jKSQE54YH6Hn2qhJ8SvCMYlzrULGIZIVHOfpxz+FHtadk20NYWu5OCg21vodTRXN6l4xt7fwKfEVnE7iaMfZYpF+Z3Y7VBAPrz16VF4R8ZJrm7TdUVbTXrcutzZqrYG043KTkY5Hc/wBaXtocyjfcf1Wt7N1LaJ2f6/d3Oni/1Kf7op1cxL8QvC1lM9rdavHHPAxjkQxv8rLwR931FaFr4o0e+0O61eyvVnsrUN5siqRt2ruIwQOcEfnTVSDdk0S8NXik3BpPyZr0V55ovxSjW3mTxbbGwvGCS2kFvE7m4icZTA559ckDntzXUad4t0vUfDsmt75LWyicpI1ym0oQcHIGe5qYV6c9maVcFiKT96Pl5O/bubdFct/wsvwh/wBBuL/v2/8A8TVzxV4ssPCunGW8k/0mWNzawbSTM64+Xjpyy/nVe1p2cuZWRP1WvzqDg7vbRm7RXN+C/Ed5r1hcxaxaraarYzGK6gQEAZ5UgEngj37GlufiB4WtL+WyuNYhSeF9kilWwrdxuxj9aSqw5VJu1weFrKo6ai2121+enQrfEebyPhtrD+qBOn96QL/WqugQ/Yfidqlr93Ol2xIP8W35c/0pPH11BqXgqz+ySrNBqGoW6RupyGBkzkH8KsR/uvjRKvabQg+fQifGKwnrWT9P1O+knHCOL6834cn+TOvooorsPHCiiigAooooAKKKKACiiigAooooAKKKKACiiigAooooAKKKKAI5f9ZD/vn/ANBNSVHL/rIf98/+gmpKYBRRRSA/P6iiiukgKKKKACiiigAooooAKKKKACiiigAooooAKKKKACiiigAooooAKKKKACiiigAooooAKKKKACiiigAooooAKKKKACiiigAooooAKKKKACiiigAooooAKKKKACiiigAooooAKKKKACiiigAooooAKKKKACu01/8A5Adx/wAB/wDQhXF12mv/APIDuP8AgP8A6EKYjibj/ln/ALn9TXsP7MX/ACUPU/8AsFP/AOjY68euP+Wf+5/U17D+zF/yUPU/+wU//o2OokUfUVFFFYFBRRRQAUUUUAFFFFAHjmsS6xd/Hq6h8MS2cF/BaLHvvVZoyPLVjwvPRhWxrtl8S38O6kuoaj4ca0a0lE6xQTBymw7gpPGcZxUsqKv7QsJVQC+lEsQPvHkZP4AD8K7PxL/yKmrf9eU3/oBrt9tyqMVFbLdHfWfv0vRHknwvtfGzeFpn8LXejQWTXbllvopGcvtQEjbxjAH61Y+I1r48XwdM/iS80SewSVC62UUiyZzgHLcYya6L4I/8iDJ/1+yf+gpVz4wf8k1vv+ukX/owVft37Tk5V92v3m0n/wAKP/bxj+GbL4kjwrpf9mah4djs2tI2gWeGUuEKgruI4zg1yWuw+LV+Lmlpf3WlNrZRPIlijcQAZbG4Hn16e1eyeD/+RG0L/sHW/wD6LWvP/EKK/wC0RoYYZH2dT+IEhFKNdttcq08hYZ/v6j8pG79k+Kv/AEE/DH/gPNXBeFYfF7fErX00m70mPVl8z7XJcRuYW/eDOwDkc469q95ryzwPCY/jV4s7rhyTjoWkU4/z6Uo4htN8q08jHC/wqvp+qIPG9t8Qk8F6i2u3+gS6eEXzktYZRIRvGNpPHXFReAbfx/J4H09vD19oUWnHzPJS7hlaUfvG3ZK8fezj2xXafE4E/DXWMDP7pTx/vrUXwoRk+GGkBhg4lP4GZyKPrD5OblW/bQf/ADA/9v8A6HnfxTg8ZRaDZnxXd6RPbG5/drYRSKwfaeTu7YzXaW9p8UvssXl6l4ZCbBtDW82cY4qj8do8+DbCTP3b9VxjrmN/8K9Is/8Ajxg/65r/ACoeIaipcq+4VX/dafrL9DwqytfFyfGa9igu9JGveVullaN/s5BjU8D72dpH45rv/snxV/6Cfhj/AMB5qxbEE/tKalgZxbAn2/cR16tRPEONvdW3YMbvT/wxPBfhlaeLzNrTeGLnSrdxKi3Qv45Gyw3427enVs59q0/iRb+Oo/B8jeJr3RJrHzkyllFIsm7PHLcYrW+Df/H/AOKv+v1f5vWn8Z/+Sdy/9fMX8zVOs/acnKvu1+86qjvmKfmvyRl+F7P4kDwvp39l3/h6OzNtG0CzwylwhQFdxHGcEVrfZPir/wBBPwx/4DzV0Pgz/kSdF/7B9v8A+iUrbrN4lp25Y/cjy638SXqzwD4V2vizzNYTwndaXAUaJbk38bsGPz7du3/gWc+ora+I1p47Hg2Z/El7oc1gksZZLKKRZM7sDBbjGTV74H/8zF/18R/+z1v/ABg/5Jrff9dIv/RgrR1mqnJyr7tfvPVrP/hST84/kjL0Gx+JcfhzTV0/UPDiWgtYhAssEpcJsG3cRwTjGfeuO+I0Pi2PXtCHiS60qa5Zz9kazjdVU7l+/u6846e9e4aNF5Gg2EQXb5dtGu09sKBivL/jJ/yNfhb/AK6N/wChpShXcp8vKvuMcE74u/r+TOh+yfFX/oJ+GP8AwHmrgPDNh4uuviXrD6Zc6Wmq2jym4lnjcwFmYBtoHPOOM9hXvdct4X8MT6L4o8SalceXs1O4SSHa2SFG4nPoctUrE6P3V9xz0KihTqJ7tW/EwdVsfidJo96l5qXhtrdrdxKI4JgxXac498VynwttfGknh26l8KXejwWpuysgv45GcuEXpt7YIr2bWP8AkB3/AP17Sf8AoJrgfgV/yI15/wBhF/8A0XHTWIbg5cq+40p/7nU9UZPj/TvH0vgy8fxDe6FPYwlJJEtIpVk+8AMFuO/5Ve8LW3xHbwnpjaVqHh5LI2yeQs8EpkCY4DEcZrvfFGmSaz4U1PToADNcWzpGGOBvx8uT9cU7w1p0mk+FtM0+4x51taxxyYOQGCjdg+mc0vrPu35V9xk6ieGUOvNf8DxXxTD4tX4p6Gmq3WlPrJSH7LJBG4gUeY+3eDyfm3Zx2xXoP2T4q/8AQT8Mf+A81c946/5Lv4X/AOudv/6Okr12nOu4pPlWvka4v+FS/wAP6ngvhu18XL8Vtbi0y60mPWhFI11JNHIYGBdC20DkHJXr710njC2+Iq+D9SbWb/w/JYiEmdLaGUSFc/wk8Zq54bh8v49+Jy2Cws0wQezCI/4V1fjv/kQNb/68pP8A0Gm67UkuVa26GlaV8RTflH9Dzn4dWnjs+DYH8N32hw2DyyFUvIpGkB3YOSvHUVW+J9p42XwrE/iq80aezS7QqtjFIr79rAEluMYJ/Su2+D//ACTWx/66S/8Aow1V+NcZf4fbgcbLuNj78MP60/bv2nJyr7tSov8A4Uf+3iLSrH4nR6NZJaal4bEC28YiEkExYLtGM++K4mWHxb/wuyGNrrSv+Eg2fLMI3+zY8g9R977mR9a9x0f/AJAdh/17R/8AoIrzCRC/7TMRHRIdx/8AAYj+tKNdyb91aLsRhPiq/wCGRv8A2T4q/wDQT8Mf+A81cX8UrfxpH4Ytm8V3ejT2n2xQi2EUiuJNj4JLcYxu/HFe4V5r8df+RGs/+win/ouSlDEOUkuVfcY4H/eYeoui2vxNOg2BstR8NrbG2j8lZYJiwTaNoOO+MVxrW3i5vjUqG60n/hIFi3Cby5Ps+PJP8P3s7Tj617R4a/5FTSf+vKH/ANAFcIYUP7RgfHIsN/1Ozb/KnHENt+6tPI1w7tOr/hkaX2T4q/8AQT8Mf+A81effDmHxbJr2ujw3daVDcq4+1teRuysdzfc29Oc9favfa8l+EUfleM/FsYOQk4XPriSSlHENxb5Vp5E4f/d63ovzIvH1v4/j8D6g3iG+0KXTh5fnJaQyrKf3i7cFuPvYz7Zq34TsviMvhHTP7H1Dw/HYtbq0C3EMpkCnkBiOM810XxZ/5Jfq3/bH/wBHJWz4OTy/A2hqF2/8S+DI9/LXNH1h8nNyr7iW/wDY0v7z/JEXhmHxVF9q/wCEuudLnzs+z/2fG67eu7du/wCA4x71vUUVyTlzy5rW9DiCiiioAKKKKACiiigAooooAKKKKACiiigAooooAKjn/wBWP99P/QhUlRz/AOrH++n/AKEKa3AkooopAFFFFABRRRQAUUUUAFcX4jtbe8+J3hqG7gjnia3uiUlQMp+UdjXaV5X/AMJAIviHaz3qXdz9ha/h+SMuTmd9uwdwFwp9MYqZUZ1rRgr6r80deGnGm5Tk7aP8Ys277TLDTfir4cOn2VtaebBdb/IiVN5CDGcDmq3hzSLHVYvGFxeWdtNMNWu4Y3lhVymFXkEjI9fwqvrXim0ufHXhi+W1vkjs/tfmJJbkO2+IAbV7+/pR4L8U2Gm2Gpi5gu3N1qc9wDHbs4KsRjJHfjkULAYj2jXs3a76eSOh4yCw6lz+9ZLf+9L9LFJStz8NPAkcigxy6xbRSIeQy7pAR+lb/jzTrGz/AOEeu7ezt4Xj1y13vHEqsVy3GQPXHFcVp+sQReEfCenSpOzadq4uJWWMkMFkkYBT3PzdK6Pxr4qsdT0/Tlt4bxPI1KCdzLbsg2qTnBPf2rOOBxLpu9N3sunkbzxVFYiNp6c0vxbNO0srXUvirry3ttDcRw2dsNk0YcbiCcgH2yK519tn8MPG9tGiqlvq9xEiAYwpeMDj8f0q/o3iqxg8deJNRlhvGiuharCFt2LKEjIYMO3Nc/qWtWz+H/GVmkc+7UL1Z4S0ZG0Myk7z/D04zRPA4nlbVN397p6ipYqj7RRc1Zez/C1/zOz8ZaTZxfCe6hS2hUW9qrxlYgNrcEkehPc+9Q3aRal498LR3MMckf8AZk0jxyKGVtyqMYNQeKfFVhf+B7/ToYbxZXttgaS2ZVyMdSeg4rPsvE1l/wAJtpV80N0YrbRRCyiAlt5Ycgen+10rSeBxHPpTfTp2ZjRxdP2Tbnr7/wCMUjY02ODSvHni6CCFIIHsbeYRxKAMLGwOAOnWn+C9F0+5+F9gb2wtZna2dtzxKx5LYOSPSsW78TWX/CbaterFdLDdaN5QUwENvDHkjsMd+laHhLxVp9h4J0/T7uC+Z47fY5itmZTnPQ9+tEMBiOezpu3vdO7Cti6fsrqer5OvaLRkp/pHwr8FwSYbz9Wt4vmHGPMfr7YFdLeW0Gn/ABZ0Q2sEcK3NjcRkRIFztw3OK4jTtahXwp4PspkmZ9P1ITy7YiVZVdyNp/iIBHT3rodc8VWFx428NajFDdiOzNysqvbsrMHjAG0d8HtWcMDieVP2b+z09DariqPtHFTVn7T8b2/JGn4FsbS6bxNJc2sEzf8ACQXYVpIwxx8vc9qwS623w68fbBsUazdoAvGATGMfTmrfgrxVY6XY6lHcQ3jGbU55l8q3ZwFYjAOOh9q53Utahl8K+L7SFZll1HU/NhJjIUKXQkMf4TgHiiWBxKpq1N3s+nkFPFUXiJXmrXh+DR6tpOi6fBYWMn9n2i3EUKASCFdynaOhxmvPLr9z8NPHFp0+z6vMFH+yZIyP612SeOtJRFRbbUQqjAH2R+BXnOu6vbz6X40tIEmX+0Lm3mh3xldvzKW3/wB3pxnrWlfA4hR92m9n08jDA4qm6j559Yv/AMmX+Z6D47j8z4W6iucYtUbp6FT/AErPvUh1Dx94SWWFJU/s+aVo5FDAAouDz70zxb4w0XVPB+p2FvLOJprdljVrd1G7sMkYHSsm18U6YfF2hX08rpDZ6SYpWETH94cDaBjOOOvIp1MDinP+G+nR9GLD4qiqOs0n7/XvFI6HTpk034o+JRJxHcWNvdtx2QFDTPAdis3g+51i5gQ3mrS3F2zFQWAckBQfTAHHvWHrPinSZfG39pWtw7QTaPNZSMYnGG3FlGCM9e9aXg7xpoOleDtNsb+9aK4ghCyL5EjYOT3CkGiGBxXtLOnKyv0fVoK2Ko+w5ozV3yX17Jr9F+BjW+Jfhn4ER/mSTW7dHB5DDzJODXS+JYo9K8eeG9QhjWNLjz7GbaAM7lyg/wC+s1w2l61p9v4U8H2c8+2fTdTM90mxj5aeZIc5xg8MOBk10fjXxbomrQ6J/Z98Jjaavb3Mw8p12xru3HkDPUcVlDA4v2d3Slf3fsvpbyOmriqDr2VRWbn1XVv/AIdG1ocaX3xO8TXbqGFpHbW0RIzg7SzY9MGuZkcw/C/xvGvJi1e5iJ9cunP61f8ACHi3RLGfXbnUr5YZb7VJZYgY3OYcAIeAffiuc1HW7J/CHjGytbgGXUNUNxax7T+8RnjLNyOOAeuOlE8FiuS/spfa6Pr8gpYmh7blc1ZOn1XSyZ2XjfSbWD4ZyzWlukVxZJFcQSxqFZHUr82R3xmpLuX+0fiZ4YOd3kadPdZ/31C5xVXxh4s0C/8ABGo2Gnagks0lvsijCMCenGSKztJ8S6QnjuHULq9VLa30SOzRyrYMm8MwxjqPWrngsT7Sypytp0fRswpYmk6Dcpq65+q6pI2LKQW3xA8aE52vZ20rDudsTDipfA1jB/wrHTXlgieRbZ2VygJGSx6/jWDceJtIHjPXb1LxXtrvSRFE6q3zSDI2Yx1/StPwh4r0DT/BOnafqGoxxzR24SWPa/yk5yMge9FPBYnn1py+10fVir4ml7HSav7nVdItGJa/vfhr4Gtevn6xCG/3RJISa6nU/wB18XNDfp5+nzx5HfBDYrhdF1qyj0fwTa3lyqHT7qaW7BUnygC2zPHOcjpXSaz4q0Wfx94a1G2v0a3tlukupArfIGjGzjHdvSs6eCxXIn7OX2ej8jorYih7VpTVmqnVdea332VjR+HkEM0PiKSSJHDa9dFWZQcj5a555Bb/AA58fFRgf21dIAOMAtGP61e8C+KdF0rTdRj1C/SF5tTnmQFWO5GIweB3rm9U1exuPDHiyyiuFL6lq4mhUKfnj3oSw/7570SwWK9krU5Xs+j7BTxFB4mV5q149V0aPYNNto4dNsxsQtFAiBtvIAXHFeYXbi3+F/je3c48jWZowPYyx4OPfNd1/wAJ74Z/6C0f/ft/8K801rV7Gfw/40sra4Dtf30VxaKAf3o3oWIJ9Np6/hWmIweJ5fdpy2fR9jnwGIpe09+aWsXuv5l/mdz8QrOGH4YaiDBGrpBGCQo4IdaZfqJ/iT4WVgHMdjPI24Z6qAP1qDxp4u0HU/Bmp2VjqCTXE0JWOMIw3HI9RWZb+JdI/wCE20W8lvVW1s9IMTybW4lJA2nj0FFTBYnn0py+z0fRhQxNL2Gs1f3+veKRrQO1p478aLGxVp7CC4Ug4KlY2XI9Kk8I6dbN8J7fbaxs81nI7EoCXc55Oe9YWr+JdLbxpqN9Z3qvBc6BJbLIFb/X7yVXkelavhnxXoFj4G0/T7jUY4biOzEboUY7Xxz0HrRDBYnnadOXXo+ruOtiaXsU1NX9zr2i0Y8bLL8OfASA7lfWbVWX1AZ811WtwPD8S/DN5EMCeO5tZj6gRl1H5g1x+kSLJ4V8A2ykebHqpLrkfLtZyc/gc16vLawTzQSzRq8lu5eJj1RipUkfgxH41zU6crcslZrl/CxviqsYS5lqn7T8W0S0UUV2HihRRRQAUUUUAFFFFABRRRQAUUUUAFFFFABRRRQAUUUUAFFFFAEcv+sh/wB8/wDoJqSo5f8AWQ/75/8AQTUlMAooopAfn9RRRXSQFFFFABRRRQAUUUUAFFFFABRRRQAUUUUAFFFFABRRRQAUUUUAFFFFABRRRQAUUUUAFFFFABRRRQAUUUUAFFFFABRRRQAUUUUAFFFFABRRRQAUUUUAFFFFABRRRQAUUUUAFFFFABRRRQAUUUUAFFFFABXaa/8A8gO4/wCA/wDoQri67TX/APkB3H/Af/QhTEcTcf8ALP8A3P6mvYf2Yv8Akoep/wDYKf8A9Gx149cf8s/9z+pr2H9mL/koep/9gp//AEbHUSKPqKiiisCgooooAKKKKACiiigDz2RC/wC0FCR0TSNx/wC+iP611/iX/kVNW/68pv8A0A1zEkYT49RMM5fQtx/7+kf0rp/Ev/Iqat/15Tf+gGtZbx+R3VXedP0Rx3wR/wCRBk/6/ZP/AEFK0viz/wAkv1b/ALY/+jkql8F1A+HcZAAJuZSeOvIrS+KSK/wz1gMMjZGfxEikVb/jfM1m/wDhQ/7eX5mp4P8A+RG0L/sHW/8A6LWuB1//AJOJ0P8A69h/6DLXoPhNDF4L0SNsEpp8CnHtGtcP4hjMv7Q3hxQcYsC35eef6UofFL0YsO/31T0kenV5r4K/5LD4w/4D/MV6VXnfhT/ks/i7/rnF/JamHwy9DHD/AMOr6fqjf+Iv/JO9a/69j/MVB8MP+SaaP/1zf/0Y1T/EX/knetf9ex/mKh+GKlfhro4YEHymPI/22o/5dfMr/mD/AO3v0MD46/8AIjWf/YRT/wBFyV6JZ/8AHjB/1zX+VcB8bhnwDHntfR4/75evRaJfw4/Mmo/9mprzl+h5dpf/ACcfrX/Xkv8A6Khr1GvMtMiYftGaw2MhrBW47DZEOfxr02iruvRDxm8P8MfyPMfhDH5WreLY852X4XOOuGkrQ+MwJ+HU2O1xFn86qfChGGseL3P3W1MgfUM/+IrR+MH/ACTW+/66Rf8AowVo/wCMvkdMn/woR9Y/kjf8IxmLwdpEZ5KWNupI9olrZrK8Mf8AIraZ/wBecP8A6LWtWueW7PMqfG/U8o+B/wDzMX/XxH/7PW/8YP8Akmt9/wBdIv8A0YKxvg2AL7xSAMAXq/zevTZ7eG5hMVzEk0bdUkUMD+BrepLlq39D0MVU9njfadmn+CFij8qFIwchFC59cV5f8XoxL4m8GI3Ae7dSR1xvhr1OvLvi1/yNXgr/AK/X/wDQ4amj8aMsB/vC+f5M9RooorE4SnrH/IDv/wDr2k/9BNcD8Cv+RGvP+wi//ouOvQdSj83SbuPON8DrnHTKmvP/AIGoV8C3RPR9QkI/79xj+lbR/hv5HdT/AN0qeq/U9JooorE4Tyzxki/8Lz8Ktj5jEoP4O5H869Try7xl/wAlw8Kf9ch/6E9eo1tU+GPod2K/h0v8P6s8/wBGQJ8ePEJHV9PiY/lGP6V0Pjv/AJEDW/8Aryk/9BqtaaJfQ/FC/wBaeNfsM+npAj7xkuGBIx17VZ8d/wDIga3/ANeUn/oNDd5x+QSkpVqdu0TG+D//ACTWx/66S/8Aow1H8ZUL/Dm4I6JPEx/76x/WrPwkRV+GGllRgsZifc+c4/pTPi8jN8M9QKjIV4SfYeYo/rT/AOX3zNb/APCh/wBvfqdVo/8AyA7D/r2j/wDQRXmzxlP2k0Y4w9ruH/fkj+lenWChNNtkQYVYlAHoMCvNpwT+0fb47WRz/wB+2pU95ejM8K/eq/4ZHqFecfHGMP4DgY/wX8bD/vhx/WvR687+N3/Igx/9fsf/AKC9Kl/ERGB/3mHqdxo//IDsP+vaP/0EVwsaB/2hpieqaXuH6D+td1o//IDsP+vaP/0EVxVpGH/aAvmJ+5o4Yf8AfSD+tEN5eg6Gjqf4Weg15R8J/wDkefGP/Xz/AO1JK9Xryz4TID4v8aP/ABLeKB9DJL/hTh8Eh4f/AHer6L8zp/ij/wAkz1j/AK5p/wCjFrc8PxmLwzpkbYJSziU49kFU/GmjXHiDwff6XZvEk9yqqjSkhQd6nkgE9vStazg+y2MFv18qNU/IYqLrkt5mLkvYKPW7/JE1FFFQc4UUUUAFFFFABRRRQAUUUUAFFFFABRRRQAUUUUAFRz/6sf76f+hCpKjn/wBWP99P/QhTW4ElFFFIAooooAKKKKACue1vUdZ0q6juUexls5LqGCO08l/PlDlVJD78AjLNjYeF6jt0Nc/c6Hq0viU6rDqdkVVQlvFc2DyG3UgbtpEyjLd225xx04o6oOhVn8SajHcS3qra/wBlw6kmntEY285susZkD7sAB2+7tOQOvOBzHhuZZPio6OcCD+0cZPQm7bn8jXXS+FZJb51F8g0yW9W/ktfs/wC8MqkNgSbsbCyhiCpPUZx04zwXJ53xi1dCOII70r9Td/4GuWtvTT3v/l+tz1MEv3dZ+X+f6HS+KZEHjzwe6suRPcjcD0BiGaPhi6f8IaJGcBpbud2Ge/mEf0pPGkgt/FHhO5OT5d5KpHsY+fx4qX4XIY/hrpIbGSsrce8rn+tTH/eH8/yiXU/3CL9F+NRnGaWy+XoFmWA8nxPPkg8Dbk8e3Ndf8S5EPhm2wyn/AImFv0P+3XI6fx4yt7Loy+K72Vf7oXy1OBXYfFD/AJEab/r5g/8ARi1jD+DP+uh11v8Ae6Pm7/fJjfCEit4u8XTM6gtexpjPZY8ZrkPFzKq/EK1VhmaTTmiBPLklc/hxXYeA/nvvFUw6HW5k98qFz/OuQ8efuvEniKIdbiGwcA9WIlC8UVf4Cfr+KkGG/wB9a8ofg4f5HoPjUrJ4F1pUZSfsUpxuHZSa5nwhNHP43t5lcMsfhq1jDE4xuIbH9a63xaM+CdbA5P8AZ9x/6LauO+GxE2v3T/e8nRtNjyP4cwhsVtU/jxX9dTkw3+5VH2/XlRL4udI/HMkgZf33h26iJB9MtzXR+CJEHgTRQXUH7HH3/wBmuY+Jn7rW9Ocf8tdK1SP6Yty2a6/wj/yJOh/9g63/APRa0U/48l/XQMR/uVN9/wBOZHm/hllNn4CsywIivr09eTsLHP611/jd0TWfClxuUhdWSM88fOpH9K5Dwcd3iDwnbt1tJ9UyR3J4/Kuw+Ivy2OhSjhotctXX65b/ABrGn/Ab9PwSOvEf77Bd+b8ZTE+Gsif8I3dszLubUbhmJPJO/rXH60waDxPbKw23HiC2UID97OCce/Fdl8MPm8FrIfvS3c7sfU+Yf8K43Wj/AMVXqFqOEl8TafkDqMxsSR+QoqfwYf10Ch/vlbyf5SR6/wCbH/fX868h8eMo1rxRCrAx3UFgZBnriUCvYK8g+IfHjO/gXgXVrZhj6H7QMH8hW2M/h/12ZyZT/vHyX4STPRPGBik8Ea2pZT/oE5Az3CEiuT8LzCbxvoTSsp2+EYXBzjDF1BrtPEqh/CmrKwyrWUwI9fkNcN8P2Mvimzcnd5fhq2Qn+783A/IUVf40Qwv+6VH2v+KLPxCkSPxNpEhdSsmnakhOfu4gzmuk8Euq+BNFDMAfsUfBP+yK5f4q/JfaTKeQLLU0x/vWpFdf4R/5EnQ/+wdb/wDotaKf+8T/AK6IMR/uFJ/1vI820Fl+z+ELbI8yPWbvcM8DaST/ADrrviSyf2LpjAqQmrWzMQegya5Pw7z4k8O2neLWdUy3rtQH+tdd8Tv+RVgPYX9uSfT56xp/wJfL8kddf/fKXnf8ZSG/DkxPoupStsxLqty6hsZxuH+Fcj4h2LY+Nrc7Tu1O0Jx3VipwPyrsfhl83hOSUfdlvrh1+m8/4VyHif5de8VwD/VtqWlkqe+5cn9QKdRv2Efn+TCgl9dqrs1+E4neeNktx4G1kosW77HJggDP3a534frBL4l1kyrHiKw01FBAwc2+Sfrmus8YKG8Ea4GGR/Z85/KNjXJfCtjNe6vO5y7WmmqffFsP8a2qSf1iGv8AVmcdBL6hVf8AW8RPExt7bx1qr7UWJvCszAKBy6yE/nium8GwW6+B9F81YSxsomJIHdQf61y/xAcW/iiaT/nr4cvIj7cHH6muz8KoY/Buio3VbCAHHtGtFKT9tJXDEpfVKb72/C6PM/Awjl1PwjbSBCLSC/LFsYYmRhXW+L1t4vFHhOZFjA+3vGxAGMMmMGuV+HP/ACN2nRt96KxuwVP8J+0n+ldh4+/dzeF5/wC7rtuhz0AYMCaxpSfsG79vwsdeKS+vKPlL8XL/ADIPhqkDeGLjzVjLfb7j7wH9+uT1IRm+1W0QJtn8U20aqMfxDJwe3T6V2Xwt/wCREg/6+J//AEY1chef8lFlsx8w/wCEltZ9vqfKYk/hROT9jT13/wAgopfW6/lr9zR6x5dp/ch/IV5J4xEUGseLo1CgTNpsqYHQAhTj+texV5B4++TxtfxNyLiKxJHYqJsEH8a2xcn7Pf8AqzOTKUnXa8l+Eos7zxrHb/8ACDaz5aRbhZyEbQM/dNc54bFvN490wgRvGvhWHPQgOZAc/XHeuw8WKX8F62qjLNp84A9f3bVxvgJhN4pt3U/6rw3Zx/XgE/yxRVk/bR1DDJfVJvtf8bCePzDbeJLWSFY+dH1DcABg7YiR+tdT4Pgtk8E6LuETMbGFiWAzkoD/AFrlviq4i1TR2bobDVF497bA/nXZ+FUMfg3RUbqthADj2jWinJ+3nr/VkGIS+o0n3/RyPJdC0eyntvCSMXjlurq6huJo5CGYRlipHoecZ9BXqOm+GLbTtRiuYNW1OXy8/uJbvfG2QRyuOcZz9RXn/hbnXfCNuOUhvtVGPYLwT+Jr1+ujC4qvKk4yk2tF+CMszo041k4xte7/APJpBRRRVnnBRRRQAUUUUAFFFFABRRRQAUUUUAFFFFABRRRQAUUUUAFFFFAEcv8ArIf98/8AoJqSo5f9ZD/vn/0E1JTAKKKKQH5/UUUV0kBRRRQAUUUUAFFFFABRRRQAUUUUAFFFFABRRRQAUUUUAFFFFABRRRQAUUUUAFFFFABRRRQAUUUUAFFFFABRRRQAUUUUAFFFFABRRRQAUUUUAFFFFABRRRQAUUUUAFFFFABRRRQAUUUUAFFFFABRRRQAV2mv/wDIDuP+A/8AoQri67TX/wDkB3H/AAH/ANCFMRxNx/yz/wBz+pr2H9mL/koep/8AYKf/ANGx149cf8s/9z+pr2H9mL/koep/9gp//RsdRIo+oqKKKwKCiiigAooooA5zxY9/ZWct9Y6xNbSLGI7SyjhiZbmck7VbcpY7uBhSuACc9xn6zq+roNbu7a9NqNDt45fsqIjJcPs8xw5YFtuMKNpXucnttal4dOoaxDqUerX1nNDEY41hWFlXJ5YCSNsMehIxkACmX/hW31GV2nvrxUuIkivIkKBbxV6b/k4zkg7NuQcdhgQ+pgSSq/xytJMhQ3h/PJ6ZmY11etPE+g6grMpDW0gIJ6/KayX0G8b4oxa6AgsY9J+y53fN5nmlsY9MHrW1rH/IDv8A/r2k/wDQTWkmm1Y6JyTdOz2SOL+DLqvw7iDMoP2mXqfcVrfEnZN8ONZQSKD5IbrnowP9Kzvg3Hs+HFs2c755W+nzY/pWv8QkZ/h5rQUZP2Vj+A5NXL+N8zoqP/bm/wC9+pf8NyIPCuk5df8Ajyh7/wCwK4jW3X/hojw6dwx/Zz85/wBm4rufDX/IqaT/ANeUP/oAridaUn9ojw8QMhdNcn24uKUPil6MWH/iVP8ADL8j0fzY/wC+v51594ZURfGbxaSwKmGA7u3KKcV6HXD+HP8Akr/jH/rnZ/8AooVMNpen6oxoP3Kn+H9UaPxEkQ/DvWQHUn7Me/uKPh3Ig+HejAuoP2Yd/c1N49QP8P8AWw3T7G5/EDI/lUfw6/5J3ov/AF7D+Zp/8u/mV/zCf9vfoYHxqxL8PwUdTsu42Iz2ww/rXoXmx/31/OuD+M//ACTuX/r5i/ma76lL4F8/0FU/3aHrL9DznS3X/hoLWjuGP7KXnPvDXonmx/31/OvPtKUn9oDW3x8o0pAT7kxf4GvQ6dTdeiDFbw/wr8jz/wCGrRprXjIAqq/2zLgZxxuapvi+6N8Nb0Kyk+ZF0P8A00FM+HClNe8Zhhg/2zKfwLMRUvxg/wCSa33/AF0i/wDRgq/+Xy+R0/8AMdH1j+h0nh/ZD4esI/MU7LaJck9cRqK0vNj/AL6/nVLRP+QLaf8AXCP/ANAWr9YPc82fxM8w+DwRJvE0hcAtf4wT6bv8a9N82P8Avr+decfCFDHJ4nR+GXU2B+vNek1pW+NnVjv94l8vyQ3zY/76/nXmHxYIbxP4LdSCq3zAkHpl4f8AA16jXm/xTjMviLwXGuAX1MKM+7x0UfjQ8C7YhfP8mejebH/fX86PNj/vr+dOorI4iveSp9hn+df9W3f2rgfgk6r4BkDMAftsnU/7KV6Bef8AHjP/ANc2/lXA/BH/AJEGT/r9k/8AQUrWP8N/I7af+6z9Y/qehebH/fX86PNj/vr+dOorI4jy7xgQ/wAb/Cu0g4iBOD0+Z69P82P++v515z4pjx8b/CkmfvQSLj6B/wDGvSK1qbR9DtxL/d0v8P6sb5sf99fzrD8aeXL4E1xfMX/jwmPB9EJ/pW9WN4w/5EbXf+wdcf8AotqiPxI5qX8SPqjF+E8iL8L9JBZQf33BP/TZ6Piuyv8ADHVlRgxxCcA+kyGnfCdSvwv0gMMHEx5/67PXT6nY22pabPaX8Kz28q4eN+jY5/mKuTtVb8zpqTVPGOb6Sv8AiOs5U+wwfOv+rXv7V53vX/hojO4Y/s7rn/Zr0tVCIFUYVRgD0Febf83E/wDcO/8AZaKf2vQMLvU/ws9I82P++v51578a8SeAF2FW23kZOCOBhh/WvRK4H4z/APJO5f8Ar5i/maVL40Tg/wDeYeqOv0eRP7DsfnX/AI9o+/8AsiuXtxH/AMLwvJt6jGhqvXrmUf4V12mR+VpNpHnOyBFz64UU8Wdst614ttCLpk8tpxGN5TOdu7rjPakpWbM41ORy800SebH/AH1/OvNfhk6L448eZZQDqIxz/wBNJ69MrzX4Y/8AI8+Pf+wiP/Rk9VD4Jf11NaH8Cr6L80ejPIhUYdfvDv707zY/76/nRJ90f7w/nTqyOMRWVvusD9DS0UUAFFFFABRRRQAUUUUAFFFFABRRRQAUUUUAFFFFABUc/wDqx/vp/wChCpKjn/1Y/wB9P/QhTW4ElFFFIAooooAKKKKACiiigAryb4f/ALz4xeJ2PBiNyg9wbnNes15Z4Ag2fFzxawPAkl4P+1Ln+lclf+JT9f0PVwTth6/+FfmbHxLk+zSaBdbgvl3jjJ7Extz+GK1/h5GI/h7o6gbc2+7B9yT/AFrn/jHJ5Hh/Tbhh8kd4c/UxPgfpXU+DI/L8DaIuc5sYW/NAf60of7zL0/yKq/8AIup+v5X/AMzzu24+M0doOH/ta4n2extwSfxrsPipx8N9SkH3o2hZT6HzkrkI1K/tI+WoJVWaQn/etBn8M12XxPQSfDXVgeMLG3HtKp/pWMP4NX1f5HXWf+14V+UH97GfDr5tP1ubqZtbupC3ZuQMj8q4/wCI/wC7+ISr182ztX+mLrGK6z4VOZ/A63J4NxdTy7R/Dlzx+lcp8TlK/FDw44GBIIUY/wB4CfOP1oq/7tF+n4jw2mZTj6/h/wAMemeI/wDkVtV/68pv/QDXCfCD559Ym6Zt7BMf7sGM16DrAB0K/BGQbaTIP+6a85+B259H1WV8kmeNNx7hU4H4A1tU/wB4h8zjw/8AyL63rH81/kTfGFjD/ZMynaRDex7vZoMEfj0rufDShPCekKowq2UIA9BsFcH8b9yaDpkq4wLh0IP+0hH+Neg6Ggi8P6dGucLaxKM+yCin/vE/kGI/5F9H1f5/8E8t8BfN4/ghPD2y3xf6mXGK7D4m/L4TikP3Yr63dj6DeP8AGuR+HIL/ABY1zcD+4juVIb+Fjcj+ldf8U/l+Hd/L3hkhcD1/eoP61jS/3ab9fwOvE/8AIxpL/D+L/wCCHws+b4d2M3/PaSZ8en71xj9K43Vf+Sv3NqOE/tWymz7/AGdia7T4WoY/hppIbriU8e8rn+tcbexk/tECNT/rNsrZ9VtT/Sif8Gl6r8gov/a8V6T/AAZ6/XkHxI4+JVpCnW4s7YY9W+1cfoK9fryH4mg/8LU8N7B8ziBTj+IeeSB+dbYz+F80cmUf7z8n/mepauN2h3wxnNvIMevymvOPhQfN1iZweItKtoz7kkmvTrpS1nMqjJMbAAd+K8r+CREs+sSdfLhtY1I+jk/rRV/j0/mGF/3Gu+3L+LLnxl/d2ulS9gLpMD/ahxXd+HBjwrpQHA+xQ/8AoArgfjiGGgaZKpwBcsh/FD/ga9D0ZQmg2CqMKttGAPT5RRT/AN5n8gxH/Ivo+svz/wCCeW+GefiTaW5+7a6xq209zlEHP511/wAUv+REn/6+IP8A0Ytcf4X/AOS1XsBOVivL6VR6M4XJ/Sux+Kv/ACTPVf8Atj/6OSsaf+71Pn+R14j/AH7Dr/D+Mm/1D4W/N4AtZB92Wad1PqPNb/CuP8X/ACfEO7Rv+W17pjAeoG4HP412PwsUp8M9JDDBxKfwMrmuP8co0Hxk0JQMrdXFlKT7pKy/yNFT/d4fL8gw/wDyMKy/xfg7/oeleJ0EvhHWIzwHsZ1JHvGa4j4NyGey1SZx8/8Ao0fHokIArvNeQy+G9SjHBe0lUE+6GuB+CHzeHNRkb7xughPsI1xW1T/eYejOSh/yL63qvz/4A34suLfVNNkfkS6ffxLjsfKH+Nd/oCGPw3piN1W0iBx7IK89+OCldK0q4Aztmlj9vmT/AOtXpGmIYtIs426rAinHsoop/wC8T+QYn/cKL/xfg/8AgnlXwy+b4i3ZHIXT7gMR2P2vOK7D4k/LoOnzdfJ1W2fHr82MfrXIfC9T/wALM8SkD5E81R6D99wP511nxXVv+FcX8iHBieFwf+2qj+tY0v8AdZP1/A68TrmdNd+X8f8Ahx/wq5+GulsfvMZix7k+c/Jrj5/+S5Pad/7Rhn3e32YnFdp8MlC/DfSAowNjn85GNcbIhP7SYRx8jlZB77bQ4/XNE/4NL1j+QUXfFYp+U3+J67XkHxE+X4m2lv1F3b2mT/dxckf0r1+vIviQhPxZ8OCP70628Zz/ANfBI/WtsZ/D+aOTKP8AeH6P/M9N8QI0nhnU0QZZrOUAe+w1wHwqdZ9YvXU7xFpdjHn+6dhJH6V6LqiGTSLxF+80Dgf98mvN/gkrTWur3hGA5t4B/wBs4yP60Vf94h8ww3+41n6fi0SfGQhY9JZjhdl2Mnpkw8Cu98OgjwvpYIwRZw5B/wBwV598c1P9haW2OBcsCf8AgP8A9avRtI/5Adj/ANe8f/oIop/7xP5BiP8AkX0fWX5/8E8s8H/N8QLKFOBb3mpkD0UlQB+dev15D4JUy/GLV48HFtdX0vA6BpEUfhXr1GE+B+oZt/Gj/hX4tv8AUKKKK7DyAooooAKKKKACiiigAooooAKKKKACiiigAooooAKKKKACiiigCOX/AFkP++f/AEE1JUcv+sh/3z/6CakpgFFFFID8/qKKK6SAooooAKKKKACiiigAooooAKKKKACiiigAooooAKKKKACiiigAooooAKKKKACiiigAooooAKKKKACiiigAooooAKKKKACiiigAooooAKKKKACiiigAooooAKKKKACiiigAooooAKKKKACiiigAooooAK7TX/8AkB3H/Af/AEIVxddpr/8AyA7j/gP/AKEKYjibj/ln/uf1New/sxf8lD1P/sFP/wCjY68euP8Aln/uf1New/sxf8lD1P8A7BT/APo2OokUfUVFFFYFBRRRQAUUUUAFFFFABVPWP+QHf/8AXtJ/6CabPrNhbXT29xcCOVMZDKe4z1xiqep6zps2k3kSXsW54HUc9ypqFVp3tzIzjiKKnZyW/dGD8H/+Sa2P/XSX/wBGGu4rzz4T6rY2nw6sorm5SNxJKdrf75rs/wC3tL/5/Yvzq6tSCqSTktzoxleksTUTkt31Xc0K8+1aMD496FJ3bTJFx9PN/wAa7H+3tL/5/YvzrhtV1Syb42aHcLcoYU0+VWfsD89OnUg27NbMeEr0nKdpL4ZdfI9Jrm9L0W6tPiBruqyKgtr6G3WIhuSUUg5Fan9vaX/z+xfnTRrumeYx+2R4wO/1rNVqav7y+85o4ulFNKa103XqUvHf/Iga3/15Sf8AoNHgT/kQNE/68o//AEGqPjbWdOm8C6zHFdxs72cgVQep20eCdZ06HwLo0ct3GrpZxhlJ6HbWntIezvdbnT7el9UvzL4u/kQ/FZFfwHLuAOLmAjP/AF0A/rXZ1j319oGp2pttQlt7iEsGMcgyCQcg4+tWP7e0v/n9i/Oodanypcy+8wli6LpqHMtG+q62/wAjkdJBHx117IxnTYiPf/V131ee2Gp2Q+Mmq3RuYxCdMiQPnqdw4/Suy/t7S/8An9i/OqqVad17y2RtisRS5o3kvhj1XY5jwApHiDxi2ODq7AH8P/r1J8WlB+F+qkjJUwke375K2LK68P6dJdSWU0MTXcxnnIYne56tz9K5z4patYXXw11WG3uo5JG8nCg8n98hqo1qcqqs1ujSliqNXGQcZLVx6ryR2emIItOgjXosaKM+yCrdY9lrmmraRhryMfIvf/ZFWP7e0v8A5/YvzrF1ad/iX3nFLEUb/GvvRxfwq/4/vFn/AGFn/m1eiV5j8MdTs7a88UNPcJGJNUdkJ/iGTXff29pf/P7F+da1qkFNptHXjq9JYiScl06+SNCvO/iZ/wAjX4H/AOwsv/ocddp/b2l/8/sX51wXxF1GyufEfg2aC5jdYNVQyYPQF0Of0oo1IOejX9IMFXpOukpLZ9fJnptFZ/8Ab2l/8/sX50f29pf/AD+xfnWXtaf8y+84/rFH+dfei7PGZbeSMHBdCufTIrz/AOCaMvw/Jbo95IR9MKP6V2f9vaX/AM/sX51w3wg1SytPAEUVzcpG/wBokO1vrWsasPZyd10/U7Kdel9VqPmVrx6+p6TRWf8A29pf/P7F+dH9vaX/AM/sX51l7Wn/ADL7zj+sUf5196OL8Vf8ln8I/wDXOX+TV6JXmXiTUbO4+MHhWaK5jMUUUxd88D5WNd7/AG9pf/P7F+da1KkEo6rb9WdmJr0lCleS+Hv5s0KxvGH/ACI2u/8AYOuP/RbVZ/t7S/8An9i/OsjxZrOnTeC9aiiu42d9PnVVHUkxtgVEatPmXvL7znpYij7SPvrddURfDD/kmmj/APXN/wD0Y1dVL/qX/wB01xPw21ewt/h1pMU91GkixvlSenztXTSa7phjYC8jyQe9OpVpqbTktzTFV6SrzTkt31Xc0q8/MaH9oANtGRo27Pvvxn8q7D+3tL/5/Yvzrhv7Usv+F5/aftKeT/Y+zf2zv6VVOpB3s1sXha9J89pL4X1PSa4H4z/8k7l/6+Yv5muu/t7S/wDn9i/OuL+LOqWF38O7yKC4jkk8yIqo6/fFKlVg6iSa3Fgq9J4mmlJbrqd9Z/8AHjB/1zX+VTVk2mu6YLKAG8jyI17+1Tf29pf/AD+xfnWbq07/ABL7zmeIo3+NfejQrzj4awvF438dlhw2ojBB/wBuY/yIrt/7e0v/AJ/YvzrhvAeqWUHi3xk81yiLLqAZCf4hl61hVhyS1X9M66Fel7CraS2XXzR6PJ90f7w/nTqzX13TCoxeR9R396d/b2l/8/sX51l7Wn/MvvOP6xR/nX3o0KKr2t/a3u/7JMsuzG7b2z0/lVirTTV0aRlGSvF3QUUUUygooooAKKKKACiiigAooooAKKKKACiiigAqOf8A1Y/30/8AQhUlRz/6sf76f+hCmtwJKKKKQBRRRQAUUUUAFFFFABXnHgiDZ8VvGDL90OM565Zif6GvR64TwjDs+J/jJkHyhrfPPdlJ/wAa56qvOHr+jPQwsrUa3+Ff+lIp/G//AJEm0/7CKf8AouSu28Ox+T4X0qPbt2WcK7fTCDiuP+NP/Ihp/wBfsf8A6C1dzp8Yi0y1jHISFFBPsoqYL/aJPyRpWl/sFJf3pfoebvGU/aMRuu+13fT9yR/Sup+JCGT4dawBxiENz7MD/SsWePZ8fbZtuPM0otn15YZ/St/4gKX+H+shRk/ZmP4Dk1nFfu6vq/yNqkr4jDPsofmUvhXH5fw10vK4Leax98yvg/liud+JMIb4keDWblXukQrj0mT/ABrq/h0gj+Hejhc4MG7n3Yn+tYXxEgEnjjwO5XgX7ZYezxED9DSmv9liv8P6FUZ/8KVR/wCP8md5fosmnXKOMq0TAj1GDXnnwPjx4QvpM/evmXH0jT/GvSJY/NheMnAdSufrXn/wVQJ4EkIXG+9kYn1+VB/Stpr9/B+T/Q5aMrYGqvOP6kHxwQHwbZSd1v1UfjG/+FegabGYtJtIyclIEXP0UVxHxoQt4CUgZ2XkZPtww/rXeWyNHaxI4wyoAR6HFKC/fzfkv1CtK+BpLzl+h5h8OYs/FLxhLt+7cSrn0zOx/p+ldT8TE8z4b6uCu792hx9JFP8ASsb4fx5+IHjaU5yLtFHpy0n+ArovHyGT4f6yq4yLVm59uf6VnTj/ALNJf4v1OnET/wCFGm+3J+SK/wANVK/DnSAwwfKY8/77Vy81vn9oQycHFkZOR0/dFeK634e/8k90b/r3H8zWF9mJ+OtxJgHGjeZ/u/MF/wA/WiSvTpeqFCdsRiX3U/zPQa8r+IoH/C0/B5xz9oi5/wC2616pXm/j9VPxK8F5AP8ApPcejpitMUr0/mvzMMrdsR8pf+ks9IrJ8OeGtO8Laa1lpKOsbSGRmkbczE+p9gAPwrWorp5U3c89TkouKej/AEPNPjihPhKwk7LfBT+Mb/4V6Hp6CLTbaNeiwooz7AVwXxtQt4HtiOiX6E/98SD+tehQx+VBHHnOxQucdcCuaC/fz9F+p6FZ/wCw0V5y/Q56HwfBb/ECXxPDMEM1t5UkHl9X4G/OeOABjHrUPxNUN8N9XDDI8tDz/wBdFrqq5r4iIH+HmsBhkeRn8QwIq6kIxpTS63MsPWnUxNJzd7OK+SYz4aqV+HOkBhg+Ux/N2NYfj20J+Ingy6RSd10Y2wOmGQj+Z/Kuh+H6lfh9owYYP2YHn6mty4sbW7mglubeOWS3ffCzrkxt0yPQ1Cp89CMfT9DSVf2ONqVPOS++6I9VUvo16qjLNbyAD1+U1wXwPRR4MvXA+Y6gwJ9hHH/ia9CvP+PGf/rm38q4P4KqF8CSkDBa9kJ9/lQf0omv9oh6P9B0X/sNVecf1I/jbCH8E20nGY75Dn2KOP8ACvQrdDHaxI33lQA/lXM/EfQ73xD4NmsdLh866Msbom9VzhueWIHTNdVVxi1WlLul+plVqKWEpwvqnL9Dyz4aQeX8SPGG37kdw6c9f9c2P5V1fxJi834c6uvHEStz7Op/pXP/AA5gZPiB43ZiOL3p/vSSkfyrq/G8Xm+BNaXAOLKVsH2Un+lYUo/7M1/i/U7cVP8A4UYPtyfkiv8ADpAnw80cL08jP4lia5MIx/aMYgcLa7j9PJx/Oux8BoI/AOiqucG0RufcZ/rXNxx7/wBoCRs42aZu+vAH9aJr93S9UKlK1fEvvGf5noleV/ERM/FXweyrljPFnHoJh/8AXr1SvOPHy4+JPgtsdbgjOOvzp/jWmKV6fzX5mGWO2I+Uv/SWeiTxmW3kjBwXQqCfcVwXwYtfI8BtLjm4u5JM+wCr/wCy16BUFjY2um2aWmn28dtbx52RRLtVcnJ4+pNayp3qKfa/6HLCvy0J0v5mn91/8zzr44qT4TsHx8ovQCfco3+Br0WyAXT7dVAAESgAduK4H42oW8D2xHRdQQn6eXIP616HGgiiWNeigKM+1ZU1+/n6L9Tqrv8A2GivOX6HM+GPCr6N4i17Vp5I5H1O4LRBM5jTcxwc9yT+grqKbH90/wC8f506uiEFBWRw1as6suae+n4aBRRRVGQUUUUAFFFFABRRRQAUUUUAFFFFABRRRQAUUUUAFFFFABRRRQBHL/rIf98/+gmpKjl/1kP++f8A0E1JTAKKKKQH5/UUUV0kBRRRQAUUUUAFFFFABRRRQAUUUUAFFFFABRRRQAUUUUAFFFFABRRRQAUUUUAFFFFABRRRQAUUUUAFFFFABRRRQAUUUUAFFFFABRRRQAUUUUAFFFFABRRRQAUUUUAFFFFABRRRQAUUUUAFFFFABRRRQAV2mv8A/IDuP+A/+hCuLrtNf/5Adx/wH/0IUxHE3H/LP/c/qa9h/Zi/5KHqf/YKf/0bHXj1x/yz/wBz+pr2H9mL/koep/8AYKf/ANGx1Eij6iooorAoKKKKACiiigAooooAa8aSDEiK4/2hmq15a2/2Gf8AcRf6tv4B6VbqG8/48Z/+ubfypWVwUU3qjj/hRbwv8MdJZ4Y2Y+dklQT/AK567H7Jb/8APCL/AL4Fcl8Jv+SX6T/22/8ARz12VXUiud+ptiox+sT06v8AMi+yW/8Azwi/74FcRqFvB/wu3SV8mPb/AGVIcbRjO5ua7yuI1BT/AMLu0hsHB0qUA4/2jTppXfox4aMU5afZf5HZfZLf/nhF/wB8CmC1t/Nb9xF90fwD3qxTR/rm/wB0f1rPlXY5uSPY5/xtZxHwHrflwRhhYytkKBjCk/0qTwdaW/8Awg+hnyI8nT4CSUHJMak1d8Q2U2peGNUsbUAzXVnNDGGOBuZCBk/U0eHrKbTfDGl2N0AJrWzhhkCnI3KgBwfqKuy5LeZ0e57Dl8/0Ln2S3/54Rf8AfAo+yW//ADwi/wC+BUtFRyrsc/JHsc5aeGng8dahrMi2xtLm1jhjjA+ZWU8kjGMfjW99kt/+eEX/AHwKlopuz3LnabTa8vuIvslv/wA8Iv8AvgVz/jjw5J4g8G32maZFbpdT+XsZxtA2yKx5A9Aa6WiiNou6CnanNTitVqVo7O2Xcq28QCkADYOOBUn2S3/54Rf98Cnp95/97+gp1LlXYjlj2OB+G1pCtx4qjMaOI9cnRSyg8A13P2S3/wCeEX/fArjPhx/x/eLv+w9cfzruK0qJc51YuMXWba7fkRfZLf8A54Rf98CuD+I1tGNc8HCOFBu1mLcFQcjcua9Brh/H/wDyMXg7/sLL/SimkpBhIxVZO3f8mdn9kt/+eEX/AHwKPslv/wA8Iv8AvgVLRWfKuxy8kexF9kt/+eEX/fArgvg3BDJ8PImkiRj9pl5ZQe9ehVwvwfhaD4fxo/8Az8zYI74bH8wa0SXI/l+p1U4x+rzVusf/AG47X7Jb/wDPCL/vgUfZLf8A54Rf98CpaKz5V2OXkj2PPvEFtGvxo8JgQoI2t7kEbRgkRv8A/WrvPslv/wA8Iv8AvgVxniP/AJK/4O/653n/AKKNdxWk0rR9P1Z1YiMXCnp9n/25kX2S3/54Rf8AfArM8SWsA8K6sRBGCLKbBCD+4a2KzPEv/Iqat/15Tf8AoBqIxV1oYU4x51p1MX4b2cK/DnR98Ubs0JYkoO7E/wBa6WS1t/Kf9xF90/wCsL4df8k70X/r2H8zXRy/6l/9005pc7NMRGLrTdur/MZ9kt/+eEX/AHwK4VLSF/jvIPLQJHoe/bsGCfNA/rXf1xUcZT46ysTnf4f3D2/fgf0qoJa+heHjFc+n2Wdh9kt/+eEX/fAriPi7bwx/De9ZIkVvMi5Cgf8ALQV3lcV8XI9/wx1Js42NC31/eqP60qaXOvUWEjFYiGnVfmdVZ2tv9hg/cRf6tf4B6VN9kt/+eEX/AHwKl6UVHKuxzOMW9iL7Jb/88Iv++BXBfD+CFvGHjUNEjBdRAAKjjl69CrhfAqLH418aheB9ujP4kMT/ADrSKXLL+up1UYx9lUVui/NHZSWtvtH7iL7w/gHrT/slv/zwi/74FPk+6P8AeH86dWfKuxy8kewxIo4s+XGqZ67Vxmn0UUxpJbBRRRQMKKKKACiiigAooooAKKKKACiiigAooooAKjn/ANWP99P/AEIVJUc/+rH++n/oQprcCSiiikAUUUUAFFFFABRRRQAVjaX4eXTPEutastxvGqmE+Tsx5RjUqec85znoMVs1Qk1eGOV4zFcMVYqdsRI4rnr1qNG0qrt2NISmlKMeuj+9P80cn8YIvO8BlQAW+1Rbc9iSR/Wu7AwMDgVzmvR6f4i00WWoW1/5IkWX91Hg5U5FaX9sxf8APrd/9+TXHHH4VVJS51rb9TonJyoQp21Tb++3+RnS6DcP8SINeBj+zJpptWBb5t28sMDHTBPepfG4J8B61jn/AEKT/wBBNXP7Zi/59bv/AL8mmTapbXEDw3FjcSxSKUeN7fcrKRggg9QRQ8dg+VpVFqJVKnPCUl8NvwIPBaGPwLoitjJsYW490B/rWV40024vfEnhSeCGaRLa/wB0rRxlhGvByxHQZXGTW5DqltbwRwwWNxFFGoRI0t9qqoGAAB0AFK+sxFR/o111H/LE+tDx2DcFB1F0/Acak41nVS3v+N/8zTrifhJA1v4BiViCftE3T2bH9K6X+2ov+fa7/wC/Jo/tqL/n2u/+/JpvH4NzUvaLS/42IjKcaUqVt2n91/8AM5j4vRGT4eXGOqzxEADOfmxj9a7isq41GzuoTFdWE80ZIJSS33DI6cGpP7ai/wCfa6/78mhY/CKbl7Ra2/C45SlKjGlbZt/fb/IyfC+iXmmeI/Et5dQiKG/u1kgIZTvUA5PB45PfFXfGSCTwPratnAsJm49kJ/pVn+2of+fe6/78mmTarazwvDPZ3EsUilXR4MqykYIIPUUvr2DUHBVF1/EbqVJVlVktrfhb/Iq+B/8AkQ9F/wCvOP8A9Bqw2g2ieJJ9fDym7ks/shUsNgTduzjGc5HrSwanZ2tukFtZTwwxqFSOO32qoHYAdBTpNZhMbD7Pdcg/8sjTjj8GopOotCZym6kpR05r/czTrgvHUYk8feCA2cC6mPHqPLI/lXWf21D/AM+91/35Nc54iSTVfEfh69toJhDp1w8s26Mg4KjGB36VFbMMJKFlNbr80a4O9OtzS00l+MWjtKKzv7ah/wCfe6/78mj+2of+fe6/78mtv7Swf/PxHJyS7HJ/GOF5/A8apjP22Lk9shh/M13tcV46WXxD4cFlp8E3nC4jk/eRlRhTk10n9tQf88Ln/vyaxjmGEVWT9otl+p2VLvDU4dU5fjY0a5/x4gk8A60rZwLR249hn+lX/wC2oP8Anhc/9+TWZ4kul1bwxqVhbxTrLcWzxoWiIG4qcZ9s1dTMcI4NKotjGgnGtGT6NfmT+CAR4E0XIx/oUR5/3RW7XPaDerpvhvTbG5hn861tIoZNsRI3KgBx7ZFaH9tQf88bn/v0adPMcIoJe0Qq0XKrKS6tmjXB/BxQPh+hAwWuZCffpXV/21B/zxuf+/RrnvBEf/CNeF4tOu4JPNSWRz5UZIwWJHJA7YqJZhhHVi/aLZ/obU7rDVIdW4/hzHZUVnf23b/88bn/AL9Gj+27f/njc/8Afo1r/aWD/wCfiOTkl2OS8AR7fGvjaQ9WvkGMehkP9a7e+s4dQ0+4srkFobmJopADglWBB5+hrk/DqnS9e8QXtzFNs1G6WSLahPyhcc+hyTXRf23b/wDPK4/79GsaOYYRU+V1F1/NnZi3Kdfnj2j+CRNpVjDpmk2tlahhDbxLGgY5OAPWuThjU/HO4baMjRAc47+ao/lXSJrVuI1BiuOAP+WRpBqtkJjMLaYSldpfyPmI9M+lVLH4OVkqi0M6c5wc21dyTX3mpXCeOI93j3wSxUFVupgc+uEI/lXVf23b/wDPK4/79GsXWYLXWNb0bUGkuYhpczy+WLYnzdwAxnPHT0NKtmGElCyqLddfNFYR+yq80u0vxi0dXRWd/bdv/wA8rj/v0aP7btv+edx/36Na/wBpYP8A5+L7zl5Jdjk/jFA1x4HjVSB/psWSffcP613tcX45RvEfh0WVgjiYXEcv72NgMKcnsa6P+27b/nncf9+jWMcwwiqyftFrbr6nXUu8NTh1Tl+Ni/H90/7x/nTqzE1q2C8xz9T/AMsj61Nb6pBczrFGkwZs4LRkDpnrXRHMMJOSjGom35nJySXQu0UUV3EBRRRQAUUUUAFFFFABRRRQAUUUUAFFFFABRRRQAUUUUAFFFFAEcv8ArIf98/8AoJqSo5f9ZD/vn/0E1JTAKKKKQH5/UUUV0kBRRRQAUUUUAFFFFABRRRQAUUUUAFFFFABRRRQAUUUUAFFFFABRRRQAUUUUAFFFFABRRRQAUUUUAFFFFABRRRQAUUUUAFFFFABRRRQAUUUUAFFFFABRRRQAUUUUAFFFFABRRRQAUUUUAFFFFABRRRQAV2mv/wDIDuP+A/8AoQri67TX/wDkB3H/AAH/ANCFMRxNx/yz/wBz+pr2H9mL/koep/8AYKf/ANGx149cf8s/9z+pr2H9mL/koep/9gp//RsdRIo+oqKKKwKCiiigAooooAKxdT8UWul3U0UlrdTRWqLJd3ESr5dqrdC+WBPAJIUMQOSORW1XH67pOpyS69a2Ni1xHrkCRrciRFW2bZ5bGQEhiAMEbQ2eRgdwenU7DOelR3CGW1ljXqyFRn3Fc5qXgkajfvdDxL4hsgyqPIs77y4l2qF4XacZxk+5NVP+Fd/9Th4s/wDBn/8AY1k5zT0j+Il3NTwRolx4c8GWGlXhQz24feY2yuWdm4P41vVxv/Cu/wDqcPFn/gz/APsaP+Fd/wDU4eLP/Bn/APY0OpVbu4/iXOTnJye7Oyqs+nWkupRahJAjXcKGOOY/eVT1Fct/wrv/AKnDxZ/4M/8A7Gj/AIV3/wBTh4s/8Gf/ANjS56n8v4iTtszsqaP9c3+6P61x/wDwrv8A6nDxZ/4M/wD7GkHw8/eEf8Jh4r6Dn+0/r/s0c9T+X8RaHZ0Vxv8Awrv/AKnDxZ/4M/8A7Gj/AIV3/wBTh4s/8Gf/ANjRz1P5fxDQ7KiuN/4V3/1OHiz/AMGf/wBjR/wrv/qcPFn/AIM//saOep/L+IaHZUVxv/Cu/wDqcPFn/gz/APsaP+Fd/wDU4eLP/Bn/APY0c9T+X8Q0Oyorjf8AhXf/AFOHiz/wZ/8A2NH/AArv/qcPFn/gz/8AsaOep/L+IaHYJ95/97+gp1cYvw8yz/8AFYeK+D/0E/Yf7NL/AMK7/wCpw8Wf+DP/AOxo56n8v4hoQ/Dj/j+8Xf8AYeuP513FcPbfC21s2ma08T+JoDPIZZTFqAXzHPVmwnJPqam/4V3/ANTh4s/8Gf8A9jVTqVJO6j+JrWmqk3JHZVxfj6MHWvCEmeV1mNcfUH/Cnf8ACu/+pw8Wf+DP/wCxqG4+F9tdtC114o8TTNA4kiMmoBjG46MuU4PuKI1Kid3H8QozVOfM/wCtDuKK43/hXf8A1OHiz/wZ/wD2NH/Cu/8AqcPFn/gz/wDsannqfy/iZaHZVxvwr/5EKD/r5n/9GtR/wrv/AKnDxZ/4M/8A7GoLL4YW1lbeTZeJ/E1tEGYiOHUAig5OTgJ3qlUqcrXL+JrGaVNw7tfhf/M7miuN/wCFd/8AU4eLP/Bn/wDY0f8ACu/+pw8Wf+DP/wCxqeep/L+JloM1+Pf8XPCTZxsgu2+v7vH9a7WuHf4X20t3FdS+KPEz3EIIimbUAXjB6gNsyM98VN/wrv8A6nDxZ/4M/wD7GqlUqNL3fxNak1OMV2Vvxb/U7KszxL/yKmrf9eU3/oBrA/4V3/1OHiz/AMGf/wBjTZfhsk0LxTeLfFUkbqVdH1LIYHqCNvIpKdRP4fxIi0pJl/4df8k70X/r2H8zXRy/6l/901xdt8MoLO3S3tPFXieCGMYSOLUQqqPQAJgU+T4eYjY/8Jh4rOAeDqf/ANjRKpUcm1H8R1JKc3JdWdnVD+xbT/hJP7cw/wBt+yfY87vl8vfv6eue9c5/wrv/AKnDxZ/4M/8A7Gj/AIV3/wBTh4s/8Gf/ANjS9pVX2fxJTa2Z2Vc38QNHvNf8C6hpumRiW6n8vYhYKDiVWPJ46A1R/wCFd/8AU4eLP/Bn/wDY0f8ACu/+pw8Wf+DP/wCxpxqVU78v4lU5unNTW61Oyorjf+Fd/wDU4eLP/Bn/APY0f8K7/wCpw8Wf+DP/AOxpc9T+X8SNDsq4zwUijxZ4xcD5jqCgn2Cf/XNL/wAK7/6nDxZ/4M//ALGoYPhfbW0s0tt4o8TQyTtvmePUApkb1YhOT7mqVSok1y/iawmowlHv/nc7aT7o/wB4fzp1cY/w8wo/4rDxWeR11P3/AN2l/wCFd/8AU4eLP/Bn/wDY1PPU/l/Ey0OyorG8P+Hf7A+0f8TjVtT8/b/yErrzvLxn7vAxnPP0FbNaRba1VhBRRRVAFFFFABRRRQAUUUUAFFFFABRRRQAUUUUAFRz/AOrH++n/AKEKkqOf/Vj/AH0/9CFNbgSUUUUgCiiigAooooAKKKKAMWTxRaxakbZrW68hblbR77avkrM2MJ97ceSBkKVycZ642q4240bU3kn0lLJjbT6sl/8Ab/Mj8tYxIspUrnfvypUfKRyDnsJb3wD9sv7i6/4SzxRB50rSeVBqW2OPJztUbeFGcAelVFJx1f8AVl+tzWEYSk1KVl6X6/5HW0Vxf/CuP+py8W/+DT/7Gj/hXH/U5eLf/Bp/9jT5Y9zb2VD/AJ+fgztKK4v/AIVx/wBTl4t/8Gn/ANjR/wAK4/6nLxb/AODT/wCxo5Y9w9lQ/wCfn4M7SmyfdH+8P51xv/CuP+py8W/+DT/7Gkf4c4Uf8Vj4tPI66p7/AO7Ryx7h7Kh/z8/Bna0Vxf8Awrj/AKnLxb/4NP8A7Gj/AIVx/wBTl4t/8Gn/ANjRyx7h7Kh/z8/BnaUVxf8Awrj/AKnLxb/4NP8A7Gj/AIVx/wBTl4t/8Gn/ANjRyx7h7Kh/z8/BnaUVxf8Awrj/AKnLxb/4NP8A7Gj/AIVx/wBTl4t/8Gn/ANjRyx7h7Kh/z8/BnaU2X/Uv/umuN/4Vx/1OXi3/AMGn/wBjTZPhziNj/wAJj4tOAeDqn/2NHLHuHsqH/Pz8GdtRXF/8K4/6nLxb/wCDT/7Gj/hXH/U5eLf/AAaf/Y0cse4eyof8/PwZ2lFcX/wrj/qcvFv/AINP/saP+Fcf9Tl4t/8ABp/9jRyx7h7Kh/z8/BnaUVxf/CuP+py8W/8Ag0/+xo/4Vx/1OXi3/wAGn/2NHLHuHsqH/Pz8GdpTZf8AUv8A7prjf+Fcf9Tl4t/8Gn/2NJJ8OcRsf+Ex8WHAPB1T/wCxo5Y9w9lQ/wCfn4M7WiuL/wCFcf8AU5eLf/Bp/wDY0f8ACuP+px8W/wDg0/8AsaOWPcPZUP8An5+DO0ori/8AhXH/AFOPi3/waf8A2NH/AArj/qcfFv8A4NP/ALGjlj3D2VD/AJ+fgztKK4v/AIVx/wBTj4t/8Gn/ANjR/wAK4/6nHxb/AODT/wCxo5Y9w9lQ/wCfn4M7SiuL/wCFcf8AU4+Lf/Bp/wDY0f8ACuP+px8W/wDg0/8AsaOWPcPZUP8An5+DOyi/1Kf7op1cTH8OMxqf+Ex8WDIHA1T/AOxp3/CuP+px8W/+DT/7Gjlj3D2VD/n5+DO0ori/+Fcf9Tj4t/8ABp/9jR/wrj/qcfFv/g0/+xo5Y9w9lQ/5+fgztKK4v/hXH/U4+Lf/AAaf/Y0f8K4/6nHxb/4NP/saOWPcPZUP+fn4M7SiuL/4Vx/1OPi3/wAGn/2NH/CuP+px8W/+DT/7Gjlj3D2VD/n5+DOyj+6f94/zp1cSnw4yp/4rHxYOT01T3/3av6R4J/sjVYb7/hJfEV95W7/R72/8yJ8qR8y7RnGcj3AotHuTKnRSbVT8GdPRRRUHMFFFFABRRRQAUUUUAFFFFABRRRQAUUUUAFFFFABRRRQAUUUUARy/6yH/AHz/AOgmpKjl/wBZD/vn/wBBNSUwCiiikB+f1FFFdJAUUUUAFFFFABRRRQAUUUUAFFFFABRRRQAUUUUAFFFFABRRRQAUUUUAFFFFABRRRQAUUUUAFFFFABRRRQAUUUUAFFFFABRRRQAUUUUAFFFFABRRRQAUUUUAFFFFABRRRQAUUUUAFFFFABRRRQAUUUUAFdpr/wDyA7j/AID/AOhCuLrtNf8A+QHcf8B/9CFMRxNx/wAs/wDc/qa9h/Zi/wCSh6n/ANgp/wD0bHXj1x/yz/3P6mvYf2Yv+Sh6n/2Cn/8ARsdRIo+oqKKKwKCiiigAooooAKKKKACiiigAooooAKKKjuZXgtpJYoJLh1GRFEVDP7DcQM/UigCSmj/XN/uj+tYSeJ2k8NWWpR2OLm+lWGC0eYD94WIwzgHAABJIB6HANRDxVN9nMBsIxqwvvsP2X7QfLMmzzN3mbM7PL+bOzPbFG+39f1cDpKK5tfFU80UVtb6fG2rPdyWjWz3O2JGjXczeZsJK7cEHZk7hwOcami6qNY00XBi8iVJHhmi3bvLkRirAHjIyDg4GRjgdKANCiiigAooooAKKpalPqUKxDSbGC7dmO/7RcmFUGOuQjknPbH41kQ+K5r+z03+zNPSS+vllbyLi58tIxEdrkuFYkbiAMLznPFAHRJ95/wDe/oKdXMx+LJ9QgsxoumpcXc9u9xJDcXPkiII2xl3BWy2/gDGOCcjjLj4rkvYbRtAsFvHuLL7cy3Fx5OyPoBwrZcnIxjHByRxk/r+vuYHSUVW02/h1XS7XULXd5N1EsqbhggMMjPvzVmm1Z2YbhRRRSAKKKx9e1bUNJgmurbTre4s7aAzzyzXflHAySEUI2Tgdyo5HPXCvYdrmxTY/un/eP865/UPFE0Mkg0zT1vFtrNb268yfymSNs7Qo2tuchH4JUcDnmo77xgYVubmwsVurCxgjuLucz7HVHG75E2neQnzEEr1GCecMR01Fc5qHit7O4vHgsUn0/TmjW8uDcbXQuFb5E2kMFVlJyy9TjOK6OgAooooAKKKKACmy/wCpf/dNYmteKI9K1G0soLVrySa5ihnKOFW2EjbVZj6k9FHJwTwKhl8VSRXzsLFDpkV6thJdfaP3glYhciPbjYGYKSWB6nGOotdv62/zQPT+v67HR0Vzg8VSG+VjYp/Zj3xsFuhcZk80Erkx7cBN4K53Z6HGKLTxVJcX1qZLFI9NvriS2tboXG53dN33o9uFU7HwQxPTIGeBag9Do6KKKACiiigAoormNE8Wya1rFzaRx6XGltNNHIg1ItcqsbFd5h8vgEgfxdDQHS50sn3R/vD+dOrmbLxe0z2k17ZLbWF/FJLZ3Cz72ZUG7502jYSmWGC3Q5wadZeLHd421axSygubN761dLjzS0SYLBxtG1sMpwCw688cn9f19wHSUVg6R4hub2/gtdR09LJry1N3alLjzdyAqCH+UBXG9eAWHJ54rep2sFwooopAFFFFABRRRQAUUUUAFFFFABRRRQAUUUUAFRz/AOrH++n/AKEKkqOf/Vj/AH0/9CFNbgSUUUUgCiiigAooooAKKKKACiiigAooooAKKKKACmyfdH+8P51k2evme+1WC6sZbJNNVXLyujGRSGO4BScDC8ZOfUCqdl4sd3jbVrFLKC5s3vrV0uPNLRJgsHG0bWwynALDrzxyXDc6SiuYj8YtbRPNrdgLKNrB9Qg8qfzi8SY3K3yqFcbl4BYcnnir2la1d3OpPp2rWEdld/Z1uUWG4MytGTg8lVwwI5GCORgmnZ/1/XkHS/8AX9amzRRRSAKKKKACmy/6l/8AdNYkmuahaaxa2+o6XDDa3ly9tbzR3fmSEhWZWaPYAAQhPDEjIyOuIbXxXJPeWrS2KRabfXElta3QuNzs6bvvJtAVTsfBDE9MgZ4AOjornNN8VveXFk1zYpb2WpJJJZTrPvZwo3fOu0BCVywwW6HODTtJ8Tzahd2IubBLa21SJprCVbjzGdVAPzrtAQlSGABbvzxyAdDRRRQAUUUUAFNl/wBS/wDumsXVtcvtIuBLPp0J03z4oPP+1fvmMjKoKxbMEBmA5cHgnHTMEviqSK+dhYodMivVsJLr7R+8ErELkR7cbAzBSSwPU4x1Frt/X9XQPQ6OiucHiqQ3ysbFP7Me+Ngt0LjMnmglcmPbgJvBXO7PQ4xRaeKpLi+tTJYpHpt9cSW1rdC43O7pu+9HtwqnY+CGJ6ZAzwLUHodHRRRQAUUUUAFFYXiTxRHoESiK1a+uSUZ4UcL5UbOE8xyegycAdSQcdCRFq/iiXTrm++z2C3NrpkaS30pn2OisCcIm07yFGTkr1GCecAHQRf6lP90U6ubvfFb211dSQ2STabYzRw3dz9o2ujOFPyx7SGADoSSy9TgHHK3PiqSC9mZbFH0y2u0sp7r7RiRZGKjIj24KhnUElgevBxyb/wBf13A6OiiigAooooAKK53xN4q/4R+/sLXbp6/bFlbztQv/ALLGmzbxu2Nknd09qW+8RX1tIYLXTYLq5t7MXl2i3hVUU5AWNtnzsdrYyFHHJGaV9Ljszfj+6f8AeP8AOnVzd34sfBfR7Fb6KGxS/uGefymWJ8lQg2tuchGOCVHA55pt94wMK3NzYWK3VhYwR3F3OZ9jqjjd8ibTvIT5iCV6jBPOH5COmopFYMoZTkEZB9aWgAooooAKKKKACiiigAooooAKKKKACiiigAooooAKKKKACiiigCOX/WQ/75/9BNSVHL/rIf8AfP8A6CakpgFFFFID8/qKKK6SAooooAKKKKACiiigAooooAKKKKACiiigAooooAKKKKACiiigAooooAKKKKACiiigAooooAKKKKACiiigAooooAKKKKACiiigAooooAKKKKACiiigAooooAKKKKACiiigAooooAKKKKACiiigAooooAK7TX/+QHcf8B/9CFcXXaa//wAgO4/4D/6EKYjibj/ln/uf1New/sxf8lD1P/sFP/6Njrx64/5Z/wC5/U17D+zF/wAlD1P/ALBT/wDo2OokUfUVFFFYFBRRRQAUUUUAFFFFABRRRQAUUUUAFR3LTrbSNaRxyzgfIkshRWPoWAYj64NSUUAcnaaDrCeGbK1nSxjv9OuhcQBLh3jlwSSGbYpXIZhwGxweelKPDmpfNqZNr/ap1IX4g81vJx5Xk+X5m3P3Od23r2xXV0ULTb+tv8kH9fn/AJnJxeHNUtmj1OE2kmqfbpbqS3aZ1hKyJs2CQKTwAp3bOSDwM8bHh7S5dK0to7p0e5nnluZvLztDyOXKrnkgZxnAzjOB0rUooAKKKKACiiigDG8S2usXtlFb6MYAkj4uvMuWgdo8fdR1RypJ6nGcZwQcEVG0rVIm0u+sLLToLqxhktvsIunEHlNtxtkEeQR5a8bMdR6GukooA5K08N6rokdnPpTWd1dpbSwXC3ErxIWeTzN6kK3RiwwRyD1GOVh8NajokNl/Yb2tzJDpwsJRdyNEDg5WQbVbuW+XHOfvDHPWUUWW39df82H9f19xS0bTV0fQ7LTUkMi2kCQ7yMbtoAzj3q7RRTbu7sFogooopAFYPiXTdQ1aFrSCw0u7tmTKSXsjK9vLyPMUBG3EAgjBQgg888b1FK1x3sctfaBq6POdNnt7hr7T0sbmW7kZGQoGAlUBW3k+Y2VJXoOahvfCl+lrfadpb2xsdStYraeSeRlkgCp5ZZVCkPlMcErgjqc8dfRTFtt/X9WOT1LwzqE7anZWTWw07VnjeeSSVhLBtVUYKoUhsqgwSy4JPWus6UUUAFFFFABRRRQBy2ueCbXUJUnsnuIZmv4rqcf2hcIjbWBYhA20NgcEAduRST+G9RkuJbJWtv7Km1JNQaUyt5y4dZDGE24ILr97cMA9MjJ6qihabf1t/kgev9ev+bOVHhvUftMdkWtv7Lj1M6iJfMbziS5k8vZtwBvP3t3QdO9Fn4b1GK60+0uGtf7N0y7kuoJUlYzSkhwqMhXChfMPIY52jgZ46qihaf1/XYHq7/1/WoUUUUAFFFFABXPtp2ralrVjPqsFhBBp8kkkclvO8kk25GQAqUUIMNk/M3IH1roKKAOQs/Ct+yadY6k9sLDSoJYYJIZGaScMnlqWUqAmEJ4BbJ9KfbeGdRu2gi1t7ZYbPT5bCFraRnaYSBVMjBlGw4QfKC3JPPHPWUUPW9+v/B/zY72d0c5pGjaouq2l5rJtV/s+ya0h+zSM/nbim6RtyjbxGPly3U810dFFNtslKwUUUUhhRRRQAUUUUAFFFFABRRRQAUUUUAFFFFABUc/+rH++n/oQqSo5/wDVj/fT/wBCFNbgSUUUUgCiiigAooooAKKKKACiiigAooooAKKKKAOdt9L1WXXNXk1C3s47HUIVhDQ3bvIoUMASpjA5Df3uMd6q23hnUbtoItbe2WGz0+Wwha2kZ2mEgVTIwZRsOEHygtyTzxz1lFKy/r+vNjTs7o49vCupatCYdbltoRDpkmnwvayM5cvtzKwZV2n5FwuW6n5q09K03U21t9V1pbWKZbRbWOK1laRSN25nJZVIycfLg4x1Oa3aKq7vf+uv+bJsrW/rp/kgooopDCiiigDm7aw13/hKJL/ULXT7iIOY7eQXzg28JP8ADF5ON5GNxLc9AQKgtPDWoJcWFnctbf2Zpt1JcwypKxml3BwqMhXCgeYeQxztHAzx1dFHQDlNM8NahFLpdtqDW32HR4pI7eSKRmknynlqWUqAmEJzgtk+lP0fw/qVtdaSmota/ZtFgeG2eGRme4yoQM6lQEIUdAWyT1GOeoooAKKKKACiiigDm9c0fU9Xv41FrpqRwzI9vqJkf7TbrlSwVdnU7SMhwCDyDjBhn8N6jJcS2Sta/wBlzakmoNKZG85cOshjCbcEF1+9uGAenGT1VFC01/rp/kgev9f13OVHhvUftMdkWtv7Lj1M6iJfMbziS5k8vZtwBvP3t3QdO9Fn4b1GK60+0uGtf7N0y7kuoJUlYzSkhwqMhXChfMPIY52jgZ46qihaf1/XYHq7/wBf1qFFFFABRRRQBzHibwXba1bXklq08N7dPEzsL6eONthXqittztXA+Xrj60zV/Deo3Dapbac9v9j1iFIbiSeZ/MgwuxmUbWEhK46leRyTnjqqKAucnf8AhnUJX1CxtWtv7M1OeKeaWSVhLDtCKyqm0hgRGOdy4LHg45dd+G9RnuLmyja1/su7v476SVpW86MqysYwm3BBZB824YDHg456qijrf+un+SAKKKKACiiigDN1Y6vgJpNpYXUboyyLeXDxYPb7qPuHXI4+tYS+F9T0q1jh0WW1nL6XHp0zXTtHs2btsihVbd99vkOOg+auvopW0t/X9ajuzk7jwxqNlG8GhvbSRXOmx6fK11IyGIRhgsigKwc4c5U7eg5pl74Uv0tb7TtLe2NjqVrFbTyTyMskAVPLLKoUh8pjglcEdTnjr6Kq93d/1/VxLTb+v6sIiCONUXooAFLRRSDYKKKKACiiigAooooAKKKKACiiigAooooAKKKKACiiigAooooAjl/1kP8Avn/0E1JUcv8ArIf98/8AoJqSmAUUUUgPz+ooorpICiiigAooooAKKKKACiiigAooooAKKKKACiiigAooooAKKKKACiiigAooooAKKKKACiiigAooooAKKKKACiiigAooooAKKKKACiiigAooooAKKKKACiiigAooooAKKKKACiiigAooooAKKKKACiiigArtNf8A+QHcf8B/9CFcXXaa/wD8gO4/4D/6EKYjibj/AJZ/7n9TXsP7MX/JQ9T/AOwU/wD6Njrx64/5Z/7n9TXsP7MX/JQ9T/7BT/8Ao2OokUfUVFFFYFBRRRQAUUUUAFFFFABRRRQAUUUUAFFFFABRRRQAUUUUAFFFFABRRRQAUUUUAFFFFABRRRQAUUUUAFFFFABRRRQAUUUUAFFFFABRRRQAUUUUAFFFFABRRRQAUUUUAFFFFABRRRQAUUUUAFFFFABRRRQAUUUUAFFFFABRRRQAUUUUAFFFFABUc/8Aqx/vp/6EKkqOf/Vj/fT/ANCFNbgSUUUUgCiiigAooooAKKKKACiiigAooooAKKKKACiiigAooooAKKKKACiiigAooooAKKKKACiiigAooooAKKKKACiiigAooooAKKKKACiiigAooooAKKKKACiiigAooooAKKKKACiiigAooooAKKKKACiiigAooooAKKKKACiiigAooooAKKKKACiiigCOX/WQ/wC+f/QTUlRy/wCsh/3z/wCgmpKYBRRRSA/P6iiiukgKKKKACiiigAooooAKKKKACiiigAooooAKKKKACiiigAooooAKKKKACiiigAooooAKKKKACiiigAooooAKKKKACiiigAooooAKKKKACiiigAooooAKKKKACiiigAooooAKKKKACiiigAooooAKKKKACu01/wD5Adx/wH/0IVxddpr/APyA7j/gP/oQpiOJuP8Aln/uf1New/sxf8lD1P8A7BT/APo2OvHrj/ln/uf1New/sxf8lD1P/sFP/wCjY6iRR9RUUUVgUFFFFABRRRQAUUUUAFFFFABRRRQAUUUUAFFFFABRRRQAUUUUAFFFFABRRRQAUUUUAczJcal/wsR7OLUZjaDTvtS2bLEIy+7ZgtsLgd+vX24qhpXi7ULTwRDq/iOOzBk2xwyi72+a7OVG/MarGo7kFuATjPB2v7Evf+E0/tsX1v8AZ/sv2U2v2Vt23O7PmeZjO7/Z6ce9U4/CV0uinTG1RBFbzCfT5Y7XbJbsrl13ksVkAyBgKuRn1yEtl/XX/Ib3f9dP8ymnxCibT9Qkjt7S9ubJoMpp1+s8UiyyBBiTauGBzlSB25wcjQ1PxBqek2sM2oWmjWiyOymS71gwxrjG0bjFksfm4AwNvU5qS70PVNV02e11bVbaTfJA8f2ayMSp5cgc5BkYktgDqAPT1l1PRLq41y31bTby3t7mKBrc/abTz12lgcrh1Ktx1yQfTimIxf8AhKtU1S78PT6Db2r2+oQztLDPdbQXTAI3rG/AOcEdavf8JJLA2qKIJLm4j1JLG2gaRQrO0SN94ICqDcSSdxABPPC0238JXdjY6YthqqfbNPlncT3FpvWVZSxYMisuDyOQR06c4E0vhVnW+kjv/LubjUE1CCURcQyLGiAEZ+ZTsORkZDEZHWjr/XdfpcOn9dn+tiK78W3OnWV/9v0ofb7F7cNbwXO9JUmcIrI7KvfcMEDleuOafJ4puNPfUk1rTVgexsvtyi1uDP5kYLAjlVww29ORz1pJ/ClxfW962o6kkl7eSW7PLFblI0SGQOqKhckZO7JLHls+1X7vRp5dYuNSs777NPJZC1jJhDhGDlg5yeRzjHH1o/r8P8x6f1/XqN8P6xdazC08sGn/AGZlBiuNP1D7UjHJDKTsXBHHTP4VsVgaJ4aOmazearcyWbXd2gR/sNl9mRsMWLMC7FnJP3ieg6Vv0yQooopDCiiigAooooAKKKKACiiigAooooAKKKKACiiigAooooAKKKKACiiigAooooAKKKKACiiigAooooAKKKKACo5/9WP99P8A0IVJUc/+rH++n/oQprcCSiiikAUUUUAFFFFABRRRQAUUUUAFFFFABRRRQAUUUUAFFFFABRRRQAUUUUAFFFFABXN31xqC/ELTrOHUp47OazmnktgkW1mRkA+YoWAO85wewxjv0lYl1ol7P4ws9ZjvoEhtoHg+ztalmZXKljv3gA/IMfL69ewt1/XRh0f9dTG0jxXqVr4Wu9X8SRWogguJo0ljuvmZhcNGqEGNVVRwNxboMkDnAnxDh+x6m3lWF3cWNr9qC6bqIuY5Fzt2l9ilWz2K4wRz1xfHhOZtOvdMk1FfsM07XNt5dvtmt5TL5oO8sVYB+g2Djgk1JeaFq+q6Pe2GraxayLcweUhtrExBDnliDIxY8dAVHXr2ED/UNQ17VNNsFur2x0q0jeTG+81bykRccbm8o4cnjaNw/wBo1lSeLtS1NPD1xoMNoy3l5Pb3ET3Y8t2jjk4EixtlcpuDAAnC8cnG7q+iXF7qdhqWn3cFvd2SSRobm189Nr4yQA6kN8o5DdCRg5qhH4RubeygFvqqm+t9Rmv47ia13KTJvDKyBhkYkIyCOx9qF5/1/W4dP67P/gDpPEktlPq/2iCSWW1e2hjtkkUq0sqjCqdikDcwyWz64HSkvPFd3pdnqf8AaulxpeWNsLpIre6Mkc8ZJHDlFIYEEEFeMjk54muPCzXX9pPNfbZ717eZJIotvkywgbWAJORuUHHpxnvUV14UutTtdT/tXU45bu+tltVkgtTHHDGCW4QuxJJJyd3OBwMcn9fh/n+AdP6/rYmTxJdW+pS2ur6Ytt/ocl7D9nuPOZ0QgMrDau1/mXgFgcnnjl3hvxBc6/EtyLewNm6ZWay1AXGxuDscbF2thuxbofbNi90WS51mPUbe9NvLFYzWqYiDFWkZCH5OONnQjnNVNK8MyWniKXWr+axkvJITCWsrH7N5gJBLSZdy7fKoByMDPrTXn/W//AE9v68v+CdDRRRSGFFFFABRRRQAUUUUAFFFFABRRRQAUUUUAFFFFABRRRQAUUUUAFFFFABRRRQAUUUUAFFFFABRRRQAUUUUAFFFFABRRRQBHL/rIf8AfP8A6CakqOX/AFkP++f/AEE1JTAKKKKQH5/UUUV0kBRRRQAUUUUAFFFFABRRRQAUUUUAFFFFABRRRQAUUUUAFFFFABRRRQAUUUUAFFFFABRRRQAUUUUAFFFFABRRRQAUUUUAFFFFABRRRQAUUUUAFFFFABRRRQAUUUUAFFFFABRRRQAUUUUAFFFFABRRRQAV2mv/APIDuP8AgP8A6EK4uu01/wD5Adx/wH/0IUxHE3H/ACz/ANz+pr2H9mL/AJKHqf8A2Cn/APRsdePXH/LP/c/qa9h/Zi/5KHqf/YKf/wBGx1Eij6iooorAoKKKKACiiigAooooAKKKKACiiigAooooAKKKKACiiigAooooAKKKKACiiigAooooAKKKKACiiigAooooAKKKKACiiigAooooAKKKKACiiigAooooAKKKKACiiigAooooAKKKKACiiigAooooAKKKKACiiigAooooAKKKKACiiigAooooAKjn/wBWP99P/QhUlRz/AOrH++n/AKEKa3AkooopAFFFFABRRRQAUUUUAFFFFABRRRQAUUUUAFFFFABRRRQAUUUUAFFFFABRRRQAUUUUAFFFFABRRRQAUUUUAFFFFABRRRQAUUUUAFFFFABRRRQAUUUUAFFFFABRRRQAUUUUAFFFFABRRRQAUUUUAFFFFABRRRQAUUUUAFFFFABRRRQAUUUUAFFFFAEcv+sh/wB8/wDoJqSo5f8AWQ/75/8AQTUlMAooopAfn9RRRXSQFFFFABRRRQAUUUUAFFFFABRRRQAUUUUAFFFFABRRRQAUUUUAFFFFABRRRQAUUUUAFFFFABRRRQAUUUUAFFFFABRRRQAUUUUAFFFFABRRRQAUUUUAFFFFABRRRQAUUUUAFFFFABRRRQAUUUUAFFFFABXaa/8A8gO4/wCA/wDoQri67TX/APkB3H/Af/QhTEcTcf8ALP8A3P6mvYf2Yv8Akoep/wDYKf8A9Gx149cf8s/9z+pr2H9mL/koep/9gp//AEbHUSKPqKiiisCgooooAKKKKACiiigAooooAKKKKACiiigAooooAKKKKACiiigAooooAKKKKACiiigAooooAKKKKACiiigAooooAKKKKACiiigAooooAKKKKACiiigAooooAKKKKACiiigAooooAKKKKACiiigAooooAKKKKACiiigAooooAKKKKACiiigAqOf/AFY/30/9CFSVHP8A6sf76f8AoQprcCSiiikAUUUUAFFFFABRRRQAUUUUAFFFFABRRRQAUUUUAFFFFABRRRQAUUUUAFFFFABRRRQAUUUUAFFFFABRRRQAUUUUAFFFFABRRRQAUUUUAFFFFABRRRQAUUUUAFFFFABRRRQAUUUUAFFFFABRRRQAUUUUAFFFFABRRRQAUUUUAFFFFABRRRQAUUUUARy/6yH/AHz/AOgmpKjl/wBZD/vn/wBBNSUwCiiikB//2Q==)"
      ]
    },
    {
      "cell_type": "markdown",
      "metadata": {
        "id": "HC2TwC_Rcuk4"
      },
      "source": [
        "## ClearML Integration\n",
        "You can join the ClearML slack channel at  https://join.slack.com/t/clearml/shared_invite/zt-c0t13pty-aVUZZW1TSSSg2vyIGVPBhg to ask questions and see real life examples and questions of industry users.\n",
        "\n",
        "### Parameters & Configurations\n",
        "Keep your parameters/configs in a single dict within your code. For example \n",
        "\n",
        "`config={\"param\":\"data\", ...}`\n",
        "\n",
        "This way you can easily connect into clearml using\n",
        "\n",
        "`Task.connect(config)`\n",
        "\n",
        "The documentation is here:\n",
        "https://clear.ml/docs/latest/docs/references/sdk/task#connect_configuration\n",
        "\n",
        "\n",
        "### Comparisons\n",
        "Once you gathered some data, you can select multiple experiments and compare them, as detailed here: https://clear.ml/docs/latest/docs/webapp/webapp_exp_comparing/\n",
        "\n",
        "### Additional Videos\n",
        "We also recommend you review these videos to learn industry best practices:\n",
        "- Day in the life of a data scientist - This video will cover nearly everything your might need to use clearml - https://www.youtube.com/watch?v=quSGXvuK1IM\n",
        "- Detection in video on raspberry pi – a real world example of what can be done with ML (an example of a nice portfolio project) -  https://www.youtube.com/watch?v=ZiOr9EdYEeE\n"
      ]
    },
    {
      "cell_type": "markdown",
      "metadata": {
        "id": "YT4Eskkycuk4"
      },
      "source": [
        "## Recommended Resources\n",
        "For an open discussion on Question Answering related topics, you are very encouraged to watch this workshop: https://www.youtube.com/watch?v=Ihgk8kGLpIE\n",
        "\n",
        "This screencast uses T5 on a different Q&A dataset: https://www.youtube.com/watch?v=_l2wJb3QPdk\n",
        "\n",
        "That's it, good luck!"
      ]
    }
  ],
  "metadata": {
    "accelerator": "GPU",
    "colab": {
      "collapsed_sections": [
        "HC2TwC_Rcuk4"
      ],
      "machine_shape": "hm",
      "name": "exercise 10 - question answering.ipynb",
      "provenance": []
    },
    "kernelspec": {
      "display_name": "Python 3",
      "language": "python",
      "name": "python3"
    },
    "language_info": {
      "codemirror_mode": {
        "name": "ipython",
        "version": 3
      },
      "file_extension": ".py",
      "mimetype": "text/x-python",
      "name": "python",
      "nbconvert_exporter": "python",
      "pygments_lexer": "ipython3",
      "version": "3.7.6"
    },
    "varInspector": {
      "cols": {
        "lenName": 16,
        "lenType": 16,
        "lenVar": 40
      },
      "kernels_config": {
        "python": {
          "delete_cmd_postfix": "",
          "delete_cmd_prefix": "del ",
          "library": "var_list.py",
          "varRefreshCmd": "print(var_dic_list())"
        },
        "r": {
          "delete_cmd_postfix": ") ",
          "delete_cmd_prefix": "rm(",
          "library": "var_list.r",
          "varRefreshCmd": "cat(var_dic_list()) "
        }
      },
      "types_to_exclude": [
        "module",
        "function",
        "builtin_function_or_method",
        "instance",
        "_Feature"
      ],
      "window_display": false
    }
  },
  "nbformat": 4,
  "nbformat_minor": 0
}
