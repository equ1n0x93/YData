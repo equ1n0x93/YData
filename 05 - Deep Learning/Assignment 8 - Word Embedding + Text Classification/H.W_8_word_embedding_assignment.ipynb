{
  "cells": [
    {
      "cell_type": "markdown",
      "metadata": {
        "id": "1KLwcAf-dfHO"
      },
      "source": [
        "# Word Embedding - Home Assigment\n",
        "## Dr. Omri Allouche 2021-2022. YData Deep Learning Course\n",
        "\n",
        "[Open in Google Colab](https://colab.research.google.com/github/omriallouche/ydata_deep_learning_2021/blob/master/assignments/word_vectors_text_classification/DL_word_embedding_assignment.ipynb)\n",
        "\n",
        "    \n",
        "In this exercise, you'll use word vectors trained on a corpus of lyrics of songs from MetroLyrics http://github.com/omriallouche/ydata_deep_learning_2021/blob/master/data/metrolyrics.parquet.\n",
        "The dataset contains these fields for each song, in CSV format:\n",
        "1. index\n",
        "1. song\n",
        "1. year\n",
        "1. artist\n",
        "1. genre\n",
        "1. lyrics\n",
        "\n",
        "Before doing this exercise, we recommend that you go over the \"Bag of words meets bag of popcorn\" tutorial (https://www.kaggle.com/c/word2vec-nlp-tutorial)\n",
        "\n",
        "Other recommended resources:\n",
        "- https://rare-technologies.com/word2vec-tutorial/\n",
        "- https://www.kaggle.com/pierremegret/gensim-word2vec-tutorial"
      ]
    },
    {
      "cell_type": "code",
      "execution_count": null,
      "metadata": {
        "colab": {
          "base_uri": "https://localhost:8080/"
        },
        "executionInfo": {
          "elapsed": 14637,
          "status": "ok",
          "timestamp": 1651827883465,
          "user": {
            "displayName": "Asaf Dahan",
            "userId": "05572133538735955476"
          },
          "user_tz": -180
        },
        "id": "yWF7tnrdQxbu",
        "outputId": "9ecf12b1-4df5-4a5b-895d-dd2d77d65505"
      },
      "outputs": [
        {
          "name": "stdout",
          "output_type": "stream",
          "text": [
            "Requirement already satisfied: gensim in /usr/local/lib/python3.7/dist-packages (3.6.0)\n",
            "Collecting gensim\n",
            "  Downloading gensim-4.2.0-cp37-cp37m-manylinux_2_12_x86_64.manylinux2010_x86_64.whl (24.1 MB)\n",
            "\u001b[K     |████████████████████████████████| 24.1 MB 1.9 MB/s \n",
            "\u001b[?25hRequirement already satisfied: scipy>=0.18.1 in /usr/local/lib/python3.7/dist-packages (from gensim) (1.4.1)\n",
            "Requirement already satisfied: numpy>=1.17.0 in /usr/local/lib/python3.7/dist-packages (from gensim) (1.21.6)\n",
            "Requirement already satisfied: smart-open>=1.8.1 in /usr/local/lib/python3.7/dist-packages (from gensim) (6.0.0)\n",
            "Installing collected packages: gensim\n",
            "  Attempting uninstall: gensim\n",
            "    Found existing installation: gensim 3.6.0\n",
            "    Uninstalling gensim-3.6.0:\n",
            "      Successfully uninstalled gensim-3.6.0\n",
            "Successfully installed gensim-4.2.0\n"
          ]
        }
      ],
      "source": [
        "!pip install --upgrade gensim "
      ]
    },
    {
      "cell_type": "code",
      "execution_count": null,
      "metadata": {
        "colab": {
          "base_uri": "https://localhost:8080/"
        },
        "executionInfo": {
          "elapsed": 29689,
          "status": "ok",
          "timestamp": 1651827913148,
          "user": {
            "displayName": "Asaf Dahan",
            "userId": "05572133538735955476"
          },
          "user_tz": -180
        },
        "id": "1PKPMfTgnPkb",
        "outputId": "7779b82e-2696-43bb-8e30-17fefa231a73"
      },
      "outputs": [
        {
          "name": "stdout",
          "output_type": "stream",
          "text": [
            "Mounted at /content/drive\n"
          ]
        }
      ],
      "source": [
        "from google.colab import drive\n",
        "\n",
        "drive.mount(\"/content/drive\")"
      ]
    },
    {
      "cell_type": "code",
      "execution_count": 4,
      "metadata": {
        "executionInfo": {
          "elapsed": 5359,
          "status": "ok",
          "timestamp": 1651827923904,
          "user": {
            "displayName": "Asaf Dahan",
            "userId": "05572133538735955476"
          },
          "user_tz": -180
        },
        "id": "TetnWYUje9W-"
      },
      "outputs": [],
      "source": [
        "# Some imports for the notebook to work\n",
        "import re\n",
        "import time\n",
        "import copy\n",
        "import itertools\n",
        "import multiprocessing\n",
        "import numpy as np\n",
        "import pandas as pd\n",
        "import matplotlib.pyplot as plt\n",
        "import seaborn as sns\n",
        "from io import BytesIO\n",
        "from zipfile import ZipFile\n",
        "from urllib.request import urlopen\n",
        "\n",
        "# sklearn imports\n",
        "from sklearn.manifold import TSNE\n",
        "from sklearn.decomposition import PCA\n",
        "from sklearn.feature_extraction.text import CountVectorizer, TfidfVectorizer\n",
        "from sklearn.model_selection import train_test_split\n",
        "from sklearn.feature_extraction.text import CountVectorizer\n",
        "from sklearn.naive_bayes import MultinomialNB\n",
        "from sklearn.pipeline import Pipeline\n",
        "from sklearn.metrics import classification_report\n",
        "from sklearn.metrics import confusion_matrix, accuracy_score, mean_squared_error\n",
        "\n",
        "# LightGBM\n",
        "import lightgbm as lgb\n",
        "from lightgbm import log_evaluation\n",
        "\n",
        "# Word2Vec\n",
        "from gensim.models import Word2Vec\n",
        "from gensim.parsing.preprocessing import remove_stopwords\n",
        "\n",
        "# nltk\n",
        "import nltk\n",
        "from nltk.corpus import stopwords\n",
        "from nltk.tokenize import word_tokenize\n",
        "\n",
        "# PyTorch\n",
        "import torch\n",
        "import torch.nn as nn\n",
        "import torch.optim as optim\n",
        "from torch.nn import functional as F\n",
        "from torch.optim import lr_scheduler\n",
        "from torch.utils.data import Dataset"
      ]
    },
    {
      "cell_type": "code",
      "execution_count": null,
      "metadata": {
        "colab": {
          "base_uri": "https://localhost:8080/"
        },
        "executionInfo": {
          "elapsed": 853,
          "status": "ok",
          "timestamp": 1651827926019,
          "user": {
            "displayName": "Asaf Dahan",
            "userId": "05572133538735955476"
          },
          "user_tz": -180
        },
        "id": "03bPyrise9W_",
        "outputId": "f9730e12-b7ae-47b7-da95-7d0d504c1adc"
      },
      "outputs": [
        {
          "name": "stdout",
          "output_type": "stream",
          "text": [
            "[nltk_data] Downloading package stopwords to /root/nltk_data...\n",
            "[nltk_data]   Unzipping corpora/stopwords.zip.\n",
            "[nltk_data] Downloading package punkt to /root/nltk_data...\n",
            "[nltk_data]   Unzipping tokenizers/punkt.zip.\n"
          ]
        },
        {
          "data": {
            "text/plain": [
              "True"
            ]
          },
          "execution_count": 5,
          "metadata": {},
          "output_type": "execute_result"
        }
      ],
      "source": [
        "nltk.download(\"stopwords\")\n",
        "nltk.download(\"punkt\")"
      ]
    },
    {
      "cell_type": "markdown",
      "metadata": {
        "id": "ZDTrK5kodfHS"
      },
      "source": [
        "### Train word vectors\n",
        "Train word vectors using the Skipgram Word2vec algorithm and the gensim package.\n",
        "Make sure you perform the following:\n",
        "- Tokenize words\n",
        "- Lowercase all words\n",
        "- Remove punctuation marks\n",
        "- Remove rare words\n",
        "- Remove stopwords\n",
        "\n",
        "Use 300 as the dimension of the word vectors. Try different context sizes."
      ]
    },
    {
      "cell_type": "code",
      "execution_count": null,
      "metadata": {
        "executionInfo": {
          "elapsed": 12618,
          "status": "ok",
          "timestamp": 1651827953458,
          "user": {
            "displayName": "Asaf Dahan",
            "userId": "05572133538735955476"
          },
          "user_tz": -180
        },
        "id": "62zxv3oHe9W_"
      },
      "outputs": [],
      "source": [
        "# raw_df = pd.read_parquet('./metrolyrics.parquet')\n",
        "raw_df = pd.read_parquet(\n",
        "    \"/content/drive/MyDrive/Y-Data/Semester II/Deep Learning/Assignments/Assignment 8 - Word Embedding + Text Classification/data/metrolyrics.parquet\"\n",
        ")"
      ]
    },
    {
      "cell_type": "code",
      "execution_count": 7,
      "metadata": {
        "colab": {
          "base_uri": "https://localhost:8080/"
        },
        "executionInfo": {
          "elapsed": 8,
          "status": "ok",
          "timestamp": 1651827953459,
          "user": {
            "displayName": "Asaf Dahan",
            "userId": "05572133538735955476"
          },
          "user_tz": -180
        },
        "id": "6swOpt_ee9W_",
        "outputId": "cc562b5d-77c1-4fba-bcfe-0c5adedd02a3"
      },
      "outputs": [
        {
          "data": {
            "text/plain": [
              "(49976, 8)"
            ]
          },
          "execution_count": 7,
          "metadata": {},
          "output_type": "execute_result"
        }
      ],
      "source": [
        "raw_df.shape"
      ]
    },
    {
      "cell_type": "code",
      "execution_count": 8,
      "metadata": {
        "colab": {
          "base_uri": "https://localhost:8080/"
        },
        "executionInfo": {
          "elapsed": 498,
          "status": "ok",
          "timestamp": 1651821360990,
          "user": {
            "displayName": "Asaf Dahan",
            "userId": "05572133538735955476"
          },
          "user_tz": -180
        },
        "id": "p1wXDolYe9XA",
        "outputId": "8167d9ec-f657-424a-b664-9b17f25b8460"
      },
      "outputs": [
        {
          "name": "stdout",
          "output_type": "stream",
          "text": [
            "[HEALY]\n",
            "[spoken] This is Bert Healy saying ...\n",
            "[singing now] Hey, hobo man\n",
            "Hey, Dapper Dan\n",
            "You've both got your style\n",
            "But Brother,\n",
            "You're never fully dressed\n",
            "Without a smile!\n",
            "Your clothes may be Beau Brummelly\n",
            "They stand out a mile --\n",
            "But Brother,\n",
            "You're never fully dressed\n",
            "Without a smile!\n",
            "Who cares what they're wearing\n",
            "On Main Street,\n",
            "Or Saville Row,\n",
            "It's what you wear from ear to ear\n",
            "And not from head to toe\n",
            "(That matters)\n",
            "So, Senator,\n",
            "So, Janitor,\n",
            "So long for a while\n",
            "Remember,\n",
            "You're never fully dressed\n",
            "Without a smile!\n",
            "[BOYLAN SISTER]\n",
            "Ready or not, here he goes\n",
            "Listen to Bert\n",
            "Tap his smilin' toes\n",
            "[HEALY]\n",
            "[spoken] Ah, the lovely Boylan Sisters\n",
            "[BOYLAN SISTERS]\n",
            "Doo doodle-oo doo\n",
            "Doo doodle-oo doo\n",
            "Doo doo doo doo\n",
            "Doo doo doo doo\n",
            "Your clothes may be Beau Brummelly\n",
            "They stand out a mile\n",
            "But, bother\n",
            "You're never fully dressed\n",
            "You're never dressed\n",
            "Without an\n",
            "[CONNIE BOYLAN]\n",
            "S-\n",
            "[BONNIE BOYLAN]\n",
            "M-\n",
            "[RONNIE BOYLAN]\n",
            "I-\n",
            "[CONNIE BOYLAN]\n",
            "L-\n",
            "[ALL THREE]\n",
            "E.\n",
            "Smile darn ya smile.\n",
            "[ALL]\n",
            "That matters\n",
            "So Senator\n",
            "So Janitor\n",
            "So long for a while\n",
            "healy spoken this bert healy saying singing hey hobo man hey dapper dan you got style but brother you never fully dressed without smile your clothes may beau brummelly they stand mile but brother you never fully dressed without smile who cares wearing on main street or saville row it wear ear ear and head toe that matters so senator so janitor so long remember you never fully dressed without smile boylan sister ready goes listen bert tap smilin toes healy spoken ah lovely boylan sisters boylan sisters doo doodle oo doo doo doodle oo doo doo doo doo doo doo doo doo doo your clothes may beau brummelly they stand mile but bother you never fully dressed you never dressed without connie boylan s bonnie boylan m ronnie boylan i connie boylan l all three e smile darn ya smile all that matters so senator so janitor so long\n"
          ]
        }
      ],
      "source": [
        "print(raw_df.iloc[0].lyrics)\n",
        "print(raw_df.iloc[0].sent)"
      ]
    },
    {
      "cell_type": "code",
      "execution_count": null,
      "metadata": {
        "id": "0IDBxft7e9XB",
        "outputId": "cee5dffc-8904-4e5d-8384-6c5103dff1e8"
      },
      "outputs": [
        {
          "name": "stdout",
          "output_type": "stream",
          "text": [
            "showing info https://raw.githubusercontent.com/nltk/nltk_data/gh-pages/index.xml\n"
          ]
        },
        {
          "data": {
            "text/plain": [
              "True"
            ]
          },
          "execution_count": 28,
          "metadata": {},
          "output_type": "execute_result"
        }
      ],
      "source": [
        "# Download the stopwords and word tokenizer from nltk\n",
        "# nltk.download()"
      ]
    },
    {
      "cell_type": "code",
      "execution_count": null,
      "metadata": {
        "executionInfo": {
          "elapsed": 6,
          "status": "ok",
          "timestamp": 1651827953459,
          "user": {
            "displayName": "Asaf Dahan",
            "userId": "05572133538735955476"
          },
          "user_tz": -180
        },
        "id": "UcHLqACae9XB"
      },
      "outputs": [],
      "source": [
        "def preprocess_words(raw_str):\n",
        "    # 1. Remove non-letters\n",
        "    letters_only = re.sub(\"[^a-zA-Z]\", \" \", raw_str)\n",
        "\n",
        "    # 2. Convert to lower case, tokenize into individual words\n",
        "    words = word_tokenize(letters_only.lower())\n",
        "\n",
        "    # 3. In Python, searching a set is much faster than searching\n",
        "    #   a list, so convert the stop words to a set\n",
        "    stops = set(stopwords.words(\"english\"))\n",
        "\n",
        "    # 4. Remove stop words\n",
        "    tokenized_words = [w for w in words if not w in stops]\n",
        "\n",
        "    return tokenized_words\n",
        "\n",
        "\n",
        "def preprocess_df(df, cols_to_process):\n",
        "    for col in cols_to_process:\n",
        "        df[f\"{col}_preprocessed\"] = df[col].map(lambda x: preprocess_words(x))\n",
        "    return df\n"
      ]
    },
    {
      "cell_type": "code",
      "execution_count": null,
      "metadata": {
        "colab": {
          "base_uri": "https://localhost:8080/"
        },
        "executionInfo": {
          "elapsed": 123038,
          "status": "ok",
          "timestamp": 1651828076492,
          "user": {
            "displayName": "Asaf Dahan",
            "userId": "05572133538735955476"
          },
          "user_tz": -180
        },
        "id": "PY8ajAwPe9XB",
        "outputId": "52dd3c53-cab4-4b81-d075-eb21f4da0de5"
      },
      "outputs": [
        {
          "data": {
            "text/plain": [
              "song                                                       fully-dressed\n",
              "year                                                                2008\n",
              "artist                                                             annie\n",
              "genre                                                                Pop\n",
              "lyrics                 [HEALY]\\n[spoken] This is Bert Healy saying .....\n",
              "num_chars                                                           1041\n",
              "sent                   healy spoken this bert healy saying singing he...\n",
              "num_words                                                            826\n",
              "lyrics_preprocessed    [healy, spoken, bert, healy, saying, singing, ...\n",
              "sent_preprocessed      [healy, spoken, bert, healy, saying, singing, ...\n",
              "Name: 204182, dtype: object"
            ]
          },
          "execution_count": 9,
          "metadata": {},
          "output_type": "execute_result"
        }
      ],
      "source": [
        "pp_df = preprocess_df(raw_df, [\"lyrics\", \"sent\"])\n",
        "pp_df.iloc[0]"
      ]
    },
    {
      "cell_type": "code",
      "execution_count": null,
      "metadata": {
        "executionInfo": {
          "elapsed": 929,
          "status": "ok",
          "timestamp": 1651822929647,
          "user": {
            "displayName": "Asaf Dahan",
            "userId": "05572133538735955476"
          },
          "user_tz": -180
        },
        "id": "uujYvRt8e9XB"
      },
      "outputs": [],
      "source": [
        "def train_word2vec(\n",
        "    df,\n",
        "    col_name,\n",
        "    num_features=300,\n",
        "    min_word_count=20,\n",
        "    context=10,\n",
        "    downsampling=1e-3,\n",
        "    num_workers=multiprocessing.cpu_count() - 1,\n",
        "):\n",
        "    \"\"\"Trains word2vec model and returns model given input model hyper params and a dataframe\n",
        "\n",
        "    Params:\n",
        "        num_features      # Word vector dimensionality\n",
        "        min_word_count    # Minimum word count\n",
        "        num_workers       # Number of threads to run in parallel\n",
        "        context           # Context window size (How many words of context should the training algorithm take into account?)\n",
        "        downsampling      # Downsample setting for frequent words\n",
        "\n",
        "    Returns:\n",
        "        trained word2vec model\n",
        "    \"\"\"\n",
        "\n",
        "    model = Word2Vec(\n",
        "        df[col_name].tolist(),\n",
        "        workers=num_workers,\n",
        "        vector_size=num_features,\n",
        "        min_count=min_word_count,\n",
        "        window=context,\n",
        "        sample=downsampling,\n",
        "    )\n",
        "\n",
        "    model.save(f\"./models/word2vec_model_context_{context}.bin\")\n",
        "    return model"
      ]
    },
    {
      "cell_type": "code",
      "execution_count": null,
      "metadata": {
        "executionInfo": {
          "elapsed": 1283,
          "status": "ok",
          "timestamp": 1651828079016,
          "user": {
            "displayName": "Asaf Dahan",
            "userId": "05572133538735955476"
          },
          "user_tz": -180
        },
        "id": "UwbxJYFTnnft"
      },
      "outputs": [],
      "source": [
        "model_ct10 = Word2Vec.load(\n",
        "    \"/content/drive/MyDrive/Y-Data/Semester II/Deep Learning/Assignments/Assignment 8 - Word Embedding + Text Classification/models/word2vec_model_context_10.bin\"\n",
        ")"
      ]
    },
    {
      "cell_type": "code",
      "execution_count": null,
      "metadata": {
        "executionInfo": {
          "elapsed": 136079,
          "status": "ok",
          "timestamp": 1651823065722,
          "user": {
            "displayName": "Asaf Dahan",
            "userId": "05572133538735955476"
          },
          "user_tz": -180
        },
        "id": "KF2WdMFae9XC"
      },
      "outputs": [],
      "source": [
        "model_ct10 = train_word2vec(\n",
        "    pp_df, \"lyrics_preprocessed\", num_features=300, min_word_count=20, context=10\n",
        ")\n",
        "model_ct20 = train_word2vec(\n",
        "    pp_df, \"lyrics_preprocessed\", num_features=300, min_word_count=20, context=20\n",
        ")\n",
        "model_ct50 = train_word2vec(\n",
        "    pp_df, \"lyrics_preprocessed\", num_features=300, min_word_count=20, context=50\n",
        ")"
      ]
    },
    {
      "cell_type": "markdown",
      "metadata": {
        "id": "ZAaloMzbdfHV"
      },
      "source": [
        "### Review most similar words\n",
        "Get initial evaluation of the word vectors by analyzing the most similar words for a few interesting words in the text. \n",
        "\n",
        "Choose words yourself, and find the most similar words to them."
      ]
    },
    {
      "cell_type": "code",
      "execution_count": null,
      "metadata": {
        "id": "-Fr8sygodfHW",
        "outputId": "2ffec517-6083-4b0d-c7a4-751490d6548d"
      },
      "outputs": [
        {
          "data": {
            "text/plain": [
              "([('darling', 0.5546019077301025),\n",
              "  ('darlin', 0.5225796699523926),\n",
              "  ('heart', 0.522108256816864),\n",
              "  ('tender', 0.518748939037323),\n",
              "  ('babe', 0.5055550336837769),\n",
              "  ('loving', 0.5044670701026917),\n",
              "  ('baby', 0.5038967132568359),\n",
              "  ('lovin', 0.48372310400009155),\n",
              "  ('true', 0.48206761479377747),\n",
              "  ('kisses', 0.47537729144096375)],\n",
              " [('heart', 0.5101732611656189),\n",
              "  ('tender', 0.5059552788734436),\n",
              "  ('darling', 0.4796719253063202),\n",
              "  ('kisses', 0.4772131145000458),\n",
              "  ('cherish', 0.46327292919158936),\n",
              "  ('darlin', 0.4616938829421997),\n",
              "  ('lovin', 0.4494415521621704),\n",
              "  ('baby', 0.4488314390182495),\n",
              "  ('lovers', 0.4419877231121063),\n",
              "  ('touches', 0.4372428059577942)],\n",
              " [('amour', 0.42904531955718994),\n",
              "  ('heartaches', 0.4276977777481079),\n",
              "  ('uuuh', 0.40588611364364624),\n",
              "  ('kisses', 0.4046306908130646),\n",
              "  ('heart', 0.3959047198295593),\n",
              "  ('waterfall', 0.39109283685684204),\n",
              "  ('touches', 0.38264089822769165),\n",
              "  ('lovers', 0.38034915924072266),\n",
              "  ('chanterai', 0.3773213028907776),\n",
              "  ('hug', 0.3675232529640198)])"
            ]
          },
          "execution_count": 43,
          "metadata": {},
          "output_type": "execute_result"
        }
      ],
      "source": [
        "(\n",
        "    model_ct10.wv.most_similar(\"love\"),\n",
        "    model_ct20.wv.most_similar(\"love\"),\n",
        "    model_ct50.wv.most_similar(\"love\"),\n",
        ")"
      ]
    },
    {
      "cell_type": "code",
      "execution_count": null,
      "metadata": {
        "id": "2PK-D2yre9XC",
        "outputId": "1bfcd233-af5a-45e2-fc09-3c6ae6df7083"
      },
      "outputs": [
        {
          "data": {
            "text/plain": [
              "([('dancing', 0.6114360690116882),\n",
              "  ('romance', 0.5745452046394348),\n",
              "  ('floor', 0.49271276593208313),\n",
              "  ('dancin', 0.48856449127197266),\n",
              "  ('trance', 0.4882347583770752),\n",
              "  ('chance', 0.44438791275024414),\n",
              "  ('rhythm', 0.44105562567710876),\n",
              "  ('groove', 0.41764578223228455),\n",
              "  ('disco', 0.4095568060874939),\n",
              "  ('wallflower', 0.4090960621833801)],\n",
              " [('trance', 0.5780401825904846),\n",
              "  ('romance', 0.5765436291694641),\n",
              "  ('dancing', 0.5555717945098877),\n",
              "  ('floor', 0.4660272002220154),\n",
              "  ('dancin', 0.4538261294364929),\n",
              "  ('chance', 0.44598546624183655),\n",
              "  ('pants', 0.4259847402572632),\n",
              "  ('wiggle', 0.42041534185409546),\n",
              "  ('tanz', 0.4161594808101654),\n",
              "  ('danse', 0.4042186737060547)],\n",
              " [('trance', 0.5151521563529968),\n",
              "  ('romance', 0.4875383973121643),\n",
              "  ('dancing', 0.4259102940559387),\n",
              "  ('pants', 0.41126587986946106),\n",
              "  ('chance', 0.3996368646621704),\n",
              "  ('dancefloor', 0.39251840114593506),\n",
              "  ('dancers', 0.3867315351963043),\n",
              "  ('wiggle', 0.3763308823108673),\n",
              "  ('groove', 0.3646449148654938),\n",
              "  ('diddley', 0.35604172945022583)])"
            ]
          },
          "execution_count": 44,
          "metadata": {},
          "output_type": "execute_result"
        }
      ],
      "source": [
        "(\n",
        "    model_ct10.wv.most_similar(\"dance\"),\n",
        "    model_ct20.wv.most_similar(\"dance\"),\n",
        "    model_ct50.wv.most_similar(\"dance\"),\n",
        ")"
      ]
    },
    {
      "cell_type": "markdown",
      "metadata": {
        "id": "bXBJuQIZdfHW"
      },
      "source": [
        "### Word Vectors Algebra\n",
        "We've seen in class examples of algebraic games on the word vectors (e.g. man - woman + king = queen ). \n",
        "\n",
        "Try a few vector algebra terms, and evaluate how well they work. Try to use the Cosine distance and compare it to the Euclidean distance."
      ]
    },
    {
      "cell_type": "markdown",
      "metadata": {
        "id": "rhJvyL_Ze9XD"
      },
      "source": [
        "##### 1. Evaluate few vector algebra terms"
      ]
    },
    {
      "cell_type": "code",
      "execution_count": null,
      "metadata": {
        "id": "z76o_AcMe9XD",
        "outputId": "33f00cc8-2ada-4953-ac26-1a34009eda3c"
      },
      "outputs": [
        {
          "data": {
            "text/plain": [
              "[('queen', 0.6247684359550476),\n",
              " ('crown', 0.5356820821762085),\n",
              " ('kings', 0.48747020959854126)]"
            ]
          },
          "execution_count": 68,
          "metadata": {},
          "output_type": "execute_result"
        }
      ],
      "source": [
        "model_ct10.wv.most_similar(positive=[\"woman\", \"king\"], negative=[\"man\"], topn=3)"
      ]
    },
    {
      "cell_type": "code",
      "execution_count": null,
      "metadata": {
        "id": "ri-Fm45MdfHX",
        "outputId": "5d2ab511-4a80-41b5-d433-fbb923b76f42"
      },
      "outputs": [
        {
          "data": {
            "text/plain": [
              "[('understands', 0.49320459365844727),\n",
              " ('understand', 0.4713032841682434),\n",
              " ('plan', 0.4375264346599579)]"
            ]
          },
          "execution_count": 69,
          "metadata": {},
          "output_type": "execute_result"
        }
      ],
      "source": [
        "model_ct10.wv.most_similar(positive=[\"man\", \"woman\"], topn=3)"
      ]
    },
    {
      "cell_type": "code",
      "execution_count": null,
      "metadata": {
        "id": "ceWElyd7e9XD",
        "outputId": "684d246a-f6f8-4dd3-c023-5b970e12a69f"
      },
      "outputs": [
        {
          "data": {
            "text/plain": [
              "[('diamond', 0.5429523587226868),\n",
              " ('wedding', 0.5338956117630005),\n",
              " ('rings', 0.49342846870422363)]"
            ]
          },
          "execution_count": 70,
          "metadata": {},
          "output_type": "execute_result"
        }
      ],
      "source": [
        "model_ct10.wv.most_similar(positive=[\"woman\", \"ring\"], topn=3)"
      ]
    },
    {
      "cell_type": "markdown",
      "metadata": {
        "id": "zR3lEZVqe9XD"
      },
      "source": [
        "##### 2. Try to use the Cosine distance and compare it to the Euclidean distance\n",
        "I'll try to look on a couple of terms and evaluate the different distance measures"
      ]
    },
    {
      "cell_type": "code",
      "execution_count": null,
      "metadata": {
        "id": "6bEKdDQLe9XD"
      },
      "outputs": [],
      "source": [
        "def eval_euc(vec1, vec2):\n",
        "    return np.linalg.norm(vec1 - vec2)\n",
        "\n",
        "\n",
        "def eval_cosine(vec1, vec2):\n",
        "    return np.dot(vec1, vec2) / np.linalg.norm(vec1) * np.linalg.norm(vec2)\n"
      ]
    },
    {
      "cell_type": "code",
      "execution_count": null,
      "metadata": {
        "id": "gDw6Ue2Be9XE",
        "outputId": "fe43ac7a-3123-4ea4-ff59-a14b832af23c"
      },
      "outputs": [
        {
          "name": "stdout",
          "output_type": "stream",
          "text": [
            "Euclidean distance (dog vs. others):\n",
            "dog vs. dog - 0.0\n",
            "dog vs. wolf - 1.3139185905456543\n",
            "dog vs. cat - 0.9752369523048401\n",
            "dog vs. tiger - 1.246208906173706\n",
            "dog vs. lion - 1.2728004455566406\n",
            "dog vs. friend - 1.3373481035232544\n",
            "dog vs. animal - 1.2492549419403076\n",
            "\n",
            "Cosine similarity (dog vs. others):\n",
            "dog vs. dog - 0.9999998211860657\n",
            "dog vs. wolf - 0.1368088722229004\n",
            "dog vs. cat - 0.5244563221931458\n",
            "dog vs. tiger - 0.2234816551208496\n",
            "dog vs. lion - 0.18998944759368896\n",
            "dog vs. friend - 0.10575001686811447\n",
            "dog vs. animal - 0.21968096494674683\n"
          ]
        }
      ],
      "source": [
        "vectors_dict = {\n",
        "    \"dog\": model_ct10.wv[\"dog\"],\n",
        "    \"wolf\": model_ct10.wv[\"wolf\"],\n",
        "    \"cat\": model_ct10.wv[\"cat\"],\n",
        "    \"tiger\": model_ct10.wv[\"tiger\"],\n",
        "    \"lion\": model_ct10.wv[\"lion\"],\n",
        "    \"friend\": model_ct10.wv[\"friend\"],\n",
        "    \"animal\": model_ct10.wv[\"animal\"],\n",
        "}\n",
        "\n",
        "\n",
        "# Euclidean distance\n",
        "print(f\"Euclidean distance (dog vs. others):\")\n",
        "\n",
        "for key in vectors_dict.keys():\n",
        "    euc = eval_euc(vectors_dict.get(\"dog\"), vectors_dict.get(key))\n",
        "    print(f\"dog vs. {key} - {euc}\")\n",
        "\n",
        "\n",
        "# Cosine distance\n",
        "print(f\"\\nCosine similarity (dog vs. others):\")\n",
        "\n",
        "for key in vectors_dict.keys():\n",
        "    cosine = eval_cosine(vectors_dict.get(\"dog\"), vectors_dict.get(key))\n",
        "    print(f\"dog vs. {key} - {cosine}\")\n"
      ]
    },
    {
      "cell_type": "markdown",
      "metadata": {
        "id": "eMJxqU7Me9XE"
      },
      "source": [
        "We can see that cosine similarity has highest similarity when we have a value of 1.\n",
        "For euclidean, the lower the value the closest the terms are.\n",
        "\n",
        "We see that for both measures, dogs and cats are the closest to one another (excluding dog vs. dog of course), the ranks are pretty similar."
      ]
    },
    {
      "cell_type": "markdown",
      "metadata": {
        "id": "tvfFi4AidfHX"
      },
      "source": [
        "## Sentiment Analysis\n",
        "Estimate sentiment of words using word vectors.  \n",
        "In this section, we'll use the SemEval-2015 English Twitter Sentiment Lexicon.  \n",
        "The lexicon was used as an official test set in the SemEval-2015 shared Task #10: Subtask E, and contains a polarity score for words in range -1 (negative) to 1 (positive) - http://saifmohammad.com/WebPages/SCL.html#OPP"
      ]
    },
    {
      "cell_type": "markdown",
      "metadata": {
        "id": "yj8MVOL6dfHY"
      },
      "source": [
        "Build a classifier for the sentiment of a word given its word vector. Split the data to a train and test sets, and report the model performance on both sets."
      ]
    },
    {
      "cell_type": "code",
      "execution_count": null,
      "metadata": {
        "id": "g6tuebwKe9XE",
        "outputId": "21276259-2d1d-4da8-eb47-96e3e85b4390"
      },
      "outputs": [
        {
          "data": {
            "text/html": [
              "<div>\n",
              "<style scoped>\n",
              "    .dataframe tbody tr th:only-of-type {\n",
              "        vertical-align: middle;\n",
              "    }\n",
              "\n",
              "    .dataframe tbody tr th {\n",
              "        vertical-align: top;\n",
              "    }\n",
              "\n",
              "    .dataframe thead th {\n",
              "        text-align: right;\n",
              "    }\n",
              "</style>\n",
              "<table border=\"1\" class=\"dataframe\">\n",
              "  <thead>\n",
              "    <tr style=\"text-align: right;\">\n",
              "      <th></th>\n",
              "      <th>term</th>\n",
              "      <th>score</th>\n",
              "    </tr>\n",
              "  </thead>\n",
              "  <tbody>\n",
              "    <tr>\n",
              "      <th>0</th>\n",
              "      <td>seriously great</td>\n",
              "      <td>1.000</td>\n",
              "    </tr>\n",
              "    <tr>\n",
              "      <th>1</th>\n",
              "      <td>ridiculously happy</td>\n",
              "      <td>1.000</td>\n",
              "    </tr>\n",
              "    <tr>\n",
              "      <th>2</th>\n",
              "      <td>amazing</td>\n",
              "      <td>1.000</td>\n",
              "    </tr>\n",
              "    <tr>\n",
              "      <th>3</th>\n",
              "      <td>pretty damn amazing</td>\n",
              "      <td>0.969</td>\n",
              "    </tr>\n",
              "    <tr>\n",
              "      <th>4</th>\n",
              "      <td>happiness overload</td>\n",
              "      <td>0.969</td>\n",
              "    </tr>\n",
              "    <tr>\n",
              "      <th>...</th>\n",
              "      <td>...</td>\n",
              "      <td>...</td>\n",
              "    </tr>\n",
              "    <tr>\n",
              "      <th>1173</th>\n",
              "      <td>feel like crap</td>\n",
              "      <td>-0.984</td>\n",
              "    </tr>\n",
              "    <tr>\n",
              "      <th>1174</th>\n",
              "      <td>friend died</td>\n",
              "      <td>-0.984</td>\n",
              "    </tr>\n",
              "    <tr>\n",
              "      <th>1175</th>\n",
              "      <td>died</td>\n",
              "      <td>-0.984</td>\n",
              "    </tr>\n",
              "    <tr>\n",
              "      <th>1176</th>\n",
              "      <td>dying</td>\n",
              "      <td>-0.984</td>\n",
              "    </tr>\n",
              "    <tr>\n",
              "      <th>1177</th>\n",
              "      <td>sucks to live</td>\n",
              "      <td>-1.000</td>\n",
              "    </tr>\n",
              "  </tbody>\n",
              "</table>\n",
              "<p>1178 rows × 2 columns</p>\n",
              "</div>"
            ],
            "text/plain": [
              "                     term  score\n",
              "0         seriously great  1.000\n",
              "1      ridiculously happy  1.000\n",
              "2                 amazing  1.000\n",
              "3     pretty damn amazing  0.969\n",
              "4      happiness overload  0.969\n",
              "...                   ...    ...\n",
              "1173       feel like crap -0.984\n",
              "1174          friend died -0.984\n",
              "1175                 died -0.984\n",
              "1176                dying -0.984\n",
              "1177        sucks to live -1.000\n",
              "\n",
              "[1178 rows x 2 columns]"
            ]
          },
          "execution_count": 114,
          "metadata": {},
          "output_type": "execute_result"
        }
      ],
      "source": [
        "# Downloaded & extracted from - \"http://saifmohammad.com/WebDocs/lexiconstoreleaseonsclpage/SCL-OPP.zip\"\n",
        "sentiment_df = pd.read_csv(\n",
        "    \"./data/SCL-OPP/SCL-OPP.txt\", sep=\"\\t\", names=[\"term\", \"score\", \"classes\", \"na\"]\n",
        ")\n",
        "sentiment_df.term = sentiment_df.term.replace(\"#\", \"\", regex=True)  # remove hashtags\n",
        "sentiment_df[[\"term\", \"score\"]]"
      ]
    },
    {
      "cell_type": "code",
      "execution_count": null,
      "metadata": {
        "id": "YNuIEKble9XF",
        "outputId": "c7e0647f-c0e2-4949-e9a7-6968c3d8781c"
      },
      "outputs": [
        {
          "data": {
            "text/html": [
              "<div>\n",
              "<style scoped>\n",
              "    .dataframe tbody tr th:only-of-type {\n",
              "        vertical-align: middle;\n",
              "    }\n",
              "\n",
              "    .dataframe tbody tr th {\n",
              "        vertical-align: top;\n",
              "    }\n",
              "\n",
              "    .dataframe thead th {\n",
              "        text-align: right;\n",
              "    }\n",
              "</style>\n",
              "<table border=\"1\" class=\"dataframe\">\n",
              "  <thead>\n",
              "    <tr style=\"text-align: right;\">\n",
              "      <th></th>\n",
              "      <th>feature_0</th>\n",
              "      <th>feature_1</th>\n",
              "      <th>feature_2</th>\n",
              "      <th>feature_3</th>\n",
              "      <th>feature_4</th>\n",
              "      <th>feature_5</th>\n",
              "      <th>feature_6</th>\n",
              "      <th>feature_7</th>\n",
              "      <th>feature_8</th>\n",
              "      <th>feature_9</th>\n",
              "      <th>...</th>\n",
              "      <th>feature_292</th>\n",
              "      <th>feature_293</th>\n",
              "      <th>feature_294</th>\n",
              "      <th>feature_295</th>\n",
              "      <th>feature_296</th>\n",
              "      <th>feature_297</th>\n",
              "      <th>feature_298</th>\n",
              "      <th>feature_299</th>\n",
              "      <th>term</th>\n",
              "      <th>score</th>\n",
              "    </tr>\n",
              "  </thead>\n",
              "  <tbody>\n",
              "    <tr>\n",
              "      <th>0</th>\n",
              "      <td>-0.028028</td>\n",
              "      <td>-0.026121</td>\n",
              "      <td>0.020629</td>\n",
              "      <td>0.096290</td>\n",
              "      <td>0.025586</td>\n",
              "      <td>0.019924</td>\n",
              "      <td>0.022601</td>\n",
              "      <td>0.051900</td>\n",
              "      <td>0.047586</td>\n",
              "      <td>-0.092528</td>\n",
              "      <td>...</td>\n",
              "      <td>0.084885</td>\n",
              "      <td>0.064383</td>\n",
              "      <td>0.108877</td>\n",
              "      <td>0.099123</td>\n",
              "      <td>0.007190</td>\n",
              "      <td>-0.013950</td>\n",
              "      <td>0.027854</td>\n",
              "      <td>0.094750</td>\n",
              "      <td>seriously</td>\n",
              "      <td>0.521600</td>\n",
              "    </tr>\n",
              "    <tr>\n",
              "      <th>1</th>\n",
              "      <td>0.066105</td>\n",
              "      <td>0.078202</td>\n",
              "      <td>0.046873</td>\n",
              "      <td>-0.059407</td>\n",
              "      <td>-0.033094</td>\n",
              "      <td>0.071607</td>\n",
              "      <td>-0.028125</td>\n",
              "      <td>-0.046075</td>\n",
              "      <td>-0.072798</td>\n",
              "      <td>-0.056521</td>\n",
              "      <td>...</td>\n",
              "      <td>-0.018597</td>\n",
              "      <td>-0.127197</td>\n",
              "      <td>0.025826</td>\n",
              "      <td>0.054409</td>\n",
              "      <td>0.034031</td>\n",
              "      <td>-0.007452</td>\n",
              "      <td>0.090128</td>\n",
              "      <td>0.123656</td>\n",
              "      <td>great</td>\n",
              "      <td>0.086000</td>\n",
              "    </tr>\n",
              "    <tr>\n",
              "      <th>2</th>\n",
              "      <td>0.139205</td>\n",
              "      <td>-0.047640</td>\n",
              "      <td>0.034289</td>\n",
              "      <td>-0.064284</td>\n",
              "      <td>0.079941</td>\n",
              "      <td>-0.049679</td>\n",
              "      <td>0.064196</td>\n",
              "      <td>0.037481</td>\n",
              "      <td>-0.003611</td>\n",
              "      <td>-0.028626</td>\n",
              "      <td>...</td>\n",
              "      <td>-0.000811</td>\n",
              "      <td>-0.009932</td>\n",
              "      <td>-0.025615</td>\n",
              "      <td>-0.038089</td>\n",
              "      <td>-0.067557</td>\n",
              "      <td>0.029617</td>\n",
              "      <td>-0.103326</td>\n",
              "      <td>-0.007268</td>\n",
              "      <td>happy</td>\n",
              "      <td>0.553889</td>\n",
              "    </tr>\n",
              "    <tr>\n",
              "      <th>3</th>\n",
              "      <td>0.020647</td>\n",
              "      <td>-0.157765</td>\n",
              "      <td>0.009216</td>\n",
              "      <td>-0.017624</td>\n",
              "      <td>-0.090399</td>\n",
              "      <td>0.081558</td>\n",
              "      <td>0.110926</td>\n",
              "      <td>-0.119540</td>\n",
              "      <td>-0.039845</td>\n",
              "      <td>0.006473</td>\n",
              "      <td>...</td>\n",
              "      <td>-0.060491</td>\n",
              "      <td>-0.062215</td>\n",
              "      <td>-0.036442</td>\n",
              "      <td>0.024986</td>\n",
              "      <td>0.057815</td>\n",
              "      <td>-0.106348</td>\n",
              "      <td>-0.053494</td>\n",
              "      <td>0.009035</td>\n",
              "      <td>amazing</td>\n",
              "      <td>0.942667</td>\n",
              "    </tr>\n",
              "    <tr>\n",
              "      <th>4</th>\n",
              "      <td>0.071866</td>\n",
              "      <td>-0.147105</td>\n",
              "      <td>-0.075780</td>\n",
              "      <td>0.043966</td>\n",
              "      <td>0.097767</td>\n",
              "      <td>0.156751</td>\n",
              "      <td>0.115728</td>\n",
              "      <td>-0.005745</td>\n",
              "      <td>-0.059449</td>\n",
              "      <td>-0.006443</td>\n",
              "      <td>...</td>\n",
              "      <td>0.120305</td>\n",
              "      <td>-0.035822</td>\n",
              "      <td>-0.036112</td>\n",
              "      <td>-0.010153</td>\n",
              "      <td>0.039897</td>\n",
              "      <td>0.099760</td>\n",
              "      <td>-0.074045</td>\n",
              "      <td>-0.005742</td>\n",
              "      <td>pretty</td>\n",
              "      <td>0.092000</td>\n",
              "    </tr>\n",
              "    <tr>\n",
              "      <th>...</th>\n",
              "      <td>...</td>\n",
              "      <td>...</td>\n",
              "      <td>...</td>\n",
              "      <td>...</td>\n",
              "      <td>...</td>\n",
              "      <td>...</td>\n",
              "      <td>...</td>\n",
              "      <td>...</td>\n",
              "      <td>...</td>\n",
              "      <td>...</td>\n",
              "      <td>...</td>\n",
              "      <td>...</td>\n",
              "      <td>...</td>\n",
              "      <td>...</td>\n",
              "      <td>...</td>\n",
              "      <td>...</td>\n",
              "      <td>...</td>\n",
              "      <td>...</td>\n",
              "      <td>...</td>\n",
              "      <td>...</td>\n",
              "      <td>...</td>\n",
              "    </tr>\n",
              "    <tr>\n",
              "      <th>1710</th>\n",
              "      <td>-0.010248</td>\n",
              "      <td>-0.080916</td>\n",
              "      <td>0.002792</td>\n",
              "      <td>0.013408</td>\n",
              "      <td>0.055824</td>\n",
              "      <td>0.126896</td>\n",
              "      <td>-0.100063</td>\n",
              "      <td>-0.062407</td>\n",
              "      <td>0.011026</td>\n",
              "      <td>-0.028788</td>\n",
              "      <td>...</td>\n",
              "      <td>-0.099800</td>\n",
              "      <td>-0.036279</td>\n",
              "      <td>-0.044897</td>\n",
              "      <td>0.035017</td>\n",
              "      <td>0.055190</td>\n",
              "      <td>0.092987</td>\n",
              "      <td>0.096041</td>\n",
              "      <td>0.011879</td>\n",
              "      <td>died</td>\n",
              "      <td>-0.800500</td>\n",
              "    </tr>\n",
              "    <tr>\n",
              "      <th>1711</th>\n",
              "      <td>-0.010248</td>\n",
              "      <td>-0.080916</td>\n",
              "      <td>0.002792</td>\n",
              "      <td>0.013408</td>\n",
              "      <td>0.055824</td>\n",
              "      <td>0.126896</td>\n",
              "      <td>-0.100063</td>\n",
              "      <td>-0.062407</td>\n",
              "      <td>0.011026</td>\n",
              "      <td>-0.028788</td>\n",
              "      <td>...</td>\n",
              "      <td>-0.099800</td>\n",
              "      <td>-0.036279</td>\n",
              "      <td>-0.044897</td>\n",
              "      <td>0.035017</td>\n",
              "      <td>0.055190</td>\n",
              "      <td>0.092987</td>\n",
              "      <td>0.096041</td>\n",
              "      <td>0.011879</td>\n",
              "      <td>died</td>\n",
              "      <td>-0.800500</td>\n",
              "    </tr>\n",
              "    <tr>\n",
              "      <th>1712</th>\n",
              "      <td>-0.060548</td>\n",
              "      <td>-0.041983</td>\n",
              "      <td>0.003192</td>\n",
              "      <td>0.085494</td>\n",
              "      <td>-0.055444</td>\n",
              "      <td>-0.048816</td>\n",
              "      <td>0.008712</td>\n",
              "      <td>-0.069092</td>\n",
              "      <td>0.051438</td>\n",
              "      <td>0.041116</td>\n",
              "      <td>...</td>\n",
              "      <td>-0.072540</td>\n",
              "      <td>-0.046278</td>\n",
              "      <td>-0.012012</td>\n",
              "      <td>0.059694</td>\n",
              "      <td>0.119759</td>\n",
              "      <td>0.104539</td>\n",
              "      <td>0.045411</td>\n",
              "      <td>0.024458</td>\n",
              "      <td>dying</td>\n",
              "      <td>-0.773500</td>\n",
              "    </tr>\n",
              "    <tr>\n",
              "      <th>1713</th>\n",
              "      <td>-0.023271</td>\n",
              "      <td>0.052785</td>\n",
              "      <td>0.085583</td>\n",
              "      <td>-0.037365</td>\n",
              "      <td>0.088260</td>\n",
              "      <td>0.020265</td>\n",
              "      <td>-0.014079</td>\n",
              "      <td>0.029515</td>\n",
              "      <td>0.058895</td>\n",
              "      <td>-0.044170</td>\n",
              "      <td>...</td>\n",
              "      <td>0.076155</td>\n",
              "      <td>0.133354</td>\n",
              "      <td>-0.002555</td>\n",
              "      <td>0.090741</td>\n",
              "      <td>0.021676</td>\n",
              "      <td>-0.079883</td>\n",
              "      <td>0.002854</td>\n",
              "      <td>0.034250</td>\n",
              "      <td>sucks</td>\n",
              "      <td>-0.786500</td>\n",
              "    </tr>\n",
              "    <tr>\n",
              "      <th>1714</th>\n",
              "      <td>-0.039297</td>\n",
              "      <td>-0.140192</td>\n",
              "      <td>0.063542</td>\n",
              "      <td>0.024918</td>\n",
              "      <td>0.010456</td>\n",
              "      <td>0.087278</td>\n",
              "      <td>-0.026421</td>\n",
              "      <td>0.005994</td>\n",
              "      <td>0.008908</td>\n",
              "      <td>0.005384</td>\n",
              "      <td>...</td>\n",
              "      <td>0.006258</td>\n",
              "      <td>-0.104194</td>\n",
              "      <td>0.001598</td>\n",
              "      <td>0.157871</td>\n",
              "      <td>-0.009601</td>\n",
              "      <td>0.056987</td>\n",
              "      <td>-0.030085</td>\n",
              "      <td>0.042895</td>\n",
              "      <td>live</td>\n",
              "      <td>-0.293000</td>\n",
              "    </tr>\n",
              "  </tbody>\n",
              "</table>\n",
              "<p>1715 rows × 302 columns</p>\n",
              "</div>"
            ],
            "text/plain": [
              "      feature_0  feature_1  feature_2  feature_3  feature_4  feature_5  \\\n",
              "0     -0.028028  -0.026121   0.020629   0.096290   0.025586   0.019924   \n",
              "1      0.066105   0.078202   0.046873  -0.059407  -0.033094   0.071607   \n",
              "2      0.139205  -0.047640   0.034289  -0.064284   0.079941  -0.049679   \n",
              "3      0.020647  -0.157765   0.009216  -0.017624  -0.090399   0.081558   \n",
              "4      0.071866  -0.147105  -0.075780   0.043966   0.097767   0.156751   \n",
              "...         ...        ...        ...        ...        ...        ...   \n",
              "1710  -0.010248  -0.080916   0.002792   0.013408   0.055824   0.126896   \n",
              "1711  -0.010248  -0.080916   0.002792   0.013408   0.055824   0.126896   \n",
              "1712  -0.060548  -0.041983   0.003192   0.085494  -0.055444  -0.048816   \n",
              "1713  -0.023271   0.052785   0.085583  -0.037365   0.088260   0.020265   \n",
              "1714  -0.039297  -0.140192   0.063542   0.024918   0.010456   0.087278   \n",
              "\n",
              "      feature_6  feature_7  feature_8  feature_9  ...  feature_292  \\\n",
              "0      0.022601   0.051900   0.047586  -0.092528  ...     0.084885   \n",
              "1     -0.028125  -0.046075  -0.072798  -0.056521  ...    -0.018597   \n",
              "2      0.064196   0.037481  -0.003611  -0.028626  ...    -0.000811   \n",
              "3      0.110926  -0.119540  -0.039845   0.006473  ...    -0.060491   \n",
              "4      0.115728  -0.005745  -0.059449  -0.006443  ...     0.120305   \n",
              "...         ...        ...        ...        ...  ...          ...   \n",
              "1710  -0.100063  -0.062407   0.011026  -0.028788  ...    -0.099800   \n",
              "1711  -0.100063  -0.062407   0.011026  -0.028788  ...    -0.099800   \n",
              "1712   0.008712  -0.069092   0.051438   0.041116  ...    -0.072540   \n",
              "1713  -0.014079   0.029515   0.058895  -0.044170  ...     0.076155   \n",
              "1714  -0.026421   0.005994   0.008908   0.005384  ...     0.006258   \n",
              "\n",
              "      feature_293  feature_294  feature_295  feature_296  feature_297  \\\n",
              "0        0.064383     0.108877     0.099123     0.007190    -0.013950   \n",
              "1       -0.127197     0.025826     0.054409     0.034031    -0.007452   \n",
              "2       -0.009932    -0.025615    -0.038089    -0.067557     0.029617   \n",
              "3       -0.062215    -0.036442     0.024986     0.057815    -0.106348   \n",
              "4       -0.035822    -0.036112    -0.010153     0.039897     0.099760   \n",
              "...           ...          ...          ...          ...          ...   \n",
              "1710    -0.036279    -0.044897     0.035017     0.055190     0.092987   \n",
              "1711    -0.036279    -0.044897     0.035017     0.055190     0.092987   \n",
              "1712    -0.046278    -0.012012     0.059694     0.119759     0.104539   \n",
              "1713     0.133354    -0.002555     0.090741     0.021676    -0.079883   \n",
              "1714    -0.104194     0.001598     0.157871    -0.009601     0.056987   \n",
              "\n",
              "      feature_298  feature_299       term     score  \n",
              "0        0.027854     0.094750  seriously  0.521600  \n",
              "1        0.090128     0.123656      great  0.086000  \n",
              "2       -0.103326    -0.007268      happy  0.553889  \n",
              "3       -0.053494     0.009035    amazing  0.942667  \n",
              "4       -0.074045    -0.005742     pretty  0.092000  \n",
              "...           ...          ...        ...       ...  \n",
              "1710     0.096041     0.011879       died -0.800500  \n",
              "1711     0.096041     0.011879       died -0.800500  \n",
              "1712     0.045411     0.024458      dying -0.773500  \n",
              "1713     0.002854     0.034250      sucks -0.786500  \n",
              "1714    -0.030085     0.042895       live -0.293000  \n",
              "\n",
              "[1715 rows x 302 columns]"
            ]
          },
          "execution_count": 142,
          "metadata": {},
          "output_type": "execute_result"
        }
      ],
      "source": [
        "def get_word_sentiment_score(word, df=sentiment_df):\n",
        "    # since we have multiple words in a term, we need to split them, let's take average of scores per term\n",
        "    matches_score = np.average(df.loc[df.term.str.contains(word), \"score\"])\n",
        "    return matches_score\n",
        "\n",
        "\n",
        "sentiment_vectors = []\n",
        "\n",
        "# Take all terms that exist in the sentiment lexicon and create a vector for each\n",
        "terms = list(\n",
        "    itertools.chain.from_iterable(\n",
        "        [t.split(\" \") for t in sentiment_df.term.unique().tolist()]\n",
        "    )\n",
        ")\n",
        "\n",
        "for term in terms:\n",
        "    if term in model_ct10.wv.key_to_index:\n",
        "        sentiment_vectors.append(\n",
        "            (term, model_ct10.wv[term].copy(), get_word_sentiment_score(term))\n",
        "        )\n",
        "\n",
        "terms_series = pd.Series([t[0] for t in sentiment_vectors])\n",
        "vectors = [t[1] for t in sentiment_vectors]\n",
        "scores_series = pd.Series([t[2] for t in sentiment_vectors])\n",
        "\n",
        "# Create the raw training dataset\n",
        "terms_dataset = pd.DataFrame(vectors)\n",
        "terms_dataset = terms_dataset.add_prefix(\"feature_\")\n",
        "terms_dataset[\"term\"] = terms_series\n",
        "terms_dataset[\"score\"] = scores_series\n",
        "terms_dataset.reset_index(drop=True, inplace=True)\n",
        "terms_dataset\n"
      ]
    },
    {
      "cell_type": "code",
      "execution_count": null,
      "metadata": {
        "id": "_rQAPM1-e9XF"
      },
      "outputs": [],
      "source": [
        "dataset_x = terms_dataset[[c for c in terms_dataset.columns.tolist() if c != \"score\"]]\n",
        "dataset_y = terms_dataset.score\n",
        "\n",
        "# Train test split\n",
        "X_full_train, X_test, y_full_train, y_test = train_test_split(\n",
        "    dataset_x, dataset_y, test_size=0.1, random_state=42\n",
        ")  # Train test 90% / 10% split\n",
        "\n",
        "# Train validation split\n",
        "X_train, X_val, y_train, y_val = train_test_split(\n",
        "    X_full_train, y_full_train, test_size=0.1, random_state=42\n",
        ")  # 90% / 10% split"
      ]
    },
    {
      "cell_type": "code",
      "execution_count": null,
      "metadata": {
        "id": "8qoVNjwme9XF",
        "outputId": "6509c44a-6cd9-43cf-b9ce-12a7ef2994fa"
      },
      "outputs": [
        {
          "name": "stdout",
          "output_type": "stream",
          "text": [
            "[1]\ttrain's l2: 0.134793\tval's l2: 0.141105\n",
            "[2]\ttrain's l2: 0.129456\tval's l2: 0.136058\n",
            "[3]\ttrain's l2: 0.124322\tval's l2: 0.130981\n",
            "[4]\ttrain's l2: 0.119495\tval's l2: 0.126585\n",
            "[5]\ttrain's l2: 0.114788\tval's l2: 0.121966\n",
            "[6]\ttrain's l2: 0.110121\tval's l2: 0.117623\n",
            "[7]\ttrain's l2: 0.105821\tval's l2: 0.113298\n",
            "[8]\ttrain's l2: 0.101788\tval's l2: 0.109239\n",
            "[9]\ttrain's l2: 0.0977065\tval's l2: 0.105424\n",
            "[10]\ttrain's l2: 0.0939886\tval's l2: 0.101795\n",
            "[10]\ttrain's l2: 0.0939886\tval's l2: 0.101795\n",
            "[11]\ttrain's l2: 0.0904445\tval's l2: 0.0981708\n",
            "[12]\ttrain's l2: 0.0868327\tval's l2: 0.094672\n",
            "[13]\ttrain's l2: 0.0835315\tval's l2: 0.0913732\n",
            "[14]\ttrain's l2: 0.0803179\tval's l2: 0.0882744\n",
            "[15]\ttrain's l2: 0.0773853\tval's l2: 0.0855069\n",
            "[16]\ttrain's l2: 0.0744262\tval's l2: 0.0830121\n",
            "[17]\ttrain's l2: 0.0715988\tval's l2: 0.0799729\n",
            "[18]\ttrain's l2: 0.0689133\tval's l2: 0.0775297\n",
            "[19]\ttrain's l2: 0.0663079\tval's l2: 0.0749235\n",
            "[20]\ttrain's l2: 0.0638285\tval's l2: 0.0727971\n",
            "[20]\ttrain's l2: 0.0638285\tval's l2: 0.0727971\n",
            "[21]\ttrain's l2: 0.0614997\tval's l2: 0.0706657\n",
            "[22]\ttrain's l2: 0.0592781\tval's l2: 0.0684652\n",
            "[23]\ttrain's l2: 0.0571725\tval's l2: 0.0662763\n",
            "[24]\ttrain's l2: 0.0551316\tval's l2: 0.0642522\n",
            "[25]\ttrain's l2: 0.0531865\tval's l2: 0.0625745\n",
            "[26]\ttrain's l2: 0.0512792\tval's l2: 0.0608148\n",
            "[27]\ttrain's l2: 0.0495243\tval's l2: 0.0591667\n",
            "[28]\ttrain's l2: 0.0477479\tval's l2: 0.0577873\n",
            "[29]\ttrain's l2: 0.0460286\tval's l2: 0.0563539\n",
            "[30]\ttrain's l2: 0.0444471\tval's l2: 0.0548663\n",
            "[30]\ttrain's l2: 0.0444471\tval's l2: 0.0548663\n",
            "[31]\ttrain's l2: 0.0428932\tval's l2: 0.0533868\n",
            "[32]\ttrain's l2: 0.0413964\tval's l2: 0.0520285\n",
            "[33]\ttrain's l2: 0.0399779\tval's l2: 0.0507436\n",
            "[34]\ttrain's l2: 0.0385271\tval's l2: 0.0493036\n",
            "[35]\ttrain's l2: 0.0372337\tval's l2: 0.0480634\n",
            "[36]\ttrain's l2: 0.0358753\tval's l2: 0.0466627\n",
            "[37]\ttrain's l2: 0.0345882\tval's l2: 0.0453717\n",
            "[38]\ttrain's l2: 0.033468\tval's l2: 0.0443356\n",
            "[39]\ttrain's l2: 0.032277\tval's l2: 0.0432712\n",
            "[40]\ttrain's l2: 0.0311834\tval's l2: 0.0422797\n",
            "[40]\ttrain's l2: 0.0311834\tval's l2: 0.0422797\n",
            "[41]\ttrain's l2: 0.0301049\tval's l2: 0.0412731\n",
            "[42]\ttrain's l2: 0.0291152\tval's l2: 0.0403301\n",
            "[43]\ttrain's l2: 0.0281287\tval's l2: 0.0393883\n",
            "[44]\ttrain's l2: 0.0271632\tval's l2: 0.0383369\n",
            "[45]\ttrain's l2: 0.0262388\tval's l2: 0.0374118\n",
            "[46]\ttrain's l2: 0.0253709\tval's l2: 0.0366842\n",
            "[47]\ttrain's l2: 0.0245388\tval's l2: 0.0358778\n",
            "[48]\ttrain's l2: 0.0237139\tval's l2: 0.0351434\n",
            "[49]\ttrain's l2: 0.0229339\tval's l2: 0.0344648\n",
            "[50]\ttrain's l2: 0.0221946\tval's l2: 0.0336993\n",
            "[50]\ttrain's l2: 0.0221946\tval's l2: 0.0336993\n",
            "[51]\ttrain's l2: 0.0214961\tval's l2: 0.0330309\n",
            "[52]\ttrain's l2: 0.0208001\tval's l2: 0.0324384\n",
            "[53]\ttrain's l2: 0.0201413\tval's l2: 0.0317992\n",
            "[54]\ttrain's l2: 0.0194804\tval's l2: 0.0311336\n",
            "[55]\ttrain's l2: 0.0188497\tval's l2: 0.0305176\n",
            "[56]\ttrain's l2: 0.0182551\tval's l2: 0.0300193\n",
            "[57]\ttrain's l2: 0.0176852\tval's l2: 0.0294787\n",
            "[58]\ttrain's l2: 0.0171281\tval's l2: 0.0289632\n",
            "[59]\ttrain's l2: 0.0165972\tval's l2: 0.0285071\n",
            "[60]\ttrain's l2: 0.0160791\tval's l2: 0.0279382\n",
            "[60]\ttrain's l2: 0.0160791\tval's l2: 0.0279382\n",
            "[61]\ttrain's l2: 0.0155832\tval's l2: 0.0274536\n",
            "[62]\ttrain's l2: 0.0150831\tval's l2: 0.0268789\n",
            "[63]\ttrain's l2: 0.0146265\tval's l2: 0.0264435\n",
            "[64]\ttrain's l2: 0.014183\tval's l2: 0.0260158\n",
            "[65]\ttrain's l2: 0.0137397\tval's l2: 0.0255784\n",
            "[66]\ttrain's l2: 0.0133284\tval's l2: 0.0252519\n",
            "[67]\ttrain's l2: 0.0129258\tval's l2: 0.024821\n",
            "[68]\ttrain's l2: 0.0125274\tval's l2: 0.0243797\n",
            "[69]\ttrain's l2: 0.0121591\tval's l2: 0.0240007\n",
            "[70]\ttrain's l2: 0.0117756\tval's l2: 0.0235642\n",
            "[70]\ttrain's l2: 0.0117756\tval's l2: 0.0235642\n",
            "[71]\ttrain's l2: 0.0114259\tval's l2: 0.0231457\n",
            "[72]\ttrain's l2: 0.0110822\tval's l2: 0.022818\n",
            "[73]\ttrain's l2: 0.0107582\tval's l2: 0.022422\n",
            "[74]\ttrain's l2: 0.0104474\tval's l2: 0.0221673\n",
            "[75]\ttrain's l2: 0.0101383\tval's l2: 0.0218342\n",
            "[76]\ttrain's l2: 0.00984272\tval's l2: 0.0215043\n",
            "[77]\ttrain's l2: 0.00954651\tval's l2: 0.0212559\n",
            "[78]\ttrain's l2: 0.00925827\tval's l2: 0.0209687\n",
            "[79]\ttrain's l2: 0.00899433\tval's l2: 0.0207202\n",
            "[80]\ttrain's l2: 0.00873039\tval's l2: 0.0205259\n",
            "[80]\ttrain's l2: 0.00873039\tval's l2: 0.0205259\n",
            "[81]\ttrain's l2: 0.00848249\tval's l2: 0.0202076\n",
            "[82]\ttrain's l2: 0.00824361\tval's l2: 0.01991\n",
            "[83]\ttrain's l2: 0.00800975\tval's l2: 0.0195819\n",
            "[84]\ttrain's l2: 0.00777291\tval's l2: 0.0193397\n",
            "[85]\ttrain's l2: 0.00754203\tval's l2: 0.0190909\n",
            "[86]\ttrain's l2: 0.00731561\tval's l2: 0.0188145\n",
            "[87]\ttrain's l2: 0.00711422\tval's l2: 0.0185482\n",
            "[88]\ttrain's l2: 0.00690614\tval's l2: 0.0183342\n",
            "[89]\ttrain's l2: 0.00671263\tval's l2: 0.0180641\n",
            "[90]\ttrain's l2: 0.00652411\tval's l2: 0.0178732\n",
            "[90]\ttrain's l2: 0.00652411\tval's l2: 0.0178732\n",
            "[91]\ttrain's l2: 0.00634322\tval's l2: 0.0176514\n",
            "[92]\ttrain's l2: 0.00616739\tval's l2: 0.0174314\n",
            "[93]\ttrain's l2: 0.00600397\tval's l2: 0.0172606\n",
            "[94]\ttrain's l2: 0.00583634\tval's l2: 0.0170399\n",
            "[95]\ttrain's l2: 0.00567912\tval's l2: 0.0169007\n",
            "[96]\ttrain's l2: 0.00552668\tval's l2: 0.0167059\n",
            "[97]\ttrain's l2: 0.00538369\tval's l2: 0.0165187\n",
            "[98]\ttrain's l2: 0.00524804\tval's l2: 0.016345\n",
            "[99]\ttrain's l2: 0.00511304\tval's l2: 0.0161901\n",
            "[100]\ttrain's l2: 0.00498334\tval's l2: 0.0160089\n",
            "[100]\ttrain's l2: 0.00498334\tval's l2: 0.0160089\n",
            "[101]\ttrain's l2: 0.00485289\tval's l2: 0.015817\n",
            "[102]\ttrain's l2: 0.00471942\tval's l2: 0.0156401\n",
            "[103]\ttrain's l2: 0.00459549\tval's l2: 0.015507\n",
            "[104]\ttrain's l2: 0.0044744\tval's l2: 0.0153021\n",
            "[105]\ttrain's l2: 0.00435941\tval's l2: 0.0151426\n",
            "[106]\ttrain's l2: 0.00425087\tval's l2: 0.0150168\n",
            "[107]\ttrain's l2: 0.00413228\tval's l2: 0.0149148\n",
            "[108]\ttrain's l2: 0.00402765\tval's l2: 0.0147398\n",
            "[109]\ttrain's l2: 0.00392806\tval's l2: 0.0146263\n",
            "[110]\ttrain's l2: 0.00382558\tval's l2: 0.0144824\n",
            "[110]\ttrain's l2: 0.00382558\tval's l2: 0.0144824\n",
            "[111]\ttrain's l2: 0.00372219\tval's l2: 0.0143421\n",
            "[112]\ttrain's l2: 0.00363162\tval's l2: 0.0142337\n",
            "[113]\ttrain's l2: 0.00354004\tval's l2: 0.0140993\n",
            "[114]\ttrain's l2: 0.0034427\tval's l2: 0.0139235\n",
            "[115]\ttrain's l2: 0.00335748\tval's l2: 0.0137397\n",
            "[116]\ttrain's l2: 0.00326897\tval's l2: 0.0136226\n",
            "[117]\ttrain's l2: 0.003182\tval's l2: 0.0134598\n",
            "[118]\ttrain's l2: 0.00310625\tval's l2: 0.0132906\n",
            "[119]\ttrain's l2: 0.00302899\tval's l2: 0.0131917\n",
            "[120]\ttrain's l2: 0.00295111\tval's l2: 0.013052\n",
            "[120]\ttrain's l2: 0.00295111\tval's l2: 0.013052\n",
            "[121]\ttrain's l2: 0.00288157\tval's l2: 0.0129415\n",
            "[122]\ttrain's l2: 0.00280811\tval's l2: 0.0128318\n",
            "[123]\ttrain's l2: 0.00273824\tval's l2: 0.0127436\n",
            "[124]\ttrain's l2: 0.00267047\tval's l2: 0.0126372\n",
            "[125]\ttrain's l2: 0.00261001\tval's l2: 0.0125328\n",
            "[126]\ttrain's l2: 0.00254447\tval's l2: 0.012444\n",
            "[127]\ttrain's l2: 0.00248321\tval's l2: 0.0123305\n",
            "[128]\ttrain's l2: 0.00242444\tval's l2: 0.0122399\n",
            "[129]\ttrain's l2: 0.00236394\tval's l2: 0.0121608\n",
            "[130]\ttrain's l2: 0.00231552\tval's l2: 0.0120739\n",
            "[130]\ttrain's l2: 0.00231552\tval's l2: 0.0120739\n",
            "[131]\ttrain's l2: 0.00226186\tval's l2: 0.0119868\n",
            "[132]\ttrain's l2: 0.00220812\tval's l2: 0.0119011\n",
            "[133]\ttrain's l2: 0.00215742\tval's l2: 0.0118491\n",
            "[134]\ttrain's l2: 0.00210754\tval's l2: 0.0117533\n",
            "[135]\ttrain's l2: 0.00205917\tval's l2: 0.0117091\n",
            "[136]\ttrain's l2: 0.00201577\tval's l2: 0.011652\n",
            "[137]\ttrain's l2: 0.00197165\tval's l2: 0.011574\n",
            "[138]\ttrain's l2: 0.00192961\tval's l2: 0.0115306\n",
            "[139]\ttrain's l2: 0.00188839\tval's l2: 0.0115057\n",
            "[140]\ttrain's l2: 0.00184704\tval's l2: 0.0114616\n",
            "[140]\ttrain's l2: 0.00184704\tval's l2: 0.0114616\n",
            "[141]\ttrain's l2: 0.0018064\tval's l2: 0.0113832\n",
            "[142]\ttrain's l2: 0.00176671\tval's l2: 0.0113197\n",
            "[143]\ttrain's l2: 0.00172692\tval's l2: 0.0112819\n",
            "[144]\ttrain's l2: 0.0016909\tval's l2: 0.0112232\n",
            "[145]\ttrain's l2: 0.00165488\tval's l2: 0.0111524\n",
            "[146]\ttrain's l2: 0.00162001\tval's l2: 0.0110956\n",
            "[147]\ttrain's l2: 0.00158525\tval's l2: 0.0110227\n",
            "[148]\ttrain's l2: 0.00155166\tval's l2: 0.0109452\n",
            "[149]\ttrain's l2: 0.00151836\tval's l2: 0.0108926\n",
            "[150]\ttrain's l2: 0.00148631\tval's l2: 0.0108337\n",
            "[150]\ttrain's l2: 0.00148631\tval's l2: 0.0108337\n",
            "[151]\ttrain's l2: 0.00145907\tval's l2: 0.010784\n",
            "[152]\ttrain's l2: 0.00142979\tval's l2: 0.0107409\n",
            "[153]\ttrain's l2: 0.00140232\tval's l2: 0.010673\n",
            "[154]\ttrain's l2: 0.0013742\tval's l2: 0.0106223\n",
            "[155]\ttrain's l2: 0.00134393\tval's l2: 0.0105667\n",
            "[156]\ttrain's l2: 0.00131511\tval's l2: 0.0105142\n",
            "[157]\ttrain's l2: 0.00128902\tval's l2: 0.0104702\n",
            "[158]\ttrain's l2: 0.00126613\tval's l2: 0.0104124\n",
            "[159]\ttrain's l2: 0.00124248\tval's l2: 0.010387\n",
            "[160]\ttrain's l2: 0.00121735\tval's l2: 0.0103409\n",
            "[160]\ttrain's l2: 0.00121735\tval's l2: 0.0103409\n",
            "[161]\ttrain's l2: 0.00119164\tval's l2: 0.0102915\n",
            "[162]\ttrain's l2: 0.00116817\tval's l2: 0.010251\n",
            "[163]\ttrain's l2: 0.00114399\tval's l2: 0.0102052\n",
            "[164]\ttrain's l2: 0.00112238\tval's l2: 0.010168\n",
            "[165]\ttrain's l2: 0.00110111\tval's l2: 0.0101424\n",
            "[166]\ttrain's l2: 0.00107937\tval's l2: 0.0100949\n",
            "[167]\ttrain's l2: 0.00105857\tval's l2: 0.0100806\n",
            "[168]\ttrain's l2: 0.00103722\tval's l2: 0.0100102\n",
            "[169]\ttrain's l2: 0.00101803\tval's l2: 0.00998069\n",
            "[170]\ttrain's l2: 0.00100015\tval's l2: 0.00996658\n",
            "[170]\ttrain's l2: 0.00100015\tval's l2: 0.00996658\n",
            "[171]\ttrain's l2: 0.000982076\tval's l2: 0.00993837\n",
            "[172]\ttrain's l2: 0.000962972\tval's l2: 0.00989861\n",
            "[173]\ttrain's l2: 0.000943555\tval's l2: 0.0098628\n",
            "[174]\ttrain's l2: 0.000925011\tval's l2: 0.00983459\n",
            "[175]\ttrain's l2: 0.000908564\tval's l2: 0.00981516\n",
            "[176]\ttrain's l2: 0.000891738\tval's l2: 0.00977896\n",
            "[177]\ttrain's l2: 0.000875889\tval's l2: 0.0097564\n",
            "[178]\ttrain's l2: 0.000858848\tval's l2: 0.00971347\n",
            "[179]\ttrain's l2: 0.000842178\tval's l2: 0.00968024\n",
            "[180]\ttrain's l2: 0.000826098\tval's l2: 0.00965464\n",
            "[180]\ttrain's l2: 0.000826098\tval's l2: 0.00965464\n",
            "[181]\ttrain's l2: 0.000812428\tval's l2: 0.00962528\n",
            "[182]\ttrain's l2: 0.000797685\tval's l2: 0.00960154\n",
            "[183]\ttrain's l2: 0.000785199\tval's l2: 0.00956297\n",
            "[184]\ttrain's l2: 0.000770624\tval's l2: 0.00951654\n",
            "[185]\ttrain's l2: 0.000756889\tval's l2: 0.00949124\n",
            "[186]\ttrain's l2: 0.000743707\tval's l2: 0.00945474\n",
            "[187]\ttrain's l2: 0.00073205\tval's l2: 0.00944546\n",
            "[188]\ttrain's l2: 0.0007201\tval's l2: 0.0094139\n",
            "[189]\ttrain's l2: 0.000708316\tval's l2: 0.00939719\n",
            "[190]\ttrain's l2: 0.000696614\tval's l2: 0.00936903\n",
            "[190]\ttrain's l2: 0.000696614\tval's l2: 0.00936903\n",
            "[191]\ttrain's l2: 0.00068475\tval's l2: 0.00933817\n",
            "[192]\ttrain's l2: 0.000673037\tval's l2: 0.00929588\n",
            "[193]\ttrain's l2: 0.000661601\tval's l2: 0.00926125\n",
            "[194]\ttrain's l2: 0.000651116\tval's l2: 0.00924039\n",
            "[195]\ttrain's l2: 0.000638783\tval's l2: 0.00920992\n",
            "[196]\ttrain's l2: 0.000629343\tval's l2: 0.00918468\n",
            "[197]\ttrain's l2: 0.00061984\tval's l2: 0.00916625\n",
            "[198]\ttrain's l2: 0.000608272\tval's l2: 0.00913082\n",
            "[199]\ttrain's l2: 0.000598872\tval's l2: 0.00910655\n",
            "[200]\ttrain's l2: 0.000589959\tval's l2: 0.00908927\n",
            "[200]\ttrain's l2: 0.000589959\tval's l2: 0.00908927\n",
            "[201]\ttrain's l2: 0.000580645\tval's l2: 0.00907384\n",
            "[202]\ttrain's l2: 0.000571736\tval's l2: 0.00904363\n",
            "[203]\ttrain's l2: 0.000562451\tval's l2: 0.00902429\n",
            "[204]\ttrain's l2: 0.000553384\tval's l2: 0.00899861\n",
            "[205]\ttrain's l2: 0.000545345\tval's l2: 0.00898124\n",
            "[206]\ttrain's l2: 0.000536786\tval's l2: 0.00894876\n",
            "[207]\ttrain's l2: 0.000528242\tval's l2: 0.00893744\n",
            "[208]\ttrain's l2: 0.000520553\tval's l2: 0.00891597\n",
            "[209]\ttrain's l2: 0.000513094\tval's l2: 0.00890028\n",
            "[210]\ttrain's l2: 0.000504712\tval's l2: 0.00887099\n",
            "[210]\ttrain's l2: 0.000504712\tval's l2: 0.00887099\n",
            "[211]\ttrain's l2: 0.00049749\tval's l2: 0.00885195\n",
            "[212]\ttrain's l2: 0.00048989\tval's l2: 0.00883097\n",
            "[213]\ttrain's l2: 0.000482136\tval's l2: 0.00881368\n",
            "[214]\ttrain's l2: 0.000475247\tval's l2: 0.00878678\n",
            "[215]\ttrain's l2: 0.000469572\tval's l2: 0.00877374\n",
            "[216]\ttrain's l2: 0.000462265\tval's l2: 0.00874474\n",
            "[217]\ttrain's l2: 0.000455621\tval's l2: 0.00873493\n",
            "[218]\ttrain's l2: 0.000449778\tval's l2: 0.00872269\n",
            "[219]\ttrain's l2: 0.000442864\tval's l2: 0.00871955\n",
            "[220]\ttrain's l2: 0.000436505\tval's l2: 0.0087104\n",
            "[220]\ttrain's l2: 0.000436505\tval's l2: 0.0087104\n",
            "[221]\ttrain's l2: 0.000429694\tval's l2: 0.00868467\n",
            "[222]\ttrain's l2: 0.000424957\tval's l2: 0.00866947\n",
            "[223]\ttrain's l2: 0.000418603\tval's l2: 0.0086473\n",
            "[224]\ttrain's l2: 0.000413048\tval's l2: 0.00863332\n",
            "[225]\ttrain's l2: 0.000408459\tval's l2: 0.00862261\n",
            "[226]\ttrain's l2: 0.000401933\tval's l2: 0.0086086\n",
            "[227]\ttrain's l2: 0.000396234\tval's l2: 0.0085981\n",
            "[228]\ttrain's l2: 0.000391476\tval's l2: 0.00858353\n",
            "[229]\ttrain's l2: 0.000385943\tval's l2: 0.00857545\n",
            "[230]\ttrain's l2: 0.000381762\tval's l2: 0.00856283\n",
            "[230]\ttrain's l2: 0.000381762\tval's l2: 0.00856283\n",
            "[231]\ttrain's l2: 0.000376812\tval's l2: 0.00854748\n",
            "[232]\ttrain's l2: 0.00037187\tval's l2: 0.00853586\n",
            "[233]\ttrain's l2: 0.000366768\tval's l2: 0.00852458\n",
            "[234]\ttrain's l2: 0.000362353\tval's l2: 0.00850347\n",
            "[235]\ttrain's l2: 0.000357228\tval's l2: 0.00847796\n",
            "[236]\ttrain's l2: 0.0003524\tval's l2: 0.00845612\n",
            "[237]\ttrain's l2: 0.000347166\tval's l2: 0.00842855\n",
            "[238]\ttrain's l2: 0.000342444\tval's l2: 0.00841689\n",
            "[239]\ttrain's l2: 0.000338165\tval's l2: 0.00840873\n",
            "[240]\ttrain's l2: 0.000333599\tval's l2: 0.00840083\n",
            "[240]\ttrain's l2: 0.000333599\tval's l2: 0.00840083\n",
            "[241]\ttrain's l2: 0.000328639\tval's l2: 0.00838363\n",
            "[242]\ttrain's l2: 0.000324151\tval's l2: 0.00836378\n",
            "[243]\ttrain's l2: 0.000320045\tval's l2: 0.00834891\n",
            "[244]\ttrain's l2: 0.000317008\tval's l2: 0.00833994\n",
            "[245]\ttrain's l2: 0.000312751\tval's l2: 0.00832591\n",
            "[246]\ttrain's l2: 0.000308821\tval's l2: 0.00831491\n",
            "[247]\ttrain's l2: 0.000305098\tval's l2: 0.00830449\n",
            "[248]\ttrain's l2: 0.000301716\tval's l2: 0.00829711\n",
            "[249]\ttrain's l2: 0.000298186\tval's l2: 0.00828591\n",
            "[250]\ttrain's l2: 0.00029509\tval's l2: 0.00828203\n",
            "[250]\ttrain's l2: 0.00029509\tval's l2: 0.00828203\n",
            "[251]\ttrain's l2: 0.000292029\tval's l2: 0.00827199\n",
            "[252]\ttrain's l2: 0.000288537\tval's l2: 0.00826315\n",
            "[253]\ttrain's l2: 0.000285001\tval's l2: 0.00825444\n",
            "[254]\ttrain's l2: 0.000281307\tval's l2: 0.00824186\n",
            "[255]\ttrain's l2: 0.000278777\tval's l2: 0.00823854\n",
            "[256]\ttrain's l2: 0.00027556\tval's l2: 0.00822638\n",
            "[257]\ttrain's l2: 0.000272148\tval's l2: 0.00822064\n",
            "[258]\ttrain's l2: 0.000269033\tval's l2: 0.00821398\n",
            "[259]\ttrain's l2: 0.000266146\tval's l2: 0.00821122\n",
            "[260]\ttrain's l2: 0.000263083\tval's l2: 0.00820355\n",
            "[260]\ttrain's l2: 0.000263083\tval's l2: 0.00820355\n",
            "[261]\ttrain's l2: 0.000260234\tval's l2: 0.00820061\n",
            "[262]\ttrain's l2: 0.0002573\tval's l2: 0.00818779\n",
            "[263]\ttrain's l2: 0.000255044\tval's l2: 0.0081771\n",
            "[264]\ttrain's l2: 0.000252356\tval's l2: 0.00817007\n",
            "[265]\ttrain's l2: 0.000249196\tval's l2: 0.00815199\n",
            "[266]\ttrain's l2: 0.000246616\tval's l2: 0.00814908\n",
            "[267]\ttrain's l2: 0.000244551\tval's l2: 0.00814765\n",
            "[268]\ttrain's l2: 0.000241607\tval's l2: 0.00813912\n",
            "[269]\ttrain's l2: 0.000239374\tval's l2: 0.00812934\n",
            "[270]\ttrain's l2: 0.000236789\tval's l2: 0.00811788\n",
            "[270]\ttrain's l2: 0.000236789\tval's l2: 0.00811788\n",
            "[271]\ttrain's l2: 0.00023413\tval's l2: 0.00810537\n",
            "[272]\ttrain's l2: 0.000231728\tval's l2: 0.008098\n",
            "[273]\ttrain's l2: 0.000229217\tval's l2: 0.00808308\n",
            "[274]\ttrain's l2: 0.000227387\tval's l2: 0.00807096\n",
            "[275]\ttrain's l2: 0.000225041\tval's l2: 0.00806476\n",
            "[276]\ttrain's l2: 0.000222779\tval's l2: 0.00805986\n",
            "[277]\ttrain's l2: 0.000220728\tval's l2: 0.00805433\n",
            "[278]\ttrain's l2: 0.00021885\tval's l2: 0.0080448\n",
            "[279]\ttrain's l2: 0.000216571\tval's l2: 0.00803788\n",
            "[280]\ttrain's l2: 0.000214288\tval's l2: 0.00803351\n",
            "[280]\ttrain's l2: 0.000214288\tval's l2: 0.00803351\n",
            "[281]\ttrain's l2: 0.000212231\tval's l2: 0.00802941\n",
            "[282]\ttrain's l2: 0.000209669\tval's l2: 0.00801829\n",
            "[283]\ttrain's l2: 0.000207788\tval's l2: 0.00801005\n",
            "[284]\ttrain's l2: 0.000205745\tval's l2: 0.00800322\n",
            "[285]\ttrain's l2: 0.000204345\tval's l2: 0.00799823\n",
            "[286]\ttrain's l2: 0.000202395\tval's l2: 0.00799112\n",
            "[287]\ttrain's l2: 0.000200473\tval's l2: 0.00798332\n",
            "[288]\ttrain's l2: 0.000198668\tval's l2: 0.00798261\n",
            "[289]\ttrain's l2: 0.000197246\tval's l2: 0.00797618\n",
            "[290]\ttrain's l2: 0.000195262\tval's l2: 0.00796512\n",
            "[290]\ttrain's l2: 0.000195262\tval's l2: 0.00796512\n",
            "[291]\ttrain's l2: 0.000193418\tval's l2: 0.00796266\n",
            "[292]\ttrain's l2: 0.000191422\tval's l2: 0.00795847\n",
            "[293]\ttrain's l2: 0.000189401\tval's l2: 0.00795258\n",
            "[294]\ttrain's l2: 0.000187795\tval's l2: 0.00794613\n",
            "[295]\ttrain's l2: 0.000186556\tval's l2: 0.00794232\n",
            "[296]\ttrain's l2: 0.000184736\tval's l2: 0.00793695\n",
            "[297]\ttrain's l2: 0.000183159\tval's l2: 0.00792998\n",
            "[298]\ttrain's l2: 0.00018174\tval's l2: 0.00792362\n",
            "[299]\ttrain's l2: 0.000180056\tval's l2: 0.00791831\n",
            "[300]\ttrain's l2: 0.000178574\tval's l2: 0.00792029\n",
            "[300]\ttrain's l2: 0.000178574\tval's l2: 0.00792029\n"
          ]
        }
      ],
      "source": [
        "# Train a simple light gbm model\n",
        "\n",
        "# training features (vector only)\n",
        "train_features = [c for c in dataset_x.columns.tolist() if c not in [\"term\", \"score\"]]\n",
        "\n",
        "# Params set after playing with them a little bit\n",
        "lgb_params = {\n",
        "    \"boosting_type\": \"gbdt\",\n",
        "    \"objective\": \"regression\",\n",
        "    \"metric\": \"l2\",\n",
        "    \"learning_rate\": 0.03,\n",
        "    \"num_leaves\": 31,\n",
        "    \"random_state\": 42,\n",
        "    \"n_estimators\": 300,\n",
        "}\n",
        "\n",
        "regressor = lgb.LGBMRegressor(**lgb_params)\n",
        "\n",
        "\n",
        "reg_lgb = regressor.fit(\n",
        "    X_train[train_features],\n",
        "    y_train,\n",
        "    eval_set=[(X_train[train_features], y_train), (X_val[train_features], y_val)],\n",
        "    eval_names=[\"train\", \"val\"],\n",
        "    eval_metric=\"l2\",\n",
        "    early_stopping_rounds=10,\n",
        "    callbacks=[log_evaluation(1)],\n",
        "    verbose=10,\n",
        ")\n"
      ]
    },
    {
      "cell_type": "code",
      "execution_count": null,
      "metadata": {
        "id": "JiB-32hme9XF",
        "outputId": "9ac6a8d7-a627-4454-bf01-6243d1f2cb11"
      },
      "outputs": [
        {
          "data": {
            "text/plain": [
              "<AxesSubplot:title={'center':'Metric during training'}, xlabel='Iterations', ylabel='l2'>"
            ]
          },
          "execution_count": 178,
          "metadata": {},
          "output_type": "execute_result"
        },
        {
          "data": {
            "image/png": "[encoded data removed]",
            "text/plain": [
              "<Figure size 432x288 with 1 Axes>"
            ]
          },
          "metadata": {
            "needs_background": "light"
          },
          "output_type": "display_data"
        }
      ],
      "source": [
        "lgb.plot_metric(reg_lgb)"
      ]
    },
    {
      "cell_type": "code",
      "execution_count": null,
      "metadata": {
        "id": "sQv09kQGe9XG"
      },
      "outputs": [],
      "source": [
        "preds_train = reg_lgb.predict(X_full_train[train_features])\n",
        "preds_test = reg_lgb.predict(X_test[train_features])"
      ]
    },
    {
      "cell_type": "code",
      "execution_count": null,
      "metadata": {
        "id": "MxwLCVTFe9XG",
        "outputId": "7cea4607-d03f-4a11-adf1-a64f30735024"
      },
      "outputs": [
        {
          "data": {
            "text/plain": [
              "(0.0009562578361092441, 0.005367143974344895)"
            ]
          },
          "execution_count": 181,
          "metadata": {},
          "output_type": "execute_result"
        }
      ],
      "source": [
        "mean_squared_error(y_full_train, preds_train), mean_squared_error(y_test, preds_test)"
      ]
    },
    {
      "cell_type": "code",
      "execution_count": null,
      "metadata": {
        "id": "HgbKKOlEe9XG",
        "outputId": "aa11ea5a-6f15-4991-dd02-09a930a24ec0"
      },
      "outputs": [
        {
          "data": {
            "text/plain": [
              "(array([ 0.14144686, -0.51537524, -0.53899095, -0.33030881, -0.31243768,\n",
              "        -0.13367586,  0.07408348, -0.36632367,  0.09544715,  0.07397952]),\n",
              " array([ 0.14184615, -0.5155    , -0.53916667, -0.332125  , -0.1875    ,\n",
              "        -0.13614286,  0.0814    , -0.36644444,  0.0966    ,  0.0935    ]))"
            ]
          },
          "execution_count": 184,
          "metadata": {},
          "output_type": "execute_result"
        }
      ],
      "source": [
        "preds_test[:10], y_test[:10].values"
      ]
    },
    {
      "cell_type": "markdown",
      "metadata": {
        "id": "gfTWlkd4e9XG"
      },
      "source": [
        "We can see that the training was decent, and we got similar results (and even slightly better) in the validation vs. test sets as expected."
      ]
    },
    {
      "cell_type": "markdown",
      "metadata": {
        "id": "UgIsKn0wdfHZ"
      },
      "source": [
        "Use your trained model from the previous question to predict the sentiment score of words in the lyrics corpus that are not part of the original sentiment dataset. Review the words with the highest positive and negative sentiment. Do the results make sense?"
      ]
    },
    {
      "cell_type": "code",
      "execution_count": null,
      "metadata": {
        "id": "LGVWGrz0e9XH",
        "outputId": "d661d056-1df5-4a34-927b-d2fed2b27953"
      },
      "outputs": [
        {
          "data": {
            "text/plain": [
              "['know', 'get', 'na', 'oh', 'go']"
            ]
          },
          "execution_count": 200,
          "metadata": {},
          "output_type": "execute_result"
        }
      ],
      "source": [
        "vocab = model_ct10.wv.index_to_key\n",
        "vocab_not_in_sentiment = [t for t in vocab if t not in terms_dataset.term.tolist()]\n",
        "vocab_not_in_sentiment[:5]"
      ]
    },
    {
      "cell_type": "code",
      "execution_count": null,
      "metadata": {
        "id": "B0gpa4w9e9XH",
        "outputId": "d3b11e83-d023-458b-a6e4-3fc5a0b83cf5"
      },
      "outputs": [
        {
          "data": {
            "text/plain": [
              "1715"
            ]
          },
          "execution_count": 210,
          "metadata": {},
          "output_type": "execute_result"
        }
      ],
      "source": [
        "len(terms_dataset.term.tolist())"
      ]
    },
    {
      "cell_type": "code",
      "execution_count": null,
      "metadata": {
        "id": "lpUsaCqUe9XI",
        "outputId": "fa6ba1f4-9b54-4844-e941-c000af590d57"
      },
      "outputs": [
        {
          "data": {
            "text/plain": [
              "17598"
            ]
          },
          "execution_count": 209,
          "metadata": {},
          "output_type": "execute_result"
        }
      ],
      "source": [
        "len(vocab_not_in_sentiment)"
      ]
    },
    {
      "cell_type": "code",
      "execution_count": null,
      "metadata": {
        "id": "9V253JnYdfHZ",
        "outputId": "340eb1cb-5338-4757-dd28-5f57bfcf5a69"
      },
      "outputs": [
        {
          "data": {
            "text/html": [
              "<div>\n",
              "<style scoped>\n",
              "    .dataframe tbody tr th:only-of-type {\n",
              "        vertical-align: middle;\n",
              "    }\n",
              "\n",
              "    .dataframe tbody tr th {\n",
              "        vertical-align: top;\n",
              "    }\n",
              "\n",
              "    .dataframe thead th {\n",
              "        text-align: right;\n",
              "    }\n",
              "</style>\n",
              "<table border=\"1\" class=\"dataframe\">\n",
              "  <thead>\n",
              "    <tr style=\"text-align: right;\">\n",
              "      <th></th>\n",
              "      <th>feature_0</th>\n",
              "      <th>feature_1</th>\n",
              "      <th>feature_2</th>\n",
              "      <th>feature_3</th>\n",
              "      <th>feature_4</th>\n",
              "      <th>feature_5</th>\n",
              "      <th>feature_6</th>\n",
              "      <th>feature_7</th>\n",
              "      <th>feature_8</th>\n",
              "      <th>feature_9</th>\n",
              "      <th>...</th>\n",
              "      <th>feature_291</th>\n",
              "      <th>feature_292</th>\n",
              "      <th>feature_293</th>\n",
              "      <th>feature_294</th>\n",
              "      <th>feature_295</th>\n",
              "      <th>feature_296</th>\n",
              "      <th>feature_297</th>\n",
              "      <th>feature_298</th>\n",
              "      <th>feature_299</th>\n",
              "      <th>term</th>\n",
              "    </tr>\n",
              "  </thead>\n",
              "  <tbody>\n",
              "    <tr>\n",
              "      <th>0</th>\n",
              "      <td>-0.015594</td>\n",
              "      <td>-0.151872</td>\n",
              "      <td>0.038145</td>\n",
              "      <td>0.066232</td>\n",
              "      <td>-0.041002</td>\n",
              "      <td>0.044251</td>\n",
              "      <td>-0.012163</td>\n",
              "      <td>-0.078920</td>\n",
              "      <td>0.046068</td>\n",
              "      <td>0.066331</td>\n",
              "      <td>...</td>\n",
              "      <td>-0.018206</td>\n",
              "      <td>-0.088872</td>\n",
              "      <td>-0.028217</td>\n",
              "      <td>0.014799</td>\n",
              "      <td>0.075330</td>\n",
              "      <td>-0.014880</td>\n",
              "      <td>0.037611</td>\n",
              "      <td>-0.079285</td>\n",
              "      <td>-0.050155</td>\n",
              "      <td>know</td>\n",
              "    </tr>\n",
              "    <tr>\n",
              "      <th>1</th>\n",
              "      <td>0.066580</td>\n",
              "      <td>-0.038033</td>\n",
              "      <td>-0.097735</td>\n",
              "      <td>-0.055585</td>\n",
              "      <td>0.000928</td>\n",
              "      <td>0.092358</td>\n",
              "      <td>0.024209</td>\n",
              "      <td>-0.037367</td>\n",
              "      <td>0.033208</td>\n",
              "      <td>0.058306</td>\n",
              "      <td>...</td>\n",
              "      <td>-0.011908</td>\n",
              "      <td>0.073914</td>\n",
              "      <td>0.012582</td>\n",
              "      <td>-0.019268</td>\n",
              "      <td>-0.049519</td>\n",
              "      <td>0.033323</td>\n",
              "      <td>0.078102</td>\n",
              "      <td>-0.052163</td>\n",
              "      <td>-0.075462</td>\n",
              "      <td>get</td>\n",
              "    </tr>\n",
              "    <tr>\n",
              "      <th>2</th>\n",
              "      <td>-0.037741</td>\n",
              "      <td>-0.064735</td>\n",
              "      <td>0.059322</td>\n",
              "      <td>-0.032395</td>\n",
              "      <td>0.038685</td>\n",
              "      <td>-0.067817</td>\n",
              "      <td>-0.047337</td>\n",
              "      <td>0.022609</td>\n",
              "      <td>0.017045</td>\n",
              "      <td>0.041497</td>\n",
              "      <td>...</td>\n",
              "      <td>-0.011698</td>\n",
              "      <td>0.061977</td>\n",
              "      <td>-0.068375</td>\n",
              "      <td>-0.010110</td>\n",
              "      <td>-0.051013</td>\n",
              "      <td>0.011208</td>\n",
              "      <td>-0.021238</td>\n",
              "      <td>-0.006375</td>\n",
              "      <td>-0.001417</td>\n",
              "      <td>na</td>\n",
              "    </tr>\n",
              "    <tr>\n",
              "      <th>3</th>\n",
              "      <td>0.046028</td>\n",
              "      <td>-0.123302</td>\n",
              "      <td>-0.099132</td>\n",
              "      <td>-0.011605</td>\n",
              "      <td>0.051638</td>\n",
              "      <td>0.064881</td>\n",
              "      <td>-0.013577</td>\n",
              "      <td>0.003608</td>\n",
              "      <td>-0.054244</td>\n",
              "      <td>0.013279</td>\n",
              "      <td>...</td>\n",
              "      <td>-0.000817</td>\n",
              "      <td>-0.010521</td>\n",
              "      <td>0.026977</td>\n",
              "      <td>0.014814</td>\n",
              "      <td>-0.029721</td>\n",
              "      <td>0.002991</td>\n",
              "      <td>0.088782</td>\n",
              "      <td>-0.035121</td>\n",
              "      <td>-0.002007</td>\n",
              "      <td>oh</td>\n",
              "    </tr>\n",
              "    <tr>\n",
              "      <th>4</th>\n",
              "      <td>0.008736</td>\n",
              "      <td>-0.130506</td>\n",
              "      <td>-0.024540</td>\n",
              "      <td>0.036616</td>\n",
              "      <td>-0.099107</td>\n",
              "      <td>0.003834</td>\n",
              "      <td>0.031658</td>\n",
              "      <td>0.061613</td>\n",
              "      <td>-0.021749</td>\n",
              "      <td>-0.007907</td>\n",
              "      <td>...</td>\n",
              "      <td>0.021194</td>\n",
              "      <td>-0.029272</td>\n",
              "      <td>-0.101153</td>\n",
              "      <td>-0.038239</td>\n",
              "      <td>-0.072871</td>\n",
              "      <td>-0.004116</td>\n",
              "      <td>0.076480</td>\n",
              "      <td>-0.014726</td>\n",
              "      <td>0.046490</td>\n",
              "      <td>go</td>\n",
              "    </tr>\n",
              "    <tr>\n",
              "      <th>...</th>\n",
              "      <td>...</td>\n",
              "      <td>...</td>\n",
              "      <td>...</td>\n",
              "      <td>...</td>\n",
              "      <td>...</td>\n",
              "      <td>...</td>\n",
              "      <td>...</td>\n",
              "      <td>...</td>\n",
              "      <td>...</td>\n",
              "      <td>...</td>\n",
              "      <td>...</td>\n",
              "      <td>...</td>\n",
              "      <td>...</td>\n",
              "      <td>...</td>\n",
              "      <td>...</td>\n",
              "      <td>...</td>\n",
              "      <td>...</td>\n",
              "      <td>...</td>\n",
              "      <td>...</td>\n",
              "      <td>...</td>\n",
              "      <td>...</td>\n",
              "    </tr>\n",
              "    <tr>\n",
              "      <th>17593</th>\n",
              "      <td>-0.041834</td>\n",
              "      <td>0.135116</td>\n",
              "      <td>0.051019</td>\n",
              "      <td>-0.003632</td>\n",
              "      <td>0.008018</td>\n",
              "      <td>-0.105791</td>\n",
              "      <td>-0.006312</td>\n",
              "      <td>0.178408</td>\n",
              "      <td>-0.041670</td>\n",
              "      <td>-0.088289</td>\n",
              "      <td>...</td>\n",
              "      <td>0.077802</td>\n",
              "      <td>0.024484</td>\n",
              "      <td>0.035562</td>\n",
              "      <td>0.161827</td>\n",
              "      <td>0.000574</td>\n",
              "      <td>0.020291</td>\n",
              "      <td>-0.069425</td>\n",
              "      <td>-0.003620</td>\n",
              "      <td>-0.013329</td>\n",
              "      <td>kol</td>\n",
              "    </tr>\n",
              "    <tr>\n",
              "      <th>17594</th>\n",
              "      <td>-0.015684</td>\n",
              "      <td>0.065527</td>\n",
              "      <td>0.047127</td>\n",
              "      <td>-0.009311</td>\n",
              "      <td>0.005532</td>\n",
              "      <td>-0.071698</td>\n",
              "      <td>0.001019</td>\n",
              "      <td>0.117850</td>\n",
              "      <td>0.003317</td>\n",
              "      <td>-0.109556</td>\n",
              "      <td>...</td>\n",
              "      <td>0.022155</td>\n",
              "      <td>0.001333</td>\n",
              "      <td>-0.004457</td>\n",
              "      <td>0.052779</td>\n",
              "      <td>-0.032595</td>\n",
              "      <td>0.052834</td>\n",
              "      <td>-0.048906</td>\n",
              "      <td>-0.042078</td>\n",
              "      <td>-0.008774</td>\n",
              "      <td>eik</td>\n",
              "    </tr>\n",
              "    <tr>\n",
              "      <th>17595</th>\n",
              "      <td>0.022189</td>\n",
              "      <td>0.099821</td>\n",
              "      <td>-0.010121</td>\n",
              "      <td>-0.014739</td>\n",
              "      <td>-0.064228</td>\n",
              "      <td>-0.042072</td>\n",
              "      <td>0.127514</td>\n",
              "      <td>0.065494</td>\n",
              "      <td>0.059785</td>\n",
              "      <td>-0.110912</td>\n",
              "      <td>...</td>\n",
              "      <td>0.045825</td>\n",
              "      <td>0.042692</td>\n",
              "      <td>0.048477</td>\n",
              "      <td>-0.013250</td>\n",
              "      <td>0.101049</td>\n",
              "      <td>0.079249</td>\n",
              "      <td>-0.065377</td>\n",
              "      <td>0.040116</td>\n",
              "      <td>0.032708</td>\n",
              "      <td>cadence</td>\n",
              "    </tr>\n",
              "    <tr>\n",
              "      <th>17596</th>\n",
              "      <td>0.004386</td>\n",
              "      <td>0.089870</td>\n",
              "      <td>-0.029209</td>\n",
              "      <td>0.071973</td>\n",
              "      <td>0.088566</td>\n",
              "      <td>-0.058286</td>\n",
              "      <td>-0.005937</td>\n",
              "      <td>0.158389</td>\n",
              "      <td>-0.037349</td>\n",
              "      <td>-0.080670</td>\n",
              "      <td>...</td>\n",
              "      <td>0.001027</td>\n",
              "      <td>-0.022631</td>\n",
              "      <td>0.107562</td>\n",
              "      <td>0.086484</td>\n",
              "      <td>0.036371</td>\n",
              "      <td>0.035226</td>\n",
              "      <td>-0.019244</td>\n",
              "      <td>-0.044727</td>\n",
              "      <td>-0.074940</td>\n",
              "      <td>ane</td>\n",
              "    </tr>\n",
              "    <tr>\n",
              "      <th>17597</th>\n",
              "      <td>-0.007003</td>\n",
              "      <td>0.162124</td>\n",
              "      <td>-0.115055</td>\n",
              "      <td>0.088825</td>\n",
              "      <td>-0.100143</td>\n",
              "      <td>-0.000553</td>\n",
              "      <td>-0.039287</td>\n",
              "      <td>0.043381</td>\n",
              "      <td>0.005841</td>\n",
              "      <td>-0.095166</td>\n",
              "      <td>...</td>\n",
              "      <td>0.039480</td>\n",
              "      <td>0.029795</td>\n",
              "      <td>0.016831</td>\n",
              "      <td>0.105278</td>\n",
              "      <td>-0.038613</td>\n",
              "      <td>0.067431</td>\n",
              "      <td>0.005268</td>\n",
              "      <td>-0.049413</td>\n",
              "      <td>-0.024808</td>\n",
              "      <td>sponsors</td>\n",
              "    </tr>\n",
              "  </tbody>\n",
              "</table>\n",
              "<p>17598 rows × 301 columns</p>\n",
              "</div>"
            ],
            "text/plain": [
              "       feature_0  feature_1  feature_2  feature_3  feature_4  feature_5  \\\n",
              "0      -0.015594  -0.151872   0.038145   0.066232  -0.041002   0.044251   \n",
              "1       0.066580  -0.038033  -0.097735  -0.055585   0.000928   0.092358   \n",
              "2      -0.037741  -0.064735   0.059322  -0.032395   0.038685  -0.067817   \n",
              "3       0.046028  -0.123302  -0.099132  -0.011605   0.051638   0.064881   \n",
              "4       0.008736  -0.130506  -0.024540   0.036616  -0.099107   0.003834   \n",
              "...          ...        ...        ...        ...        ...        ...   \n",
              "17593  -0.041834   0.135116   0.051019  -0.003632   0.008018  -0.105791   \n",
              "17594  -0.015684   0.065527   0.047127  -0.009311   0.005532  -0.071698   \n",
              "17595   0.022189   0.099821  -0.010121  -0.014739  -0.064228  -0.042072   \n",
              "17596   0.004386   0.089870  -0.029209   0.071973   0.088566  -0.058286   \n",
              "17597  -0.007003   0.162124  -0.115055   0.088825  -0.100143  -0.000553   \n",
              "\n",
              "       feature_6  feature_7  feature_8  feature_9  ...  feature_291  \\\n",
              "0      -0.012163  -0.078920   0.046068   0.066331  ...    -0.018206   \n",
              "1       0.024209  -0.037367   0.033208   0.058306  ...    -0.011908   \n",
              "2      -0.047337   0.022609   0.017045   0.041497  ...    -0.011698   \n",
              "3      -0.013577   0.003608  -0.054244   0.013279  ...    -0.000817   \n",
              "4       0.031658   0.061613  -0.021749  -0.007907  ...     0.021194   \n",
              "...          ...        ...        ...        ...  ...          ...   \n",
              "17593  -0.006312   0.178408  -0.041670  -0.088289  ...     0.077802   \n",
              "17594   0.001019   0.117850   0.003317  -0.109556  ...     0.022155   \n",
              "17595   0.127514   0.065494   0.059785  -0.110912  ...     0.045825   \n",
              "17596  -0.005937   0.158389  -0.037349  -0.080670  ...     0.001027   \n",
              "17597  -0.039287   0.043381   0.005841  -0.095166  ...     0.039480   \n",
              "\n",
              "       feature_292  feature_293  feature_294  feature_295  feature_296  \\\n",
              "0        -0.088872    -0.028217     0.014799     0.075330    -0.014880   \n",
              "1         0.073914     0.012582    -0.019268    -0.049519     0.033323   \n",
              "2         0.061977    -0.068375    -0.010110    -0.051013     0.011208   \n",
              "3        -0.010521     0.026977     0.014814    -0.029721     0.002991   \n",
              "4        -0.029272    -0.101153    -0.038239    -0.072871    -0.004116   \n",
              "...            ...          ...          ...          ...          ...   \n",
              "17593     0.024484     0.035562     0.161827     0.000574     0.020291   \n",
              "17594     0.001333    -0.004457     0.052779    -0.032595     0.052834   \n",
              "17595     0.042692     0.048477    -0.013250     0.101049     0.079249   \n",
              "17596    -0.022631     0.107562     0.086484     0.036371     0.035226   \n",
              "17597     0.029795     0.016831     0.105278    -0.038613     0.067431   \n",
              "\n",
              "       feature_297  feature_298  feature_299      term  \n",
              "0         0.037611    -0.079285    -0.050155      know  \n",
              "1         0.078102    -0.052163    -0.075462       get  \n",
              "2        -0.021238    -0.006375    -0.001417        na  \n",
              "3         0.088782    -0.035121    -0.002007        oh  \n",
              "4         0.076480    -0.014726     0.046490        go  \n",
              "...            ...          ...          ...       ...  \n",
              "17593    -0.069425    -0.003620    -0.013329       kol  \n",
              "17594    -0.048906    -0.042078    -0.008774       eik  \n",
              "17595    -0.065377     0.040116     0.032708   cadence  \n",
              "17596    -0.019244    -0.044727    -0.074940       ane  \n",
              "17597     0.005268    -0.049413    -0.024808  sponsors  \n",
              "\n",
              "[17598 rows x 301 columns]"
            ]
          },
          "execution_count": 211,
          "metadata": {},
          "output_type": "execute_result"
        }
      ],
      "source": [
        "vocab_not_in_sentiment_vectors = []\n",
        "\n",
        "for term in vocab_not_in_sentiment:\n",
        "    vocab_not_in_sentiment_vectors.append((term, model_ct10.wv[term].copy()))\n",
        "\n",
        "terms_series = pd.Series([t[0] for t in vocab_not_in_sentiment_vectors])\n",
        "vectors = [t[1] for t in vocab_not_in_sentiment_vectors]\n",
        "\n",
        "# Create a df for the above terms\n",
        "df_non_sentiment = pd.DataFrame(vectors)\n",
        "df_non_sentiment = df_non_sentiment.add_prefix(\"feature_\")\n",
        "df_non_sentiment[\"term\"] = terms_series\n",
        "df_non_sentiment.reset_index(drop=True, inplace=True)\n",
        "df_non_sentiment.drop_duplicates(inplace=True)\n",
        "df_non_sentiment"
      ]
    },
    {
      "cell_type": "code",
      "execution_count": null,
      "metadata": {
        "id": "GlL6ufG6e9XI"
      },
      "outputs": [],
      "source": [
        "df_non_sentiment[\"pred\"] = reg_lgb.predict(df_non_sentiment[train_features])"
      ]
    },
    {
      "cell_type": "code",
      "execution_count": null,
      "metadata": {
        "id": "XO_Be-PIe9XI",
        "outputId": "54664a9c-0476-4075-bc7d-5757e3c8eede"
      },
      "outputs": [
        {
          "name": "stdout",
          "output_type": "stream",
          "text": [
            "Top negative terms:\n"
          ]
        },
        {
          "data": {
            "text/html": [
              "<div>\n",
              "<style scoped>\n",
              "    .dataframe tbody tr th:only-of-type {\n",
              "        vertical-align: middle;\n",
              "    }\n",
              "\n",
              "    .dataframe tbody tr th {\n",
              "        vertical-align: top;\n",
              "    }\n",
              "\n",
              "    .dataframe thead th {\n",
              "        text-align: right;\n",
              "    }\n",
              "</style>\n",
              "<table border=\"1\" class=\"dataframe\">\n",
              "  <thead>\n",
              "    <tr style=\"text-align: right;\">\n",
              "      <th></th>\n",
              "      <th>term</th>\n",
              "      <th>pred</th>\n",
              "    </tr>\n",
              "  </thead>\n",
              "  <tbody>\n",
              "    <tr>\n",
              "      <th>12334</th>\n",
              "      <td>leech</td>\n",
              "      <td>-0.738844</td>\n",
              "    </tr>\n",
              "    <tr>\n",
              "      <th>3748</th>\n",
              "      <td>tortured</td>\n",
              "      <td>-0.729193</td>\n",
              "    </tr>\n",
              "    <tr>\n",
              "      <th>3722</th>\n",
              "      <td>doomed</td>\n",
              "      <td>-0.710140</td>\n",
              "    </tr>\n",
              "    <tr>\n",
              "      <th>2979</th>\n",
              "      <td>destroyed</td>\n",
              "      <td>-0.708255</td>\n",
              "    </tr>\n",
              "    <tr>\n",
              "      <th>2305</th>\n",
              "      <td>feeding</td>\n",
              "      <td>-0.691712</td>\n",
              "    </tr>\n",
              "    <tr>\n",
              "      <th>4208</th>\n",
              "      <td>stench</td>\n",
              "      <td>-0.688690</td>\n",
              "    </tr>\n",
              "    <tr>\n",
              "      <th>14059</th>\n",
              "      <td>molested</td>\n",
              "      <td>-0.657111</td>\n",
              "    </tr>\n",
              "    <tr>\n",
              "      <th>6395</th>\n",
              "      <td>bloodshed</td>\n",
              "      <td>-0.653054</td>\n",
              "    </tr>\n",
              "    <tr>\n",
              "      <th>4490</th>\n",
              "      <td>anguish</td>\n",
              "      <td>-0.651299</td>\n",
              "    </tr>\n",
              "    <tr>\n",
              "      <th>1093</th>\n",
              "      <td>bleeding</td>\n",
              "      <td>-0.645901</td>\n",
              "    </tr>\n",
              "  </tbody>\n",
              "</table>\n",
              "</div>"
            ],
            "text/plain": [
              "            term      pred\n",
              "12334      leech -0.738844\n",
              "3748    tortured -0.729193\n",
              "3722      doomed -0.710140\n",
              "2979   destroyed -0.708255\n",
              "2305     feeding -0.691712\n",
              "4208      stench -0.688690\n",
              "14059   molested -0.657111\n",
              "6395   bloodshed -0.653054\n",
              "4490     anguish -0.651299\n",
              "1093    bleeding -0.645901"
            ]
          },
          "execution_count": 216,
          "metadata": {},
          "output_type": "execute_result"
        }
      ],
      "source": [
        "print(\"Top negative terms:\")\n",
        "df_non_sentiment.sort_values(by=\"pred\", ascending=True)[[\"term\", \"pred\"]].head(10)"
      ]
    },
    {
      "cell_type": "code",
      "execution_count": null,
      "metadata": {
        "id": "6ImqNAuPe9XJ",
        "outputId": "d560d34e-68f6-45d2-d5e4-37adc675ce73"
      },
      "outputs": [
        {
          "name": "stdout",
          "output_type": "stream",
          "text": [
            "Top positive terms:\n"
          ]
        },
        {
          "data": {
            "text/html": [
              "<div>\n",
              "<style scoped>\n",
              "    .dataframe tbody tr th:only-of-type {\n",
              "        vertical-align: middle;\n",
              "    }\n",
              "\n",
              "    .dataframe tbody tr th {\n",
              "        vertical-align: top;\n",
              "    }\n",
              "\n",
              "    .dataframe thead th {\n",
              "        text-align: right;\n",
              "    }\n",
              "</style>\n",
              "<table border=\"1\" class=\"dataframe\">\n",
              "  <thead>\n",
              "    <tr style=\"text-align: right;\">\n",
              "      <th></th>\n",
              "      <th>term</th>\n",
              "      <th>pred</th>\n",
              "    </tr>\n",
              "  </thead>\n",
              "  <tbody>\n",
              "    <tr>\n",
              "      <th>2241</th>\n",
              "      <td>heavenly</td>\n",
              "      <td>0.638363</td>\n",
              "    </tr>\n",
              "    <tr>\n",
              "      <th>14036</th>\n",
              "      <td>cutest</td>\n",
              "      <td>0.623009</td>\n",
              "    </tr>\n",
              "    <tr>\n",
              "      <th>1295</th>\n",
              "      <td>tender</td>\n",
              "      <td>0.579830</td>\n",
              "    </tr>\n",
              "    <tr>\n",
              "      <th>4540</th>\n",
              "      <td>mmmm</td>\n",
              "      <td>0.578129</td>\n",
              "    </tr>\n",
              "    <tr>\n",
              "      <th>8904</th>\n",
              "      <td>judy</td>\n",
              "      <td>0.568874</td>\n",
              "    </tr>\n",
              "    <tr>\n",
              "      <th>14169</th>\n",
              "      <td>evergreen</td>\n",
              "      <td>0.562289</td>\n",
              "    </tr>\n",
              "    <tr>\n",
              "      <th>11399</th>\n",
              "      <td>cheering</td>\n",
              "      <td>0.551869</td>\n",
              "    </tr>\n",
              "    <tr>\n",
              "      <th>1758</th>\n",
              "      <td>sunny</td>\n",
              "      <td>0.546642</td>\n",
              "    </tr>\n",
              "    <tr>\n",
              "      <th>15915</th>\n",
              "      <td>raindrop</td>\n",
              "      <td>0.545945</td>\n",
              "    </tr>\n",
              "    <tr>\n",
              "      <th>5339</th>\n",
              "      <td>waltz</td>\n",
              "      <td>0.543667</td>\n",
              "    </tr>\n",
              "  </tbody>\n",
              "</table>\n",
              "</div>"
            ],
            "text/plain": [
              "            term      pred\n",
              "2241    heavenly  0.638363\n",
              "14036     cutest  0.623009\n",
              "1295      tender  0.579830\n",
              "4540        mmmm  0.578129\n",
              "8904        judy  0.568874\n",
              "14169  evergreen  0.562289\n",
              "11399   cheering  0.551869\n",
              "1758       sunny  0.546642\n",
              "15915   raindrop  0.545945\n",
              "5339       waltz  0.543667"
            ]
          },
          "execution_count": 217,
          "metadata": {},
          "output_type": "execute_result"
        }
      ],
      "source": [
        "print(\"Top positive terms:\")\n",
        "df_non_sentiment.sort_values(by=\"pred\", ascending=False)[[\"term\", \"pred\"]].head(10)"
      ]
    },
    {
      "cell_type": "markdown",
      "metadata": {
        "id": "PU1cJM38e9XJ"
      },
      "source": [
        "These terms seem to definitely make sense, let's verify they were not a part of the sentiment corpus as results looks too good :)"
      ]
    },
    {
      "cell_type": "code",
      "execution_count": null,
      "metadata": {
        "id": "QZJm0kWue9XJ",
        "outputId": "cfb0e11e-eaa5-4a63-eade-258788345c14"
      },
      "outputs": [
        {
          "data": {
            "text/plain": [
              "[]"
            ]
          },
          "execution_count": 218,
          "metadata": {},
          "output_type": "execute_result"
        }
      ],
      "source": [
        "[i for i in df_non_sentiment.term.tolist() if i in terms_dataset.term.tolist()]"
      ]
    },
    {
      "cell_type": "markdown",
      "metadata": {
        "id": "_NZyDDQGdfHa"
      },
      "source": [
        "### Visualize Word Vectors\n",
        "In this section, you'll plot words on a 2D grid based on their inner similarity. We'll use the tSNE transformation to reduce dimensions from 300 to 2. You can get sample code from https://www.kaggle.com/pierremegret/gensim-word2vec-tutorial or other tutorials online.\n",
        "\n",
        "Perform the following:\n",
        "- Keep only the 3,000 most frequent words (after removing stopwords)\n",
        "- For this list, compute for each word its relative abundance in each of the genres\n",
        "- Compute the ratio between the proportion of each word in each genre and the proportion of the word in the entire corpus (the background distribution)\n",
        "- Pick the top 50 words for each genre. These words give good indication for that genre. Join the words from all genres into a single list of top significant words. \n",
        "- Compute tSNE transformation to 2D for all words, based on their word vectors\n",
        "- Plot the list of the top significant words in 2D. Next to each word output its text. You are encouraged to try that color of each point should indicate the genre for which it is most significant.\n",
        "\n",
        "You might prefer to use a different number of points or a slightly different methodology for improved results.  \n",
        "Analyze the results."
      ]
    },
    {
      "cell_type": "code",
      "execution_count": null,
      "metadata": {
        "id": "6bDgGUlne9XK",
        "outputId": "b41d47ca-da24-4a37-d17e-1ddd79a5b216"
      },
      "outputs": [
        {
          "data": {
            "text/plain": [
              "['Pop', 'Hip-Hop', 'Rock', 'Country', 'Metal']"
            ]
          },
          "execution_count": 82,
          "metadata": {},
          "output_type": "execute_result"
        }
      ],
      "source": [
        "genres = raw_df.genre.unique().tolist()\n",
        "genres"
      ]
    },
    {
      "cell_type": "code",
      "execution_count": null,
      "metadata": {
        "id": "QjTQCCJ3dfHb"
      },
      "outputs": [],
      "source": [
        "words = []\n",
        "\n",
        "for song_lyrics in raw_df.lyrics.tolist():\n",
        "    words.extend(preprocess_words(song_lyrics))"
      ]
    },
    {
      "cell_type": "code",
      "execution_count": null,
      "metadata": {
        "id": "IW_51Xj3e9XK"
      },
      "outputs": [],
      "source": [
        "clean_sentences = [remove_stopwords(song) for song in raw_df.sent]\n",
        "song_tokens = list(model_ct10.wv.key_to_index.keys())\n",
        "song_tokens_count = [model_ct10.wv.get_vecattr(token, \"count\") for token in song_tokens]\n",
        "song_tokens_count_series = pd.Series(data=song_tokens_count, index=song_tokens)\n",
        "top_3000_tokens = list(\n",
        "    song_tokens_count_series.sort_values(ascending=False)[:3000].index\n",
        ")\n",
        "\n",
        "\n",
        "# create dataframe with 5 genres as columns and 3K words as rows, to store the results\n",
        "genres = pp_df.genre.value_counts().index\n",
        "count_df = pd.DataFrame(\n",
        "    index=top_3000_tokens, columns=genres, data=np.zeros((3000, len(genres)))\n",
        ")\n",
        "\n",
        "# count only the relevant tokens\n",
        "cvectorizer = CountVectorizer(vocabulary=top_3000_tokens)\n",
        "count_matrix = cvectorizer.fit_transform(\n",
        "    clean_sentences\n",
        ").toarray()  # create a 49976 x 3000 matrix with token counts for each song\n",
        "\n",
        "# summarize the counts and frequency per genre and save it\n",
        "for genre in genres:\n",
        "    genre_mask = raw_df.genre == genre  # find only records for the current genre\n",
        "    token_counts = count_matrix[genre_mask, :].sum(\n",
        "        axis=0\n",
        "    )  # sum counts in all songs of this genre\n",
        "    count_df[genre] = token_counts  # store the results in a relevant column in df\n",
        "\n",
        "freq_df = count_df / count_df.sum()  # create a df frequency counts\n"
      ]
    },
    {
      "cell_type": "code",
      "execution_count": null,
      "metadata": {
        "id": "h2fpPuYDe9XK",
        "outputId": "84728627-2307-4702-dacc-32363a5fe2d9"
      },
      "outputs": [
        {
          "data": {
            "text/html": [
              "<div>\n",
              "<style scoped>\n",
              "    .dataframe tbody tr th:only-of-type {\n",
              "        vertical-align: middle;\n",
              "    }\n",
              "\n",
              "    .dataframe tbody tr th {\n",
              "        vertical-align: top;\n",
              "    }\n",
              "\n",
              "    .dataframe thead th {\n",
              "        text-align: right;\n",
              "    }\n",
              "</style>\n",
              "<table border=\"1\" class=\"dataframe\">\n",
              "  <thead>\n",
              "    <tr style=\"text-align: right;\">\n",
              "      <th></th>\n",
              "      <th>Rock</th>\n",
              "      <th>Pop</th>\n",
              "      <th>Hip-Hop</th>\n",
              "      <th>Metal</th>\n",
              "      <th>Country</th>\n",
              "    </tr>\n",
              "  </thead>\n",
              "  <tbody>\n",
              "    <tr>\n",
              "      <th>like</th>\n",
              "      <td>0.792242</td>\n",
              "      <td>0.852872</td>\n",
              "      <td>1.344810</td>\n",
              "      <td>0.574529</td>\n",
              "      <td>0.865371</td>\n",
              "    </tr>\n",
              "    <tr>\n",
              "      <th>know</th>\n",
              "      <td>1.103257</td>\n",
              "      <td>1.226743</td>\n",
              "      <td>0.979630</td>\n",
              "      <td>0.558907</td>\n",
              "      <td>0.966573</td>\n",
              "    </tr>\n",
              "    <tr>\n",
              "      <th>got</th>\n",
              "      <td>0.830654</td>\n",
              "      <td>0.953784</td>\n",
              "      <td>1.343003</td>\n",
              "      <td>0.347313</td>\n",
              "      <td>0.869407</td>\n",
              "    </tr>\n",
              "    <tr>\n",
              "      <th>love</th>\n",
              "      <td>1.058566</td>\n",
              "      <td>1.770504</td>\n",
              "      <td>0.514150</td>\n",
              "      <td>0.463960</td>\n",
              "      <td>1.693442</td>\n",
              "    </tr>\n",
              "    <tr>\n",
              "      <th>get</th>\n",
              "      <td>0.000000</td>\n",
              "      <td>0.000000</td>\n",
              "      <td>0.000000</td>\n",
              "      <td>0.000000</td>\n",
              "      <td>0.000000</td>\n",
              "    </tr>\n",
              "  </tbody>\n",
              "</table>\n",
              "</div>"
            ],
            "text/plain": [
              "          Rock       Pop   Hip-Hop     Metal   Country\n",
              "like  0.792242  0.852872  1.344810  0.574529  0.865371\n",
              "know  1.103257  1.226743  0.979630  0.558907  0.966573\n",
              "got   0.830654  0.953784  1.343003  0.347313  0.869407\n",
              "love  1.058566  1.770504  0.514150  0.463960  1.693442\n",
              "get   0.000000  0.000000  0.000000  0.000000  0.000000"
            ]
          },
          "execution_count": 102,
          "metadata": {},
          "output_type": "execute_result"
        }
      ],
      "source": [
        "# Compute the ratio between the proportion of each word in each genre and the proportion of the word in the entire corpus\n",
        "total_word_counts = count_df.sum(axis=1)\n",
        "total_word_freqs = total_word_counts / total_word_counts.sum()\n",
        "total_word_freqs_arr = total_word_freqs.values.reshape(-1, 1)\n",
        "\n",
        "# replace zero counts to avoid division by 0\n",
        "total_word_freqs_arr = np.where(\n",
        "    total_word_freqs_arr > 0, total_word_freqs_arr, np.finfo(np.float32).eps\n",
        ")\n",
        "relative_freq_df = freq_df / total_word_freqs_arr\n",
        "relative_freq_df.head()"
      ]
    },
    {
      "cell_type": "code",
      "execution_count": null,
      "metadata": {
        "id": "tFYU8wE5e9XL",
        "outputId": "637e58c4-11ce-4068-e8c7-e18c66dbf892"
      },
      "outputs": [
        {
          "name": "stdout",
          "output_type": "stream",
          "text": [
            "Rock :\n",
            " vocals pum jeg kimi ga wa bop ik american wasted crawling ordinary wasting desperate johnny crashing changing rum drums strangers wolf sinking blues doll greater sings troubles floating hiding tiny sets liar anymore doo voc ooo dive bridges electric poison weep waited waking mistakes aching says changes angry finding closing \n",
            "\n",
            "Pop :\n",
            " nae amore coraz amor bu luna amour piel alma io nan che contigo tes sempre feliz cada pi ti tus quand rien moi mia tanto mio sentir cosa ce puede sans dolor vez puedo toi dentro siento mai wah qui eres eh cielo vie cuerpo quiero algo non hoy tout \n",
            "\n",
            "Hip-Hop :\n",
            " mayne eazy dre versace chamillionaire yuh pac eminem mek niggas gangsta compton wid nuttin aight rappers nigga niggaz trill hoes feds motherfuckin glock biggie rep bitches ballin thugs thug dawg clique finna killa inna yall busta homies moms gat hustler rims pussy dogg beef nuh homie naw benz pimpin haters \n",
            "\n",
            "Metal :\n",
            " corpse decay chaos mortal existence eternal wrath mankind agony sword gods ancient hatred grief prey rot flesh screams void lands victims horror destruction suffering wounds powers rape souls mass spirits kingdom terror forced satan behold despair rage darkness insanity death creation shall eternity flames lust thy endless hail destroy doom \n",
            "\n",
            "Country :\n",
            " honky tennessee lonesome cowboy sweetheart whiskey country guitar ole texas cotton georgia county wedding hurtin porch darlin mexico whistle heartache highway awhile claus beer roses gentle blues darling marry troubles weary rocky mountain folks ol ought married valley old singin rode preacher river coffee roads southern sang drinkin train hills \n",
            "\n"
          ]
        }
      ],
      "source": [
        "# Pick the top 50 words for each genre (we assume that we use the relative frequency for this, and not regular frequency or absolute counts).\n",
        "# Join the words from all genres into a single list of top significant words.\n",
        "\n",
        "top_words = {}  # dict for storing top words per ganre\n",
        "for genre in genres:\n",
        "    top50 = list(relative_freq_df[genre].sort_values(ascending=False).index[:50])\n",
        "    print(genre, \":\\n\", *top50, \"\\n\")\n",
        "    top_words[genre] = top50\n",
        "\n",
        "# all top words\n",
        "all_top_words = [word for lst in top_words.values() for word in lst]\n",
        "all_top_words_vectors = [model_ct10.wv[word] for word in all_top_words]"
      ]
    },
    {
      "cell_type": "code",
      "execution_count": null,
      "metadata": {
        "id": "OUh0dStGe9XL",
        "outputId": "17835986-2b88-4e15-94d4-f0da41d36192"
      },
      "outputs": [
        {
          "name": "stderr",
          "output_type": "stream",
          "text": [
            "/Users/adahan/opt/anaconda3/envs/py4dp/lib/python3.9/site-packages/sklearn/manifold/_t_sne.py:780: FutureWarning: The default initialization in TSNE will change from 'random' to 'pca' in 1.2.\n",
            "  warnings.warn(\n",
            "/Users/adahan/opt/anaconda3/envs/py4dp/lib/python3.9/site-packages/sklearn/manifold/_t_sne.py:790: FutureWarning: The default learning rate in TSNE will change from 200.0 to 'auto' in 1.2.\n",
            "  warnings.warn(\n"
          ]
        },
        {
          "data": {
            "image/png": "[encoded data removed]",
            "text/plain": [
              "<Figure size 864x864 with 1 Axes>"
            ]
          },
          "metadata": {
            "needs_background": "light"
          },
          "output_type": "display_data"
        }
      ],
      "source": [
        "def tsnescatterplot(word_labels, vectors, generes):\n",
        "    # create a list of 250 colors, 50 similiar colors for each genre words\n",
        "    color_list = []\n",
        "    genre_colors = [\"red\", \"green\", \"blue\", \"purple\", \"black\"]\n",
        "    for color in genre_colors:\n",
        "        color_list.append([color] * 50)\n",
        "    color_list = [color for lst in color_list for color in lst]  # flatten the list\n",
        "\n",
        "    # Reduce the dimensionality from 300 to 50 dimensions with PCA (as suggestet in the t-SNE paper)\n",
        "    reduc = PCA(n_components=50).fit_transform(vectors)\n",
        "\n",
        "    # Find t-SNE coordinates for 2 dimensions\n",
        "    np.set_printoptions(suppress=True)\n",
        "    Y = TSNE(n_components=2, random_state=0, perplexity=15).fit_transform(reduc)\n",
        "\n",
        "    # Sets everything up to plot\n",
        "    df = pd.DataFrame(\n",
        "        {\n",
        "            \"x\": [x for x in Y[:, 0]],\n",
        "            \"y\": [y for y in Y[:, 1]],\n",
        "            \"words\": word_labels,\n",
        "            \"color\": color_list,\n",
        "        }\n",
        "    )\n",
        "\n",
        "    fig, _ = plt.subplots()\n",
        "    fig.set_size_inches(12, 12)\n",
        "\n",
        "    # Basic plot\n",
        "    p1 = sns.regplot(\n",
        "        data=df,\n",
        "        x=\"x\",\n",
        "        y=\"y\",\n",
        "        fit_reg=False,\n",
        "        marker=\"o\",\n",
        "        color=\"k\",\n",
        "        scatter_kws={\"s\": 50, \"facecolors\": df[\"color\"]},\n",
        "    )\n",
        "\n",
        "    # Adds annotations one by one with a loop\n",
        "    for line in range(0, df.shape[0]):\n",
        "        p1.text(\n",
        "            df[\"x\"][line],\n",
        "            df[\"y\"][line],\n",
        "            \"  \" + df[\"words\"][line].title(),\n",
        "            horizontalalignment=\"left\",\n",
        "            verticalalignment=\"bottom\",\n",
        "            size=\"medium\",\n",
        "            color=df[\"color\"][line],\n",
        "            weight=\"normal\",\n",
        "        ).set_size(10)\n",
        "\n",
        "    plt.xlim(Y[:, 0].min() - 5, Y[:, 0].max() + 5)\n",
        "    plt.ylim(Y[:, 1].min() - 5, Y[:, 1].max() + 5)\n",
        "\n",
        "    # plot legend\n",
        "    for i, name in enumerate(generes):\n",
        "        plt.text(-30, 1.5 * i - 30, name, color=genre_colors[i])\n",
        "\n",
        "    plt.title(\"t-SNE visualization for top words\")\n",
        "\n",
        "\n",
        "tsnescatterplot(all_top_words, all_top_words_vectors, genres)"
      ]
    },
    {
      "cell_type": "markdown",
      "metadata": {
        "id": "bgxd4au-dfHb"
      },
      "source": [
        "## Text Classification\n",
        "In this section, you'll build a text classifier, determining the genre of a song based on its lyrics."
      ]
    },
    {
      "cell_type": "markdown",
      "metadata": {
        "id": "KVaR7LDvdfHc"
      },
      "source": [
        "### Text classification using Bag-of-Words\n",
        "Build a Naive Bayes classifier based on the bag of Words.  \n",
        "You will need to divide your dataset into a train and test sets."
      ]
    },
    {
      "cell_type": "code",
      "execution_count": null,
      "metadata": {
        "id": "BKXzkDo8dfHc",
        "outputId": "ddc80ea5-b9ab-4fe4-abc8-2d55ea566d95"
      },
      "outputs": [
        {
          "name": "stdout",
          "output_type": "stream",
          "text": [
            "Test accuracy is: 0.578\n"
          ]
        }
      ],
      "source": [
        "X_train, X_test, y_train, y_test = train_test_split(\n",
        "    raw_df.sent, raw_df.genre, test_size=0.2, random_state=42\n",
        ")  # 80% / 20% split\n",
        "\n",
        "nb_pipe = Pipeline(\n",
        "    [\n",
        "        (\"vect\", CountVectorizer(max_features=10000, min_df=10, stop_words=\"english\")),\n",
        "        (\"clf\", MultinomialNB()),\n",
        "    ]\n",
        ")\n",
        "\n",
        "nb_pipe.fit(X_train, y_train)  # train the pipeline\n",
        "print(f\"Test accuracy is: {nb_pipe.score(X_test, y_test):.3f}\")"
      ]
    },
    {
      "cell_type": "markdown",
      "metadata": {
        "id": "JtD1EeJfdfHd"
      },
      "source": [
        "Show the confusion matrix."
      ]
    },
    {
      "cell_type": "code",
      "execution_count": null,
      "metadata": {
        "id": "uKhCESgxdfHd",
        "outputId": "e807f190-1714-4d83-c62d-14ff1e4623d1"
      },
      "outputs": [
        {
          "data": {
            "image/png": "[encoded data removed]",
            "text/plain": [
              "<Figure size 792x720 with 2 Axes>"
            ]
          },
          "metadata": {
            "needs_background": "light"
          },
          "output_type": "display_data"
        }
      ],
      "source": [
        "def draw_cm(y_test, y_pred, classes, title):\n",
        "    cm = confusion_matrix(y_test, y_pred, normalize=\"true\")\n",
        "    cm_df = pd.DataFrame(cm, index=classes, columns=classes)\n",
        "\n",
        "    # Plotting\n",
        "    plt.figure(figsize=(11, 10))\n",
        "    # draw matrix as heatmap, using a small font and blue color map\n",
        "    sns.heatmap(cm_df, annot=True, fmt=\".1%\", annot_kws={\"fontsize\": 10}, cmap=\"Blues\")\n",
        "    # calc accuracy and show it in the title\n",
        "    plt.title(title + \"\\nAccuracy:{0:.3f}\".format(accuracy_score(y_test, y_pred)))\n",
        "    plt.ylabel(\"True class\")\n",
        "    plt.xlabel(\"Predicted class\")\n",
        "    # formating tick labels (class names)\n",
        "    plt.gca().axes.tick_params(labelsize=\"medium\")\n",
        "    plt.tight_layout()\n",
        "\n",
        "\n",
        "y_pred = nb_pipe.predict(X_test)\n",
        "draw_cm(y_test, y_pred, nb_pipe.classes_, \"Confusion Matrix - Naive Bayes BoW\")"
      ]
    },
    {
      "cell_type": "markdown",
      "metadata": {
        "id": "pcrrVsWbdfHe"
      },
      "source": [
        "Show the classification report - precision, recall, f1 for each class."
      ]
    },
    {
      "cell_type": "code",
      "execution_count": null,
      "metadata": {
        "id": "mKgKUBJAdfHe",
        "outputId": "2b2c4e9f-7dc1-4757-d718-d40eb0a94852"
      },
      "outputs": [
        {
          "name": "stdout",
          "output_type": "stream",
          "text": [
            "              precision    recall  f1-score   support\n",
            "\n",
            "     Country       0.47      0.83      0.60      1656\n",
            "     Hip-Hop       0.79      0.73      0.76      1917\n",
            "       Metal       0.67      0.76      0.72      1828\n",
            "         Pop       0.55      0.32      0.41      2214\n",
            "        Rock       0.46      0.37      0.41      2381\n",
            "\n",
            "    accuracy                           0.58      9996\n",
            "   macro avg       0.59      0.61      0.58      9996\n",
            "weighted avg       0.58      0.58      0.56      9996\n",
            "\n"
          ]
        }
      ],
      "source": [
        "print(classification_report(y_test, y_pred, target_names=nb_pipe.classes_))"
      ]
    },
    {
      "cell_type": "markdown",
      "metadata": {
        "id": "Gjry6UHCdfHe"
      },
      "source": [
        "### Text classification using Word Vectors\n",
        "#### Average word vectors\n",
        "Do the same, using a classifier that averages the word vectors of words in the document."
      ]
    },
    {
      "cell_type": "code",
      "execution_count": null,
      "metadata": {
        "id": "cIf_qLaJdfHf"
      },
      "outputs": [],
      "source": [
        "def get_mean_vector(words):\n",
        "    all_vectors = []\n",
        "\n",
        "    for word in words:\n",
        "        if word in model_ct10.wv.index_to_key:\n",
        "            all_vectors.append(model_ct10.wv[word])\n",
        "\n",
        "    # get the mean vector for the whole text\n",
        "    mean_vector = np.mean(all_vectors, axis=0)\n",
        "\n",
        "    return mean_vector"
      ]
    },
    {
      "cell_type": "code",
      "execution_count": null,
      "metadata": {
        "id": "u6uHtWjke9XP"
      },
      "outputs": [],
      "source": [
        "pp_df[\"words_avg_vec\"] = pp_df.sent_preprocessed.map(lambda x: get_mean_vector(x))"
      ]
    },
    {
      "cell_type": "code",
      "execution_count": null,
      "metadata": {
        "id": "GocxBXxHe9XP",
        "outputId": "765a96de-2709-47b4-a95a-39fbc3054f40"
      },
      "outputs": [
        {
          "data": {
            "text/html": [
              "<div>\n",
              "<style scoped>\n",
              "    .dataframe tbody tr th:only-of-type {\n",
              "        vertical-align: middle;\n",
              "    }\n",
              "\n",
              "    .dataframe tbody tr th {\n",
              "        vertical-align: top;\n",
              "    }\n",
              "\n",
              "    .dataframe thead th {\n",
              "        text-align: right;\n",
              "    }\n",
              "</style>\n",
              "<table border=\"1\" class=\"dataframe\">\n",
              "  <thead>\n",
              "    <tr style=\"text-align: right;\">\n",
              "      <th></th>\n",
              "      <th>song</th>\n",
              "      <th>year</th>\n",
              "      <th>artist</th>\n",
              "      <th>genre</th>\n",
              "      <th>lyrics</th>\n",
              "      <th>num_chars</th>\n",
              "      <th>sent</th>\n",
              "      <th>num_words</th>\n",
              "      <th>lyrics_preprocessed</th>\n",
              "      <th>sent_preprocessed</th>\n",
              "      <th>words_avg_vec</th>\n",
              "    </tr>\n",
              "  </thead>\n",
              "  <tbody>\n",
              "    <tr>\n",
              "      <th>204182</th>\n",
              "      <td>fully-dressed</td>\n",
              "      <td>2008</td>\n",
              "      <td>annie</td>\n",
              "      <td>Pop</td>\n",
              "      <td>[HEALY]\\n[spoken] This is Bert Healy saying .....</td>\n",
              "      <td>1041</td>\n",
              "      <td>healy spoken this bert healy saying singing he...</td>\n",
              "      <td>826</td>\n",
              "      <td>[healy, spoken, bert, healy, saying, singing, ...</td>\n",
              "      <td>[healy, spoken, bert, healy, saying, singing, ...</td>\n",
              "      <td>[-0.000803147, -0.038829915, 0.006080293, 0.00...</td>\n",
              "    </tr>\n",
              "    <tr>\n",
              "      <th>6116</th>\n",
              "      <td>surrounded-by-hoes</td>\n",
              "      <td>2006</td>\n",
              "      <td>50-cent</td>\n",
              "      <td>Hip-Hop</td>\n",
              "      <td>[Chorus: repeat 2X] Even when I'm tryin to be ...</td>\n",
              "      <td>1392</td>\n",
              "      <td>chorus repeat x even i tryin low i recognized ...</td>\n",
              "      <td>884</td>\n",
              "      <td>[chorus, repeat, x, even, tryin, low, recogniz...</td>\n",
              "      <td>[chorus, repeat, x, even, tryin, low, recogniz...</td>\n",
              "      <td>[-0.024093553, -0.052486792, 0.018396907, -0.0...</td>\n",
              "    </tr>\n",
              "    <tr>\n",
              "      <th>166369</th>\n",
              "      <td>taste-the-tears-thunderpuss-remix</td>\n",
              "      <td>2006</td>\n",
              "      <td>amber</td>\n",
              "      <td>Pop</td>\n",
              "      <td>How could you cause me so much pain?\\nAnd leav...</td>\n",
              "      <td>1113</td>\n",
              "      <td>how could cause much pain and leave heart rain...</td>\n",
              "      <td>756</td>\n",
              "      <td>[could, cause, much, pain, leave, heart, rain,...</td>\n",
              "      <td>[could, cause, much, pain, leave, heart, rain,...</td>\n",
              "      <td>[-0.002381391, -0.07937976, -0.016874831, 0.02...</td>\n",
              "    </tr>\n",
              "    <tr>\n",
              "      <th>198416</th>\n",
              "      <td>the-truth-will-set-me-free</td>\n",
              "      <td>2006</td>\n",
              "      <td>glenn-hughes</td>\n",
              "      <td>Rock</td>\n",
              "      <td>In a scarlet vision\\nIn a velvet room\\nI come ...</td>\n",
              "      <td>779</td>\n",
              "      <td>in scarlet vision in velvet room i come decisi...</td>\n",
              "      <td>583</td>\n",
              "      <td>[scarlet, vision, velvet, room, come, decision...</td>\n",
              "      <td>[scarlet, vision, velvet, room, come, decision...</td>\n",
              "      <td>[0.031630293, -0.043687187, -0.03121626, -0.00...</td>\n",
              "    </tr>\n",
              "    <tr>\n",
              "      <th>127800</th>\n",
              "      <td>the-last-goodbye</td>\n",
              "      <td>2008</td>\n",
              "      <td>aaron-pritchett</td>\n",
              "      <td>Country</td>\n",
              "      <td>Sprintime in Savannah\\nIt dont get much pretti...</td>\n",
              "      <td>881</td>\n",
              "      <td>sprintime savannah it dont get much prettier b...</td>\n",
              "      <td>639</td>\n",
              "      <td>[sprintime, savannah, dont, get, much, prettie...</td>\n",
              "      <td>[sprintime, savannah, dont, get, much, prettie...</td>\n",
              "      <td>[-0.030062674, -0.057570543, -0.002403161, -0....</td>\n",
              "    </tr>\n",
              "  </tbody>\n",
              "</table>\n",
              "</div>"
            ],
            "text/plain": [
              "                                     song  year           artist    genre  \\\n",
              "204182                      fully-dressed  2008            annie      Pop   \n",
              "6116                   surrounded-by-hoes  2006          50-cent  Hip-Hop   \n",
              "166369  taste-the-tears-thunderpuss-remix  2006            amber      Pop   \n",
              "198416         the-truth-will-set-me-free  2006     glenn-hughes     Rock   \n",
              "127800                   the-last-goodbye  2008  aaron-pritchett  Country   \n",
              "\n",
              "                                                   lyrics  num_chars  \\\n",
              "204182  [HEALY]\\n[spoken] This is Bert Healy saying .....       1041   \n",
              "6116    [Chorus: repeat 2X] Even when I'm tryin to be ...       1392   \n",
              "166369  How could you cause me so much pain?\\nAnd leav...       1113   \n",
              "198416  In a scarlet vision\\nIn a velvet room\\nI come ...        779   \n",
              "127800  Sprintime in Savannah\\nIt dont get much pretti...        881   \n",
              "\n",
              "                                                     sent  num_words  \\\n",
              "204182  healy spoken this bert healy saying singing he...        826   \n",
              "6116    chorus repeat x even i tryin low i recognized ...        884   \n",
              "166369  how could cause much pain and leave heart rain...        756   \n",
              "198416  in scarlet vision in velvet room i come decisi...        583   \n",
              "127800  sprintime savannah it dont get much prettier b...        639   \n",
              "\n",
              "                                      lyrics_preprocessed  \\\n",
              "204182  [healy, spoken, bert, healy, saying, singing, ...   \n",
              "6116    [chorus, repeat, x, even, tryin, low, recogniz...   \n",
              "166369  [could, cause, much, pain, leave, heart, rain,...   \n",
              "198416  [scarlet, vision, velvet, room, come, decision...   \n",
              "127800  [sprintime, savannah, dont, get, much, prettie...   \n",
              "\n",
              "                                        sent_preprocessed  \\\n",
              "204182  [healy, spoken, bert, healy, saying, singing, ...   \n",
              "6116    [chorus, repeat, x, even, tryin, low, recogniz...   \n",
              "166369  [could, cause, much, pain, leave, heart, rain,...   \n",
              "198416  [scarlet, vision, velvet, room, come, decision...   \n",
              "127800  [sprintime, savannah, dont, get, much, prettie...   \n",
              "\n",
              "                                            words_avg_vec  \n",
              "204182  [-0.000803147, -0.038829915, 0.006080293, 0.00...  \n",
              "6116    [-0.024093553, -0.052486792, 0.018396907, -0.0...  \n",
              "166369  [-0.002381391, -0.07937976, -0.016874831, 0.02...  \n",
              "198416  [0.031630293, -0.043687187, -0.03121626, -0.00...  \n",
              "127800  [-0.030062674, -0.057570543, -0.002403161, -0....  "
            ]
          },
          "execution_count": 239,
          "metadata": {},
          "output_type": "execute_result"
        }
      ],
      "source": [
        "pp_df.head()"
      ]
    },
    {
      "cell_type": "code",
      "execution_count": null,
      "metadata": {
        "id": "ozNWOuISe9XQ",
        "outputId": "74f42ba8-aa3d-4e3f-dfd7-f5b17588f8dc"
      },
      "outputs": [
        {
          "data": {
            "text/html": [
              "<div>\n",
              "<style scoped>\n",
              "    .dataframe tbody tr th:only-of-type {\n",
              "        vertical-align: middle;\n",
              "    }\n",
              "\n",
              "    .dataframe tbody tr th {\n",
              "        vertical-align: top;\n",
              "    }\n",
              "\n",
              "    .dataframe thead th {\n",
              "        text-align: right;\n",
              "    }\n",
              "</style>\n",
              "<table border=\"1\" class=\"dataframe\">\n",
              "  <thead>\n",
              "    <tr style=\"text-align: right;\">\n",
              "      <th></th>\n",
              "      <th>feature_0</th>\n",
              "      <th>feature_1</th>\n",
              "      <th>feature_2</th>\n",
              "      <th>feature_3</th>\n",
              "      <th>feature_4</th>\n",
              "      <th>feature_5</th>\n",
              "      <th>feature_6</th>\n",
              "      <th>feature_7</th>\n",
              "      <th>feature_8</th>\n",
              "      <th>feature_9</th>\n",
              "      <th>...</th>\n",
              "      <th>feature_293</th>\n",
              "      <th>feature_294</th>\n",
              "      <th>feature_295</th>\n",
              "      <th>feature_296</th>\n",
              "      <th>feature_297</th>\n",
              "      <th>feature_298</th>\n",
              "      <th>feature_299</th>\n",
              "      <th>song</th>\n",
              "      <th>genre</th>\n",
              "      <th>sent</th>\n",
              "    </tr>\n",
              "  </thead>\n",
              "  <tbody>\n",
              "    <tr>\n",
              "      <th>0</th>\n",
              "      <td>-0.000803</td>\n",
              "      <td>-0.038830</td>\n",
              "      <td>0.006080</td>\n",
              "      <td>0.006287</td>\n",
              "      <td>0.004814</td>\n",
              "      <td>0.015455</td>\n",
              "      <td>0.003621</td>\n",
              "      <td>0.031321</td>\n",
              "      <td>-0.001102</td>\n",
              "      <td>-0.018165</td>\n",
              "      <td>...</td>\n",
              "      <td>0.015756</td>\n",
              "      <td>0.003143</td>\n",
              "      <td>0.015798</td>\n",
              "      <td>0.003120</td>\n",
              "      <td>0.021347</td>\n",
              "      <td>-0.015977</td>\n",
              "      <td>-0.017260</td>\n",
              "      <td>ego-remix</td>\n",
              "      <td>Pop</td>\n",
              "      <td>oh baby you know i gon na cut right chase some...</td>\n",
              "    </tr>\n",
              "    <tr>\n",
              "      <th>2</th>\n",
              "      <td>-0.002381</td>\n",
              "      <td>-0.079380</td>\n",
              "      <td>-0.016875</td>\n",
              "      <td>0.020629</td>\n",
              "      <td>0.003550</td>\n",
              "      <td>0.056239</td>\n",
              "      <td>-0.003525</td>\n",
              "      <td>-0.044072</td>\n",
              "      <td>-0.000421</td>\n",
              "      <td>0.029009</td>\n",
              "      <td>...</td>\n",
              "      <td>-0.021420</td>\n",
              "      <td>-0.032446</td>\n",
              "      <td>-0.001023</td>\n",
              "      <td>0.000124</td>\n",
              "      <td>0.037878</td>\n",
              "      <td>-0.024765</td>\n",
              "      <td>0.008392</td>\n",
              "      <td>honesty</td>\n",
              "      <td>Pop</td>\n",
              "      <td>if search for tenderness it hard find you love...</td>\n",
              "    </tr>\n",
              "    <tr>\n",
              "      <th>7</th>\n",
              "      <td>-0.003648</td>\n",
              "      <td>-0.035006</td>\n",
              "      <td>0.000884</td>\n",
              "      <td>-0.009248</td>\n",
              "      <td>0.007067</td>\n",
              "      <td>0.022187</td>\n",
              "      <td>-0.026849</td>\n",
              "      <td>-0.024375</td>\n",
              "      <td>0.009995</td>\n",
              "      <td>0.010957</td>\n",
              "      <td>...</td>\n",
              "      <td>0.002831</td>\n",
              "      <td>-0.000518</td>\n",
              "      <td>-0.005168</td>\n",
              "      <td>0.006295</td>\n",
              "      <td>0.001513</td>\n",
              "      <td>0.018882</td>\n",
              "      <td>-0.011390</td>\n",
              "      <td>waiting</td>\n",
              "      <td>Pop</td>\n",
              "      <td>waiting waiting waiting waiting waiting waitin...</td>\n",
              "    </tr>\n",
              "    <tr>\n",
              "      <th>9</th>\n",
              "      <td>-0.013746</td>\n",
              "      <td>-0.061049</td>\n",
              "      <td>0.004328</td>\n",
              "      <td>0.028394</td>\n",
              "      <td>-0.014619</td>\n",
              "      <td>0.032779</td>\n",
              "      <td>-0.069021</td>\n",
              "      <td>-0.051582</td>\n",
              "      <td>0.024110</td>\n",
              "      <td>0.052591</td>\n",
              "      <td>...</td>\n",
              "      <td>-0.004532</td>\n",
              "      <td>0.023585</td>\n",
              "      <td>-0.006129</td>\n",
              "      <td>-0.049731</td>\n",
              "      <td>-0.008892</td>\n",
              "      <td>-0.004525</td>\n",
              "      <td>0.016320</td>\n",
              "      <td>why-don-t-you-love-me</td>\n",
              "      <td>Pop</td>\n",
              "      <td>n n honey you better sit look around cause mus...</td>\n",
              "    </tr>\n",
              "    <tr>\n",
              "      <th>11</th>\n",
              "      <td>0.014213</td>\n",
              "      <td>0.039513</td>\n",
              "      <td>0.000790</td>\n",
              "      <td>0.020958</td>\n",
              "      <td>0.020386</td>\n",
              "      <td>-0.028417</td>\n",
              "      <td>0.070551</td>\n",
              "      <td>0.151831</td>\n",
              "      <td>-0.044345</td>\n",
              "      <td>-0.064211</td>\n",
              "      <td>...</td>\n",
              "      <td>0.026646</td>\n",
              "      <td>0.056817</td>\n",
              "      <td>-0.002223</td>\n",
              "      <td>-0.020643</td>\n",
              "      <td>0.009234</td>\n",
              "      <td>0.026243</td>\n",
              "      <td>-0.017341</td>\n",
              "      <td>telephone</td>\n",
              "      <td>Pop</td>\n",
              "      <td>hello hello baby called i hear thing i got ser...</td>\n",
              "    </tr>\n",
              "    <tr>\n",
              "      <th>...</th>\n",
              "      <td>...</td>\n",
              "      <td>...</td>\n",
              "      <td>...</td>\n",
              "      <td>...</td>\n",
              "      <td>...</td>\n",
              "      <td>...</td>\n",
              "      <td>...</td>\n",
              "      <td>...</td>\n",
              "      <td>...</td>\n",
              "      <td>...</td>\n",
              "      <td>...</td>\n",
              "      <td>...</td>\n",
              "      <td>...</td>\n",
              "      <td>...</td>\n",
              "      <td>...</td>\n",
              "      <td>...</td>\n",
              "      <td>...</td>\n",
              "      <td>...</td>\n",
              "      <td>...</td>\n",
              "      <td>...</td>\n",
              "      <td>...</td>\n",
              "    </tr>\n",
              "    <tr>\n",
              "      <th>49961</th>\n",
              "      <td>0.020692</td>\n",
              "      <td>-0.048355</td>\n",
              "      <td>-0.044627</td>\n",
              "      <td>0.029176</td>\n",
              "      <td>-0.005416</td>\n",
              "      <td>-0.021914</td>\n",
              "      <td>0.001095</td>\n",
              "      <td>-0.029048</td>\n",
              "      <td>0.025835</td>\n",
              "      <td>0.016382</td>\n",
              "      <td>...</td>\n",
              "      <td>-0.006777</td>\n",
              "      <td>0.016944</td>\n",
              "      <td>0.031573</td>\n",
              "      <td>0.008254</td>\n",
              "      <td>0.053615</td>\n",
              "      <td>-0.019370</td>\n",
              "      <td>-0.004543</td>\n",
              "      <td>below-zero</td>\n",
              "      <td>Hip-Hop</td>\n",
              "      <td>nokio yo yo something uh old bottle old whine ...</td>\n",
              "    </tr>\n",
              "    <tr>\n",
              "      <th>49963</th>\n",
              "      <td>0.017073</td>\n",
              "      <td>-0.090733</td>\n",
              "      <td>-0.040130</td>\n",
              "      <td>-0.007690</td>\n",
              "      <td>0.031156</td>\n",
              "      <td>0.036447</td>\n",
              "      <td>-0.020382</td>\n",
              "      <td>-0.025707</td>\n",
              "      <td>-0.037755</td>\n",
              "      <td>0.022540</td>\n",
              "      <td>...</td>\n",
              "      <td>0.020742</td>\n",
              "      <td>-0.001209</td>\n",
              "      <td>-0.016706</td>\n",
              "      <td>-0.015255</td>\n",
              "      <td>0.048953</td>\n",
              "      <td>-0.010474</td>\n",
              "      <td>-0.015404</td>\n",
              "      <td>sleeping-in-my-bed</td>\n",
              "      <td>Hip-Hop</td>\n",
              "      <td>i got feeling i turn loose that somebody getti...</td>\n",
              "    </tr>\n",
              "    <tr>\n",
              "      <th>49964</th>\n",
              "      <td>-0.008381</td>\n",
              "      <td>-0.027527</td>\n",
              "      <td>-0.004213</td>\n",
              "      <td>0.033944</td>\n",
              "      <td>0.009163</td>\n",
              "      <td>0.049712</td>\n",
              "      <td>-0.011622</td>\n",
              "      <td>-0.005331</td>\n",
              "      <td>0.020631</td>\n",
              "      <td>0.018171</td>\n",
              "      <td>...</td>\n",
              "      <td>-0.008473</td>\n",
              "      <td>0.002150</td>\n",
              "      <td>0.004433</td>\n",
              "      <td>-0.008774</td>\n",
              "      <td>0.003411</td>\n",
              "      <td>-0.007615</td>\n",
              "      <td>0.000778</td>\n",
              "      <td>one-good-reason</td>\n",
              "      <td>Hip-Hop</td>\n",
              "      <td>can i talk second got something i want say i r...</td>\n",
              "    </tr>\n",
              "    <tr>\n",
              "      <th>49967</th>\n",
              "      <td>-0.008913</td>\n",
              "      <td>-0.042002</td>\n",
              "      <td>-0.005197</td>\n",
              "      <td>0.000950</td>\n",
              "      <td>-0.017776</td>\n",
              "      <td>0.022409</td>\n",
              "      <td>-0.005179</td>\n",
              "      <td>-0.017269</td>\n",
              "      <td>0.008217</td>\n",
              "      <td>0.011315</td>\n",
              "      <td>...</td>\n",
              "      <td>-0.022831</td>\n",
              "      <td>-0.005244</td>\n",
              "      <td>-0.012103</td>\n",
              "      <td>0.001888</td>\n",
              "      <td>0.020684</td>\n",
              "      <td>-0.010340</td>\n",
              "      <td>-0.007018</td>\n",
              "      <td>the-love-we-had-stays-on-my-mind</td>\n",
              "      <td>Hip-Hop</td>\n",
              "      <td>i believe girl i believe but i man ill alright...</td>\n",
              "    </tr>\n",
              "    <tr>\n",
              "      <th>49974</th>\n",
              "      <td>-0.034386</td>\n",
              "      <td>-0.074457</td>\n",
              "      <td>-0.005680</td>\n",
              "      <td>-0.011410</td>\n",
              "      <td>0.001572</td>\n",
              "      <td>0.023832</td>\n",
              "      <td>-0.011667</td>\n",
              "      <td>-0.060998</td>\n",
              "      <td>0.011168</td>\n",
              "      <td>0.011608</td>\n",
              "      <td>...</td>\n",
              "      <td>-0.020780</td>\n",
              "      <td>-0.040488</td>\n",
              "      <td>-0.009063</td>\n",
              "      <td>-0.004561</td>\n",
              "      <td>0.013505</td>\n",
              "      <td>-0.028206</td>\n",
              "      <td>-0.003450</td>\n",
              "      <td>you-are-everything</td>\n",
              "      <td>Hip-Hop</td>\n",
              "      <td>can i play baby hey yo woody help yeah hey yo ...</td>\n",
              "    </tr>\n",
              "  </tbody>\n",
              "</table>\n",
              "<p>9624 rows × 303 columns</p>\n",
              "</div>"
            ],
            "text/plain": [
              "       feature_0  feature_1  feature_2  feature_3  feature_4  feature_5  \\\n",
              "0      -0.000803  -0.038830   0.006080   0.006287   0.004814   0.015455   \n",
              "2      -0.002381  -0.079380  -0.016875   0.020629   0.003550   0.056239   \n",
              "7      -0.003648  -0.035006   0.000884  -0.009248   0.007067   0.022187   \n",
              "9      -0.013746  -0.061049   0.004328   0.028394  -0.014619   0.032779   \n",
              "11      0.014213   0.039513   0.000790   0.020958   0.020386  -0.028417   \n",
              "...          ...        ...        ...        ...        ...        ...   \n",
              "49961   0.020692  -0.048355  -0.044627   0.029176  -0.005416  -0.021914   \n",
              "49963   0.017073  -0.090733  -0.040130  -0.007690   0.031156   0.036447   \n",
              "49964  -0.008381  -0.027527  -0.004213   0.033944   0.009163   0.049712   \n",
              "49967  -0.008913  -0.042002  -0.005197   0.000950  -0.017776   0.022409   \n",
              "49974  -0.034386  -0.074457  -0.005680  -0.011410   0.001572   0.023832   \n",
              "\n",
              "       feature_6  feature_7  feature_8  feature_9  ...  feature_293  \\\n",
              "0       0.003621   0.031321  -0.001102  -0.018165  ...     0.015756   \n",
              "2      -0.003525  -0.044072  -0.000421   0.029009  ...    -0.021420   \n",
              "7      -0.026849  -0.024375   0.009995   0.010957  ...     0.002831   \n",
              "9      -0.069021  -0.051582   0.024110   0.052591  ...    -0.004532   \n",
              "11      0.070551   0.151831  -0.044345  -0.064211  ...     0.026646   \n",
              "...          ...        ...        ...        ...  ...          ...   \n",
              "49961   0.001095  -0.029048   0.025835   0.016382  ...    -0.006777   \n",
              "49963  -0.020382  -0.025707  -0.037755   0.022540  ...     0.020742   \n",
              "49964  -0.011622  -0.005331   0.020631   0.018171  ...    -0.008473   \n",
              "49967  -0.005179  -0.017269   0.008217   0.011315  ...    -0.022831   \n",
              "49974  -0.011667  -0.060998   0.011168   0.011608  ...    -0.020780   \n",
              "\n",
              "       feature_294  feature_295  feature_296  feature_297  feature_298  \\\n",
              "0         0.003143     0.015798     0.003120     0.021347    -0.015977   \n",
              "2        -0.032446    -0.001023     0.000124     0.037878    -0.024765   \n",
              "7        -0.000518    -0.005168     0.006295     0.001513     0.018882   \n",
              "9         0.023585    -0.006129    -0.049731    -0.008892    -0.004525   \n",
              "11        0.056817    -0.002223    -0.020643     0.009234     0.026243   \n",
              "...            ...          ...          ...          ...          ...   \n",
              "49961     0.016944     0.031573     0.008254     0.053615    -0.019370   \n",
              "49963    -0.001209    -0.016706    -0.015255     0.048953    -0.010474   \n",
              "49964     0.002150     0.004433    -0.008774     0.003411    -0.007615   \n",
              "49967    -0.005244    -0.012103     0.001888     0.020684    -0.010340   \n",
              "49974    -0.040488    -0.009063    -0.004561     0.013505    -0.028206   \n",
              "\n",
              "       feature_299                              song    genre  \\\n",
              "0        -0.017260                         ego-remix      Pop   \n",
              "2         0.008392                           honesty      Pop   \n",
              "7        -0.011390                           waiting      Pop   \n",
              "9         0.016320             why-don-t-you-love-me      Pop   \n",
              "11       -0.017341                         telephone      Pop   \n",
              "...            ...                               ...      ...   \n",
              "49961    -0.004543                        below-zero  Hip-Hop   \n",
              "49963    -0.015404                sleeping-in-my-bed  Hip-Hop   \n",
              "49964     0.000778                   one-good-reason  Hip-Hop   \n",
              "49967    -0.007018  the-love-we-had-stays-on-my-mind  Hip-Hop   \n",
              "49974    -0.003450                you-are-everything  Hip-Hop   \n",
              "\n",
              "                                                    sent  \n",
              "0      oh baby you know i gon na cut right chase some...  \n",
              "2      if search for tenderness it hard find you love...  \n",
              "7      waiting waiting waiting waiting waiting waitin...  \n",
              "9      n n honey you better sit look around cause mus...  \n",
              "11     hello hello baby called i hear thing i got ser...  \n",
              "...                                                  ...  \n",
              "49961  nokio yo yo something uh old bottle old whine ...  \n",
              "49963  i got feeling i turn loose that somebody getti...  \n",
              "49964  can i talk second got something i want say i r...  \n",
              "49967  i believe girl i believe but i man ill alright...  \n",
              "49974  can i play baby hey yo woody help yeah hey yo ...  \n",
              "\n",
              "[9624 rows x 303 columns]"
            ]
          },
          "execution_count": 269,
          "metadata": {},
          "output_type": "execute_result"
        }
      ],
      "source": [
        "avg_df = pd.DataFrame(pp_df.words_avg_vec.tolist())\n",
        "avg_df = avg_df.add_prefix(\"feature_\")\n",
        "avg_df[\"song\"] = pp_df.song\n",
        "avg_df[\"genre\"] = pp_df.genre\n",
        "avg_df[\"sent\"] = pp_df.sent\n",
        "avg_df.dropna(inplace=True)\n",
        "avg_df"
      ]
    },
    {
      "cell_type": "code",
      "execution_count": null,
      "metadata": {
        "id": "MyVsHH4ee9XQ",
        "outputId": "08938364-8c1e-45dd-dfb6-22df87745c53"
      },
      "outputs": [
        {
          "name": "stderr",
          "output_type": "stream",
          "text": [
            "/Users/adahan/opt/anaconda3/envs/py4dp/lib/python3.9/site-packages/lightgbm/sklearn.py:726: UserWarning: 'early_stopping_rounds' argument is deprecated and will be removed in a future release of LightGBM. Pass 'early_stopping()' callback via 'callbacks' argument instead.\n",
            "  _log_warning(\"'early_stopping_rounds' argument is deprecated and will be removed in a future release of LightGBM. \"\n",
            "/Users/adahan/opt/anaconda3/envs/py4dp/lib/python3.9/site-packages/lightgbm/sklearn.py:736: UserWarning: 'verbose' argument is deprecated and will be removed in a future release of LightGBM. Pass 'log_evaluation()' callback via 'callbacks' argument instead.\n",
            "  _log_warning(\"'verbose' argument is deprecated and will be removed in a future release of LightGBM. \"\n"
          ]
        },
        {
          "name": "stdout",
          "output_type": "stream",
          "text": [
            "[1]\ttrain's multi_logloss: 1.60427\tval's multi_logloss: 1.60551\n",
            "[2]\ttrain's multi_logloss: 1.60167\tval's multi_logloss: 1.60547\n",
            "[3]\ttrain's multi_logloss: 1.59912\tval's multi_logloss: 1.60562\n",
            "[4]\ttrain's multi_logloss: 1.59667\tval's multi_logloss: 1.60586\n",
            "[5]\ttrain's multi_logloss: 1.59423\tval's multi_logloss: 1.60587\n",
            "[6]\ttrain's multi_logloss: 1.5918\tval's multi_logloss: 1.60602\n",
            "[7]\ttrain's multi_logloss: 1.5894\tval's multi_logloss: 1.6063\n",
            "[8]\ttrain's multi_logloss: 1.58699\tval's multi_logloss: 1.60658\n",
            "[9]\ttrain's multi_logloss: 1.58458\tval's multi_logloss: 1.60679\n",
            "[10]\ttrain's multi_logloss: 1.5822\tval's multi_logloss: 1.6068\n",
            "[10]\ttrain's multi_logloss: 1.5822\tval's multi_logloss: 1.6068\n",
            "[11]\ttrain's multi_logloss: 1.57986\tval's multi_logloss: 1.60682\n",
            "[12]\ttrain's multi_logloss: 1.5775\tval's multi_logloss: 1.60685\n",
            "[13]\ttrain's multi_logloss: 1.57511\tval's multi_logloss: 1.60723\n",
            "[14]\ttrain's multi_logloss: 1.57275\tval's multi_logloss: 1.6073\n",
            "[15]\ttrain's multi_logloss: 1.57043\tval's multi_logloss: 1.6075\n",
            "[16]\ttrain's multi_logloss: 1.56814\tval's multi_logloss: 1.60765\n",
            "[17]\ttrain's multi_logloss: 1.56586\tval's multi_logloss: 1.60778\n",
            "[18]\ttrain's multi_logloss: 1.56344\tval's multi_logloss: 1.60796\n",
            "[19]\ttrain's multi_logloss: 1.56119\tval's multi_logloss: 1.60806\n",
            "[20]\ttrain's multi_logloss: 1.55891\tval's multi_logloss: 1.608\n",
            "[20]\ttrain's multi_logloss: 1.55891\tval's multi_logloss: 1.608\n",
            "[21]\ttrain's multi_logloss: 1.55667\tval's multi_logloss: 1.60819\n",
            "[22]\ttrain's multi_logloss: 1.55442\tval's multi_logloss: 1.60801\n",
            "Train accuracy is: 0.221\n",
            "Validation accuracy is: 0.215\n",
            "Test accuracy is: 0.220\n"
          ]
        }
      ],
      "source": [
        "train_features = [c for c in avg_df.columns.tolist() if c.startswith(\"feature_\")]\n",
        "\n",
        "X_train, X_test, y_train, y_test = train_test_split(\n",
        "    avg_df, avg_df.genre, test_size=0.1, random_state=42\n",
        ")\n",
        "X_train, X_val, y_train, y_val = train_test_split(\n",
        "    X_train, y_train, test_size=0.1, random_state=42\n",
        ")\n",
        "\n",
        "# Params set after playing with them a little bit\n",
        "lgb_params = {\n",
        "    \"boosting_type\": \"gbdt\",\n",
        "    \"objective\": \"multiclass\",\n",
        "    \"metric\": \"multi_logloss\",\n",
        "    \"learning_rate\": 0.01,\n",
        "    \"num_leaves\": 31,\n",
        "    \"random_state\": 42,\n",
        "    \"n_estimators\": 100,\n",
        "}\n",
        "\n",
        "clf_avg_vec = lgb.LGBMClassifier(**lgb_params)\n",
        "\n",
        "\n",
        "clf_avg_vec = clf_avg_vec.fit(\n",
        "    X_train[train_features],\n",
        "    y_train,\n",
        "    eval_set=[(X_train[train_features], y_train), (X_val[train_features], y_val)],\n",
        "    eval_names=[\"train\", \"val\"],\n",
        "    eval_metric=\"multi_logloss\",\n",
        "    early_stopping_rounds=20,\n",
        "    callbacks=[log_evaluation(1)],\n",
        "    verbose=10,\n",
        ")\n",
        "\n",
        "print(f\"Train accuracy is: {clf_avg_vec.score(X_train[train_features], y_train):.3f}\")\n",
        "print(f\"Validation accuracy is: {clf_avg_vec.score(X_val[train_features], y_val):.3f}\")\n",
        "print(f\"Test accuracy is: {clf_avg_vec.score(X_test[train_features], y_test):.3f}\")"
      ]
    },
    {
      "cell_type": "markdown",
      "metadata": {
        "id": "uBDPzGaGe9XR"
      },
      "source": [
        "Seems that the average vector approach yields poor results."
      ]
    },
    {
      "cell_type": "markdown",
      "metadata": {
        "id": "wqwmnqmndfHf"
      },
      "source": [
        "#### TfIdf Weighting\n",
        "Do the same, using a classifier that averages the word vectors of words in the document, weighting each word by its TfIdf.\n"
      ]
    },
    {
      "cell_type": "code",
      "execution_count": null,
      "metadata": {
        "id": "ttIWUd6udfHf",
        "outputId": "fdcd2ea5-77ae-4ad8-ca18-9538f94a7021"
      },
      "outputs": [
        {
          "name": "stderr",
          "output_type": "stream",
          "text": [
            "/Users/adahan/opt/anaconda3/envs/py4dp/lib/python3.9/site-packages/sklearn/utils/deprecation.py:87: FutureWarning: Function get_feature_names is deprecated; get_feature_names is deprecated in 1.0 and will be removed in 1.2. Please use get_feature_names_out instead.\n",
            "  warnings.warn(msg, category=FutureWarning)\n"
          ]
        }
      ],
      "source": [
        "# create tfidf vectorizer and train it\n",
        "tfidf = TfidfVectorizer(max_features=10000, stop_words=\"english\")\n",
        "X_train_tfidf = tfidf.fit_transform(\n",
        "    X_train.sent\n",
        ")  # Learn vocabulary and idf, return sparse term-document matrix\n",
        "\n",
        "# create word2vec vector matrix for 10K relevant terms\n",
        "token_vectors = []\n",
        "for term in tfidf.get_feature_names():\n",
        "    if term in model_ct10.wv.index_to_key:  # if the token is in vocabulary, append it\n",
        "        token_vectors.append(model_ct10.wv[term])\n",
        "    else:  # if the token is not in vocabulary, append a zero vector\n",
        "        token_vectors.append(np.zeros(300))\n",
        "\n",
        "word2vec_encoding_matrix = np.vstack(token_vectors)\n",
        "\n",
        "# matrix multiplication of tfidf matrix (samples, 10K terms) and term word2vec matrix (10K terms, 300) results in (samples, 300) matrix of word vectors weighted by tfidf\n",
        "X_train_tfidf_w2v = X_train_tfidf @ word2vec_encoding_matrix\n",
        "\n",
        "# Create the validation and test sets as well\n",
        "X_val_tfidf = tfidf.transform(X_val.sent)\n",
        "X_val_tfidf_w2v = X_val_tfidf @ word2vec_encoding_matrix\n",
        "\n",
        "X_test_tfidf = tfidf.transform(X_test.sent)\n",
        "X_test_tfidf_w2v = X_test_tfidf @ word2vec_encoding_matrix"
      ]
    },
    {
      "cell_type": "code",
      "execution_count": null,
      "metadata": {
        "id": "OM_Rj_XLe9XS",
        "outputId": "70289f6a-940d-4d60-b814-b05c089274fa"
      },
      "outputs": [
        {
          "name": "stderr",
          "output_type": "stream",
          "text": [
            "/Users/adahan/opt/anaconda3/envs/py4dp/lib/python3.9/site-packages/lightgbm/sklearn.py:726: UserWarning: 'early_stopping_rounds' argument is deprecated and will be removed in a future release of LightGBM. Pass 'early_stopping()' callback via 'callbacks' argument instead.\n",
            "  _log_warning(\"'early_stopping_rounds' argument is deprecated and will be removed in a future release of LightGBM. \"\n",
            "/Users/adahan/opt/anaconda3/envs/py4dp/lib/python3.9/site-packages/lightgbm/sklearn.py:736: UserWarning: 'verbose' argument is deprecated and will be removed in a future release of LightGBM. Pass 'log_evaluation()' callback via 'callbacks' argument instead.\n",
            "  _log_warning(\"'verbose' argument is deprecated and will be removed in a future release of LightGBM. \"\n"
          ]
        },
        {
          "name": "stdout",
          "output_type": "stream",
          "text": [
            "[1]\ttrain's multi_logloss: 1.59119\tval's multi_logloss: 1.59176\n",
            "[2]\ttrain's multi_logloss: 1.57607\tval's multi_logloss: 1.57867\n",
            "[3]\ttrain's multi_logloss: 1.56139\tval's multi_logloss: 1.56609\n",
            "[4]\ttrain's multi_logloss: 1.54721\tval's multi_logloss: 1.55359\n",
            "[5]\ttrain's multi_logloss: 1.53329\tval's multi_logloss: 1.54151\n",
            "[6]\ttrain's multi_logloss: 1.51985\tval's multi_logloss: 1.53015\n",
            "[7]\ttrain's multi_logloss: 1.5067\tval's multi_logloss: 1.51863\n",
            "[8]\ttrain's multi_logloss: 1.49389\tval's multi_logloss: 1.50774\n",
            "[9]\ttrain's multi_logloss: 1.48149\tval's multi_logloss: 1.49737\n",
            "[10]\ttrain's multi_logloss: 1.46928\tval's multi_logloss: 1.48701\n",
            "[10]\ttrain's multi_logloss: 1.46928\tval's multi_logloss: 1.48701\n",
            "[11]\ttrain's multi_logloss: 1.4574\tval's multi_logloss: 1.47676\n",
            "[12]\ttrain's multi_logloss: 1.44575\tval's multi_logloss: 1.46719\n",
            "[13]\ttrain's multi_logloss: 1.43443\tval's multi_logloss: 1.45766\n",
            "[14]\ttrain's multi_logloss: 1.4234\tval's multi_logloss: 1.44864\n",
            "[15]\ttrain's multi_logloss: 1.41261\tval's multi_logloss: 1.43966\n",
            "[16]\ttrain's multi_logloss: 1.40207\tval's multi_logloss: 1.43074\n",
            "[17]\ttrain's multi_logloss: 1.39172\tval's multi_logloss: 1.42193\n",
            "[18]\ttrain's multi_logloss: 1.38162\tval's multi_logloss: 1.41352\n",
            "[19]\ttrain's multi_logloss: 1.37176\tval's multi_logloss: 1.40545\n",
            "[20]\ttrain's multi_logloss: 1.36197\tval's multi_logloss: 1.39739\n",
            "[20]\ttrain's multi_logloss: 1.36197\tval's multi_logloss: 1.39739\n",
            "[21]\ttrain's multi_logloss: 1.35241\tval's multi_logloss: 1.38933\n",
            "[22]\ttrain's multi_logloss: 1.34312\tval's multi_logloss: 1.38186\n",
            "[23]\ttrain's multi_logloss: 1.33395\tval's multi_logloss: 1.37452\n",
            "[24]\ttrain's multi_logloss: 1.32493\tval's multi_logloss: 1.36701\n",
            "[25]\ttrain's multi_logloss: 1.31604\tval's multi_logloss: 1.35969\n",
            "[26]\ttrain's multi_logloss: 1.30735\tval's multi_logloss: 1.35276\n",
            "[27]\ttrain's multi_logloss: 1.29889\tval's multi_logloss: 1.34611\n",
            "[28]\ttrain's multi_logloss: 1.29053\tval's multi_logloss: 1.33952\n",
            "[29]\ttrain's multi_logloss: 1.28234\tval's multi_logloss: 1.33293\n",
            "[30]\ttrain's multi_logloss: 1.27424\tval's multi_logloss: 1.32656\n",
            "[30]\ttrain's multi_logloss: 1.27424\tval's multi_logloss: 1.32656\n",
            "[31]\ttrain's multi_logloss: 1.26631\tval's multi_logloss: 1.32036\n",
            "[32]\ttrain's multi_logloss: 1.25842\tval's multi_logloss: 1.31399\n",
            "[33]\ttrain's multi_logloss: 1.25074\tval's multi_logloss: 1.30788\n",
            "[34]\ttrain's multi_logloss: 1.24315\tval's multi_logloss: 1.30179\n",
            "[35]\ttrain's multi_logloss: 1.23556\tval's multi_logloss: 1.29598\n",
            "[36]\ttrain's multi_logloss: 1.22816\tval's multi_logloss: 1.29023\n",
            "[37]\ttrain's multi_logloss: 1.22083\tval's multi_logloss: 1.28455\n",
            "[38]\ttrain's multi_logloss: 1.21369\tval's multi_logloss: 1.2793\n",
            "[39]\ttrain's multi_logloss: 1.20662\tval's multi_logloss: 1.2736\n",
            "[40]\ttrain's multi_logloss: 1.19971\tval's multi_logloss: 1.26849\n",
            "[40]\ttrain's multi_logloss: 1.19971\tval's multi_logloss: 1.26849\n",
            "[41]\ttrain's multi_logloss: 1.19293\tval's multi_logloss: 1.26318\n",
            "[42]\ttrain's multi_logloss: 1.1862\tval's multi_logloss: 1.25811\n",
            "[43]\ttrain's multi_logloss: 1.17963\tval's multi_logloss: 1.25341\n",
            "[44]\ttrain's multi_logloss: 1.17311\tval's multi_logloss: 1.24829\n",
            "[45]\ttrain's multi_logloss: 1.16666\tval's multi_logloss: 1.24311\n",
            "[46]\ttrain's multi_logloss: 1.1603\tval's multi_logloss: 1.23835\n",
            "[47]\ttrain's multi_logloss: 1.15406\tval's multi_logloss: 1.23389\n",
            "[48]\ttrain's multi_logloss: 1.14786\tval's multi_logloss: 1.22917\n",
            "[49]\ttrain's multi_logloss: 1.14172\tval's multi_logloss: 1.22447\n",
            "[50]\ttrain's multi_logloss: 1.13568\tval's multi_logloss: 1.22019\n",
            "[50]\ttrain's multi_logloss: 1.13568\tval's multi_logloss: 1.22019\n",
            "[51]\ttrain's multi_logloss: 1.12976\tval's multi_logloss: 1.21607\n",
            "[52]\ttrain's multi_logloss: 1.1239\tval's multi_logloss: 1.2116\n",
            "[53]\ttrain's multi_logloss: 1.1181\tval's multi_logloss: 1.20741\n",
            "[54]\ttrain's multi_logloss: 1.11235\tval's multi_logloss: 1.2031\n",
            "[55]\ttrain's multi_logloss: 1.10674\tval's multi_logloss: 1.19888\n",
            "[56]\ttrain's multi_logloss: 1.1011\tval's multi_logloss: 1.19482\n",
            "[57]\ttrain's multi_logloss: 1.0956\tval's multi_logloss: 1.19081\n",
            "[58]\ttrain's multi_logloss: 1.09011\tval's multi_logloss: 1.18693\n",
            "[59]\ttrain's multi_logloss: 1.08474\tval's multi_logloss: 1.18342\n",
            "[60]\ttrain's multi_logloss: 1.0795\tval's multi_logloss: 1.17977\n",
            "[60]\ttrain's multi_logloss: 1.0795\tval's multi_logloss: 1.17977\n",
            "[61]\ttrain's multi_logloss: 1.07421\tval's multi_logloss: 1.17625\n",
            "[62]\ttrain's multi_logloss: 1.06911\tval's multi_logloss: 1.17281\n",
            "[63]\ttrain's multi_logloss: 1.06404\tval's multi_logloss: 1.16926\n",
            "[64]\ttrain's multi_logloss: 1.05906\tval's multi_logloss: 1.16581\n",
            "[65]\ttrain's multi_logloss: 1.05414\tval's multi_logloss: 1.16259\n",
            "[66]\ttrain's multi_logloss: 1.04925\tval's multi_logloss: 1.1594\n",
            "[67]\ttrain's multi_logloss: 1.04441\tval's multi_logloss: 1.15624\n",
            "[68]\ttrain's multi_logloss: 1.03952\tval's multi_logloss: 1.15265\n",
            "[69]\ttrain's multi_logloss: 1.03474\tval's multi_logloss: 1.1493\n",
            "[70]\ttrain's multi_logloss: 1.03011\tval's multi_logloss: 1.14616\n",
            "[70]\ttrain's multi_logloss: 1.03011\tval's multi_logloss: 1.14616\n",
            "[71]\ttrain's multi_logloss: 1.02542\tval's multi_logloss: 1.14304\n",
            "[72]\ttrain's multi_logloss: 1.02085\tval's multi_logloss: 1.13991\n",
            "[73]\ttrain's multi_logloss: 1.01636\tval's multi_logloss: 1.13677\n",
            "[74]\ttrain's multi_logloss: 1.01188\tval's multi_logloss: 1.13374\n",
            "[75]\ttrain's multi_logloss: 1.00749\tval's multi_logloss: 1.1305\n",
            "[76]\ttrain's multi_logloss: 1.00316\tval's multi_logloss: 1.12757\n",
            "[77]\ttrain's multi_logloss: 0.998847\tval's multi_logloss: 1.12458\n",
            "[78]\ttrain's multi_logloss: 0.994554\tval's multi_logloss: 1.12149\n",
            "[79]\ttrain's multi_logloss: 0.990392\tval's multi_logloss: 1.11865\n",
            "[80]\ttrain's multi_logloss: 0.986239\tval's multi_logloss: 1.11596\n",
            "[80]\ttrain's multi_logloss: 0.986239\tval's multi_logloss: 1.11596\n",
            "[81]\ttrain's multi_logloss: 0.982157\tval's multi_logloss: 1.11341\n",
            "[82]\ttrain's multi_logloss: 0.978103\tval's multi_logloss: 1.11059\n",
            "[83]\ttrain's multi_logloss: 0.974132\tval's multi_logloss: 1.10793\n",
            "[84]\ttrain's multi_logloss: 0.970206\tval's multi_logloss: 1.1053\n",
            "[85]\ttrain's multi_logloss: 0.96629\tval's multi_logloss: 1.10268\n",
            "[86]\ttrain's multi_logloss: 0.96236\tval's multi_logloss: 1.10029\n",
            "[87]\ttrain's multi_logloss: 0.958531\tval's multi_logloss: 1.09782\n",
            "[88]\ttrain's multi_logloss: 0.954702\tval's multi_logloss: 1.09541\n",
            "[89]\ttrain's multi_logloss: 0.950975\tval's multi_logloss: 1.09312\n",
            "[90]\ttrain's multi_logloss: 0.947272\tval's multi_logloss: 1.09103\n",
            "[90]\ttrain's multi_logloss: 0.947272\tval's multi_logloss: 1.09103\n",
            "[91]\ttrain's multi_logloss: 0.943554\tval's multi_logloss: 1.08857\n",
            "[92]\ttrain's multi_logloss: 0.939863\tval's multi_logloss: 1.0861\n",
            "[93]\ttrain's multi_logloss: 0.936134\tval's multi_logloss: 1.08371\n",
            "[94]\ttrain's multi_logloss: 0.932518\tval's multi_logloss: 1.0814\n",
            "[95]\ttrain's multi_logloss: 0.928916\tval's multi_logloss: 1.07928\n",
            "[96]\ttrain's multi_logloss: 0.925377\tval's multi_logloss: 1.07716\n",
            "[97]\ttrain's multi_logloss: 0.921816\tval's multi_logloss: 1.07485\n",
            "[98]\ttrain's multi_logloss: 0.918397\tval's multi_logloss: 1.0728\n",
            "[99]\ttrain's multi_logloss: 0.914898\tval's multi_logloss: 1.07044\n",
            "[100]\ttrain's multi_logloss: 0.911552\tval's multi_logloss: 1.06864\n",
            "[100]\ttrain's multi_logloss: 0.911552\tval's multi_logloss: 1.06864\n",
            "[101]\ttrain's multi_logloss: 0.908136\tval's multi_logloss: 1.06658\n",
            "[102]\ttrain's multi_logloss: 0.904805\tval's multi_logloss: 1.06444\n",
            "[103]\ttrain's multi_logloss: 0.90148\tval's multi_logloss: 1.06228\n",
            "[104]\ttrain's multi_logloss: 0.898201\tval's multi_logloss: 1.06054\n",
            "[105]\ttrain's multi_logloss: 0.894963\tval's multi_logloss: 1.05833\n",
            "[106]\ttrain's multi_logloss: 0.891805\tval's multi_logloss: 1.05621\n",
            "[107]\ttrain's multi_logloss: 0.888578\tval's multi_logloss: 1.05432\n",
            "[108]\ttrain's multi_logloss: 0.885402\tval's multi_logloss: 1.05236\n",
            "[109]\ttrain's multi_logloss: 0.882209\tval's multi_logloss: 1.05023\n",
            "[110]\ttrain's multi_logloss: 0.87903\tval's multi_logloss: 1.04836\n",
            "[110]\ttrain's multi_logloss: 0.87903\tval's multi_logloss: 1.04836\n",
            "[111]\ttrain's multi_logloss: 0.875903\tval's multi_logloss: 1.04644\n",
            "[112]\ttrain's multi_logloss: 0.872825\tval's multi_logloss: 1.04456\n",
            "[113]\ttrain's multi_logloss: 0.86973\tval's multi_logloss: 1.04265\n",
            "[114]\ttrain's multi_logloss: 0.866707\tval's multi_logloss: 1.04087\n",
            "[115]\ttrain's multi_logloss: 0.863739\tval's multi_logloss: 1.03881\n",
            "[116]\ttrain's multi_logloss: 0.860748\tval's multi_logloss: 1.03696\n",
            "[117]\ttrain's multi_logloss: 0.857777\tval's multi_logloss: 1.03525\n",
            "[118]\ttrain's multi_logloss: 0.854846\tval's multi_logloss: 1.03361\n",
            "[119]\ttrain's multi_logloss: 0.851945\tval's multi_logloss: 1.03183\n",
            "[120]\ttrain's multi_logloss: 0.849134\tval's multi_logloss: 1.03024\n",
            "[120]\ttrain's multi_logloss: 0.849134\tval's multi_logloss: 1.03024\n",
            "[121]\ttrain's multi_logloss: 0.846277\tval's multi_logloss: 1.02863\n",
            "[122]\ttrain's multi_logloss: 0.843419\tval's multi_logloss: 1.02708\n",
            "[123]\ttrain's multi_logloss: 0.840555\tval's multi_logloss: 1.0255\n",
            "[124]\ttrain's multi_logloss: 0.837763\tval's multi_logloss: 1.02404\n",
            "[125]\ttrain's multi_logloss: 0.834929\tval's multi_logloss: 1.02249\n",
            "[126]\ttrain's multi_logloss: 0.832197\tval's multi_logloss: 1.02113\n",
            "[127]\ttrain's multi_logloss: 0.829489\tval's multi_logloss: 1.01969\n",
            "[128]\ttrain's multi_logloss: 0.826759\tval's multi_logloss: 1.01817\n",
            "[129]\ttrain's multi_logloss: 0.82413\tval's multi_logloss: 1.01659\n",
            "[130]\ttrain's multi_logloss: 0.821423\tval's multi_logloss: 1.01512\n",
            "[130]\ttrain's multi_logloss: 0.821423\tval's multi_logloss: 1.01512\n",
            "[131]\ttrain's multi_logloss: 0.818798\tval's multi_logloss: 1.01359\n",
            "[132]\ttrain's multi_logloss: 0.816132\tval's multi_logloss: 1.01215\n",
            "[133]\ttrain's multi_logloss: 0.813539\tval's multi_logloss: 1.01095\n",
            "[134]\ttrain's multi_logloss: 0.810978\tval's multi_logloss: 1.00942\n",
            "[135]\ttrain's multi_logloss: 0.808452\tval's multi_logloss: 1.00808\n",
            "[136]\ttrain's multi_logloss: 0.805878\tval's multi_logloss: 1.00672\n",
            "[137]\ttrain's multi_logloss: 0.80338\tval's multi_logloss: 1.00562\n",
            "[138]\ttrain's multi_logloss: 0.800873\tval's multi_logloss: 1.00429\n",
            "[139]\ttrain's multi_logloss: 0.798352\tval's multi_logloss: 1.00306\n",
            "[140]\ttrain's multi_logloss: 0.795921\tval's multi_logloss: 1.00155\n",
            "[140]\ttrain's multi_logloss: 0.795921\tval's multi_logloss: 1.00155\n",
            "[141]\ttrain's multi_logloss: 0.793425\tval's multi_logloss: 1.00023\n",
            "[142]\ttrain's multi_logloss: 0.791013\tval's multi_logloss: 0.999259\n",
            "[143]\ttrain's multi_logloss: 0.788596\tval's multi_logloss: 0.99812\n",
            "[144]\ttrain's multi_logloss: 0.786124\tval's multi_logloss: 0.997067\n",
            "[145]\ttrain's multi_logloss: 0.783763\tval's multi_logloss: 0.995856\n",
            "[146]\ttrain's multi_logloss: 0.781379\tval's multi_logloss: 0.994761\n",
            "[147]\ttrain's multi_logloss: 0.779001\tval's multi_logloss: 0.993707\n",
            "[148]\ttrain's multi_logloss: 0.776643\tval's multi_logloss: 0.992686\n",
            "[149]\ttrain's multi_logloss: 0.774261\tval's multi_logloss: 0.991572\n",
            "[150]\ttrain's multi_logloss: 0.771948\tval's multi_logloss: 0.99055\n",
            "[150]\ttrain's multi_logloss: 0.771948\tval's multi_logloss: 0.99055\n",
            "[151]\ttrain's multi_logloss: 0.769634\tval's multi_logloss: 0.989534\n",
            "[152]\ttrain's multi_logloss: 0.767335\tval's multi_logloss: 0.988694\n",
            "[153]\ttrain's multi_logloss: 0.765061\tval's multi_logloss: 0.987745\n",
            "[154]\ttrain's multi_logloss: 0.762818\tval's multi_logloss: 0.987111\n",
            "[155]\ttrain's multi_logloss: 0.760514\tval's multi_logloss: 0.986073\n",
            "[156]\ttrain's multi_logloss: 0.758249\tval's multi_logloss: 0.985211\n",
            "[157]\ttrain's multi_logloss: 0.756042\tval's multi_logloss: 0.983929\n",
            "[158]\ttrain's multi_logloss: 0.753828\tval's multi_logloss: 0.983001\n",
            "[159]\ttrain's multi_logloss: 0.751615\tval's multi_logloss: 0.982049\n",
            "[160]\ttrain's multi_logloss: 0.74948\tval's multi_logloss: 0.981019\n",
            "[160]\ttrain's multi_logloss: 0.74948\tval's multi_logloss: 0.981019\n",
            "[161]\ttrain's multi_logloss: 0.747361\tval's multi_logloss: 0.980079\n",
            "[162]\ttrain's multi_logloss: 0.745217\tval's multi_logloss: 0.978929\n",
            "[163]\ttrain's multi_logloss: 0.743076\tval's multi_logloss: 0.978285\n",
            "[164]\ttrain's multi_logloss: 0.740916\tval's multi_logloss: 0.977223\n",
            "[165]\ttrain's multi_logloss: 0.738823\tval's multi_logloss: 0.976419\n",
            "[166]\ttrain's multi_logloss: 0.736723\tval's multi_logloss: 0.975589\n",
            "[167]\ttrain's multi_logloss: 0.73461\tval's multi_logloss: 0.974616\n",
            "[168]\ttrain's multi_logloss: 0.732517\tval's multi_logloss: 0.973748\n",
            "[169]\ttrain's multi_logloss: 0.730424\tval's multi_logloss: 0.972768\n",
            "[170]\ttrain's multi_logloss: 0.728361\tval's multi_logloss: 0.972045\n",
            "[170]\ttrain's multi_logloss: 0.728361\tval's multi_logloss: 0.972045\n",
            "[171]\ttrain's multi_logloss: 0.726346\tval's multi_logloss: 0.971153\n",
            "[172]\ttrain's multi_logloss: 0.724357\tval's multi_logloss: 0.970428\n",
            "[173]\ttrain's multi_logloss: 0.722293\tval's multi_logloss: 0.969557\n",
            "[174]\ttrain's multi_logloss: 0.720316\tval's multi_logloss: 0.968826\n",
            "[175]\ttrain's multi_logloss: 0.718323\tval's multi_logloss: 0.968034\n",
            "[176]\ttrain's multi_logloss: 0.716289\tval's multi_logloss: 0.967287\n",
            "[177]\ttrain's multi_logloss: 0.714367\tval's multi_logloss: 0.966521\n",
            "[178]\ttrain's multi_logloss: 0.712443\tval's multi_logloss: 0.965713\n",
            "[179]\ttrain's multi_logloss: 0.710503\tval's multi_logloss: 0.964914\n",
            "[180]\ttrain's multi_logloss: 0.708572\tval's multi_logloss: 0.964067\n",
            "[180]\ttrain's multi_logloss: 0.708572\tval's multi_logloss: 0.964067\n",
            "[181]\ttrain's multi_logloss: 0.706642\tval's multi_logloss: 0.963258\n",
            "[182]\ttrain's multi_logloss: 0.704721\tval's multi_logloss: 0.962412\n",
            "[183]\ttrain's multi_logloss: 0.702788\tval's multi_logloss: 0.961808\n",
            "[184]\ttrain's multi_logloss: 0.700932\tval's multi_logloss: 0.9612\n",
            "[185]\ttrain's multi_logloss: 0.699031\tval's multi_logloss: 0.960536\n",
            "[186]\ttrain's multi_logloss: 0.697174\tval's multi_logloss: 0.959753\n",
            "[187]\ttrain's multi_logloss: 0.695292\tval's multi_logloss: 0.959066\n",
            "[188]\ttrain's multi_logloss: 0.693458\tval's multi_logloss: 0.958496\n",
            "[189]\ttrain's multi_logloss: 0.691622\tval's multi_logloss: 0.957728\n",
            "[190]\ttrain's multi_logloss: 0.689776\tval's multi_logloss: 0.957072\n",
            "[190]\ttrain's multi_logloss: 0.689776\tval's multi_logloss: 0.957072\n",
            "[191]\ttrain's multi_logloss: 0.687986\tval's multi_logloss: 0.956552\n",
            "[192]\ttrain's multi_logloss: 0.686167\tval's multi_logloss: 0.955752\n",
            "[193]\ttrain's multi_logloss: 0.684343\tval's multi_logloss: 0.955003\n",
            "[194]\ttrain's multi_logloss: 0.682517\tval's multi_logloss: 0.954406\n",
            "[195]\ttrain's multi_logloss: 0.680769\tval's multi_logloss: 0.953866\n",
            "[196]\ttrain's multi_logloss: 0.67893\tval's multi_logloss: 0.953118\n",
            "[197]\ttrain's multi_logloss: 0.677141\tval's multi_logloss: 0.952519\n",
            "[198]\ttrain's multi_logloss: 0.675302\tval's multi_logloss: 0.951841\n",
            "[199]\ttrain's multi_logloss: 0.673528\tval's multi_logloss: 0.951158\n",
            "[200]\ttrain's multi_logloss: 0.671733\tval's multi_logloss: 0.95049\n",
            "[200]\ttrain's multi_logloss: 0.671733\tval's multi_logloss: 0.95049\n",
            "Train accuracy is: 0.844\n",
            "Validation accuracy is: 0.634\n",
            "Test accuracy is: 0.612\n"
          ]
        }
      ],
      "source": [
        "# Params set after playing with them a little bit\n",
        "lgb_params = {\n",
        "    \"boosting_type\": \"gbdt\",\n",
        "    \"objective\": \"multiclass\",\n",
        "    \"metric\": \"multi_logloss\",\n",
        "    \"learning_rate\": 0.01,\n",
        "    \"num_leaves\": 31,\n",
        "    \"random_state\": 42,\n",
        "    \"n_estimators\": 200,\n",
        "}\n",
        "\n",
        "clf_tfidf = lgb.LGBMClassifier(**lgb_params)\n",
        "\n",
        "\n",
        "clf_tfidf = clf_tfidf.fit(\n",
        "    X_train_tfidf_w2v,\n",
        "    y_train,\n",
        "    eval_set=[(X_train_tfidf_w2v, y_train), (X_val_tfidf_w2v, y_val)],\n",
        "    eval_names=[\"train\", \"val\"],\n",
        "    eval_metric=\"multi_logloss\",\n",
        "    early_stopping_rounds=20,\n",
        "    callbacks=[log_evaluation(1)],\n",
        "    verbose=10,\n",
        ")\n",
        "\n",
        "print(f\"Train accuracy is: {clf_tfidf.score(X_train_tfidf_w2v, y_train):.3f}\")\n",
        "print(f\"Validation accuracy is: {clf_tfidf.score(X_val_tfidf_w2v, y_val):.3f}\")\n",
        "print(f\"Test accuracy is: {clf_tfidf.score(X_test_tfidf_w2v, y_test):.3f}\")"
      ]
    },
    {
      "cell_type": "markdown",
      "metadata": {
        "id": "akOFS4dIe9XT"
      },
      "source": [
        "We can see the big change when using the average vectors (which yielded poor results) vs. using weighted vectors with tf-idf (which got the highest results even compared to BoW)!"
      ]
    },
    {
      "cell_type": "markdown",
      "metadata": {
        "id": "U3D2auSWdfHg"
      },
      "source": [
        "### Text classification using ConvNet\n",
        "Do the same, using a ConvNet.  \n",
        "The ConvNet should get as input a 2D matrix where each column is an embedding vector of a single word, and words are in order. Use zero padding so that all matrices have a similar length.  \n",
        "Some songs might be very long. Trim them so you keep a maximum of 128 words (after cleaning stop words and rare words).  \n",
        "Initialize the embedding layer using the word vectors that you've trained before, but allow them to change during training.  \n",
        "\n",
        "Extra: Try training the ConvNet with 2 slight modifications:\n",
        "1. freezing the the weights trained using Word2vec (preventing it from updating)\n",
        "1. random initialization of the embedding layer"
      ]
    },
    {
      "cell_type": "markdown",
      "metadata": {
        "id": "2yDvP9hYdfHg"
      },
      "source": [
        "You are encouraged to try to answer this question without using papers or code examples.  \n",
        "\n",
        "You might prefer to get ideas from the paper \"Convolutional Neural Networks for Sentence Classification\" (Kim 2014, [link](https://arxiv.org/abs/1408.5882)).\n",
        "\n",
        "There are several implementations of the paper's code in PyTorch online (see for example [this repo](https://github.com/prakashpandey9/Text-Classification-Pytorch) for a PyTorch implementation of CNN and other architectures for text classification). If you get stuck, they might point you in the right direction for your own code solution."
      ]
    },
    {
      "cell_type": "code",
      "execution_count": null,
      "metadata": {
        "executionInfo": {
          "elapsed": 316,
          "status": "ok",
          "timestamp": 1651828092873,
          "user": {
            "displayName": "Asaf Dahan",
            "userId": "05572133538735955476"
          },
          "user_tz": -180
        },
        "id": "_dp3uMKTe9XU"
      },
      "outputs": [],
      "source": [
        "model_word2vec = model_ct10\n",
        "vector_size = model_word2vec.vector_size\n",
        "\n",
        "idx2cls = {0: \"Pop\", 1: \"Hip-Hop\", 2: \"Rock\", 3: \"Country\", 4: \"Metal\"}\n",
        "cls2idx = {idx: cls for cls, idx in idx2cls.items()}\n",
        "\n",
        "MAX_WORDS = 128"
      ]
    },
    {
      "cell_type": "code",
      "execution_count": null,
      "metadata": {
        "colab": {
          "base_uri": "https://localhost:8080/"
        },
        "executionInfo": {
          "elapsed": 440,
          "status": "ok",
          "timestamp": 1651828094943,
          "user": {
            "displayName": "Asaf Dahan",
            "userId": "05572133538735955476"
          },
          "user_tz": -180
        },
        "id": "u2YU1xsRe9XU",
        "outputId": "fafc0643-223c-4183-ae43-e1614febf513"
      },
      "outputs": [
        {
          "data": {
            "text/plain": [
              "tensor([[-0.0736,  0.0073,  0.0961,  ..., -0.0864,  0.1289, -0.0786],\n",
              "        [-0.0156, -0.1519,  0.0381,  ...,  0.0376, -0.0793, -0.0502],\n",
              "        [ 0.0267, -0.0411, -0.0961,  ...,  0.0008, -0.0563, -0.0321],\n",
              "        ...,\n",
              "        [ 0.0044,  0.0899, -0.0292,  ..., -0.0192, -0.0447, -0.0749],\n",
              "        [-0.0070,  0.1621, -0.1151,  ...,  0.0053, -0.0494, -0.0248],\n",
              "        [ 0.0000,  0.0000,  0.0000,  ...,  0.0000,  0.0000,  0.0000]])"
            ]
          },
          "execution_count": 12,
          "metadata": {},
          "output_type": "execute_result"
        }
      ],
      "source": [
        "# create an embedding weights tensor with one additional value for Out of Vocabulary terms\n",
        "vocab = list(model_word2vec.wv.index_to_key)\n",
        "word2idx = {w: idx for idx, w in enumerate(vocab)}\n",
        "OOV_TOKEN = \"[OOV]\"\n",
        "OOV_IDX = len(vocab)\n",
        "word2idx[OOV_TOKEN] = OOV_IDX\n",
        "\n",
        "\n",
        "# Create initial embedding pretrained weights\n",
        "embedding_weights = torch.zeros(len(model_word2vec.wv.vectors) + 1, vector_size)\n",
        "embedding_weights[:-1] = torch.FloatTensor(model_word2vec.wv.vectors)\n",
        "embedding_weights[-1] = torch.zeros(\n",
        "    vector_size,\n",
        ")\n",
        "embedding_weights"
      ]
    },
    {
      "cell_type": "code",
      "execution_count": null,
      "metadata": {
        "executionInfo": {
          "elapsed": 2,
          "status": "ok",
          "timestamp": 1651828096728,
          "user": {
            "displayName": "Asaf Dahan",
            "userId": "05572133538735955476"
          },
          "user_tz": -180
        },
        "id": "sEmIybVle9XV"
      },
      "outputs": [],
      "source": [
        "pp_df[\"genre_enum\"] = pp_df[\"genre\"].map(cls2idx)\n",
        "pp_df.dropna(inplace=True)\n",
        "\n",
        "X = pp_df[\"sent_preprocessed\"].to_numpy()\n",
        "y = torch.from_numpy(pp_df[\"genre_enum\"].to_numpy())\n",
        "\n",
        "X_train, X_test, y_train, y_test = train_test_split(\n",
        "    X, y, test_size=0.2, random_state=42\n",
        ")  # 80% / 20% split\n"
      ]
    },
    {
      "cell_type": "code",
      "execution_count": null,
      "metadata": {
        "executionInfo": {
          "elapsed": 3,
          "status": "ok",
          "timestamp": 1651828096729,
          "user": {
            "displayName": "Asaf Dahan",
            "userId": "05572133538735955476"
          },
          "user_tz": -180
        },
        "id": "5zHlacJ8e9XV"
      },
      "outputs": [],
      "source": [
        "# Create a custom pytorch dataset\n",
        "class SongsDataset(Dataset):\n",
        "    def __init__(self, songs_lyrics_list, w2v_model, labels):\n",
        "        self.songs_lyrics_list = songs_lyrics_list\n",
        "        self.w2v_model = w2v_model\n",
        "        self.labels = labels\n",
        "\n",
        "    def embedd_lyrics(self, lyrics):\n",
        "        \"\"\"Emdedd the lyrics into a vector using the word2vec model\"\"\"\n",
        "        sent_vec = np.zeros((MAX_WORDS))\n",
        "        count_words = 0\n",
        "\n",
        "        for word in lyrics:\n",
        "            if word in vocab:\n",
        "                sent_vec[count_words] = word2idx[word]\n",
        "            else:\n",
        "                sent_vec[count_words] = word2idx[OOV_TOKEN]\n",
        "\n",
        "            count_words += 1\n",
        "            if count_words == MAX_WORDS:\n",
        "                break\n",
        "        sent_vec[count_words:] = word2idx[OOV_TOKEN]\n",
        "        return torch.from_numpy(sent_vec)\n",
        "\n",
        "    def __getitem__(self, item):\n",
        "        lyrics = self.songs_lyrics_list[item]\n",
        "        label = self.labels[item]\n",
        "        lyrics_tensor = self.embedd_lyrics(lyrics)\n",
        "        return lyrics_tensor, label\n",
        "\n",
        "    def __len__(self):\n",
        "        return len(self.songs_lyrics_list)\n",
        "\n",
        "\n",
        "train_dataset = SongsDataset(X_train, model_word2vec, y_train)\n",
        "test_dataset = SongsDataset(X_test, model_word2vec, y_test)"
      ]
    },
    {
      "cell_type": "code",
      "execution_count": null,
      "metadata": {
        "colab": {
          "base_uri": "https://localhost:8080/"
        },
        "executionInfo": {
          "elapsed": 393,
          "status": "ok",
          "timestamp": 1651828097556,
          "user": {
            "displayName": "Asaf Dahan",
            "userId": "05572133538735955476"
          },
          "user_tz": -180
        },
        "id": "PpKUldH3e9XV",
        "outputId": "c380ea62-419c-4679-daa4-1c80a60164da"
      },
      "outputs": [
        {
          "name": "stdout",
          "output_type": "stream",
          "text": [
            "dataset_sizes:  {'train': 39980, 'val': 9996}\n"
          ]
        }
      ],
      "source": [
        "dataloaders = {\n",
        "    \"train\": torch.utils.data.DataLoader(\n",
        "        train_dataset, batch_size=32, shuffle=True, num_workers=2\n",
        "    ),\n",
        "    \"val\": torch.utils.data.DataLoader(\n",
        "        test_dataset, batch_size=32, shuffle=False, num_workers=2\n",
        "    ),\n",
        "}\n",
        "\n",
        "dataset_sizes = {x: len(dataloaders[x].dataset) for x in [\"train\", \"val\"]}\n",
        "print(\"dataset_sizes: \", dataset_sizes)"
      ]
    },
    {
      "cell_type": "code",
      "execution_count": null,
      "metadata": {
        "executionInfo": {
          "elapsed": 3,
          "status": "ok",
          "timestamp": 1651828098791,
          "user": {
            "displayName": "Asaf Dahan",
            "userId": "05572133538735955476"
          },
          "user_tz": -180
        },
        "id": "VlFUDOqFe9XW"
      },
      "outputs": [],
      "source": [
        "class SongsCNNClassifier(nn.Module):\n",
        "    def __init__(\n",
        "        self, embedding_weights, kernel_sizes, dim, num_classes=5, to_freeze=False\n",
        "    ):\n",
        "        super(SongsCNNClassifier, self).__init__()\n",
        "\n",
        "        self.embedding = nn.Embedding.from_pretrained(\n",
        "            embedding_weights, freeze=to_freeze, padding_idx=0\n",
        "        )\n",
        "        self.conv_0 = nn.Conv2d(\n",
        "            in_channels=1, out_channels=64, kernel_size=(kernel_sizes[0], dim)\n",
        "        )\n",
        "        self.conv_1 = nn.Conv2d(\n",
        "            in_channels=1, out_channels=64, kernel_size=(kernel_sizes[1], dim)\n",
        "        )\n",
        "        self.conv_2 = nn.Conv2d(\n",
        "            in_channels=1, out_channels=64, kernel_size=(kernel_sizes[2], dim)\n",
        "        )\n",
        "        self.fc = nn.Linear(len(kernel_sizes) * 64, num_classes)\n",
        "\n",
        "        self.dropout = nn.Dropout(0.5)\n",
        "\n",
        "    def forward(self, text):\n",
        "        embedded = self.embedding(text)\n",
        "        embedded = embedded.unsqueeze(1)\n",
        "\n",
        "        conved_0 = F.relu(self.conv_0(embedded).squeeze(3))\n",
        "        conved_1 = F.relu(self.conv_1(embedded).squeeze(3))\n",
        "        conved_2 = F.relu(self.conv_2(embedded).squeeze(3))\n",
        "\n",
        "        pooled_0 = F.max_pool1d(conved_0, conved_0.shape[2]).squeeze(2)\n",
        "        pooled_1 = F.max_pool1d(conved_1, conved_1.shape[2]).squeeze(2)\n",
        "        pooled_2 = F.max_pool1d(conved_2, conved_2.shape[2]).squeeze(2)\n",
        "\n",
        "        cat_x = self.dropout(torch.cat((pooled_0, pooled_1, pooled_2), dim=1))\n",
        "        fc = self.fc(cat_x)\n",
        "        logits = F.softmax(fc, dim=1)\n",
        "\n",
        "        return logits"
      ]
    },
    {
      "cell_type": "code",
      "execution_count": null,
      "metadata": {
        "colab": {
          "base_uri": "https://localhost:8080/"
        },
        "executionInfo": {
          "elapsed": 14250,
          "status": "ok",
          "timestamp": 1651828114715,
          "user": {
            "displayName": "Asaf Dahan",
            "userId": "05572133538735955476"
          },
          "user_tz": -180
        },
        "id": "LAe9wx47e9XW",
        "outputId": "50eca563-c419-4b3c-807a-d2581a3c0ff7"
      },
      "outputs": [
        {
          "data": {
            "text/plain": [
              "SongsCNNClassifier(\n",
              "  (embedding): Embedding(18150, 300, padding_idx=0)\n",
              "  (conv_0): Conv2d(1, 64, kernel_size=(3, 300), stride=(1, 1))\n",
              "  (conv_1): Conv2d(1, 64, kernel_size=(4, 300), stride=(1, 1))\n",
              "  (conv_2): Conv2d(1, 64, kernel_size=(5, 300), stride=(1, 1))\n",
              "  (fc): Linear(in_features=192, out_features=5, bias=True)\n",
              "  (dropout): Dropout(p=0.5, inplace=False)\n",
              ")"
            ]
          },
          "execution_count": 17,
          "metadata": {},
          "output_type": "execute_result"
        }
      ],
      "source": [
        "# Generate the network\n",
        "device = \"cuda\" if torch.cuda.is_available() else \"cpu\"\n",
        "cnn_model = SongsCNNClassifier(\n",
        "    embedding_weights, kernel_sizes=[3, 4, 5], dim=300, num_classes=5, to_freeze=True\n",
        ").to(device)\n",
        "cnn_model"
      ]
    },
    {
      "cell_type": "code",
      "execution_count": 18,
      "metadata": {
        "colab": {
          "base_uri": "https://localhost:8080/",
          "height": 35
        },
        "executionInfo": {
          "elapsed": 6,
          "status": "ok",
          "timestamp": 1651828116115,
          "user": {
            "displayName": "Asaf Dahan",
            "userId": "05572133538735955476"
          },
          "user_tz": -180
        },
        "id": "Wvac1ixooKw6",
        "outputId": "07691982-6629-4c3d-91aa-47cdde550e9e"
      },
      "outputs": [
        {
          "data": {
            "application/vnd.google.colaboratory.intrinsic+json": {
              "type": "string"
            },
            "text/plain": [
              "'cuda'"
            ]
          },
          "execution_count": 18,
          "metadata": {},
          "output_type": "execute_result"
        }
      ],
      "source": [
        "device"
      ]
    },
    {
      "cell_type": "code",
      "execution_count": null,
      "metadata": {
        "executionInfo": {
          "elapsed": 1218,
          "status": "ok",
          "timestamp": 1651828119813,
          "user": {
            "displayName": "Asaf Dahan",
            "userId": "05572133538735955476"
          },
          "user_tz": -180
        },
        "id": "Y5z8n8OYe9XX"
      },
      "outputs": [],
      "source": [
        "# Training code - Pretty much the same from the previous tasks\n",
        "\n",
        "\n",
        "def train_model(model, dataloaders, criterion, optimizer, scheduler, num_epochs=25):\n",
        "    since = time.time()\n",
        "\n",
        "    # Init variables that will save info about the best model\n",
        "    best_model_wts = copy.deepcopy(model.state_dict())\n",
        "    best_acc = 0.0\n",
        "    results = {\"train_loss\": [], \"test_loss\": [], \"train_acc\": [], \"test_acc\": []}\n",
        "\n",
        "    for epoch in range(num_epochs):\n",
        "        print(\"Epoch {}/{}\".format(epoch, num_epochs - 1))\n",
        "        print(\"-\" * 10)\n",
        "\n",
        "        # Each epoch has a training and validation phase\n",
        "        for phase in [\"train\", \"val\"]:\n",
        "            if phase == \"train\":\n",
        "                # Set model to training mode.\n",
        "                model.train()\n",
        "            else:\n",
        "                # Set model to evaluate mode. In evaluate mode, we don't perform backprop and don't need to keep the gradients\n",
        "                model.eval()\n",
        "\n",
        "            running_loss = 0.0\n",
        "            running_corrects = 0\n",
        "\n",
        "            # Iterate over data\n",
        "            for inputs, labels in dataloaders[phase]:\n",
        "                # Prepare the inputs for GPU/CPU\n",
        "                inputs = inputs.long().to(device)\n",
        "                labels = labels.to(device)\n",
        "                # zero the parameter gradients\n",
        "                optimizer.zero_grad()\n",
        "\n",
        "                # ===== forward pass ======\n",
        "                with torch.set_grad_enabled(phase == \"train\"):\n",
        "                    # If we're in train mode, we'll track the gradients to allow back-propagation\n",
        "                    outputs = model(\n",
        "                        inputs\n",
        "                    )  # apply the model to the inputs. The output is the softmax probability of each class\n",
        "                    _, preds = torch.max(\n",
        "                        outputs, 1\n",
        "                    )  # the max probability from each row place\n",
        "                    loss = criterion(outputs, labels)\n",
        "\n",
        "                    # ==== backward pass + optimizer step ====\n",
        "                    # This runs only in the training phase\n",
        "                    if phase == \"train\":\n",
        "                        loss.backward()  # Perform a step in the opposite direction of the gradient\n",
        "                        optimizer.step()  # Adapt the optimizer\n",
        "\n",
        "                # Collect statistics\n",
        "                running_loss += loss.item() * inputs.size(0)\n",
        "                running_corrects += torch.sum(preds == labels.data)\n",
        "\n",
        "            epoch_loss = running_loss / dataset_sizes[phase]\n",
        "            epoch_acc = running_corrects.double() / dataset_sizes[phase]\n",
        "\n",
        "            if phase == \"train\":\n",
        "                # Adjust the learning rate based on the scheduler\n",
        "                scheduler.step()\n",
        "                results[\"train_loss\"].append(epoch_loss)\n",
        "                results[\"train_acc\"].append(epoch_acc.item())\n",
        "\n",
        "            else:\n",
        "                results[\"test_loss\"].append(epoch_loss)\n",
        "                results[\"test_acc\"].append(epoch_acc.item())\n",
        "\n",
        "            print(f\"{phase} Loss: {epoch_loss:.4f} Acc: {epoch_acc:.4f}\")\n",
        "\n",
        "            # Keep the results of the best model so far\n",
        "            if phase == \"val\" and epoch_acc > best_acc:\n",
        "                best_acc = epoch_acc\n",
        "                # deepcopy the model\n",
        "                best_model_wts = copy.deepcopy(model.state_dict())\n",
        "        print()\n",
        "\n",
        "    time_elapsed = time.time() - since\n",
        "    print(\n",
        "        f\"Training complete in {(time_elapsed // 60):.0f}m {(time_elapsed % 60):.0f}s\"\n",
        "    )\n",
        "    print(f\"Best val Acc: {best_acc:4f}\")\n",
        "\n",
        "    # load best model weights\n",
        "    model.load_state_dict(best_model_wts)\n",
        "    return model, results"
      ]
    },
    {
      "cell_type": "code",
      "execution_count": 20,
      "metadata": {
        "executionInfo": {
          "elapsed": 411,
          "status": "ok",
          "timestamp": 1651828121743,
          "user": {
            "displayName": "Asaf Dahan",
            "userId": "05572133538735955476"
          },
          "user_tz": -180
        },
        "id": "7q_f-b-ee9XX"
      },
      "outputs": [],
      "source": [
        "# Training preparation\n",
        "criterion = nn.CrossEntropyLoss()\n",
        "optimizer = optim.Adam(cnn_model.parameters(), lr=0.001)\n",
        "scheduler = lr_scheduler.StepLR(optimizer, step_size=7, gamma=0.1)\n",
        "num_epochs = 10"
      ]
    },
    {
      "cell_type": "code",
      "execution_count": null,
      "metadata": {
        "colab": {
          "base_uri": "https://localhost:8080/"
        },
        "executionInfo": {
          "elapsed": 1397,
          "status": "ok",
          "timestamp": 1651828125121,
          "user": {
            "displayName": "Asaf Dahan",
            "userId": "05572133538735955476"
          },
          "user_tz": -180
        },
        "id": "TiT47bU5dsyo",
        "outputId": "6a1a914d-ec76-4e54-a124-d2f72041fb5b"
      },
      "outputs": [
        {
          "data": {
            "text/plain": [
              "(torch.Size([32, 128]), torch.Size([32]))"
            ]
          },
          "execution_count": 21,
          "metadata": {},
          "output_type": "execute_result"
        }
      ],
      "source": [
        "# # Get a batch of training data - the data loader is a generator\n",
        "inputs, classes = next(iter(dataloaders[\"train\"]))\n",
        "inputs.shape, classes.shape"
      ]
    },
    {
      "cell_type": "code",
      "execution_count": null,
      "metadata": {
        "colab": {
          "base_uri": "https://localhost:8080/"
        },
        "executionInfo": {
          "elapsed": 1883270,
          "status": "ok",
          "timestamp": 1651830009872,
          "user": {
            "displayName": "Asaf Dahan",
            "userId": "05572133538735955476"
          },
          "user_tz": -180
        },
        "id": "pRn0KT90e9XY",
        "outputId": "480b69a4-f28f-4ef8-a7ef-16ee6243ab34"
      },
      "outputs": [
        {
          "name": "stdout",
          "output_type": "stream",
          "text": [
            "Epoch 0/9\n",
            "----------\n",
            "train Loss: 1.3596 Acc: 0.5425\n",
            "val Loss: 1.3044 Acc: 0.5998\n",
            "\n",
            "Epoch 1/9\n",
            "----------\n",
            "train Loss: 1.3059 Acc: 0.5948\n",
            "val Loss: 1.2909 Acc: 0.6067\n",
            "\n",
            "Epoch 2/9\n",
            "----------\n",
            "train Loss: 1.2873 Acc: 0.6135\n",
            "val Loss: 1.2852 Acc: 0.6098\n",
            "\n",
            "Epoch 3/9\n",
            "----------\n",
            "train Loss: 1.2754 Acc: 0.6272\n",
            "val Loss: 1.2817 Acc: 0.6158\n",
            "\n",
            "Epoch 4/9\n",
            "----------\n",
            "train Loss: 1.2609 Acc: 0.6425\n",
            "val Loss: 1.2796 Acc: 0.6185\n",
            "\n",
            "Epoch 5/9\n",
            "----------\n",
            "train Loss: 1.2521 Acc: 0.6515\n",
            "val Loss: 1.2770 Acc: 0.6187\n",
            "\n",
            "Epoch 6/9\n",
            "----------\n",
            "train Loss: 1.2413 Acc: 0.6632\n",
            "val Loss: 1.2780 Acc: 0.6194\n",
            "\n",
            "Epoch 7/9\n",
            "----------\n",
            "train Loss: 1.2265 Acc: 0.6819\n",
            "val Loss: 1.2746 Acc: 0.6221\n",
            "\n",
            "Epoch 8/9\n",
            "----------\n",
            "train Loss: 1.2225 Acc: 0.6863\n",
            "val Loss: 1.2743 Acc: 0.6218\n",
            "\n",
            "Epoch 9/9\n",
            "----------\n",
            "train Loss: 1.2198 Acc: 0.6898\n",
            "val Loss: 1.2738 Acc: 0.6220\n",
            "\n",
            "Training complete in 31m 23s\n",
            "Best val Acc: 0.622149\n"
          ]
        }
      ],
      "source": [
        "cnn_model, results = train_model(\n",
        "    cnn_model, dataloaders, criterion, optimizer, scheduler, num_epochs=num_epochs\n",
        ")"
      ]
    },
    {
      "cell_type": "code",
      "execution_count": null,
      "metadata": {
        "colab": {
          "base_uri": "https://localhost:8080/",
          "height": 281
        },
        "executionInfo": {
          "elapsed": 691,
          "status": "ok",
          "timestamp": 1651830010550,
          "user": {
            "displayName": "Asaf Dahan",
            "userId": "05572133538735955476"
          },
          "user_tz": -180
        },
        "id": "2OaMROIge9XY",
        "outputId": "0d3cb8dd-b130-48f6-8d65-13c48faf491b"
      },
      "outputs": [
        {
          "data": {
            "image/png": "[encoded data removed]",
            "text/plain": [
              "<Figure size 432x288 with 1 Axes>"
            ]
          },
          "metadata": {
            "needs_background": "light"
          },
          "output_type": "display_data"
        }
      ],
      "source": [
        "plt.plot(results[\"train_loss\"], label=\"Train\")\n",
        "plt.plot(results[\"test_loss\"], label=\"Validation\")\n",
        "plt.legend()\n",
        "plt.title(\"Loss - train vs. validation\")\n",
        "plt.show()"
      ]
    },
    {
      "cell_type": "code",
      "execution_count": null,
      "metadata": {
        "colab": {
          "base_uri": "https://localhost:8080/",
          "height": 281
        },
        "executionInfo": {
          "elapsed": 15,
          "status": "ok",
          "timestamp": 1651830010551,
          "user": {
            "displayName": "Asaf Dahan",
            "userId": "05572133538735955476"
          },
          "user_tz": -180
        },
        "id": "f2RjZ-M9e9XZ",
        "outputId": "d2014cdf-8304-4704-b0eb-c26b96fdd30d"
      },
      "outputs": [
        {
          "data": {
            "image/png": "[encoded data removed]",
            "text/plain": [
              "<Figure size 432x288 with 1 Axes>"
            ]
          },
          "metadata": {
            "needs_background": "light"
          },
          "output_type": "display_data"
        }
      ],
      "source": [
        "plt.plot(results[\"train_acc\"], label=\"Train\")\n",
        "plt.plot(results[\"test_acc\"], label=\"Validation\")\n",
        "plt.legend()\n",
        "plt.title(\"Accuracy - train vs. validation\")\n",
        "plt.show()"
      ]
    },
    {
      "cell_type": "code",
      "execution_count": null,
      "metadata": {
        "id": "MfviGN0XRXCR"
      },
      "outputs": [],
      "source": []
    }
  ],
  "metadata": {
    "accelerator": "GPU",
    "colab": {
      "collapsed_sections": [
        "bXBJuQIZdfHW",
        "_NZyDDQGdfHa",
        "KVaR7LDvdfHc",
        "Gjry6UHCdfHe",
        "wqwmnqmndfHf"
      ],
      "name": "H.W_8_word_embedding_assignment.ipynb",
      "provenance": []
    },
    "kernelspec": {
      "display_name": "Python 3",
      "language": "python",
      "name": "python3"
    },
    "language_info": {
      "codemirror_mode": {
        "name": "ipython",
        "version": 3
      },
      "file_extension": ".py",
      "mimetype": "text/x-python",
      "name": "python",
      "nbconvert_exporter": "python",
      "pygments_lexer": "ipython3",
      "version": "3.9.7"
    }
  },
  "nbformat": 4,
  "nbformat_minor": 0
}
