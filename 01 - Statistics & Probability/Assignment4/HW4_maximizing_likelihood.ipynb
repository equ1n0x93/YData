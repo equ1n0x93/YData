{
 "cells": [
  {
   "cell_type": "markdown",
   "metadata": {
    "id": "WrVN8MPyTvmm"
   },
   "source": [
    "In this homework, we'll try to fit different distributions to a single-variable dataset. "
   ]
  },
  {
   "cell_type": "markdown",
   "metadata": {
    "id": "Udo5bG3QD6pi"
   },
   "source": [
    "## Getting the data"
   ]
  },
  {
   "cell_type": "code",
   "execution_count": 1,
   "metadata": {
    "id": "Up6UP2wKPeOO"
   },
   "outputs": [],
   "source": [
    "%%capture\n",
    "!wget https://raw.githubusercontent.com/avidale/ps4ds2019/master/homework/week3/sample.csv"
   ]
  },
  {
   "cell_type": "code",
   "execution_count": 2,
   "metadata": {
    "id": "jBsNgcjpTKHJ"
   },
   "outputs": [],
   "source": [
    "import numpy as np\n",
    "import pandas as pd\n",
    "import scipy.optimize\n",
    "import scipy.stats\n",
    "import matplotlib.pyplot as plt\n",
    "%matplotlib inline"
   ]
  },
  {
   "cell_type": "markdown",
   "metadata": {
    "id": "OQb9nw3FVKz2"
   },
   "source": [
    "You can think of the data as long-term return rates of some assets. But, in fact, I just generated them. "
   ]
  },
  {
   "cell_type": "code",
   "execution_count": 3,
   "metadata": {
    "id": "fnthl7D9TQuB"
   },
   "outputs": [
    {
     "data": {
      "image/png": "[encoded data removed]",
      "text/plain": [
       "<Figure size 432x288 with 1 Axes>"
      ]
     },
     "metadata": {
      "needs_background": "light"
     },
     "output_type": "display_data"
    }
   ],
   "source": [
    "data = pd.read_csv('sample.csv')\n",
    "x = data['return'].sort_values()\n",
    "x.hist(bins=50);\n",
    "plt.xlabel('value of random variable $x$')\n",
    "plt.ylabel('density at $f(x)$')\n",
    "plt.title('Distribution of the dataset');"
   ]
  },
  {
   "cell_type": "markdown",
   "metadata": {
    "id": "ubNNsIisVoIY"
   },
   "source": [
    "Your goal today will be to find a formula for a distribution that matches our data well. "
   ]
  },
  {
   "cell_type": "markdown",
   "metadata": {
    "id": "7s5zudokEA7D"
   },
   "source": [
    "## Fitting a normal distribution"
   ]
  },
  {
   "cell_type": "markdown",
   "metadata": {
    "id": "GQYf_Of3TTor"
   },
   "source": [
    "Let's start by fitting a normal curve to our data."
   ]
  },
  {
   "cell_type": "code",
   "execution_count": 4,
   "metadata": {
    "id": "pz_RMrpJw768"
   },
   "outputs": [],
   "source": [
    "mean, sd = x.mean(), x.std()"
   ]
  },
  {
   "cell_type": "code",
   "execution_count": 5,
   "metadata": {
    "id": "HCkxR-l0xXZD"
   },
   "outputs": [],
   "source": [
    "normal = scipy.stats.norm(mean, sd)"
   ]
  },
  {
   "cell_type": "markdown",
   "metadata": {
    "id": "D0wJ9dZEzOSq"
   },
   "source": [
    "Let's compare normal density with the density of our original data. \n",
    "\n",
    "You see that they don't match very well. "
   ]
  },
  {
   "cell_type": "code",
   "execution_count": 6,
   "metadata": {
    "id": "nCmqI-TGykyn"
   },
   "outputs": [
    {
     "data": {
      "image/png": "[encoded data removed]",
      "text/plain": [
       "<Figure size 432x288 with 1 Axes>"
      ]
     },
     "metadata": {
      "needs_background": "light"
     },
     "output_type": "display_data"
    }
   ],
   "source": [
    "x.hist(bins=50, density=True)\n",
    "plt.plot(x, normal.pdf(x));"
   ]
  },
  {
   "cell_type": "markdown",
   "metadata": {
    "id": "JN4Brphnywag"
   },
   "source": [
    "How to evaluate goodness of match numerically? \n",
    "\n",
    "One way is to calculate log-likelihood - the sum of logarithms of densities of your model, evaluated at real data points. Or we can divide it by number of samples and report average log-likelihood instead. \n",
    "\n",
    "The better the model fits the data, the higher is this mean log-likelihood"
   ]
  },
  {
   "cell_type": "code",
   "execution_count": 7,
   "metadata": {
    "id": "up-W4ccKzmrF"
   },
   "outputs": [
    {
     "name": "stdout",
     "output_type": "stream",
     "text": [
      "ll: 0.38386212580624673\n"
     ]
    }
   ],
   "source": [
    "mean_log_likelihood = np.log(normal.pdf(x)).mean()\n",
    "print('ll:', mean_log_likelihood)"
   ]
  },
  {
   "cell_type": "markdown",
   "metadata": {
    "id": "84KfAN6G0ANF"
   },
   "source": [
    "Another way is to calculate CDF of your data and of your model at every point, and report the maximim absolute difference between them. This value is called Kolmogorov-Smirnov (KS) statistic. The smaller it is, the better your model matches the data. "
   ]
  },
  {
   "cell_type": "code",
   "execution_count": 8,
   "metadata": {
    "id": "3iyMK9RZ0ntv"
   },
   "outputs": [
    {
     "name": "stdout",
     "output_type": "stream",
     "text": [
      "ks: 0.07960519952425787\n"
     ]
    }
   ],
   "source": [
    "cdf_of_dataset_at_x = np.linspace(0, 1, num=len(x))\n",
    "cdf_of_model_at_x = normal.cdf(x)\n",
    "\n",
    "ks = max(np.abs(cdf_of_dataset_at_x - cdf_of_model_at_x))\n",
    "print('ks:', ks)"
   ]
  },
  {
   "cell_type": "markdown",
   "metadata": {
    "id": "46caGhCU0uJy"
   },
   "source": [
    "You see that the maximal error of our CDF is almost 8%. It seems not good, so let's fit a better model. \n",
    "\n",
    "But before this, let's do an experiment: deliberately calculate metrics for a bad model and make sure they deteriorate: mean LL decreases, and KS increases."
   ]
  },
  {
   "cell_type": "code",
   "execution_count": 9,
   "metadata": {
    "id": "P5gJDELU1Jti"
   },
   "outputs": [
    {
     "name": "stdout",
     "output_type": "stream",
     "text": [
      "ll: -1.0375257202721393\n",
      "ks: 0.563486933260456\n"
     ]
    }
   ],
   "source": [
    "inappropriate_normal = scipy.stats.norm(0, 1)\n",
    "print('ll:', np.log(inappropriate_normal.pdf(x)).mean())\n",
    "print('ks:', max(np.abs(cdf_of_dataset_at_x - inappropriate_normal.cdf(x))))"
   ]
  },
  {
   "cell_type": "markdown",
   "metadata": {
    "id": "e8zeY6Qd2QTn"
   },
   "source": [
    "## Fitting another distribution\n",
    "\n",
    "One very obvious problem with fitting normal distribution to our data is that it is symmetric, and the data are not. \n",
    "\n",
    "To tackle this problem (and to demonstrate maximum likelihood), let's try to fit the [Gumbel distribution](https://en.wikipedia.org/wiki/Gumbel_distribution) to our data. \n",
    "\n",
    "It has two parameters, $\\mu$ and $\\beta \\neq 0 $, which are related to the mode and standart deviation of the distribution, respectively. \n",
    "\n",
    "The CDF of Gumbel distribution is given by the formula\n",
    "\n",
    "$$ F(x) = e^{-e^{-(x-\\mu)/\\beta}} $$ "
   ]
  },
  {
   "cell_type": "markdown",
   "metadata": {
    "id": "PaMnbgYCIYjA"
   },
   "source": [
    "In the next cell, please code a function that takes a number(or vector) $x$ and parameters $\\mu$ and $\\beta$, and outputs a number (or vector) that corresponds to **density** of Gumbel functions with these parameters at $x$:"
   ]
  },
  {
   "cell_type": "code",
   "execution_count": 10,
   "metadata": {
    "id": "8csOaNonI2Yf"
   },
   "outputs": [],
   "source": [
    "def gumbel_cdf(x, mu, beta):\n",
    "    z = (x - mu) / beta\n",
    "    return np.exp(-np.exp(-z))\n",
    "\n",
    "def gumbel_density(x, mu, beta):\n",
    "    z = (x - mu) / beta\n",
    "    return np.exp(-1 *(z + np.exp(-1 * z))) / beta\n",
    "\n",
    "\n",
    "# this is a test that what you coded is really a PDF - at least, for some parameters\n",
    "bin_size = 0.01\n",
    "grid = np.arange(-1, 2, step=bin_size)\n",
    "mu = 0.5\n",
    "beta = 0.1\n",
    "grid_density = gumbel_density(grid, mu=mu, beta=beta)\n",
    "assert all(grid_density >= 0)\n",
    "assert abs(sum(grid_density * bin_size) - 1) < 0.01  # test that integral of density is 1\n",
    "assert abs(sum(grid_density * grid * bin_size) - (mu + beta * 0.57721)) < 0.01"
   ]
  },
  {
   "cell_type": "markdown",
   "metadata": {
    "id": "E2_CboXkKzcK"
   },
   "source": [
    "Let's plot Gumbel distribution for some (more or less arbitrary) parameters to look at its shape. Well, it's really asymmetric. "
   ]
  },
  {
   "cell_type": "code",
   "execution_count": 11,
   "metadata": {
    "id": "aGz74-oFJfzY"
   },
   "outputs": [
    {
     "data": {
      "image/png": "[encoded data removed]",
      "text/plain": [
       "<Figure size 432x288 with 1 Axes>"
      ]
     },
     "metadata": {
      "needs_background": "light"
     },
     "output_type": "display_data"
    }
   ],
   "source": [
    "plt.plot(x, gumbel_density(x, mu=0.5, beta=0.1));"
   ]
  },
  {
   "cell_type": "markdown",
   "metadata": {
    "id": "LF7gH514E3Ew"
   },
   "source": [
    "In the next cell, you need to write a function that takes a single vector $[\\mu, \\beta]$ and outputs the negative log-likelihood for our dataset $X$ (the dataset should be taken as a global variable):\n",
    "\n",
    "$$ NLL(\\mu, \\beta) = -\\sum_{i=1}^n \\ln{f(x_i | \\mu, \\beta)} $$ "
   ]
  },
  {
   "cell_type": "code",
   "execution_count": 12,
   "metadata": {
    "id": "nwEZHyaFGpKZ"
   },
   "outputs": [
    {
     "name": "stdout",
     "output_type": "stream",
     "text": [
      "1286.8559872278765\n"
     ]
    }
   ],
   "source": [
    "def negative_log_likelihood_gumbel(parameters):\n",
    "    mu = parameters[0]\n",
    "    beta = parameters[1]\n",
    "    # todo: evaluate the likelihood here\n",
    "    return np.negative(np.sum(np.log(gumbel_density(x, mu , beta))))\n",
    "\n",
    "print(negative_log_likelihood_gumbel([0, 0.5]))\n",
    "assert abs(negative_log_likelihood_gumbel([0, 0.5]) - 1286.856) < 0.01"
   ]
  },
  {
   "cell_type": "markdown",
   "metadata": {
    "id": "XUTP8mhQLjIz"
   },
   "source": [
    "Now let's use `scipy` built-in [optimization engine](https://docs.scipy.org/doc/scipy/reference/generated/scipy.optimize.minimize.html) to find the parameters that maximize the likelihood. \n",
    "\n",
    "Under the hood, it uses a second-order optimization algorithm, BFGS, which is something like gradient descent, but takes into account the second derivative as well. \n",
    "\n",
    "The result of optimization is an object that, among other things, contains a property `x`: the optimal parameters.  "
   ]
  },
  {
   "cell_type": "code",
   "execution_count": 13,
   "metadata": {
    "id": "696GrtYxHGVd"
   },
   "outputs": [
    {
     "name": "stdout",
     "output_type": "stream",
     "text": [
      "      fun: -884.4074871053813\n",
      " hess_inv: array([[8.91867832e-06, 2.14892535e-06],\n",
      "       [2.14892535e-06, 6.99425466e-06]])\n",
      "      jac: array([ 0.00000000e+00, -1.52587891e-05])\n",
      "  message: 'Desired error not necessarily achieved due to precision loss.'\n",
      "     nfev: 48\n",
      "      nit: 6\n",
      "     njev: 16\n",
      "   status: 2\n",
      "  success: False\n",
      "        x: array([0.38313534, 0.13615223])\n"
     ]
    }
   ],
   "source": [
    "result = scipy.optimize.minimize(negative_log_likelihood_gumbel, [0, 1])\n",
    "print(result)"
   ]
  },
  {
   "cell_type": "markdown",
   "metadata": {
    "id": "DRdzdn-kMiPo"
   },
   "source": [
    "When we plot our fitted Gumbel density against the dataset, it seems to match it better than normal."
   ]
  },
  {
   "cell_type": "code",
   "execution_count": 14,
   "metadata": {
    "id": "iX_ML2sHHmJn"
   },
   "outputs": [
    {
     "data": {
      "image/png": "[encoded data removed]",
      "text/plain": [
       "<Figure size 432x288 with 1 Axes>"
      ]
     },
     "metadata": {
      "needs_background": "light"
     },
     "output_type": "display_data"
    }
   ],
   "source": [
    "x.hist(density=True, bins=50)\n",
    "plt.plot(x, gumbel_density(x, *result.x));"
   ]
  },
  {
   "cell_type": "markdown",
   "metadata": {
    "id": "wcWQSVXaMgN-"
   },
   "source": [
    "We can actually numerically prove it by looking at the metrics. They both improve."
   ]
  },
  {
   "cell_type": "code",
   "execution_count": 15,
   "metadata": {
    "id": "KrIx9Yg1Ltee"
   },
   "outputs": [
    {
     "name": "stdout",
     "output_type": "stream",
     "text": [
      "ll: 0.44220374355269065\n",
      "ks: 0.032505744603244624\n"
     ]
    }
   ],
   "source": [
    "print('ll:', np.log(gumbel_density(x, *result.x)).mean())\n",
    "print('ks:', max(np.abs(cdf_of_dataset_at_x - gumbel_cdf(x, *result.x))))"
   ]
  },
  {
   "cell_type": "markdown",
   "metadata": {
    "id": "d5xoKET_MJfw"
   },
   "source": [
    "## Fitting a mixture\n",
    "\n",
    "Another fruitful idea is to represent an unknown distribution as a mixture (weighted average) of known distributions. \n",
    "\n",
    "A popular choice for both univariate and multivariate models is the gaussian mixture model - weighted average of normal distributions. In our case it seems appropriate: the histogram of the dataset looks like a sum of two normal curves with different means and values. \n",
    "\n",
    "For our distribution, we'll use a mixed density\n",
    "\n",
    "$$f(x) = p f_1(x) + (1-p) f_2(x)$$\n",
    "\n",
    "where $f_1(x)$ and $f_2(x)$ are normal densities with parameters $(\\mu_1, \\sigma_1^2)$ and $(\\mu_2, \\sigma_2^2)$ respectively."
   ]
  },
  {
   "cell_type": "code",
   "execution_count": 16,
   "metadata": {
    "id": "0qwdXA1AQ6NS"
   },
   "outputs": [],
   "source": [
    "def mixture_density(x, p, m1, s1, m2, s2):\n",
    "    # if parameters are incorrect, return a very small number\n",
    "    if p <= 0 or p >= 1 or s1 <= 0 or s2 <= 0:\n",
    "        return x * 0 + 1e-10\n",
    "    return scipy.stats.norm.pdf(x, m1, s1) * p + scipy.stats.norm.pdf(x, m2, s2) * (1 - p)\n",
    "\n",
    "def mixture_cdf(x, p, m1, s1, m2, s2):\n",
    "    # if parameters are incorrect, return a very small number\n",
    "    if p <= 0 or p >= 1 or s1 <= 0 or s2 <= 0:\n",
    "        return x * 0 + 1e-10\n",
    "    return scipy.stats.norm.cdf(x, m1, s1) * p + scipy.stats.norm.cdf(x, m2, s2) * (1 - p)"
   ]
  },
  {
   "cell_type": "markdown",
   "metadata": {
    "id": "8l3ILZWHTfNi"
   },
   "source": [
    "In the cell below, try to guess values of the parameters that make our mixture model to match the distribution of the dataset well. \n",
    "\n",
    "Try to get a KS score below 0.03."
   ]
  },
  {
   "cell_type": "code",
   "execution_count": 17,
   "metadata": {
    "id": "7DD0pPW_RTOC"
   },
   "outputs": [
    {
     "name": "stdout",
     "output_type": "stream",
     "text": [
      "ll: 0.45417772400308865\n",
      "ks: 0.026291032807483017\n"
     ]
    },
    {
     "data": {
      "image/png": "[encoded data removed]",
      "text/plain": [
       "<Figure size 432x288 with 1 Axes>"
      ]
     },
     "metadata": {
      "needs_background": "light"
     },
     "output_type": "display_data"
    }
   ],
   "source": [
    "# todo: change these parameters manually to make a good fit\n",
    "p = 0.322\n",
    "m1 = 0.338\n",
    "s1 = 0.05\n",
    "m2 = 0.51\n",
    "s2 = 0.17\n",
    "params = [p, m1, s1, m2, s2]\n",
    "\n",
    "x.hist(density=True, bins=50, color='lightblue')\n",
    "plt.plot(x, scipy.stats.norm.pdf(x, m1, s1) * p);\n",
    "plt.plot(x, scipy.stats.norm.pdf(x, m2, s2) * (1-p));\n",
    "plt.plot(x, mixture_density(x, *params))\n",
    "plt.legend(['f1', 'f2', 'mixture', 'data'])\n",
    "\n",
    "print('ll:', np.log(mixture_density(x, *params)).mean())\n",
    "print('ks:', max(np.abs(cdf_of_dataset_at_x - mixture_cdf(x, *params))))"
   ]
  },
  {
   "cell_type": "markdown",
   "metadata": {
    "id": "VOTaNg5vT-bo"
   },
   "source": [
    "Now, instead of maximizing likelihood by guess, let's again use the optimization engine. "
   ]
  },
  {
   "cell_type": "code",
   "execution_count": 18,
   "metadata": {
    "id": "MwkXr51JTBqo"
   },
   "outputs": [],
   "source": [
    "def negative_log_likelihood_mixture(params):\n",
    "    return -sum(np.log(mixture_density(x, *params)))"
   ]
  },
  {
   "cell_type": "markdown",
   "metadata": {
    "id": "VPehUXtSUF8n"
   },
   "source": [
    "In the cell below, save into the `result` variable the result of optimizing "
   ]
  },
  {
   "cell_type": "code",
   "execution_count": 19,
   "metadata": {
    "id": "ybyIHmYaSS90"
   },
   "outputs": [
    {
     "name": "stdout",
     "output_type": "stream",
     "text": [
      "      fun: -910.0520089339444\n",
      " hess_inv: array([[ 1.55500425e-04, -2.46848421e-05,  1.36434944e-06,\n",
      "         8.43993657e-06, -2.13815623e-06],\n",
      "       [-2.46848421e-05,  8.15276001e-06,  4.08193302e-08,\n",
      "        -8.56058440e-06,  3.59758626e-06],\n",
      "       [ 1.36434944e-06,  4.08193302e-08,  7.90692325e-06,\n",
      "        -5.33445068e-07,  3.21292004e-07],\n",
      "       [ 8.43993657e-06, -8.56058440e-06, -5.33445068e-07,\n",
      "         2.26758516e-05, -2.64368963e-06],\n",
      "       [-2.13815623e-06,  3.59758626e-06,  3.21292004e-07,\n",
      "        -2.64368963e-06,  1.13633824e-05]])\n",
      "      jac: array([ 7.62939453e-05,  1.52587891e-04, -2.74658203e-04,  6.10351562e-05,\n",
      "       -1.14440918e-04])\n",
      "  message: 'Desired error not necessarily achieved due to precision loss.'\n",
      "     nfev: 612\n",
      "      nit: 62\n",
      "     njev: 102\n",
      "   status: 2\n",
      "  success: False\n",
      "        x: array([0.32266765, 0.33878803, 0.05464917, 0.51517575, 0.16927227])\n"
     ]
    }
   ],
   "source": [
    "# todo: save into this variable the result of numerical optimization of the mixture model\n",
    "result = scipy.optimize.minimize(negative_log_likelihood_mixture, [0.5,0.5,0.5,0.5, 0.5])\n",
    "print(result)"
   ]
  },
  {
   "cell_type": "markdown",
   "metadata": {
    "id": "vCa0DiYQUyMD"
   },
   "source": [
    "You see that scipy makes a really good job at maximizing log likelihood (KS statistic may, in fact, be slightly worse than the result of manual fitting - because scipy didn't optimize it at all). \n"
   ]
  },
  {
   "cell_type": "code",
   "execution_count": 20,
   "metadata": {
    "id": "3gSNyyukTMdX"
   },
   "outputs": [
    {
     "name": "stdout",
     "output_type": "stream",
     "text": [
      "ll: 0.4550260044669724\n",
      "ks: 0.025600219771254373\n"
     ]
    },
    {
     "data": {
      "image/png": "[encoded data removed]",
      "text/plain": [
       "<Figure size 432x288 with 1 Axes>"
      ]
     },
     "metadata": {
      "needs_background": "light"
     },
     "output_type": "display_data"
    }
   ],
   "source": [
    "x.hist(density=True, bins=50)\n",
    "plt.plot(x, mixture_density(x, *result.x));\n",
    "print('ll:', np.log(mixture_density(x, *result.x)).mean())\n",
    "print('ks:', max(np.abs(cdf_of_dataset_at_x - mixture_cdf(x, *result.x))))"
   ]
  },
  {
   "cell_type": "markdown",
   "metadata": {
    "id": "-X6xybUTTTGv"
   },
   "source": []
  }
 ],
 "metadata": {
  "colab": {
   "collapsed_sections": [],
   "name": "maximizing_likelihood.ipynb",
   "provenance": []
  },
  "kernelspec": {
   "display_name": "Python 3 (ipykernel)",
   "language": "python",
   "name": "python3"
  },
  "language_info": {
   "codemirror_mode": {
    "name": "ipython",
    "version": 3
   },
   "file_extension": ".py",
   "mimetype": "text/x-python",
   "name": "python",
   "nbconvert_exporter": "python",
   "pygments_lexer": "ipython3",
   "version": "3.9.7"
  }
 },
 "nbformat": 4,
 "nbformat_minor": 1
}
